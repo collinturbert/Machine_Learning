{
 "cells": [
  {
   "cell_type": "markdown",
   "id": "1ea03633-8798-4fff-a635-608eee4c75d6",
   "metadata": {},
   "source": [
    "#### Question 10.1 - Part A\r\n",
    ">Using the same crime data set uscrime.txt as in Questions 8.2 and 9.1, find the best model you can using\r\n",
    "(a) a regression tree model, and (b) a random forest model.\r\n",
    "In R, you can use the tree package or the rpart package, and the randomForest package. For each model, describe one or two qualitative takeaways you get from analyzing the results (i.e., don’t just stop when you have a good model, but interpret it too)."
   ]
  },
  {
   "cell_type": "markdown",
   "id": "39e079f4-c435-4db8-8b2c-71b04970eaf6",
   "metadata": {},
   "source": [
    "To create the regression tree model I'll use the rpart package. For the random forest I'll use the randomForest package. I found this article helpful in understanding how to create the decision tree and random forest: https://quantdev.ssri.psu.edu/tutorials/introduction-classification-regression-trees.\n",
    "\n",
    "1) Explore the data to gain a better understanding of the dataset\n",
    "2) Normalize the data\n",
    "3) Look at correlation values\n",
    "4) Apply the PCA\n",
    "5) Determine optimal number of principal components\n",
    "6) Create new linear regression model in terms of the original variables\n",
    "7) Compare the new model to the solution from the previous homework"
   ]
  },
  {
   "cell_type": "markdown",
   "id": "07f13193-040e-4b8f-8131-d1838598a2d5",
   "metadata": {},
   "source": [
    "#### Step 1 - Explore the Data\n",
    "For this step I am going to visually inspect the data, get summary statistics to get a sense of the properties of the values in the data, and read about the data to understand what each value represents.  I'll start by loading the libraries I need for this analysis and loading the data."
   ]
  },
  {
   "cell_type": "code",
   "execution_count": 37,
   "id": "d64fb628-4adc-44b7-be94-810ad07f4f4c",
   "metadata": {},
   "outputs": [],
   "source": [
    "# Set seed so output is reproducible\n",
    "set.seed(123)\n",
    "\n",
    "# Load libraries needed for analysis\n",
    "library(ggplot2) # for plots\n",
    "library(dplyr) # includes pipeline operator\n",
    "library(rpart) # tree model\n",
    "library(rpart.plot) # visualizing the tree model\n",
    "library(rattle) # another way to visualize the tree model\n",
    "library(randomForest) # random forest model\n",
    "library(caret) # for performing cross-validation\n",
    "library(cowplot) # for creating grid of plots\n",
    "library(pROC) # creating ROC curves"
   ]
  },
  {
   "cell_type": "code",
   "execution_count": 2,
   "id": "d1cd2777-fb40-4268-82da-4b96b55d0c5e",
   "metadata": {},
   "outputs": [],
   "source": [
    "# Load the data\n",
    "crime_data <- read.table(\"uscrime.txt\", header = TRUE)"
   ]
  },
  {
   "cell_type": "code",
   "execution_count": 3,
   "id": "17613880-f47b-4b90-abc5-18d7bf7e3fef",
   "metadata": {},
   "outputs": [
    {
     "data": {
      "text/html": [
       "<table>\n",
       "<thead><tr><th scope=col>M</th><th scope=col>So</th><th scope=col>Ed</th><th scope=col>Po1</th><th scope=col>Po2</th><th scope=col>LF</th><th scope=col>M.F</th><th scope=col>Pop</th><th scope=col>NW</th><th scope=col>U1</th></tr></thead>\n",
       "<tbody>\n",
       "\t<tr><td>15.1 </td><td>1    </td><td> 9.1 </td><td> 5.8 </td><td> 5.6 </td><td>0.510</td><td> 95.0</td><td> 33  </td><td>30.1 </td><td>0.108</td></tr>\n",
       "\t<tr><td>14.3 </td><td>0    </td><td>11.3 </td><td>10.3 </td><td> 9.5 </td><td>0.583</td><td>101.2</td><td> 13  </td><td>10.2 </td><td>0.096</td></tr>\n",
       "\t<tr><td>14.2 </td><td>1    </td><td> 8.9 </td><td> 4.5 </td><td> 4.4 </td><td>0.533</td><td> 96.9</td><td> 18  </td><td>21.9 </td><td>0.094</td></tr>\n",
       "\t<tr><td>13.6 </td><td>0    </td><td>12.1 </td><td>14.9 </td><td>14.1 </td><td>0.577</td><td> 99.4</td><td>157  </td><td> 8.0 </td><td>0.102</td></tr>\n",
       "\t<tr><td>14.1 </td><td>0    </td><td>12.1 </td><td>10.9 </td><td>10.1 </td><td>0.591</td><td> 98.5</td><td> 18  </td><td> 3.0 </td><td>0.091</td></tr>\n",
       "\t<tr><td>12.1 </td><td>0    </td><td>11.0 </td><td>11.8 </td><td>11.5 </td><td>0.547</td><td> 96.4</td><td> 25  </td><td> 4.4 </td><td>0.084</td></tr>\n",
       "</tbody>\n",
       "</table>\n"
      ],
      "text/latex": [
       "\\begin{tabular}{r|llllllllll}\n",
       " M & So & Ed & Po1 & Po2 & LF & M.F & Pop & NW & U1\\\\\n",
       "\\hline\n",
       "\t 15.1  & 1     &  9.1  &  5.8  &  5.6  & 0.510 &  95.0 &  33   & 30.1  & 0.108\\\\\n",
       "\t 14.3  & 0     & 11.3  & 10.3  &  9.5  & 0.583 & 101.2 &  13   & 10.2  & 0.096\\\\\n",
       "\t 14.2  & 1     &  8.9  &  4.5  &  4.4  & 0.533 &  96.9 &  18   & 21.9  & 0.094\\\\\n",
       "\t 13.6  & 0     & 12.1  & 14.9  & 14.1  & 0.577 &  99.4 & 157   &  8.0  & 0.102\\\\\n",
       "\t 14.1  & 0     & 12.1  & 10.9  & 10.1  & 0.591 &  98.5 &  18   &  3.0  & 0.091\\\\\n",
       "\t 12.1  & 0     & 11.0  & 11.8  & 11.5  & 0.547 &  96.4 &  25   &  4.4  & 0.084\\\\\n",
       "\\end{tabular}\n"
      ],
      "text/markdown": [
       "\n",
       "| M | So | Ed | Po1 | Po2 | LF | M.F | Pop | NW | U1 |\n",
       "|---|---|---|---|---|---|---|---|---|---|\n",
       "| 15.1  | 1     |  9.1  |  5.8  |  5.6  | 0.510 |  95.0 |  33   | 30.1  | 0.108 |\n",
       "| 14.3  | 0     | 11.3  | 10.3  |  9.5  | 0.583 | 101.2 |  13   | 10.2  | 0.096 |\n",
       "| 14.2  | 1     |  8.9  |  4.5  |  4.4  | 0.533 |  96.9 |  18   | 21.9  | 0.094 |\n",
       "| 13.6  | 0     | 12.1  | 14.9  | 14.1  | 0.577 |  99.4 | 157   |  8.0  | 0.102 |\n",
       "| 14.1  | 0     | 12.1  | 10.9  | 10.1  | 0.591 |  98.5 |  18   |  3.0  | 0.091 |\n",
       "| 12.1  | 0     | 11.0  | 11.8  | 11.5  | 0.547 |  96.4 |  25   |  4.4  | 0.084 |\n",
       "\n"
      ],
      "text/plain": [
       "  M    So Ed   Po1  Po2  LF    M.F   Pop NW   U1   \n",
       "1 15.1 1   9.1  5.8  5.6 0.510  95.0  33 30.1 0.108\n",
       "2 14.3 0  11.3 10.3  9.5 0.583 101.2  13 10.2 0.096\n",
       "3 14.2 1   8.9  4.5  4.4 0.533  96.9  18 21.9 0.094\n",
       "4 13.6 0  12.1 14.9 14.1 0.577  99.4 157  8.0 0.102\n",
       "5 14.1 0  12.1 10.9 10.1 0.591  98.5  18  3.0 0.091\n",
       "6 12.1 0  11.0 11.8 11.5 0.547  96.4  25  4.4 0.084"
      ]
     },
     "metadata": {},
     "output_type": "display_data"
    },
    {
     "data": {
      "text/html": [
       "<table>\n",
       "<thead><tr><th scope=col>U2</th><th scope=col>Wealth</th><th scope=col>Ineq</th><th scope=col>Prob</th><th scope=col>Time</th><th scope=col>Crime</th></tr></thead>\n",
       "<tbody>\n",
       "\t<tr><td>4.1     </td><td>3940    </td><td>26.1    </td><td>0.084602</td><td>26.2011 </td><td> 791    </td></tr>\n",
       "\t<tr><td>3.6     </td><td>5570    </td><td>19.4    </td><td>0.029599</td><td>25.2999 </td><td>1635    </td></tr>\n",
       "\t<tr><td>3.3     </td><td>3180    </td><td>25.0    </td><td>0.083401</td><td>24.3006 </td><td> 578    </td></tr>\n",
       "\t<tr><td>3.9     </td><td>6730    </td><td>16.7    </td><td>0.015801</td><td>29.9012 </td><td>1969    </td></tr>\n",
       "\t<tr><td>2.0     </td><td>5780    </td><td>17.4    </td><td>0.041399</td><td>21.2998 </td><td>1234    </td></tr>\n",
       "\t<tr><td>2.9     </td><td>6890    </td><td>12.6    </td><td>0.034201</td><td>20.9995 </td><td> 682    </td></tr>\n",
       "</tbody>\n",
       "</table>\n"
      ],
      "text/latex": [
       "\\begin{tabular}{r|llllll}\n",
       " U2 & Wealth & Ineq & Prob & Time & Crime\\\\\n",
       "\\hline\n",
       "\t 4.1      & 3940     & 26.1     & 0.084602 & 26.2011  &  791    \\\\\n",
       "\t 3.6      & 5570     & 19.4     & 0.029599 & 25.2999  & 1635    \\\\\n",
       "\t 3.3      & 3180     & 25.0     & 0.083401 & 24.3006  &  578    \\\\\n",
       "\t 3.9      & 6730     & 16.7     & 0.015801 & 29.9012  & 1969    \\\\\n",
       "\t 2.0      & 5780     & 17.4     & 0.041399 & 21.2998  & 1234    \\\\\n",
       "\t 2.9      & 6890     & 12.6     & 0.034201 & 20.9995  &  682    \\\\\n",
       "\\end{tabular}\n"
      ],
      "text/markdown": [
       "\n",
       "| U2 | Wealth | Ineq | Prob | Time | Crime |\n",
       "|---|---|---|---|---|---|\n",
       "| 4.1      | 3940     | 26.1     | 0.084602 | 26.2011  |  791     |\n",
       "| 3.6      | 5570     | 19.4     | 0.029599 | 25.2999  | 1635     |\n",
       "| 3.3      | 3180     | 25.0     | 0.083401 | 24.3006  |  578     |\n",
       "| 3.9      | 6730     | 16.7     | 0.015801 | 29.9012  | 1969     |\n",
       "| 2.0      | 5780     | 17.4     | 0.041399 | 21.2998  | 1234     |\n",
       "| 2.9      | 6890     | 12.6     | 0.034201 | 20.9995  |  682     |\n",
       "\n"
      ],
      "text/plain": [
       "  U2  Wealth Ineq Prob     Time    Crime\n",
       "1 4.1 3940   26.1 0.084602 26.2011  791 \n",
       "2 3.6 5570   19.4 0.029599 25.2999 1635 \n",
       "3 3.3 3180   25.0 0.083401 24.3006  578 \n",
       "4 3.9 6730   16.7 0.015801 29.9012 1969 \n",
       "5 2.0 5780   17.4 0.041399 21.2998 1234 \n",
       "6 2.9 6890   12.6 0.034201 20.9995  682 "
      ]
     },
     "metadata": {},
     "output_type": "display_data"
    }
   ],
   "source": [
    "# Visually inspect the data, for this report I only printed the first few rows but inspected all of them\n",
    "head(crime_data[,1:10])\n",
    "head(crime_data[,11:16])"
   ]
  },
  {
   "cell_type": "markdown",
   "id": "605c3e9f-f77f-459c-875b-4c5ea9be0da7",
   "metadata": {},
   "source": [
    "I don't like the labels for some of the columns in the data as it is hard to understand what they represent just by their name. A description of the attributes taken from the website can be seen below. Next, I am going to rename my columns to match the descriptions a little better. I am also going to make a couple of tweaks to the data, I am going to turn the LF, M.F, U1, and Prob variables into percentages to match the M, NW, U2 and Ineq variables. It seems odd that the U2 variable would be as a percentage and the U1 variable is set as a ratio since they represent the same thing for different age groups. I also just want the consistency of having everything listed as a percentage. I will of course have to apply the same transformation to the values from the data point we are trying to predict or to the coefficients of the final model.\n",
    "\n",
    "    M:      percentage of males aged 14-24 in total state population\n",
    "    So:     indicator variable for Southern states (0 = No, 1 = Yes)\n",
    "    Ed:     mean years of schooling of the population aged 25 years or over\n",
    "    Po1:    per capita expenditure on police protection in 1960\n",
    "    Po2:    per capita expenditure on police protection in 1959\n",
    "    LF:     labor force participation rate of civilian urban males in the age-group 14-24\n",
    "    M.F:    number of males per 100 females\n",
    "    Pop:    state population size in hundred thousands\n",
    "    NW:     percentage of nonwhites in the population\n",
    "    U1:     unemployment rate of urban males 14-24\n",
    "    U2:     unemployment rate of urban males 35-39\n",
    "    Wealth: median value of transferable assets or family income\n",
    "    Ineq:   percentage of families earning below half the median income\n",
    "    Prob:   probability of imprisonment: ratio of number of commitments to number of offenses\n",
    "    Time:   average time in months served by offenders in state prisons before their first release\n",
    "    Crime:  number of offenses per 100,000 population in 1960"
   ]
  },
  {
   "cell_type": "code",
   "execution_count": 4,
   "id": "80fa8f04-9c08-488a-a11b-f87dbcff77d0",
   "metadata": {},
   "outputs": [
    {
     "data": {
      "text/plain": [
       " percent_young_male southern_state     average_ed    per_cap_exp_1960\n",
       " Min.   :11.90      Min.   :0.0000   Min.   : 8.70   Min.   : 4.50   \n",
       " 1st Qu.:13.00      1st Qu.:0.0000   1st Qu.: 9.75   1st Qu.: 6.25   \n",
       " Median :13.60      Median :0.0000   Median :10.80   Median : 7.80   \n",
       " Mean   :13.86      Mean   :0.3404   Mean   :10.56   Mean   : 8.50   \n",
       " 3rd Qu.:14.60      3rd Qu.:1.0000   3rd Qu.:11.45   3rd Qu.:10.45   \n",
       " Max.   :17.70      Max.   :1.0000   Max.   :12.20   Max.   :16.60   \n",
       " per_cap_exp_1959 laborforce_part  percent_male     population    \n",
       " Min.   : 4.100   Min.   :48.00   Min.   :48.29   Min.   :  3.00  \n",
       " 1st Qu.: 5.850   1st Qu.:53.05   1st Qu.:49.10   1st Qu.: 10.00  \n",
       " Median : 7.300   Median :56.00   Median :49.42   Median : 25.00  \n",
       " Mean   : 8.023   Mean   :56.12   Mean   :49.56   Mean   : 36.62  \n",
       " 3rd Qu.: 9.700   3rd Qu.:59.30   3rd Qu.:49.80   3rd Qu.: 41.50  \n",
       " Max.   :15.700   Max.   :64.10   Max.   :51.71   Max.   :168.00  \n",
       "    nonwhite      unemp_youth      unemp_adult    median_assets \n",
       " Min.   : 0.20   Min.   : 7.000   Min.   :2.000   Min.   :2880  \n",
       " 1st Qu.: 2.40   1st Qu.: 8.050   1st Qu.:2.750   1st Qu.:4595  \n",
       " Median : 7.60   Median : 9.200   Median :3.400   Median :5370  \n",
       " Mean   :10.11   Mean   : 9.547   Mean   :3.398   Mean   :5254  \n",
       " 3rd Qu.:13.25   3rd Qu.:10.400   3rd Qu.:3.850   3rd Qu.:5915  \n",
       " Max.   :42.30   Max.   :14.200   Max.   :5.800   Max.   :6890  \n",
       "   low_income    prob_imprisonment  time_served    crimes_per_million\n",
       " Min.   :12.60   Min.   : 0.690    Min.   :12.20   Min.   : 342.0    \n",
       " 1st Qu.:16.55   1st Qu.: 3.270    1st Qu.:21.60   1st Qu.: 658.5    \n",
       " Median :17.60   Median : 4.210    Median :25.80   Median : 831.0    \n",
       " Mean   :19.40   Mean   : 4.709    Mean   :26.60   Mean   : 905.1    \n",
       " 3rd Qu.:22.75   3rd Qu.: 5.445    3rd Qu.:30.45   3rd Qu.:1057.5    \n",
       " Max.   :27.60   Max.   :11.980    Max.   :44.00   Max.   :1993.0    "
      ]
     },
     "metadata": {},
     "output_type": "display_data"
    }
   ],
   "source": [
    "# Assign more meaningful variable names and update several values in the dataset (not necessary but it makes it easier for me to interpret)\n",
    "# %>% is a pipe operator that allows several operations (rename and mutate) to occur\n",
    "crime_data <- crime_data %>%\n",
    "  rename(percent_young_male = M,\n",
    "         southern_state = So,\n",
    "         average_ed = Ed,\n",
    "         per_cap_exp_1960 = Po1,\n",
    "         per_cap_exp_1959 = Po2,\n",
    "         laborforce_part = LF,\n",
    "         percent_male = M.F,\n",
    "         population = Pop,\n",
    "         nonwhite = NW,\n",
    "         unemp_youth = U1,\n",
    "         unemp_adult = U2,\n",
    "         median_assets = Wealth,\n",
    "         low_income = Ineq,\n",
    "         prob_imprisonment = Prob,\n",
    "         time_served = Time,\n",
    "         crimes_per_million = Crime) %>%\n",
    "  mutate(laborforce_part = laborforce_part * 100,\n",
    "         percent_male = (percent_male / (percent_male + 100)) * 100,\n",
    "         unemp_youth = unemp_youth * 100,\n",
    "         prob_imprisonment = prob_imprisonment * 100)\n",
    "\n",
    "# print summary of the transformed data\n",
    "summary(crime_data)"
   ]
  },
  {
   "attachments": {},
   "cell_type": "markdown",
   "id": "b12c2536-3c59-4c83-b444-ade982f1c239",
   "metadata": {},
   "source": [
    "Everyone should be pretty familar with the data at this point so I won't go much into explaining it."
   ]
  },
  {
   "cell_type": "markdown",
   "id": "c26943aa-bc3c-4f0c-9f46-92d89e3eac6f",
   "metadata": {},
   "source": [
    "#### Step 2 - Grow a Tree\n",
    "Now that the data is loaded I will grow the tree! I am using the rpart() package and since I am interested in a regression tree I will set the method to \"anova\". I also played with some of the control paramaters including setting the minimum number of observations in a node before a split is attempted (minsplit), how much each split must decrease the overall lack of fit (cp), and the maximum depth of any node of the final tree (maxdepth - root node is counted as depth 0). It was interesting to see how these parameters affected the final model. Since I want practice pruning the tree I chose parameters that created more terminal nodes than the base model did.\n",
    "\n",
    "Since the dataset is so small I didn't split it into training/testing data but will use cross-validation to analyze the model performance. This won't allow for an accurate errro estimation for the model but should give some insight into it's performance. More information about the rpart() function can be found here: https://www.rdocumentation.org/packages/rpart/versions/4.1.23/topics/rpart"
   ]
  },
  {
   "cell_type": "code",
   "execution_count": 5,
   "id": "0891834d-4687-4800-877d-e89c7f791161",
   "metadata": {},
   "outputs": [
    {
     "name": "stdout",
     "output_type": "stream",
     "text": [
      "The minimum number of points in each branch needs to be 3 to meet the 5% rule of thumb. \n",
      "\n",
      "Model without control parameters: \n"
     ]
    },
    {
     "data": {
      "text/plain": [
       "n= 47 \n",
       "\n",
       "node), split, n, deviance, yval\n",
       "      * denotes terminal node\n",
       "\n",
       "1) root 47 6880928.0  905.0851  \n",
       "  2) per_cap_exp_1960< 7.65 23  779243.5  669.6087  \n",
       "    4) population< 22.5 12  243811.0  550.5000 *\n",
       "    5) population>=22.5 11  179470.7  799.5455 *\n",
       "  3) per_cap_exp_1960>=7.65 24 3604162.0 1130.7500  \n",
       "    6) nonwhite< 7.65 10  557574.9  886.9000 *\n",
       "    7) nonwhite>=7.65 14 2027225.0 1304.9290 *"
      ]
     },
     "metadata": {},
     "output_type": "display_data"
    },
    {
     "name": "stdout",
     "output_type": "stream",
     "text": [
      "\n",
      "\n",
      " Model with control parameters: \n"
     ]
    },
    {
     "data": {
      "text/plain": [
       "n= 47 \n",
       "\n",
       "node), split, n, deviance, yval\n",
       "      * denotes terminal node\n",
       "\n",
       " 1) root 47 6880928.00  905.0851  \n",
       "   2) per_cap_exp_1960< 7.65 23  779243.50  669.6087  \n",
       "     4) population< 22.5 12  243811.00  550.5000  \n",
       "       8) average_ed< 11.65 9   58820.89  484.1111 *\n",
       "       9) average_ed>=11.65 3   26320.67  749.6667 *\n",
       "     5) population>=22.5 11  179470.70  799.5455 *\n",
       "   3) per_cap_exp_1960>=7.65 24 3604162.00 1130.7500  \n",
       "     6) nonwhite< 7.65 10  557574.90  886.9000  \n",
       "      12) percent_young_male< 13.05 6  109289.50  727.5000 *\n",
       "      13) percent_young_male>=13.05 4   67160.00 1126.0000 *\n",
       "     7) nonwhite>=7.65 14 2027225.00 1304.9290  \n",
       "      14) median_assets< 6470 11  707252.70 1148.4550  \n",
       "        28) prob_imprisonment>=4.10995 4   28226.00  898.0000 *\n",
       "        29) prob_imprisonment< 4.10995 7  284739.70 1291.5710 *\n",
       "      15) median_assets>=6470 3   63120.67 1878.6670 *"
      ]
     },
     "metadata": {},
     "output_type": "display_data"
    }
   ],
   "source": [
    "# minimum number of points for the 5% rule of thumb\n",
    "min_points <- ceiling(0.05 * nrow(crime_data))\n",
    "cat(\"The minimum number of points in each branch needs to be\", min_points, \"to meet the 5% rule of thumb.\", \"\\n\\n\")\n",
    "\n",
    "# Grow tree without control parameters for comparison\n",
    "crime_tree_default <- rpart(crimes_per_million ~ ., method = \"anova\", data = crime_data)\n",
    "cat(\"Model without control parameters:\", \"\\n\")\n",
    "crime_tree_default\n",
    "\n",
    "# Grow the final tree using the control parameters (only ended up using the minsplit character which has a default of 20, the default for cp is 0.01)\n",
    "crime_tree <- rpart(crimes_per_million ~ ., method = \"anova\", data = crime_data, control = rpart.control(minsplit = 9))\n",
    "cat(\"\\n\\n\",\"Model with control parameters:\", \"\\n\")\n",
    "crime_tree"
   ]
  },
  {
   "cell_type": "markdown",
   "id": "382dbea8-cad7-4323-ac8d-a111f953d2c2",
   "metadata": {},
   "source": [
    "Inspecting the models above, the biggest difference is that the branch for per_cap_exp_1960 >= 7.65 splits the nonwhite branches additional times, and the branch for per_cap_exp_1960 < 7.65 splits the population < 22.5 an additional time. The default value for minsplit is 20 so by reducing it to 9 it allowed the model to create several more branches. The minbucket paramater is set to a default of (minstplit/3) which means it is equal to 3. This ensures that each terminal node had at least 5% of the data in it. I suspect I will still end up pruning most of the additional branches since they have a very small number of datapoints (3, 7, 4, 4, 6, 11, 3, and 9) which likely means the model is overfitting the data, but I am going to use the model that was created with control parameters to get more experience pruning."
   ]
  },
  {
   "cell_type": "markdown",
   "id": "61ed5d78-df53-49fe-9825-944148d04cc3",
   "metadata": {},
   "source": [
    "#### Step 3 - Inspect the Tree\n",
    "Next I am going to inspect the tree using a variety of plots and outputs."
   ]
  },
  {
   "cell_type": "code",
   "execution_count": 6,
   "id": "bbae6213-4c79-416d-9f79-cbaf034fa4c8",
   "metadata": {},
   "outputs": [
    {
     "name": "stdout",
     "output_type": "stream",
     "text": [
      "Call:\n",
      "rpart(formula = crimes_per_million ~ ., data = crime_data, method = \"anova\", \n",
      "    control = rpart.control(minsplit = 9))\n",
      "  n= 47 \n",
      "\n",
      "          CP nsplit rel error   xerror      xstd\n",
      "1 0.36296293      0 1.0000000 1.062718 0.2641620\n",
      "2 0.16540024      1 0.6370371 1.131172 0.2744131\n",
      "3 0.05730143      3 0.3062366 1.292726 0.3268601\n",
      "4 0.05538867      4 0.2489352 1.152379 0.3190650\n",
      "5 0.05173165      5 0.1935465 1.178961 0.3179641\n",
      "6 0.02305931      6 0.1418148 1.172783 0.3249076\n",
      "7 0.01000000      7 0.1187555 1.146689 0.3351339\n",
      "\n",
      "Variable importance\n",
      "  per_cap_exp_1959      median_assets   per_cap_exp_1960  prob_imprisonment \n",
      "                15                 14                 14                 12 \n",
      "        low_income percent_young_male         average_ed           nonwhite \n",
      "                 8                  8                  8                  7 \n",
      "   laborforce_part        time_served         population     southern_state \n",
      "                 4                  4                  3                  1 \n",
      "       unemp_adult \n",
      "                 1 \n",
      "\n",
      "Node number 1: 47 observations,    complexity param=0.3629629\n",
      "  mean=905.0851, MSE=146402.7 \n",
      "  left son=2 (23 obs) right son=3 (24 obs)\n",
      "  Primary splits:\n",
      "      per_cap_exp_1960  < 7.65     to the left,  improve=0.3629629, (0 missing)\n",
      "      per_cap_exp_1959  < 7.2      to the left,  improve=0.3629629, (0 missing)\n",
      "      prob_imprisonment < 4.18485  to the right, improve=0.3217700, (0 missing)\n",
      "      median_assets     < 6470     to the left,  improve=0.2889992, (0 missing)\n",
      "      nonwhite          < 7.65     to the left,  improve=0.2356621, (0 missing)\n",
      "  Surrogate splits:\n",
      "      per_cap_exp_1959   < 7.2      to the left,  agree=1.000, adj=1.000, (0 split)\n",
      "      median_assets      < 5330     to the left,  agree=0.830, adj=0.652, (0 split)\n",
      "      prob_imprisonment  < 4.3598   to the right, agree=0.809, adj=0.609, (0 split)\n",
      "      percent_young_male < 13.25    to the right, agree=0.745, adj=0.478, (0 split)\n",
      "      low_income         < 17.15    to the right, agree=0.745, adj=0.478, (0 split)\n",
      "\n",
      "Node number 2: 23 observations,    complexity param=0.05173165\n",
      "  mean=669.6087, MSE=33880.15 \n",
      "  left son=4 (12 obs) right son=5 (11 obs)\n",
      "  Primary splits:\n",
      "      population         < 22.5     to the left,  improve=0.4568043, (0 missing)\n",
      "      percent_young_male < 14.5     to the left,  improve=0.3931567, (0 missing)\n",
      "      per_cap_exp_1960   < 5.65     to the left,  improve=0.3279971, (0 missing)\n",
      "      nonwhite           < 5.4      to the left,  improve=0.3184074, (0 missing)\n",
      "      unemp_youth        < 9.3      to the right, improve=0.2119062, (0 missing)\n",
      "  Surrogate splits:\n",
      "      nonwhite           < 5.4      to the left,  agree=0.826, adj=0.636, (0 split)\n",
      "      percent_young_male < 14.5     to the left,  agree=0.783, adj=0.545, (0 split)\n",
      "      time_served        < 22.30055 to the left,  agree=0.783, adj=0.545, (0 split)\n",
      "      southern_state     < 0.5      to the left,  agree=0.739, adj=0.455, (0 split)\n",
      "      average_ed         < 10.85    to the right, agree=0.739, adj=0.455, (0 split)\n",
      "\n",
      "Node number 3: 24 observations,    complexity param=0.1654002\n",
      "  mean=1130.75, MSE=150173.4 \n",
      "  left son=6 (10 obs) right son=7 (14 obs)\n",
      "  Primary splits:\n",
      "      nonwhite           < 7.65     to the left,  improve=0.2828293, (0 missing)\n",
      "      per_cap_exp_1960   < 13.85    to the left,  improve=0.2749163, (0 missing)\n",
      "      per_cap_exp_1959   < 13.45    to the left,  improve=0.2749163, (0 missing)\n",
      "      percent_young_male < 13.05    to the left,  improve=0.2714159, (0 missing)\n",
      "      median_assets      < 6470     to the left,  improve=0.2681920, (0 missing)\n",
      "  Surrogate splits:\n",
      "      average_ed      < 11.45    to the right, agree=0.750, adj=0.4, (0 split)\n",
      "      low_income      < 16.25    to the left,  agree=0.750, adj=0.4, (0 split)\n",
      "      time_served     < 21.9001  to the left,  agree=0.750, adj=0.4, (0 split)\n",
      "      population      < 30       to the left,  agree=0.708, adj=0.3, (0 split)\n",
      "      laborforce_part < 58.85    to the right, agree=0.667, adj=0.2, (0 split)\n",
      "\n",
      "Node number 4: 12 observations,    complexity param=0.02305931\n",
      "  mean=550.5, MSE=20317.58 \n",
      "  left son=8 (9 obs) right son=9 (3 obs)\n",
      "  Primary splits:\n",
      "      average_ed      < 11.65    to the left,  improve=0.6507887, (0 missing)\n",
      "      laborforce_part < 56.75    to the left,  improve=0.4820740, (0 missing)\n",
      "      population      < 6.5      to the left,  improve=0.2836993, (0 missing)\n",
      "      percent_male    < 49.1999  to the left,  improve=0.2765093, (0 missing)\n",
      "      median_assets   < 5075     to the left,  improve=0.2327433, (0 missing)\n",
      "  Surrogate splits:\n",
      "      per_cap_exp_1960 < 7        to the left,  agree=0.917, adj=0.667, (0 split)\n",
      "      median_assets    < 5075     to the left,  agree=0.917, adj=0.667, (0 split)\n",
      "      per_cap_exp_1959 < 5.9      to the left,  agree=0.833, adj=0.333, (0 split)\n",
      "      laborforce_part  < 56.75    to the left,  agree=0.833, adj=0.333, (0 split)\n",
      "      percent_male     < 49.62215 to the left,  agree=0.833, adj=0.333, (0 split)\n",
      "\n",
      "Node number 5: 11 observations\n",
      "  mean=799.5455, MSE=16315.52 \n",
      "\n",
      "Node number 6: 10 observations,    complexity param=0.05538867\n",
      "  mean=886.9, MSE=55757.49 \n",
      "  left son=12 (6 obs) right son=13 (4 obs)\n",
      "  Primary splits:\n",
      "      percent_young_male < 13.05    to the left,  improve=0.6835412, (0 missing)\n",
      "      population         < 34.5     to the right, improve=0.4800125, (0 missing)\n",
      "      unemp_youth        < 8.55     to the left,  improve=0.4435949, (0 missing)\n",
      "      median_assets      < 5830     to the right, improve=0.2508664, (0 missing)\n",
      "      time_served        < 21.14965 to the left,  improve=0.2183925, (0 missing)\n",
      "  Surrogate splits:\n",
      "      median_assets    < 5655     to the right, agree=0.8, adj=0.50, (0 split)\n",
      "      low_income       < 17.25    to the left,  agree=0.8, adj=0.50, (0 split)\n",
      "      average_ed       < 11.95    to the left,  agree=0.7, adj=0.25, (0 split)\n",
      "      per_cap_exp_1960 < 9.6      to the right, agree=0.7, adj=0.25, (0 split)\n",
      "      laborforce_part  < 56.05    to the left,  agree=0.7, adj=0.25, (0 split)\n",
      "\n",
      "Node number 7: 14 observations,    complexity param=0.1654002\n",
      "  mean=1304.929, MSE=144801.8 \n",
      "  left son=14 (11 obs) right son=15 (3 obs)\n",
      "  Primary splits:\n",
      "      median_assets     < 6470     to the left,  improve=0.6199862, (0 missing)\n",
      "      average_ed        < 11.25    to the left,  improve=0.5922087, (0 missing)\n",
      "      prob_imprisonment < 4.1899   to the right, improve=0.4574277, (0 missing)\n",
      "      percent_male      < 49.73586 to the left,  improve=0.4382818, (0 missing)\n",
      "      per_cap_exp_1959  < 11.55    to the left,  improve=0.3676603, (0 missing)\n",
      "  Surrogate splits:\n",
      "      average_ed        < 11.7     to the left,  agree=0.929, adj=0.667, (0 split)\n",
      "      per_cap_exp_1959  < 11.55    to the left,  agree=0.929, adj=0.667, (0 split)\n",
      "      prob_imprisonment < 1.98005  to the right, agree=0.929, adj=0.667, (0 split)\n",
      "      per_cap_exp_1960  < 11.8     to the left,  agree=0.857, adj=0.333, (0 split)\n",
      "      laborforce_part   < 57.4     to the left,  agree=0.857, adj=0.333, (0 split)\n",
      "\n",
      "Node number 8: 9 observations\n",
      "  mean=484.1111, MSE=6535.654 \n",
      "\n",
      "Node number 9: 3 observations\n",
      "  mean=749.6667, MSE=8773.556 \n",
      "\n",
      "Node number 12: 6 observations\n",
      "  mean=727.5, MSE=18214.92 \n",
      "\n",
      "Node number 13: 4 observations\n",
      "  mean=1126, MSE=16790 \n",
      "\n",
      "Node number 14: 11 observations,    complexity param=0.05730143\n",
      "  mean=1148.455, MSE=64295.7 \n",
      "  left son=28 (4 obs) right son=29 (7 obs)\n",
      "  Primary splits:\n",
      "      prob_imprisonment < 4.10995  to the right, improve=0.5574910, (0 missing)\n",
      "      low_income        < 18.1     to the left,  improve=0.3556670, (0 missing)\n",
      "      median_assets     < 5870     to the right, improve=0.3556670, (0 missing)\n",
      "      laborforce_part   < 53.95    to the left,  improve=0.2822393, (0 missing)\n",
      "      unemp_adult       < 3.7      to the right, improve=0.2767233, (0 missing)\n",
      "  Surrogate splits:\n",
      "      laborforce_part < 52       to the left,  agree=0.818, adj=0.50, (0 split)\n",
      "      nonwhite        < 13.25    to the right, agree=0.818, adj=0.50, (0 split)\n",
      "      unemp_adult     < 3.7      to the right, agree=0.818, adj=0.50, (0 split)\n",
      "      time_served     < 22.64905 to the left,  agree=0.818, adj=0.50, (0 split)\n",
      "      southern_state  < 0.5      to the right, agree=0.727, adj=0.25, (0 split)\n",
      "\n",
      "Node number 15: 3 observations\n",
      "  mean=1878.667, MSE=21040.22 \n",
      "\n",
      "Node number 28: 4 observations\n",
      "  mean=898, MSE=7056.5 \n",
      "\n",
      "Node number 29: 7 observations\n",
      "  mean=1291.571, MSE=40677.1 \n",
      "\n"
     ]
    }
   ],
   "source": [
    "# Get a detailed summary of the model\n",
    "summary(crime_tree)"
   ]
  },
  {
   "cell_type": "markdown",
   "id": "56922e92-a624-4522-b518-82305eaabe8d",
   "metadata": {},
   "source": [
    "One of the interesting observations looking at the variable importance is that the model splits on per_cap_exp_1960 and doesn't include per_cap_exp_1959 despite it being listed as being more important. It also doesn't use prob_imprisonment, low_income, percent_young_male, or average_ed despite those variables having higher importance than some of the variables listed. I believe this is largely due to colinearity between those variables and the variables that were selected. Multicollinearity doesn't impact the prediction performance of the model. This is fairly intuitive but I found a good explanation of the why here: https://medium.com/@manepriyanka48/multicollinearity-in-tree-based-models-b971292db140. \"If two features are corelated, any one of the feature will be selected for splitting based on score. So if one out of two is selected, the 2nd one will not be selected for next level of tree building as the variance or impurity is already explained by the 1st feature.\"\n",
    "\n",
    "Next, I am going to plot the tree. I found multiple ways to do this including using the built in rpart.plot() function. I'm going to use two of the \"fancier\" options from the rpart.plot and rattle libraries to see which produces a nicer plot."
   ]
  },
  {
   "cell_type": "code",
   "execution_count": 7,
   "id": "d62be316-9bc4-47fe-8ee6-11a26b28ab59",
   "metadata": {},
   "outputs": [
    {
     "data": {
      "image/png": "[encoded data removed]",
      "text/plain": [
       "plot without title"
      ]
     },
     "metadata": {},
     "output_type": "display_data"
    }
   ],
   "source": [
    "# Set the plot size\n",
    "options(repr.plot.width=7, repr.plot.height=5)\n",
    "\n",
    "# Plot the tree\n",
    "prp(crime_tree, type = 5, branch = 1, box.palette=c(\"green\", \"cyan\", \"red\"), split.cex = .75)"
   ]
  },
  {
   "cell_type": "code",
   "execution_count": 8,
   "id": "7c85e006-6cdc-420c-99e5-cb82b92d4413",
   "metadata": {},
   "outputs": [
    {
     "data": {
      "image/png": "[encoded data removed]",
      "text/plain": [
       "Plot with title \"\""
      ]
     },
     "metadata": {},
     "output_type": "display_data"
    }
   ],
   "source": [
    "# Set the plot size\n",
    "options(repr.plot.width=8, repr.plot.height=6)\n",
    "\n",
    "# Create the plot\n",
    "fancyRpartPlot(crime_tree)"
   ]
  },
  {
   "cell_type": "markdown",
   "id": "aa851ad3-a8cd-4dad-91d8-6b5a142593d0",
   "metadata": {},
   "source": [
    "I'll hold off on any qualitative takeaways from the plots until the end of the document but they both worked well. prp() has a ton of different options to create the plot exactly as you want it but both get the job done.\n",
    "\n",
    "Lastly, I am going to look at the cptable element of the crime_tree generated by rpart. The cptable provides a brief summary of the overall fit of the model. The table is printed from the smallest tree (no splits) to the largest tree. The “CP” column lists the values of the complexity parameter, the number of splits is listed under \"nsplit\", and the column \"xerror\" contains cross-validated classification error rates; the standard deviation of the cross-validation error rates are in the \"xstd\" column."
   ]
  },
  {
   "cell_type": "code",
   "execution_count": 9,
   "id": "fb75cd6f-5461-4e0a-aca9-df7f323760d4",
   "metadata": {},
   "outputs": [
    {
     "data": {
      "text/html": [
       "<table>\n",
       "<thead><tr><th scope=col>CP</th><th scope=col>nsplit</th><th scope=col>rel error</th><th scope=col>xerror</th><th scope=col>xstd</th></tr></thead>\n",
       "<tbody>\n",
       "\t<tr><td>0.36296293</td><td>0         </td><td>1.0000000 </td><td>1.062718  </td><td>0.2641620 </td></tr>\n",
       "\t<tr><td>0.16540024</td><td>1         </td><td>0.6370371 </td><td>1.131172  </td><td>0.2744131 </td></tr>\n",
       "\t<tr><td>0.05730143</td><td>3         </td><td>0.3062366 </td><td>1.292726  </td><td>0.3268601 </td></tr>\n",
       "\t<tr><td>0.05538867</td><td>4         </td><td>0.2489352 </td><td>1.152379  </td><td>0.3190650 </td></tr>\n",
       "\t<tr><td>0.05173165</td><td>5         </td><td>0.1935465 </td><td>1.178961  </td><td>0.3179641 </td></tr>\n",
       "\t<tr><td>0.02305931</td><td>6         </td><td>0.1418148 </td><td>1.172783  </td><td>0.3249076 </td></tr>\n",
       "\t<tr><td>0.01000000</td><td>7         </td><td>0.1187555 </td><td>1.146689  </td><td>0.3351339 </td></tr>\n",
       "</tbody>\n",
       "</table>\n"
      ],
      "text/latex": [
       "\\begin{tabular}{r|lllll}\n",
       " CP & nsplit & rel error & xerror & xstd\\\\\n",
       "\\hline\n",
       "\t 0.36296293 & 0          & 1.0000000  & 1.062718   & 0.2641620 \\\\\n",
       "\t 0.16540024 & 1          & 0.6370371  & 1.131172   & 0.2744131 \\\\\n",
       "\t 0.05730143 & 3          & 0.3062366  & 1.292726   & 0.3268601 \\\\\n",
       "\t 0.05538867 & 4          & 0.2489352  & 1.152379   & 0.3190650 \\\\\n",
       "\t 0.05173165 & 5          & 0.1935465  & 1.178961   & 0.3179641 \\\\\n",
       "\t 0.02305931 & 6          & 0.1418148  & 1.172783   & 0.3249076 \\\\\n",
       "\t 0.01000000 & 7          & 0.1187555  & 1.146689   & 0.3351339 \\\\\n",
       "\\end{tabular}\n"
      ],
      "text/markdown": [
       "\n",
       "| CP | nsplit | rel error | xerror | xstd |\n",
       "|---|---|---|---|---|\n",
       "| 0.36296293 | 0          | 1.0000000  | 1.062718   | 0.2641620  |\n",
       "| 0.16540024 | 1          | 0.6370371  | 1.131172   | 0.2744131  |\n",
       "| 0.05730143 | 3          | 0.3062366  | 1.292726   | 0.3268601  |\n",
       "| 0.05538867 | 4          | 0.2489352  | 1.152379   | 0.3190650  |\n",
       "| 0.05173165 | 5          | 0.1935465  | 1.178961   | 0.3179641  |\n",
       "| 0.02305931 | 6          | 0.1418148  | 1.172783   | 0.3249076  |\n",
       "| 0.01000000 | 7          | 0.1187555  | 1.146689   | 0.3351339  |\n",
       "\n"
      ],
      "text/plain": [
       "  CP         nsplit rel error xerror   xstd     \n",
       "1 0.36296293 0      1.0000000 1.062718 0.2641620\n",
       "2 0.16540024 1      0.6370371 1.131172 0.2744131\n",
       "3 0.05730143 3      0.3062366 1.292726 0.3268601\n",
       "4 0.05538867 4      0.2489352 1.152379 0.3190650\n",
       "5 0.05173165 5      0.1935465 1.178961 0.3179641\n",
       "6 0.02305931 6      0.1418148 1.172783 0.3249076\n",
       "7 0.01000000 7      0.1187555 1.146689 0.3351339"
      ]
     },
     "metadata": {},
     "output_type": "display_data"
    }
   ],
   "source": [
    "crime_tree$cptable"
   ]
  },
  {
   "cell_type": "markdown",
   "id": "b3c6e2f4-cbf9-4f8d-a871-96e90b1ac934",
   "metadata": {},
   "source": [
    "Normally, we select a tree size that minimizes the cross-validated error (xerror). That would actually mean pruning all of the branches and just being left with the root node... This is a pretty good indicator that the CART model isn't a good fit for this analysis."
   ]
  },
  {
   "cell_type": "markdown",
   "id": "d9ea4a0f-e350-4daf-8667-c3f65fa9a617",
   "metadata": {},
   "source": [
    "#### Step 4 - Prune the Tree\n",
    "Next I am going to prune the tree, since we used the entire set of data to train the model I can't calculate the estimation error to see if each branch increases error. Instead, I am going to prune the tree based on setting the cp threshold. To perform pruning, you normally choose a cp value that balances model complexity (number of splits) with predictive accuracy (xerror). The optimal cp value is typically chosen as the one associated with the smallest tree within one standard error of the minimum xerror, however this isn't possible since that value corresponds with the root node."
   ]
  },
  {
   "cell_type": "code",
   "execution_count": 10,
   "id": "ef9a7b23-081b-480c-89b0-d45f030355e1",
   "metadata": {},
   "outputs": [
    {
     "data": {
      "image/png": "[encoded data removed]",
      "text/plain": [
       "Plot with title \"\""
      ]
     },
     "metadata": {},
     "output_type": "display_data"
    }
   ],
   "source": [
    "pruned_crime_tree <- prune(crime_tree, cp = 0.0525)\n",
    "fancyRpartPlot(pruned_crime_tree)"
   ]
  },
  {
   "cell_type": "markdown",
   "id": "1ddc643b-72d1-4810-ae77-659185b2d236",
   "metadata": {},
   "source": [
    "#### Step 5 - Interpret the Results\n",
    "Now that I have the final model I am going to spend some time analyzing it's overall performance. I want to look at how accurately it predicted the crime rates both graphically and using the R^2 value with and without cross-validation. I'll start by plotting the predicted values vs. the actual values."
   ]
  },
  {
   "cell_type": "code",
   "execution_count": 11,
   "id": "62a50c00-f199-411b-bb09-69aee59bab0a",
   "metadata": {},
   "outputs": [
    {
     "data": {
      "image/png": "[encoded data removed]",
      "text/plain": [
       "plot without title"
      ]
     },
     "metadata": {},
     "output_type": "display_data"
    }
   ],
   "source": [
    "# Get predicted values from the model\n",
    "pred <- predict(pruned_crime_tree)\n",
    "\n",
    "# Plot the predicted values vs the actual values for crimes per million\n",
    "plot_data <- data.frame(Actual = crime_data$crimes_per_million, Predicted = pred)\n",
    "options(repr.plot.width=4, repr.plot.height=4)\n",
    "\n",
    "# Create a scatter plot\n",
    "ggplot(plot_data, aes(x = Actual, y = Predicted)) +\n",
    "    geom_point(color = \"blue\") +\n",
    "    geom_abline(intercept = 0, slope = 1, color = \"red\", linetype = \"dashed\") +  # Add a line of equality\n",
    "    labs(x = \"Actual Values\", y = \"Predicted Values\", title = \"Actual vs. Predicted Values\") +\n",
    "    xlim(0, 2000) +\n",
    "    ylim(0, 2000)"
   ]
  },
  {
   "cell_type": "markdown",
   "id": "d9a160d7-6b80-4cee-aaeb-365f5fe5f473",
   "metadata": {},
   "source": [
    "This graph shows how the different final values are distributed among the actual values. You can distinctly see the 6 different possible predicted values and the distribution of actual values they cover. Next I'll calculate the R-Squared value using the training data."
   ]
  },
  {
   "cell_type": "code",
   "execution_count": 12,
   "id": "14acecb5-acad-4f7c-825f-b1a778f03fcc",
   "metadata": {},
   "outputs": [
    {
     "name": "stdout",
     "output_type": "stream",
     "text": [
      "R-Squared value for the training data: 0.806 \n",
      "RMSE value for the training data: 168.3322"
     ]
    }
   ],
   "source": [
    "# Calculate the R-Squared and RMSE value\n",
    "SSR <- sum((pred - crime_data$crimes_per_million)^2)\n",
    "SST <- sum((crime_data$crimes_per_million - mean(crime_data$crimes_per_million))^2)\n",
    "R2 <- 1 - SSR/SST\n",
    "\n",
    "RMSE <- sqrt((SSR)/nrow(crime_data))\n",
    "cat('R-Squared value for the training data:', round(R2,3), '\\n')\n",
    "cat('RMSE value for the training data:', RMSE)"
   ]
  },
  {
   "cell_type": "markdown",
   "id": "f7937470-61a7-4424-906f-9a9069a4676c",
   "metadata": {},
   "source": [
    "This shows a reasonable fit for the training dataset, I suspect it is overfitting so next I'll use cross validation to calculate the R-Squared value again."
   ]
  },
  {
   "cell_type": "code",
   "execution_count": 13,
   "id": "81888f91-b8ba-4d13-99db-ed37dc90cfa8",
   "metadata": {},
   "outputs": [
    {
     "name": "stderr",
     "output_type": "stream",
     "text": [
      "Warning message in nominalTrainWorkflow(x = x, y = y, wts = weights, info = trainInfo, :\n",
      "\"There were missing values in resampled performance measures.\""
     ]
    },
    {
     "data": {
      "text/html": [
       "<table>\n",
       "<thead><tr><th scope=col>cp</th><th scope=col>RMSE</th><th scope=col>Rsquared</th><th scope=col>MAE</th><th scope=col>RMSESD</th><th scope=col>RsquaredSD</th><th scope=col>MAESD</th></tr></thead>\n",
       "<tbody>\n",
       "\t<tr><td>0.00000000</td><td>331.2935  </td><td>0.30233684</td><td>270.2860  </td><td>115.31931 </td><td>0.27902045</td><td>95.01692  </td></tr>\n",
       "\t<tr><td>0.04032921</td><td>331.0697  </td><td>0.30189365</td><td>273.3767  </td><td>115.02224 </td><td>0.27943322</td><td>99.56268  </td></tr>\n",
       "\t<tr><td>0.08065843</td><td>339.4182  </td><td>0.27995110</td><td>278.1480  </td><td>110.66839 </td><td>0.30112875</td><td>97.48590  </td></tr>\n",
       "\t<tr><td>0.12098764</td><td>347.2662  </td><td>0.21832683</td><td>282.2159  </td><td> 95.60076 </td><td>0.22825680</td><td>90.24611  </td></tr>\n",
       "\t<tr><td>0.16131686</td><td>344.5430  </td><td>0.22314361</td><td>273.8537  </td><td> 93.75588 </td><td>0.22508572</td><td>85.42627  </td></tr>\n",
       "\t<tr><td>0.20164607</td><td>344.5430  </td><td>0.22314361</td><td>273.8537  </td><td> 93.75588 </td><td>0.22508572</td><td>85.42627  </td></tr>\n",
       "\t<tr><td>0.24197529</td><td>344.5430  </td><td>0.22314361</td><td>273.8537  </td><td> 93.75588 </td><td>0.22508572</td><td>85.42627  </td></tr>\n",
       "\t<tr><td>0.28230450</td><td>344.5430  </td><td>0.22314361</td><td>273.8537  </td><td> 93.75588 </td><td>0.22508572</td><td>85.42627  </td></tr>\n",
       "\t<tr><td>0.32263372</td><td>366.6472  </td><td>0.13957395</td><td>290.9037  </td><td>111.38682 </td><td>0.14488680</td><td>92.09223  </td></tr>\n",
       "\t<tr><td>0.36296293</td><td>377.8427  </td><td>0.07093795</td><td>304.8309  </td><td> 92.17892 </td><td>0.05677036</td><td>69.12573  </td></tr>\n",
       "</tbody>\n",
       "</table>\n"
      ],
      "text/latex": [
       "\\begin{tabular}{r|lllllll}\n",
       " cp & RMSE & Rsquared & MAE & RMSESD & RsquaredSD & MAESD\\\\\n",
       "\\hline\n",
       "\t 0.00000000 & 331.2935   & 0.30233684 & 270.2860   & 115.31931  & 0.27902045 & 95.01692  \\\\\n",
       "\t 0.04032921 & 331.0697   & 0.30189365 & 273.3767   & 115.02224  & 0.27943322 & 99.56268  \\\\\n",
       "\t 0.08065843 & 339.4182   & 0.27995110 & 278.1480   & 110.66839  & 0.30112875 & 97.48590  \\\\\n",
       "\t 0.12098764 & 347.2662   & 0.21832683 & 282.2159   &  95.60076  & 0.22825680 & 90.24611  \\\\\n",
       "\t 0.16131686 & 344.5430   & 0.22314361 & 273.8537   &  93.75588  & 0.22508572 & 85.42627  \\\\\n",
       "\t 0.20164607 & 344.5430   & 0.22314361 & 273.8537   &  93.75588  & 0.22508572 & 85.42627  \\\\\n",
       "\t 0.24197529 & 344.5430   & 0.22314361 & 273.8537   &  93.75588  & 0.22508572 & 85.42627  \\\\\n",
       "\t 0.28230450 & 344.5430   & 0.22314361 & 273.8537   &  93.75588  & 0.22508572 & 85.42627  \\\\\n",
       "\t 0.32263372 & 366.6472   & 0.13957395 & 290.9037   & 111.38682  & 0.14488680 & 92.09223  \\\\\n",
       "\t 0.36296293 & 377.8427   & 0.07093795 & 304.8309   &  92.17892  & 0.05677036 & 69.12573  \\\\\n",
       "\\end{tabular}\n"
      ],
      "text/markdown": [
       "\n",
       "| cp | RMSE | Rsquared | MAE | RMSESD | RsquaredSD | MAESD |\n",
       "|---|---|---|---|---|---|---|\n",
       "| 0.00000000 | 331.2935   | 0.30233684 | 270.2860   | 115.31931  | 0.27902045 | 95.01692   |\n",
       "| 0.04032921 | 331.0697   | 0.30189365 | 273.3767   | 115.02224  | 0.27943322 | 99.56268   |\n",
       "| 0.08065843 | 339.4182   | 0.27995110 | 278.1480   | 110.66839  | 0.30112875 | 97.48590   |\n",
       "| 0.12098764 | 347.2662   | 0.21832683 | 282.2159   |  95.60076  | 0.22825680 | 90.24611   |\n",
       "| 0.16131686 | 344.5430   | 0.22314361 | 273.8537   |  93.75588  | 0.22508572 | 85.42627   |\n",
       "| 0.20164607 | 344.5430   | 0.22314361 | 273.8537   |  93.75588  | 0.22508572 | 85.42627   |\n",
       "| 0.24197529 | 344.5430   | 0.22314361 | 273.8537   |  93.75588  | 0.22508572 | 85.42627   |\n",
       "| 0.28230450 | 344.5430   | 0.22314361 | 273.8537   |  93.75588  | 0.22508572 | 85.42627   |\n",
       "| 0.32263372 | 366.6472   | 0.13957395 | 290.9037   | 111.38682  | 0.14488680 | 92.09223   |\n",
       "| 0.36296293 | 377.8427   | 0.07093795 | 304.8309   |  92.17892  | 0.05677036 | 69.12573   |\n",
       "\n"
      ],
      "text/plain": [
       "   cp         RMSE     Rsquared   MAE      RMSESD    RsquaredSD MAESD   \n",
       "1  0.00000000 331.2935 0.30233684 270.2860 115.31931 0.27902045 95.01692\n",
       "2  0.04032921 331.0697 0.30189365 273.3767 115.02224 0.27943322 99.56268\n",
       "3  0.08065843 339.4182 0.27995110 278.1480 110.66839 0.30112875 97.48590\n",
       "4  0.12098764 347.2662 0.21832683 282.2159  95.60076 0.22825680 90.24611\n",
       "5  0.16131686 344.5430 0.22314361 273.8537  93.75588 0.22508572 85.42627\n",
       "6  0.20164607 344.5430 0.22314361 273.8537  93.75588 0.22508572 85.42627\n",
       "7  0.24197529 344.5430 0.22314361 273.8537  93.75588 0.22508572 85.42627\n",
       "8  0.28230450 344.5430 0.22314361 273.8537  93.75588 0.22508572 85.42627\n",
       "9  0.32263372 366.6472 0.13957395 290.9037 111.38682 0.14488680 92.09223\n",
       "10 0.36296293 377.8427 0.07093795 304.8309  92.17892 0.05677036 69.12573"
      ]
     },
     "metadata": {},
     "output_type": "display_data"
    }
   ],
   "source": [
    "# 5-fold cross-validation\n",
    "# Set the parameters for the model\n",
    "ctrl <- trainControl(method = \"cv\", number = 5)\n",
    "rpart_params <- list(split = \"anova\", minsplit = 9)\n",
    "\n",
    "# Perform cross-validation\n",
    "cv_model <- train(crimes_per_million ~ ., data = crime_data, method = \"rpart\", trControl = ctrl, tuneLength = 10, parms = rpart_params)\n",
    "\n",
    "# Get R^2 and RMSE values\n",
    "cv_model$results"
   ]
  },
  {
   "cell_type": "markdown",
   "id": "ef54a43e-e37c-47cc-b613-14641652d7df",
   "metadata": {},
   "source": [
    "The first thing I noticed is the warning message that is provided. It indicates that there were missing values in the resampled performance measures during the cross-validation process. This warning typically occurs when one or more folds of the cross-validation procedure result in missing performance metrics. One possible reason would be if it created degenerate folds which happens when the data is small and one or more of the folds potentially has empty classes. With how small the dataset is this is definitely possible.\n",
    "\n",
    "My final model pruned to cp values at or above 0.0525 which lies between the second and third row in the table. Looking at the R-Squared value it is ~ 0.30 which is much lower than the R-Squared value calculated on the training data. Comparing the RMSE values it also shows much higher values in the cross-validated model vs. the model that only used training data. **This suggest significant overfitting.**"
   ]
  },
  {
   "cell_type": "markdown",
   "id": "ae80dc21-d15b-405c-b938-b68641092e46",
   "metadata": {},
   "source": [
    "#### Question 10.1 - Part B\n",
    ">Using the same crime data set uscrime.txt as in Questions 8.2 and 9.1, find the best model you can using\n",
    "(a) a regression tree model, and (b) a random forest model.\n",
    "In R, you can use the tree package or the rpart package, and the randomForest package. For each model, describe one or two qualitative takeaways you get from analyzing the results (i.e., don’t just stop when you have a good model, but interpret it too)."
   ]
  },
  {
   "cell_type": "markdown",
   "id": "c70d8614-0979-4e9d-a241-402e4beca4e7",
   "metadata": {},
   "source": [
    "For part B I am going to create a Random Forest model using the randomForest package and then evaluate it's performance. I plan to follow the steps below:\n",
    "1) Create Model\n",
    "2) Analyze Model Performance\n",
    "3) Compare model to CART model from part A\n",
    "\n",
    "#### Step 1 - Create Model\n",
    "There are a lot of parameters that can be set for the random forest model which can be found here: https://www.rdocumentation.org/packages/randomForest/versions/4.7-1.1/topics/randomForest. I played around with several different parameters, specifically the mtry, nodesize, and maxnodes. The mtry parameter is the number of variables randomly sampled as candidates at each split which defaults to p/3 for regression. This would be 5 for our sample since we have 15 dependent variables. The nodesize determines the minimum size of terminal nodes which defaults to 5 for regression. The maxnodes paramater determines the maximum number of terminal nodes the trees in the forest can have."
   ]
  },
  {
   "cell_type": "code",
   "execution_count": 14,
   "id": "ddfcc0c9-fa9f-42e7-9ecc-e7a0d8f304fe",
   "metadata": {},
   "outputs": [
    {
     "data": {
      "text/plain": [
       "\n",
       "Call:\n",
       " randomForest(formula = crimes_per_million ~ ., data = crime_data,      mtry = 3, nodesize = 3, maxnodes = 25, importance = TRUE) \n",
       "               Type of random forest: regression\n",
       "                     Number of trees: 500\n",
       "No. of variables tried at each split: 3\n",
       "\n",
       "          Mean of squared residuals: 83197.59\n",
       "                    % Var explained: 43.17"
      ]
     },
     "metadata": {},
     "output_type": "display_data"
    }
   ],
   "source": [
    "crime_rforest <- randomForest(crimes_per_million ~ ., data = crime_data, mtry = 3, nodesize = 3, maxnodes = 25, importance = TRUE)\n",
    "crime_rforest"
   ]
  },
  {
   "cell_type": "markdown",
   "id": "c6e60bf5-a3a7-4772-a659-1360a82930e8",
   "metadata": {},
   "source": [
    "#### Step 2 - Analyze the Model\n",
    "Looking at the result above the model is able to describe ~ 43% of the variance in the dependent variable which is the same thing as saying the R-Squared value is 0.4527. It also has a RMSE of ~288 (square root of Mean of squared residuals). Next I am going to plot the predicted values from the model vs. the actual values to visualize the models performance."
   ]
  },
  {
   "cell_type": "code",
   "execution_count": 15,
   "id": "82178e1f-0ac9-4c3f-bb80-63da1c164a77",
   "metadata": {},
   "outputs": [
    {
     "data": {
      "image/png": "[encoded data removed]",
      "text/plain": [
       "plot without title"
      ]
     },
     "metadata": {},
     "output_type": "display_data"
    }
   ],
   "source": [
    "# Get predicted values from the model\n",
    "rf_pred <- predict(crime_rforest)\n",
    "\n",
    "# Create a dataframe of predicted and actual values to plot\n",
    "rf_plot_data <- data.frame(Actual = crime_data$crimes_per_million, Predicted = rf_pred)\n",
    "\n",
    "# Plot the predicted values vs the actual values for crimes per million\n",
    "ggplot(rf_plot_data, aes(x = Actual, y = Predicted)) +\n",
    "    geom_point(color = \"blue\") +\n",
    "    geom_abline(intercept = 0, slope = 1, color = \"red\", linetype = \"dashed\") +  # Add a line of equality\n",
    "    labs(x = \"Actual Values\", y = \"Predicted Values\", title = \"Actual vs. Predicted Values\") +\n",
    "    xlim(0, 2000) +\n",
    "    ylim(0, 2000)"
   ]
  },
  {
   "cell_type": "markdown",
   "id": "dd64786e-531f-427d-8b2b-509f3f41ae30",
   "metadata": {},
   "source": [
    "Next I am going to calculate the R-Squared and RMSE value manually, this is simply a check on the value output from the model above."
   ]
  },
  {
   "cell_type": "code",
   "execution_count": 16,
   "id": "2185cb26-efe9-4af3-b410-0abb555507be",
   "metadata": {},
   "outputs": [
    {
     "name": "stdout",
     "output_type": "stream",
     "text": [
      "R-Squared value for the Random Forest model built with training data: 0.432 \n",
      "RMSE value for the Random Forest model built with training data: 288.4399"
     ]
    }
   ],
   "source": [
    "# Calculate the R-Squared value\n",
    "rf_SSR <- sum((rf_pred - crime_data$crimes_per_million)^2)\n",
    "rf_R2 <- 1 - rf_SSR/SST\n",
    "\n",
    "# Calculate the RMSE\n",
    "rf_RMSE <- sqrt((rf_SSR)/nrow(crime_data))\n",
    "\n",
    "cat('R-Squared value for the Random Forest model built with training data:', round(rf_R2,3), '\\n')\n",
    "cat('RMSE value for the Random Forest model built with training data:', rf_RMSE)"
   ]
  },
  {
   "cell_type": "markdown",
   "id": "c815401e-6c0e-443b-9ba7-974d576b657c",
   "metadata": {},
   "source": [
    "These values match the output from the model above, it's nice when things check out like that :)\n",
    "\n",
    "Next I will calculate the R-Squared and RMSE using cross-validation."
   ]
  },
  {
   "cell_type": "code",
   "execution_count": 17,
   "id": "42846fd6-eb18-4c82-a01e-46da585b1947",
   "metadata": {},
   "outputs": [
    {
     "name": "stdout",
     "output_type": "stream",
     "text": [
      "Random Forest \n",
      "\n",
      "47 samples\n",
      "15 predictors\n",
      "\n",
      "No pre-processing\n",
      "Resampling: Cross-Validated (5 fold) \n",
      "Summary of sample sizes: 37, 37, 38, 38, 38 \n",
      "Resampling results across tuning parameters:\n",
      "\n",
      "  mtry  RMSE      Rsquared   MAE     \n",
      "   2    281.9872  0.4993885  213.7193\n",
      "   3    277.6091  0.4811486  208.7167\n",
      "   4    285.6385  0.4386798  213.7613\n",
      "   6    283.2740  0.4389022  209.4042\n",
      "   7    283.9091  0.4347107  209.4308\n",
      "   9    288.3659  0.4166768  211.2063\n",
      "  10    289.1673  0.4234507  213.7562\n",
      "  12    293.6504  0.4043417  215.6539\n",
      "  13    295.1157  0.4048620  215.7577\n",
      "  15    293.7088  0.4144728  214.6193\n",
      "\n",
      "RMSE was used to select the optimal model using the smallest value.\n",
      "The final value used for the model was mtry = 3.\n"
     ]
    }
   ],
   "source": [
    "# 5-fold cross-validation\n",
    "# Set the parameters for the model\n",
    "rf_ctrl <- trainControl(method = \"cv\", number = 5)\n",
    "rf_params <- list(nodesize = 3, maxnodes = 25)\n",
    "\n",
    "# Perform cross-validation\n",
    "rf_cv_model <- train(crimes_per_million ~ ., data = crime_data, method = \"rf\", tuneLength = 10, trControl = ctrl, parms = rf_params)\n",
    "\n",
    "# Print the model to view the results\n",
    "print(rf_cv_model)"
   ]
  },
  {
   "cell_type": "markdown",
   "id": "08bfbf8f-d867-4e72-b2db-5154d58f6674",
   "metadata": {},
   "source": [
    "These results are very suprising, when looking at the R-Squared values for mtry = 3 in the cross validated model it is actually larger than the model trained on the full training dataset. The RMSE is slightly lower as well. Looking into this I did find that it isn't totally uncommon. During cross-validation, the model is trained multiple times on different subsets of the data, which can help prevent overfitting by penalizing overly complex models. As a result, the cross-validated model may generalize better to unseen data, leading to higher performance metrics. The metrics above show that **the Random Forest did perform better than the CART model and has less of an issue with overfitting.**"
   ]
  },
  {
   "cell_type": "markdown",
   "id": "afe71fb2-2ebc-4f27-bd46-7a8c344520dc",
   "metadata": {},
   "source": [
    "#### Question 10.2\n",
    "> Describe a situation or problem from your job, everyday life, current events, etc., for which a logistic regression model would be appropriate. List some (up to 5) predictors that you might use."
   ]
  },
  {
   "cell_type": "markdown",
   "id": "87a58874-f134-4555-91ff-d0143e2ad37e",
   "metadata": {},
   "source": [
    "One example of a situation where logistic regression would be appropriate is whether or not a student will get into a particular college. Some of the predictors you might use for the model would be grades, SAT/ACT/GRE score, extracurricular activities, race/ethnicity, and parents highest education level. If a model was created for different colleges it would provide a very interesting way to compare what each college prioritizes in admittance vs. other colleges."
   ]
  },
  {
   "cell_type": "markdown",
   "id": "62a77495-2c73-414d-8107-dd66a4b45194",
   "metadata": {},
   "source": [
    "#### Question 10.3\n",
    ">1. Using the GermanCredit data set germancredit.txt from http://archive.ics.uci.edu/ml/machine-learning-databases/statlog/german / (description at http://archive.ics.uci.edu/ml/datasets/Statlog+%28German+Credit+Data%29 ), use logistic regression to find a good predictive model for whether credit applicants are good credit risks or not. Show your model (factors used and their coefficients), the software output, and the quality of fit. You can use the glm function in R. To get a logistic regression (logit) model on data where the response is either zero or one, use family=binomial(link=”logit”) in your glm function call.\r\n",
    "2. Because the model gives a result between 0 and 1, it requires setting a threshold probability to separate between “good” and “bad” answers. In this data set, they estimate that incorrectly identifying a bad customer as good, is 5 times worse than incorrectly classifying a good customer as bad. Determine a good threshold probability based on your model."
   ]
  },
  {
   "cell_type": "markdown",
   "id": "81a0b21e-7e33-4284-92d2-106a20d0885e",
   "metadata": {},
   "source": [
    "To answer this question I am going to use the following steps:\n",
    "\n",
    "1) Load and explore the dataset\n",
    "2) Create training and testing datasets\n",
    "3) Train and optimize the logistic regression model\n",
    "4) Interpret model\n",
    "5) Create threshold based on part 2 of the question"
   ]
  },
  {
   "cell_type": "markdown",
   "id": "8533c4ea-1c91-4fcc-8e27-81445bd7a197",
   "metadata": {},
   "source": [
    "#### Step 1 - Load and Explore the Dataset\n",
    "The first thing I am going to do is to load the dataset and get some summary statistics to get a better idea of the data I am working with."
   ]
  },
  {
   "cell_type": "code",
   "execution_count": 18,
   "id": "f13dd097-564a-41f1-b6a0-a66369086916",
   "metadata": {},
   "outputs": [
    {
     "data": {
      "text/html": [
       "<table>\n",
       "<thead><tr><th scope=col>V1</th><th scope=col>V2</th><th scope=col>V3</th><th scope=col>V4</th><th scope=col>V5</th><th scope=col>V6</th><th scope=col>V7</th><th scope=col>V8</th><th scope=col>V9</th><th scope=col>V10</th><th scope=col>...</th><th scope=col>V12</th><th scope=col>V13</th><th scope=col>V14</th><th scope=col>V15</th><th scope=col>V16</th><th scope=col>V17</th><th scope=col>V18</th><th scope=col>V19</th><th scope=col>V20</th><th scope=col>V21</th></tr></thead>\n",
       "<tbody>\n",
       "\t<tr><td>A11 </td><td> 6  </td><td>A34 </td><td>A43 </td><td>1169</td><td>A65 </td><td>A75 </td><td>4   </td><td>A93 </td><td>A101</td><td>... </td><td>A121</td><td>67  </td><td>A143</td><td>A152</td><td>2   </td><td>A173</td><td>1   </td><td>A192</td><td>A201</td><td>1   </td></tr>\n",
       "\t<tr><td>A12 </td><td>48  </td><td>A32 </td><td>A43 </td><td>5951</td><td>A61 </td><td>A73 </td><td>2   </td><td>A92 </td><td>A101</td><td>... </td><td>A121</td><td>22  </td><td>A143</td><td>A152</td><td>1   </td><td>A173</td><td>1   </td><td>A191</td><td>A201</td><td>2   </td></tr>\n",
       "\t<tr><td>A14 </td><td>12  </td><td>A34 </td><td>A46 </td><td>2096</td><td>A61 </td><td>A74 </td><td>2   </td><td>A93 </td><td>A101</td><td>... </td><td>A121</td><td>49  </td><td>A143</td><td>A152</td><td>1   </td><td>A172</td><td>2   </td><td>A191</td><td>A201</td><td>1   </td></tr>\n",
       "\t<tr><td>A11 </td><td>42  </td><td>A32 </td><td>A42 </td><td>7882</td><td>A61 </td><td>A74 </td><td>2   </td><td>A93 </td><td>A103</td><td>... </td><td>A122</td><td>45  </td><td>A143</td><td>A153</td><td>1   </td><td>A173</td><td>2   </td><td>A191</td><td>A201</td><td>1   </td></tr>\n",
       "\t<tr><td>A11 </td><td>24  </td><td>A33 </td><td>A40 </td><td>4870</td><td>A61 </td><td>A73 </td><td>3   </td><td>A93 </td><td>A101</td><td>... </td><td>A124</td><td>53  </td><td>A143</td><td>A153</td><td>2   </td><td>A173</td><td>2   </td><td>A191</td><td>A201</td><td>2   </td></tr>\n",
       "\t<tr><td>A14 </td><td>36  </td><td>A32 </td><td>A46 </td><td>9055</td><td>A65 </td><td>A73 </td><td>2   </td><td>A93 </td><td>A101</td><td>... </td><td>A124</td><td>35  </td><td>A143</td><td>A153</td><td>1   </td><td>A172</td><td>2   </td><td>A192</td><td>A201</td><td>1   </td></tr>\n",
       "</tbody>\n",
       "</table>\n"
      ],
      "text/latex": [
       "\\begin{tabular}{r|lllllllllllllllllllll}\n",
       " V1 & V2 & V3 & V4 & V5 & V6 & V7 & V8 & V9 & V10 & ... & V12 & V13 & V14 & V15 & V16 & V17 & V18 & V19 & V20 & V21\\\\\n",
       "\\hline\n",
       "\t A11  &  6   & A34  & A43  & 1169 & A65  & A75  & 4    & A93  & A101 & ...  & A121 & 67   & A143 & A152 & 2    & A173 & 1    & A192 & A201 & 1   \\\\\n",
       "\t A12  & 48   & A32  & A43  & 5951 & A61  & A73  & 2    & A92  & A101 & ...  & A121 & 22   & A143 & A152 & 1    & A173 & 1    & A191 & A201 & 2   \\\\\n",
       "\t A14  & 12   & A34  & A46  & 2096 & A61  & A74  & 2    & A93  & A101 & ...  & A121 & 49   & A143 & A152 & 1    & A172 & 2    & A191 & A201 & 1   \\\\\n",
       "\t A11  & 42   & A32  & A42  & 7882 & A61  & A74  & 2    & A93  & A103 & ...  & A122 & 45   & A143 & A153 & 1    & A173 & 2    & A191 & A201 & 1   \\\\\n",
       "\t A11  & 24   & A33  & A40  & 4870 & A61  & A73  & 3    & A93  & A101 & ...  & A124 & 53   & A143 & A153 & 2    & A173 & 2    & A191 & A201 & 2   \\\\\n",
       "\t A14  & 36   & A32  & A46  & 9055 & A65  & A73  & 2    & A93  & A101 & ...  & A124 & 35   & A143 & A153 & 1    & A172 & 2    & A192 & A201 & 1   \\\\\n",
       "\\end{tabular}\n"
      ],
      "text/markdown": [
       "\n",
       "| V1 | V2 | V3 | V4 | V5 | V6 | V7 | V8 | V9 | V10 | ... | V12 | V13 | V14 | V15 | V16 | V17 | V18 | V19 | V20 | V21 |\n",
       "|---|---|---|---|---|---|---|---|---|---|---|---|---|---|---|---|---|---|---|---|---|\n",
       "| A11  |  6   | A34  | A43  | 1169 | A65  | A75  | 4    | A93  | A101 | ...  | A121 | 67   | A143 | A152 | 2    | A173 | 1    | A192 | A201 | 1    |\n",
       "| A12  | 48   | A32  | A43  | 5951 | A61  | A73  | 2    | A92  | A101 | ...  | A121 | 22   | A143 | A152 | 1    | A173 | 1    | A191 | A201 | 2    |\n",
       "| A14  | 12   | A34  | A46  | 2096 | A61  | A74  | 2    | A93  | A101 | ...  | A121 | 49   | A143 | A152 | 1    | A172 | 2    | A191 | A201 | 1    |\n",
       "| A11  | 42   | A32  | A42  | 7882 | A61  | A74  | 2    | A93  | A103 | ...  | A122 | 45   | A143 | A153 | 1    | A173 | 2    | A191 | A201 | 1    |\n",
       "| A11  | 24   | A33  | A40  | 4870 | A61  | A73  | 3    | A93  | A101 | ...  | A124 | 53   | A143 | A153 | 2    | A173 | 2    | A191 | A201 | 2    |\n",
       "| A14  | 36   | A32  | A46  | 9055 | A65  | A73  | 2    | A93  | A101 | ...  | A124 | 35   | A143 | A153 | 1    | A172 | 2    | A192 | A201 | 1    |\n",
       "\n"
      ],
      "text/plain": [
       "  V1  V2 V3  V4  V5   V6  V7  V8 V9  V10  ... V12  V13 V14  V15  V16 V17  V18\n",
       "1 A11  6 A34 A43 1169 A65 A75 4  A93 A101 ... A121 67  A143 A152 2   A173 1  \n",
       "2 A12 48 A32 A43 5951 A61 A73 2  A92 A101 ... A121 22  A143 A152 1   A173 1  \n",
       "3 A14 12 A34 A46 2096 A61 A74 2  A93 A101 ... A121 49  A143 A152 1   A172 2  \n",
       "4 A11 42 A32 A42 7882 A61 A74 2  A93 A103 ... A122 45  A143 A153 1   A173 2  \n",
       "5 A11 24 A33 A40 4870 A61 A73 3  A93 A101 ... A124 53  A143 A153 2   A173 2  \n",
       "6 A14 36 A32 A46 9055 A65 A73 2  A93 A101 ... A124 35  A143 A153 1   A172 2  \n",
       "  V19  V20  V21\n",
       "1 A192 A201 1  \n",
       "2 A191 A201 2  \n",
       "3 A191 A201 1  \n",
       "4 A191 A201 1  \n",
       "5 A191 A201 2  \n",
       "6 A192 A201 1  "
      ]
     },
     "metadata": {},
     "output_type": "display_data"
    }
   ],
   "source": [
    "# Load the German credit data and print the head of the table to make sure it loaded correctly\n",
    "credit_data <- read.table(\"germancredit.txt\", header = FALSE)\n",
    "head(credit_data)"
   ]
  },
  {
   "cell_type": "markdown",
   "id": "0eda8a9e-e807-44b2-99af-80eb0113fea9",
   "metadata": {},
   "source": [
    "In examining the dataset I started by looking at the description provided at the UC Irvine ML Repository where the data was originally taken from. It included a cost matrix that showed that the cost of classifying a customer as \"good\" when they are \"bad\" was 5x the cost of classifying a customer as \"bad\" when they are actually \"good\" which is in line with part 2 of this question. It also provided a description of all of the attributes and what each of their values means. Lastly, it provides baseline model performance for various classification algorithms. For logistic regression it has a baseline accuracy of 70% - 80.8% and precision of 64.242% - 78.042%. It also shows that a Random Forest Classification model is the best option for the dataset. I have provided a copy of the Variables Table below:\n",
    "\n",
    "![Variables Table](Variables_table.png)"
   ]
  },
  {
   "cell_type": "markdown",
   "id": "1f707b04-532d-4736-8360-186f246ae91a",
   "metadata": {},
   "source": [
    "Since the original file didn't include headers I am going to add them to the dataset below. I also considered changing the attribute values to what they represent (ie A11 -> '<0', A40 -> 'car') but decided it isn't necassary for this analysis. However, if this was a model I was planning on using frequently it could be worth it to help with interpretting the results."
   ]
  },
  {
   "cell_type": "code",
   "execution_count": 19,
   "id": "b5fdac15-8648-4266-a8b4-559df117ba04",
   "metadata": {},
   "outputs": [],
   "source": [
    "colnames(credit_data) <- c(\"exist_acct\", \"duration\", \"credit_hist\", \"purpose\", \"credit_amt\", \"savings\", \"employ_len\", \"install_rate\", \"status_sex\", \"debts\", \"resid_len\", \"prop\", \"age\", \"oth_inst\", \"house\", \"credit_cnt\", \"job\", \"liab_maint\", \"phone\", \"foreign\", \"decision\")"
   ]
  },
  {
   "cell_type": "markdown",
   "id": "a5b57191-3cb3-4cbb-be20-eb922bb12472",
   "metadata": {},
   "source": [
    "Next, I want to get some summary statistics about the dataset which I'll do below. I already know that their aren't any missing values from the table above so I won't check that but I will look at the distribution of the variables."
   ]
  },
  {
   "cell_type": "code",
   "execution_count": 20,
   "id": "d9525639-128f-4b90-b2ce-54b81466c651",
   "metadata": {},
   "outputs": [
    {
     "data": {
      "text/plain": [
       " exist_acct    duration    credit_hist    purpose      credit_amt    savings  \n",
       " A11:274    Min.   : 4.0   A30: 40     A43    :280   Min.   :  250   A61:603  \n",
       " A12:269    1st Qu.:12.0   A31: 49     A40    :234   1st Qu.: 1366   A62:103  \n",
       " A13: 63    Median :18.0   A32:530     A42    :181   Median : 2320   A63: 63  \n",
       " A14:394    Mean   :20.9   A33: 88     A41    :103   Mean   : 3271   A64: 48  \n",
       "            3rd Qu.:24.0   A34:293     A49    : 97   3rd Qu.: 3972   A65:183  \n",
       "            Max.   :72.0               A46    : 50   Max.   :18424            \n",
       "                                       (Other): 55                            \n",
       " employ_len  install_rate   status_sex  debts       resid_len       prop    \n",
       " A71: 62    Min.   :1.000   A91: 50    A101:907   Min.   :1.000   A121:282  \n",
       " A72:172    1st Qu.:2.000   A92:310    A102: 41   1st Qu.:2.000   A122:232  \n",
       " A73:339    Median :3.000   A93:548    A103: 52   Median :3.000   A123:332  \n",
       " A74:174    Mean   :2.973   A94: 92               Mean   :2.845   A124:154  \n",
       " A75:253    3rd Qu.:4.000                         3rd Qu.:4.000             \n",
       "            Max.   :4.000                         Max.   :4.000             \n",
       "                                                                            \n",
       "      age        oth_inst    house       credit_cnt      job     \n",
       " Min.   :19.00   A141:139   A151:179   Min.   :1.000   A171: 22  \n",
       " 1st Qu.:27.00   A142: 47   A152:713   1st Qu.:1.000   A172:200  \n",
       " Median :33.00   A143:814   A153:108   Median :1.000   A173:630  \n",
       " Mean   :35.55                         Mean   :1.407   A174:148  \n",
       " 3rd Qu.:42.00                         3rd Qu.:2.000             \n",
       " Max.   :75.00                         Max.   :4.000             \n",
       "                                                                 \n",
       "   liab_maint     phone     foreign       decision  \n",
       " Min.   :1.000   A191:596   A201:963   Min.   :1.0  \n",
       " 1st Qu.:1.000   A192:404   A202: 37   1st Qu.:1.0  \n",
       " Median :1.000                         Median :1.0  \n",
       " Mean   :1.155                         Mean   :1.3  \n",
       " 3rd Qu.:1.000                         3rd Qu.:2.0  \n",
       " Max.   :2.000                         Max.   :2.0  \n",
       "                                                    "
      ]
     },
     "metadata": {},
     "output_type": "display_data"
    }
   ],
   "source": [
    "summary(credit_data)"
   ]
  },
  {
   "cell_type": "markdown",
   "id": "143462a4-17e3-4ec0-9f8d-ea68481c8413",
   "metadata": {},
   "source": [
    "The dataset includes 11 categorical variables, three binary variables, and seven integers. The high number of categorical/binary variables makes me think that a CART model would be a great option since the different classes would allow for easy interpretation. Next I am going to plot the distibution of values for each of the variables to visually inspect them."
   ]
  },
  {
   "cell_type": "code",
   "execution_count": 21,
   "id": "d0b381a0-8f42-4318-b384-24d46dd1345a",
   "metadata": {},
   "outputs": [
    {
     "data": {
      "image/png": "[encoded data removed]",
      "text/plain": [
       "plot without title"
      ]
     },
     "metadata": {},
     "output_type": "display_data"
    }
   ],
   "source": [
    "options(repr.plot.width=10, repr.plot.height=15)\n",
    "\n",
    "# Define the names of columns containing categorical variables\n",
    "categorical_columns <- c(\"exist_acct\", \"credit_hist\", \"purpose\", \"savings\", \"employ_len\", \"install_rate\",\n",
    "                         \"status_sex\", \"debts\", \"resid_len\", \"prop\", \"oth_inst\", \"house\", \"credit_cnt\",\n",
    "                         \"job\", \"liab_maint\", \"phone\", \"foreign\", \"decision\")\n",
    "\n",
    "# Define the names of columns containing numerical variables\n",
    "numerical_columns <- c(\"duration\", \"credit_amt\", \"age\")\n",
    "\n",
    "# Plot histograms for numerical columns\n",
    "num_plots <- lapply(numerical_columns, function(col) {\n",
    "  if(col == \"credit_amt\") {\n",
    "    ggplot(credit_data, aes_string(x = col)) +\n",
    "      geom_histogram(binwidth = 1000, fill = \"skyblue\", color = \"black\") +\n",
    "      labs(title = col) +\n",
    "      theme_minimal()\n",
    "  } else {\n",
    "    ggplot(credit_data, aes_string(x = col)) +\n",
    "      geom_histogram(binwidth = 5, fill = \"skyblue\", color = \"black\") +\n",
    "      labs(title = col) +\n",
    "      theme_minimal()\n",
    "  }\n",
    "})\n",
    "\n",
    "# Plot histograms for categorical columns\n",
    "cat_plots <- lapply(categorical_columns, function(col) {\n",
    "  ggplot(credit_data, aes_string(x = col)) +\n",
    "    geom_bar(fill = \"skyblue\") +\n",
    "    labs(title = col) +\n",
    "    theme_minimal() +\n",
    "    theme(axis.text.x = element_text(angle = 45, hjust = 1))\n",
    "})\n",
    "\n",
    "# Combine plots for numerical and categorical columns\n",
    "all_plots <- c(num_plots, cat_plots)\n",
    "\n",
    "# Arrange plots in a grid with four plots in each row using cowplot\n",
    "plot_grid(plotlist = all_plots, ncol = 4)"
   ]
  },
  {
   "cell_type": "markdown",
   "id": "51839b6c-7079-4d3d-bcac-a844682e4f9d",
   "metadata": {},
   "source": [
    "One thing worth noting is the large discrepency in the number of datapoints labeled as 'good' vs. the number labeled as 'bad' which is less than half as many. It could create bias in our model towards false positives since the model will have a larger number of 'good' classifications."
   ]
  },
  {
   "cell_type": "markdown",
   "id": "81f6c4c2-2796-4d2a-8217-3ceb4769e69d",
   "metadata": {},
   "source": [
    "#### Step 2 - Create Training and Testing Sets\n",
    "Now that I have a good handle on what the data is, I'm going to partition it into training and testing sets. I am going to split the data into 70-30 for training-testing using the createDataPartition() function from the caret package. This function ensures that the split is stratified, meaning that the distribution of the dependent variable is preserved in both the training and testing sets."
   ]
  },
  {
   "cell_type": "code",
   "execution_count": 22,
   "id": "611af167-be86-4c37-9f18-57ba4131f797",
   "metadata": {},
   "outputs": [
    {
     "name": "stdout",
     "output_type": "stream",
     "text": [
      "The training data has 700 rows and the mean of the of dependent variable 'decision' is 1.302857 with a standard deviation of 0.4598225 \n",
      "The testing data has 300 rows and the mean of the of dependent variable 'decision' is 1.293333 with a standard deviation of 0.4560506"
     ]
    }
   ],
   "source": [
    "# Create an index for the split\n",
    "split_index <- createDataPartition(credit_data$decision, p = 0.7, list = FALSE)\n",
    "\n",
    "# Split the data into training and testing sets\n",
    "training_data <- credit_data[split_index, ]\n",
    "testing_data <- credit_data[-split_index, ]\n",
    "cat(\"The training data has\", nrow(training_data), \"rows and the mean of the of dependent variable 'decision' is\", mean(training_data[,'decision']),\"with a standard deviation of\", sd(training_data[,'decision']), \"\\n\")\n",
    "cat(\"The testing data has\", nrow(testing_data), \"rows and the mean of the of dependent variable 'decision' is\", mean(testing_data[,'decision']),\"with a standard deviation of\", sd(testing_data[,'decision']))"
   ]
  },
  {
   "cell_type": "markdown",
   "id": "9ad0def6-41af-4a8c-8405-f8f60c17edde",
   "metadata": {},
   "source": [
    "#### Step 3 - Train the Logistic Regression Model\n",
    "I am using the binomial family because our result 'decision' has a binomial distribution. The different options for the family to use in the regression model can be found here https://www.rdocumentation.org/packages/stats/versions/3.6.2/topics/family and the details about the inputs for the glm() function can be found here https://www.rdocumentation.org/packages/stats/versions/3.6.2/topics/glm. I had to set the dependent variable 'decision' to be a factor since the binomial family expects classification values of 0 and 1."
   ]
  },
  {
   "cell_type": "code",
   "execution_count": 23,
   "id": "42600072-444b-4028-824c-1262a2a9f064",
   "metadata": {},
   "outputs": [
    {
     "data": {
      "text/plain": [
       "\n",
       "Call:\n",
       "glm(formula = as.factor(decision) ~ ., family = binomial(link = \"logit\"), \n",
       "    data = training_data)\n",
       "\n",
       "Deviance Residuals: \n",
       "    Min       1Q   Median       3Q      Max  \n",
       "-2.2564  -0.6915  -0.3310   0.5833   2.6549  \n",
       "\n",
       "Coefficients:\n",
       "                 Estimate Std. Error z value Pr(>|z|)    \n",
       "(Intercept)     7.982e-01  1.351e+00   0.591 0.554575    \n",
       "exist_acctA12  -2.159e-01  2.719e-01  -0.794 0.427135    \n",
       "exist_acctA13  -1.454e+00  4.628e-01  -3.143 0.001675 ** \n",
       "exist_acctA14  -1.805e+00  2.916e-01  -6.192 5.94e-10 ***\n",
       "duration        3.659e-02  1.214e-02   3.015 0.002569 ** \n",
       "credit_histA31  3.826e-01  7.314e-01   0.523 0.600946    \n",
       "credit_histA32 -6.000e-01  5.616e-01  -1.068 0.285386    \n",
       "credit_histA33 -7.925e-01  6.102e-01  -1.299 0.194071    \n",
       "credit_histA34 -1.301e+00  5.651e-01  -2.302 0.021325 *  \n",
       "purposeA41     -1.729e+00  4.717e-01  -3.665 0.000247 ***\n",
       "purposeA410    -1.534e+00  8.567e-01  -1.790 0.073401 .  \n",
       "purposeA42     -1.013e+00  3.320e-01  -3.049 0.002293 ** \n",
       "purposeA43     -1.030e+00  3.122e-01  -3.299 0.000970 ***\n",
       "purposeA44     -7.406e-01  9.698e-01  -0.764 0.445081    \n",
       "purposeA45     -4.756e-01  6.669e-01  -0.713 0.475797    \n",
       "purposeA46      1.262e-01  4.844e-01   0.260 0.794518    \n",
       "purposeA48     -2.338e+00  1.310e+00  -1.785 0.074202 .  \n",
       "purposeA49     -8.586e-01  4.184e-01  -2.052 0.040162 *  \n",
       "credit_amt      1.362e-04  5.563e-05   2.447 0.014399 *  \n",
       "savingsA62     -3.859e-01  3.490e-01  -1.106 0.268883    \n",
       "savingsA63     -3.967e-01  4.958e-01  -0.800 0.423630    \n",
       "savingsA64     -3.806e+00  1.201e+00  -3.169 0.001527 ** \n",
       "savingsA65     -1.087e+00  3.282e-01  -3.311 0.000930 ***\n",
       "employ_lenA72   2.917e-01  6.194e-01   0.471 0.637679    \n",
       "employ_lenA73   2.786e-01  6.050e-01   0.460 0.645245    \n",
       "employ_lenA74  -5.446e-01  6.465e-01  -0.842 0.399528    \n",
       "employ_lenA75   6.713e-02  5.975e-01   0.112 0.910551    \n",
       "install_rate    3.934e-01  1.160e-01   3.391 0.000697 ***\n",
       "status_sexA92  -1.540e-01  4.719e-01  -0.326 0.744222    \n",
       "status_sexA93  -7.956e-01  4.573e-01  -1.740 0.081911 .  \n",
       "status_sexA94  -2.040e-01  5.481e-01  -0.372 0.709727    \n",
       "debtsA102       3.550e-02  4.962e-01   0.072 0.942954    \n",
       "debtsA103      -1.110e+00  4.828e-01  -2.298 0.021556 *  \n",
       "resid_len       8.683e-02  1.083e-01   0.802 0.422598    \n",
       "propA122        2.456e-01  3.018e-01   0.814 0.415794    \n",
       "propA123        2.019e-01  2.882e-01   0.701 0.483581    \n",
       "propA124        9.725e-01  5.698e-01   1.707 0.087869 .  \n",
       "age            -1.409e-02  1.159e-02  -1.216 0.224012    \n",
       "oth_instA142   -4.405e-01  5.574e-01  -0.790 0.429337    \n",
       "oth_instA143   -8.134e-01  2.989e-01  -2.721 0.006502 ** \n",
       "houseA152      -5.186e-01  2.973e-01  -1.744 0.081119 .  \n",
       "houseA153      -1.426e+00  6.421e-01  -2.221 0.026331 *  \n",
       "credit_cnt     -5.017e-02  2.345e-01  -0.214 0.830615    \n",
       "jobA172        -1.308e-01  8.272e-01  -0.158 0.874407    \n",
       "jobA173        -5.926e-02  8.063e-01  -0.073 0.941410    \n",
       "jobA174        -1.450e-01  8.070e-01  -0.180 0.857400    \n",
       "liab_maint      2.698e-01  3.085e-01   0.875 0.381744    \n",
       "phoneA192      -2.883e-01  2.668e-01  -1.081 0.279848    \n",
       "foreignA202    -1.224e+00  7.041e-01  -1.739 0.082066 .  \n",
       "---\n",
       "Signif. codes:  0 '***' 0.001 '**' 0.01 '*' 0.05 '.' 0.1 ' ' 1\n",
       "\n",
       "(Dispersion parameter for binomial family taken to be 1)\n",
       "\n",
       "    Null deviance: 858.57  on 699  degrees of freedom\n",
       "Residual deviance: 588.69  on 651  degrees of freedom\n",
       "AIC: 686.69\n",
       "\n",
       "Number of Fisher Scoring iterations: 6\n"
      ]
     },
     "metadata": {},
     "output_type": "display_data"
    }
   ],
   "source": [
    "credit_model <- glm(as.factor(decision) ~ ., family = binomial(link = \"logit\"), data=training_data)\n",
    "summary(credit_model)"
   ]
  },
  {
   "cell_type": "markdown",
   "id": "46672581-0685-4eb8-9a3b-cb1a71202ed7",
   "metadata": {},
   "source": [
    "Looking at the results the first thing I notice is that all of the categorical variables with multiple levels were converted into dummy variables. For example, the 'job' variable has been divided into 'jobA172', 'jobA173', and 'jobA174' variables. I found that the glm function automatically creates dummy variables for any categorical variable with multiple levels (known as one-hot encoding). To deal with this I am going to add categorical variables for each of the dummy variables and redo the linear regression model."
   ]
  },
  {
   "cell_type": "code",
   "execution_count": 24,
   "id": "fb439b01-b5a3-4237-b5b8-11e664a32537",
   "metadata": {},
   "outputs": [
    {
     "data": {
      "text/plain": [
       "\n",
       "Call:\n",
       "glm(formula = as.factor(decision) ~ ., family = binomial(link = \"logit\"), \n",
       "    data = training_data_dummy)\n",
       "\n",
       "Deviance Residuals: \n",
       "    Min       1Q   Median       3Q      Max  \n",
       "-2.2564  -0.6915  -0.3310   0.5833   2.6549  \n",
       "\n",
       "Coefficients:\n",
       "                 Estimate Std. Error z value Pr(>|z|)    \n",
       "(Intercept)     7.982e-01  1.351e+00   0.591 0.554575    \n",
       "exist_acctA12  -2.159e-01  2.719e-01  -0.794 0.427135    \n",
       "exist_acctA13  -1.454e+00  4.628e-01  -3.143 0.001675 ** \n",
       "exist_acctA14  -1.805e+00  2.916e-01  -6.192 5.94e-10 ***\n",
       "duration        3.659e-02  1.214e-02   3.015 0.002569 ** \n",
       "credit_histA31  3.826e-01  7.314e-01   0.523 0.600946    \n",
       "credit_histA32 -6.000e-01  5.616e-01  -1.068 0.285386    \n",
       "credit_histA33 -7.925e-01  6.102e-01  -1.299 0.194071    \n",
       "credit_histA34 -1.301e+00  5.651e-01  -2.302 0.021325 *  \n",
       "purposeA41     -1.729e+00  4.717e-01  -3.665 0.000247 ***\n",
       "purposeA410    -1.534e+00  8.567e-01  -1.790 0.073401 .  \n",
       "purposeA42     -1.013e+00  3.320e-01  -3.049 0.002293 ** \n",
       "purposeA43     -1.030e+00  3.122e-01  -3.299 0.000970 ***\n",
       "purposeA44     -7.406e-01  9.698e-01  -0.764 0.445081    \n",
       "purposeA45     -4.756e-01  6.669e-01  -0.713 0.475797    \n",
       "purposeA46      1.262e-01  4.844e-01   0.260 0.794518    \n",
       "purposeA48     -2.338e+00  1.310e+00  -1.785 0.074202 .  \n",
       "purposeA49     -8.586e-01  4.184e-01  -2.052 0.040162 *  \n",
       "credit_amt      1.362e-04  5.563e-05   2.447 0.014399 *  \n",
       "savingsA62     -3.859e-01  3.490e-01  -1.106 0.268883    \n",
       "savingsA63     -3.967e-01  4.958e-01  -0.800 0.423630    \n",
       "savingsA64     -3.806e+00  1.201e+00  -3.169 0.001527 ** \n",
       "savingsA65     -1.087e+00  3.282e-01  -3.311 0.000930 ***\n",
       "employ_lenA72   2.917e-01  6.194e-01   0.471 0.637679    \n",
       "employ_lenA73   2.786e-01  6.050e-01   0.460 0.645245    \n",
       "employ_lenA74  -5.446e-01  6.465e-01  -0.842 0.399528    \n",
       "employ_lenA75   6.713e-02  5.975e-01   0.112 0.910551    \n",
       "install_rate    3.934e-01  1.160e-01   3.391 0.000697 ***\n",
       "status_sexA92  -1.540e-01  4.719e-01  -0.326 0.744222    \n",
       "status_sexA93  -7.956e-01  4.573e-01  -1.740 0.081911 .  \n",
       "status_sexA94  -2.040e-01  5.481e-01  -0.372 0.709727    \n",
       "debtsA102       3.550e-02  4.962e-01   0.072 0.942954    \n",
       "debtsA103      -1.110e+00  4.828e-01  -2.298 0.021556 *  \n",
       "resid_len       8.683e-02  1.083e-01   0.802 0.422598    \n",
       "propA122        2.456e-01  3.018e-01   0.814 0.415794    \n",
       "propA123        2.019e-01  2.882e-01   0.701 0.483581    \n",
       "propA124        9.725e-01  5.698e-01   1.707 0.087869 .  \n",
       "age            -1.409e-02  1.159e-02  -1.216 0.224012    \n",
       "oth_instA142   -4.405e-01  5.574e-01  -0.790 0.429337    \n",
       "oth_instA143   -8.134e-01  2.989e-01  -2.721 0.006502 ** \n",
       "houseA152      -5.186e-01  2.973e-01  -1.744 0.081119 .  \n",
       "houseA153      -1.426e+00  6.421e-01  -2.221 0.026331 *  \n",
       "credit_cnt     -5.017e-02  2.345e-01  -0.214 0.830615    \n",
       "jobA172        -1.308e-01  8.272e-01  -0.158 0.874407    \n",
       "jobA173        -5.926e-02  8.063e-01  -0.073 0.941410    \n",
       "jobA174        -1.450e-01  8.070e-01  -0.180 0.857400    \n",
       "liab_maint      2.698e-01  3.085e-01   0.875 0.381744    \n",
       "phoneA192      -2.883e-01  2.668e-01  -1.081 0.279848    \n",
       "foreignA202    -1.224e+00  7.041e-01  -1.739 0.082066 .  \n",
       "---\n",
       "Signif. codes:  0 '***' 0.001 '**' 0.01 '*' 0.05 '.' 0.1 ' ' 1\n",
       "\n",
       "(Dispersion parameter for binomial family taken to be 1)\n",
       "\n",
       "    Null deviance: 858.57  on 699  degrees of freedom\n",
       "Residual deviance: 588.69  on 651  degrees of freedom\n",
       "AIC: 686.69\n",
       "\n",
       "Number of Fisher Scoring iterations: 6\n"
      ]
     },
     "metadata": {},
     "output_type": "display_data"
    }
   ],
   "source": [
    "# Perform One-Hot Encoding by converting the dataset to a matrix and then convert it back to a dataset for the glm() function\n",
    "credit_data_dummy <- model.matrix(~ ., data = credit_data)\n",
    "credit_data_dummy <- as.data.frame(credit_data_dummy[,2:ncol(credit_data_dummy)])\n",
    "\n",
    "# Split the data into training and testing\n",
    "training_data_dummy <- credit_data_dummy[split_index, ]\n",
    "testing_data_dummy <- credit_data_dummy[-split_index, ]\n",
    "\n",
    "# Create new logistic regression model\n",
    "credit_model_dummy <- glm(as.factor(decision) ~ ., family = binomial(link = \"logit\"), data=training_data_dummy)\n",
    "summary(credit_model_dummy)"
   ]
  },
  {
   "cell_type": "markdown",
   "id": "ff8d6319-8f68-47a6-9a91-567144afa638",
   "metadata": {},
   "source": [
    "Comparing the results of the new model that utilizes the dummy variables to the original model it appears identical which is expected. Now that I am able to remove each variable I am going to use backward elimination to iteratively remove the least significant variable one at a time until all remaining variables are statistically significant. I'll do this by removing the variable with the highest p value, updating the model without that variable, and repeating until all the variables are above a threshold I set."
   ]
  },
  {
   "cell_type": "code",
   "execution_count": 25,
   "id": "f1fde421-313e-408b-9e75-eab7acc85711",
   "metadata": {},
   "outputs": [
    {
     "name": "stdout",
     "output_type": "stream",
     "text": [
      "Currently removing: debtsA102 \n",
      "Currently removing: jobA173 \n",
      "Currently removing: employ_lenA75 \n",
      "Currently removing: credit_cnt \n",
      "Currently removing: jobA174 \n",
      "Currently removing: jobA172 \n",
      "Currently removing: purposeA46 \n",
      "Currently removing: status_sexA92 \n",
      "Currently removing: status_sexA94 \n",
      "Currently removing: credit_histA31 \n",
      "Currently removing: employ_lenA72 \n",
      "Currently removing: employ_lenA73 \n",
      "Currently removing: propA123 \n",
      "Currently removing: propA122 \n",
      "Currently removing: savingsA63 \n",
      "Currently removing: resid_len \n",
      "Currently removing: oth_instA142 \n",
      "Currently removing: purposeA44 \n",
      "Currently removing: purposeA45 \n",
      "Currently removing: savingsA62 \n",
      "Currently removing: liab_maint \n",
      "Currently removing: phoneA192 \n",
      "Currently removing: exist_acctA12 \n",
      "Currently removing: propA124 \n",
      "Currently removing: age \n",
      "Currently removing: foreignA202 \n",
      "Currently removing: purposeA48 \n"
     ]
    }
   ],
   "source": [
    "# Create vector for storing AIC values\n",
    "aic_values <- c()\n",
    "\n",
    "# Set p-value threshold\n",
    "p_thre <- 0.05\n",
    "\n",
    "while (TRUE) {\n",
    "    # Get the AIC value for the current model and append it to the aic_values vector\n",
    "    model_aic <- AIC(credit_model_dummy)\n",
    "    aic_values <- append(aic_values, model_aic)\n",
    "    \n",
    "    # Get max p-value name\n",
    "    p_values <- summary(credit_model_dummy)$coefficients[, \"Pr(>|z|)\"][-1]\n",
    "    max_p_value <- max(p_values)\n",
    "    \n",
    "    if (max_p_value > p_thre) {\n",
    "        max_p_variable <- names(which(p_values == max_p_value))\n",
    "        cat(\"Currently removing:\", max_p_variable, \"\\n\")\n",
    "\n",
    "        # create updated formula without the variable\n",
    "        formula <- as.formula(paste(\"as.factor(decision) ~ . -\", max_p_variable))\n",
    "\n",
    "        # Update the model\n",
    "        credit_model_dummy <- update(credit_model_dummy, formula)\n",
    "    }\n",
    "    \n",
    "    else {\n",
    "        break\n",
    "    }\n",
    "}"
   ]
  },
  {
   "cell_type": "markdown",
   "id": "3e2c37b1-856c-44e6-85ac-61564af4296b",
   "metadata": {},
   "source": [
    "Now that I have the model updated I'm intersted in what happened to the AIC (Akaike Information Criterion) value as each variable was removed. \n",
    "The AIC provides a balance between model goodness-of-fit and model complexity, aiming to select the model that best explains the data while penalizing for complexity. Lower AIC values indicate better model fit, with the model being both a good fit to the data and parsimonious (not overly complex). A more robust analysis would also include looking at the R-Square, RMSE, and BIC among others."
   ]
  },
  {
   "cell_type": "code",
   "execution_count": 26,
   "id": "b98e5b62-3706-4ef9-b16a-1fefebf2150a",
   "metadata": {},
   "outputs": [
    {
     "data": {
      "image/png": "[encoded data removed]",
      "text/plain": [
       "plot without title"
      ]
     },
     "metadata": {},
     "output_type": "display_data"
    }
   ],
   "source": [
    "options(repr.plot.width=5, repr.plot.height=4)\n",
    "plot(aic_values)"
   ]
  },
  {
   "cell_type": "markdown",
   "id": "73bd7d62-9893-4280-8b5d-cec5c2290b58",
   "metadata": {},
   "source": [
    "Looking at the results of the AIC values it does appear that the model produced at the 24th/26th iteration has the best balance of goodness-of-fit and model complexity. When selecting the final model it's a balance between explainability and performance, so depending on the situation it might make sense to go with that model. However, for this homework I am going to move forward with the final model produced from the backward elimination procedure."
   ]
  },
  {
   "cell_type": "markdown",
   "id": "feb38d01-a2d3-4fdc-9de9-96ac13c91779",
   "metadata": {},
   "source": [
    "#### Step 4 - Interpret the Model\r\n",
    "Now that I have the model reduced to only have variables with a p-value above the significance threshold of 0.05 Iam ready to interpret the model. I'll start with a summary of the final mode. "
   ]
  },
  {
   "cell_type": "code",
   "execution_count": 27,
   "id": "d9655997-ed4a-4aba-8794-06975202dd35",
   "metadata": {},
   "outputs": [
    {
     "data": {
      "text/plain": [
       "\n",
       "Call:\n",
       "glm(formula = as.factor(decision) ~ exist_acctA13 + exist_acctA14 + \n",
       "    duration + credit_histA32 + credit_histA33 + credit_histA34 + \n",
       "    purposeA41 + purposeA410 + purposeA42 + purposeA43 + purposeA49 + \n",
       "    credit_amt + savingsA64 + savingsA65 + employ_lenA74 + install_rate + \n",
       "    status_sexA93 + debtsA103 + oth_instA143 + houseA152 + houseA153, \n",
       "    family = binomial(link = \"logit\"), data = training_data_dummy)\n",
       "\n",
       "Deviance Residuals: \n",
       "    Min       1Q   Median       3Q      Max  \n",
       "-2.2556  -0.7047  -0.3471   0.6574   2.6301  \n",
       "\n",
       "Coefficients:\n",
       "                 Estimate Std. Error z value Pr(>|z|)    \n",
       "(Intercept)     7.713e-01  5.711e-01   1.351 0.176848    \n",
       "exist_acctA13  -1.285e+00  4.196e-01  -3.062 0.002197 ** \n",
       "exist_acctA14  -1.764e+00  2.474e-01  -7.127 1.02e-12 ***\n",
       "duration        4.185e-02  1.148e-02   3.645 0.000267 ***\n",
       "credit_histA32 -7.668e-01  3.642e-01  -2.105 0.035275 *  \n",
       "credit_histA33 -9.957e-01  4.694e-01  -2.121 0.033887 *  \n",
       "credit_histA34 -1.475e+00  3.940e-01  -3.744 0.000181 ***\n",
       "purposeA41     -1.641e+00  4.457e-01  -3.683 0.000230 ***\n",
       "purposeA410    -1.663e+00  8.153e-01  -2.040 0.041385 *  \n",
       "purposeA42     -7.908e-01  2.922e-01  -2.706 0.006808 ** \n",
       "purposeA43     -9.426e-01  2.721e-01  -3.465 0.000531 ***\n",
       "purposeA49     -9.003e-01  3.857e-01  -2.335 0.019565 *  \n",
       "credit_amt      1.233e-04  5.098e-05   2.419 0.015567 *  \n",
       "savingsA64     -3.498e+00  1.106e+00  -3.163 0.001562 ** \n",
       "savingsA65     -1.031e+00  3.010e-01  -3.426 0.000612 ***\n",
       "employ_lenA74  -7.401e-01  2.968e-01  -2.493 0.012656 *  \n",
       "install_rate    3.776e-01  1.095e-01   3.450 0.000562 ***\n",
       "status_sexA93  -5.886e-01  2.180e-01  -2.700 0.006936 ** \n",
       "debtsA103      -1.140e+00  4.565e-01  -2.498 0.012482 *  \n",
       "oth_instA143   -7.767e-01  2.580e-01  -3.010 0.002611 ** \n",
       "houseA152      -6.890e-01  2.677e-01  -2.574 0.010065 *  \n",
       "houseA153      -9.324e-01  4.196e-01  -2.222 0.026262 *  \n",
       "---\n",
       "Signif. codes:  0 '***' 0.001 '**' 0.01 '*' 0.05 '.' 0.1 ' ' 1\n",
       "\n",
       "(Dispersion parameter for binomial family taken to be 1)\n",
       "\n",
       "    Null deviance: 858.57  on 699  degrees of freedom\n",
       "Residual deviance: 609.27  on 678  degrees of freedom\n",
       "AIC: 653.27\n",
       "\n",
       "Number of Fisher Scoring iterations: 6\n"
      ]
     },
     "metadata": {},
     "output_type": "display_data"
    }
   ],
   "source": [
    "summary(credit_model_dummy)"
   ]
  },
  {
   "cell_type": "markdown",
   "id": "c1986d58-3dd8-4cf1-af62-02b7cb1aae8b",
   "metadata": {},
   "source": [
    "We can see that the model has now been trained only with variables with a significance < 0.05. The AIC value has also been decreased compared to the original model although not as far as it could have been reduced as seen in the plot above. I want to see the coefficients for my final model which I will output below."
   ]
  },
  {
   "cell_type": "code",
   "execution_count": 39,
   "id": "ebdc29c7-8851-4c3a-b740-838b8901e001",
   "metadata": {},
   "outputs": [
    {
     "name": "stdout",
     "output_type": "stream",
     "text": [
      "   (Intercept)  exist_acctA13  exist_acctA14       duration credit_histA32 \n",
      "  0.7713278405  -1.2849753747  -1.7635294799   0.0418524116  -0.7667749318 \n",
      "credit_histA33 credit_histA34     purposeA41    purposeA410     purposeA42 \n",
      " -0.9957428533  -1.4748464953  -1.6414808117  -1.6630009816  -0.7907875768 \n",
      "    purposeA43     purposeA49     credit_amt     savingsA64     savingsA65 \n",
      " -0.9425797542  -0.9003451974   0.0001233166  -3.4983739271  -1.0313526820 \n",
      " employ_lenA74   install_rate  status_sexA93      debtsA103   oth_instA143 \n",
      " -0.7401182465   0.3775702623  -0.5886461045  -1.1404630191  -0.7766752938 \n",
      "     houseA152      houseA153 \n",
      " -0.6890182557  -0.9323711974 \n"
     ]
    }
   ],
   "source": [
    "# Get model coefficients\n",
    "print(credit_model_dummy$coefficients)"
   ]
  },
  {
   "cell_type": "markdown",
   "id": "9d7b257d-9a3b-4a72-b8ec-f99c5c334817",
   "metadata": {},
   "source": [
    "Next, I am going to use the testing data to see how well the model predicts the credit 'decision' variable. I found the information about evaluating regression models at https://www.geeksforgeeks.org/plotting-roc-curve-in-r-programming/ very useful for this."
   ]
  },
  {
   "cell_type": "code",
   "execution_count": 29,
   "id": "d65131ce-b4e4-4ec6-a669-b0f5aebe01c4",
   "metadata": {},
   "outputs": [],
   "source": [
    "# Error metrix taken from geeksforgeeks\n",
    "err_metric = function(GFGCM)\n",
    "{\n",
    "    GFGTN = GFGCM[1, 1]\n",
    "    GFGRATE = GFGCM[2, 2]\n",
    "    FP = GFGCM[1, 2]\n",
    "    FN = GFGCM[2, 1]\n",
    "    gfgPrecise = (GFGRATE)/(GFGRATE+FP)\n",
    "    recall_score = (FP)/(FP+GFGTN)\n",
    "    f1_score = 2*((gfgPrecise*recall_score)/(gfgPrecise+recall_score))\n",
    "    accuracy_model = (GFGRATE+GFGTN)/(GFGRATE+GFGTN+FP+FN)\n",
    "    False_positive_rate = (FP)/(FP+GFGTN)\n",
    "    False_negative_rate = (FN)/(FN+GFGRATE)\n",
    "    print(paste(\"GfgPrecise value of the model: \", round(gfgPrecise, 2)))\n",
    "    print(paste(\"Accuracy of the model: \", round(accuracy_model, 2)))\n",
    "    print(paste(\"Recall value of the model: \", round(recall_score, 2)))\n",
    "    print(paste(\"False Positive rate of the model: \", round(False_positive_rate, 2)))\n",
    "    print(paste(\"False Negative rate of the model: \", round(False_negative_rate, 2)))\n",
    "    print(paste(\"f1 score of the model: \", round(f1_score, 2)))\n",
    "}"
   ]
  },
  {
   "cell_type": "markdown",
   "id": "e7f2c2dc-a880-4814-bfab-1c329575c9ff",
   "metadata": {},
   "source": [
    "I will start by creating a confusion matrix that I can use to get various model metrics from"
   ]
  },
  {
   "cell_type": "code",
   "execution_count": 38,
   "id": "9846e235-33aa-4619-b5ec-3014ba8ef6d4",
   "metadata": {},
   "outputs": [
    {
     "data": {
      "text/plain": [
       "    Min.  1st Qu.   Median     Mean  3rd Qu.     Max. \n",
       "0.001117 0.078413 0.218238 0.314353 0.541337 0.950794 "
      ]
     },
     "metadata": {},
     "output_type": "display_data"
    }
   ],
   "source": [
    "# Create predictions from the regression model on the testing data\n",
    "pred_log_r <- predict(credit_model_dummy, testing_data_dummy, type = \"response\")\n",
    "summary(pred_log_r)"
   ]
  },
  {
   "cell_type": "code",
   "execution_count": 31,
   "id": "024433e6-279c-4552-82b3-f058e1388a15",
   "metadata": {},
   "outputs": [
    {
     "data": {
      "text/plain": [
       "   pred_int\n",
       "      0   1\n",
       "  1 170  42\n",
       "  2  41  47"
      ]
     },
     "metadata": {},
     "output_type": "display_data"
    }
   ],
   "source": [
    "# Convert predictions to yes-no answers (1 or 0) and output the confusion matrix\n",
    "pred_int <- as.integer(pred_log_r > 0.5)\n",
    "conf_matrix <- table(testing_data_dummy$decision, pred_int)\n",
    "conf_matrix"
   ]
  },
  {
   "cell_type": "code",
   "execution_count": 32,
   "id": "108fd4e5-645c-4d2f-aec3-a6649fe50500",
   "metadata": {},
   "outputs": [
    {
     "name": "stdout",
     "output_type": "stream",
     "text": [
      "[1] \"GfgPrecise value of the model:  0.53\"\n",
      "[1] \"Accuracy of the model:  0.72\"\n",
      "[1] \"Recall value of the model:  0.2\"\n",
      "[1] \"False Positive rate of the model:  0.2\"\n",
      "[1] \"False Negative rate of the model:  0.47\"\n",
      "[1] \"f1 score of the model:  0.29\"\n"
     ]
    }
   ],
   "source": [
    "# Get the error metrics\n",
    "err_metric(conf_matrix)"
   ]
  },
  {
   "cell_type": "markdown",
   "id": "4c02934a-48ad-4e03-9bce-5f5d5a859eed",
   "metadata": {},
   "source": [
    "The model correctly classifies 72% of the points and has an f1 score of 0.29. The F1 score is a metric commonly used in binary classification tasks to evaluate the performance of the model. It is the harmonic mean of precision and recall, providing a single score that balances both measures. A value close to 1 is ideal. and recall:\n",
    "\n",
    "Next I'll print out the ROC curve and get the AUC value."
   ]
  },
  {
   "cell_type": "code",
   "execution_count": 33,
   "id": "06473a37-6949-463e-96b7-3edfa19f02da",
   "metadata": {},
   "outputs": [
    {
     "name": "stderr",
     "output_type": "stream",
     "text": [
      "Setting levels: control = 0, case = 1\n",
      "Setting direction: controls < cases\n"
     ]
    },
    {
     "name": "stdout",
     "output_type": "stream",
     "text": [
      "The area under the curve is: 0.667 \n"
     ]
    },
    {
     "data": {
      "image/png": "[encoded data removed]",
      "text/plain": [
       "Plot with title \"ROC curve -- Logistic Regression \""
      ]
     },
     "metadata": {},
     "output_type": "display_data"
    }
   ],
   "source": [
    "# Print out the ROC curve\n",
    "roc_values <- roc(pred_int, testing_data_dummy$decision)\n",
    "cat('The area under the curve is:', round(roc_values$auc, 3), '\\n')\n",
    "plot(roc_values, main=\"ROC curve -- Logistic Regression \")"
   ]
  },
  {
   "cell_type": "markdown",
   "id": "cc972c41-141e-477c-bbf9-24c28341b4dd",
   "metadata": {},
   "source": [
    "#### Step 5 - Create threshold based on part 2 of the question\n",
    "I know that in this data set, they estimate that incorrectly identifying a bad customer as good, is 5 times worse than incorrectly classifying a good customer as bad. Next, I am going to calculate the total cost of various threshold values to determine a good threshold probability. I am going to do that by iterating through multiple thresholds and calculating and storing the total cost for that threshold. The cost will have the formula:\n",
    "\n",
    "$$Cost = (FalsePositives * 5) + FalseNegatives$$"
   ]
  },
  {
   "cell_type": "code",
   "execution_count": 34,
   "id": "c1dd94eb-783f-4dc0-899c-175620d40ac5",
   "metadata": {},
   "outputs": [
    {
     "name": "stdout",
     "output_type": "stream",
     "text": [
      "The threshold that produces the lowest cost is 0.17 which has a cost of 166 \n",
      "Compared to the threshold value of 0.5 which had a cost of 247 the new threshold reduced the total cost by 81"
     ]
    }
   ],
   "source": [
    "# Loop through various threshold values and calculate the cost\n",
    "thres_values <- seq(0.01, 1, by = 0.01)\n",
    "cost_results <- c()\n",
    "\n",
    "for (value in thres_values) {\n",
    "    pred_int <- as.integer(pred_log_r > value)\n",
    "    conf_matrix <- table(testing_data_dummy$decision, pred_int)\n",
    "    \n",
    "    if(ncol(conf_matrix) > 1) {\n",
    "        false_neg <- conf_matrix[1,2]\n",
    "        }\n",
    "    else {\n",
    "        false_neg <- 0\n",
    "        }\n",
    "\n",
    "    if(nrow(conf_matrix) > 1) {\n",
    "        false_pos <- conf_matrix[2,1]\n",
    "        }\n",
    "    else {\n",
    "        false_pos <- 0\n",
    "        }\n",
    "    \n",
    "    cost <- (false_pos * 5) + false_neg\n",
    "    cost_results <- append(cost_results, cost)\n",
    "    }\n",
    "\n",
    "min_cost <- which.min(cost_results)\n",
    "cat('The threshold that produces the lowest cost is', min_cost/100, 'which has a cost of', cost_results[min_cost], '\\n')\n",
    "cat('Compared to the threshold value of 0.5 which had a cost of', cost_results[50], 'the new threshold reduced the total cost by', cost_results[50] - cost_results[min_cost])"
   ]
  },
  {
   "cell_type": "markdown",
   "id": "75b17d29-eebb-4fce-9519-e6cd80df2dfa",
   "metadata": {},
   "source": [
    "Next I want to plot the cost vs. the threshold value to visualize the results"
   ]
  },
  {
   "cell_type": "code",
   "execution_count": 35,
   "id": "23e777cd-0ce2-482a-b208-b248fe381421",
   "metadata": {},
   "outputs": [
    {
     "data": {
      "image/png": "[encoded data removed]",
      "text/plain": [
       "plot without title"
      ]
     },
     "metadata": {},
     "output_type": "display_data"
    }
   ],
   "source": [
    "# Create table of thresholds and cost\n",
    "cost_table <- data.frame(Threshold = thres_values, Cost = cost_results)\n",
    "ggplot(cost_table, aes(x = Threshold, y = Cost)) +\n",
    "    geom_line(size = .5, color = \"green\") +\n",
    "    geom_point(color = \"blue\", size = 1) +\n",
    "    labs(x = \"Threshold\", y = \"Cost\", title = \"Threshold vs. Cost\") +\n",
    "    xlim(0, 1) +\n",
    "    ylim(100, 475) +\n",
    "    theme_minimal()"
   ]
  },
  {
   "cell_type": "markdown",
   "id": "dbe52499-249a-4b38-9a64-dc7d9f59a98b",
   "metadata": {},
   "source": [
    "The graph shows that values around 0.16 to 0.22 provide the lowest cost. Based on the information above, for my model setting a **threshold value of 0.17 provided the best model**. The confusion matrix for this final model is provided below."
   ]
  },
  {
   "cell_type": "code",
   "execution_count": 36,
   "id": "5d084fdb-9285-468c-b920-7a3a1456b0b3",
   "metadata": {},
   "outputs": [
    {
     "data": {
      "text/plain": [
       "   pred_int\n",
       "      0   1\n",
       "  1 123  89\n",
       "  2  17  71"
      ]
     },
     "metadata": {},
     "output_type": "display_data"
    },
    {
     "name": "stdout",
     "output_type": "stream",
     "text": [
      "[1] \"GfgPrecise value of the model:  0.44\"\n",
      "[1] \"Accuracy of the model:  0.65\"\n",
      "[1] \"Recall value of the model:  0.42\"\n",
      "[1] \"False Positive rate of the model:  0.42\"\n",
      "[1] \"False Negative rate of the model:  0.19\"\n",
      "[1] \"f1 score of the model:  0.43\"\n"
     ]
    }
   ],
   "source": [
    "pred_int <- as.integer(pred_log_r > 0.2)\n",
    "conf_matrix <- table(testing_data_dummy$decision, pred_int)\n",
    "conf_matrix\n",
    "err_metric(conf_matrix)"
   ]
  }
 ],
 "metadata": {
  "kernelspec": {
   "display_name": "R",
   "language": "R",
   "name": "ir"
  },
  "language_info": {
   "codemirror_mode": "r",
   "file_extension": ".r",
   "mimetype": "text/x-r-source",
   "name": "R",
   "pygments_lexer": "r",
   "version": "3.6.1"
  }
 },
 "nbformat": 4,
 "nbformat_minor": 5
}
