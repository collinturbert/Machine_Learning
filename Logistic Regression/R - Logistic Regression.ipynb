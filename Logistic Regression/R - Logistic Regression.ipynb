{
 "cells": [
  {
   "cell_type": "markdown",
   "id": "62a77495-2c73-414d-8107-dd66a4b45194",
   "metadata": {},
   "source": [
    "#### Logistic Regression\n",
    "> The purpose of this notebook is to explore the logistic regression algorithm and it's implementation. I plan on using the GermanCredit data set germancredit.txt from http://archive.ics.uci.edu/ml/machine-learning-databases/statlog/german / (description at http://archive.ics.uci.edu/ml/datasets/Statlog+%28German+Credit+Data%29 ) to implement logistic regression to find a good predictive model for whether credit applicants are good credit risks or not. Because linear regression gives a result between 0 and 1, it requires setting a threshold probability to separate between “good” and “bad” answers. In this data set, they estimate that incorrectly identifying a bad customer as good, is 5 times worse than incorrectly classifying a good customer as bad which I will use for implementing the threshold."
   ]
  },
  {
   "cell_type": "code",
   "execution_count": 37,
   "id": "d64fb628-4adc-44b7-be94-810ad07f4f4c",
   "metadata": {
    "vscode": {
     "languageId": "r"
    }
   },
   "outputs": [],
   "source": [
    "# Set seed so output is reproducible\n",
    "set.seed(123)\n",
    "\n",
    "# Load libraries needed for analysis\n",
    "library(ggplot2) # for plots\n",
    "library(dplyr) # includes pipeline operator\n",
    "library(rpart) # tree model\n",
    "library(rpart.plot) # visualizing the tree model\n",
    "library(rattle) # another way to visualize the tree model\n",
    "library(randomForest) # random forest model\n",
    "library(caret) # for performing cross-validation\n",
    "library(cowplot) # for creating grid of plots\n",
    "library(pROC) # creating ROC curves"
   ]
  },
  {
   "cell_type": "markdown",
   "id": "81a0b21e-7e33-4284-92d2-106a20d0885e",
   "metadata": {},
   "source": [
    "To create the model I am going to use the following steps:\n",
    "\n",
    "1) Load and explore the dataset\n",
    "2) Create training and testing datasets\n",
    "3) Train and optimize the logistic regression model\n",
    "4) Interpret model\n",
    "5) Create threshold based on part 2 of the question"
   ]
  },
  {
   "cell_type": "markdown",
   "id": "8533c4ea-1c91-4fcc-8e27-81445bd7a197",
   "metadata": {},
   "source": [
    "#### Step 1 - Load and Explore the Dataset\n",
    "The first thing I am going to do is to load the dataset and get some summary statistics to get a better idea of the data I am working with."
   ]
  },
  {
   "cell_type": "code",
   "execution_count": 18,
   "id": "f13dd097-564a-41f1-b6a0-a66369086916",
   "metadata": {
    "vscode": {
     "languageId": "r"
    }
   },
   "outputs": [
    {
     "data": {
      "text/html": [
       "<table>\n",
       "<thead><tr><th scope=col>V1</th><th scope=col>V2</th><th scope=col>V3</th><th scope=col>V4</th><th scope=col>V5</th><th scope=col>V6</th><th scope=col>V7</th><th scope=col>V8</th><th scope=col>V9</th><th scope=col>V10</th><th scope=col>...</th><th scope=col>V12</th><th scope=col>V13</th><th scope=col>V14</th><th scope=col>V15</th><th scope=col>V16</th><th scope=col>V17</th><th scope=col>V18</th><th scope=col>V19</th><th scope=col>V20</th><th scope=col>V21</th></tr></thead>\n",
       "<tbody>\n",
       "\t<tr><td>A11 </td><td> 6  </td><td>A34 </td><td>A43 </td><td>1169</td><td>A65 </td><td>A75 </td><td>4   </td><td>A93 </td><td>A101</td><td>... </td><td>A121</td><td>67  </td><td>A143</td><td>A152</td><td>2   </td><td>A173</td><td>1   </td><td>A192</td><td>A201</td><td>1   </td></tr>\n",
       "\t<tr><td>A12 </td><td>48  </td><td>A32 </td><td>A43 </td><td>5951</td><td>A61 </td><td>A73 </td><td>2   </td><td>A92 </td><td>A101</td><td>... </td><td>A121</td><td>22  </td><td>A143</td><td>A152</td><td>1   </td><td>A173</td><td>1   </td><td>A191</td><td>A201</td><td>2   </td></tr>\n",
       "\t<tr><td>A14 </td><td>12  </td><td>A34 </td><td>A46 </td><td>2096</td><td>A61 </td><td>A74 </td><td>2   </td><td>A93 </td><td>A101</td><td>... </td><td>A121</td><td>49  </td><td>A143</td><td>A152</td><td>1   </td><td>A172</td><td>2   </td><td>A191</td><td>A201</td><td>1   </td></tr>\n",
       "\t<tr><td>A11 </td><td>42  </td><td>A32 </td><td>A42 </td><td>7882</td><td>A61 </td><td>A74 </td><td>2   </td><td>A93 </td><td>A103</td><td>... </td><td>A122</td><td>45  </td><td>A143</td><td>A153</td><td>1   </td><td>A173</td><td>2   </td><td>A191</td><td>A201</td><td>1   </td></tr>\n",
       "\t<tr><td>A11 </td><td>24  </td><td>A33 </td><td>A40 </td><td>4870</td><td>A61 </td><td>A73 </td><td>3   </td><td>A93 </td><td>A101</td><td>... </td><td>A124</td><td>53  </td><td>A143</td><td>A153</td><td>2   </td><td>A173</td><td>2   </td><td>A191</td><td>A201</td><td>2   </td></tr>\n",
       "\t<tr><td>A14 </td><td>36  </td><td>A32 </td><td>A46 </td><td>9055</td><td>A65 </td><td>A73 </td><td>2   </td><td>A93 </td><td>A101</td><td>... </td><td>A124</td><td>35  </td><td>A143</td><td>A153</td><td>1   </td><td>A172</td><td>2   </td><td>A192</td><td>A201</td><td>1   </td></tr>\n",
       "</tbody>\n",
       "</table>\n"
      ],
      "text/latex": [
       "\\begin{tabular}{r|lllllllllllllllllllll}\n",
       " V1 & V2 & V3 & V4 & V5 & V6 & V7 & V8 & V9 & V10 & ... & V12 & V13 & V14 & V15 & V16 & V17 & V18 & V19 & V20 & V21\\\\\n",
       "\\hline\n",
       "\t A11  &  6   & A34  & A43  & 1169 & A65  & A75  & 4    & A93  & A101 & ...  & A121 & 67   & A143 & A152 & 2    & A173 & 1    & A192 & A201 & 1   \\\\\n",
       "\t A12  & 48   & A32  & A43  & 5951 & A61  & A73  & 2    & A92  & A101 & ...  & A121 & 22   & A143 & A152 & 1    & A173 & 1    & A191 & A201 & 2   \\\\\n",
       "\t A14  & 12   & A34  & A46  & 2096 & A61  & A74  & 2    & A93  & A101 & ...  & A121 & 49   & A143 & A152 & 1    & A172 & 2    & A191 & A201 & 1   \\\\\n",
       "\t A11  & 42   & A32  & A42  & 7882 & A61  & A74  & 2    & A93  & A103 & ...  & A122 & 45   & A143 & A153 & 1    & A173 & 2    & A191 & A201 & 1   \\\\\n",
       "\t A11  & 24   & A33  & A40  & 4870 & A61  & A73  & 3    & A93  & A101 & ...  & A124 & 53   & A143 & A153 & 2    & A173 & 2    & A191 & A201 & 2   \\\\\n",
       "\t A14  & 36   & A32  & A46  & 9055 & A65  & A73  & 2    & A93  & A101 & ...  & A124 & 35   & A143 & A153 & 1    & A172 & 2    & A192 & A201 & 1   \\\\\n",
       "\\end{tabular}\n"
      ],
      "text/markdown": [
       "\n",
       "| V1 | V2 | V3 | V4 | V5 | V6 | V7 | V8 | V9 | V10 | ... | V12 | V13 | V14 | V15 | V16 | V17 | V18 | V19 | V20 | V21 |\n",
       "|---|---|---|---|---|---|---|---|---|---|---|---|---|---|---|---|---|---|---|---|---|\n",
       "| A11  |  6   | A34  | A43  | 1169 | A65  | A75  | 4    | A93  | A101 | ...  | A121 | 67   | A143 | A152 | 2    | A173 | 1    | A192 | A201 | 1    |\n",
       "| A12  | 48   | A32  | A43  | 5951 | A61  | A73  | 2    | A92  | A101 | ...  | A121 | 22   | A143 | A152 | 1    | A173 | 1    | A191 | A201 | 2    |\n",
       "| A14  | 12   | A34  | A46  | 2096 | A61  | A74  | 2    | A93  | A101 | ...  | A121 | 49   | A143 | A152 | 1    | A172 | 2    | A191 | A201 | 1    |\n",
       "| A11  | 42   | A32  | A42  | 7882 | A61  | A74  | 2    | A93  | A103 | ...  | A122 | 45   | A143 | A153 | 1    | A173 | 2    | A191 | A201 | 1    |\n",
       "| A11  | 24   | A33  | A40  | 4870 | A61  | A73  | 3    | A93  | A101 | ...  | A124 | 53   | A143 | A153 | 2    | A173 | 2    | A191 | A201 | 2    |\n",
       "| A14  | 36   | A32  | A46  | 9055 | A65  | A73  | 2    | A93  | A101 | ...  | A124 | 35   | A143 | A153 | 1    | A172 | 2    | A192 | A201 | 1    |\n",
       "\n"
      ],
      "text/plain": [
       "  V1  V2 V3  V4  V5   V6  V7  V8 V9  V10  ... V12  V13 V14  V15  V16 V17  V18\n",
       "1 A11  6 A34 A43 1169 A65 A75 4  A93 A101 ... A121 67  A143 A152 2   A173 1  \n",
       "2 A12 48 A32 A43 5951 A61 A73 2  A92 A101 ... A121 22  A143 A152 1   A173 1  \n",
       "3 A14 12 A34 A46 2096 A61 A74 2  A93 A101 ... A121 49  A143 A152 1   A172 2  \n",
       "4 A11 42 A32 A42 7882 A61 A74 2  A93 A103 ... A122 45  A143 A153 1   A173 2  \n",
       "5 A11 24 A33 A40 4870 A61 A73 3  A93 A101 ... A124 53  A143 A153 2   A173 2  \n",
       "6 A14 36 A32 A46 9055 A65 A73 2  A93 A101 ... A124 35  A143 A153 1   A172 2  \n",
       "  V19  V20  V21\n",
       "1 A192 A201 1  \n",
       "2 A191 A201 2  \n",
       "3 A191 A201 1  \n",
       "4 A191 A201 1  \n",
       "5 A191 A201 2  \n",
       "6 A192 A201 1  "
      ]
     },
     "metadata": {},
     "output_type": "display_data"
    }
   ],
   "source": [
    "# Load the German credit data and print the head of the table to make sure it loaded correctly\n",
    "credit_data <- read.table(\"germancredit.txt\", header = FALSE)\n",
    "head(credit_data)"
   ]
  },
  {
   "cell_type": "markdown",
   "id": "0eda8a9e-e807-44b2-99af-80eb0113fea9",
   "metadata": {},
   "source": [
    "In examining the dataset I started by looking at the description provided at the UC Irvine ML Repository where the data was originally taken from. It included a cost matrix that showed that the cost of classifying a customer as \"good\" when they are \"bad\" was 5x the cost of classifying a customer as \"bad\" when they are actually \"good\" which is in line with part 2 of this question. It also provided a description of all of the attributes and what each of their values means. Lastly, it provides baseline model performance for various classification algorithms. For logistic regression it has a baseline accuracy of 70% - 80.8% and precision of 64.242% - 78.042%. It also shows that a Random Forest Classification model is the best option for the dataset. I have provided a copy of the Variables Table below:\n",
    "\n",
    "![Variables Table](Variables_table.png)"
   ]
  },
  {
   "cell_type": "markdown",
   "id": "1f707b04-532d-4736-8360-186f246ae91a",
   "metadata": {},
   "source": [
    "Since the original file didn't include headers I am going to add them to the dataset below. I also considered changing the attribute values to what they represent (ie A11 -> '<0', A40 -> 'car') but decided it isn't necassary for this analysis. However, if this was a model I was planning on using frequently it could be worth it to help with interpretting the results."
   ]
  },
  {
   "cell_type": "code",
   "execution_count": 19,
   "id": "b5fdac15-8648-4266-a8b4-559df117ba04",
   "metadata": {
    "vscode": {
     "languageId": "r"
    }
   },
   "outputs": [],
   "source": [
    "colnames(credit_data) <- c(\"exist_acct\", \"duration\", \"credit_hist\", \"purpose\", \"credit_amt\", \"savings\", \"employ_len\", \"install_rate\", \"status_sex\", \"debts\", \"resid_len\", \"prop\", \"age\", \"oth_inst\", \"house\", \"credit_cnt\", \"job\", \"liab_maint\", \"phone\", \"foreign\", \"decision\")"
   ]
  },
  {
   "cell_type": "markdown",
   "id": "a5b57191-3cb3-4cbb-be20-eb922bb12472",
   "metadata": {},
   "source": [
    "Next, I want to get some summary statistics about the dataset which I'll do below. I already know that their aren't any missing values from the table above so I won't check that but I will look at the distribution of the variables."
   ]
  },
  {
   "cell_type": "code",
   "execution_count": 20,
   "id": "d9525639-128f-4b90-b2ce-54b81466c651",
   "metadata": {
    "vscode": {
     "languageId": "r"
    }
   },
   "outputs": [
    {
     "data": {
      "text/plain": [
       " exist_acct    duration    credit_hist    purpose      credit_amt    savings  \n",
       " A11:274    Min.   : 4.0   A30: 40     A43    :280   Min.   :  250   A61:603  \n",
       " A12:269    1st Qu.:12.0   A31: 49     A40    :234   1st Qu.: 1366   A62:103  \n",
       " A13: 63    Median :18.0   A32:530     A42    :181   Median : 2320   A63: 63  \n",
       " A14:394    Mean   :20.9   A33: 88     A41    :103   Mean   : 3271   A64: 48  \n",
       "            3rd Qu.:24.0   A34:293     A49    : 97   3rd Qu.: 3972   A65:183  \n",
       "            Max.   :72.0               A46    : 50   Max.   :18424            \n",
       "                                       (Other): 55                            \n",
       " employ_len  install_rate   status_sex  debts       resid_len       prop    \n",
       " A71: 62    Min.   :1.000   A91: 50    A101:907   Min.   :1.000   A121:282  \n",
       " A72:172    1st Qu.:2.000   A92:310    A102: 41   1st Qu.:2.000   A122:232  \n",
       " A73:339    Median :3.000   A93:548    A103: 52   Median :3.000   A123:332  \n",
       " A74:174    Mean   :2.973   A94: 92               Mean   :2.845   A124:154  \n",
       " A75:253    3rd Qu.:4.000                         3rd Qu.:4.000             \n",
       "            Max.   :4.000                         Max.   :4.000             \n",
       "                                                                            \n",
       "      age        oth_inst    house       credit_cnt      job     \n",
       " Min.   :19.00   A141:139   A151:179   Min.   :1.000   A171: 22  \n",
       " 1st Qu.:27.00   A142: 47   A152:713   1st Qu.:1.000   A172:200  \n",
       " Median :33.00   A143:814   A153:108   Median :1.000   A173:630  \n",
       " Mean   :35.55                         Mean   :1.407   A174:148  \n",
       " 3rd Qu.:42.00                         3rd Qu.:2.000             \n",
       " Max.   :75.00                         Max.   :4.000             \n",
       "                                                                 \n",
       "   liab_maint     phone     foreign       decision  \n",
       " Min.   :1.000   A191:596   A201:963   Min.   :1.0  \n",
       " 1st Qu.:1.000   A192:404   A202: 37   1st Qu.:1.0  \n",
       " Median :1.000                         Median :1.0  \n",
       " Mean   :1.155                         Mean   :1.3  \n",
       " 3rd Qu.:1.000                         3rd Qu.:2.0  \n",
       " Max.   :2.000                         Max.   :2.0  \n",
       "                                                    "
      ]
     },
     "metadata": {},
     "output_type": "display_data"
    }
   ],
   "source": [
    "summary(credit_data)"
   ]
  },
  {
   "cell_type": "markdown",
   "id": "143462a4-17e3-4ec0-9f8d-ea68481c8413",
   "metadata": {},
   "source": [
    "The dataset includes 11 categorical variables, three binary variables, and seven integers. The high number of categorical/binary variables makes me think that a CART model would be a great option since the different classes would allow for easy interpretation. Next I am going to plot the distibution of values for each of the variables to visually inspect them."
   ]
  },
  {
   "cell_type": "code",
   "execution_count": 21,
   "id": "d0b381a0-8f42-4318-b384-24d46dd1345a",
   "metadata": {
    "vscode": {
     "languageId": "r"
    }
   },
   "outputs": [
    {
     "data": {
      "image/png": "[encoded data removed]",
      "text/plain": [
       "plot without title"
      ]
     },
     "metadata": {},
     "output_type": "display_data"
    }
   ],
   "source": [
    "options(repr.plot.width=10, repr.plot.height=15)\n",
    "\n",
    "# Define the names of columns containing categorical variables\n",
    "categorical_columns <- c(\"exist_acct\", \"credit_hist\", \"purpose\", \"savings\", \"employ_len\", \"install_rate\",\n",
    "                         \"status_sex\", \"debts\", \"resid_len\", \"prop\", \"oth_inst\", \"house\", \"credit_cnt\",\n",
    "                         \"job\", \"liab_maint\", \"phone\", \"foreign\", \"decision\")\n",
    "\n",
    "# Define the names of columns containing numerical variables\n",
    "numerical_columns <- c(\"duration\", \"credit_amt\", \"age\")\n",
    "\n",
    "# Plot histograms for numerical columns\n",
    "num_plots <- lapply(numerical_columns, function(col) {\n",
    "  if(col == \"credit_amt\") {\n",
    "    ggplot(credit_data, aes_string(x = col)) +\n",
    "      geom_histogram(binwidth = 1000, fill = \"skyblue\", color = \"black\") +\n",
    "      labs(title = col) +\n",
    "      theme_minimal()\n",
    "  } else {\n",
    "    ggplot(credit_data, aes_string(x = col)) +\n",
    "      geom_histogram(binwidth = 5, fill = \"skyblue\", color = \"black\") +\n",
    "      labs(title = col) +\n",
    "      theme_minimal()\n",
    "  }\n",
    "})\n",
    "\n",
    "# Plot histograms for categorical columns\n",
    "cat_plots <- lapply(categorical_columns, function(col) {\n",
    "  ggplot(credit_data, aes_string(x = col)) +\n",
    "    geom_bar(fill = \"skyblue\") +\n",
    "    labs(title = col) +\n",
    "    theme_minimal() +\n",
    "    theme(axis.text.x = element_text(angle = 45, hjust = 1))\n",
    "})\n",
    "\n",
    "# Combine plots for numerical and categorical columns\n",
    "all_plots <- c(num_plots, cat_plots)\n",
    "\n",
    "# Arrange plots in a grid with four plots in each row using cowplot\n",
    "plot_grid(plotlist = all_plots, ncol = 4)"
   ]
  },
  {
   "cell_type": "markdown",
   "id": "51839b6c-7079-4d3d-bcac-a844682e4f9d",
   "metadata": {},
   "source": [
    "One thing worth noting is the large discrepency in the number of datapoints labeled as 'good' vs. the number labeled as 'bad' which is less than half as many. It could create bias in our model towards false positives since the model will have a larger number of 'good' classifications."
   ]
  },
  {
   "cell_type": "markdown",
   "id": "81f6c4c2-2796-4d2a-8217-3ceb4769e69d",
   "metadata": {},
   "source": [
    "#### Step 2 - Create Training and Testing Sets\n",
    "Now that I have a good handle on what the data is, I'm going to partition it into training and testing sets. I am going to split the data into 70-30 for training-testing using the createDataPartition() function from the caret package. This function ensures that the split is stratified, meaning that the distribution of the dependent variable is preserved in both the training and testing sets."
   ]
  },
  {
   "cell_type": "code",
   "execution_count": 22,
   "id": "611af167-be86-4c37-9f18-57ba4131f797",
   "metadata": {
    "vscode": {
     "languageId": "r"
    }
   },
   "outputs": [
    {
     "name": "stdout",
     "output_type": "stream",
     "text": [
      "The training data has 700 rows and the mean of the of dependent variable 'decision' is 1.302857 with a standard deviation of 0.4598225 \n",
      "The testing data has 300 rows and the mean of the of dependent variable 'decision' is 1.293333 with a standard deviation of 0.4560506"
     ]
    }
   ],
   "source": [
    "# Create an index for the split\n",
    "split_index <- createDataPartition(credit_data$decision, p = 0.7, list = FALSE)\n",
    "\n",
    "# Split the data into training and testing sets\n",
    "training_data <- credit_data[split_index, ]\n",
    "testing_data <- credit_data[-split_index, ]\n",
    "cat(\"The training data has\", nrow(training_data), \"rows and the mean of the of dependent variable 'decision' is\", mean(training_data[,'decision']),\"with a standard deviation of\", sd(training_data[,'decision']), \"\\n\")\n",
    "cat(\"The testing data has\", nrow(testing_data), \"rows and the mean of the of dependent variable 'decision' is\", mean(testing_data[,'decision']),\"with a standard deviation of\", sd(testing_data[,'decision']))"
   ]
  },
  {
   "cell_type": "markdown",
   "id": "9ad0def6-41af-4a8c-8405-f8f60c17edde",
   "metadata": {},
   "source": [
    "#### Step 3 - Train the Logistic Regression Model\n",
    "I am using the binomial family because our result 'decision' has a binomial distribution. The different options for the family to use in the regression model can be found here https://www.rdocumentation.org/packages/stats/versions/3.6.2/topics/family and the details about the inputs for the glm() function can be found here https://www.rdocumentation.org/packages/stats/versions/3.6.2/topics/glm. I had to set the dependent variable 'decision' to be a factor since the binomial family expects classification values of 0 and 1."
   ]
  },
  {
   "cell_type": "code",
   "execution_count": 23,
   "id": "42600072-444b-4028-824c-1262a2a9f064",
   "metadata": {
    "vscode": {
     "languageId": "r"
    }
   },
   "outputs": [
    {
     "data": {
      "text/plain": [
       "\n",
       "Call:\n",
       "glm(formula = as.factor(decision) ~ ., family = binomial(link = \"logit\"), \n",
       "    data = training_data)\n",
       "\n",
       "Deviance Residuals: \n",
       "    Min       1Q   Median       3Q      Max  \n",
       "-2.2564  -0.6915  -0.3310   0.5833   2.6549  \n",
       "\n",
       "Coefficients:\n",
       "                 Estimate Std. Error z value Pr(>|z|)    \n",
       "(Intercept)     7.982e-01  1.351e+00   0.591 0.554575    \n",
       "exist_acctA12  -2.159e-01  2.719e-01  -0.794 0.427135    \n",
       "exist_acctA13  -1.454e+00  4.628e-01  -3.143 0.001675 ** \n",
       "exist_acctA14  -1.805e+00  2.916e-01  -6.192 5.94e-10 ***\n",
       "duration        3.659e-02  1.214e-02   3.015 0.002569 ** \n",
       "credit_histA31  3.826e-01  7.314e-01   0.523 0.600946    \n",
       "credit_histA32 -6.000e-01  5.616e-01  -1.068 0.285386    \n",
       "credit_histA33 -7.925e-01  6.102e-01  -1.299 0.194071    \n",
       "credit_histA34 -1.301e+00  5.651e-01  -2.302 0.021325 *  \n",
       "purposeA41     -1.729e+00  4.717e-01  -3.665 0.000247 ***\n",
       "purposeA410    -1.534e+00  8.567e-01  -1.790 0.073401 .  \n",
       "purposeA42     -1.013e+00  3.320e-01  -3.049 0.002293 ** \n",
       "purposeA43     -1.030e+00  3.122e-01  -3.299 0.000970 ***\n",
       "purposeA44     -7.406e-01  9.698e-01  -0.764 0.445081    \n",
       "purposeA45     -4.756e-01  6.669e-01  -0.713 0.475797    \n",
       "purposeA46      1.262e-01  4.844e-01   0.260 0.794518    \n",
       "purposeA48     -2.338e+00  1.310e+00  -1.785 0.074202 .  \n",
       "purposeA49     -8.586e-01  4.184e-01  -2.052 0.040162 *  \n",
       "credit_amt      1.362e-04  5.563e-05   2.447 0.014399 *  \n",
       "savingsA62     -3.859e-01  3.490e-01  -1.106 0.268883    \n",
       "savingsA63     -3.967e-01  4.958e-01  -0.800 0.423630    \n",
       "savingsA64     -3.806e+00  1.201e+00  -3.169 0.001527 ** \n",
       "savingsA65     -1.087e+00  3.282e-01  -3.311 0.000930 ***\n",
       "employ_lenA72   2.917e-01  6.194e-01   0.471 0.637679    \n",
       "employ_lenA73   2.786e-01  6.050e-01   0.460 0.645245    \n",
       "employ_lenA74  -5.446e-01  6.465e-01  -0.842 0.399528    \n",
       "employ_lenA75   6.713e-02  5.975e-01   0.112 0.910551    \n",
       "install_rate    3.934e-01  1.160e-01   3.391 0.000697 ***\n",
       "status_sexA92  -1.540e-01  4.719e-01  -0.326 0.744222    \n",
       "status_sexA93  -7.956e-01  4.573e-01  -1.740 0.081911 .  \n",
       "status_sexA94  -2.040e-01  5.481e-01  -0.372 0.709727    \n",
       "debtsA102       3.550e-02  4.962e-01   0.072 0.942954    \n",
       "debtsA103      -1.110e+00  4.828e-01  -2.298 0.021556 *  \n",
       "resid_len       8.683e-02  1.083e-01   0.802 0.422598    \n",
       "propA122        2.456e-01  3.018e-01   0.814 0.415794    \n",
       "propA123        2.019e-01  2.882e-01   0.701 0.483581    \n",
       "propA124        9.725e-01  5.698e-01   1.707 0.087869 .  \n",
       "age            -1.409e-02  1.159e-02  -1.216 0.224012    \n",
       "oth_instA142   -4.405e-01  5.574e-01  -0.790 0.429337    \n",
       "oth_instA143   -8.134e-01  2.989e-01  -2.721 0.006502 ** \n",
       "houseA152      -5.186e-01  2.973e-01  -1.744 0.081119 .  \n",
       "houseA153      -1.426e+00  6.421e-01  -2.221 0.026331 *  \n",
       "credit_cnt     -5.017e-02  2.345e-01  -0.214 0.830615    \n",
       "jobA172        -1.308e-01  8.272e-01  -0.158 0.874407    \n",
       "jobA173        -5.926e-02  8.063e-01  -0.073 0.941410    \n",
       "jobA174        -1.450e-01  8.070e-01  -0.180 0.857400    \n",
       "liab_maint      2.698e-01  3.085e-01   0.875 0.381744    \n",
       "phoneA192      -2.883e-01  2.668e-01  -1.081 0.279848    \n",
       "foreignA202    -1.224e+00  7.041e-01  -1.739 0.082066 .  \n",
       "---\n",
       "Signif. codes:  0 '***' 0.001 '**' 0.01 '*' 0.05 '.' 0.1 ' ' 1\n",
       "\n",
       "(Dispersion parameter for binomial family taken to be 1)\n",
       "\n",
       "    Null deviance: 858.57  on 699  degrees of freedom\n",
       "Residual deviance: 588.69  on 651  degrees of freedom\n",
       "AIC: 686.69\n",
       "\n",
       "Number of Fisher Scoring iterations: 6\n"
      ]
     },
     "metadata": {},
     "output_type": "display_data"
    }
   ],
   "source": [
    "credit_model <- glm(as.factor(decision) ~ ., family = binomial(link = \"logit\"), data=training_data)\n",
    "summary(credit_model)"
   ]
  },
  {
   "cell_type": "markdown",
   "id": "46672581-0685-4eb8-9a3b-cb1a71202ed7",
   "metadata": {},
   "source": [
    "Looking at the results the first thing I notice is that all of the categorical variables with multiple levels were converted into dummy variables. For example, the 'job' variable has been divided into 'jobA172', 'jobA173', and 'jobA174' variables. I found that the glm function automatically creates dummy variables for any categorical variable with multiple levels (known as one-hot encoding). To deal with this I am going to add categorical variables for each of the dummy variables and redo the linear regression model."
   ]
  },
  {
   "cell_type": "code",
   "execution_count": 24,
   "id": "fb439b01-b5a3-4237-b5b8-11e664a32537",
   "metadata": {
    "vscode": {
     "languageId": "r"
    }
   },
   "outputs": [
    {
     "data": {
      "text/plain": [
       "\n",
       "Call:\n",
       "glm(formula = as.factor(decision) ~ ., family = binomial(link = \"logit\"), \n",
       "    data = training_data_dummy)\n",
       "\n",
       "Deviance Residuals: \n",
       "    Min       1Q   Median       3Q      Max  \n",
       "-2.2564  -0.6915  -0.3310   0.5833   2.6549  \n",
       "\n",
       "Coefficients:\n",
       "                 Estimate Std. Error z value Pr(>|z|)    \n",
       "(Intercept)     7.982e-01  1.351e+00   0.591 0.554575    \n",
       "exist_acctA12  -2.159e-01  2.719e-01  -0.794 0.427135    \n",
       "exist_acctA13  -1.454e+00  4.628e-01  -3.143 0.001675 ** \n",
       "exist_acctA14  -1.805e+00  2.916e-01  -6.192 5.94e-10 ***\n",
       "duration        3.659e-02  1.214e-02   3.015 0.002569 ** \n",
       "credit_histA31  3.826e-01  7.314e-01   0.523 0.600946    \n",
       "credit_histA32 -6.000e-01  5.616e-01  -1.068 0.285386    \n",
       "credit_histA33 -7.925e-01  6.102e-01  -1.299 0.194071    \n",
       "credit_histA34 -1.301e+00  5.651e-01  -2.302 0.021325 *  \n",
       "purposeA41     -1.729e+00  4.717e-01  -3.665 0.000247 ***\n",
       "purposeA410    -1.534e+00  8.567e-01  -1.790 0.073401 .  \n",
       "purposeA42     -1.013e+00  3.320e-01  -3.049 0.002293 ** \n",
       "purposeA43     -1.030e+00  3.122e-01  -3.299 0.000970 ***\n",
       "purposeA44     -7.406e-01  9.698e-01  -0.764 0.445081    \n",
       "purposeA45     -4.756e-01  6.669e-01  -0.713 0.475797    \n",
       "purposeA46      1.262e-01  4.844e-01   0.260 0.794518    \n",
       "purposeA48     -2.338e+00  1.310e+00  -1.785 0.074202 .  \n",
       "purposeA49     -8.586e-01  4.184e-01  -2.052 0.040162 *  \n",
       "credit_amt      1.362e-04  5.563e-05   2.447 0.014399 *  \n",
       "savingsA62     -3.859e-01  3.490e-01  -1.106 0.268883    \n",
       "savingsA63     -3.967e-01  4.958e-01  -0.800 0.423630    \n",
       "savingsA64     -3.806e+00  1.201e+00  -3.169 0.001527 ** \n",
       "savingsA65     -1.087e+00  3.282e-01  -3.311 0.000930 ***\n",
       "employ_lenA72   2.917e-01  6.194e-01   0.471 0.637679    \n",
       "employ_lenA73   2.786e-01  6.050e-01   0.460 0.645245    \n",
       "employ_lenA74  -5.446e-01  6.465e-01  -0.842 0.399528    \n",
       "employ_lenA75   6.713e-02  5.975e-01   0.112 0.910551    \n",
       "install_rate    3.934e-01  1.160e-01   3.391 0.000697 ***\n",
       "status_sexA92  -1.540e-01  4.719e-01  -0.326 0.744222    \n",
       "status_sexA93  -7.956e-01  4.573e-01  -1.740 0.081911 .  \n",
       "status_sexA94  -2.040e-01  5.481e-01  -0.372 0.709727    \n",
       "debtsA102       3.550e-02  4.962e-01   0.072 0.942954    \n",
       "debtsA103      -1.110e+00  4.828e-01  -2.298 0.021556 *  \n",
       "resid_len       8.683e-02  1.083e-01   0.802 0.422598    \n",
       "propA122        2.456e-01  3.018e-01   0.814 0.415794    \n",
       "propA123        2.019e-01  2.882e-01   0.701 0.483581    \n",
       "propA124        9.725e-01  5.698e-01   1.707 0.087869 .  \n",
       "age            -1.409e-02  1.159e-02  -1.216 0.224012    \n",
       "oth_instA142   -4.405e-01  5.574e-01  -0.790 0.429337    \n",
       "oth_instA143   -8.134e-01  2.989e-01  -2.721 0.006502 ** \n",
       "houseA152      -5.186e-01  2.973e-01  -1.744 0.081119 .  \n",
       "houseA153      -1.426e+00  6.421e-01  -2.221 0.026331 *  \n",
       "credit_cnt     -5.017e-02  2.345e-01  -0.214 0.830615    \n",
       "jobA172        -1.308e-01  8.272e-01  -0.158 0.874407    \n",
       "jobA173        -5.926e-02  8.063e-01  -0.073 0.941410    \n",
       "jobA174        -1.450e-01  8.070e-01  -0.180 0.857400    \n",
       "liab_maint      2.698e-01  3.085e-01   0.875 0.381744    \n",
       "phoneA192      -2.883e-01  2.668e-01  -1.081 0.279848    \n",
       "foreignA202    -1.224e+00  7.041e-01  -1.739 0.082066 .  \n",
       "---\n",
       "Signif. codes:  0 '***' 0.001 '**' 0.01 '*' 0.05 '.' 0.1 ' ' 1\n",
       "\n",
       "(Dispersion parameter for binomial family taken to be 1)\n",
       "\n",
       "    Null deviance: 858.57  on 699  degrees of freedom\n",
       "Residual deviance: 588.69  on 651  degrees of freedom\n",
       "AIC: 686.69\n",
       "\n",
       "Number of Fisher Scoring iterations: 6\n"
      ]
     },
     "metadata": {},
     "output_type": "display_data"
    }
   ],
   "source": [
    "# Perform One-Hot Encoding by converting the dataset to a matrix and then convert it back to a dataset for the glm() function\n",
    "credit_data_dummy <- model.matrix(~ ., data = credit_data)\n",
    "credit_data_dummy <- as.data.frame(credit_data_dummy[,2:ncol(credit_data_dummy)])\n",
    "\n",
    "# Split the data into training and testing\n",
    "training_data_dummy <- credit_data_dummy[split_index, ]\n",
    "testing_data_dummy <- credit_data_dummy[-split_index, ]\n",
    "\n",
    "# Create new logistic regression model\n",
    "credit_model_dummy <- glm(as.factor(decision) ~ ., family = binomial(link = \"logit\"), data=training_data_dummy)\n",
    "summary(credit_model_dummy)"
   ]
  },
  {
   "cell_type": "markdown",
   "id": "ff8d6319-8f68-47a6-9a91-567144afa638",
   "metadata": {},
   "source": [
    "Comparing the results of the new model that utilizes the dummy variables to the original model it appears identical which is expected. Now that I am able to remove each variable I am going to use backward elimination to iteratively remove the least significant variable one at a time until all remaining variables are statistically significant. I'll do this by removing the variable with the highest p value, updating the model without that variable, and repeating until all the variables are above a threshold I set."
   ]
  },
  {
   "cell_type": "code",
   "execution_count": 25,
   "id": "f1fde421-313e-408b-9e75-eab7acc85711",
   "metadata": {
    "vscode": {
     "languageId": "r"
    }
   },
   "outputs": [
    {
     "name": "stdout",
     "output_type": "stream",
     "text": [
      "Currently removing: debtsA102 \n",
      "Currently removing: jobA173 \n",
      "Currently removing: employ_lenA75 \n",
      "Currently removing: credit_cnt \n",
      "Currently removing: jobA174 \n",
      "Currently removing: jobA172 \n",
      "Currently removing: purposeA46 \n",
      "Currently removing: status_sexA92 \n",
      "Currently removing: status_sexA94 \n",
      "Currently removing: credit_histA31 \n",
      "Currently removing: employ_lenA72 \n",
      "Currently removing: employ_lenA73 \n",
      "Currently removing: propA123 \n",
      "Currently removing: propA122 \n",
      "Currently removing: savingsA63 \n",
      "Currently removing: resid_len \n",
      "Currently removing: oth_instA142 \n",
      "Currently removing: purposeA44 \n",
      "Currently removing: purposeA45 \n",
      "Currently removing: savingsA62 \n",
      "Currently removing: liab_maint \n",
      "Currently removing: phoneA192 \n",
      "Currently removing: exist_acctA12 \n",
      "Currently removing: propA124 \n",
      "Currently removing: age \n",
      "Currently removing: foreignA202 \n",
      "Currently removing: purposeA48 \n"
     ]
    }
   ],
   "source": [
    "# Create vector for storing AIC values\n",
    "aic_values <- c()\n",
    "\n",
    "# Set p-value threshold\n",
    "p_thre <- 0.05\n",
    "\n",
    "while (TRUE) {\n",
    "    # Get the AIC value for the current model and append it to the aic_values vector\n",
    "    model_aic <- AIC(credit_model_dummy)\n",
    "    aic_values <- append(aic_values, model_aic)\n",
    "    \n",
    "    # Get max p-value name\n",
    "    p_values <- summary(credit_model_dummy)$coefficients[, \"Pr(>|z|)\"][-1]\n",
    "    max_p_value <- max(p_values)\n",
    "    \n",
    "    if (max_p_value > p_thre) {\n",
    "        max_p_variable <- names(which(p_values == max_p_value))\n",
    "        cat(\"Currently removing:\", max_p_variable, \"\\n\")\n",
    "\n",
    "        # create updated formula without the variable\n",
    "        formula <- as.formula(paste(\"as.factor(decision) ~ . -\", max_p_variable))\n",
    "\n",
    "        # Update the model\n",
    "        credit_model_dummy <- update(credit_model_dummy, formula)\n",
    "    }\n",
    "    \n",
    "    else {\n",
    "        break\n",
    "    }\n",
    "}"
   ]
  },
  {
   "cell_type": "markdown",
   "id": "3e2c37b1-856c-44e6-85ac-61564af4296b",
   "metadata": {},
   "source": [
    "Now that I have the model updated I'm intersted in what happened to the AIC (Akaike Information Criterion) value as each variable was removed. \n",
    "The AIC provides a balance between model goodness-of-fit and model complexity, aiming to select the model that best explains the data while penalizing for complexity. Lower AIC values indicate better model fit, with the model being both a good fit to the data and parsimonious (not overly complex). A more robust analysis would also include looking at the R-Square, RMSE, and BIC among others."
   ]
  },
  {
   "cell_type": "code",
   "execution_count": 26,
   "id": "b98e5b62-3706-4ef9-b16a-1fefebf2150a",
   "metadata": {
    "vscode": {
     "languageId": "r"
    }
   },
   "outputs": [
    {
     "data": {
      "image/png": "[encoded data removed]",
      "text/plain": [
       "plot without title"
      ]
     },
     "metadata": {},
     "output_type": "display_data"
    }
   ],
   "source": [
    "options(repr.plot.width=5, repr.plot.height=4)\n",
    "plot(aic_values)"
   ]
  },
  {
   "cell_type": "markdown",
   "id": "73bd7d62-9893-4280-8b5d-cec5c2290b58",
   "metadata": {},
   "source": [
    "Looking at the results of the AIC values it does appear that the model produced at the 24th/26th iteration has the best balance of goodness-of-fit and model complexity. When selecting the final model it's a balance between explainability and performance, so depending on the situation it might make sense to go with that model. However, for this homework I am going to move forward with the final model produced from the backward elimination procedure."
   ]
  },
  {
   "cell_type": "markdown",
   "id": "feb38d01-a2d3-4fdc-9de9-96ac13c91779",
   "metadata": {},
   "source": [
    "#### Step 4 - Interpret the Model\n",
    "Now that I have the model reduced to only have variables with a p-value above the significance threshold of 0.05 Iam ready to interpret the model. I'll start with a summary of the final mode. "
   ]
  },
  {
   "cell_type": "code",
   "execution_count": 27,
   "id": "d9655997-ed4a-4aba-8794-06975202dd35",
   "metadata": {
    "vscode": {
     "languageId": "r"
    }
   },
   "outputs": [
    {
     "data": {
      "text/plain": [
       "\n",
       "Call:\n",
       "glm(formula = as.factor(decision) ~ exist_acctA13 + exist_acctA14 + \n",
       "    duration + credit_histA32 + credit_histA33 + credit_histA34 + \n",
       "    purposeA41 + purposeA410 + purposeA42 + purposeA43 + purposeA49 + \n",
       "    credit_amt + savingsA64 + savingsA65 + employ_lenA74 + install_rate + \n",
       "    status_sexA93 + debtsA103 + oth_instA143 + houseA152 + houseA153, \n",
       "    family = binomial(link = \"logit\"), data = training_data_dummy)\n",
       "\n",
       "Deviance Residuals: \n",
       "    Min       1Q   Median       3Q      Max  \n",
       "-2.2556  -0.7047  -0.3471   0.6574   2.6301  \n",
       "\n",
       "Coefficients:\n",
       "                 Estimate Std. Error z value Pr(>|z|)    \n",
       "(Intercept)     7.713e-01  5.711e-01   1.351 0.176848    \n",
       "exist_acctA13  -1.285e+00  4.196e-01  -3.062 0.002197 ** \n",
       "exist_acctA14  -1.764e+00  2.474e-01  -7.127 1.02e-12 ***\n",
       "duration        4.185e-02  1.148e-02   3.645 0.000267 ***\n",
       "credit_histA32 -7.668e-01  3.642e-01  -2.105 0.035275 *  \n",
       "credit_histA33 -9.957e-01  4.694e-01  -2.121 0.033887 *  \n",
       "credit_histA34 -1.475e+00  3.940e-01  -3.744 0.000181 ***\n",
       "purposeA41     -1.641e+00  4.457e-01  -3.683 0.000230 ***\n",
       "purposeA410    -1.663e+00  8.153e-01  -2.040 0.041385 *  \n",
       "purposeA42     -7.908e-01  2.922e-01  -2.706 0.006808 ** \n",
       "purposeA43     -9.426e-01  2.721e-01  -3.465 0.000531 ***\n",
       "purposeA49     -9.003e-01  3.857e-01  -2.335 0.019565 *  \n",
       "credit_amt      1.233e-04  5.098e-05   2.419 0.015567 *  \n",
       "savingsA64     -3.498e+00  1.106e+00  -3.163 0.001562 ** \n",
       "savingsA65     -1.031e+00  3.010e-01  -3.426 0.000612 ***\n",
       "employ_lenA74  -7.401e-01  2.968e-01  -2.493 0.012656 *  \n",
       "install_rate    3.776e-01  1.095e-01   3.450 0.000562 ***\n",
       "status_sexA93  -5.886e-01  2.180e-01  -2.700 0.006936 ** \n",
       "debtsA103      -1.140e+00  4.565e-01  -2.498 0.012482 *  \n",
       "oth_instA143   -7.767e-01  2.580e-01  -3.010 0.002611 ** \n",
       "houseA152      -6.890e-01  2.677e-01  -2.574 0.010065 *  \n",
       "houseA153      -9.324e-01  4.196e-01  -2.222 0.026262 *  \n",
       "---\n",
       "Signif. codes:  0 '***' 0.001 '**' 0.01 '*' 0.05 '.' 0.1 ' ' 1\n",
       "\n",
       "(Dispersion parameter for binomial family taken to be 1)\n",
       "\n",
       "    Null deviance: 858.57  on 699  degrees of freedom\n",
       "Residual deviance: 609.27  on 678  degrees of freedom\n",
       "AIC: 653.27\n",
       "\n",
       "Number of Fisher Scoring iterations: 6\n"
      ]
     },
     "metadata": {},
     "output_type": "display_data"
    }
   ],
   "source": [
    "summary(credit_model_dummy)"
   ]
  },
  {
   "cell_type": "markdown",
   "id": "c1986d58-3dd8-4cf1-af62-02b7cb1aae8b",
   "metadata": {},
   "source": [
    "We can see that the model has now been trained only with variables with a significance < 0.05. The AIC value has also been decreased compared to the original model although not as far as it could have been reduced as seen in the plot above. I want to see the coefficients for my final model which I will output below."
   ]
  },
  {
   "cell_type": "code",
   "execution_count": 39,
   "id": "ebdc29c7-8851-4c3a-b740-838b8901e001",
   "metadata": {
    "vscode": {
     "languageId": "r"
    }
   },
   "outputs": [
    {
     "name": "stdout",
     "output_type": "stream",
     "text": [
      "   (Intercept)  exist_acctA13  exist_acctA14       duration credit_histA32 \n",
      "  0.7713278405  -1.2849753747  -1.7635294799   0.0418524116  -0.7667749318 \n",
      "credit_histA33 credit_histA34     purposeA41    purposeA410     purposeA42 \n",
      " -0.9957428533  -1.4748464953  -1.6414808117  -1.6630009816  -0.7907875768 \n",
      "    purposeA43     purposeA49     credit_amt     savingsA64     savingsA65 \n",
      " -0.9425797542  -0.9003451974   0.0001233166  -3.4983739271  -1.0313526820 \n",
      " employ_lenA74   install_rate  status_sexA93      debtsA103   oth_instA143 \n",
      " -0.7401182465   0.3775702623  -0.5886461045  -1.1404630191  -0.7766752938 \n",
      "     houseA152      houseA153 \n",
      " -0.6890182557  -0.9323711974 \n"
     ]
    }
   ],
   "source": [
    "# Get model coefficients\n",
    "print(credit_model_dummy$coefficients)"
   ]
  },
  {
   "cell_type": "markdown",
   "id": "9d7b257d-9a3b-4a72-b8ec-f99c5c334817",
   "metadata": {},
   "source": [
    "Next, I am going to use the testing data to see how well the model predicts the credit 'decision' variable. I found the information about evaluating regression models at https://www.geeksforgeeks.org/plotting-roc-curve-in-r-programming/ very useful for this."
   ]
  },
  {
   "cell_type": "code",
   "execution_count": 29,
   "id": "d65131ce-b4e4-4ec6-a669-b0f5aebe01c4",
   "metadata": {
    "vscode": {
     "languageId": "r"
    }
   },
   "outputs": [],
   "source": [
    "# Error metrix taken from geeksforgeeks\n",
    "err_metric = function(GFGCM)\n",
    "{\n",
    "    GFGTN = GFGCM[1, 1]\n",
    "    GFGRATE = GFGCM[2, 2]\n",
    "    FP = GFGCM[1, 2]\n",
    "    FN = GFGCM[2, 1]\n",
    "    gfgPrecise = (GFGRATE)/(GFGRATE+FP)\n",
    "    recall_score = (FP)/(FP+GFGTN)\n",
    "    f1_score = 2*((gfgPrecise*recall_score)/(gfgPrecise+recall_score))\n",
    "    accuracy_model = (GFGRATE+GFGTN)/(GFGRATE+GFGTN+FP+FN)\n",
    "    False_positive_rate = (FP)/(FP+GFGTN)\n",
    "    False_negative_rate = (FN)/(FN+GFGRATE)\n",
    "    print(paste(\"GfgPrecise value of the model: \", round(gfgPrecise, 2)))\n",
    "    print(paste(\"Accuracy of the model: \", round(accuracy_model, 2)))\n",
    "    print(paste(\"Recall value of the model: \", round(recall_score, 2)))\n",
    "    print(paste(\"False Positive rate of the model: \", round(False_positive_rate, 2)))\n",
    "    print(paste(\"False Negative rate of the model: \", round(False_negative_rate, 2)))\n",
    "    print(paste(\"f1 score of the model: \", round(f1_score, 2)))\n",
    "}"
   ]
  },
  {
   "cell_type": "markdown",
   "id": "e7f2c2dc-a880-4814-bfab-1c329575c9ff",
   "metadata": {},
   "source": [
    "I will start by creating a confusion matrix that I can use to get various model metrics from"
   ]
  },
  {
   "cell_type": "code",
   "execution_count": 38,
   "id": "9846e235-33aa-4619-b5ec-3014ba8ef6d4",
   "metadata": {
    "vscode": {
     "languageId": "r"
    }
   },
   "outputs": [
    {
     "data": {
      "text/plain": [
       "    Min.  1st Qu.   Median     Mean  3rd Qu.     Max. \n",
       "0.001117 0.078413 0.218238 0.314353 0.541337 0.950794 "
      ]
     },
     "metadata": {},
     "output_type": "display_data"
    }
   ],
   "source": [
    "# Create predictions from the regression model on the testing data\n",
    "pred_log_r <- predict(credit_model_dummy, testing_data_dummy, type = \"response\")\n",
    "summary(pred_log_r)"
   ]
  },
  {
   "cell_type": "code",
   "execution_count": 31,
   "id": "024433e6-279c-4552-82b3-f058e1388a15",
   "metadata": {
    "vscode": {
     "languageId": "r"
    }
   },
   "outputs": [
    {
     "data": {
      "text/plain": [
       "   pred_int\n",
       "      0   1\n",
       "  1 170  42\n",
       "  2  41  47"
      ]
     },
     "metadata": {},
     "output_type": "display_data"
    }
   ],
   "source": [
    "# Convert predictions to yes-no answers (1 or 0) and output the confusion matrix\n",
    "pred_int <- as.integer(pred_log_r > 0.5)\n",
    "conf_matrix <- table(testing_data_dummy$decision, pred_int)\n",
    "conf_matrix"
   ]
  },
  {
   "cell_type": "code",
   "execution_count": 32,
   "id": "108fd4e5-645c-4d2f-aec3-a6649fe50500",
   "metadata": {
    "vscode": {
     "languageId": "r"
    }
   },
   "outputs": [
    {
     "name": "stdout",
     "output_type": "stream",
     "text": [
      "[1] \"GfgPrecise value of the model:  0.53\"\n",
      "[1] \"Accuracy of the model:  0.72\"\n",
      "[1] \"Recall value of the model:  0.2\"\n",
      "[1] \"False Positive rate of the model:  0.2\"\n",
      "[1] \"False Negative rate of the model:  0.47\"\n",
      "[1] \"f1 score of the model:  0.29\"\n"
     ]
    }
   ],
   "source": [
    "# Get the error metrics\n",
    "err_metric(conf_matrix)"
   ]
  },
  {
   "cell_type": "markdown",
   "id": "4c02934a-48ad-4e03-9bce-5f5d5a859eed",
   "metadata": {},
   "source": [
    "The model correctly classifies 72% of the points and has an f1 score of 0.29. The F1 score is a metric commonly used in binary classification tasks to evaluate the performance of the model. It is the harmonic mean of precision and recall, providing a single score that balances both measures. A value close to 1 is ideal. and recall:\n",
    "\n",
    "Next I'll print out the ROC curve and get the AUC value."
   ]
  },
  {
   "cell_type": "code",
   "execution_count": 33,
   "id": "06473a37-6949-463e-96b7-3edfa19f02da",
   "metadata": {
    "vscode": {
     "languageId": "r"
    }
   },
   "outputs": [
    {
     "name": "stderr",
     "output_type": "stream",
     "text": [
      "Setting levels: control = 0, case = 1\n",
      "Setting direction: controls < cases\n"
     ]
    },
    {
     "name": "stdout",
     "output_type": "stream",
     "text": [
      "The area under the curve is: 0.667 \n"
     ]
    },
    {
     "data": {
      "image/png": "[encoded data removed]",
      "text/plain": [
       "Plot with title \"ROC curve -- Logistic Regression \""
      ]
     },
     "metadata": {},
     "output_type": "display_data"
    }
   ],
   "source": [
    "# Print out the ROC curve\n",
    "roc_values <- roc(pred_int, testing_data_dummy$decision)\n",
    "cat('The area under the curve is:', round(roc_values$auc, 3), '\\n')\n",
    "plot(roc_values, main=\"ROC curve -- Logistic Regression \")"
   ]
  },
  {
   "cell_type": "markdown",
   "id": "cc972c41-141e-477c-bbf9-24c28341b4dd",
   "metadata": {},
   "source": [
    "#### Step 5 - Create threshold based on part 2 of the question\n",
    "I know that in this data set, they estimate that incorrectly identifying a bad customer as good, is 5 times worse than incorrectly classifying a good customer as bad. Next, I am going to calculate the total cost of various threshold values to determine a good threshold probability. I am going to do that by iterating through multiple thresholds and calculating and storing the total cost for that threshold. The cost will have the formula:\n",
    "\n",
    "$$Cost = (FalsePositives * 5) + FalseNegatives$$"
   ]
  },
  {
   "cell_type": "code",
   "execution_count": 34,
   "id": "c1dd94eb-783f-4dc0-899c-175620d40ac5",
   "metadata": {
    "vscode": {
     "languageId": "r"
    }
   },
   "outputs": [
    {
     "name": "stdout",
     "output_type": "stream",
     "text": [
      "The threshold that produces the lowest cost is 0.17 which has a cost of 166 \n",
      "Compared to the threshold value of 0.5 which had a cost of 247 the new threshold reduced the total cost by 81"
     ]
    }
   ],
   "source": [
    "# Loop through various threshold values and calculate the cost\n",
    "thres_values <- seq(0.01, 1, by = 0.01)\n",
    "cost_results <- c()\n",
    "\n",
    "for (value in thres_values) {\n",
    "    pred_int <- as.integer(pred_log_r > value)\n",
    "    conf_matrix <- table(testing_data_dummy$decision, pred_int)\n",
    "    \n",
    "    if(ncol(conf_matrix) > 1) {\n",
    "        false_neg <- conf_matrix[1,2]\n",
    "        }\n",
    "    else {\n",
    "        false_neg <- 0\n",
    "        }\n",
    "\n",
    "    if(nrow(conf_matrix) > 1) {\n",
    "        false_pos <- conf_matrix[2,1]\n",
    "        }\n",
    "    else {\n",
    "        false_pos <- 0\n",
    "        }\n",
    "    \n",
    "    cost <- (false_pos * 5) + false_neg\n",
    "    cost_results <- append(cost_results, cost)\n",
    "    }\n",
    "\n",
    "min_cost <- which.min(cost_results)\n",
    "cat('The threshold that produces the lowest cost is', min_cost/100, 'which has a cost of', cost_results[min_cost], '\\n')\n",
    "cat('Compared to the threshold value of 0.5 which had a cost of', cost_results[50], 'the new threshold reduced the total cost by', cost_results[50] - cost_results[min_cost])"
   ]
  },
  {
   "cell_type": "markdown",
   "id": "75b17d29-eebb-4fce-9519-e6cd80df2dfa",
   "metadata": {},
   "source": [
    "Next I want to plot the cost vs. the threshold value to visualize the results"
   ]
  },
  {
   "cell_type": "code",
   "execution_count": 35,
   "id": "23e777cd-0ce2-482a-b208-b248fe381421",
   "metadata": {
    "vscode": {
     "languageId": "r"
    }
   },
   "outputs": [
    {
     "data": {
      "image/png": "[encoded data removed]",
      "text/plain": [
       "plot without title"
      ]
     },
     "metadata": {},
     "output_type": "display_data"
    }
   ],
   "source": [
    "# Create table of thresholds and cost\n",
    "cost_table <- data.frame(Threshold = thres_values, Cost = cost_results)\n",
    "ggplot(cost_table, aes(x = Threshold, y = Cost)) +\n",
    "    geom_line(size = .5, color = \"green\") +\n",
    "    geom_point(color = \"blue\", size = 1) +\n",
    "    labs(x = \"Threshold\", y = \"Cost\", title = \"Threshold vs. Cost\") +\n",
    "    xlim(0, 1) +\n",
    "    ylim(100, 475) +\n",
    "    theme_minimal()"
   ]
  },
  {
   "cell_type": "markdown",
   "id": "dbe52499-249a-4b38-9a64-dc7d9f59a98b",
   "metadata": {},
   "source": [
    "The graph shows that values around 0.16 to 0.22 provide the lowest cost. Based on the information above, for my model setting a **threshold value of 0.17 provided the best model**. The confusion matrix for this final model is provided below."
   ]
  },
  {
   "cell_type": "code",
   "execution_count": 36,
   "id": "5d084fdb-9285-468c-b920-7a3a1456b0b3",
   "metadata": {
    "vscode": {
     "languageId": "r"
    }
   },
   "outputs": [
    {
     "data": {
      "text/plain": [
       "   pred_int\n",
       "      0   1\n",
       "  1 123  89\n",
       "  2  17  71"
      ]
     },
     "metadata": {},
     "output_type": "display_data"
    },
    {
     "name": "stdout",
     "output_type": "stream",
     "text": [
      "[1] \"GfgPrecise value of the model:  0.44\"\n",
      "[1] \"Accuracy of the model:  0.65\"\n",
      "[1] \"Recall value of the model:  0.42\"\n",
      "[1] \"False Positive rate of the model:  0.42\"\n",
      "[1] \"False Negative rate of the model:  0.19\"\n",
      "[1] \"f1 score of the model:  0.43\"\n"
     ]
    }
   ],
   "source": [
    "pred_int <- as.integer(pred_log_r > 0.2)\n",
    "conf_matrix <- table(testing_data_dummy$decision, pred_int)\n",
    "conf_matrix\n",
    "err_metric(conf_matrix)"
   ]
  }
 ],
 "metadata": {
  "kernelspec": {
   "display_name": "R",
   "language": "R",
   "name": "ir"
  },
  "language_info": {
   "codemirror_mode": "r",
   "file_extension": ".r",
   "mimetype": "text/x-r-source",
   "name": "R",
   "pygments_lexer": "r",
   "version": "3.6.1"
  }
 },
 "nbformat": 4,
 "nbformat_minor": 5
}
