{
 "cells": [
  {
   "cell_type": "markdown",
   "id": "78a0b004-e976-483e-b049-433bd5893d72",
   "metadata": {},
   "source": [
    "#### Probability Distributions\n",
    ">Often times knowing the distribution of a dataset is enough to be able to infer information from it. The purpose of this notebook is to explore several different common distribution types and how they could be applied to various situations. I have done this For each of the following distributions:\n",
    "\n",
    ">a) Binomial\\\n",
    ">b) Geometric\\\n",
    ">c) Poisson\\\n",
    ">d) Exponential\\\n",
    ">e) Weibull"
   ]
  },
  {
   "cell_type": "markdown",
   "id": "7580827b-a197-4fd3-8636-e02d2459f960",
   "metadata": {},
   "source": [
    "**A) Binomial Distribution** - A binomial distribution provides the discrete probability distribution of the number of successes in a sequence of independent events. So for example, if you wanted to know the probability of having 15 succesful runs when running an experiment 20 times if the probability of success is 50% then the binomial distribution will let you know! Binomial distributions must have a fixed number of trials, each trial is independent, and the probability of success is known and the same across trials. One example of a real world application of a binomial distribution is in manufacturing where the number of defective items in a batch produced in the factory has a certain probability of being defective assuming it is truly independent (ie. isn't caused by machines overheating or happens more after a certain number of runs are completed etc.). Let's say that we want to know the probability of not having any defective products after 1,000 products are made knownig that they have a .05% chance of being defective:"
   ]
  },
  {
   "cell_type": "code",
   "execution_count": 38,
   "id": "167dc566-48c6-450d-b1f0-592d0fd05ff0",
   "metadata": {
    "vscode": {
     "languageId": "r"
    }
   },
   "outputs": [
    {
     "name": "stdout",
     "output_type": "stream",
     "text": [
      "The probability of not having any defective products after 1,000 runs is 0.6653969 %"
     ]
    }
   ],
   "source": [
    "binom_dist_prob <- dbinom(0, size=1000, prob=0.005)\n",
    "cat(\"The probability of not having any defective products after 1,000 runs is\", binom_dist_prob*100, \"%\")"
   ]
  },
  {
   "cell_type": "markdown",
   "id": "f21a5aa2-7f53-463f-afcd-01b2176c3f92",
   "metadata": {},
   "source": [
    "Below is an example plot of a binomial distribution showing the probability (y-axis) of having n number of defective products (x-axis) where there is a 5% chance of a defective product and 100 products are made."
   ]
  },
  {
   "cell_type": "code",
   "execution_count": 55,
   "id": "bfd8dc7b-6ab4-4e2e-829a-4f235cea176d",
   "metadata": {
    "vscode": {
     "languageId": "r"
    }
   },
   "outputs": [
    {
     "data": {
      "image/png": "[encoded data removed]",
      "text/plain": [
       "Plot with title \"Binomial Distribution Plot\""
      ]
     },
     "metadata": {},
     "output_type": "display_data"
    }
   ],
   "source": [
    "options(repr.plot.width=5, repr.plot.height=3)\n",
    "plot(0:100, dbinom(0:100, size = 100, prob=0.05), type=\"h\", xlab = \"Number of Successes\", ylab = \"Probability\", \n",
    "     main = \"Binomial Distribution Plot\")"
   ]
  },
  {
   "cell_type": "markdown",
   "id": "36146d8b-a7bb-4f00-aafd-b17a0a2837f1",
   "metadata": {},
   "source": [
    "**B) Geometric Distribution** - The geometric distribution represents the probability of the number of successive failures before a success is obtained in a Bernoulli trial. A Bernoulli trial is an experiment that can have only two possible outcomes, ie., success or failure. In other words, in a geometric distribution, a Bernoulli trial is repeated until success is obtained and then stopped. Geometric distribution has the same assumptions as the binomial distribution: the trials being conducted are independent, there can only be two outcomes of each trial - success or failure, and the success probability is the same for each trial. One example of this would be the number of products made at a manufacturing facility before a defective product is found. Let's say that we want to know the probability of 100 products being made without any defects before finding the first defect knownig that they have a .05% chance of a product being defective:"
   ]
  },
  {
   "cell_type": "code",
   "execution_count": 56,
   "id": "40fd45fc-39a0-437a-9bc8-50353d421e09",
   "metadata": {
    "vscode": {
     "languageId": "r"
    }
   },
   "outputs": [
    {
     "name": "stdout",
     "output_type": "stream",
     "text": [
      "The probability of having 100 products made before the first defective product is 0.3028852 %"
     ]
    }
   ],
   "source": [
    "geom_dist_prob <- dgeom(100, prob = .005)\n",
    "cat(\"The probability of having 100 products made before the first defective product is\", geom_dist_prob*100, \"%\")"
   ]
  },
  {
   "cell_type": "markdown",
   "id": "88729aa1-71cd-452c-bf26-768f22e34502",
   "metadata": {},
   "source": [
    "Below is an example plot of a geometric distribution showing the probability (y-axis) of having n number of products (x-axis) made before there is a defective product when there is a 5% chance of a product being defective."
   ]
  },
  {
   "cell_type": "code",
   "execution_count": 65,
   "id": "8f2ab025-1598-4c01-8fbe-9bb0ca218a72",
   "metadata": {
    "vscode": {
     "languageId": "r"
    }
   },
   "outputs": [
    {
     "data": {
      "image/png": "[encoded data removed]",
      "text/plain": [
       "Plot with title \"Geometric Distribution\""
      ]
     },
     "metadata": {},
     "output_type": "display_data"
    }
   ],
   "source": [
    "plot(0:100, dgeom(0:100, prob = 0.05), type = \"h\", \n",
    "     xlab = \"Number of Products Before First Defect\", \n",
    "     ylab = \"Probability\", \n",
    "     main = \"Geometric Distribution\")"
   ]
  },
  {
   "cell_type": "markdown",
   "id": "77825c90-2163-4caa-bad6-5c0a22d2784e",
   "metadata": {},
   "source": [
    "**C) Poisson Distribution** - Poisson distribution is used to estimate how many times an event is likely to occur within the given period of time. λ is the Poisson rate parameter that indicates the expected value of the average number of events in the fixed time interval. The poisson distribution requires that the events occur within a fixed interval of time or space, the rate of occurance of the event is constant over the entire interval, and the occurance of events is independent. One example would be to determine the number of defects in a final product when the mean number of defects is known. For example, to calculate the probability that a product has 3 defects when each product on average has 0.25 defects:"
   ]
  },
  {
   "cell_type": "code",
   "execution_count": 60,
   "id": "ef41d61d-3b31-4485-a490-78df3d88cb68",
   "metadata": {
    "vscode": {
     "languageId": "r"
    }
   },
   "outputs": [
    {
     "name": "stdout",
     "output_type": "stream",
     "text": [
      "The probability of having 3 defects in a product when on average each product has 0.25 defects is 0.01333697 %"
     ]
    }
   ],
   "source": [
    "pois_dist_prob <- ppois(3, lambda = 0.25, lower = FALSE)\n",
    "cat(\"The probability of having 3 defects in a product when on average each product has 0.25 defects is\", pois_dist_prob*100, \"%\")"
   ]
  },
  {
   "cell_type": "markdown",
   "id": "77fbe165-5099-4979-b535-3b8914259696",
   "metadata": {},
   "source": [
    "Below is an example plot of a poisson distribution showing the probability (y-axis) of having n number of defective products (x-axis) per batch when on average their is 5 defective products per batch."
   ]
  },
  {
   "cell_type": "code",
   "execution_count": 66,
   "id": "89796581-ec27-4d63-a2c5-7d9277cf3fb0",
   "metadata": {
    "vscode": {
     "languageId": "r"
    }
   },
   "outputs": [
    {
     "data": {
      "image/png": "[encoded data removed]",
      "text/plain": [
       "Plot with title \"Poisson Distribution\""
      ]
     },
     "metadata": {},
     "output_type": "display_data"
    }
   ],
   "source": [
    "plot(0:50, dpois(0:50, lambda=5), type = \"h\", \n",
    "     xlab = \"Number of Defects per Batch\", \n",
    "     ylab = \"Probability\", \n",
    "     main = \"Poisson Distribution\")"
   ]
  },
  {
   "cell_type": "markdown",
   "id": "7e8399bb-959a-410e-bb61-ed7177956b81",
   "metadata": {},
   "source": [
    "**D) Exponential Distribution** - Exponential distribution is used to model the amount of time between events or the length of an event. In other words, if you have a process in which events occur randomly over time, with a constant average rate of occurrence, the exponential distribution can model the time it takes for the next event to occur after a given time point. Or, the exponential distribution can model the amount of time that a given event takes given the average amount of time for the event. The exponential distribution requires that the probability of an event lasting/occuring in a certain time interval is independent of how much time has already elapsed, the event occur/last at a constant average rate, and that events are independent. One example would be how long a certain product that a manufacture makes lasts before it breaks. For example, if we wanted to see the distribution for the life of a product that has an average life of 5 years and follows an exponential distribution:"
   ]
  },
  {
   "cell_type": "code",
   "execution_count": 67,
   "id": "0a25c32c-beca-47c7-b752-64add29efb13",
   "metadata": {
    "vscode": {
     "languageId": "r"
    }
   },
   "outputs": [
    {
     "data": {
      "image/png": "[encoded data removed]",
      "text/plain": [
       "Plot with title \"Histogram of Simulated Product Life\""
      ]
     },
     "metadata": {},
     "output_type": "display_data"
    }
   ],
   "source": [
    "product_life <- rexp(100, rate = 1/5)\n",
    "hist(product_life, breaks = 20, col = \"skyblue\", \n",
    "     xlab = \"Product Life (Years)\", ylab = \"Frequency\",\n",
    "     main = \"Histogram of Simulated Product Life\")"
   ]
  },
  {
   "cell_type": "markdown",
   "id": "f45b06a3-8d16-44ec-9d6a-b451255e88a4",
   "metadata": {},
   "source": [
    "**E) Weibull Distribution** - The Weibull distribution is a continuous probability distribution that can fit an extensive range of distribution shapes for continous data and can handle scewed data unlike the normal distribution. It is equivalent to several other distributions (normal, exponential, lognormal, rayleigh, pareto) based on the parameters set for the distribution. The weibull distribution requires continous random variables and that observations are independent. Similar to the exponential distribution, one example would be how long a certain product that a manufacture makes lasts before it breaks. For example, if we wanted to see the distribution for the life of a product that has an average life of 5 years and follows an weibull distribution with a shape value of 3 (arbitrarily choosen for this example):"
   ]
  },
  {
   "cell_type": "code",
   "execution_count": 73,
   "id": "ccb55b92-325d-4b0d-83cb-0bdd2b41940c",
   "metadata": {
    "vscode": {
     "languageId": "r"
    }
   },
   "outputs": [
    {
     "data": {
      "image/png": "[encoded data removed]",
      "text/plain": [
       "Plot with title \"Weibull Distribution for Product Lifespan\""
      ]
     },
     "metadata": {},
     "output_type": "display_data"
    }
   ],
   "source": [
    "# Generate a sequence of lifespans\n",
    "lifespans <- seq(0, 20, by = 0.1)\n",
    "\n",
    "# Calculate the probability density values using the Weibull distribution\n",
    "density_values <- dweibull(lifespans, shape = 3, scale = 5)\n",
    "\n",
    "# Plot the Weibull distribution\n",
    "plot(lifespans, density_values, type = \"l\",\n",
    "     xlab = \"Lifespan (Years)\", ylab = \"Probability Density\",\n",
    "     main = \"Weibull Distribution for Product Lifespan\")"
   ]
  }
 ],
 "metadata": {
  "kernelspec": {
   "display_name": "R",
   "language": "R",
   "name": "ir"
  },
  "language_info": {
   "codemirror_mode": "r",
   "file_extension": ".r",
   "mimetype": "text/x-r-source",
   "name": "R",
   "pygments_lexer": "r",
   "version": "3.6.1"
  }
 },
 "nbformat": 4,
 "nbformat_minor": 5
}
