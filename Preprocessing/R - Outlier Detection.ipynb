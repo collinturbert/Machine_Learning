{
 "cells": [
  {
   "cell_type": "markdown",
   "id": "3fd8e433-dd78-4907-bc39-a9ab1f637281",
   "metadata": {},
   "source": [
    "### Outlier Detection\n",
    ">The purpose of this notebook is to examine different techinques that can be used for outlier detection. I plan on using the crime data from the file uscrime.txt (http://www.statsci.org/data/general/uscrime.txt, \n",
    "description at http://www.statsci.org/data/general/uscrime.html), test to see whether there are an \n",
    "outliers in the last column (number of crimes per 100,000 people)."
   ]
  },
  {
   "cell_type": "markdown",
   "id": "39e079f4-c435-4db8-8b2c-71b04970eaf6",
   "metadata": {},
   "source": [
    "To look at any potential outliers in the uscrime.txt data I'll use the gubbs.test() function that is a part of the outliers package. The syntax for the Grubbs test can be found here: https://www.rdocumentation.org/packages/outliers/versions/0.15/topics/grubbs.test. The Grubbs test is a statistical test designed to detect outliers in a univariate dataset that follows a normal distribution. The test identifies an outlier by measuring how far a data point deviates from the mean, relative to the standard deviation of the dataset. It’s based on the assumption that the largest absolute deviation from the mean is a potential outlier. I found the explanation in the link below helpful in understanding exactly how the Grubbs test works: https://medium.com/data-and-beyond/outlier-detection-in-r-grubbs-test-9f2848d7c210:\n",
    "\n",
    "But to be able to interpret the results of the function I need to understand the outputs it provides, specifically the G, U, p-value, and alternative hypothesis. This G statistic is the difference between the sample mean and either the smallest or largest data value, divided by the standard deviation. You can compare this value against a critical value from the Grubbs’ distribution table to confirm that the value is not part of the normal variation of the data. The U value is a ratio of sample variances with and without the suspected outlier. The p-value is a probability that measures the evidence against the null hypothesis. A smaller p-value provides stronger evidence against the null hypothesis. So if we get a small p-value (typically <0.05), that indicates that the suspected point is statistically different from the rest of the data, suggesting it’s an outlier.\n",
    "\n",
    "Now that I have a better understanding of how the Grubbs test works I am going to follow the steps below to look at any potential outliers in the Crime column of our data:\n",
    "\n",
    "1) Explore the data to gain a better understanding of the dataset\n",
    "2) Check that the data is normally distributed\n",
    "3) Run the Grubbs test for the maximum and minimum values\n",
    "4) Interpret the results of the test and decide if any of the points are outliers\n",
    "5) Compare the results by examining the data distribution visually with a box and whisker plot"
   ]
  },
  {
   "cell_type": "markdown",
   "id": "07f13193-040e-4b8f-8131-d1838598a2d5",
   "metadata": {},
   "source": [
    "#### Step 1 - Explore the Data\n",
    "For this step I am going to visually inspect the data, get summary statistics to get a sense of the values in the data, and read about the data to understand what the values in each column represent. I'll start by loading the libraries I need for this analysis and loading the data."
   ]
  },
  {
   "cell_type": "code",
   "execution_count": 45,
   "id": "d64fb628-4adc-44b7-be94-810ad07f4f4c",
   "metadata": {
    "vscode": {
     "languageId": "r"
    }
   },
   "outputs": [],
   "source": [
    "# Load libraries needed for analysis\n",
    "# Outliers contains the Grubbs.test function and the pastecs library provides a statistical summary of the data\n",
    "library(outliers)\n",
    "library(pastecs)\n",
    "library(ggplot2)\n",
    "library(dplyr)"
   ]
  },
  {
   "cell_type": "code",
   "execution_count": 2,
   "id": "d1cd2777-fb40-4268-82da-4b96b55d0c5e",
   "metadata": {
    "vscode": {
     "languageId": "r"
    }
   },
   "outputs": [],
   "source": [
    "# Load the data\n",
    "crime_data <- read.table(\"uscrime.txt\", header = TRUE)"
   ]
  },
  {
   "cell_type": "code",
   "execution_count": 3,
   "id": "17613880-f47b-4b90-abc5-18d7bf7e3fef",
   "metadata": {
    "vscode": {
     "languageId": "r"
    }
   },
   "outputs": [
    {
     "data": {
      "text/html": [
       "<table>\n",
       "<thead><tr><th scope=col>M</th><th scope=col>So</th><th scope=col>Ed</th><th scope=col>Po1</th><th scope=col>Po2</th><th scope=col>LF</th><th scope=col>M.F</th><th scope=col>Pop</th><th scope=col>NW</th><th scope=col>U1</th><th scope=col>U2</th><th scope=col>Wealth</th><th scope=col>Ineq</th><th scope=col>Prob</th><th scope=col>Time</th><th scope=col>Crime</th></tr></thead>\n",
       "<tbody>\n",
       "\t<tr><td>15.1    </td><td>1       </td><td> 9.1    </td><td> 5.8    </td><td> 5.6    </td><td>0.510   </td><td> 95.0   </td><td> 33     </td><td>30.1    </td><td>0.108   </td><td>4.1     </td><td>3940    </td><td>26.1    </td><td>0.084602</td><td>26.2011 </td><td> 791    </td></tr>\n",
       "\t<tr><td>14.3    </td><td>0       </td><td>11.3    </td><td>10.3    </td><td> 9.5    </td><td>0.583   </td><td>101.2   </td><td> 13     </td><td>10.2    </td><td>0.096   </td><td>3.6     </td><td>5570    </td><td>19.4    </td><td>0.029599</td><td>25.2999 </td><td>1635    </td></tr>\n",
       "\t<tr><td>14.2    </td><td>1       </td><td> 8.9    </td><td> 4.5    </td><td> 4.4    </td><td>0.533   </td><td> 96.9   </td><td> 18     </td><td>21.9    </td><td>0.094   </td><td>3.3     </td><td>3180    </td><td>25.0    </td><td>0.083401</td><td>24.3006 </td><td> 578    </td></tr>\n",
       "\t<tr><td>13.6    </td><td>0       </td><td>12.1    </td><td>14.9    </td><td>14.1    </td><td>0.577   </td><td> 99.4   </td><td>157     </td><td> 8.0    </td><td>0.102   </td><td>3.9     </td><td>6730    </td><td>16.7    </td><td>0.015801</td><td>29.9012 </td><td>1969    </td></tr>\n",
       "\t<tr><td>14.1    </td><td>0       </td><td>12.1    </td><td>10.9    </td><td>10.1    </td><td>0.591   </td><td> 98.5   </td><td> 18     </td><td> 3.0    </td><td>0.091   </td><td>2.0     </td><td>5780    </td><td>17.4    </td><td>0.041399</td><td>21.2998 </td><td>1234    </td></tr>\n",
       "\t<tr><td>12.1    </td><td>0       </td><td>11.0    </td><td>11.8    </td><td>11.5    </td><td>0.547   </td><td> 96.4   </td><td> 25     </td><td> 4.4    </td><td>0.084   </td><td>2.9     </td><td>6890    </td><td>12.6    </td><td>0.034201</td><td>20.9995 </td><td> 682    </td></tr>\n",
       "</tbody>\n",
       "</table>\n"
      ],
      "text/latex": [
       "\\begin{tabular}{r|llllllllllllllll}\n",
       " M & So & Ed & Po1 & Po2 & LF & M.F & Pop & NW & U1 & U2 & Wealth & Ineq & Prob & Time & Crime\\\\\n",
       "\\hline\n",
       "\t 15.1     & 1        &  9.1     &  5.8     &  5.6     & 0.510    &  95.0    &  33      & 30.1     & 0.108    & 4.1      & 3940     & 26.1     & 0.084602 & 26.2011  &  791    \\\\\n",
       "\t 14.3     & 0        & 11.3     & 10.3     &  9.5     & 0.583    & 101.2    &  13      & 10.2     & 0.096    & 3.6      & 5570     & 19.4     & 0.029599 & 25.2999  & 1635    \\\\\n",
       "\t 14.2     & 1        &  8.9     &  4.5     &  4.4     & 0.533    &  96.9    &  18      & 21.9     & 0.094    & 3.3      & 3180     & 25.0     & 0.083401 & 24.3006  &  578    \\\\\n",
       "\t 13.6     & 0        & 12.1     & 14.9     & 14.1     & 0.577    &  99.4    & 157      &  8.0     & 0.102    & 3.9      & 6730     & 16.7     & 0.015801 & 29.9012  & 1969    \\\\\n",
       "\t 14.1     & 0        & 12.1     & 10.9     & 10.1     & 0.591    &  98.5    &  18      &  3.0     & 0.091    & 2.0      & 5780     & 17.4     & 0.041399 & 21.2998  & 1234    \\\\\n",
       "\t 12.1     & 0        & 11.0     & 11.8     & 11.5     & 0.547    &  96.4    &  25      &  4.4     & 0.084    & 2.9      & 6890     & 12.6     & 0.034201 & 20.9995  &  682    \\\\\n",
       "\\end{tabular}\n"
      ],
      "text/markdown": [
       "\n",
       "| M | So | Ed | Po1 | Po2 | LF | M.F | Pop | NW | U1 | U2 | Wealth | Ineq | Prob | Time | Crime |\n",
       "|---|---|---|---|---|---|---|---|---|---|---|---|---|---|---|---|\n",
       "| 15.1     | 1        |  9.1     |  5.8     |  5.6     | 0.510    |  95.0    |  33      | 30.1     | 0.108    | 4.1      | 3940     | 26.1     | 0.084602 | 26.2011  |  791     |\n",
       "| 14.3     | 0        | 11.3     | 10.3     |  9.5     | 0.583    | 101.2    |  13      | 10.2     | 0.096    | 3.6      | 5570     | 19.4     | 0.029599 | 25.2999  | 1635     |\n",
       "| 14.2     | 1        |  8.9     |  4.5     |  4.4     | 0.533    |  96.9    |  18      | 21.9     | 0.094    | 3.3      | 3180     | 25.0     | 0.083401 | 24.3006  |  578     |\n",
       "| 13.6     | 0        | 12.1     | 14.9     | 14.1     | 0.577    |  99.4    | 157      |  8.0     | 0.102    | 3.9      | 6730     | 16.7     | 0.015801 | 29.9012  | 1969     |\n",
       "| 14.1     | 0        | 12.1     | 10.9     | 10.1     | 0.591    |  98.5    |  18      |  3.0     | 0.091    | 2.0      | 5780     | 17.4     | 0.041399 | 21.2998  | 1234     |\n",
       "| 12.1     | 0        | 11.0     | 11.8     | 11.5     | 0.547    |  96.4    |  25      |  4.4     | 0.084    | 2.9      | 6890     | 12.6     | 0.034201 | 20.9995  |  682     |\n",
       "\n"
      ],
      "text/plain": [
       "  M    So Ed   Po1  Po2  LF    M.F   Pop NW   U1    U2  Wealth Ineq Prob    \n",
       "1 15.1 1   9.1  5.8  5.6 0.510  95.0  33 30.1 0.108 4.1 3940   26.1 0.084602\n",
       "2 14.3 0  11.3 10.3  9.5 0.583 101.2  13 10.2 0.096 3.6 5570   19.4 0.029599\n",
       "3 14.2 1   8.9  4.5  4.4 0.533  96.9  18 21.9 0.094 3.3 3180   25.0 0.083401\n",
       "4 13.6 0  12.1 14.9 14.1 0.577  99.4 157  8.0 0.102 3.9 6730   16.7 0.015801\n",
       "5 14.1 0  12.1 10.9 10.1 0.591  98.5  18  3.0 0.091 2.0 5780   17.4 0.041399\n",
       "6 12.1 0  11.0 11.8 11.5 0.547  96.4  25  4.4 0.084 2.9 6890   12.6 0.034201\n",
       "  Time    Crime\n",
       "1 26.2011  791 \n",
       "2 25.2999 1635 \n",
       "3 24.3006  578 \n",
       "4 29.9012 1969 \n",
       "5 21.2998 1234 \n",
       "6 20.9995  682 "
      ]
     },
     "metadata": {},
     "output_type": "display_data"
    }
   ],
   "source": [
    "# Visually inspect the data, for this report only printed the first few rows but inspected all of them\n",
    "head(crime_data)"
   ]
  },
  {
   "cell_type": "code",
   "execution_count": 4,
   "id": "2006a6d8-6e52-48e1-8c48-ff9b45ec3ac3",
   "metadata": {
    "vscode": {
     "languageId": "r"
    }
   },
   "outputs": [
    {
     "data": {
      "text/plain": [
       "       M               So               Ed             Po1       \n",
       " Min.   :11.90   Min.   :0.0000   Min.   : 8.70   Min.   : 4.50  \n",
       " 1st Qu.:13.00   1st Qu.:0.0000   1st Qu.: 9.75   1st Qu.: 6.25  \n",
       " Median :13.60   Median :0.0000   Median :10.80   Median : 7.80  \n",
       " Mean   :13.86   Mean   :0.3404   Mean   :10.56   Mean   : 8.50  \n",
       " 3rd Qu.:14.60   3rd Qu.:1.0000   3rd Qu.:11.45   3rd Qu.:10.45  \n",
       " Max.   :17.70   Max.   :1.0000   Max.   :12.20   Max.   :16.60  \n",
       "      Po2               LF              M.F              Pop        \n",
       " Min.   : 4.100   Min.   :0.4800   Min.   : 93.40   Min.   :  3.00  \n",
       " 1st Qu.: 5.850   1st Qu.:0.5305   1st Qu.: 96.45   1st Qu.: 10.00  \n",
       " Median : 7.300   Median :0.5600   Median : 97.70   Median : 25.00  \n",
       " Mean   : 8.023   Mean   :0.5612   Mean   : 98.30   Mean   : 36.62  \n",
       " 3rd Qu.: 9.700   3rd Qu.:0.5930   3rd Qu.: 99.20   3rd Qu.: 41.50  \n",
       " Max.   :15.700   Max.   :0.6410   Max.   :107.10   Max.   :168.00  \n",
       "       NW              U1                U2            Wealth    \n",
       " Min.   : 0.20   Min.   :0.07000   Min.   :2.000   Min.   :2880  \n",
       " 1st Qu.: 2.40   1st Qu.:0.08050   1st Qu.:2.750   1st Qu.:4595  \n",
       " Median : 7.60   Median :0.09200   Median :3.400   Median :5370  \n",
       " Mean   :10.11   Mean   :0.09547   Mean   :3.398   Mean   :5254  \n",
       " 3rd Qu.:13.25   3rd Qu.:0.10400   3rd Qu.:3.850   3rd Qu.:5915  \n",
       " Max.   :42.30   Max.   :0.14200   Max.   :5.800   Max.   :6890  \n",
       "      Ineq            Prob              Time           Crime       \n",
       " Min.   :12.60   Min.   :0.00690   Min.   :12.20   Min.   : 342.0  \n",
       " 1st Qu.:16.55   1st Qu.:0.03270   1st Qu.:21.60   1st Qu.: 658.5  \n",
       " Median :17.60   Median :0.04210   Median :25.80   Median : 831.0  \n",
       " Mean   :19.40   Mean   :0.04709   Mean   :26.60   Mean   : 905.1  \n",
       " 3rd Qu.:22.75   3rd Qu.:0.05445   3rd Qu.:30.45   3rd Qu.:1057.5  \n",
       " Max.   :27.60   Max.   :0.11980   Max.   :44.00   Max.   :1993.0  "
      ]
     },
     "metadata": {},
     "output_type": "display_data"
    }
   ],
   "source": [
    "# Get summary statistics of the data\n",
    "summary(crime_data)"
   ]
  },
  {
   "cell_type": "code",
   "execution_count": 5,
   "id": "abc9976b-94cc-4c22-b54f-1f6a499583d7",
   "metadata": {
    "vscode": {
     "languageId": "r"
    }
   },
   "outputs": [
    {
     "data": {
      "text/html": [
       "<table>\n",
       "<thead><tr><th scope=col>M</th><th scope=col>So</th><th scope=col>Ed</th><th scope=col>Po1</th><th scope=col>Po2</th><th scope=col>LF</th><th scope=col>M.F</th><th scope=col>Pop</th><th scope=col>NW</th><th scope=col>U1</th><th scope=col>U2</th><th scope=col>Wealth</th><th scope=col>Ineq</th><th scope=col>Prob</th><th scope=col>Time</th><th scope=col>Crime</th></tr></thead>\n",
       "<tbody>\n",
       "\t<tr><td>numeric</td><td>integer</td><td>numeric</td><td>numeric</td><td>numeric</td><td>numeric</td><td>numeric</td><td>integer</td><td>numeric</td><td>numeric</td><td>numeric</td><td>integer</td><td>numeric</td><td>numeric</td><td>numeric</td><td>integer</td></tr>\n",
       "</tbody>\n",
       "</table>\n"
      ],
      "text/latex": [
       "\\begin{tabular}{llllllllllllllll}\n",
       " M & So & Ed & Po1 & Po2 & LF & M.F & Pop & NW & U1 & U2 & Wealth & Ineq & Prob & Time & Crime\\\\\n",
       "\\hline\n",
       "\t numeric & integer & numeric & numeric & numeric & numeric & numeric & integer & numeric & numeric & numeric & integer & numeric & numeric & numeric & integer\\\\\n",
       "\\end{tabular}\n"
      ],
      "text/markdown": [
       "\n",
       "| M | So | Ed | Po1 | Po2 | LF | M.F | Pop | NW | U1 | U2 | Wealth | Ineq | Prob | Time | Crime |\n",
       "|---|---|---|---|---|---|---|---|---|---|---|---|---|---|---|---|\n",
       "| numeric | integer | numeric | numeric | numeric | numeric | numeric | integer | numeric | numeric | numeric | integer | numeric | numeric | numeric | integer |\n",
       "\n"
      ],
      "text/plain": [
       "     M       So      Ed      Po1     Po2     LF      M.F     Pop     NW     \n",
       "[1,] numeric integer numeric numeric numeric numeric numeric integer numeric\n",
       "     U1      U2      Wealth  Ineq    Prob    Time    Crime  \n",
       "[1,] numeric numeric integer numeric numeric numeric integer"
      ]
     },
     "metadata": {},
     "output_type": "display_data"
    }
   ],
   "source": [
    "# Output the data class for each column\n",
    "t(sapply(crime_data, class))"
   ]
  },
  {
   "cell_type": "code",
   "execution_count": 6,
   "id": "34898aa2-2cf2-4d84-928f-7dd6dae995c9",
   "metadata": {
    "vscode": {
     "languageId": "r"
    }
   },
   "outputs": [
    {
     "name": "stdout",
     "output_type": "stream",
     "text": [
      "Rows   Columns"
     ]
    },
    {
     "data": {
      "text/html": [
       "<table>\n",
       "<tbody>\n",
       "\t<tr><td>47</td><td>16</td></tr>\n",
       "</tbody>\n",
       "</table>\n"
      ],
      "text/latex": [
       "\\begin{tabular}{ll}\n",
       "\t 47 & 16\\\\\n",
       "\\end{tabular}\n"
      ],
      "text/markdown": [
       "\n",
       "| 47 | 16 |\n",
       "\n"
      ],
      "text/plain": [
       "     [,1] [,2]\n",
       "[1,] 47   16  "
      ]
     },
     "metadata": {},
     "output_type": "display_data"
    }
   ],
   "source": [
    "# Double check size of the data\n",
    "cat('Rows',' ','Columns')\n",
    "t(dim(crime_data))"
   ]
  },
  {
   "cell_type": "code",
   "execution_count": 7,
   "id": "eeefde4f-da32-403c-9efb-20b41be51479",
   "metadata": {
    "vscode": {
     "languageId": "r"
    }
   },
   "outputs": [
    {
     "data": {
      "text/html": [
       "<dl class=dl-horizontal>\n",
       "\t<dt>nbr.val</dt>\n",
       "\t\t<dd>47</dd>\n",
       "\t<dt>nbr.null</dt>\n",
       "\t\t<dd>0</dd>\n",
       "\t<dt>nbr.na</dt>\n",
       "\t\t<dd>0</dd>\n",
       "\t<dt>min</dt>\n",
       "\t\t<dd>342</dd>\n",
       "\t<dt>max</dt>\n",
       "\t\t<dd>1993</dd>\n",
       "\t<dt>range</dt>\n",
       "\t\t<dd>1651</dd>\n",
       "\t<dt>sum</dt>\n",
       "\t\t<dd>42539</dd>\n",
       "\t<dt>median</dt>\n",
       "\t\t<dd>831</dd>\n",
       "\t<dt>mean</dt>\n",
       "\t\t<dd>905.085106382979</dd>\n",
       "\t<dt>SE.mean</dt>\n",
       "\t\t<dd>56.4151375309313</dd>\n",
       "\t<dt>CI.mean.0.95</dt>\n",
       "\t\t<dd>113.557782048446</dd>\n",
       "\t<dt>var</dt>\n",
       "\t\t<dd>149585.383903793</dd>\n",
       "\t<dt>std.dev</dt>\n",
       "\t\t<dd>386.762697146186</dd>\n",
       "\t<dt>coef.var</dt>\n",
       "\t\t<dd>0.427321910855233</dd>\n",
       "</dl>\n"
      ],
      "text/latex": [
       "\\begin{description*}\n",
       "\\item[nbr.val] 47\n",
       "\\item[nbr.null] 0\n",
       "\\item[nbr.na] 0\n",
       "\\item[min] 342\n",
       "\\item[max] 1993\n",
       "\\item[range] 1651\n",
       "\\item[sum] 42539\n",
       "\\item[median] 831\n",
       "\\item[mean] 905.085106382979\n",
       "\\item[SE.mean] 56.4151375309313\n",
       "\\item[CI.mean.0.95] 113.557782048446\n",
       "\\item[var] 149585.383903793\n",
       "\\item[std.dev] 386.762697146186\n",
       "\\item[coef.var] 0.427321910855233\n",
       "\\end{description*}\n"
      ],
      "text/markdown": [
       "nbr.val\n",
       ":   47nbr.null\n",
       ":   0nbr.na\n",
       ":   0min\n",
       ":   342max\n",
       ":   1993range\n",
       ":   1651sum\n",
       ":   42539median\n",
       ":   831mean\n",
       ":   905.085106382979SE.mean\n",
       ":   56.4151375309313CI.mean.0.95\n",
       ":   113.557782048446var\n",
       ":   149585.383903793std.dev\n",
       ":   386.762697146186coef.var\n",
       ":   0.427321910855233\n",
       "\n"
      ],
      "text/plain": [
       "     nbr.val     nbr.null       nbr.na          min          max        range \n",
       "4.700000e+01 0.000000e+00 0.000000e+00 3.420000e+02 1.993000e+03 1.651000e+03 \n",
       "         sum       median         mean      SE.mean CI.mean.0.95          var \n",
       "4.253900e+04 8.310000e+02 9.050851e+02 5.641514e+01 1.135578e+02 1.495854e+05 \n",
       "     std.dev     coef.var \n",
       "3.867627e+02 4.273219e-01 "
      ]
     },
     "metadata": {},
     "output_type": "display_data"
    }
   ],
   "source": [
    "# Get the summary statistics for the Crimes column\n",
    "stat.desc(crime_data[,16])"
   ]
  },
  {
   "attachments": {
    "fe6a9ba7-985e-4d3b-b58c-a9deb6610184.png": {
     "image/png": "[encoded data removed]"
    }
   },
   "cell_type": "markdown",
   "id": "b12c2536-3c59-4c83-b444-ade982f1c239",
   "metadata": {},
   "source": [
    "This lets me know that I have a table with 47 rows and 16 columns. The data is a combination of integer and float (numeric) values and the Crime column has a minimum value of 342 and a maximum value of 1993 giving it a range of 1651. The median and mean are 831 and 905 respectively, and the standard deviation is 386.76. Looking at the statsci.org description of the data I see it is data on the effect of punishment regimes on crime rates for 47 stats in the USA for 1960. A description of the attributes of the data taken from the website can be seen below:\n",
    "\n",
    "![image.png](attachment:fe6a9ba7-985e-4d3b-b58c-a9deb6610184.png)"
   ]
  },
  {
   "cell_type": "markdown",
   "id": "c26943aa-bc3c-4f0c-9f46-92d89e3eac6f",
   "metadata": {},
   "source": [
    "#### Step 2 - Check that the Data is Normally Distributed\n",
    "The Grubbs test only works if the data is normally distributed so before applying it I am going to check that it fits a normal distribution. I found four methods for checking the normality of a dataset at https://www.statology.org/test-for-normality-in-r/. Since they are all relatively simple and I'm interested in learning the various methods I'll try the histogram, Q-Q plot, and Shapiro-Wilk Test. I am not running the Kolmogorov–Smirnov test because it is used for data with n ≥ 50 and our dataset has n = 47."
   ]
  },
  {
   "cell_type": "markdown",
   "id": "aa4e8595-b869-4bb5-920a-890b9082502d",
   "metadata": {},
   "source": [
    "##### Option 1 - Histogram"
   ]
  },
  {
   "cell_type": "code",
   "execution_count": 8,
   "id": "0891834d-4687-4800-877d-e89c7f791161",
   "metadata": {
    "vscode": {
     "languageId": "r"
    }
   },
   "outputs": [
    {
     "data": {
      "image/png": "[encoded data removed]",
      "text/plain": [
       "Plot with title \"Histogram of crime_data[, 16]\""
      ]
     },
     "metadata": {},
     "output_type": "display_data"
    }
   ],
   "source": [
    "# Plot historgram\n",
    "hist(crime_data[,16], col='steelblue')"
   ]
  },
  {
   "cell_type": "markdown",
   "id": "da79c96c-3019-438d-ac81-9a8420ac7ad2",
   "metadata": {},
   "source": [
    "##### Option 2 - Create a Q-Q Plot"
   ]
  },
  {
   "cell_type": "code",
   "execution_count": 9,
   "id": "84d038aa-3dda-46b3-a0ee-7e84d6352bcc",
   "metadata": {
    "vscode": {
     "languageId": "r"
    }
   },
   "outputs": [
    {
     "data": {
      "image/png": "[encoded data removed]",
      "text/plain": [
       "Plot with title \"Normal Q-Q Plot\""
      ]
     },
     "metadata": {},
     "output_type": "display_data"
    }
   ],
   "source": [
    "qqnorm(crime_data[,16])\n",
    "qqline(crime_data[,16])"
   ]
  },
  {
   "cell_type": "markdown",
   "id": "930f2983-5b22-41c9-9183-0512c83678ef",
   "metadata": {},
   "source": [
    "##### Option 3 - Perform a Shapiro-Wilk Test"
   ]
  },
  {
   "cell_type": "code",
   "execution_count": 10,
   "id": "99e59b90-782a-48e1-83b1-63cce08c08b1",
   "metadata": {
    "vscode": {
     "languageId": "r"
    }
   },
   "outputs": [
    {
     "data": {
      "text/plain": [
       "\n",
       "\tShapiro-Wilk normality test\n",
       "\n",
       "data:  crime_data[, 16]\n",
       "W = 0.91273, p-value = 0.001882\n"
      ]
     },
     "metadata": {},
     "output_type": "display_data"
    }
   ],
   "source": [
    "shapiro.test(crime_data[,16])"
   ]
  },
  {
   "cell_type": "markdown",
   "id": "08937b9b-27d3-4e12-9ddf-c54b8fdcdcb3",
   "metadata": {},
   "source": [
    "After reviewing the results of all three tests, it's clear that the values actually indicate that our **data is not normally distributed and therefore the Grubbs test should not be used**. The histogram has a general bell shape but does show higher density at the lower values, the Q-Q plot shows that some of the values start to diverge from the QQ line at the higher values, and the Shapiro-Wilk test gave small p-values that indicate the data might not be normally distributed. All three tests indicate that our data is not normally distributed and therefore using the Grubbs test would not be appropriate. That means that it might be appropriate to use a transformation technique on the data to insure a normal distribution for the Grubbs test or use a different test to look for outliers. However, for the purpose of this homework I am going to move forward with the Grubbs test without performing any transformations and then again after transforming the results to see the difference. I am also going to try a few different outlier detection methods."
   ]
  },
  {
   "cell_type": "markdown",
   "id": "8fafc1e5-1aae-41d9-ac2f-18631664a64c",
   "metadata": {},
   "source": [
    "#### Step 3 - Run the Grubbs Test for the Maximum and Minimum Values\n",
    "Next I will run the Grubbs test for both the maximum and minimum value, the Grubbs test can also check for two outliers on opposite tails and for two outliers in one tail (only works on n between 3-30) but I am not including those in this analysis. "
   ]
  },
  {
   "cell_type": "code",
   "execution_count": 11,
   "id": "3c3bfaec-4bfa-4527-84ac-2108169a2abd",
   "metadata": {
    "vscode": {
     "languageId": "r"
    }
   },
   "outputs": [
    {
     "data": {
      "text/plain": [
       "\n",
       "\tGrubbs test for one outlier\n",
       "\n",
       "data:  crime_data[, 16]\n",
       "G = 1.45589, U = 0.95292, p-value = 1\n",
       "alternative hypothesis: lowest value 342 is an outlier\n"
      ]
     },
     "metadata": {},
     "output_type": "display_data"
    }
   ],
   "source": [
    "# Check the minimum value\n",
    "grubbs.test(crime_data[,16], type = 10, opposite = TRUE)"
   ]
  },
  {
   "cell_type": "code",
   "execution_count": 12,
   "id": "32f1e650-a6c2-45c3-9f47-5a4a9fdf8d19",
   "metadata": {
    "vscode": {
     "languageId": "r"
    }
   },
   "outputs": [
    {
     "data": {
      "text/plain": [
       "\n",
       "\tGrubbs test for one outlier\n",
       "\n",
       "data:  crime_data[, 16]\n",
       "G = 2.81287, U = 0.82426, p-value = 0.07887\n",
       "alternative hypothesis: highest value 1993 is an outlier\n"
      ]
     },
     "metadata": {},
     "output_type": "display_data"
    }
   ],
   "source": [
    "# Check the maximum value\n",
    "grubbs.test(crime_data[,16], type = 10)"
   ]
  },
  {
   "cell_type": "markdown",
   "id": "42bd1e1a-492c-4c85-a0cb-63b5f728c5e2",
   "metadata": {},
   "source": [
    "#### Step 4 - Interpret the Results of the Tests\n",
    "Looking at the output from the Grubbs test for the minimum value it is clear that it is not an outlier, the p-value is 1 and would need to be < 0.05 to reject the null hypothesis at the common significance level of 5%. The maximum value requires more analysis, we are able to choose the significance level (typically α = 0.05 is used). The p-value we get of 0.07887 is above the typical significance level so would mean that we would accept the null hypothesis and wouldn't be able to conclude that the maximum value is an outlier. If I decided to use a larger significance level (for example α = 0.1) I would need to check what the Grubbs' critical value is for our sample size. Looking at the table at http://www.sediment.uni-goettingen.de/staff/dunkl/software/pep-grubbs.pdf, it shows that the G value would need to be greater than 0 which it is. As a result, I can conclude that the maximum value is an outlier at the 0.1 significance level. All of this is irrelevant because the data is not normally distributed but provided good insight into the Grubbs test and it's implementation."
   ]
  },
  {
   "cell_type": "markdown",
   "id": "1de01b0c-be6f-40af-a278-54a95d17b2ab",
   "metadata": {},
   "source": [
    "#### Step 5 - Box and Whisker Plot\n",
    "Lastly, I want to visualize the distribution of the data with a box and whisker plot to see how it compares to the Grubs test results."
   ]
  },
  {
   "cell_type": "code",
   "execution_count": 13,
   "id": "48a1a315-b05f-4bae-8134-5d6408d8bc8b",
   "metadata": {
    "vscode": {
     "languageId": "r"
    }
   },
   "outputs": [
    {
     "data": {
      "image/png": "[encoded data removed]",
      "text/plain": [
       "plot without title"
      ]
     },
     "metadata": {},
     "output_type": "display_data"
    }
   ],
   "source": [
    "boxplot(crime_data[,16], pch=16, horizontal = TRUE)"
   ]
  },
  {
   "cell_type": "markdown",
   "id": "a3e11742-9417-4f6c-8530-9d3da95ff7b7",
   "metadata": {},
   "source": [
    "#### Conclusion\n",
    "Looking at the box and whisker plot the three largest values would be considered outliers from a stastical standpoint, however when looking at the Grubbs test they would only be considered such at a very high signifance level (α >= 0.1). Furthermore, when looking at what the data represents it is logical that their would be a few states with significantly higher crime rates. And not including a state in the dataset wouldn't make sense regardless of what the Grubbs test told us as the purpose of the dataset is to see the variation in crime rates for each state."
   ]
  },
  {
   "cell_type": "markdown",
   "id": "b792eb23-818b-40f4-85d5-18ffa937de6f",
   "metadata": {},
   "source": [
    "### Redo with Normalized Data\n",
    "Since the original dataset didn't meet the requirements of having a normal distribution for the Grubbs test, I am going to normalize the data and try running the test again. Their are multiple ways to normalize the data, some of the ones I found were using log transformations, standard scaling, min-max scaling, and Z-score standardization. I am going to use logarithmic transformations and follow the steps below to see how it effects the results of the grubbs test:\n",
    "1) Normalize the data using logarithmic transformations\n",
    "2) Check that the data is normally distributed\n",
    "3) Run the Grubbs test for the maximum and minimum values\n",
    "4) Interpret the results of the test and decide if any of the points are outliers\n",
    "5) Examine the data distribution visually with a box and whisker plot"
   ]
  },
  {
   "cell_type": "markdown",
   "id": "46dd28d5-4e37-4038-9d46-0b1e88ab0930",
   "metadata": {},
   "source": [
    "#### Step 1 - Normalize the data\n",
    "I am going to apply a logarithmic transformation on the crime data to achieve a normal distribution."
   ]
  },
  {
   "cell_type": "code",
   "execution_count": 14,
   "id": "eb511cc8-ed83-4530-b46a-79d24eacde85",
   "metadata": {
    "vscode": {
     "languageId": "r"
    }
   },
   "outputs": [],
   "source": [
    "n_data <- log(crime_data[,16])"
   ]
  },
  {
   "cell_type": "markdown",
   "id": "3d572f68-aa6c-4997-b1fc-a07a4fafa2c5",
   "metadata": {},
   "source": [
    "#### Step 2 - Check that the Data is Normally Distributed\n",
    "Next I am going to run all four tests that I had previously to see if the data is normally distributed after the logarithmic transformation."
   ]
  },
  {
   "cell_type": "markdown",
   "id": "57808d11-23f0-4e94-b415-7cd6991c0064",
   "metadata": {},
   "source": [
    "##### Option 1 - Histogram"
   ]
  },
  {
   "cell_type": "code",
   "execution_count": 15,
   "id": "574ae4ad-c1e3-458b-8358-16a529720f76",
   "metadata": {
    "vscode": {
     "languageId": "r"
    }
   },
   "outputs": [
    {
     "data": {
      "image/png": "[encoded data removed]",
      "text/plain": [
       "Plot with title \"Histogram of n_data\""
      ]
     },
     "metadata": {},
     "output_type": "display_data"
    }
   ],
   "source": [
    "# Plot historgram\n",
    "hist(n_data, col='steelblue')"
   ]
  },
  {
   "cell_type": "markdown",
   "id": "ef0bd8b2-e8aa-488e-a59a-0185165d69ae",
   "metadata": {},
   "source": [
    "##### Option 2 - Create a Q-Q Plot"
   ]
  },
  {
   "cell_type": "code",
   "execution_count": 16,
   "id": "fbd03625-8d35-4137-a13b-afbf5df99c84",
   "metadata": {
    "vscode": {
     "languageId": "r"
    }
   },
   "outputs": [
    {
     "data": {
      "image/png": "[encoded data removed]",
      "text/plain": [
       "Plot with title \"Normal Q-Q Plot\""
      ]
     },
     "metadata": {},
     "output_type": "display_data"
    }
   ],
   "source": [
    "qqnorm(n_data)\n",
    "qqline(n_data)"
   ]
  },
  {
   "cell_type": "markdown",
   "id": "8018f6ca-0168-4d3c-b2ba-8975ef0a5631",
   "metadata": {},
   "source": [
    "##### Option 3 - Perform a Shapiro-Wilk Test"
   ]
  },
  {
   "cell_type": "code",
   "execution_count": 17,
   "id": "d48db421-bd98-424a-af95-d3f2b7942ccc",
   "metadata": {
    "vscode": {
     "languageId": "r"
    }
   },
   "outputs": [
    {
     "data": {
      "text/plain": [
       "\n",
       "\tShapiro-Wilk normality test\n",
       "\n",
       "data:  n_data\n",
       "W = 0.98709, p-value = 0.8778\n"
      ]
     },
     "metadata": {},
     "output_type": "display_data"
    }
   ],
   "source": [
    "shapiro.test(n_data)"
   ]
  },
  {
   "cell_type": "markdown",
   "id": "a05fefe5-5181-44ea-9ae8-66ddfd3fcb45",
   "metadata": {},
   "source": [
    "After reviewing the results I can see that the data is now normally distributed. The histogram shows a true bell curve shape, the QQ-plot shows that most of the points are centered around the QQ-line, and the p-value fromt eh Shapiro-Wilks test is above 0.05."
   ]
  },
  {
   "cell_type": "markdown",
   "id": "10cbebce-3e1a-4d10-a53a-8038819d5d78",
   "metadata": {},
   "source": [
    "#### Step 3 - Run the Grubbs Test for the Maximum and Minimum Values\n",
    "Next I will run the Grubbs test for both the maximum and minimum value using the normalized dataset, the Grubbs test can also check for two outliers on opposite tails and for two outliers in one tail (only works on n between 3-30) but I am not including those in this analysis."
   ]
  },
  {
   "cell_type": "code",
   "execution_count": 18,
   "id": "89d43584-fd8d-46d8-abfe-1a811688e9c9",
   "metadata": {
    "vscode": {
     "languageId": "r"
    }
   },
   "outputs": [
    {
     "data": {
      "text/plain": [
       "\n",
       "\tGrubbs test for one outlier\n",
       "\n",
       "data:  n_data\n",
       "G = 2.12247, U = 0.89994, p-value = 0.712\n",
       "alternative hypothesis: highest value 7.59739632021279 is an outlier\n"
      ]
     },
     "metadata": {},
     "output_type": "display_data"
    }
   ],
   "source": [
    "# Check the minimum value\n",
    "grubbs.test(n_data, type = 10, opposite = TRUE)"
   ]
  },
  {
   "cell_type": "code",
   "execution_count": 19,
   "id": "1816f0ec-09a5-4698-9be6-b9b1b237e49a",
   "metadata": {
    "vscode": {
     "languageId": "r"
    }
   },
   "outputs": [
    {
     "data": {
      "text/plain": [
       "\n",
       "\tGrubbs test for one outlier\n",
       "\n",
       "data:  n_data\n",
       "G = 2.16544, U = 0.89585, p-value = 0.6329\n",
       "alternative hypothesis: lowest value 5.8348107370626 is an outlier\n"
      ]
     },
     "metadata": {},
     "output_type": "display_data"
    }
   ],
   "source": [
    "# Check the maximum value\n",
    "grubbs.test(n_data, type = 10)"
   ]
  },
  {
   "cell_type": "markdown",
   "id": "7c08159c-5b71-4448-9461-79c5dd1e0292",
   "metadata": {},
   "source": [
    "#### Step 4 - Interpret the Results of the Tests\n",
    "Looking at the output from the Grubbs test for the minimum value it is clear that it is not an outlier, the p-value is 0.712 and would need to be < 0.05 to reject the null hypothesis at a significance level of 5%. The maximum value showed similar results, the p-value is 0.6329 which again is far too large to reject the null hypothesis."
   ]
  },
  {
   "cell_type": "markdown",
   "id": "f7403b4b-6e07-408e-824d-aac72e97c53b",
   "metadata": {},
   "source": [
    "#### Step 5 - Box and Whisker Plot\n",
    "Lastly, I want to visualize the distribution of the normalized data with a box and whisker plot to see how it compares to the Grubs test results."
   ]
  },
  {
   "cell_type": "code",
   "execution_count": 20,
   "id": "98d70fb7-d084-4034-8e4f-676de546f7be",
   "metadata": {
    "vscode": {
     "languageId": "r"
    }
   },
   "outputs": [
    {
     "data": {
      "image/png": "[encoded data removed]",
      "text/plain": [
       "plot without title"
      ]
     },
     "metadata": {},
     "output_type": "display_data"
    }
   ],
   "source": [
    "boxplot(n_data, pch=16, horizontal = TRUE)"
   ]
  },
  {
   "cell_type": "markdown",
   "id": "22047a08-7d3b-4f96-8a2b-7659918d68cb",
   "metadata": {},
   "source": [
    "### Hampel Filter Method to Detect Outliers\n",
    "Lastly, I am going to try to use the Hampel Filter method on the original dataset to see if it detects any outliers. I found information about this method at https://statsandr.com/blog/outliers-detection-in-r/#statistical-tests. It essentially states that a point is considered an outlier if it is outside the interval (I) formed by the median, plus or minus 3 median absolute deviations. It is given by the equation:\n",
    "$$ I = [median - 3 * MAD; median + 3 * MAD] $$\n",
    "Where MAD is the absolute deviation and is defined as:\n",
    "$$ MAD = median([Xi - Xmedian]) $$"
   ]
  },
  {
   "cell_type": "code",
   "execution_count": 21,
   "id": "59895849-450a-49c3-9400-080fcf0d63e6",
   "metadata": {
    "vscode": {
     "languageId": "r"
    }
   },
   "outputs": [
    {
     "name": "stdout",
     "output_type": "stream",
     "text": [
      "Lower bound is: 195 Upper bound is: 1467"
     ]
    }
   ],
   "source": [
    "lower_bound <- median(crime_data[,16]) - 3 * mad(crime_data[,16], constant = 1)\n",
    "upper_bound <- median(crime_data[,16]) + 3 * mad(crime_data[,16], constant = 1)\n",
    "cat(\"Lower bound is:\", lower_bound, \"Upper bound is:\", upper_bound)"
   ]
  },
  {
   "cell_type": "markdown",
   "id": "e48d2318-e2cd-429c-96d4-6742700ba22d",
   "metadata": {},
   "source": [
    "According to this method, all observations below 195 and above 1467 could be an outlier. This does indicate we have several potential outliers. These point would warrent further inspection but like stated in the conclusion above, due to the nature of the dataset it is unlikely that we would make any changes to the dataset. Looking at our data the following indices are for values that fall outside of the determined range:"
   ]
  },
  {
   "cell_type": "code",
   "execution_count": 22,
   "id": "2af20ad9-883f-4f35-a2ef-bb986cda1ee1",
   "metadata": {
    "vscode": {
     "languageId": "r"
    }
   },
   "outputs": [
    {
     "data": {
      "text/html": [
       "<table>\n",
       "<thead><tr><th></th><th scope=col>M</th><th scope=col>So</th><th scope=col>Ed</th><th scope=col>Po1</th><th scope=col>Po2</th><th scope=col>LF</th><th scope=col>M.F</th><th scope=col>Pop</th><th scope=col>NW</th><th scope=col>U1</th><th scope=col>U2</th><th scope=col>Wealth</th><th scope=col>Ineq</th><th scope=col>Prob</th><th scope=col>Time</th><th scope=col>Crime</th></tr></thead>\n",
       "<tbody>\n",
       "\t<tr><th scope=row>2</th><td>14.3    </td><td>0       </td><td>11.3    </td><td>10.3    </td><td> 9.5    </td><td>0.583   </td><td>101.2   </td><td> 13     </td><td>10.2    </td><td>0.096   </td><td>3.6     </td><td>5570    </td><td>19.4    </td><td>0.029599</td><td>25.2999 </td><td>1635    </td></tr>\n",
       "\t<tr><th scope=row>4</th><td>13.6    </td><td>0       </td><td>12.1    </td><td>14.9    </td><td>14.1    </td><td>0.577   </td><td> 99.4   </td><td>157     </td><td> 8.0    </td><td>0.102   </td><td>3.9     </td><td>6730    </td><td>16.7    </td><td>0.015801</td><td>29.9012 </td><td>1969    </td></tr>\n",
       "\t<tr><th scope=row>8</th><td>13.1    </td><td>1       </td><td>10.9    </td><td>11.5    </td><td>10.9    </td><td>0.542   </td><td> 96.9   </td><td> 50     </td><td>17.9    </td><td>0.079   </td><td>3.5     </td><td>4720    </td><td>20.6    </td><td>0.040099</td><td>24.5988 </td><td>1555    </td></tr>\n",
       "\t<tr><th scope=row>11</th><td>12.4    </td><td>0       </td><td>10.5    </td><td>12.1    </td><td>11.6    </td><td>0.580   </td><td> 96.6   </td><td>101     </td><td>10.6    </td><td>0.077   </td><td>3.5     </td><td>6570    </td><td>17.0    </td><td>0.016201</td><td>41.6000 </td><td>1674    </td></tr>\n",
       "\t<tr><th scope=row>26</th><td>13.1    </td><td>0       </td><td>12.1    </td><td>16.0    </td><td>14.3    </td><td>0.631   </td><td>107.1   </td><td>  3     </td><td> 7.7    </td><td>0.102   </td><td>4.1     </td><td>6740    </td><td>15.2    </td><td>0.041698</td><td>22.1005 </td><td>1993    </td></tr>\n",
       "</tbody>\n",
       "</table>\n"
      ],
      "text/latex": [
       "\\begin{tabular}{r|llllllllllllllll}\n",
       "  & M & So & Ed & Po1 & Po2 & LF & M.F & Pop & NW & U1 & U2 & Wealth & Ineq & Prob & Time & Crime\\\\\n",
       "\\hline\n",
       "\t2 & 14.3     & 0        & 11.3     & 10.3     &  9.5     & 0.583    & 101.2    &  13      & 10.2     & 0.096    & 3.6      & 5570     & 19.4     & 0.029599 & 25.2999  & 1635    \\\\\n",
       "\t4 & 13.6     & 0        & 12.1     & 14.9     & 14.1     & 0.577    &  99.4    & 157      &  8.0     & 0.102    & 3.9      & 6730     & 16.7     & 0.015801 & 29.9012  & 1969    \\\\\n",
       "\t8 & 13.1     & 1        & 10.9     & 11.5     & 10.9     & 0.542    &  96.9    &  50      & 17.9     & 0.079    & 3.5      & 4720     & 20.6     & 0.040099 & 24.5988  & 1555    \\\\\n",
       "\t11 & 12.4     & 0        & 10.5     & 12.1     & 11.6     & 0.580    &  96.6    & 101      & 10.6     & 0.077    & 3.5      & 6570     & 17.0     & 0.016201 & 41.6000  & 1674    \\\\\n",
       "\t26 & 13.1     & 0        & 12.1     & 16.0     & 14.3     & 0.631    & 107.1    &   3      &  7.7     & 0.102    & 4.1      & 6740     & 15.2     & 0.041698 & 22.1005  & 1993    \\\\\n",
       "\\end{tabular}\n"
      ],
      "text/markdown": [
       "\n",
       "| <!--/--> | M | So | Ed | Po1 | Po2 | LF | M.F | Pop | NW | U1 | U2 | Wealth | Ineq | Prob | Time | Crime |\n",
       "|---|---|---|---|---|---|---|---|---|---|---|---|---|---|---|---|---|\n",
       "| 2 | 14.3     | 0        | 11.3     | 10.3     |  9.5     | 0.583    | 101.2    |  13      | 10.2     | 0.096    | 3.6      | 5570     | 19.4     | 0.029599 | 25.2999  | 1635     |\n",
       "| 4 | 13.6     | 0        | 12.1     | 14.9     | 14.1     | 0.577    |  99.4    | 157      |  8.0     | 0.102    | 3.9      | 6730     | 16.7     | 0.015801 | 29.9012  | 1969     |\n",
       "| 8 | 13.1     | 1        | 10.9     | 11.5     | 10.9     | 0.542    |  96.9    |  50      | 17.9     | 0.079    | 3.5      | 4720     | 20.6     | 0.040099 | 24.5988  | 1555     |\n",
       "| 11 | 12.4     | 0        | 10.5     | 12.1     | 11.6     | 0.580    |  96.6    | 101      | 10.6     | 0.077    | 3.5      | 6570     | 17.0     | 0.016201 | 41.6000  | 1674     |\n",
       "| 26 | 13.1     | 0        | 12.1     | 16.0     | 14.3     | 0.631    | 107.1    |   3      |  7.7     | 0.102    | 4.1      | 6740     | 15.2     | 0.041698 | 22.1005  | 1993     |\n",
       "\n"
      ],
      "text/plain": [
       "   M    So Ed   Po1  Po2  LF    M.F   Pop NW   U1    U2  Wealth Ineq Prob    \n",
       "2  14.3 0  11.3 10.3  9.5 0.583 101.2  13 10.2 0.096 3.6 5570   19.4 0.029599\n",
       "4  13.6 0  12.1 14.9 14.1 0.577  99.4 157  8.0 0.102 3.9 6730   16.7 0.015801\n",
       "8  13.1 1  10.9 11.5 10.9 0.542  96.9  50 17.9 0.079 3.5 4720   20.6 0.040099\n",
       "11 12.4 0  10.5 12.1 11.6 0.580  96.6 101 10.6 0.077 3.5 6570   17.0 0.016201\n",
       "26 13.1 0  12.1 16.0 14.3 0.631 107.1   3  7.7 0.102 4.1 6740   15.2 0.041698\n",
       "   Time    Crime\n",
       "2  25.2999 1635 \n",
       "4  29.9012 1969 \n",
       "8  24.5988 1555 \n",
       "11 41.6000 1674 \n",
       "26 22.1005 1993 "
      ]
     },
     "metadata": {},
     "output_type": "display_data"
    }
   ],
   "source": [
    "outlier_ind <- which(crime_data[,16] < lower_bound | crime_data[,16] > upper_bound)\n",
    "crime_data[outlier_ind, ]"
   ]
  }
 ],
 "metadata": {
  "kernelspec": {
   "display_name": "R",
   "language": "R",
   "name": "ir"
  },
  "language_info": {
   "codemirror_mode": "r",
   "file_extension": ".r",
   "mimetype": "text/x-r-source",
   "name": "R",
   "pygments_lexer": "r",
   "version": "3.6.1"
  }
 },
 "nbformat": 4,
 "nbformat_minor": 5
}
