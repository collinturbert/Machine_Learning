{
 "cells": [
  {
   "cell_type": "markdown",
   "id": "7754c152-bc52-44a5-b89d-f17711202ab7",
   "metadata": {},
   "source": [
    "### Question 3.1\n",
    "> Using the same data set (credit_card_data.txt or credit_card_data-headers.txt) as in Question 2.2, use the ksvm or kknn function to find a good classifier:\n",
    ">1. Using cross-validation (do this for the k-nearest-neighbors model; SVM is optional); and\n",
    ">2. splitting the data into training, validation, and test data sets (pick either KNN or SVM; the other is optional)."
   ]
  },
  {
   "cell_type": "markdown",
   "id": "86f38658-f5f5-47e0-91e6-cb89e69c8cc9",
   "metadata": {},
   "source": [
    "#### Install Libraries\n",
    "This question needs the kernlab and kknn libraries, I also included the vtable library to get information about the data, the htmltools library to print out the notebook, and the ggplot2 library to help plot results."
   ]
  },
  {
   "cell_type": "code",
   "execution_count": 35,
   "id": "9128f7f0-5ef1-4be5-8348-b402658d96b9",
   "metadata": {},
   "outputs": [],
   "source": [
    "library(kernlab)\n",
    "library(kknn)\n",
    "library(caret)\n",
    "library(ggplot2)\n",
    "library(datasets)\n",
    "library(factoextra)\n",
    "library(tidyverse)"
   ]
  },
  {
   "cell_type": "markdown",
   "id": "b9801f54-bf18-4748-9701-bc211b5403d4",
   "metadata": {},
   "source": [
    "#### Load Data\n",
    "The data set was provided in the homework 1 .zip folder and I am choosing to use the data that includes headers so they are available to reference"
   ]
  },
  {
   "cell_type": "code",
   "execution_count": 2,
   "id": "d2a4504c-b1f3-4b0a-9308-8a10a0b741f4",
   "metadata": {},
   "outputs": [],
   "source": [
    "data <- read.table(\"credit_card_data-headers.txt\", header = TRUE)"
   ]
  },
  {
   "cell_type": "markdown",
   "id": "e8e8b88e-09ea-4172-bf53-3c54c31ebb25",
   "metadata": {},
   "source": [
    "#### Examine Data\n",
    "Now that the data is loaded I want to examine it to get a better idea of what it looks like. I'm interested in actually seeing the data but also infomration about the data such as data type and ranges of values."
   ]
  },
  {
   "cell_type": "code",
   "execution_count": 3,
   "id": "9e642977-31a5-4244-955b-25b0b7b8c265",
   "metadata": {},
   "outputs": [
    {
     "data": {
      "text/html": [
       "<table>\n",
       "<thead><tr><th scope=col>A1</th><th scope=col>A2</th><th scope=col>A3</th><th scope=col>A8</th><th scope=col>A9</th><th scope=col>A10</th><th scope=col>A11</th><th scope=col>A12</th><th scope=col>A14</th><th scope=col>A15</th><th scope=col>R1</th></tr></thead>\n",
       "<tbody>\n",
       "\t<tr><td>integer</td><td>numeric</td><td>numeric</td><td>numeric</td><td>integer</td><td>integer</td><td>integer</td><td>integer</td><td>integer</td><td>integer</td><td>integer</td></tr>\n",
       "</tbody>\n",
       "</table>\n"
      ],
      "text/latex": [
       "\\begin{tabular}{lllllllllll}\n",
       " A1 & A2 & A3 & A8 & A9 & A10 & A11 & A12 & A14 & A15 & R1\\\\\n",
       "\\hline\n",
       "\t integer & numeric & numeric & numeric & integer & integer & integer & integer & integer & integer & integer\\\\\n",
       "\\end{tabular}\n"
      ],
      "text/markdown": [
       "\n",
       "| A1 | A2 | A3 | A8 | A9 | A10 | A11 | A12 | A14 | A15 | R1 |\n",
       "|---|---|---|---|---|---|---|---|---|---|---|\n",
       "| integer | numeric | numeric | numeric | integer | integer | integer | integer | integer | integer | integer |\n",
       "\n"
      ],
      "text/plain": [
       "     A1      A2      A3      A8      A9      A10     A11     A12     A14    \n",
       "[1,] integer numeric numeric numeric integer integer integer integer integer\n",
       "     A15     R1     \n",
       "[1,] integer integer"
      ]
     },
     "metadata": {},
     "output_type": "display_data"
    }
   ],
   "source": [
    "# Output the data class for each column transposed\n",
    "t(sapply(data, class))"
   ]
  },
  {
   "cell_type": "code",
   "execution_count": 4,
   "id": "999d6c35-1ec5-4e1f-a91e-ef1da9e923ef",
   "metadata": {},
   "outputs": [
    {
     "data": {
      "text/html": [
       "<table>\n",
       "<thead><tr><th scope=col>A1</th><th scope=col>A2</th><th scope=col>A3</th><th scope=col>A8</th><th scope=col>A9</th><th scope=col>A10</th><th scope=col>A11</th><th scope=col>A12</th><th scope=col>A14</th><th scope=col>A15</th><th scope=col>R1</th></tr></thead>\n",
       "<tbody>\n",
       "\t<tr><td>1    </td><td>30.83</td><td>0.000</td><td>1.25 </td><td>1    </td><td>0    </td><td>1    </td><td>1    </td><td>202  </td><td>  0  </td><td>1    </td></tr>\n",
       "\t<tr><td>0    </td><td>58.67</td><td>4.460</td><td>3.04 </td><td>1    </td><td>0    </td><td>6    </td><td>1    </td><td> 43  </td><td>560  </td><td>1    </td></tr>\n",
       "\t<tr><td>0    </td><td>24.50</td><td>0.500</td><td>1.50 </td><td>1    </td><td>1    </td><td>0    </td><td>1    </td><td>280  </td><td>824  </td><td>1    </td></tr>\n",
       "\t<tr><td>1    </td><td>27.83</td><td>1.540</td><td>3.75 </td><td>1    </td><td>0    </td><td>5    </td><td>0    </td><td>100  </td><td>  3  </td><td>1    </td></tr>\n",
       "\t<tr><td>1    </td><td>20.17</td><td>5.625</td><td>1.71 </td><td>1    </td><td>1    </td><td>0    </td><td>1    </td><td>120  </td><td>  0  </td><td>1    </td></tr>\n",
       "\t<tr><td>1    </td><td>32.08</td><td>4.000</td><td>2.50 </td><td>1    </td><td>1    </td><td>0    </td><td>0    </td><td>360  </td><td>  0  </td><td>1    </td></tr>\n",
       "</tbody>\n",
       "</table>\n"
      ],
      "text/latex": [
       "\\begin{tabular}{r|lllllllllll}\n",
       " A1 & A2 & A3 & A8 & A9 & A10 & A11 & A12 & A14 & A15 & R1\\\\\n",
       "\\hline\n",
       "\t 1     & 30.83 & 0.000 & 1.25  & 1     & 0     & 1     & 1     & 202   &   0   & 1    \\\\\n",
       "\t 0     & 58.67 & 4.460 & 3.04  & 1     & 0     & 6     & 1     &  43   & 560   & 1    \\\\\n",
       "\t 0     & 24.50 & 0.500 & 1.50  & 1     & 1     & 0     & 1     & 280   & 824   & 1    \\\\\n",
       "\t 1     & 27.83 & 1.540 & 3.75  & 1     & 0     & 5     & 0     & 100   &   3   & 1    \\\\\n",
       "\t 1     & 20.17 & 5.625 & 1.71  & 1     & 1     & 0     & 1     & 120   &   0   & 1    \\\\\n",
       "\t 1     & 32.08 & 4.000 & 2.50  & 1     & 1     & 0     & 0     & 360   &   0   & 1    \\\\\n",
       "\\end{tabular}\n"
      ],
      "text/markdown": [
       "\n",
       "| A1 | A2 | A3 | A8 | A9 | A10 | A11 | A12 | A14 | A15 | R1 |\n",
       "|---|---|---|---|---|---|---|---|---|---|---|\n",
       "| 1     | 30.83 | 0.000 | 1.25  | 1     | 0     | 1     | 1     | 202   |   0   | 1     |\n",
       "| 0     | 58.67 | 4.460 | 3.04  | 1     | 0     | 6     | 1     |  43   | 560   | 1     |\n",
       "| 0     | 24.50 | 0.500 | 1.50  | 1     | 1     | 0     | 1     | 280   | 824   | 1     |\n",
       "| 1     | 27.83 | 1.540 | 3.75  | 1     | 0     | 5     | 0     | 100   |   3   | 1     |\n",
       "| 1     | 20.17 | 5.625 | 1.71  | 1     | 1     | 0     | 1     | 120   |   0   | 1     |\n",
       "| 1     | 32.08 | 4.000 | 2.50  | 1     | 1     | 0     | 0     | 360   |   0   | 1     |\n",
       "\n"
      ],
      "text/plain": [
       "  A1 A2    A3    A8   A9 A10 A11 A12 A14 A15 R1\n",
       "1 1  30.83 0.000 1.25 1  0   1   1   202   0 1 \n",
       "2 0  58.67 4.460 3.04 1  0   6   1    43 560 1 \n",
       "3 0  24.50 0.500 1.50 1  1   0   1   280 824 1 \n",
       "4 1  27.83 1.540 3.75 1  0   5   0   100   3 1 \n",
       "5 1  20.17 5.625 1.71 1  1   0   1   120   0 1 \n",
       "6 1  32.08 4.000 2.50 1  1   0   0   360   0 1 "
      ]
     },
     "metadata": {},
     "output_type": "display_data"
    },
    {
     "data": {
      "text/html": [
       "<table>\n",
       "<thead><tr><th></th><th scope=col>A1</th><th scope=col>A2</th><th scope=col>A3</th><th scope=col>A8</th><th scope=col>A9</th><th scope=col>A10</th><th scope=col>A11</th><th scope=col>A12</th><th scope=col>A14</th><th scope=col>A15</th><th scope=col>R1</th></tr></thead>\n",
       "<tbody>\n",
       "\t<tr><th scope=row>649</th><td>1     </td><td>40.58 </td><td> 3.290</td><td>3.50  </td><td>0     </td><td>1     </td><td>0     </td><td>0     </td><td>400   </td><td>  0   </td><td>0     </td></tr>\n",
       "\t<tr><th scope=row>650</th><td>1     </td><td>21.08 </td><td>10.085</td><td>1.25  </td><td>0     </td><td>1     </td><td>0     </td><td>1     </td><td>260   </td><td>  0   </td><td>0     </td></tr>\n",
       "\t<tr><th scope=row>651</th><td>0     </td><td>22.67 </td><td> 0.750</td><td>2.00  </td><td>0     </td><td>0     </td><td>2     </td><td>0     </td><td>200   </td><td>394   </td><td>0     </td></tr>\n",
       "\t<tr><th scope=row>652</th><td>0     </td><td>25.25 </td><td>13.500</td><td>2.00  </td><td>0     </td><td>0     </td><td>1     </td><td>0     </td><td>200   </td><td>  1   </td><td>0     </td></tr>\n",
       "\t<tr><th scope=row>653</th><td>1     </td><td>17.92 </td><td> 0.205</td><td>0.04  </td><td>0     </td><td>1     </td><td>0     </td><td>1     </td><td>280   </td><td>750   </td><td>0     </td></tr>\n",
       "\t<tr><th scope=row>654</th><td>1     </td><td>35.00 </td><td> 3.375</td><td>8.29  </td><td>0     </td><td>1     </td><td>0     </td><td>0     </td><td>  0   </td><td>  0   </td><td>0     </td></tr>\n",
       "</tbody>\n",
       "</table>\n"
      ],
      "text/latex": [
       "\\begin{tabular}{r|lllllllllll}\n",
       "  & A1 & A2 & A3 & A8 & A9 & A10 & A11 & A12 & A14 & A15 & R1\\\\\n",
       "\\hline\n",
       "\t649 & 1      & 40.58  &  3.290 & 3.50   & 0      & 1      & 0      & 0      & 400    &   0    & 0     \\\\\n",
       "\t650 & 1      & 21.08  & 10.085 & 1.25   & 0      & 1      & 0      & 1      & 260    &   0    & 0     \\\\\n",
       "\t651 & 0      & 22.67  &  0.750 & 2.00   & 0      & 0      & 2      & 0      & 200    & 394    & 0     \\\\\n",
       "\t652 & 0      & 25.25  & 13.500 & 2.00   & 0      & 0      & 1      & 0      & 200    &   1    & 0     \\\\\n",
       "\t653 & 1      & 17.92  &  0.205 & 0.04   & 0      & 1      & 0      & 1      & 280    & 750    & 0     \\\\\n",
       "\t654 & 1      & 35.00  &  3.375 & 8.29   & 0      & 1      & 0      & 0      &   0    &   0    & 0     \\\\\n",
       "\\end{tabular}\n"
      ],
      "text/markdown": [
       "\n",
       "| <!--/--> | A1 | A2 | A3 | A8 | A9 | A10 | A11 | A12 | A14 | A15 | R1 |\n",
       "|---|---|---|---|---|---|---|---|---|---|---|---|\n",
       "| 649 | 1      | 40.58  |  3.290 | 3.50   | 0      | 1      | 0      | 0      | 400    |   0    | 0      |\n",
       "| 650 | 1      | 21.08  | 10.085 | 1.25   | 0      | 1      | 0      | 1      | 260    |   0    | 0      |\n",
       "| 651 | 0      | 22.67  |  0.750 | 2.00   | 0      | 0      | 2      | 0      | 200    | 394    | 0      |\n",
       "| 652 | 0      | 25.25  | 13.500 | 2.00   | 0      | 0      | 1      | 0      | 200    |   1    | 0      |\n",
       "| 653 | 1      | 17.92  |  0.205 | 0.04   | 0      | 1      | 0      | 1      | 280    | 750    | 0      |\n",
       "| 654 | 1      | 35.00  |  3.375 | 8.29   | 0      | 1      | 0      | 0      |   0    |   0    | 0      |\n",
       "\n"
      ],
      "text/plain": [
       "    A1 A2    A3     A8   A9 A10 A11 A12 A14 A15 R1\n",
       "649 1  40.58  3.290 3.50 0  1   0   0   400   0 0 \n",
       "650 1  21.08 10.085 1.25 0  1   0   1   260   0 0 \n",
       "651 0  22.67  0.750 2.00 0  0   2   0   200 394 0 \n",
       "652 0  25.25 13.500 2.00 0  0   1   0   200   1 0 \n",
       "653 1  17.92  0.205 0.04 0  1   0   1   280 750 0 \n",
       "654 1  35.00  3.375 8.29 0  1   0   0     0   0 0 "
      ]
     },
     "metadata": {},
     "output_type": "display_data"
    }
   ],
   "source": [
    "# Look at the first and last few rows of the data\n",
    "head(data)\n",
    "tail(data)"
   ]
  },
  {
   "cell_type": "code",
   "execution_count": 5,
   "id": "68d6ce3a-f0e2-4ab5-88d0-e7785daf92c4",
   "metadata": {},
   "outputs": [
    {
     "data": {
      "text/html": [
       "<table>\n",
       "<tbody>\n",
       "\t<tr><th scope=row>A1</th><td> 0.00    </td><td>     1.00</td></tr>\n",
       "\t<tr><th scope=row>A2</th><td>13.75    </td><td>    80.25</td></tr>\n",
       "\t<tr><th scope=row>A3</th><td> 0.00    </td><td>    28.00</td></tr>\n",
       "\t<tr><th scope=row>A8</th><td> 0.00    </td><td>    28.50</td></tr>\n",
       "\t<tr><th scope=row>A9</th><td> 0.00    </td><td>     1.00</td></tr>\n",
       "\t<tr><th scope=row>A10</th><td> 0.00    </td><td>     1.00</td></tr>\n",
       "\t<tr><th scope=row>A11</th><td> 0.00    </td><td>    67.00</td></tr>\n",
       "\t<tr><th scope=row>A12</th><td> 0.00    </td><td>     1.00</td></tr>\n",
       "\t<tr><th scope=row>A14</th><td> 0.00    </td><td>  2000.00</td></tr>\n",
       "\t<tr><th scope=row>A15</th><td> 0.00    </td><td>100000.00</td></tr>\n",
       "\t<tr><th scope=row>R1</th><td> 0.00    </td><td>     1.00</td></tr>\n",
       "</tbody>\n",
       "</table>\n"
      ],
      "text/latex": [
       "\\begin{tabular}{r|ll}\n",
       "\tA1 &  0.00     &      1.00\\\\\n",
       "\tA2 & 13.75     &     80.25\\\\\n",
       "\tA3 &  0.00     &     28.00\\\\\n",
       "\tA8 &  0.00     &     28.50\\\\\n",
       "\tA9 &  0.00     &      1.00\\\\\n",
       "\tA10 &  0.00     &      1.00\\\\\n",
       "\tA11 &  0.00     &     67.00\\\\\n",
       "\tA12 &  0.00     &      1.00\\\\\n",
       "\tA14 &  0.00     &   2000.00\\\\\n",
       "\tA15 &  0.00     & 100000.00\\\\\n",
       "\tR1 &  0.00     &      1.00\\\\\n",
       "\\end{tabular}\n"
      ],
      "text/markdown": [
       "\n",
       "| A1 |  0.00     |      1.00 |\n",
       "| A2 | 13.75     |     80.25 |\n",
       "| A3 |  0.00     |     28.00 |\n",
       "| A8 |  0.00     |     28.50 |\n",
       "| A9 |  0.00     |      1.00 |\n",
       "| A10 |  0.00     |      1.00 |\n",
       "| A11 |  0.00     |     67.00 |\n",
       "| A12 |  0.00     |      1.00 |\n",
       "| A14 |  0.00     |   2000.00 |\n",
       "| A15 |  0.00     | 100000.00 |\n",
       "| R1 |  0.00     |      1.00 |\n",
       "\n"
      ],
      "text/plain": [
       "    [,1]  [,2]     \n",
       "A1   0.00      1.00\n",
       "A2  13.75     80.25\n",
       "A3   0.00     28.00\n",
       "A8   0.00     28.50\n",
       "A9   0.00      1.00\n",
       "A10  0.00      1.00\n",
       "A11  0.00     67.00\n",
       "A12  0.00      1.00\n",
       "A14  0.00   2000.00\n",
       "A15  0.00 100000.00\n",
       "R1   0.00      1.00"
      ]
     },
     "metadata": {},
     "output_type": "display_data"
    }
   ],
   "source": [
    "# Output the range of all the values for each column as a table\n",
    "t(sapply(data, range))"
   ]
  },
  {
   "cell_type": "code",
   "execution_count": 6,
   "id": "5cf07293-9633-4310-8f5d-d967598cda54",
   "metadata": {},
   "outputs": [
    {
     "data": {
      "text/html": [
       "<ol class=list-inline>\n",
       "\t<li>1</li>\n",
       "\t<li>0</li>\n",
       "</ol>\n"
      ],
      "text/latex": [
       "\\begin{enumerate*}\n",
       "\\item 1\n",
       "\\item 0\n",
       "\\end{enumerate*}\n"
      ],
      "text/markdown": [
       "1. 1\n",
       "2. 0\n",
       "\n",
       "\n"
      ],
      "text/plain": [
       "[1] 1 0"
      ]
     },
     "metadata": {},
     "output_type": "display_data"
    },
    {
     "data": {
      "text/plain": [
       "       A1               A2              A3               A8        \n",
       " Min.   :0.0000   Min.   :13.75   Min.   : 0.000   Min.   : 0.000  \n",
       " 1st Qu.:0.0000   1st Qu.:22.58   1st Qu.: 1.040   1st Qu.: 0.165  \n",
       " Median :1.0000   Median :28.46   Median : 2.855   Median : 1.000  \n",
       " Mean   :0.6896   Mean   :31.58   Mean   : 4.831   Mean   : 2.242  \n",
       " 3rd Qu.:1.0000   3rd Qu.:38.25   3rd Qu.: 7.438   3rd Qu.: 2.615  \n",
       " Max.   :1.0000   Max.   :80.25   Max.   :28.000   Max.   :28.500  \n",
       "       A9              A10              A11              A12        \n",
       " Min.   :0.0000   Min.   :0.0000   Min.   : 0.000   Min.   :0.0000  \n",
       " 1st Qu.:0.0000   1st Qu.:0.0000   1st Qu.: 0.000   1st Qu.:0.0000  \n",
       " Median :1.0000   Median :1.0000   Median : 0.000   Median :1.0000  \n",
       " Mean   :0.5352   Mean   :0.5612   Mean   : 2.498   Mean   :0.5382  \n",
       " 3rd Qu.:1.0000   3rd Qu.:1.0000   3rd Qu.: 3.000   3rd Qu.:1.0000  \n",
       " Max.   :1.0000   Max.   :1.0000   Max.   :67.000   Max.   :1.0000  \n",
       "      A14               A15               R1        \n",
       " Min.   :   0.00   Min.   :     0   Min.   :0.0000  \n",
       " 1st Qu.:  70.75   1st Qu.:     0   1st Qu.:0.0000  \n",
       " Median : 160.00   Median :     5   Median :0.0000  \n",
       " Mean   : 180.08   Mean   :  1013   Mean   :0.4526  \n",
       " 3rd Qu.: 271.00   3rd Qu.:   399   3rd Qu.:1.0000  \n",
       " Max.   :2000.00   Max.   :100000   Max.   :1.0000  "
      ]
     },
     "metadata": {},
     "output_type": "display_data"
    }
   ],
   "source": [
    "# Check that the R1 column only contains 1 and 2 and output a summary table (doesn't show in notebook)\n",
    "unique(data$R1)\n",
    "summary(data)"
   ]
  },
  {
   "cell_type": "code",
   "execution_count": 7,
   "id": "00d2f466-0ff1-4f43-9300-21b2be512f6d",
   "metadata": {},
   "outputs": [
    {
     "name": "stdout",
     "output_type": "stream",
     "text": [
      "Rows   Columns"
     ]
    },
    {
     "data": {
      "text/html": [
       "<table>\n",
       "<tbody>\n",
       "\t<tr><td>654</td><td>11 </td></tr>\n",
       "</tbody>\n",
       "</table>\n"
      ],
      "text/latex": [
       "\\begin{tabular}{ll}\n",
       "\t 654 & 11 \\\\\n",
       "\\end{tabular}\n"
      ],
      "text/markdown": [
       "\n",
       "| 654 | 11  |\n",
       "\n"
      ],
      "text/plain": [
       "     [,1] [,2]\n",
       "[1,] 654  11  "
      ]
     },
     "metadata": {},
     "output_type": "display_data"
    }
   ],
   "source": [
    "# Double check size of the data\n",
    "cat('Rows',' ','Columns')\n",
    "t(dim(data))"
   ]
  },
  {
   "cell_type": "markdown",
   "id": "96b3b819-e97b-4af8-b667-b0b1851583c5",
   "metadata": {},
   "source": [
    "This lets me know that I have a table with 654 rows and 11 columns (10 attributes and one result). The data is a combination of integer and float (numeric) values with A1, A9, A10, A12, and R1 being categorical (1 or 0). Looking at the UC Irvine website linked above, they list information about the dataset and I can see that our dataset has been cleaned. Missing values have been removed, categorical variables with more than 2 categories have been dropped, and categories have been turned into numerical values (1 or 0). It's also important to note the wide range in values that some of our attributes possess, meaning scaling will be important. I also know that this dataset is being using to determine credit approval for credit card applications."
   ]
  },
  {
   "cell_type": "markdown",
   "id": "f61692ab-64dc-450a-8aae-7870551eccd0",
   "metadata": {},
   "source": [
    "### Cross-Validation for KNN model\n",
    "Next I am going to use cross validation to deteremine the best k-value for our KNN model. To do this I'll follow the steps below:\n",
    "1) Split data into 20% for testing and 80% for training and validation\n",
    "2) Split the training and validation data up into 10 folds (using k=10 since that is \"common\")\n",
    "3) For each k-value rotate through the training/validation data using 9 of the folds for training and 1 for validation, storing the average validation accuracy for each k-value\n",
    "4) Compare the average accuracy for each model to deteremine which k-value to use for our model\n",
    "5) Once the model hyperparameters (k-value) has been selected train the KNN model using the entire training/validation data\n",
    "6) Test the model using the testing data to predict it's overall accuracy"
   ]
  },
  {
   "cell_type": "markdown",
   "id": "af969728",
   "metadata": {},
   "source": [
    "#### Step 1 - Split data\n",
    "I choose to split the data into 20% for testing and 80% for training/validation using the random method (vs. rotation). To do this I used the sample function in R which generates random elements from the given data. I found that the examples and explanation on these websites helpful in implementation: \n",
    "1) https://www.geeksforgeeks.org/how-to-generate-a-sample-using-the-sample-function-in-r/\n",
    "2) https://stackoverflow.com/questions/17200114/how-to-split-data-into-training-testing-sets-using-sample-function"
   ]
  },
  {
   "cell_type": "code",
   "execution_count": 8,
   "id": "96b07dcd",
   "metadata": {},
   "outputs": [],
   "source": [
    "# Using set.seed() insures that we get the same results each run since the values are randomly selected\n",
    "set.seed(123)\n",
    "\n",
    "# Get the size for the testing dataset\n",
    "test_data_size <- floor(0.20 * nrow(data))\n",
    "\n",
    "# Generate random indices that represent 20% of the data\n",
    "test_ind <- sample(seq_len(nrow(data)), size = test_data_size)\n",
    "\n",
    "# Assign data to the testing and train/validatino sets\n",
    "testing_data <- data[test_ind, ]\n",
    "training_data <- data[-test_ind, ]"
   ]
  },
  {
   "cell_type": "markdown",
   "id": "442157a5",
   "metadata": {},
   "source": [
    "Now that I have my training/validation and testing datasets I am going to inspect them. I want to double check the size of the datasets and also inspect the summary statistics for each dataset. Note that the sumtable() function outputs a .html object that I had to insert into the notebook."
   ]
  },
  {
   "cell_type": "code",
   "execution_count": 9,
   "id": "60dff988",
   "metadata": {},
   "outputs": [
    {
     "name": "stdout",
     "output_type": "stream",
     "text": [
      "The size of the training/validation set is 524 and the size of the testing dataset is 130\n",
      "The total size of both datasets should be 654 and is 654 \n",
      "\n",
      "Summary of testing dataset:\n"
     ]
    },
    {
     "data": {
      "text/plain": [
       "       A1               A2              A3               A8        \n",
       " Min.   :0.0000   Min.   :15.17   Min.   : 0.000   Min.   : 0.000  \n",
       " 1st Qu.:0.0000   1st Qu.:21.81   1st Qu.: 1.000   1st Qu.: 0.165  \n",
       " Median :1.0000   Median :27.45   Median : 2.855   Median : 1.125  \n",
       " Mean   :0.6615   Mean   :31.67   Mean   : 4.810   Mean   : 2.503  \n",
       " 3rd Qu.:1.0000   3rd Qu.:38.50   3rd Qu.: 7.000   3rd Qu.: 3.312  \n",
       " Max.   :1.0000   Max.   :76.75   Max.   :22.290   Max.   :16.000  \n",
       "       A9              A10              A11             A12        \n",
       " Min.   :0.0000   Min.   :0.0000   Min.   : 0.00   Min.   :0.0000  \n",
       " 1st Qu.:0.0000   1st Qu.:0.0000   1st Qu.: 0.00   1st Qu.:0.0000  \n",
       " Median :1.0000   Median :1.0000   Median : 0.00   Median :1.0000  \n",
       " Mean   :0.5615   Mean   :0.5462   Mean   : 2.50   Mean   :0.5846  \n",
       " 3rd Qu.:1.0000   3rd Qu.:1.0000   3rd Qu.: 3.75   3rd Qu.:1.0000  \n",
       " Max.   :1.0000   Max.   :1.0000   Max.   :16.00   Max.   :1.0000  \n",
       "      A14             A15                R1        \n",
       " Min.   :  0.0   Min.   :    0.0   Min.   :0.0000  \n",
       " 1st Qu.:  0.0   1st Qu.:    0.0   1st Qu.:0.0000  \n",
       " Median :125.0   Median :   11.0   Median :1.0000  \n",
       " Mean   :161.3   Mean   :  943.6   Mean   :0.5154  \n",
       " 3rd Qu.:249.0   3rd Qu.:  489.0   3rd Qu.:1.0000  \n",
       " Max.   :980.0   Max.   :18027.0   Max.   :1.0000  "
      ]
     },
     "metadata": {},
     "output_type": "display_data"
    },
    {
     "name": "stdout",
     "output_type": "stream",
     "text": [
      "\n",
      "Summary of training/validation dataset:\n"
     ]
    },
    {
     "data": {
      "text/plain": [
       "       A1               A2              A3               A8         \n",
       " Min.   :0.0000   Min.   :13.75   Min.   : 0.000   Min.   : 0.0000  \n",
       " 1st Qu.:0.0000   1st Qu.:22.67   1st Qu.: 1.040   1st Qu.: 0.1988  \n",
       " Median :1.0000   Median :28.58   Median : 2.812   Median : 1.0000  \n",
       " Mean   :0.6966   Mean   :31.55   Mean   : 4.836   Mean   : 2.1768  \n",
       " 3rd Qu.:1.0000   3rd Qu.:38.19   3rd Qu.: 7.521   3rd Qu.: 2.5513  \n",
       " Max.   :1.0000   Max.   :80.25   Max.   :28.000   Max.   :28.5000  \n",
       "       A9              A10              A11              A12        \n",
       " Min.   :0.0000   Min.   :0.0000   Min.   : 0.000   Min.   :0.0000  \n",
       " 1st Qu.:0.0000   1st Qu.:0.0000   1st Qu.: 0.000   1st Qu.:0.0000  \n",
       " Median :1.0000   Median :1.0000   Median : 0.000   Median :1.0000  \n",
       " Mean   :0.5286   Mean   :0.5649   Mean   : 2.498   Mean   :0.5267  \n",
       " 3rd Qu.:1.0000   3rd Qu.:1.0000   3rd Qu.: 3.000   3rd Qu.:1.0000  \n",
       " Max.   :1.0000   Max.   :1.0000   Max.   :67.000   Max.   :1.0000  \n",
       "      A14              A15                 R1       \n",
       " Min.   :   0.0   Min.   :     0.0   Min.   :0.000  \n",
       " 1st Qu.:  80.0   1st Qu.:     0.0   1st Qu.:0.000  \n",
       " Median : 160.0   Median :     4.0   Median :0.000  \n",
       " Mean   : 184.7   Mean   :  1029.9   Mean   :0.437  \n",
       " 3rd Qu.: 277.0   3rd Qu.:   378.8   3rd Qu.:1.000  \n",
       " Max.   :2000.0   Max.   :100000.0   Max.   :1.000  "
      ]
     },
     "metadata": {},
     "output_type": "display_data"
    }
   ],
   "source": [
    "cat(\"The size of the training/validation set is\", nrow(training_data), \"and the size of the testing dataset is\", nrow(testing_data))\n",
    "cat(\"\\n\")\n",
    "cat(\"The total size of both datasets should be\", nrow(data), \"and is\", nrow(training_data) + nrow(testing_data), \"\\n\")\n",
    "cat(\"\\n\")\n",
    "cat(\"Summary of testing dataset:\")\n",
    "cat(\"\\n\")\n",
    "summary(testing_data)\n",
    "cat(\"\\n\")\n",
    "cat(\"Summary of training/validation dataset:\")\n",
    "cat(\"\\n\")\n",
    "summary(training_data)"
   ]
  },
  {
   "cell_type": "markdown",
   "id": "e864627f",
   "metadata": {},
   "source": [
    "#### Step 2 - Split the Training and Validation Data up Into K-Folds\n",
    "Next I'll split the training_data into 10 folds. The createFolds function from the caret library returns a list of folds which each fold being a list of indices."
   ]
  },
  {
   "cell_type": "code",
   "execution_count": 10,
   "id": "35c7b959",
   "metadata": {},
   "outputs": [],
   "source": [
    "# Create n folds of the training_data\n",
    "n_folds = 10\n",
    "folds <- createFolds(training_data[,11], k = n_folds, list = TRUE, returnTrain = FALSE)"
   ]
  },
  {
   "cell_type": "markdown",
   "id": "47c84322",
   "metadata": {},
   "source": [
    "#### Step 3 - Traing and Validate our Model for a Range of k-values\n",
    "Next we will will train and validate our model for various k-values using k-fold validation of the training_data. The average validation result for each k-value will be stored in a dataframe that can be analyzed after to deteremine which hyperparameter (k-value) to use."
   ]
  },
  {
   "cell_type": "code",
   "execution_count": 11,
   "id": "1f6cb01d",
   "metadata": {},
   "outputs": [
    {
     "data": {
      "text/html": [
       "<table>\n",
       "<thead><tr><th scope=col>k_value</th><th scope=col>Accuracy</th></tr></thead>\n",
       "<tbody>\n",
       "\t<tr><td>1        </td><td>0.7943033</td></tr>\n",
       "\t<tr><td>2        </td><td>0.7943033</td></tr>\n",
       "\t<tr><td>3        </td><td>0.7943033</td></tr>\n",
       "\t<tr><td>4        </td><td>0.7943033</td></tr>\n",
       "\t<tr><td>5        </td><td>0.8398403</td></tr>\n",
       "\t<tr><td>6        </td><td>0.8359579</td></tr>\n",
       "</tbody>\n",
       "</table>\n"
      ],
      "text/latex": [
       "\\begin{tabular}{r|ll}\n",
       " k\\_value & Accuracy\\\\\n",
       "\\hline\n",
       "\t 1         & 0.7943033\\\\\n",
       "\t 2         & 0.7943033\\\\\n",
       "\t 3         & 0.7943033\\\\\n",
       "\t 4         & 0.7943033\\\\\n",
       "\t 5         & 0.8398403\\\\\n",
       "\t 6         & 0.8359579\\\\\n",
       "\\end{tabular}\n"
      ],
      "text/markdown": [
       "\n",
       "| k_value | Accuracy |\n",
       "|---|---|\n",
       "| 1         | 0.7943033 |\n",
       "| 2         | 0.7943033 |\n",
       "| 3         | 0.7943033 |\n",
       "| 4         | 0.7943033 |\n",
       "| 5         | 0.8398403 |\n",
       "| 6         | 0.8359579 |\n",
       "\n"
      ],
      "text/plain": [
       "  k_value Accuracy \n",
       "1 1       0.7943033\n",
       "2 2       0.7943033\n",
       "3 3       0.7943033\n",
       "4 4       0.7943033\n",
       "5 5       0.8398403\n",
       "6 6       0.8359579"
      ]
     },
     "metadata": {},
     "output_type": "display_data"
    }
   ],
   "source": [
    "# Setup paramaters and results dataframe for KNN model\n",
    "k_len = 60\n",
    "knn_results_df <- data.frame('k_value' = numeric(), 'Accuracy' = numeric(), stringsAsFactors = FALSE)\n",
    "\n",
    "# Loop through k-values and use cross validation to capture the average accuracy\n",
    "for (k_val in 1:k_len) {\n",
    "    # Create numeric vector to store accuracies for each k-value\n",
    "    accuracies <- numeric(n_folds)\n",
    "    \n",
    "    # Loop through each fold setting one fold as validation and the others as training\n",
    "    for (i in 1:n_folds) {\n",
    "        # Have to unpack the folds because they are lists of indices\n",
    "        train_indices <- unlist(folds[-i])\n",
    "        validation_indices <- unlist(folds[i])\n",
    "        \n",
    "        # Create the training and validation dataset for the current fold\n",
    "        train_data <- training_data[train_indices, ]\n",
    "        validation_data <- training_data[validation_indices, ]\n",
    "        \n",
    "        # Train the model for the given k-value and fold\n",
    "        knn_model = kknn(as.factor(R1)~., train_data, validation_data, k=k_val, scale = TRUE)\n",
    "        \n",
    "        # Predict the results of the validation_dataset and calculate the accuracy for the given k-value and fold\n",
    "        predictions <- predict(knn_model)\n",
    "        accuracy <- sum(predictions == validation_data$R1) / nrow(validation_data)\n",
    "        accuracies[i] <- accuracy\n",
    "    }\n",
    "\n",
    "    # Calculate average accuracy over all the folds for the given the k-value\n",
    "    avg_accuracy <- mean(accuracies)\n",
    "  \n",
    "    # Store results in the dataframe\n",
    "    knn_results_df <- rbind(knn_results_df, data.frame('k_value' = k_val, 'Accuracy' = avg_accuracy))\n",
    "}\n",
    "\n",
    "# Print the head of the results dataframe\n",
    "head(knn_results_df)"
   ]
  },
  {
   "cell_type": "markdown",
   "id": "328e5f26",
   "metadata": {},
   "source": [
    "#### Step 4 - Analyze the Results\n",
    "Next I want to look at the results on a graph so I can visually see what is happening with the various k-values. I also am going to print out the maximum accuracy value and the corresponding k-value."
   ]
  },
  {
   "cell_type": "code",
   "execution_count": 12,
   "id": "dfcc80bf-550d-4504-a4c2-b5e4921f754d",
   "metadata": {},
   "outputs": [
    {
     "name": "stdout",
     "output_type": "stream",
     "text": [
      "Maximum Accuracy value: 0.8512337 \n",
      "Corresponding k-value: 22 \n"
     ]
    },
    {
     "data": {
      "image/png": "[encoded data removed]",
      "text/plain": [
       "plot without title"
      ]
     },
     "metadata": {},
     "output_type": "display_data"
    }
   ],
   "source": [
    "# Create a graph of k-values vs. accuracy\n",
    "options(repr.plot.width = 8, repr.plot.height = 3)\n",
    "ggplot(data = knn_results_df, aes(x = k_value, y = Accuracy)) +\n",
    "  geom_point(color = \"red\") + \n",
    "  geom_line(color = \"red\") +\n",
    "  labs(x = \"K-Value\", y = \"Accuracy\", title = \"Model Prediction Accuracy\") +\n",
    "  theme_minimal()\n",
    "\n",
    "# Find the row index with the maximum Accuracy and the corresponding K-Value\n",
    "max_index <- which.max(knn_results_df$Accuracy)\n",
    "max_k_value <- knn_results_df$k_value[max_index]\n",
    "max_accuracy <- knn_results_df$Accuracy[max_index]\n",
    "\n",
    "# Print the results\n",
    "cat(\"Maximum Accuracy value:\", max_accuracy, \"\\n\")\n",
    "cat(\"Corresponding k-value:\", max_k_value, \"\\n\")"
   ]
  },
  {
   "cell_type": "markdown",
   "id": "9f4518f5",
   "metadata": {},
   "source": [
    "#### Step 5 - Train KNN Model on Entire Training/Validation Dataset\n",
    "Based on the results above I selected a **k-value of 22** for the model. Now that we have k-value we will create a new model using the entire training/validation dataset."
   ]
  },
  {
   "cell_type": "code",
   "execution_count": 13,
   "id": "3c059bd6",
   "metadata": {},
   "outputs": [],
   "source": [
    "# Train the model for the given k-value and fold\n",
    "knn_model = kknn(as.factor(R1)~., training_data, testing_data, k=22, scale = TRUE)"
   ]
  },
  {
   "cell_type": "markdown",
   "id": "2f116b12",
   "metadata": {},
   "source": [
    "#### Step 6 - Check Accuracy for Final Model\n",
    "The last thing to do is to use the model to predict outcomes using the testing data and then look at how they compare to the expected outcomes."
   ]
  },
  {
   "cell_type": "code",
   "execution_count": 14,
   "id": "a88c1ed9",
   "metadata": {},
   "outputs": [
    {
     "name": "stdout",
     "output_type": "stream",
     "text": [
      "Using a k-value of 22 our model has an accuracy of 85.38 %"
     ]
    }
   ],
   "source": [
    "# Predict the results of the validation_dataset and calculate the accuracy for the given k-value and fold\n",
    "predictions <- predict(knn_model)\n",
    "accuracy <- 100 * sum(predictions == testing_data$R1) / nrow(testing_data)\n",
    "cat(\"Using a k-value of 22 our model has an accuracy of\",round(accuracy, 2),\"%\")"
   ]
  },
  {
   "cell_type": "markdown",
   "id": "015eb893",
   "metadata": {},
   "source": [
    "In summary, I split the data into training/validation (80%) and testing (20%). Then I used cross validation with 10 folds to compare KNN models with k-values ranging from 1 to 60 on the training/validation data. I found that a **k-value of 22** provided the highest accuracy during validation. Once the model was selected, I created a new KNN model trained on the entire training/validation dataset and checked the accuracy of that model using the testing dataset which resulted in an overall **model accuracy of 85.38%**."
   ]
  },
  {
   "cell_type": "markdown",
   "id": "bed231d2",
   "metadata": {},
   "source": [
    "### Question 4.1\n",
    ">Describe a situation or problem from your job, everyday life, current events, etc., for which a clustering model would be appropriate. List some (up to 5) predictors that you might use.\n",
    "\n",
    "In a school district, educators try and implement differentiated instruction to better address the diverse learning needs of students. Schools collect tons data points for each student, such as:\n",
    "\n",
    "1) Academic performance in different subjects (e.g., math, science, language arts).\n",
    "2) Prior success with different interventions (tutoring, group work, chunking etc.).\n",
    "3) Socioeconomic background.\n",
    "4) Attendance and engagement at school and in extracurriculars.\n",
    "5) Known learning disabilities.\n",
    "\n",
    "You could use a cluster model to help identify clusters of students who share similar characteristics and learning needs. This could help educators tailor their teaching strategies, provide targeted support to different clusters, and create personalized learning plans for each cluster. It would also allow schools to provide target support to students after school hours that is specifically tailored to student clusters."
   ]
  },
  {
   "cell_type": "markdown",
   "id": "26940e0b",
   "metadata": {},
   "source": [
    "### Question 4.2\n",
    "> The iris data set iris.txt contains 150 data points, each with four predictor variables and one categorical response. The predictors are the width and length of the sepal and petal of flowers and the response is the type of flower. The data is available from the R library datasets and can be accessed with iris once the library is loaded. It is also available at the UCI Machine Learning Repository (https://archive.ics.uci.edu/ml/datasets/Iris ). The response values are only given to see how well a specific method performed and should not be used to build the model.\n",
    ">\n",
    ">Use the R function kmeans to cluster the points as well as possible. Report the best combination of predictors, your suggested value of k, and how well your best clustering predicts flower type."
   ]
  },
  {
   "cell_type": "markdown",
   "id": "71800247",
   "metadata": {},
   "source": [
    "#### Load Data\n",
    "The data set comes from the dataset library provided with R."
   ]
  },
  {
   "cell_type": "code",
   "execution_count": 15,
   "id": "54116fd9-68af-46c4-99be-f6fb81b055da",
   "metadata": {},
   "outputs": [],
   "source": [
    "iris_data <- iris"
   ]
  },
  {
   "cell_type": "markdown",
   "id": "de0196fd-8421-4ae6-9eba-b472c34ad663",
   "metadata": {},
   "source": [
    "#### Examine Iris Data\n",
    "Now that the data is loaded I want to examine it to get a better idea of what it looks like. I'm interested in actually seeing the data but also infomration about the data such as data type and ranges of values. The summary() function gives summary statistics for any dataset and the str() function provides information about the dataframe."
   ]
  },
  {
   "cell_type": "code",
   "execution_count": 16,
   "id": "a47333d8",
   "metadata": {},
   "outputs": [
    {
     "data": {
      "text/plain": [
       "  Sepal.Length    Sepal.Width     Petal.Length    Petal.Width   \n",
       " Min.   :4.300   Min.   :2.000   Min.   :1.000   Min.   :0.100  \n",
       " 1st Qu.:5.100   1st Qu.:2.800   1st Qu.:1.600   1st Qu.:0.300  \n",
       " Median :5.800   Median :3.000   Median :4.350   Median :1.300  \n",
       " Mean   :5.843   Mean   :3.057   Mean   :3.758   Mean   :1.199  \n",
       " 3rd Qu.:6.400   3rd Qu.:3.300   3rd Qu.:5.100   3rd Qu.:1.800  \n",
       " Max.   :7.900   Max.   :4.400   Max.   :6.900   Max.   :2.500  \n",
       "       Species  \n",
       " setosa    :50  \n",
       " versicolor:50  \n",
       " virginica :50  \n",
       "                \n",
       "                \n",
       "                "
      ]
     },
     "metadata": {},
     "output_type": "display_data"
    },
    {
     "name": "stdout",
     "output_type": "stream",
     "text": [
      "'data.frame':\t150 obs. of  5 variables:\n",
      " $ Sepal.Length: num  5.1 4.9 4.7 4.6 5 5.4 4.6 5 4.4 4.9 ...\n",
      " $ Sepal.Width : num  3.5 3 3.2 3.1 3.6 3.9 3.4 3.4 2.9 3.1 ...\n",
      " $ Petal.Length: num  1.4 1.4 1.3 1.5 1.4 1.7 1.4 1.5 1.4 1.5 ...\n",
      " $ Petal.Width : num  0.2 0.2 0.2 0.2 0.2 0.4 0.3 0.2 0.2 0.1 ...\n",
      " $ Species     : Factor w/ 3 levels \"setosa\",\"versicolor\",..: 1 1 1 1 1 1 1 1 1 1 ...\n"
     ]
    }
   ],
   "source": [
    "summary(iris_data)\n",
    "str(iris_data)"
   ]
  },
  {
   "cell_type": "code",
   "execution_count": 17,
   "id": "74022eaa",
   "metadata": {},
   "outputs": [
    {
     "data": {
      "text/html": [
       "<table>\n",
       "<thead><tr><th scope=col>Sepal.Length</th><th scope=col>Sepal.Width</th><th scope=col>Petal.Length</th><th scope=col>Petal.Width</th><th scope=col>Species</th></tr></thead>\n",
       "<tbody>\n",
       "\t<tr><td>numeric</td><td>numeric</td><td>numeric</td><td>numeric</td><td>factor </td></tr>\n",
       "</tbody>\n",
       "</table>\n"
      ],
      "text/latex": [
       "\\begin{tabular}{lllll}\n",
       " Sepal.Length & Sepal.Width & Petal.Length & Petal.Width & Species\\\\\n",
       "\\hline\n",
       "\t numeric & numeric & numeric & numeric & factor \\\\\n",
       "\\end{tabular}\n"
      ],
      "text/markdown": [
       "\n",
       "| Sepal.Length | Sepal.Width | Petal.Length | Petal.Width | Species |\n",
       "|---|---|---|---|---|\n",
       "| numeric | numeric | numeric | numeric | factor  |\n",
       "\n"
      ],
      "text/plain": [
       "     Sepal.Length Sepal.Width Petal.Length Petal.Width Species\n",
       "[1,] numeric      numeric     numeric      numeric     factor "
      ]
     },
     "metadata": {},
     "output_type": "display_data"
    }
   ],
   "source": [
    "# Output the data class for each column transposed\n",
    "t(sapply(iris_data, class))"
   ]
  },
  {
   "cell_type": "code",
   "execution_count": 18,
   "id": "44ac74ce",
   "metadata": {},
   "outputs": [
    {
     "data": {
      "text/html": [
       "<table>\n",
       "<thead><tr><th scope=col>Sepal.Length</th><th scope=col>Sepal.Width</th><th scope=col>Petal.Length</th><th scope=col>Petal.Width</th><th scope=col>Species</th></tr></thead>\n",
       "<tbody>\n",
       "\t<tr><td>5.1   </td><td>3.5   </td><td>1.4   </td><td>0.2   </td><td>setosa</td></tr>\n",
       "\t<tr><td>4.9   </td><td>3.0   </td><td>1.4   </td><td>0.2   </td><td>setosa</td></tr>\n",
       "\t<tr><td>4.7   </td><td>3.2   </td><td>1.3   </td><td>0.2   </td><td>setosa</td></tr>\n",
       "\t<tr><td>4.6   </td><td>3.1   </td><td>1.5   </td><td>0.2   </td><td>setosa</td></tr>\n",
       "\t<tr><td>5.0   </td><td>3.6   </td><td>1.4   </td><td>0.2   </td><td>setosa</td></tr>\n",
       "\t<tr><td>5.4   </td><td>3.9   </td><td>1.7   </td><td>0.4   </td><td>setosa</td></tr>\n",
       "</tbody>\n",
       "</table>\n"
      ],
      "text/latex": [
       "\\begin{tabular}{r|lllll}\n",
       " Sepal.Length & Sepal.Width & Petal.Length & Petal.Width & Species\\\\\n",
       "\\hline\n",
       "\t 5.1    & 3.5    & 1.4    & 0.2    & setosa\\\\\n",
       "\t 4.9    & 3.0    & 1.4    & 0.2    & setosa\\\\\n",
       "\t 4.7    & 3.2    & 1.3    & 0.2    & setosa\\\\\n",
       "\t 4.6    & 3.1    & 1.5    & 0.2    & setosa\\\\\n",
       "\t 5.0    & 3.6    & 1.4    & 0.2    & setosa\\\\\n",
       "\t 5.4    & 3.9    & 1.7    & 0.4    & setosa\\\\\n",
       "\\end{tabular}\n"
      ],
      "text/markdown": [
       "\n",
       "| Sepal.Length | Sepal.Width | Petal.Length | Petal.Width | Species |\n",
       "|---|---|---|---|---|\n",
       "| 5.1    | 3.5    | 1.4    | 0.2    | setosa |\n",
       "| 4.9    | 3.0    | 1.4    | 0.2    | setosa |\n",
       "| 4.7    | 3.2    | 1.3    | 0.2    | setosa |\n",
       "| 4.6    | 3.1    | 1.5    | 0.2    | setosa |\n",
       "| 5.0    | 3.6    | 1.4    | 0.2    | setosa |\n",
       "| 5.4    | 3.9    | 1.7    | 0.4    | setosa |\n",
       "\n"
      ],
      "text/plain": [
       "  Sepal.Length Sepal.Width Petal.Length Petal.Width Species\n",
       "1 5.1          3.5         1.4          0.2         setosa \n",
       "2 4.9          3.0         1.4          0.2         setosa \n",
       "3 4.7          3.2         1.3          0.2         setosa \n",
       "4 4.6          3.1         1.5          0.2         setosa \n",
       "5 5.0          3.6         1.4          0.2         setosa \n",
       "6 5.4          3.9         1.7          0.4         setosa "
      ]
     },
     "metadata": {},
     "output_type": "display_data"
    },
    {
     "data": {
      "text/html": [
       "<table>\n",
       "<thead><tr><th></th><th scope=col>Sepal.Length</th><th scope=col>Sepal.Width</th><th scope=col>Petal.Length</th><th scope=col>Petal.Width</th><th scope=col>Species</th></tr></thead>\n",
       "<tbody>\n",
       "\t<tr><th scope=row>145</th><td>6.7      </td><td>3.3      </td><td>5.7      </td><td>2.5      </td><td>virginica</td></tr>\n",
       "\t<tr><th scope=row>146</th><td>6.7      </td><td>3.0      </td><td>5.2      </td><td>2.3      </td><td>virginica</td></tr>\n",
       "\t<tr><th scope=row>147</th><td>6.3      </td><td>2.5      </td><td>5.0      </td><td>1.9      </td><td>virginica</td></tr>\n",
       "\t<tr><th scope=row>148</th><td>6.5      </td><td>3.0      </td><td>5.2      </td><td>2.0      </td><td>virginica</td></tr>\n",
       "\t<tr><th scope=row>149</th><td>6.2      </td><td>3.4      </td><td>5.4      </td><td>2.3      </td><td>virginica</td></tr>\n",
       "\t<tr><th scope=row>150</th><td>5.9      </td><td>3.0      </td><td>5.1      </td><td>1.8      </td><td>virginica</td></tr>\n",
       "</tbody>\n",
       "</table>\n"
      ],
      "text/latex": [
       "\\begin{tabular}{r|lllll}\n",
       "  & Sepal.Length & Sepal.Width & Petal.Length & Petal.Width & Species\\\\\n",
       "\\hline\n",
       "\t145 & 6.7       & 3.3       & 5.7       & 2.5       & virginica\\\\\n",
       "\t146 & 6.7       & 3.0       & 5.2       & 2.3       & virginica\\\\\n",
       "\t147 & 6.3       & 2.5       & 5.0       & 1.9       & virginica\\\\\n",
       "\t148 & 6.5       & 3.0       & 5.2       & 2.0       & virginica\\\\\n",
       "\t149 & 6.2       & 3.4       & 5.4       & 2.3       & virginica\\\\\n",
       "\t150 & 5.9       & 3.0       & 5.1       & 1.8       & virginica\\\\\n",
       "\\end{tabular}\n"
      ],
      "text/markdown": [
       "\n",
       "| <!--/--> | Sepal.Length | Sepal.Width | Petal.Length | Petal.Width | Species |\n",
       "|---|---|---|---|---|---|\n",
       "| 145 | 6.7       | 3.3       | 5.7       | 2.5       | virginica |\n",
       "| 146 | 6.7       | 3.0       | 5.2       | 2.3       | virginica |\n",
       "| 147 | 6.3       | 2.5       | 5.0       | 1.9       | virginica |\n",
       "| 148 | 6.5       | 3.0       | 5.2       | 2.0       | virginica |\n",
       "| 149 | 6.2       | 3.4       | 5.4       | 2.3       | virginica |\n",
       "| 150 | 5.9       | 3.0       | 5.1       | 1.8       | virginica |\n",
       "\n"
      ],
      "text/plain": [
       "    Sepal.Length Sepal.Width Petal.Length Petal.Width Species  \n",
       "145 6.7          3.3         5.7          2.5         virginica\n",
       "146 6.7          3.0         5.2          2.3         virginica\n",
       "147 6.3          2.5         5.0          1.9         virginica\n",
       "148 6.5          3.0         5.2          2.0         virginica\n",
       "149 6.2          3.4         5.4          2.3         virginica\n",
       "150 5.9          3.0         5.1          1.8         virginica"
      ]
     },
     "metadata": {},
     "output_type": "display_data"
    }
   ],
   "source": [
    "# Look at the first and last few rows of the data\n",
    "head(iris_data)\n",
    "tail(iris_data)"
   ]
  },
  {
   "cell_type": "code",
   "execution_count": 19,
   "id": "c980f59d",
   "metadata": {},
   "outputs": [
    {
     "data": {
      "text/html": [
       "<ol class=list-inline>\n",
       "\t<li>setosa</li>\n",
       "\t<li>versicolor</li>\n",
       "\t<li>virginica</li>\n",
       "</ol>\n",
       "\n",
       "<details>\n",
       "\t<summary style=display:list-item;cursor:pointer>\n",
       "\t\t<strong>Levels</strong>:\n",
       "\t</summary>\n",
       "\t<ol class=list-inline>\n",
       "\t\t<li>'setosa'</li>\n",
       "\t\t<li>'versicolor'</li>\n",
       "\t\t<li>'virginica'</li>\n",
       "\t</ol>\n",
       "</details>"
      ],
      "text/latex": [
       "\\begin{enumerate*}\n",
       "\\item setosa\n",
       "\\item versicolor\n",
       "\\item virginica\n",
       "\\end{enumerate*}\n",
       "\n",
       "\\emph{Levels}: \\begin{enumerate*}\n",
       "\\item 'setosa'\n",
       "\\item 'versicolor'\n",
       "\\item 'virginica'\n",
       "\\end{enumerate*}\n"
      ],
      "text/markdown": [
       "1. setosa\n",
       "2. versicolor\n",
       "3. virginica\n",
       "\n",
       "\n",
       "\n",
       "**Levels**: 1. 'setosa'\n",
       "2. 'versicolor'\n",
       "3. 'virginica'\n",
       "\n",
       "\n"
      ],
      "text/plain": [
       "[1] setosa     versicolor virginica \n",
       "Levels: setosa versicolor virginica"
      ]
     },
     "metadata": {},
     "output_type": "display_data"
    }
   ],
   "source": [
    "# Check that the Species column for all of the possible outcomes\n",
    "unique(iris_data$Species)"
   ]
  },
  {
   "cell_type": "code",
   "execution_count": 20,
   "id": "82a71142",
   "metadata": {},
   "outputs": [
    {
     "name": "stdout",
     "output_type": "stream",
     "text": [
      "Rows   Columns"
     ]
    },
    {
     "data": {
      "text/html": [
       "<table>\n",
       "<tbody>\n",
       "\t<tr><td>150</td><td>5  </td></tr>\n",
       "</tbody>\n",
       "</table>\n"
      ],
      "text/latex": [
       "\\begin{tabular}{ll}\n",
       "\t 150 & 5  \\\\\n",
       "\\end{tabular}\n"
      ],
      "text/markdown": [
       "\n",
       "| 150 | 5   |\n",
       "\n"
      ],
      "text/plain": [
       "     [,1] [,2]\n",
       "[1,] 150  5   "
      ]
     },
     "metadata": {},
     "output_type": "display_data"
    }
   ],
   "source": [
    "# Double check size of the data\n",
    "cat('Rows',' ','Columns')\n",
    "t(dim(iris_data))"
   ]
  },
  {
   "cell_type": "markdown",
   "id": "42689001",
   "metadata": {},
   "source": [
    "This lets me know that I have a table with 150 rows and 5 columns (4 attributes and one result). The data is a combination of float (numeric) values and one factor (species). I also know that this dataset is being using to determine plant species based on sepal length, sepal width, petal length, and petal width."
   ]
  },
  {
   "cell_type": "markdown",
   "id": "52b35031-f8ae-483b-9b1c-1f1ad1710348",
   "metadata": {},
   "source": [
    "### Cluster Model of Iris Dataset\n",
    "Next I am going to use the kmeans function in R to deteremine the optimal k-value, the best combination of predictors, and analyze how well the model predicts flower species. I found the information provided at https://www.geeksforgeeks.org/k-means-clustering-in-r-programming/ useful for creating this model. The steps I am going to take to create and analyze the model are shown below:\n",
    "1) Standardize the data\n",
    "2) Look at clustering distance measures\n",
    "3) Determine the optimal k-value using the elbow method\n",
    "4) Look at the 4 variables to determine the best combination of predictors\n",
    "5) Analyze preformance of the model"
   ]
  },
  {
   "cell_type": "code",
   "execution_count": 21,
   "id": "be6c3e9f",
   "metadata": {},
   "outputs": [
    {
     "name": "stdout",
     "output_type": "stream",
     "text": [
      "'data.frame':\t150 obs. of  5 variables:\n",
      " $ Sepal.Length: num  5.1 4.9 4.7 4.6 5 5.4 4.6 5 4.4 4.9 ...\n",
      " $ Sepal.Width : num  3.5 3 3.2 3.1 3.6 3.9 3.4 3.4 2.9 3.1 ...\n",
      " $ Petal.Length: num  1.4 1.4 1.3 1.5 1.4 1.7 1.4 1.5 1.4 1.5 ...\n",
      " $ Petal.Width : num  0.2 0.2 0.2 0.2 0.2 0.4 0.3 0.2 0.2 0.1 ...\n",
      " $ Species     : Factor w/ 3 levels \"setosa\",\"versicolor\",..: 1 1 1 1 1 1 1 1 1 1 ...\n",
      "\n"
     ]
    },
    {
     "data": {
      "text/plain": [
       "  Sepal.Length    Sepal.Width     Petal.Length    Petal.Width   \n",
       " Min.   :4.300   Min.   :2.000   Min.   :1.000   Min.   :0.100  \n",
       " 1st Qu.:5.100   1st Qu.:2.800   1st Qu.:1.600   1st Qu.:0.300  \n",
       " Median :5.800   Median :3.000   Median :4.350   Median :1.300  \n",
       " Mean   :5.843   Mean   :3.057   Mean   :3.758   Mean   :1.199  \n",
       " 3rd Qu.:6.400   3rd Qu.:3.300   3rd Qu.:5.100   3rd Qu.:1.800  \n",
       " Max.   :7.900   Max.   :4.400   Max.   :6.900   Max.   :2.500  \n",
       "       Species  \n",
       " setosa    :50  \n",
       " versicolor:50  \n",
       " virginica :50  \n",
       "                \n",
       "                \n",
       "                "
      ]
     },
     "metadata": {},
     "output_type": "display_data"
    }
   ],
   "source": [
    "str(iris_data)\n",
    "cat(\"\\n\")\n",
    "summary(iris_data)"
   ]
  },
  {
   "cell_type": "markdown",
   "id": "5f9be187",
   "metadata": {},
   "source": [
    "#### Step 1 - Prepare the Data"
   ]
  },
  {
   "cell_type": "code",
   "execution_count": 22,
   "id": "abb5f733",
   "metadata": {},
   "outputs": [
    {
     "data": {
      "text/plain": [
       "  Sepal.Length    Sepal.Width     Petal.Length    Petal.Width   \n",
       " Min.   :4.300   Min.   :2.000   Min.   :1.000   Min.   :0.100  \n",
       " 1st Qu.:5.100   1st Qu.:2.800   1st Qu.:1.600   1st Qu.:0.300  \n",
       " Median :5.800   Median :3.000   Median :4.350   Median :1.300  \n",
       " Mean   :5.843   Mean   :3.057   Mean   :3.758   Mean   :1.199  \n",
       " 3rd Qu.:6.400   3rd Qu.:3.300   3rd Qu.:5.100   3rd Qu.:1.800  \n",
       " Max.   :7.900   Max.   :4.400   Max.   :6.900   Max.   :2.500  "
      ]
     },
     "metadata": {},
     "output_type": "display_data"
    }
   ],
   "source": [
    "# Remove the species from the data since this should be unsupervised learning\n",
    "iris_variables <- iris_data[,-5]\n",
    "summary(iris_variables)"
   ]
  },
  {
   "cell_type": "code",
   "execution_count": 23,
   "id": "24b8762c",
   "metadata": {},
   "outputs": [
    {
     "data": {
      "text/plain": [
       "  Sepal.Length       Sepal.Width       Petal.Length      Petal.Width     \n",
       " Min.   :-1.86378   Min.   :-2.4258   Min.   :-1.5623   Min.   :-1.4422  \n",
       " 1st Qu.:-0.89767   1st Qu.:-0.5904   1st Qu.:-1.2225   1st Qu.:-1.1799  \n",
       " Median :-0.05233   Median :-0.1315   Median : 0.3354   Median : 0.1321  \n",
       " Mean   : 0.00000   Mean   : 0.0000   Mean   : 0.0000   Mean   : 0.0000  \n",
       " 3rd Qu.: 0.67225   3rd Qu.: 0.5567   3rd Qu.: 0.7602   3rd Qu.: 0.7880  \n",
       " Max.   : 2.48370   Max.   : 3.0805   Max.   : 1.7799   Max.   : 1.7064  "
      ]
     },
     "metadata": {},
     "output_type": "display_data"
    }
   ],
   "source": [
    "# Standardize the data\n",
    "iris_variables <- scale(iris_variables)\n",
    "summary(iris_variables)"
   ]
  },
  {
   "cell_type": "markdown",
   "id": "f21380c6",
   "metadata": {},
   "source": [
    "#### Step 2 - Look at Clustering Distance Measures\n",
    "The get_dist function from the factoextra library creates a distance matrix between the rows of data, you can calculate the distance using various methods including the euclidean and manhattan distances discussed in the course videos. More information can be found at: https://search.r-project.org/CRAN/refmans/factoextra/html/dist.html. For this model the purple color indicates high similarity while the red color indicates low similarity. In general, we can expect that observations with high values of features will be clustered together. The same holds true for observations with low values of features."
   ]
  },
  {
   "cell_type": "code",
   "execution_count": 24,
   "id": "a407d3dc",
   "metadata": {},
   "outputs": [
    {
     "data": {
      "image/png": "[encoded data removed]",
      "text/plain": [
       "plot without title"
      ]
     },
     "metadata": {},
     "output_type": "display_data"
    }
   ],
   "source": [
    "distance <- get_dist(iris_variables, method = \"euclidean\")\n",
    "fviz_dist(distance, lab_size = 2, gradient = list(low = \"blue\", mid = \"white\", high = \"red\"))"
   ]
  },
  {
   "cell_type": "markdown",
   "id": "2432d33c-6fa6-4c6f-8c67-639215b5a1ba",
   "metadata": {},
   "source": [
    "#### Step 3 - Determine Optimal K-Value\n",
    "I found two different ways to find optimal k-values for the k-means model. The first is using the fviz_nbclust option of the factoextra package. More about the function and package can be found here: https://www.rdocumentation.org/packages/factoextra/versions/1.0.7/topics/fviz_nbclust."
   ]
  },
  {
   "cell_type": "code",
   "execution_count": 25,
   "id": "880cc13f",
   "metadata": {},
   "outputs": [
    {
     "data": {
      "image/png": "[encoded data removed]",
      "text/plain": [
       "plot without title"
      ]
     },
     "metadata": {},
     "output_type": "display_data"
    }
   ],
   "source": [
    "fviz_nbclust(iris_variables, kmeans, method = \"wss\")"
   ]
  },
  {
   "cell_type": "markdown",
   "id": "ddc07c75-79da-4f0c-aab1-d629c4bce3eb",
   "metadata": {},
   "source": [
    "The second method I found was to calculate the actual sum of squars error for each model using the kmeans function. By looping through the range of k-values I'm interested in checking and saving the sum of squares error to a dataframe and then plotting the values. I decided to use both methods so I can compare the results and see if I am able to produce the same results as the fviz_nbclust() function manually. I also added horizontal lines at each of the k-values to make it easier to see where the distance between sum of squares errors start to diminish."
   ]
  },
  {
   "cell_type": "code",
   "execution_count": 26,
   "id": "b1976335",
   "metadata": {},
   "outputs": [
    {
     "data": {
      "image/png": "[encoded data removed]",
      "text/plain": [
       "plot without title"
      ]
     },
     "metadata": {},
     "output_type": "display_data"
    }
   ],
   "source": [
    "# Decide how many clusters to look at\n",
    "n_clusters <- 10\n",
    "\n",
    "# Initialize total within sum of squares error: wss\n",
    "wss <- numeric(n_clusters)\n",
    "\n",
    "set.seed(123)\n",
    "\n",
    "# Look over 1 to n possible clusters\n",
    "for (i in 1:n_clusters) {\n",
    "  # Fit the model: km.out\n",
    "  km.out <- kmeans(iris_variables, centers = i, nstart = 25)\n",
    "  # Save the within cluster sum of squares\n",
    "  wss[i] <- km.out$tot.withinss\n",
    "}\n",
    "\n",
    "# Produce a scree plot\n",
    "wss_df <- tibble(clusters = 1:n_clusters, wss = wss)\n",
    " \n",
    "scree_plot <- ggplot(wss_df, aes(x = clusters, y = wss, group = 1)) +\n",
    "    geom_point(size = 4)+\n",
    "    geom_line() +\n",
    "    scale_x_continuous(breaks = c(2, 4, 6, 8, 10)) +\n",
    "    xlab('Number of clusters')\n",
    "scree_plot +\n",
    "    geom_hline(\n",
    "        yintercept = wss, \n",
    "        linetype = 'dashed')"
   ]
  },
  {
   "cell_type": "markdown",
   "id": "5e2cb4e1-4413-4a1a-b473-eb58db127f09",
   "metadata": {},
   "source": [
    "Based on the above results It appears that the **best k-value is 3** since that is where the change in sum of squares starts to diminish. That also fits our data since we know their are three species we are wanting to classify."
   ]
  },
  {
   "cell_type": "markdown",
   "id": "c3db0dba-2704-4bcb-ba64-172dd00b479b",
   "metadata": {},
   "source": [
    "#### Step 5 - Determine Importance of Predictors\n",
    "Next I want to determine which of the four variables are most important for predicting the species. To do this I will compute a kmeans model using different combinations of variables and compare the clustering vector to the the expected results using a confusion matrix.\r\n",
    "\r\n",
    "This wouldn't normally be something you would do for unsupervised learning, their wouldn't typically be a results variabl e.For most kmeans models you would analyze how well the model did at creating distinct clusters by comparing the the \"within cluster sum of squares\" between models. The main goal of kmeans clustering is to minimize the sum of distances between each data point and its assigned centroid, so you'd be looking for small values for the within cluster sum of squares (WCSS) or a large percentage for the between_SS / total_SS. This objective ensures that the clusters are compact and well-separated from each other. Below is a description of the outputs from the kmeans model and what they mean, I got this information from: https://andrea-grianti.medium.com/kmeans-parameters-in-rstudio-explained-c493ec5a05f."
   ]
  },
  {
   "cell_type": "code",
   "execution_count": 27,
   "id": "e989b80e-6b9c-4ba4-b970-0317d6c842e5",
   "metadata": {},
   "outputs": [
    {
     "name": "stdout",
     "output_type": "stream",
     "text": [
      "The variables being used: 1            \n",
      "              1  2  3\n",
      "  setosa      0 45  5\n",
      "  versicolor  9  6 35\n",
      "  virginica  26  1 23\n",
      "\n",
      "Accuracy: 70.67 % \n",
      "\n",
      "The variables being used: 2            \n",
      "              1  2  3\n",
      "  setosa      1 18 31\n",
      "  versicolor 21 28  1\n",
      "  virginica  11 34  5\n",
      "\n",
      "Accuracy: 62 % \n",
      "\n",
      "The variables being used: 3            \n",
      "              1  2  3\n",
      "  setosa      0 50  0\n",
      "  versicolor  2  0 48\n",
      "  virginica  44  0  6\n",
      "\n",
      "Accuracy: 94.67 % \n",
      "\n",
      "The variables being used: 4            \n",
      "              1  2  3\n",
      "  setosa      0  0 50\n",
      "  versicolor  2 48  0\n",
      "  virginica  46  4  0\n",
      "\n",
      "Accuracy: 96 % \n",
      "\n",
      "The variables being used: 1 2            \n",
      "              1  2  3\n",
      "  setosa      0  1 49\n",
      "  versicolor 14 36  0\n",
      "  virginica  31 19  0\n",
      "\n",
      "Accuracy: 77.33 % \n",
      "\n",
      "The variables being used: 1 3            \n",
      "              1  2  3\n",
      "  setosa      0 50  0\n",
      "  versicolor  9  4 37\n",
      "  virginica  34  0 16\n",
      "\n",
      "Accuracy: 80.67 % \n",
      "\n",
      "The variables being used: 1 4            \n",
      "              1  2  3\n",
      "  setosa      0 50  0\n",
      "  versicolor  6  4 40\n",
      "  virginica  35  0 15\n",
      "\n",
      "Accuracy: 83.33 % \n",
      "\n",
      "The variables being used: 2 3            \n",
      "              1  2  3\n",
      "  setosa     49  0  1\n",
      "  versicolor  0 22 28\n",
      "  virginica   0 38 12\n",
      "\n",
      "Accuracy: 76.67 % \n",
      "\n",
      "The variables being used: 2 4            \n",
      "              1  2  3\n",
      "  setosa     49  1  0\n",
      "  versicolor  0 35 15\n",
      "  virginica   0 11 39\n",
      "\n",
      "Accuracy: 82 % \n",
      "\n",
      "The variables being used: 3 4            \n",
      "              1  2  3\n",
      "  setosa     50  0  0\n",
      "  versicolor  0 48  2\n",
      "  virginica   0  4 46\n",
      "\n",
      "Accuracy: 96 % \n",
      "\n",
      "The variables being used: 1 2 3            \n",
      "              1  2  3\n",
      "  setosa      1 49  0\n",
      "  versicolor 35  0 15\n",
      "  virginica  13  0 37\n",
      "\n",
      "Accuracy: 80.67 % \n",
      "\n",
      "The variables being used: 1 2 4            \n",
      "              1  2  3\n",
      "  setosa      1 49  0\n",
      "  versicolor 38  0 12\n",
      "  virginica  16  0 34\n",
      "\n",
      "Accuracy: 80.67 % \n",
      "\n",
      "The variables being used: 1 3 4            \n",
      "              1  2  3\n",
      "  setosa      0  0 50\n",
      "  versicolor  5 44  1\n",
      "  virginica  36 14  0\n",
      "\n",
      "Accuracy: 86.67 % \n",
      "\n",
      "The variables being used: 2 3 4            \n",
      "              1  2  3\n",
      "  setosa      0 49  1\n",
      "  versicolor  8  0 42\n",
      "  virginica  38  0 12\n",
      "\n",
      "Accuracy: 86 % \n",
      "\n",
      "The variables being used: 1 2 3 4            \n",
      "              1  2  3\n",
      "  setosa      0  0 50\n",
      "  versicolor 11 39  0\n",
      "  virginica  36 14  0\n",
      "\n",
      "Accuracy: 83.33 % \n",
      "\n"
     ]
    }
   ],
   "source": [
    "combinations <- list(c(1), c(2), c(3), c(4), c(1, 2), c(1, 3), c(1, 4), c(2, 3), c(2, 4), \n",
    "                     c(3, 4), c(1, 2, 3) ,c(1, 2, 4), c(1, 3, 4), c(2, 3, 4), c(1, 2, 3, 4))\n",
    "\n",
    "for (combo in combinations) {\n",
    "    k_model <- kmeans(iris_variables[,combo], centers = 3, nstart = 25)\n",
    "    cat(\"The variables being used:\", combo)\n",
    "    cm <- table(iris_data$Species, k_model$cluster)\n",
    "    print(cm)\n",
    "    cat(\"\\n\")\n",
    "\n",
    "    # Use the largest value in each row as correct assignment\n",
    "    correct_assignments <- apply(cm, 1, max)\n",
    "    total_correct <- sum(correct_assignments)\n",
    "    total_predictions <- sum(cm)\n",
    "\n",
    "    # Accuracy calculation\n",
    "    accuracy <- round((total_correct / total_predictions) * 100, 2)\n",
    "    cat(\"Accuracy:\", accuracy, \"%\", \"\\n\\n\")\n",
    "}"
   ]
  },
  {
   "cell_type": "markdown",
   "id": "dc917610-7155-46d6-83b3-48e868b2541f",
   "metadata": {},
   "source": [
    "Interestengly enough, what I see is that the best results come from just using variable 4 (Petal.Width). When you look at the confusion matrix you can see that it correctly predicted all of the setosa, 48 of the versicolor, and 46 of the virginica. So the **Petal Width is the most important variable for predicting flower species** and when using just that variable to create a cluster model we see that it \"correctly\" clusters 96% of the flower species."
   ]
  },
  {
   "cell_type": "markdown",
   "id": "4b0305be-6d46-4e1b-8da3-f08f4eb787c5",
   "metadata": {},
   "source": [
    "#### Step 6 - Analyze Results\n",
    "Now that I have determined that a k-value of 3 will create the best kmeans model I will analyze it's performance. Even though I found that using just the petal width created the best prediction for flower species, I am going to create a model with all four variables and a model with with just the Petal Width. Since the kmeans model isn't typically used for supervised learning I'm interested in seeing what the results would look like if I didn't have the species data."
   ]
  },
  {
   "cell_type": "markdown",
   "id": "4fcfc605-cbe3-45cd-8893-b7259ba14181",
   "metadata": {},
   "source": [
    "##### Model w/ All 4 Variables\n",
    "I'm going to start with the model that has all 4 variables. The first step is creating the new kmeans models and then printing it's output for analysis."
   ]
  },
  {
   "cell_type": "code",
   "execution_count": 28,
   "id": "1b899af7",
   "metadata": {},
   "outputs": [
    {
     "data": {
      "text/plain": [
       "K-means clustering with 3 clusters of sizes 47, 53, 50\n",
       "\n",
       "Cluster means:\n",
       "  Sepal.Length Sepal.Width Petal.Length Petal.Width\n",
       "1   1.13217737  0.08812645    0.9928284   1.0141287\n",
       "2  -0.05005221 -0.88042696    0.3465767   0.2805873\n",
       "3  -1.01119138  0.85041372   -1.3006301  -1.2507035\n",
       "\n",
       "Clustering vector:\n",
       "  [1] 3 3 3 3 3 3 3 3 3 3 3 3 3 3 3 3 3 3 3 3 3 3 3 3 3 3 3 3 3 3 3 3 3 3 3 3 3\n",
       " [38] 3 3 3 3 3 3 3 3 3 3 3 3 3 1 1 1 2 2 2 1 2 2 2 2 2 2 2 2 1 2 2 2 2 1 2 2 2\n",
       " [75] 2 1 1 1 2 2 2 2 2 2 2 1 1 2 2 2 2 2 2 2 2 2 2 2 2 2 1 2 1 1 1 1 2 1 1 1 1\n",
       "[112] 1 1 2 2 1 1 1 1 2 1 2 1 2 1 1 2 1 1 1 1 1 1 2 2 1 1 1 2 1 1 1 2 1 1 1 2 1\n",
       "[149] 1 2\n",
       "\n",
       "Within cluster sum of squares by cluster:\n",
       "[1] 47.45019 44.08754 47.35062\n",
       " (between_SS / total_SS =  76.7 %)\n",
       "\n",
       "Available components:\n",
       "\n",
       "[1] \"cluster\"      \"centers\"      \"totss\"        \"withinss\"     \"tot.withinss\"\n",
       "[6] \"betweenss\"    \"size\"         \"iter\"         \"ifault\"      "
      ]
     },
     "metadata": {},
     "output_type": "display_data"
    }
   ],
   "source": [
    "k3 <- kmeans(iris_variables, centers = 3, nstart = 25)\n",
    "k3"
   ]
  },
  {
   "cell_type": "markdown",
   "id": "4dcfd461-d547-493d-9086-f0ce3b85ac95",
   "metadata": {},
   "source": [
    "What I can see is that the model has cluster sum of squars that are ~45 in value and the (between_SS / total_SS) is 76.7%. When I reviewed literature on interpretting resuts from a kmeans model it indicated that these values really depend on the dataset you are analyzing to understand how good of a job it has done in creating clusters. All I can do is compare the values to other models on the same dataset since I don't have the experience to know what I should expect for the dataset.\n",
    "\n",
    "Next I want to visualize the results. The fviz_cluster() function visualizes the cluster in 2 dimensions. However, since we have 4 dimensions fviz_cluster() performs Principle Components Analysis (PCA) behind the scenes to reduce the dimensions such that data can be represented by clusters in a 2-D space."
   ]
  },
  {
   "cell_type": "code",
   "execution_count": 29,
   "id": "c4a8534f",
   "metadata": {},
   "outputs": [
    {
     "data": {
      "image/png": "[encoded data removed]",
      "text/plain": [
       "plot without title"
      ]
     },
     "metadata": {},
     "output_type": "display_data"
    }
   ],
   "source": [
    "fviz_cluster(k3, data = iris_variables)"
   ]
  },
  {
   "cell_type": "markdown",
   "id": "0cc33de4-16a1-466d-b23a-7c861305dc89",
   "metadata": {},
   "source": [
    "It does appear that the model creates three distinct clusters without overlap. There is similarities between clusters 1 (versicolor) and 3 (virginica) that explain why my model struggles to distinguish between versicolor and virginica.\n",
    "\n",
    "By creating a confusion matrix I can see how the results of the kmeans model compare to the species listed in the original dataset. It also lets me know that for the model cluster 1 = versicolor, cluster 2 = setosa, and cluster 3 = virginica."
   ]
  },
  {
   "cell_type": "code",
   "execution_count": 30,
   "id": "4a8fbcba-4cdc-4820-abfb-5ae2cdb35e99",
   "metadata": {},
   "outputs": [
    {
     "data": {
      "text/plain": [
       "            \n",
       "              1  2  3\n",
       "  setosa      0  0 50\n",
       "  versicolor 11 39  0\n",
       "  virginica  36 14  0"
      ]
     },
     "metadata": {},
     "output_type": "display_data"
    }
   ],
   "source": [
    "cm <- table(iris_data$Species, k3$cluster)\n",
    "cm"
   ]
  },
  {
   "cell_type": "markdown",
   "id": "eb275bc3-482f-4a12-a7e2-becde0ee0763",
   "metadata": {},
   "source": [
    "As seen by the confusion matrix, the model correctly classifies all of the setosa but struggles to distinguish between the versicolor and virginica.\n",
    "\n",
    "\n",
    "It helped me to visualize the clustering alongside the original data so I added the cluster output to the iris_data. To keep the file from getting too long I only displayed the first 6 rows."
   ]
  },
  {
   "cell_type": "code",
   "execution_count": 31,
   "id": "c72f5850-9960-4d5e-b865-df072ccd0782",
   "metadata": {},
   "outputs": [
    {
     "data": {
      "text/html": [
       "<table>\n",
       "<thead><tr><th scope=col>Sepal.Length</th><th scope=col>Sepal.Width</th><th scope=col>Petal.Length</th><th scope=col>Petal.Width</th><th scope=col>Species</th><th scope=col>cluster</th></tr></thead>\n",
       "<tbody>\n",
       "\t<tr><td>5.1   </td><td>3.5   </td><td>1.4   </td><td>0.2   </td><td>setosa</td><td>3     </td></tr>\n",
       "\t<tr><td>4.9   </td><td>3.0   </td><td>1.4   </td><td>0.2   </td><td>setosa</td><td>3     </td></tr>\n",
       "\t<tr><td>4.7   </td><td>3.2   </td><td>1.3   </td><td>0.2   </td><td>setosa</td><td>3     </td></tr>\n",
       "\t<tr><td>4.6   </td><td>3.1   </td><td>1.5   </td><td>0.2   </td><td>setosa</td><td>3     </td></tr>\n",
       "\t<tr><td>5.0   </td><td>3.6   </td><td>1.4   </td><td>0.2   </td><td>setosa</td><td>3     </td></tr>\n",
       "\t<tr><td>5.4   </td><td>3.9   </td><td>1.7   </td><td>0.4   </td><td>setosa</td><td>3     </td></tr>\n",
       "</tbody>\n",
       "</table>\n"
      ],
      "text/latex": [
       "\\begin{tabular}{r|llllll}\n",
       " Sepal.Length & Sepal.Width & Petal.Length & Petal.Width & Species & cluster\\\\\n",
       "\\hline\n",
       "\t 5.1    & 3.5    & 1.4    & 0.2    & setosa & 3     \\\\\n",
       "\t 4.9    & 3.0    & 1.4    & 0.2    & setosa & 3     \\\\\n",
       "\t 4.7    & 3.2    & 1.3    & 0.2    & setosa & 3     \\\\\n",
       "\t 4.6    & 3.1    & 1.5    & 0.2    & setosa & 3     \\\\\n",
       "\t 5.0    & 3.6    & 1.4    & 0.2    & setosa & 3     \\\\\n",
       "\t 5.4    & 3.9    & 1.7    & 0.4    & setosa & 3     \\\\\n",
       "\\end{tabular}\n"
      ],
      "text/markdown": [
       "\n",
       "| Sepal.Length | Sepal.Width | Petal.Length | Petal.Width | Species | cluster |\n",
       "|---|---|---|---|---|---|\n",
       "| 5.1    | 3.5    | 1.4    | 0.2    | setosa | 3      |\n",
       "| 4.9    | 3.0    | 1.4    | 0.2    | setosa | 3      |\n",
       "| 4.7    | 3.2    | 1.3    | 0.2    | setosa | 3      |\n",
       "| 4.6    | 3.1    | 1.5    | 0.2    | setosa | 3      |\n",
       "| 5.0    | 3.6    | 1.4    | 0.2    | setosa | 3      |\n",
       "| 5.4    | 3.9    | 1.7    | 0.4    | setosa | 3      |\n",
       "\n"
      ],
      "text/plain": [
       "  Sepal.Length Sepal.Width Petal.Length Petal.Width Species cluster\n",
       "1 5.1          3.5         1.4          0.2         setosa  3      \n",
       "2 4.9          3.0         1.4          0.2         setosa  3      \n",
       "3 4.7          3.2         1.3          0.2         setosa  3      \n",
       "4 4.6          3.1         1.5          0.2         setosa  3      \n",
       "5 5.0          3.6         1.4          0.2         setosa  3      \n",
       "6 5.4          3.9         1.7          0.4         setosa  3      "
      ]
     },
     "metadata": {},
     "output_type": "display_data"
    }
   ],
   "source": [
    "iris_data$cluster = k3$cluster\n",
    "head(iris_data)"
   ]
  },
  {
   "cell_type": "markdown",
   "id": "c88cf8c0-bd3e-462f-a8fe-e72caf5dd07d",
   "metadata": {},
   "source": [
    "##### Model W/ Just Petal Width\n",
    "Next I want to look at the model that just uses the Petal Width to create clusters. I started by creating a new model and displaying it's output for analysis. I decided not to use the standardized data since we are only looking at the one variable. Looking at both versions this didn't seem to impact the results of the mode at all."
   ]
  },
  {
   "cell_type": "code",
   "execution_count": 32,
   "id": "862b47ed-42dc-4fa0-9bcf-4311a7472584",
   "metadata": {},
   "outputs": [
    {
     "data": {
      "text/plain": [
       "K-means clustering with 3 clusters of sizes 52, 48, 50\n",
       "\n",
       "Cluster means:\n",
       "      [,1]\n",
       "1 1.323077\n",
       "2 2.058333\n",
       "3 0.246000\n",
       "\n",
       "Clustering vector:\n",
       "  [1] 3 3 3 3 3 3 3 3 3 3 3 3 3 3 3 3 3 3 3 3 3 3 3 3 3 3 3 3 3 3 3 3 3 3 3 3 3\n",
       " [38] 3 3 3 3 3 3 3 3 3 3 3 3 3 1 1 1 1 1 1 1 1 1 1 1 1 1 1 1 1 1 1 1 1 2 1 1 1\n",
       " [75] 1 1 1 2 1 1 1 1 1 1 1 1 1 1 1 1 1 1 1 1 1 1 1 1 1 1 2 2 2 2 2 2 2 2 2 2 2\n",
       "[112] 2 2 2 2 2 2 2 2 1 2 2 2 2 2 2 2 2 2 1 2 2 2 1 1 2 2 2 2 2 2 2 2 2 2 2 2 2\n",
       "[149] 2 2\n",
       "\n",
       "Within cluster sum of squares by cluster:\n",
       "[1] 1.692308 2.676667 0.544200\n",
       " (between_SS / total_SS =  94.3 %)\n",
       "\n",
       "Available components:\n",
       "\n",
       "[1] \"cluster\"      \"centers\"      \"totss\"        \"withinss\"     \"tot.withinss\"\n",
       "[6] \"betweenss\"    \"size\"         \"iter\"         \"ifault\"      "
      ]
     },
     "metadata": {},
     "output_type": "display_data"
    }
   ],
   "source": [
    "k3_pw <- kmeans(iris_data[,4], centers = 3, nstart = 25)\n",
    "k3_pw"
   ]
  },
  {
   "cell_type": "markdown",
   "id": "f1eb30bc-ea74-4d81-8abc-5937d73388e7",
   "metadata": {},
   "source": [
    "What I can see is that the model has cluster sum of squars that are ~2 in value and the (between_SS / total_SS) is 94.3%. Comparing this to the model with all four variables we see that we get much better results.  This means that if you imagine a cluster like a cloud of points that have a distance from the centroid, the sum of squares of the distances of the points assigned to a cluster from the centroid of that cluster. Since they are small it indicates that we have fairly good clusters that aren't close to overlapping the other clusters.\r\n",
    "\r\n",
    "Next I want to visualize the results. Since this model only has the one variable I can plot the distribution of clusters as a scatter plot along the y = 0 axis. I added the geom_jitter(height = 0.01) function to the plot which introduces some random noise to the y-axis positions of the points, preventing overlap and ensuring better visibility of all data points. I found that without this the points were not very distinct within each cluster."
   ]
  },
  {
   "cell_type": "code",
   "execution_count": 33,
   "id": "2fbdd135-c249-4666-a504-d9347017b91e",
   "metadata": {},
   "outputs": [
    {
     "data": {
      "image/png": "[encoded data removed]",
      "text/plain": [
       "plot without title"
      ]
     },
     "metadata": {},
     "output_type": "display_data"
    }
   ],
   "source": [
    "# Create a data frame with the variable and cluster assignment\n",
    "data_for_plot <- data.frame(Petal.Width = iris_data[, 4],\n",
    "                            Cluster = as.factor(k3_pw$cluster))\n",
    "\n",
    "# Plot the clusters\n",
    "ggplot(data_for_plot, aes(x = Petal.Width, y=0, color = Cluster)) +\n",
    "  geom_jitter(height = .01) +\n",
    "  geom_point() +\n",
    "  labs(title = \"K-Means Clustering with Single Variable\",\n",
    "       x = \"Petal Width\", y = \"Cluster\") +\n",
    "  theme_minimal()"
   ]
  },
  {
   "cell_type": "markdown",
   "id": "b517e859-000c-498b-a0bb-4c5f9ee9ff1c",
   "metadata": {},
   "source": [
    "The scatterplot clearly shows the three clusters that were created and where it is deliniating each cluster. It appears that cluster 2 (setosa) have pedal widths less than ~0.7, cluster 1 (virginica) has petal widths between 0.9 and 1.625, and cluster 3 (versicolor) has petal widths greater than 1.625. Looking at the data this seems to hold true with a few exceptions for the versicolor and virginica which explains why we had 6 misclassifications using this model.\n",
    "\n",
    "\n",
    "Finally, I want to visualize the results in a confusion matrix which can be seen below!"
   ]
  },
  {
   "cell_type": "code",
   "execution_count": 34,
   "id": "17a721b2-a218-4cba-9f6e-b06330f81cfe",
   "metadata": {},
   "outputs": [
    {
     "data": {
      "text/plain": [
       "            \n",
       "              1  2  3\n",
       "  setosa      0  0 50\n",
       "  versicolor 48  2  0\n",
       "  virginica   4 46  0"
      ]
     },
     "metadata": {},
     "output_type": "display_data"
    }
   ],
   "source": [
    "cm_pw <- table(iris_data$Species, k3_pw$cluster)\n",
    "cm_pw"
   ]
  }
 ],
 "metadata": {
  "kernelspec": {
   "display_name": "R",
   "language": "R",
   "name": "ir"
  },
  "language_info": {
   "codemirror_mode": "r",
   "file_extension": ".r",
   "mimetype": "text/x-r-source",
   "name": "R",
   "pygments_lexer": "r",
   "version": "3.6.1"
  }
 },
 "nbformat": 4,
 "nbformat_minor": 5
}
