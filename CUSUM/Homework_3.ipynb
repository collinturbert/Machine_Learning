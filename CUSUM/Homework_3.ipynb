{
 "cells": [
  {
   "cell_type": "markdown",
   "id": "3fd8e433-dd78-4907-bc39-a9ab1f637281",
   "metadata": {},
   "source": [
    "### Question 5.1\n",
    ">Using crime data from the file uscrime.txt (http://www.statsci.org/data/general/uscrime.txt, \n",
    "description at http://www.statsci.org/data/general/uscrime.html), test to see whether there are an \r\n",
    "outliers in the last column (number of crimes per 100,000 people). Use the grubbs.test function  n\r\n",
    "the outliers package in R."
   ]
  },
  {
   "cell_type": "markdown",
   "id": "39e079f4-c435-4db8-8b2c-71b04970eaf6",
   "metadata": {},
   "source": [
    "To look at any potential outliers in the uscrime.txt data I'll use the gubbs.test() function that is a part of the outliers package. The syntax for the Grubbs test can be found here: https://www.rdocumentation.org/packages/outliers/versions/0.15/topics/grubbs.test. The Grubbs test is a statistical test designed to detect outliers in a univariate dataset that follows a normal distribution. The test identifies an outlier by measuring how far a data point deviates from the mean, relative to the standard deviation of the dataset. It’s based on the assumption that the largest absolute deviation from the mean is a potential outlier. I found the explanation in the link below helpful in understanding exactly how the Grubbs test works: https://medium.com/data-and-beyond/outlier-detection-in-r-grubbs-test-9f2848d7c210:\n",
    "\n",
    "But to be able to interpret the results of the function I need to understand the outputs it provides, specifically the G, U, p-value, and alternative hypothesis. This G statistic is the difference between the sample mean and either the smallest or largest data value, divided by the standard deviation. You can compare this value against a critical value from the Grubbs’ distribution table to confirm that the value is not part of the normal variation of the data. The U value is a ratio of sample variances with and without the suspected outlier. The p-value is a probability that measures the evidence against the null hypothesis. A smaller p-value provides stronger evidence against the null hypothesis. So if we get a small p-value (typically <0.05), that indicates that the suspected point is statistically different from the rest of the data, suggesting it’s an outlier.\n",
    "\n",
    "Now that I have a better understanding of how the Grubbs test works I am going to follow the steps below to look at any potential outliers in the Crime column of our data:\n",
    "\n",
    "1) Explore the data to gain a better understanding of the dataset\n",
    "2) Check that the data is normally distributed\n",
    "3) Run the Grubbs test for the maximum and minimum values\n",
    "4) Interpret the results of the test and decide if any of the points are outliers\n",
    "5) Compare the results by examining the data distribution visually with a box and whisker plot"
   ]
  },
  {
   "cell_type": "markdown",
   "id": "07f13193-040e-4b8f-8131-d1838598a2d5",
   "metadata": {},
   "source": [
    "#### Step 1 - Explore the Data\n",
    "For this step I am going to visually inspect the data, get summary statistics to get a sense of the values in the data, and read about the data to understand what the values in each column represent. I'll start by loading the libraries I need for this analysis and loading the data."
   ]
  },
  {
   "cell_type": "code",
   "execution_count": 45,
   "id": "d64fb628-4adc-44b7-be94-810ad07f4f4c",
   "metadata": {},
   "outputs": [],
   "source": [
    "# Load libraries needed for analysis\n",
    "# Outliers contains the Grubbs.test function and the pastecs library provides a statistical summary of the data\n",
    "library(outliers)\n",
    "library(pastecs)\n",
    "library(ggplot2)\n",
    "library(dplyr)"
   ]
  },
  {
   "cell_type": "code",
   "execution_count": 2,
   "id": "d1cd2777-fb40-4268-82da-4b96b55d0c5e",
   "metadata": {},
   "outputs": [],
   "source": [
    "# Load the data\n",
    "crime_data <- read.table(\"uscrime.txt\", header = TRUE)"
   ]
  },
  {
   "cell_type": "code",
   "execution_count": 3,
   "id": "17613880-f47b-4b90-abc5-18d7bf7e3fef",
   "metadata": {},
   "outputs": [
    {
     "data": {
      "text/html": [
       "<table>\n",
       "<thead><tr><th scope=col>M</th><th scope=col>So</th><th scope=col>Ed</th><th scope=col>Po1</th><th scope=col>Po2</th><th scope=col>LF</th><th scope=col>M.F</th><th scope=col>Pop</th><th scope=col>NW</th><th scope=col>U1</th><th scope=col>U2</th><th scope=col>Wealth</th><th scope=col>Ineq</th><th scope=col>Prob</th><th scope=col>Time</th><th scope=col>Crime</th></tr></thead>\n",
       "<tbody>\n",
       "\t<tr><td>15.1    </td><td>1       </td><td> 9.1    </td><td> 5.8    </td><td> 5.6    </td><td>0.510   </td><td> 95.0   </td><td> 33     </td><td>30.1    </td><td>0.108   </td><td>4.1     </td><td>3940    </td><td>26.1    </td><td>0.084602</td><td>26.2011 </td><td> 791    </td></tr>\n",
       "\t<tr><td>14.3    </td><td>0       </td><td>11.3    </td><td>10.3    </td><td> 9.5    </td><td>0.583   </td><td>101.2   </td><td> 13     </td><td>10.2    </td><td>0.096   </td><td>3.6     </td><td>5570    </td><td>19.4    </td><td>0.029599</td><td>25.2999 </td><td>1635    </td></tr>\n",
       "\t<tr><td>14.2    </td><td>1       </td><td> 8.9    </td><td> 4.5    </td><td> 4.4    </td><td>0.533   </td><td> 96.9   </td><td> 18     </td><td>21.9    </td><td>0.094   </td><td>3.3     </td><td>3180    </td><td>25.0    </td><td>0.083401</td><td>24.3006 </td><td> 578    </td></tr>\n",
       "\t<tr><td>13.6    </td><td>0       </td><td>12.1    </td><td>14.9    </td><td>14.1    </td><td>0.577   </td><td> 99.4   </td><td>157     </td><td> 8.0    </td><td>0.102   </td><td>3.9     </td><td>6730    </td><td>16.7    </td><td>0.015801</td><td>29.9012 </td><td>1969    </td></tr>\n",
       "\t<tr><td>14.1    </td><td>0       </td><td>12.1    </td><td>10.9    </td><td>10.1    </td><td>0.591   </td><td> 98.5   </td><td> 18     </td><td> 3.0    </td><td>0.091   </td><td>2.0     </td><td>5780    </td><td>17.4    </td><td>0.041399</td><td>21.2998 </td><td>1234    </td></tr>\n",
       "\t<tr><td>12.1    </td><td>0       </td><td>11.0    </td><td>11.8    </td><td>11.5    </td><td>0.547   </td><td> 96.4   </td><td> 25     </td><td> 4.4    </td><td>0.084   </td><td>2.9     </td><td>6890    </td><td>12.6    </td><td>0.034201</td><td>20.9995 </td><td> 682    </td></tr>\n",
       "</tbody>\n",
       "</table>\n"
      ],
      "text/latex": [
       "\\begin{tabular}{r|llllllllllllllll}\n",
       " M & So & Ed & Po1 & Po2 & LF & M.F & Pop & NW & U1 & U2 & Wealth & Ineq & Prob & Time & Crime\\\\\n",
       "\\hline\n",
       "\t 15.1     & 1        &  9.1     &  5.8     &  5.6     & 0.510    &  95.0    &  33      & 30.1     & 0.108    & 4.1      & 3940     & 26.1     & 0.084602 & 26.2011  &  791    \\\\\n",
       "\t 14.3     & 0        & 11.3     & 10.3     &  9.5     & 0.583    & 101.2    &  13      & 10.2     & 0.096    & 3.6      & 5570     & 19.4     & 0.029599 & 25.2999  & 1635    \\\\\n",
       "\t 14.2     & 1        &  8.9     &  4.5     &  4.4     & 0.533    &  96.9    &  18      & 21.9     & 0.094    & 3.3      & 3180     & 25.0     & 0.083401 & 24.3006  &  578    \\\\\n",
       "\t 13.6     & 0        & 12.1     & 14.9     & 14.1     & 0.577    &  99.4    & 157      &  8.0     & 0.102    & 3.9      & 6730     & 16.7     & 0.015801 & 29.9012  & 1969    \\\\\n",
       "\t 14.1     & 0        & 12.1     & 10.9     & 10.1     & 0.591    &  98.5    &  18      &  3.0     & 0.091    & 2.0      & 5780     & 17.4     & 0.041399 & 21.2998  & 1234    \\\\\n",
       "\t 12.1     & 0        & 11.0     & 11.8     & 11.5     & 0.547    &  96.4    &  25      &  4.4     & 0.084    & 2.9      & 6890     & 12.6     & 0.034201 & 20.9995  &  682    \\\\\n",
       "\\end{tabular}\n"
      ],
      "text/markdown": [
       "\n",
       "| M | So | Ed | Po1 | Po2 | LF | M.F | Pop | NW | U1 | U2 | Wealth | Ineq | Prob | Time | Crime |\n",
       "|---|---|---|---|---|---|---|---|---|---|---|---|---|---|---|---|\n",
       "| 15.1     | 1        |  9.1     |  5.8     |  5.6     | 0.510    |  95.0    |  33      | 30.1     | 0.108    | 4.1      | 3940     | 26.1     | 0.084602 | 26.2011  |  791     |\n",
       "| 14.3     | 0        | 11.3     | 10.3     |  9.5     | 0.583    | 101.2    |  13      | 10.2     | 0.096    | 3.6      | 5570     | 19.4     | 0.029599 | 25.2999  | 1635     |\n",
       "| 14.2     | 1        |  8.9     |  4.5     |  4.4     | 0.533    |  96.9    |  18      | 21.9     | 0.094    | 3.3      | 3180     | 25.0     | 0.083401 | 24.3006  |  578     |\n",
       "| 13.6     | 0        | 12.1     | 14.9     | 14.1     | 0.577    |  99.4    | 157      |  8.0     | 0.102    | 3.9      | 6730     | 16.7     | 0.015801 | 29.9012  | 1969     |\n",
       "| 14.1     | 0        | 12.1     | 10.9     | 10.1     | 0.591    |  98.5    |  18      |  3.0     | 0.091    | 2.0      | 5780     | 17.4     | 0.041399 | 21.2998  | 1234     |\n",
       "| 12.1     | 0        | 11.0     | 11.8     | 11.5     | 0.547    |  96.4    |  25      |  4.4     | 0.084    | 2.9      | 6890     | 12.6     | 0.034201 | 20.9995  |  682     |\n",
       "\n"
      ],
      "text/plain": [
       "  M    So Ed   Po1  Po2  LF    M.F   Pop NW   U1    U2  Wealth Ineq Prob    \n",
       "1 15.1 1   9.1  5.8  5.6 0.510  95.0  33 30.1 0.108 4.1 3940   26.1 0.084602\n",
       "2 14.3 0  11.3 10.3  9.5 0.583 101.2  13 10.2 0.096 3.6 5570   19.4 0.029599\n",
       "3 14.2 1   8.9  4.5  4.4 0.533  96.9  18 21.9 0.094 3.3 3180   25.0 0.083401\n",
       "4 13.6 0  12.1 14.9 14.1 0.577  99.4 157  8.0 0.102 3.9 6730   16.7 0.015801\n",
       "5 14.1 0  12.1 10.9 10.1 0.591  98.5  18  3.0 0.091 2.0 5780   17.4 0.041399\n",
       "6 12.1 0  11.0 11.8 11.5 0.547  96.4  25  4.4 0.084 2.9 6890   12.6 0.034201\n",
       "  Time    Crime\n",
       "1 26.2011  791 \n",
       "2 25.2999 1635 \n",
       "3 24.3006  578 \n",
       "4 29.9012 1969 \n",
       "5 21.2998 1234 \n",
       "6 20.9995  682 "
      ]
     },
     "metadata": {},
     "output_type": "display_data"
    }
   ],
   "source": [
    "# Visually inspect the data, for this report only printed the first few rows but inspected all of them\n",
    "head(crime_data)"
   ]
  },
  {
   "cell_type": "code",
   "execution_count": 4,
   "id": "2006a6d8-6e52-48e1-8c48-ff9b45ec3ac3",
   "metadata": {},
   "outputs": [
    {
     "data": {
      "text/plain": [
       "       M               So               Ed             Po1       \n",
       " Min.   :11.90   Min.   :0.0000   Min.   : 8.70   Min.   : 4.50  \n",
       " 1st Qu.:13.00   1st Qu.:0.0000   1st Qu.: 9.75   1st Qu.: 6.25  \n",
       " Median :13.60   Median :0.0000   Median :10.80   Median : 7.80  \n",
       " Mean   :13.86   Mean   :0.3404   Mean   :10.56   Mean   : 8.50  \n",
       " 3rd Qu.:14.60   3rd Qu.:1.0000   3rd Qu.:11.45   3rd Qu.:10.45  \n",
       " Max.   :17.70   Max.   :1.0000   Max.   :12.20   Max.   :16.60  \n",
       "      Po2               LF              M.F              Pop        \n",
       " Min.   : 4.100   Min.   :0.4800   Min.   : 93.40   Min.   :  3.00  \n",
       " 1st Qu.: 5.850   1st Qu.:0.5305   1st Qu.: 96.45   1st Qu.: 10.00  \n",
       " Median : 7.300   Median :0.5600   Median : 97.70   Median : 25.00  \n",
       " Mean   : 8.023   Mean   :0.5612   Mean   : 98.30   Mean   : 36.62  \n",
       " 3rd Qu.: 9.700   3rd Qu.:0.5930   3rd Qu.: 99.20   3rd Qu.: 41.50  \n",
       " Max.   :15.700   Max.   :0.6410   Max.   :107.10   Max.   :168.00  \n",
       "       NW              U1                U2            Wealth    \n",
       " Min.   : 0.20   Min.   :0.07000   Min.   :2.000   Min.   :2880  \n",
       " 1st Qu.: 2.40   1st Qu.:0.08050   1st Qu.:2.750   1st Qu.:4595  \n",
       " Median : 7.60   Median :0.09200   Median :3.400   Median :5370  \n",
       " Mean   :10.11   Mean   :0.09547   Mean   :3.398   Mean   :5254  \n",
       " 3rd Qu.:13.25   3rd Qu.:0.10400   3rd Qu.:3.850   3rd Qu.:5915  \n",
       " Max.   :42.30   Max.   :0.14200   Max.   :5.800   Max.   :6890  \n",
       "      Ineq            Prob              Time           Crime       \n",
       " Min.   :12.60   Min.   :0.00690   Min.   :12.20   Min.   : 342.0  \n",
       " 1st Qu.:16.55   1st Qu.:0.03270   1st Qu.:21.60   1st Qu.: 658.5  \n",
       " Median :17.60   Median :0.04210   Median :25.80   Median : 831.0  \n",
       " Mean   :19.40   Mean   :0.04709   Mean   :26.60   Mean   : 905.1  \n",
       " 3rd Qu.:22.75   3rd Qu.:0.05445   3rd Qu.:30.45   3rd Qu.:1057.5  \n",
       " Max.   :27.60   Max.   :0.11980   Max.   :44.00   Max.   :1993.0  "
      ]
     },
     "metadata": {},
     "output_type": "display_data"
    }
   ],
   "source": [
    "# Get summary statistics of the data\n",
    "summary(crime_data)"
   ]
  },
  {
   "cell_type": "code",
   "execution_count": 5,
   "id": "abc9976b-94cc-4c22-b54f-1f6a499583d7",
   "metadata": {},
   "outputs": [
    {
     "data": {
      "text/html": [
       "<table>\n",
       "<thead><tr><th scope=col>M</th><th scope=col>So</th><th scope=col>Ed</th><th scope=col>Po1</th><th scope=col>Po2</th><th scope=col>LF</th><th scope=col>M.F</th><th scope=col>Pop</th><th scope=col>NW</th><th scope=col>U1</th><th scope=col>U2</th><th scope=col>Wealth</th><th scope=col>Ineq</th><th scope=col>Prob</th><th scope=col>Time</th><th scope=col>Crime</th></tr></thead>\n",
       "<tbody>\n",
       "\t<tr><td>numeric</td><td>integer</td><td>numeric</td><td>numeric</td><td>numeric</td><td>numeric</td><td>numeric</td><td>integer</td><td>numeric</td><td>numeric</td><td>numeric</td><td>integer</td><td>numeric</td><td>numeric</td><td>numeric</td><td>integer</td></tr>\n",
       "</tbody>\n",
       "</table>\n"
      ],
      "text/latex": [
       "\\begin{tabular}{llllllllllllllll}\n",
       " M & So & Ed & Po1 & Po2 & LF & M.F & Pop & NW & U1 & U2 & Wealth & Ineq & Prob & Time & Crime\\\\\n",
       "\\hline\n",
       "\t numeric & integer & numeric & numeric & numeric & numeric & numeric & integer & numeric & numeric & numeric & integer & numeric & numeric & numeric & integer\\\\\n",
       "\\end{tabular}\n"
      ],
      "text/markdown": [
       "\n",
       "| M | So | Ed | Po1 | Po2 | LF | M.F | Pop | NW | U1 | U2 | Wealth | Ineq | Prob | Time | Crime |\n",
       "|---|---|---|---|---|---|---|---|---|---|---|---|---|---|---|---|\n",
       "| numeric | integer | numeric | numeric | numeric | numeric | numeric | integer | numeric | numeric | numeric | integer | numeric | numeric | numeric | integer |\n",
       "\n"
      ],
      "text/plain": [
       "     M       So      Ed      Po1     Po2     LF      M.F     Pop     NW     \n",
       "[1,] numeric integer numeric numeric numeric numeric numeric integer numeric\n",
       "     U1      U2      Wealth  Ineq    Prob    Time    Crime  \n",
       "[1,] numeric numeric integer numeric numeric numeric integer"
      ]
     },
     "metadata": {},
     "output_type": "display_data"
    }
   ],
   "source": [
    "# Output the data class for each column\n",
    "t(sapply(crime_data, class))"
   ]
  },
  {
   "cell_type": "code",
   "execution_count": 6,
   "id": "34898aa2-2cf2-4d84-928f-7dd6dae995c9",
   "metadata": {},
   "outputs": [
    {
     "name": "stdout",
     "output_type": "stream",
     "text": [
      "Rows   Columns"
     ]
    },
    {
     "data": {
      "text/html": [
       "<table>\n",
       "<tbody>\n",
       "\t<tr><td>47</td><td>16</td></tr>\n",
       "</tbody>\n",
       "</table>\n"
      ],
      "text/latex": [
       "\\begin{tabular}{ll}\n",
       "\t 47 & 16\\\\\n",
       "\\end{tabular}\n"
      ],
      "text/markdown": [
       "\n",
       "| 47 | 16 |\n",
       "\n"
      ],
      "text/plain": [
       "     [,1] [,2]\n",
       "[1,] 47   16  "
      ]
     },
     "metadata": {},
     "output_type": "display_data"
    }
   ],
   "source": [
    "# Double check size of the data\n",
    "cat('Rows',' ','Columns')\n",
    "t(dim(crime_data))"
   ]
  },
  {
   "cell_type": "code",
   "execution_count": 7,
   "id": "eeefde4f-da32-403c-9efb-20b41be51479",
   "metadata": {},
   "outputs": [
    {
     "data": {
      "text/html": [
       "<dl class=dl-horizontal>\n",
       "\t<dt>nbr.val</dt>\n",
       "\t\t<dd>47</dd>\n",
       "\t<dt>nbr.null</dt>\n",
       "\t\t<dd>0</dd>\n",
       "\t<dt>nbr.na</dt>\n",
       "\t\t<dd>0</dd>\n",
       "\t<dt>min</dt>\n",
       "\t\t<dd>342</dd>\n",
       "\t<dt>max</dt>\n",
       "\t\t<dd>1993</dd>\n",
       "\t<dt>range</dt>\n",
       "\t\t<dd>1651</dd>\n",
       "\t<dt>sum</dt>\n",
       "\t\t<dd>42539</dd>\n",
       "\t<dt>median</dt>\n",
       "\t\t<dd>831</dd>\n",
       "\t<dt>mean</dt>\n",
       "\t\t<dd>905.085106382979</dd>\n",
       "\t<dt>SE.mean</dt>\n",
       "\t\t<dd>56.4151375309313</dd>\n",
       "\t<dt>CI.mean.0.95</dt>\n",
       "\t\t<dd>113.557782048446</dd>\n",
       "\t<dt>var</dt>\n",
       "\t\t<dd>149585.383903793</dd>\n",
       "\t<dt>std.dev</dt>\n",
       "\t\t<dd>386.762697146186</dd>\n",
       "\t<dt>coef.var</dt>\n",
       "\t\t<dd>0.427321910855233</dd>\n",
       "</dl>\n"
      ],
      "text/latex": [
       "\\begin{description*}\n",
       "\\item[nbr.val] 47\n",
       "\\item[nbr.null] 0\n",
       "\\item[nbr.na] 0\n",
       "\\item[min] 342\n",
       "\\item[max] 1993\n",
       "\\item[range] 1651\n",
       "\\item[sum] 42539\n",
       "\\item[median] 831\n",
       "\\item[mean] 905.085106382979\n",
       "\\item[SE.mean] 56.4151375309313\n",
       "\\item[CI.mean.0.95] 113.557782048446\n",
       "\\item[var] 149585.383903793\n",
       "\\item[std.dev] 386.762697146186\n",
       "\\item[coef.var] 0.427321910855233\n",
       "\\end{description*}\n"
      ],
      "text/markdown": [
       "nbr.val\n",
       ":   47nbr.null\n",
       ":   0nbr.na\n",
       ":   0min\n",
       ":   342max\n",
       ":   1993range\n",
       ":   1651sum\n",
       ":   42539median\n",
       ":   831mean\n",
       ":   905.085106382979SE.mean\n",
       ":   56.4151375309313CI.mean.0.95\n",
       ":   113.557782048446var\n",
       ":   149585.383903793std.dev\n",
       ":   386.762697146186coef.var\n",
       ":   0.427321910855233\n",
       "\n"
      ],
      "text/plain": [
       "     nbr.val     nbr.null       nbr.na          min          max        range \n",
       "4.700000e+01 0.000000e+00 0.000000e+00 3.420000e+02 1.993000e+03 1.651000e+03 \n",
       "         sum       median         mean      SE.mean CI.mean.0.95          var \n",
       "4.253900e+04 8.310000e+02 9.050851e+02 5.641514e+01 1.135578e+02 1.495854e+05 \n",
       "     std.dev     coef.var \n",
       "3.867627e+02 4.273219e-01 "
      ]
     },
     "metadata": {},
     "output_type": "display_data"
    }
   ],
   "source": [
    "# Get the summary statistics for the Crimes column\n",
    "stat.desc(crime_data[,16])"
   ]
  },
  {
   "attachments": {
    "fe6a9ba7-985e-4d3b-b58c-a9deb6610184.png": {
     "image/png": "[encoded data removed]"
    }
   },
   "cell_type": "markdown",
   "id": "b12c2536-3c59-4c83-b444-ade982f1c239",
   "metadata": {},
   "source": [
    "This lets me know that I have a table with 47 rows and 16 columns. The data is a combination of integer and float (numeric) values and the Crime column has a minimum value of 342 and a maximum value of 1993 giving it a range of 1651. The median and mean are 831 and 905 respectively, and the standard deviation is 386.76. Looking at the statsci.org description of the data I see it is data on the effect of punishment regimes on crime rates for 47 stats in the USA for 1960. A description of the attributes of the data taken from the website can be seen below:\n",
    "\n",
    "![image.png](attachment:fe6a9ba7-985e-4d3b-b58c-a9deb6610184.png)"
   ]
  },
  {
   "cell_type": "markdown",
   "id": "c26943aa-bc3c-4f0c-9f46-92d89e3eac6f",
   "metadata": {},
   "source": [
    "#### Step 2 - Check that the Data is Normally Distributed\n",
    "The Grubbs test only works if the data is normally distributed so before applying it I am going to check that it fits a normal distribution. I found four methods for checking the normality of a dataset at https://www.statology.org/test-for-normality-in-r/. Since they are all relatively simple and I'm interested in learning the various methods I'll try the histogram, Q-Q plot, and Shapiro-Wilk Test. I am not running the Kolmogorov–Smirnov test because it is used for data with n ≥ 50 and our dataset has n = 47."
   ]
  },
  {
   "cell_type": "markdown",
   "id": "aa4e8595-b869-4bb5-920a-890b9082502d",
   "metadata": {},
   "source": [
    "##### Option 1 - Histogram"
   ]
  },
  {
   "cell_type": "code",
   "execution_count": 8,
   "id": "0891834d-4687-4800-877d-e89c7f791161",
   "metadata": {},
   "outputs": [
    {
     "data": {
      "image/png": "[encoded data removed]",
      "text/plain": [
       "Plot with title \"Histogram of crime_data[, 16]\""
      ]
     },
     "metadata": {},
     "output_type": "display_data"
    }
   ],
   "source": [
    "# Plot historgram\n",
    "hist(crime_data[,16], col='steelblue')"
   ]
  },
  {
   "cell_type": "markdown",
   "id": "da79c96c-3019-438d-ac81-9a8420ac7ad2",
   "metadata": {},
   "source": [
    "##### Option 2 - Create a Q-Q Plot"
   ]
  },
  {
   "cell_type": "code",
   "execution_count": 9,
   "id": "84d038aa-3dda-46b3-a0ee-7e84d6352bcc",
   "metadata": {},
   "outputs": [
    {
     "data": {
      "image/png": "[encoded data removed]",
      "text/plain": [
       "Plot with title \"Normal Q-Q Plot\""
      ]
     },
     "metadata": {},
     "output_type": "display_data"
    }
   ],
   "source": [
    "qqnorm(crime_data[,16])\n",
    "qqline(crime_data[,16])"
   ]
  },
  {
   "cell_type": "markdown",
   "id": "930f2983-5b22-41c9-9183-0512c83678ef",
   "metadata": {},
   "source": [
    "##### Option 3 - Perform a Shapiro-Wilk Test"
   ]
  },
  {
   "cell_type": "code",
   "execution_count": 10,
   "id": "99e59b90-782a-48e1-83b1-63cce08c08b1",
   "metadata": {},
   "outputs": [
    {
     "data": {
      "text/plain": [
       "\n",
       "\tShapiro-Wilk normality test\n",
       "\n",
       "data:  crime_data[, 16]\n",
       "W = 0.91273, p-value = 0.001882\n"
      ]
     },
     "metadata": {},
     "output_type": "display_data"
    }
   ],
   "source": [
    "shapiro.test(crime_data[,16])"
   ]
  },
  {
   "cell_type": "markdown",
   "id": "08937b9b-27d3-4e12-9ddf-c54b8fdcdcb3",
   "metadata": {},
   "source": [
    "After reviewing the results of all three tests, it's clear that the values actually indicate that our **data is not normally distributed and therefore the Grubbs test should not be used**. The histogram has a general bell shape but does show higher density at the lower values, the Q-Q plot shows that some of the values start to diverge from the QQ line at the higher values, and the Shapiro-Wilk test gave small p-values that indicate the data might not be normally distributed. All three tests indicate that our data is not normally distributed and therefore using the Grubbs test would not be appropriate. That means that it might be appropriate to use a transformation technique on the data to insure a normal distribution for the Grubbs test or use a different test to look for outliers. However, for the purpose of this homework I am going to move forward with the Grubbs test without performing any transformations and then again after transforming the results to see the difference. I am also going to try a few different outlier detection methods."
   ]
  },
  {
   "cell_type": "markdown",
   "id": "8fafc1e5-1aae-41d9-ac2f-18631664a64c",
   "metadata": {},
   "source": [
    "#### Step 3 - Run the Grubbs Test for the Maximum and Minimum Values\n",
    "Next I will run the Grubbs test for both the maximum and minimum value, the Grubbs test can also check for two outliers on opposite tails and for two outliers in one tail (only works on n between 3-30) but I am not including those in this analysis. "
   ]
  },
  {
   "cell_type": "code",
   "execution_count": 11,
   "id": "3c3bfaec-4bfa-4527-84ac-2108169a2abd",
   "metadata": {},
   "outputs": [
    {
     "data": {
      "text/plain": [
       "\n",
       "\tGrubbs test for one outlier\n",
       "\n",
       "data:  crime_data[, 16]\n",
       "G = 1.45589, U = 0.95292, p-value = 1\n",
       "alternative hypothesis: lowest value 342 is an outlier\n"
      ]
     },
     "metadata": {},
     "output_type": "display_data"
    }
   ],
   "source": [
    "# Check the minimum value\n",
    "grubbs.test(crime_data[,16], type = 10, opposite = TRUE)"
   ]
  },
  {
   "cell_type": "code",
   "execution_count": 12,
   "id": "32f1e650-a6c2-45c3-9f47-5a4a9fdf8d19",
   "metadata": {},
   "outputs": [
    {
     "data": {
      "text/plain": [
       "\n",
       "\tGrubbs test for one outlier\n",
       "\n",
       "data:  crime_data[, 16]\n",
       "G = 2.81287, U = 0.82426, p-value = 0.07887\n",
       "alternative hypothesis: highest value 1993 is an outlier\n"
      ]
     },
     "metadata": {},
     "output_type": "display_data"
    }
   ],
   "source": [
    "# Check the maximum value\n",
    "grubbs.test(crime_data[,16], type = 10)"
   ]
  },
  {
   "cell_type": "markdown",
   "id": "42bd1e1a-492c-4c85-a0cb-63b5f728c5e2",
   "metadata": {},
   "source": [
    "#### Step 4 - Interpret the Results of the Tests\n",
    "Looking at the output from the Grubbs test for the minimum value it is clear that it is not an outlier, the p-value is 1 and would need to be < 0.05 to reject the null hypothesis at the common significance level of 5%. The maximum value requires more analysis, we are able to choose the significance level (typically α = 0.05 is used). The p-value we get of 0.07887 is above the typical significance level so would mean that we would accept the null hypothesis and wouldn't be able to conclude that the maximum value is an outlier. If I decided to use a larger significance level (for example α = 0.1) I would need to check what the Grubbs' critical value is for our sample size. Looking at the table at http://www.sediment.uni-goettingen.de/staff/dunkl/software/pep-grubbs.pdf, it shows that the G value would need to be greater than 0 which it is. As a result, I can conclude that the maximum value is an outlier at the 0.1 significance level. All of this is irrelevant because the data is not normally distributed but provided good insight into the Grubbs test and it's implementation."
   ]
  },
  {
   "cell_type": "markdown",
   "id": "1de01b0c-be6f-40af-a278-54a95d17b2ab",
   "metadata": {},
   "source": [
    "#### Step 5 - Box and Whisker Plot\n",
    "Lastly, I want to visualize the distribution of the data with a box and whisker plot to see how it compares to the Grubs test results."
   ]
  },
  {
   "cell_type": "code",
   "execution_count": 13,
   "id": "48a1a315-b05f-4bae-8134-5d6408d8bc8b",
   "metadata": {},
   "outputs": [
    {
     "data": {
      "image/png": "[encoded data removed]",
      "text/plain": [
       "plot without title"
      ]
     },
     "metadata": {},
     "output_type": "display_data"
    }
   ],
   "source": [
    "boxplot(crime_data[,16], pch=16, horizontal = TRUE)"
   ]
  },
  {
   "cell_type": "markdown",
   "id": "a3e11742-9417-4f6c-8530-9d3da95ff7b7",
   "metadata": {},
   "source": [
    "#### Conclusion\n",
    "Looking at the box and whisker plot the three largest values would be considered outliers from a stastical standpoint, however when looking at the Grubbs test they would only be considered such at a very high signifance level (α >= 0.1). Furthermore, when looking at what the data represents it is logical that their would be a few states with significantly higher crime rates. And not including a state in the dataset wouldn't make sense regardless of what the Grubbs test told us as the purpose of the dataset is to see the variation in crime rates for each state."
   ]
  },
  {
   "cell_type": "markdown",
   "id": "b792eb23-818b-40f4-85d5-18ffa937de6f",
   "metadata": {},
   "source": [
    "### Redo with Normalized Data\n",
    "Since the original dataset didn't meet the requirements of having a normal distribution for the Grubbs test, I am going to normalize the data and try running the test again. Their are multiple ways to normalize the data, some of the ones I found were using log transformations, standard scaling, min-max scaling, and Z-score standardization. I am going to use logarithmic transformations and follow the steps below to see how it effects the results of the grubbs test:\n",
    "1) Normalize the data using logarithmic transformations\n",
    "2) Check that the data is normally distributed\n",
    "3) Run the Grubbs test for the maximum and minimum values\n",
    "4) Interpret the results of the test and decide if any of the points are outliers\n",
    "5) Examine the data distribution visually with a box and whisker plot"
   ]
  },
  {
   "cell_type": "markdown",
   "id": "46dd28d5-4e37-4038-9d46-0b1e88ab0930",
   "metadata": {},
   "source": [
    "#### Step 1 - Normalize the data\n",
    "I am going to apply a logarithmic transformation on the crime data to achieve a normal distribution."
   ]
  },
  {
   "cell_type": "code",
   "execution_count": 14,
   "id": "eb511cc8-ed83-4530-b46a-79d24eacde85",
   "metadata": {},
   "outputs": [],
   "source": [
    "n_data <- log(crime_data[,16])"
   ]
  },
  {
   "cell_type": "markdown",
   "id": "3d572f68-aa6c-4997-b1fc-a07a4fafa2c5",
   "metadata": {},
   "source": [
    "#### Step 2 - Check that the Data is Normally Distributed\n",
    "Next I am going to run all four tests that I had previously to see if the data is normally distributed after the logarithmic transformation."
   ]
  },
  {
   "cell_type": "markdown",
   "id": "57808d11-23f0-4e94-b415-7cd6991c0064",
   "metadata": {},
   "source": [
    "##### Option 1 - Histogram"
   ]
  },
  {
   "cell_type": "code",
   "execution_count": 15,
   "id": "574ae4ad-c1e3-458b-8358-16a529720f76",
   "metadata": {},
   "outputs": [
    {
     "data": {
      "image/png": "[encoded data removed]",
      "text/plain": [
       "Plot with title \"Histogram of n_data\""
      ]
     },
     "metadata": {},
     "output_type": "display_data"
    }
   ],
   "source": [
    "# Plot historgram\n",
    "hist(n_data, col='steelblue')"
   ]
  },
  {
   "cell_type": "markdown",
   "id": "ef0bd8b2-e8aa-488e-a59a-0185165d69ae",
   "metadata": {},
   "source": [
    "##### Option 2 - Create a Q-Q Plot"
   ]
  },
  {
   "cell_type": "code",
   "execution_count": 16,
   "id": "fbd03625-8d35-4137-a13b-afbf5df99c84",
   "metadata": {},
   "outputs": [
    {
     "data": {
      "image/png": "[encoded data removed]",
      "text/plain": [
       "Plot with title \"Normal Q-Q Plot\""
      ]
     },
     "metadata": {},
     "output_type": "display_data"
    }
   ],
   "source": [
    "qqnorm(n_data)\n",
    "qqline(n_data)"
   ]
  },
  {
   "cell_type": "markdown",
   "id": "8018f6ca-0168-4d3c-b2ba-8975ef0a5631",
   "metadata": {},
   "source": [
    "##### Option 3 - Perform a Shapiro-Wilk Test"
   ]
  },
  {
   "cell_type": "code",
   "execution_count": 17,
   "id": "d48db421-bd98-424a-af95-d3f2b7942ccc",
   "metadata": {},
   "outputs": [
    {
     "data": {
      "text/plain": [
       "\n",
       "\tShapiro-Wilk normality test\n",
       "\n",
       "data:  n_data\n",
       "W = 0.98709, p-value = 0.8778\n"
      ]
     },
     "metadata": {},
     "output_type": "display_data"
    }
   ],
   "source": [
    "shapiro.test(n_data)"
   ]
  },
  {
   "cell_type": "markdown",
   "id": "a05fefe5-5181-44ea-9ae8-66ddfd3fcb45",
   "metadata": {},
   "source": [
    "After reviewing the results I can see that the data is now normally distributed. The histogram shows a true bell curve shape, the QQ-plot shows that most of the points are centered around the QQ-line, and the p-value fromt eh Shapiro-Wilks test is above 0.05."
   ]
  },
  {
   "cell_type": "markdown",
   "id": "10cbebce-3e1a-4d10-a53a-8038819d5d78",
   "metadata": {},
   "source": [
    "#### Step 3 - Run the Grubbs Test for the Maximum and Minimum Values\n",
    "Next I will run the Grubbs test for both the maximum and minimum value using the normalized dataset, the Grubbs test can also check for two outliers on opposite tails and for two outliers in one tail (only works on n between 3-30) but I am not including those in this analysis."
   ]
  },
  {
   "cell_type": "code",
   "execution_count": 18,
   "id": "89d43584-fd8d-46d8-abfe-1a811688e9c9",
   "metadata": {},
   "outputs": [
    {
     "data": {
      "text/plain": [
       "\n",
       "\tGrubbs test for one outlier\n",
       "\n",
       "data:  n_data\n",
       "G = 2.12247, U = 0.89994, p-value = 0.712\n",
       "alternative hypothesis: highest value 7.59739632021279 is an outlier\n"
      ]
     },
     "metadata": {},
     "output_type": "display_data"
    }
   ],
   "source": [
    "# Check the minimum value\n",
    "grubbs.test(n_data, type = 10, opposite = TRUE)"
   ]
  },
  {
   "cell_type": "code",
   "execution_count": 19,
   "id": "1816f0ec-09a5-4698-9be6-b9b1b237e49a",
   "metadata": {},
   "outputs": [
    {
     "data": {
      "text/plain": [
       "\n",
       "\tGrubbs test for one outlier\n",
       "\n",
       "data:  n_data\n",
       "G = 2.16544, U = 0.89585, p-value = 0.6329\n",
       "alternative hypothesis: lowest value 5.8348107370626 is an outlier\n"
      ]
     },
     "metadata": {},
     "output_type": "display_data"
    }
   ],
   "source": [
    "# Check the maximum value\n",
    "grubbs.test(n_data, type = 10)"
   ]
  },
  {
   "cell_type": "markdown",
   "id": "7c08159c-5b71-4448-9461-79c5dd1e0292",
   "metadata": {},
   "source": [
    "#### Step 4 - Interpret the Results of the Tests\n",
    "Looking at the output from the Grubbs test for the minimum value it is clear that it is not an outlier, the p-value is 0.712 and would need to be < 0.05 to reject the null hypothesis at a significance level of 5%. The maximum value showed similar results, the p-value is 0.6329 which again is far too large to reject the null hypothesis."
   ]
  },
  {
   "cell_type": "markdown",
   "id": "f7403b4b-6e07-408e-824d-aac72e97c53b",
   "metadata": {},
   "source": [
    "#### Step 5 - Box and Whisker Plot\n",
    "Lastly, I want to visualize the distribution of the normalized data with a box and whisker plot to see how it compares to the Grubs test results."
   ]
  },
  {
   "cell_type": "code",
   "execution_count": 20,
   "id": "98d70fb7-d084-4034-8e4f-676de546f7be",
   "metadata": {},
   "outputs": [
    {
     "data": {
      "image/png": "[encoded data removed]",
      "text/plain": [
       "plot without title"
      ]
     },
     "metadata": {},
     "output_type": "display_data"
    }
   ],
   "source": [
    "boxplot(n_data, pch=16, horizontal = TRUE)"
   ]
  },
  {
   "cell_type": "markdown",
   "id": "22047a08-7d3b-4f96-8a2b-7659918d68cb",
   "metadata": {},
   "source": [
    "### Hampel Filter Method to Detect Outliers\n",
    "Lastly, I am going to try to use the Hampel Filter method on the original dataset to see if it detects any outliers. I found information about this method at https://statsandr.com/blog/outliers-detection-in-r/#statistical-tests. It essentially states that a point is considered an outlier if it is outside the interval (I) formed by the median, plus or minus 3 median absolute deviations. It is given by the equation:\n",
    "$$ I = [median - 3 * MAD; median + 3 * MAD] $$\n",
    "Where MAD is the absolute deviation and is defined as:\n",
    "$$ MAD = median([Xi - Xmedian]) $$"
   ]
  },
  {
   "cell_type": "code",
   "execution_count": 21,
   "id": "59895849-450a-49c3-9400-080fcf0d63e6",
   "metadata": {},
   "outputs": [
    {
     "name": "stdout",
     "output_type": "stream",
     "text": [
      "Lower bound is: 195 Upper bound is: 1467"
     ]
    }
   ],
   "source": [
    "lower_bound <- median(crime_data[,16]) - 3 * mad(crime_data[,16], constant = 1)\n",
    "upper_bound <- median(crime_data[,16]) + 3 * mad(crime_data[,16], constant = 1)\n",
    "cat(\"Lower bound is:\", lower_bound, \"Upper bound is:\", upper_bound)"
   ]
  },
  {
   "cell_type": "markdown",
   "id": "e48d2318-e2cd-429c-96d4-6742700ba22d",
   "metadata": {},
   "source": [
    "According to this method, all observations below 195 and above 1467 could be an outlier. This does indicate we have several potential outliers. These point would warrent further inspection but like stated in the conclusion above, due to the nature of the dataset it is unlikely that we would make any changes to the dataset. Looking at our data the following indices are for values that fall outside of the determined range:"
   ]
  },
  {
   "cell_type": "code",
   "execution_count": 22,
   "id": "2af20ad9-883f-4f35-a2ef-bb986cda1ee1",
   "metadata": {},
   "outputs": [
    {
     "data": {
      "text/html": [
       "<table>\n",
       "<thead><tr><th></th><th scope=col>M</th><th scope=col>So</th><th scope=col>Ed</th><th scope=col>Po1</th><th scope=col>Po2</th><th scope=col>LF</th><th scope=col>M.F</th><th scope=col>Pop</th><th scope=col>NW</th><th scope=col>U1</th><th scope=col>U2</th><th scope=col>Wealth</th><th scope=col>Ineq</th><th scope=col>Prob</th><th scope=col>Time</th><th scope=col>Crime</th></tr></thead>\n",
       "<tbody>\n",
       "\t<tr><th scope=row>2</th><td>14.3    </td><td>0       </td><td>11.3    </td><td>10.3    </td><td> 9.5    </td><td>0.583   </td><td>101.2   </td><td> 13     </td><td>10.2    </td><td>0.096   </td><td>3.6     </td><td>5570    </td><td>19.4    </td><td>0.029599</td><td>25.2999 </td><td>1635    </td></tr>\n",
       "\t<tr><th scope=row>4</th><td>13.6    </td><td>0       </td><td>12.1    </td><td>14.9    </td><td>14.1    </td><td>0.577   </td><td> 99.4   </td><td>157     </td><td> 8.0    </td><td>0.102   </td><td>3.9     </td><td>6730    </td><td>16.7    </td><td>0.015801</td><td>29.9012 </td><td>1969    </td></tr>\n",
       "\t<tr><th scope=row>8</th><td>13.1    </td><td>1       </td><td>10.9    </td><td>11.5    </td><td>10.9    </td><td>0.542   </td><td> 96.9   </td><td> 50     </td><td>17.9    </td><td>0.079   </td><td>3.5     </td><td>4720    </td><td>20.6    </td><td>0.040099</td><td>24.5988 </td><td>1555    </td></tr>\n",
       "\t<tr><th scope=row>11</th><td>12.4    </td><td>0       </td><td>10.5    </td><td>12.1    </td><td>11.6    </td><td>0.580   </td><td> 96.6   </td><td>101     </td><td>10.6    </td><td>0.077   </td><td>3.5     </td><td>6570    </td><td>17.0    </td><td>0.016201</td><td>41.6000 </td><td>1674    </td></tr>\n",
       "\t<tr><th scope=row>26</th><td>13.1    </td><td>0       </td><td>12.1    </td><td>16.0    </td><td>14.3    </td><td>0.631   </td><td>107.1   </td><td>  3     </td><td> 7.7    </td><td>0.102   </td><td>4.1     </td><td>6740    </td><td>15.2    </td><td>0.041698</td><td>22.1005 </td><td>1993    </td></tr>\n",
       "</tbody>\n",
       "</table>\n"
      ],
      "text/latex": [
       "\\begin{tabular}{r|llllllllllllllll}\n",
       "  & M & So & Ed & Po1 & Po2 & LF & M.F & Pop & NW & U1 & U2 & Wealth & Ineq & Prob & Time & Crime\\\\\n",
       "\\hline\n",
       "\t2 & 14.3     & 0        & 11.3     & 10.3     &  9.5     & 0.583    & 101.2    &  13      & 10.2     & 0.096    & 3.6      & 5570     & 19.4     & 0.029599 & 25.2999  & 1635    \\\\\n",
       "\t4 & 13.6     & 0        & 12.1     & 14.9     & 14.1     & 0.577    &  99.4    & 157      &  8.0     & 0.102    & 3.9      & 6730     & 16.7     & 0.015801 & 29.9012  & 1969    \\\\\n",
       "\t8 & 13.1     & 1        & 10.9     & 11.5     & 10.9     & 0.542    &  96.9    &  50      & 17.9     & 0.079    & 3.5      & 4720     & 20.6     & 0.040099 & 24.5988  & 1555    \\\\\n",
       "\t11 & 12.4     & 0        & 10.5     & 12.1     & 11.6     & 0.580    &  96.6    & 101      & 10.6     & 0.077    & 3.5      & 6570     & 17.0     & 0.016201 & 41.6000  & 1674    \\\\\n",
       "\t26 & 13.1     & 0        & 12.1     & 16.0     & 14.3     & 0.631    & 107.1    &   3      &  7.7     & 0.102    & 4.1      & 6740     & 15.2     & 0.041698 & 22.1005  & 1993    \\\\\n",
       "\\end{tabular}\n"
      ],
      "text/markdown": [
       "\n",
       "| <!--/--> | M | So | Ed | Po1 | Po2 | LF | M.F | Pop | NW | U1 | U2 | Wealth | Ineq | Prob | Time | Crime |\n",
       "|---|---|---|---|---|---|---|---|---|---|---|---|---|---|---|---|---|\n",
       "| 2 | 14.3     | 0        | 11.3     | 10.3     |  9.5     | 0.583    | 101.2    |  13      | 10.2     | 0.096    | 3.6      | 5570     | 19.4     | 0.029599 | 25.2999  | 1635     |\n",
       "| 4 | 13.6     | 0        | 12.1     | 14.9     | 14.1     | 0.577    |  99.4    | 157      |  8.0     | 0.102    | 3.9      | 6730     | 16.7     | 0.015801 | 29.9012  | 1969     |\n",
       "| 8 | 13.1     | 1        | 10.9     | 11.5     | 10.9     | 0.542    |  96.9    |  50      | 17.9     | 0.079    | 3.5      | 4720     | 20.6     | 0.040099 | 24.5988  | 1555     |\n",
       "| 11 | 12.4     | 0        | 10.5     | 12.1     | 11.6     | 0.580    |  96.6    | 101      | 10.6     | 0.077    | 3.5      | 6570     | 17.0     | 0.016201 | 41.6000  | 1674     |\n",
       "| 26 | 13.1     | 0        | 12.1     | 16.0     | 14.3     | 0.631    | 107.1    |   3      |  7.7     | 0.102    | 4.1      | 6740     | 15.2     | 0.041698 | 22.1005  | 1993     |\n",
       "\n"
      ],
      "text/plain": [
       "   M    So Ed   Po1  Po2  LF    M.F   Pop NW   U1    U2  Wealth Ineq Prob    \n",
       "2  14.3 0  11.3 10.3  9.5 0.583 101.2  13 10.2 0.096 3.6 5570   19.4 0.029599\n",
       "4  13.6 0  12.1 14.9 14.1 0.577  99.4 157  8.0 0.102 3.9 6730   16.7 0.015801\n",
       "8  13.1 1  10.9 11.5 10.9 0.542  96.9  50 17.9 0.079 3.5 4720   20.6 0.040099\n",
       "11 12.4 0  10.5 12.1 11.6 0.580  96.6 101 10.6 0.077 3.5 6570   17.0 0.016201\n",
       "26 13.1 0  12.1 16.0 14.3 0.631 107.1   3  7.7 0.102 4.1 6740   15.2 0.041698\n",
       "   Time    Crime\n",
       "2  25.2999 1635 \n",
       "4  29.9012 1969 \n",
       "8  24.5988 1555 \n",
       "11 41.6000 1674 \n",
       "26 22.1005 1993 "
      ]
     },
     "metadata": {},
     "output_type": "display_data"
    }
   ],
   "source": [
    "outlier_ind <- which(crime_data[,16] < lower_bound | crime_data[,16] > upper_bound)\n",
    "crime_data[outlier_ind, ]"
   ]
  },
  {
   "cell_type": "markdown",
   "id": "eaf9090c-b0c5-45d3-93f0-dd22ac265064",
   "metadata": {},
   "source": [
    "### Question 6.1\n",
    "> Describe a situation or problem from your job, everyday life, current events, etc., for which a Change \n",
    "Detection model would be appropriate. Applying the CUSUM technique, how would you choose th \r\n",
    "critical value and the threshold?"
   ]
  },
  {
   "cell_type": "markdown",
   "id": "ea38bf3e-03c9-4dc6-9564-14ffb909ea2a",
   "metadata": {},
   "source": [
    "In the education sector the CUSUM technique could be used to help identify students that are starting perform worse academically. K-12 schools typically have processes in place to provide interventions for students that are failing many classes but don't typically have processes for identifying students that are declining in grades if they aren't failing. Students that typically get all A's or B's for example are often missed until they have declined to the point of failing classes. A decline in grades is often a result of an extenuating circumstance that schools can often help address. By creating change detection models that identify students that are declining academically regardless of if they are failing classes or not would be incredibly beneficial."
   ]
  },
  {
   "cell_type": "markdown",
   "id": "c825d394-f1ed-4bb5-8be0-25221b84f165",
   "metadata": {},
   "source": [
    "### Question 6.2\n",
    "> 1) Using July through October daily-high-temperature data for Atlanta for 1996 through 2015, use a CUSUM approach to identify when unofficial summer ends (i.e., when the weather starts cooling off) each year.\n",
    "> 2) Use a CUSUM approach to make a judgment of whether Atlanta’s summer climate has gotten warmer in that time (and if so, when)."
   ]
  },
  {
   "cell_type": "markdown",
   "id": "aeeb3b7f-5a09-4ee9-9b20-37c2f78b8c4f",
   "metadata": {},
   "source": [
    "#### Question 6.2 - Part 1\n",
    "The first part of this question is to apply the CUSUM method to the daily temperatures to see if their is a definitive drop in temperatures that would indicate the end of summer. Their is a CUSUM package in R but I am going to do it by hand to get better practice and deeper understanding of the mode. To do this I am going to go through the following steps:\n",
    "1) Review the data to get a better understanding of its characterstics\n",
    "2) Compute the average temperature for each day across all years\n",
    "3) Determine the mean temperature and the model parameters T and C\n",
    "4) Compute the cumulative sum St\n",
    "5) Interpret the results"
   ]
  },
  {
   "cell_type": "markdown",
   "id": "09e66e0b-b350-451b-b0ea-2bb0a5c3ea3c",
   "metadata": {},
   "source": [
    "#### Step 1 - Review the Data"
   ]
  },
  {
   "cell_type": "code",
   "execution_count": 23,
   "id": "432d320d-f550-4829-8fff-a84369ccd31d",
   "metadata": {},
   "outputs": [],
   "source": [
    "# Load the data\n",
    "temps_data <- read.table(\"temps.txt\", header = TRUE)\n",
    "temps_data$DAY <- factor(temps_data$DAY, levels = temps_data$DAY)"
   ]
  },
  {
   "cell_type": "code",
   "execution_count": 24,
   "id": "b4a3192f-7a56-4972-bc5b-330da2562171",
   "metadata": {},
   "outputs": [
    {
     "data": {
      "text/html": [
       "<table>\n",
       "<thead><tr><th scope=col>DAY</th><th scope=col>X1996</th><th scope=col>X1997</th><th scope=col>X1998</th><th scope=col>X1999</th><th scope=col>X2000</th><th scope=col>X2001</th><th scope=col>X2002</th><th scope=col>X2003</th><th scope=col>X2004</th><th scope=col>...</th><th scope=col>X2006</th><th scope=col>X2007</th><th scope=col>X2008</th><th scope=col>X2009</th><th scope=col>X2010</th><th scope=col>X2011</th><th scope=col>X2012</th><th scope=col>X2013</th><th scope=col>X2014</th><th scope=col>X2015</th></tr></thead>\n",
       "<tbody>\n",
       "\t<tr><td>1-Jul</td><td>98   </td><td>86   </td><td>91   </td><td>84   </td><td>89   </td><td>84   </td><td>90   </td><td>73   </td><td>82   </td><td>...  </td><td>93   </td><td>95   </td><td>85   </td><td>95   </td><td>87   </td><td>92   </td><td>105  </td><td>82   </td><td>90   </td><td>85   </td></tr>\n",
       "\t<tr><td>2-Jul</td><td>97   </td><td>90   </td><td>88   </td><td>82   </td><td>91   </td><td>87   </td><td>90   </td><td>81   </td><td>81   </td><td>...  </td><td>93   </td><td>85   </td><td>87   </td><td>90   </td><td>84   </td><td>94   </td><td> 93  </td><td>85   </td><td>93   </td><td>87   </td></tr>\n",
       "\t<tr><td>3-Jul</td><td>97   </td><td>93   </td><td>91   </td><td>87   </td><td>93   </td><td>87   </td><td>87   </td><td>87   </td><td>86   </td><td>...  </td><td>93   </td><td>82   </td><td>91   </td><td>89   </td><td>83   </td><td>95   </td><td> 99  </td><td>76   </td><td>87   </td><td>79   </td></tr>\n",
       "\t<tr><td>4-Jul</td><td>90   </td><td>91   </td><td>91   </td><td>88   </td><td>95   </td><td>84   </td><td>89   </td><td>86   </td><td>88   </td><td>...  </td><td>91   </td><td>86   </td><td>90   </td><td>91   </td><td>85   </td><td>92   </td><td> 98  </td><td>77   </td><td>84   </td><td>85   </td></tr>\n",
       "\t<tr><td>5-Jul</td><td>89   </td><td>84   </td><td>91   </td><td>90   </td><td>96   </td><td>86   </td><td>93   </td><td>80   </td><td>90   </td><td>...  </td><td>90   </td><td>88   </td><td>88   </td><td>80   </td><td>88   </td><td>90   </td><td>100  </td><td>83   </td><td>86   </td><td>84   </td></tr>\n",
       "\t<tr><td>6-Jul</td><td>93   </td><td>84   </td><td>89   </td><td>91   </td><td>96   </td><td>87   </td><td>93   </td><td>84   </td><td>90   </td><td>...  </td><td>81   </td><td>87   </td><td>82   </td><td>87   </td><td>89   </td><td>90   </td><td> 98  </td><td>83   </td><td>87   </td><td>84   </td></tr>\n",
       "</tbody>\n",
       "</table>\n"
      ],
      "text/latex": [
       "\\begin{tabular}{r|lllllllllllllllllllll}\n",
       " DAY & X1996 & X1997 & X1998 & X1999 & X2000 & X2001 & X2002 & X2003 & X2004 & ... & X2006 & X2007 & X2008 & X2009 & X2010 & X2011 & X2012 & X2013 & X2014 & X2015\\\\\n",
       "\\hline\n",
       "\t 1-Jul & 98    & 86    & 91    & 84    & 89    & 84    & 90    & 73    & 82    & ...   & 93    & 95    & 85    & 95    & 87    & 92    & 105   & 82    & 90    & 85   \\\\\n",
       "\t 2-Jul & 97    & 90    & 88    & 82    & 91    & 87    & 90    & 81    & 81    & ...   & 93    & 85    & 87    & 90    & 84    & 94    &  93   & 85    & 93    & 87   \\\\\n",
       "\t 3-Jul & 97    & 93    & 91    & 87    & 93    & 87    & 87    & 87    & 86    & ...   & 93    & 82    & 91    & 89    & 83    & 95    &  99   & 76    & 87    & 79   \\\\\n",
       "\t 4-Jul & 90    & 91    & 91    & 88    & 95    & 84    & 89    & 86    & 88    & ...   & 91    & 86    & 90    & 91    & 85    & 92    &  98   & 77    & 84    & 85   \\\\\n",
       "\t 5-Jul & 89    & 84    & 91    & 90    & 96    & 86    & 93    & 80    & 90    & ...   & 90    & 88    & 88    & 80    & 88    & 90    & 100   & 83    & 86    & 84   \\\\\n",
       "\t 6-Jul & 93    & 84    & 89    & 91    & 96    & 87    & 93    & 84    & 90    & ...   & 81    & 87    & 82    & 87    & 89    & 90    &  98   & 83    & 87    & 84   \\\\\n",
       "\\end{tabular}\n"
      ],
      "text/markdown": [
       "\n",
       "| DAY | X1996 | X1997 | X1998 | X1999 | X2000 | X2001 | X2002 | X2003 | X2004 | ... | X2006 | X2007 | X2008 | X2009 | X2010 | X2011 | X2012 | X2013 | X2014 | X2015 |\n",
       "|---|---|---|---|---|---|---|---|---|---|---|---|---|---|---|---|---|---|---|---|---|\n",
       "| 1-Jul | 98    | 86    | 91    | 84    | 89    | 84    | 90    | 73    | 82    | ...   | 93    | 95    | 85    | 95    | 87    | 92    | 105   | 82    | 90    | 85    |\n",
       "| 2-Jul | 97    | 90    | 88    | 82    | 91    | 87    | 90    | 81    | 81    | ...   | 93    | 85    | 87    | 90    | 84    | 94    |  93   | 85    | 93    | 87    |\n",
       "| 3-Jul | 97    | 93    | 91    | 87    | 93    | 87    | 87    | 87    | 86    | ...   | 93    | 82    | 91    | 89    | 83    | 95    |  99   | 76    | 87    | 79    |\n",
       "| 4-Jul | 90    | 91    | 91    | 88    | 95    | 84    | 89    | 86    | 88    | ...   | 91    | 86    | 90    | 91    | 85    | 92    |  98   | 77    | 84    | 85    |\n",
       "| 5-Jul | 89    | 84    | 91    | 90    | 96    | 86    | 93    | 80    | 90    | ...   | 90    | 88    | 88    | 80    | 88    | 90    | 100   | 83    | 86    | 84    |\n",
       "| 6-Jul | 93    | 84    | 89    | 91    | 96    | 87    | 93    | 84    | 90    | ...   | 81    | 87    | 82    | 87    | 89    | 90    |  98   | 83    | 87    | 84    |\n",
       "\n"
      ],
      "text/plain": [
       "  DAY   X1996 X1997 X1998 X1999 X2000 X2001 X2002 X2003 X2004 ... X2006 X2007\n",
       "1 1-Jul 98    86    91    84    89    84    90    73    82    ... 93    95   \n",
       "2 2-Jul 97    90    88    82    91    87    90    81    81    ... 93    85   \n",
       "3 3-Jul 97    93    91    87    93    87    87    87    86    ... 93    82   \n",
       "4 4-Jul 90    91    91    88    95    84    89    86    88    ... 91    86   \n",
       "5 5-Jul 89    84    91    90    96    86    93    80    90    ... 90    88   \n",
       "6 6-Jul 93    84    89    91    96    87    93    84    90    ... 81    87   \n",
       "  X2008 X2009 X2010 X2011 X2012 X2013 X2014 X2015\n",
       "1 85    95    87    92    105   82    90    85   \n",
       "2 87    90    84    94     93   85    93    87   \n",
       "3 91    89    83    95     99   76    87    79   \n",
       "4 90    91    85    92     98   77    84    85   \n",
       "5 88    80    88    90    100   83    86    84   \n",
       "6 82    87    89    90     98   83    87    84   "
      ]
     },
     "metadata": {},
     "output_type": "display_data"
    }
   ],
   "source": [
    "# Look at the data, only displaying the first 6 rows for this report\n",
    "head(temps_data)"
   ]
  },
  {
   "cell_type": "code",
   "execution_count": 25,
   "id": "c18c1d53-6594-494b-bb76-b7a40b8c1370",
   "metadata": {},
   "outputs": [
    {
     "data": {
      "text/html": [
       "<table>\n",
       "<thead><tr><th scope=col>DAY</th><th scope=col>X1996</th><th scope=col>X1997</th><th scope=col>X1998</th><th scope=col>X1999</th><th scope=col>X2000</th><th scope=col>X2001</th><th scope=col>X2002</th><th scope=col>X2003</th><th scope=col>X2004</th><th scope=col>...</th><th scope=col>X2006</th><th scope=col>X2007</th><th scope=col>X2008</th><th scope=col>X2009</th><th scope=col>X2010</th><th scope=col>X2011</th><th scope=col>X2012</th><th scope=col>X2013</th><th scope=col>X2014</th><th scope=col>X2015</th></tr></thead>\n",
       "<tbody>\n",
       "\t<tr><td>factor </td><td>integer</td><td>integer</td><td>integer</td><td>integer</td><td>integer</td><td>integer</td><td>integer</td><td>integer</td><td>integer</td><td>...    </td><td>integer</td><td>integer</td><td>integer</td><td>integer</td><td>integer</td><td>integer</td><td>integer</td><td>integer</td><td>integer</td><td>integer</td></tr>\n",
       "</tbody>\n",
       "</table>\n"
      ],
      "text/latex": [
       "\\begin{tabular}{lllllllllllllllllllll}\n",
       " DAY & X1996 & X1997 & X1998 & X1999 & X2000 & X2001 & X2002 & X2003 & X2004 & ... & X2006 & X2007 & X2008 & X2009 & X2010 & X2011 & X2012 & X2013 & X2014 & X2015\\\\\n",
       "\\hline\n",
       "\t factor  & integer & integer & integer & integer & integer & integer & integer & integer & integer & ...     & integer & integer & integer & integer & integer & integer & integer & integer & integer & integer\\\\\n",
       "\\end{tabular}\n"
      ],
      "text/markdown": [
       "\n",
       "| DAY | X1996 | X1997 | X1998 | X1999 | X2000 | X2001 | X2002 | X2003 | X2004 | ... | X2006 | X2007 | X2008 | X2009 | X2010 | X2011 | X2012 | X2013 | X2014 | X2015 |\n",
       "|---|---|---|---|---|---|---|---|---|---|---|---|---|---|---|---|---|---|---|---|---|\n",
       "| factor  | integer | integer | integer | integer | integer | integer | integer | integer | integer | ...     | integer | integer | integer | integer | integer | integer | integer | integer | integer | integer |\n",
       "\n"
      ],
      "text/plain": [
       "     DAY    X1996   X1997   X1998   X1999   X2000   X2001   X2002   X2003  \n",
       "[1,] factor integer integer integer integer integer integer integer integer\n",
       "     X2004   ... X2006   X2007   X2008   X2009   X2010   X2011   X2012  \n",
       "[1,] integer ... integer integer integer integer integer integer integer\n",
       "     X2013   X2014   X2015  \n",
       "[1,] integer integer integer"
      ]
     },
     "metadata": {},
     "output_type": "display_data"
    }
   ],
   "source": [
    "# Look at the data types\n",
    "t(sapply(temps_data, class))"
   ]
  },
  {
   "cell_type": "code",
   "execution_count": 26,
   "id": "45567734-1c9c-4e3e-97bf-afc68f937f2c",
   "metadata": {},
   "outputs": [
    {
     "name": "stdout",
     "output_type": "stream",
     "text": [
      "Rows   Columns"
     ]
    },
    {
     "data": {
      "text/html": [
       "<table>\n",
       "<tbody>\n",
       "\t<tr><td>123</td><td>21 </td></tr>\n",
       "</tbody>\n",
       "</table>\n"
      ],
      "text/latex": [
       "\\begin{tabular}{ll}\n",
       "\t 123 & 21 \\\\\n",
       "\\end{tabular}\n"
      ],
      "text/markdown": [
       "\n",
       "| 123 | 21  |\n",
       "\n"
      ],
      "text/plain": [
       "     [,1] [,2]\n",
       "[1,] 123  21  "
      ]
     },
     "metadata": {},
     "output_type": "display_data"
    }
   ],
   "source": [
    "# Double check size of the data\n",
    "cat('Rows',' ','Columns')\n",
    "t(dim(temps_data))"
   ]
  },
  {
   "cell_type": "code",
   "execution_count": 27,
   "id": "0211b2d5-7613-48c6-bde3-4973d7f30c95",
   "metadata": {},
   "outputs": [
    {
     "data": {
      "text/html": [
       "<table>\n",
       "<thead><tr><th></th><th scope=col>DAY</th><th scope=col>X1996</th><th scope=col>X1997</th><th scope=col>X1998</th><th scope=col>X1999</th><th scope=col>X2000</th><th scope=col>X2001</th><th scope=col>X2002</th><th scope=col>X2003</th><th scope=col>X2004</th><th scope=col>...</th><th scope=col>X2006</th><th scope=col>X2007</th><th scope=col>X2008</th><th scope=col>X2009</th><th scope=col>X2010</th><th scope=col>X2011</th><th scope=col>X2012</th><th scope=col>X2013</th><th scope=col>X2014</th><th scope=col>X2015</th></tr></thead>\n",
       "<tbody>\n",
       "\t<tr><th scope=row>nbr.val</th><td>NA          </td><td>1.230000e+02</td><td>1.230000e+02</td><td>1.230000e+02</td><td>1.230000e+02</td><td>1.230000e+02</td><td>1.230000e+02</td><td>1.230000e+02</td><td>1.230000e+02</td><td>1.230000e+02</td><td>...         </td><td>1.230000e+02</td><td>1.230000e+02</td><td>1.230000e+02</td><td> 123.0000000</td><td>1.230000e+02</td><td>1.230000e+02</td><td>1.230000e+02</td><td>1.230000e+02</td><td>1.230000e+02</td><td>1.230000e+02</td></tr>\n",
       "\t<tr><th scope=row>nbr.null</th><td>NA          </td><td>0.000000e+00</td><td>0.000000e+00</td><td>0.000000e+00</td><td>0.000000e+00</td><td>0.000000e+00</td><td>0.000000e+00</td><td>0.000000e+00</td><td>0.000000e+00</td><td>0.000000e+00</td><td>...         </td><td>0.000000e+00</td><td>0.000000e+00</td><td>0.000000e+00</td><td>   0.0000000</td><td>0.000000e+00</td><td>0.000000e+00</td><td>0.000000e+00</td><td>0.000000e+00</td><td>0.000000e+00</td><td>0.000000e+00</td></tr>\n",
       "\t<tr><th scope=row>nbr.na</th><td>NA          </td><td>0.000000e+00</td><td>0.000000e+00</td><td>0.000000e+00</td><td>0.000000e+00</td><td>0.000000e+00</td><td>0.000000e+00</td><td>0.000000e+00</td><td>0.000000e+00</td><td>0.000000e+00</td><td>...         </td><td>0.000000e+00</td><td>0.000000e+00</td><td>0.000000e+00</td><td>   0.0000000</td><td>0.000000e+00</td><td>0.000000e+00</td><td>0.000000e+00</td><td>0.000000e+00</td><td>0.000000e+00</td><td>0.000000e+00</td></tr>\n",
       "\t<tr><th scope=row>min</th><td>NA          </td><td>6.000000e+01</td><td>5.500000e+01</td><td>6.300000e+01</td><td>5.700000e+01</td><td>5.500000e+01</td><td>5.100000e+01</td><td>5.700000e+01</td><td>5.700000e+01</td><td>6.200000e+01</td><td>...         </td><td>5.300000e+01</td><td>5.900000e+01</td><td>5.000000e+01</td><td>  51.0000000</td><td>6.700000e+01</td><td>5.900000e+01</td><td>5.600000e+01</td><td>5.600000e+01</td><td>6.300000e+01</td><td>5.600000e+01</td></tr>\n",
       "\t<tr><th scope=row>max</th><td>NA          </td><td>9.900000e+01</td><td>9.500000e+01</td><td>9.500000e+01</td><td>9.900000e+01</td><td>1.010000e+02</td><td>9.300000e+01</td><td>9.700000e+01</td><td>9.100000e+01</td><td>9.500000e+01</td><td>...         </td><td>9.800000e+01</td><td>1.040000e+02</td><td>9.500000e+01</td><td>  95.0000000</td><td>9.700000e+01</td><td>9.900000e+01</td><td>1.050000e+02</td><td>9.200000e+01</td><td>9.500000e+01</td><td>9.700000e+01</td></tr>\n",
       "\t<tr><th scope=row>range</th><td>NA          </td><td>3.900000e+01</td><td>4.000000e+01</td><td>3.200000e+01</td><td>4.200000e+01</td><td>4.600000e+01</td><td>4.200000e+01</td><td>4.000000e+01</td><td>3.400000e+01</td><td>3.300000e+01</td><td>...         </td><td>4.500000e+01</td><td>4.500000e+01</td><td>4.500000e+01</td><td>  44.0000000</td><td>3.000000e+01</td><td>4.000000e+01</td><td>4.900000e+01</td><td>3.600000e+01</td><td>3.200000e+01</td><td>4.100000e+01</td></tr>\n",
       "\t<tr><th scope=row>sum</th><td>NA          </td><td>1.029700e+04</td><td>1.004600e+04</td><td>1.036400e+04</td><td>1.025300e+04</td><td>1.033600e+04</td><td>1.003100e+04</td><td>1.028100e+04</td><td>1.002200e+04</td><td>1.005700e+04</td><td>...         </td><td>1.021500e+04</td><td>1.050400e+04</td><td>1.014900e+04</td><td>9962.0000000</td><td>1.072700e+04</td><td>1.048900e+04</td><td>1.041200e+04</td><td>1.004500e+04</td><td>1.032500e+04</td><td>1.024600e+04</td></tr>\n",
       "\t<tr><th scope=row>median</th><td>NA          </td><td>8.400000e+01</td><td>8.400000e+01</td><td>8.600000e+01</td><td>8.600000e+01</td><td>8.600000e+01</td><td>8.400000e+01</td><td>8.700000e+01</td><td>8.400000e+01</td><td>8.200000e+01</td><td>...         </td><td>8.500000e+01</td><td>8.600000e+01</td><td>8.500000e+01</td><td>  83.0000000</td><td>9.000000e+01</td><td>8.900000e+01</td><td>8.500000e+01</td><td>8.400000e+01</td><td>8.600000e+01</td><td>8.500000e+01</td></tr>\n",
       "\t<tr><th scope=row>mean</th><td>NA          </td><td>8.371545e+01</td><td>8.167480e+01</td><td>8.426016e+01</td><td>8.335772e+01</td><td>8.403252e+01</td><td>8.155285e+01</td><td>8.358537e+01</td><td>8.147967e+01</td><td>8.176423e+01</td><td>...         </td><td>8.304878e+01</td><td>8.539837e+01</td><td>8.251220e+01</td><td>  80.9918699</td><td>8.721138e+01</td><td>8.527642e+01</td><td>8.465041e+01</td><td>8.166667e+01</td><td>8.394309e+01</td><td>8.330081e+01</td></tr>\n",
       "\t<tr><th scope=row>SE.mean</th><td>NA          </td><td>7.707778e-01</td><td>8.402680e-01</td><td>5.779084e-01</td><td>8.767230e-01</td><td>8.582715e-01</td><td>7.415797e-01</td><td>8.499223e-01</td><td>6.327873e-01</td><td>6.007771e-01</td><td>...         </td><td>8.830639e-01</td><td>8.145141e-01</td><td>7.874436e-01</td><td>   0.8126922</td><td>6.713072e-01</td><td>8.954623e-01</td><td>8.342578e-01</td><td>6.966788e-01</td><td>5.943334e-01</td><td>7.852885e-01</td></tr>\n",
       "\t<tr><th scope=row>CI.mean</th><td>NA          </td><td>1.525832e+00</td><td>1.663395e+00</td><td>1.144027e+00</td><td>1.735561e+00</td><td>1.699034e+00</td><td>1.468031e+00</td><td>1.682506e+00</td><td>1.252666e+00</td><td>1.189298e+00</td><td>...         </td><td>1.748113e+00</td><td>1.612412e+00</td><td>1.558823e+00</td><td>   1.6088054</td><td>1.328920e+00</td><td>1.772657e+00</td><td>1.651497e+00</td><td>1.379145e+00</td><td>1.176542e+00</td><td>1.554557e+00</td></tr>\n",
       "\t<tr><th scope=row>var</th><td>NA          </td><td>7.307410e+01</td><td>8.684420e+01</td><td>4.107930e+01</td><td>9.454312e+01</td><td>9.060549e+01</td><td>6.764268e+01</td><td>8.885126e+01</td><td>4.925163e+01</td><td>4.439478e+01</td><td>...         </td><td>9.591563e+01</td><td>8.160229e+01</td><td>7.626829e+01</td><td>  81.2376383</td><td>5.543036e+01</td><td>9.862788e+01</td><td>8.560629e+01</td><td>5.969945e+01</td><td>4.344755e+01</td><td>7.585139e+01</td></tr>\n",
       "\t<tr><th scope=row>std.dev</th><td>NA          </td><td>8.548339e+00</td><td>9.319023e+00</td><td>6.409314e+00</td><td>9.723328e+00</td><td>9.518692e+00</td><td>8.224517e+00</td><td>9.426095e+00</td><td>7.017951e+00</td><td>6.662940e+00</td><td>...         </td><td>9.793653e+00</td><td>9.033399e+00</td><td>8.733172e+00</td><td>   9.0131925</td><td>7.445157e+00</td><td>9.931157e+00</td><td>9.252367e+00</td><td>7.726542e+00</td><td>6.591476e+00</td><td>8.709271e+00</td></tr>\n",
       "\t<tr><th scope=row>coef.var</th><td>NA          </td><td>1.021119e-01</td><td>1.140991e-01</td><td>7.606576e-02</td><td>1.166458e-01</td><td>1.132739e-01</td><td>1.008489e-01</td><td>1.127721e-01</td><td>8.613131e-02</td><td>8.148968e-02</td><td>...         </td><td>1.179265e-01</td><td>1.057795e-01</td><td>1.058410e-01</td><td>   0.1112852</td><td>8.536910e-02</td><td>1.164584e-01</td><td>1.093009e-01</td><td>9.461072e-02</td><td>7.852315e-02</td><td>1.045520e-01</td></tr>\n",
       "</tbody>\n",
       "</table>\n"
      ],
      "text/latex": [
       "\\begin{tabular}{r|lllllllllllllllllllll}\n",
       "  & DAY & X1996 & X1997 & X1998 & X1999 & X2000 & X2001 & X2002 & X2003 & X2004 & ... & X2006 & X2007 & X2008 & X2009 & X2010 & X2011 & X2012 & X2013 & X2014 & X2015\\\\\n",
       "\\hline\n",
       "\tnbr.val & NA           & 1.230000e+02 & 1.230000e+02 & 1.230000e+02 & 1.230000e+02 & 1.230000e+02 & 1.230000e+02 & 1.230000e+02 & 1.230000e+02 & 1.230000e+02 & ...          & 1.230000e+02 & 1.230000e+02 & 1.230000e+02 &  123.0000000 & 1.230000e+02 & 1.230000e+02 & 1.230000e+02 & 1.230000e+02 & 1.230000e+02 & 1.230000e+02\\\\\n",
       "\tnbr.null & NA           & 0.000000e+00 & 0.000000e+00 & 0.000000e+00 & 0.000000e+00 & 0.000000e+00 & 0.000000e+00 & 0.000000e+00 & 0.000000e+00 & 0.000000e+00 & ...          & 0.000000e+00 & 0.000000e+00 & 0.000000e+00 &    0.0000000 & 0.000000e+00 & 0.000000e+00 & 0.000000e+00 & 0.000000e+00 & 0.000000e+00 & 0.000000e+00\\\\\n",
       "\tnbr.na & NA           & 0.000000e+00 & 0.000000e+00 & 0.000000e+00 & 0.000000e+00 & 0.000000e+00 & 0.000000e+00 & 0.000000e+00 & 0.000000e+00 & 0.000000e+00 & ...          & 0.000000e+00 & 0.000000e+00 & 0.000000e+00 &    0.0000000 & 0.000000e+00 & 0.000000e+00 & 0.000000e+00 & 0.000000e+00 & 0.000000e+00 & 0.000000e+00\\\\\n",
       "\tmin & NA           & 6.000000e+01 & 5.500000e+01 & 6.300000e+01 & 5.700000e+01 & 5.500000e+01 & 5.100000e+01 & 5.700000e+01 & 5.700000e+01 & 6.200000e+01 & ...          & 5.300000e+01 & 5.900000e+01 & 5.000000e+01 &   51.0000000 & 6.700000e+01 & 5.900000e+01 & 5.600000e+01 & 5.600000e+01 & 6.300000e+01 & 5.600000e+01\\\\\n",
       "\tmax & NA           & 9.900000e+01 & 9.500000e+01 & 9.500000e+01 & 9.900000e+01 & 1.010000e+02 & 9.300000e+01 & 9.700000e+01 & 9.100000e+01 & 9.500000e+01 & ...          & 9.800000e+01 & 1.040000e+02 & 9.500000e+01 &   95.0000000 & 9.700000e+01 & 9.900000e+01 & 1.050000e+02 & 9.200000e+01 & 9.500000e+01 & 9.700000e+01\\\\\n",
       "\trange & NA           & 3.900000e+01 & 4.000000e+01 & 3.200000e+01 & 4.200000e+01 & 4.600000e+01 & 4.200000e+01 & 4.000000e+01 & 3.400000e+01 & 3.300000e+01 & ...          & 4.500000e+01 & 4.500000e+01 & 4.500000e+01 &   44.0000000 & 3.000000e+01 & 4.000000e+01 & 4.900000e+01 & 3.600000e+01 & 3.200000e+01 & 4.100000e+01\\\\\n",
       "\tsum & NA           & 1.029700e+04 & 1.004600e+04 & 1.036400e+04 & 1.025300e+04 & 1.033600e+04 & 1.003100e+04 & 1.028100e+04 & 1.002200e+04 & 1.005700e+04 & ...          & 1.021500e+04 & 1.050400e+04 & 1.014900e+04 & 9962.0000000 & 1.072700e+04 & 1.048900e+04 & 1.041200e+04 & 1.004500e+04 & 1.032500e+04 & 1.024600e+04\\\\\n",
       "\tmedian & NA           & 8.400000e+01 & 8.400000e+01 & 8.600000e+01 & 8.600000e+01 & 8.600000e+01 & 8.400000e+01 & 8.700000e+01 & 8.400000e+01 & 8.200000e+01 & ...          & 8.500000e+01 & 8.600000e+01 & 8.500000e+01 &   83.0000000 & 9.000000e+01 & 8.900000e+01 & 8.500000e+01 & 8.400000e+01 & 8.600000e+01 & 8.500000e+01\\\\\n",
       "\tmean & NA           & 8.371545e+01 & 8.167480e+01 & 8.426016e+01 & 8.335772e+01 & 8.403252e+01 & 8.155285e+01 & 8.358537e+01 & 8.147967e+01 & 8.176423e+01 & ...          & 8.304878e+01 & 8.539837e+01 & 8.251220e+01 &   80.9918699 & 8.721138e+01 & 8.527642e+01 & 8.465041e+01 & 8.166667e+01 & 8.394309e+01 & 8.330081e+01\\\\\n",
       "\tSE.mean & NA           & 7.707778e-01 & 8.402680e-01 & 5.779084e-01 & 8.767230e-01 & 8.582715e-01 & 7.415797e-01 & 8.499223e-01 & 6.327873e-01 & 6.007771e-01 & ...          & 8.830639e-01 & 8.145141e-01 & 7.874436e-01 &    0.8126922 & 6.713072e-01 & 8.954623e-01 & 8.342578e-01 & 6.966788e-01 & 5.943334e-01 & 7.852885e-01\\\\\n",
       "\tCI.mean & NA           & 1.525832e+00 & 1.663395e+00 & 1.144027e+00 & 1.735561e+00 & 1.699034e+00 & 1.468031e+00 & 1.682506e+00 & 1.252666e+00 & 1.189298e+00 & ...          & 1.748113e+00 & 1.612412e+00 & 1.558823e+00 &    1.6088054 & 1.328920e+00 & 1.772657e+00 & 1.651497e+00 & 1.379145e+00 & 1.176542e+00 & 1.554557e+00\\\\\n",
       "\tvar & NA           & 7.307410e+01 & 8.684420e+01 & 4.107930e+01 & 9.454312e+01 & 9.060549e+01 & 6.764268e+01 & 8.885126e+01 & 4.925163e+01 & 4.439478e+01 & ...          & 9.591563e+01 & 8.160229e+01 & 7.626829e+01 &   81.2376383 & 5.543036e+01 & 9.862788e+01 & 8.560629e+01 & 5.969945e+01 & 4.344755e+01 & 7.585139e+01\\\\\n",
       "\tstd.dev & NA           & 8.548339e+00 & 9.319023e+00 & 6.409314e+00 & 9.723328e+00 & 9.518692e+00 & 8.224517e+00 & 9.426095e+00 & 7.017951e+00 & 6.662940e+00 & ...          & 9.793653e+00 & 9.033399e+00 & 8.733172e+00 &    9.0131925 & 7.445157e+00 & 9.931157e+00 & 9.252367e+00 & 7.726542e+00 & 6.591476e+00 & 8.709271e+00\\\\\n",
       "\tcoef.var & NA           & 1.021119e-01 & 1.140991e-01 & 7.606576e-02 & 1.166458e-01 & 1.132739e-01 & 1.008489e-01 & 1.127721e-01 & 8.613131e-02 & 8.148968e-02 & ...          & 1.179265e-01 & 1.057795e-01 & 1.058410e-01 &    0.1112852 & 8.536910e-02 & 1.164584e-01 & 1.093009e-01 & 9.461072e-02 & 7.852315e-02 & 1.045520e-01\\\\\n",
       "\\end{tabular}\n"
      ],
      "text/markdown": [
       "\n",
       "| <!--/--> | DAY | X1996 | X1997 | X1998 | X1999 | X2000 | X2001 | X2002 | X2003 | X2004 | ... | X2006 | X2007 | X2008 | X2009 | X2010 | X2011 | X2012 | X2013 | X2014 | X2015 |\n",
       "|---|---|---|---|---|---|---|---|---|---|---|---|---|---|---|---|---|---|---|---|---|---|\n",
       "| nbr.val | NA           | 1.230000e+02 | 1.230000e+02 | 1.230000e+02 | 1.230000e+02 | 1.230000e+02 | 1.230000e+02 | 1.230000e+02 | 1.230000e+02 | 1.230000e+02 | ...          | 1.230000e+02 | 1.230000e+02 | 1.230000e+02 |  123.0000000 | 1.230000e+02 | 1.230000e+02 | 1.230000e+02 | 1.230000e+02 | 1.230000e+02 | 1.230000e+02 |\n",
       "| nbr.null | NA           | 0.000000e+00 | 0.000000e+00 | 0.000000e+00 | 0.000000e+00 | 0.000000e+00 | 0.000000e+00 | 0.000000e+00 | 0.000000e+00 | 0.000000e+00 | ...          | 0.000000e+00 | 0.000000e+00 | 0.000000e+00 |    0.0000000 | 0.000000e+00 | 0.000000e+00 | 0.000000e+00 | 0.000000e+00 | 0.000000e+00 | 0.000000e+00 |\n",
       "| nbr.na | NA           | 0.000000e+00 | 0.000000e+00 | 0.000000e+00 | 0.000000e+00 | 0.000000e+00 | 0.000000e+00 | 0.000000e+00 | 0.000000e+00 | 0.000000e+00 | ...          | 0.000000e+00 | 0.000000e+00 | 0.000000e+00 |    0.0000000 | 0.000000e+00 | 0.000000e+00 | 0.000000e+00 | 0.000000e+00 | 0.000000e+00 | 0.000000e+00 |\n",
       "| min | NA           | 6.000000e+01 | 5.500000e+01 | 6.300000e+01 | 5.700000e+01 | 5.500000e+01 | 5.100000e+01 | 5.700000e+01 | 5.700000e+01 | 6.200000e+01 | ...          | 5.300000e+01 | 5.900000e+01 | 5.000000e+01 |   51.0000000 | 6.700000e+01 | 5.900000e+01 | 5.600000e+01 | 5.600000e+01 | 6.300000e+01 | 5.600000e+01 |\n",
       "| max | NA           | 9.900000e+01 | 9.500000e+01 | 9.500000e+01 | 9.900000e+01 | 1.010000e+02 | 9.300000e+01 | 9.700000e+01 | 9.100000e+01 | 9.500000e+01 | ...          | 9.800000e+01 | 1.040000e+02 | 9.500000e+01 |   95.0000000 | 9.700000e+01 | 9.900000e+01 | 1.050000e+02 | 9.200000e+01 | 9.500000e+01 | 9.700000e+01 |\n",
       "| range | NA           | 3.900000e+01 | 4.000000e+01 | 3.200000e+01 | 4.200000e+01 | 4.600000e+01 | 4.200000e+01 | 4.000000e+01 | 3.400000e+01 | 3.300000e+01 | ...          | 4.500000e+01 | 4.500000e+01 | 4.500000e+01 |   44.0000000 | 3.000000e+01 | 4.000000e+01 | 4.900000e+01 | 3.600000e+01 | 3.200000e+01 | 4.100000e+01 |\n",
       "| sum | NA           | 1.029700e+04 | 1.004600e+04 | 1.036400e+04 | 1.025300e+04 | 1.033600e+04 | 1.003100e+04 | 1.028100e+04 | 1.002200e+04 | 1.005700e+04 | ...          | 1.021500e+04 | 1.050400e+04 | 1.014900e+04 | 9962.0000000 | 1.072700e+04 | 1.048900e+04 | 1.041200e+04 | 1.004500e+04 | 1.032500e+04 | 1.024600e+04 |\n",
       "| median | NA           | 8.400000e+01 | 8.400000e+01 | 8.600000e+01 | 8.600000e+01 | 8.600000e+01 | 8.400000e+01 | 8.700000e+01 | 8.400000e+01 | 8.200000e+01 | ...          | 8.500000e+01 | 8.600000e+01 | 8.500000e+01 |   83.0000000 | 9.000000e+01 | 8.900000e+01 | 8.500000e+01 | 8.400000e+01 | 8.600000e+01 | 8.500000e+01 |\n",
       "| mean | NA           | 8.371545e+01 | 8.167480e+01 | 8.426016e+01 | 8.335772e+01 | 8.403252e+01 | 8.155285e+01 | 8.358537e+01 | 8.147967e+01 | 8.176423e+01 | ...          | 8.304878e+01 | 8.539837e+01 | 8.251220e+01 |   80.9918699 | 8.721138e+01 | 8.527642e+01 | 8.465041e+01 | 8.166667e+01 | 8.394309e+01 | 8.330081e+01 |\n",
       "| SE.mean | NA           | 7.707778e-01 | 8.402680e-01 | 5.779084e-01 | 8.767230e-01 | 8.582715e-01 | 7.415797e-01 | 8.499223e-01 | 6.327873e-01 | 6.007771e-01 | ...          | 8.830639e-01 | 8.145141e-01 | 7.874436e-01 |    0.8126922 | 6.713072e-01 | 8.954623e-01 | 8.342578e-01 | 6.966788e-01 | 5.943334e-01 | 7.852885e-01 |\n",
       "| CI.mean | NA           | 1.525832e+00 | 1.663395e+00 | 1.144027e+00 | 1.735561e+00 | 1.699034e+00 | 1.468031e+00 | 1.682506e+00 | 1.252666e+00 | 1.189298e+00 | ...          | 1.748113e+00 | 1.612412e+00 | 1.558823e+00 |    1.6088054 | 1.328920e+00 | 1.772657e+00 | 1.651497e+00 | 1.379145e+00 | 1.176542e+00 | 1.554557e+00 |\n",
       "| var | NA           | 7.307410e+01 | 8.684420e+01 | 4.107930e+01 | 9.454312e+01 | 9.060549e+01 | 6.764268e+01 | 8.885126e+01 | 4.925163e+01 | 4.439478e+01 | ...          | 9.591563e+01 | 8.160229e+01 | 7.626829e+01 |   81.2376383 | 5.543036e+01 | 9.862788e+01 | 8.560629e+01 | 5.969945e+01 | 4.344755e+01 | 7.585139e+01 |\n",
       "| std.dev | NA           | 8.548339e+00 | 9.319023e+00 | 6.409314e+00 | 9.723328e+00 | 9.518692e+00 | 8.224517e+00 | 9.426095e+00 | 7.017951e+00 | 6.662940e+00 | ...          | 9.793653e+00 | 9.033399e+00 | 8.733172e+00 |    9.0131925 | 7.445157e+00 | 9.931157e+00 | 9.252367e+00 | 7.726542e+00 | 6.591476e+00 | 8.709271e+00 |\n",
       "| coef.var | NA           | 1.021119e-01 | 1.140991e-01 | 7.606576e-02 | 1.166458e-01 | 1.132739e-01 | 1.008489e-01 | 1.127721e-01 | 8.613131e-02 | 8.148968e-02 | ...          | 1.179265e-01 | 1.057795e-01 | 1.058410e-01 |    0.1112852 | 8.536910e-02 | 1.164584e-01 | 1.093009e-01 | 9.461072e-02 | 7.852315e-02 | 1.045520e-01 |\n",
       "\n"
      ],
      "text/plain": [
       "         DAY X1996        X1997        X1998        X1999        X2000       \n",
       "nbr.val  NA  1.230000e+02 1.230000e+02 1.230000e+02 1.230000e+02 1.230000e+02\n",
       "nbr.null NA  0.000000e+00 0.000000e+00 0.000000e+00 0.000000e+00 0.000000e+00\n",
       "nbr.na   NA  0.000000e+00 0.000000e+00 0.000000e+00 0.000000e+00 0.000000e+00\n",
       "min      NA  6.000000e+01 5.500000e+01 6.300000e+01 5.700000e+01 5.500000e+01\n",
       "max      NA  9.900000e+01 9.500000e+01 9.500000e+01 9.900000e+01 1.010000e+02\n",
       "range    NA  3.900000e+01 4.000000e+01 3.200000e+01 4.200000e+01 4.600000e+01\n",
       "sum      NA  1.029700e+04 1.004600e+04 1.036400e+04 1.025300e+04 1.033600e+04\n",
       "median   NA  8.400000e+01 8.400000e+01 8.600000e+01 8.600000e+01 8.600000e+01\n",
       "mean     NA  8.371545e+01 8.167480e+01 8.426016e+01 8.335772e+01 8.403252e+01\n",
       "SE.mean  NA  7.707778e-01 8.402680e-01 5.779084e-01 8.767230e-01 8.582715e-01\n",
       "CI.mean  NA  1.525832e+00 1.663395e+00 1.144027e+00 1.735561e+00 1.699034e+00\n",
       "var      NA  7.307410e+01 8.684420e+01 4.107930e+01 9.454312e+01 9.060549e+01\n",
       "std.dev  NA  8.548339e+00 9.319023e+00 6.409314e+00 9.723328e+00 9.518692e+00\n",
       "coef.var NA  1.021119e-01 1.140991e-01 7.606576e-02 1.166458e-01 1.132739e-01\n",
       "         X2001        X2002        X2003        X2004        ... X2006       \n",
       "nbr.val  1.230000e+02 1.230000e+02 1.230000e+02 1.230000e+02 ... 1.230000e+02\n",
       "nbr.null 0.000000e+00 0.000000e+00 0.000000e+00 0.000000e+00 ... 0.000000e+00\n",
       "nbr.na   0.000000e+00 0.000000e+00 0.000000e+00 0.000000e+00 ... 0.000000e+00\n",
       "min      5.100000e+01 5.700000e+01 5.700000e+01 6.200000e+01 ... 5.300000e+01\n",
       "max      9.300000e+01 9.700000e+01 9.100000e+01 9.500000e+01 ... 9.800000e+01\n",
       "range    4.200000e+01 4.000000e+01 3.400000e+01 3.300000e+01 ... 4.500000e+01\n",
       "sum      1.003100e+04 1.028100e+04 1.002200e+04 1.005700e+04 ... 1.021500e+04\n",
       "median   8.400000e+01 8.700000e+01 8.400000e+01 8.200000e+01 ... 8.500000e+01\n",
       "mean     8.155285e+01 8.358537e+01 8.147967e+01 8.176423e+01 ... 8.304878e+01\n",
       "SE.mean  7.415797e-01 8.499223e-01 6.327873e-01 6.007771e-01 ... 8.830639e-01\n",
       "CI.mean  1.468031e+00 1.682506e+00 1.252666e+00 1.189298e+00 ... 1.748113e+00\n",
       "var      6.764268e+01 8.885126e+01 4.925163e+01 4.439478e+01 ... 9.591563e+01\n",
       "std.dev  8.224517e+00 9.426095e+00 7.017951e+00 6.662940e+00 ... 9.793653e+00\n",
       "coef.var 1.008489e-01 1.127721e-01 8.613131e-02 8.148968e-02 ... 1.179265e-01\n",
       "         X2007        X2008        X2009        X2010        X2011       \n",
       "nbr.val  1.230000e+02 1.230000e+02  123.0000000 1.230000e+02 1.230000e+02\n",
       "nbr.null 0.000000e+00 0.000000e+00    0.0000000 0.000000e+00 0.000000e+00\n",
       "nbr.na   0.000000e+00 0.000000e+00    0.0000000 0.000000e+00 0.000000e+00\n",
       "min      5.900000e+01 5.000000e+01   51.0000000 6.700000e+01 5.900000e+01\n",
       "max      1.040000e+02 9.500000e+01   95.0000000 9.700000e+01 9.900000e+01\n",
       "range    4.500000e+01 4.500000e+01   44.0000000 3.000000e+01 4.000000e+01\n",
       "sum      1.050400e+04 1.014900e+04 9962.0000000 1.072700e+04 1.048900e+04\n",
       "median   8.600000e+01 8.500000e+01   83.0000000 9.000000e+01 8.900000e+01\n",
       "mean     8.539837e+01 8.251220e+01   80.9918699 8.721138e+01 8.527642e+01\n",
       "SE.mean  8.145141e-01 7.874436e-01    0.8126922 6.713072e-01 8.954623e-01\n",
       "CI.mean  1.612412e+00 1.558823e+00    1.6088054 1.328920e+00 1.772657e+00\n",
       "var      8.160229e+01 7.626829e+01   81.2376383 5.543036e+01 9.862788e+01\n",
       "std.dev  9.033399e+00 8.733172e+00    9.0131925 7.445157e+00 9.931157e+00\n",
       "coef.var 1.057795e-01 1.058410e-01    0.1112852 8.536910e-02 1.164584e-01\n",
       "         X2012        X2013        X2014        X2015       \n",
       "nbr.val  1.230000e+02 1.230000e+02 1.230000e+02 1.230000e+02\n",
       "nbr.null 0.000000e+00 0.000000e+00 0.000000e+00 0.000000e+00\n",
       "nbr.na   0.000000e+00 0.000000e+00 0.000000e+00 0.000000e+00\n",
       "min      5.600000e+01 5.600000e+01 6.300000e+01 5.600000e+01\n",
       "max      1.050000e+02 9.200000e+01 9.500000e+01 9.700000e+01\n",
       "range    4.900000e+01 3.600000e+01 3.200000e+01 4.100000e+01\n",
       "sum      1.041200e+04 1.004500e+04 1.032500e+04 1.024600e+04\n",
       "median   8.500000e+01 8.400000e+01 8.600000e+01 8.500000e+01\n",
       "mean     8.465041e+01 8.166667e+01 8.394309e+01 8.330081e+01\n",
       "SE.mean  8.342578e-01 6.966788e-01 5.943334e-01 7.852885e-01\n",
       "CI.mean  1.651497e+00 1.379145e+00 1.176542e+00 1.554557e+00\n",
       "var      8.560629e+01 5.969945e+01 4.344755e+01 7.585139e+01\n",
       "std.dev  9.252367e+00 7.726542e+00 6.591476e+00 8.709271e+00\n",
       "coef.var 1.093009e-01 9.461072e-02 7.852315e-02 1.045520e-01"
      ]
     },
     "metadata": {},
     "output_type": "display_data"
    }
   ],
   "source": [
    "# Get statistical information\n",
    "stat.desc(temps_data)"
   ]
  },
  {
   "cell_type": "markdown",
   "id": "421f783b-f2af-41eb-8bfc-c749421bf9e2",
   "metadata": {},
   "source": [
    "This lets me know that I have a table with 123 rows and 21 columns. The data is primarily integers with one factor value which is the DAY column. Temperature ranges for each year are ~30-40 degrees and the standard deviations are ~6.5-10. The data represents the daily high temperature for the given year."
   ]
  },
  {
   "cell_type": "markdown",
   "id": "f3b57c73-3979-45e8-ae2b-027c10ca511e",
   "metadata": {},
   "source": [
    "#### Step 2 - Compute the average temperature for each day\n",
    "Next I am going to compute the average temperature for each day across all the years in the column and then add that value to the original dataset"
   ]
  },
  {
   "cell_type": "code",
   "execution_count": 28,
   "id": "f015bcdf-a830-4868-bc32-48c0dcacbeda",
   "metadata": {},
   "outputs": [
    {
     "data": {
      "text/html": [
       "<table>\n",
       "<thead><tr><th scope=col>DAY</th><th scope=col>X1996</th><th scope=col>X1997</th><th scope=col>X1998</th><th scope=col>X1999</th><th scope=col>X2000</th><th scope=col>X2001</th><th scope=col>X2002</th><th scope=col>X2003</th><th scope=col>X2004</th><th scope=col>...</th><th scope=col>X2007</th><th scope=col>X2008</th><th scope=col>X2009</th><th scope=col>X2010</th><th scope=col>X2011</th><th scope=col>X2012</th><th scope=col>X2013</th><th scope=col>X2014</th><th scope=col>X2015</th><th scope=col>AVERAGE</th></tr></thead>\n",
       "<tbody>\n",
       "\t<tr><td>1-Jul</td><td>98   </td><td>86   </td><td>91   </td><td>84   </td><td>89   </td><td>84   </td><td>90   </td><td>73   </td><td>82   </td><td>...  </td><td>95   </td><td>85   </td><td>95   </td><td>87   </td><td>92   </td><td>105  </td><td>82   </td><td>90   </td><td>85   </td><td>88.85</td></tr>\n",
       "\t<tr><td>2-Jul</td><td>97   </td><td>90   </td><td>88   </td><td>82   </td><td>91   </td><td>87   </td><td>90   </td><td>81   </td><td>81   </td><td>...  </td><td>85   </td><td>87   </td><td>90   </td><td>84   </td><td>94   </td><td> 93  </td><td>85   </td><td>93   </td><td>87   </td><td>88.35</td></tr>\n",
       "\t<tr><td>3-Jul</td><td>97   </td><td>93   </td><td>91   </td><td>87   </td><td>93   </td><td>87   </td><td>87   </td><td>87   </td><td>86   </td><td>...  </td><td>82   </td><td>91   </td><td>89   </td><td>83   </td><td>95   </td><td> 99  </td><td>76   </td><td>87   </td><td>79   </td><td>88.40</td></tr>\n",
       "\t<tr><td>4-Jul</td><td>90   </td><td>91   </td><td>91   </td><td>88   </td><td>95   </td><td>84   </td><td>89   </td><td>86   </td><td>88   </td><td>...  </td><td>86   </td><td>90   </td><td>91   </td><td>85   </td><td>92   </td><td> 98  </td><td>77   </td><td>84   </td><td>85   </td><td>88.35</td></tr>\n",
       "\t<tr><td>5-Jul</td><td>89   </td><td>84   </td><td>91   </td><td>90   </td><td>96   </td><td>86   </td><td>93   </td><td>80   </td><td>90   </td><td>...  </td><td>88   </td><td>88   </td><td>80   </td><td>88   </td><td>90   </td><td>100  </td><td>83   </td><td>86   </td><td>84   </td><td>88.25</td></tr>\n",
       "\t<tr><td>6-Jul</td><td>93   </td><td>84   </td><td>89   </td><td>91   </td><td>96   </td><td>87   </td><td>93   </td><td>84   </td><td>90   </td><td>...  </td><td>87   </td><td>82   </td><td>87   </td><td>89   </td><td>90   </td><td> 98  </td><td>83   </td><td>87   </td><td>84   </td><td>87.85</td></tr>\n",
       "</tbody>\n",
       "</table>\n"
      ],
      "text/latex": [
       "\\begin{tabular}{r|llllllllllllllllllllll}\n",
       " DAY & X1996 & X1997 & X1998 & X1999 & X2000 & X2001 & X2002 & X2003 & X2004 & ... & X2007 & X2008 & X2009 & X2010 & X2011 & X2012 & X2013 & X2014 & X2015 & AVERAGE\\\\\n",
       "\\hline\n",
       "\t 1-Jul & 98    & 86    & 91    & 84    & 89    & 84    & 90    & 73    & 82    & ...   & 95    & 85    & 95    & 87    & 92    & 105   & 82    & 90    & 85    & 88.85\\\\\n",
       "\t 2-Jul & 97    & 90    & 88    & 82    & 91    & 87    & 90    & 81    & 81    & ...   & 85    & 87    & 90    & 84    & 94    &  93   & 85    & 93    & 87    & 88.35\\\\\n",
       "\t 3-Jul & 97    & 93    & 91    & 87    & 93    & 87    & 87    & 87    & 86    & ...   & 82    & 91    & 89    & 83    & 95    &  99   & 76    & 87    & 79    & 88.40\\\\\n",
       "\t 4-Jul & 90    & 91    & 91    & 88    & 95    & 84    & 89    & 86    & 88    & ...   & 86    & 90    & 91    & 85    & 92    &  98   & 77    & 84    & 85    & 88.35\\\\\n",
       "\t 5-Jul & 89    & 84    & 91    & 90    & 96    & 86    & 93    & 80    & 90    & ...   & 88    & 88    & 80    & 88    & 90    & 100   & 83    & 86    & 84    & 88.25\\\\\n",
       "\t 6-Jul & 93    & 84    & 89    & 91    & 96    & 87    & 93    & 84    & 90    & ...   & 87    & 82    & 87    & 89    & 90    &  98   & 83    & 87    & 84    & 87.85\\\\\n",
       "\\end{tabular}\n"
      ],
      "text/markdown": [
       "\n",
       "| DAY | X1996 | X1997 | X1998 | X1999 | X2000 | X2001 | X2002 | X2003 | X2004 | ... | X2007 | X2008 | X2009 | X2010 | X2011 | X2012 | X2013 | X2014 | X2015 | AVERAGE |\n",
       "|---|---|---|---|---|---|---|---|---|---|---|---|---|---|---|---|---|---|---|---|---|\n",
       "| 1-Jul | 98    | 86    | 91    | 84    | 89    | 84    | 90    | 73    | 82    | ...   | 95    | 85    | 95    | 87    | 92    | 105   | 82    | 90    | 85    | 88.85 |\n",
       "| 2-Jul | 97    | 90    | 88    | 82    | 91    | 87    | 90    | 81    | 81    | ...   | 85    | 87    | 90    | 84    | 94    |  93   | 85    | 93    | 87    | 88.35 |\n",
       "| 3-Jul | 97    | 93    | 91    | 87    | 93    | 87    | 87    | 87    | 86    | ...   | 82    | 91    | 89    | 83    | 95    |  99   | 76    | 87    | 79    | 88.40 |\n",
       "| 4-Jul | 90    | 91    | 91    | 88    | 95    | 84    | 89    | 86    | 88    | ...   | 86    | 90    | 91    | 85    | 92    |  98   | 77    | 84    | 85    | 88.35 |\n",
       "| 5-Jul | 89    | 84    | 91    | 90    | 96    | 86    | 93    | 80    | 90    | ...   | 88    | 88    | 80    | 88    | 90    | 100   | 83    | 86    | 84    | 88.25 |\n",
       "| 6-Jul | 93    | 84    | 89    | 91    | 96    | 87    | 93    | 84    | 90    | ...   | 87    | 82    | 87    | 89    | 90    |  98   | 83    | 87    | 84    | 87.85 |\n",
       "\n"
      ],
      "text/plain": [
       "  DAY   X1996 X1997 X1998 X1999 X2000 X2001 X2002 X2003 X2004 ... X2007 X2008\n",
       "1 1-Jul 98    86    91    84    89    84    90    73    82    ... 95    85   \n",
       "2 2-Jul 97    90    88    82    91    87    90    81    81    ... 85    87   \n",
       "3 3-Jul 97    93    91    87    93    87    87    87    86    ... 82    91   \n",
       "4 4-Jul 90    91    91    88    95    84    89    86    88    ... 86    90   \n",
       "5 5-Jul 89    84    91    90    96    86    93    80    90    ... 88    88   \n",
       "6 6-Jul 93    84    89    91    96    87    93    84    90    ... 87    82   \n",
       "  X2009 X2010 X2011 X2012 X2013 X2014 X2015 AVERAGE\n",
       "1 95    87    92    105   82    90    85    88.85  \n",
       "2 90    84    94     93   85    93    87    88.35  \n",
       "3 89    83    95     99   76    87    79    88.40  \n",
       "4 91    85    92     98   77    84    85    88.35  \n",
       "5 80    88    90    100   83    86    84    88.25  \n",
       "6 87    89    90     98   83    87    84    87.85  "
      ]
     },
     "metadata": {},
     "output_type": "display_data"
    }
   ],
   "source": [
    "# Compute the average temperature for each day of the year\n",
    "date_average <- rowMeans(temps_data[,2:21])\n",
    "\n",
    "# Add the values to the orginal dataset\n",
    "temps_data$AVERAGE <- date_average\n",
    "\n",
    "# Look at the updated table\n",
    "head(temps_data)"
   ]
  },
  {
   "cell_type": "markdown",
   "id": "1ed0647f-57eb-40aa-96aa-25edececb5d6",
   "metadata": {},
   "source": [
    "#### Step 3 - Determine the mean temperature and the model parameters T and C\n",
    "To calculate the mean temperature it is supposed to the mean \"if no change\". This is difficult to determine for the temperature data since we see large changes throughout the summer months as things get hotter and then cool off again. Since we are insterested in summer I choose to use the mean as being the temperatures from July 1st to August 30th. These days have averages above 85 and are close to what is considered summer. The T and C values I set equal to a factor of the standard deviation for those months and played around with different values until I felt like the results were reasonable. Without a better idea of what the model woud be used for and the cost of a false prediction or missing a prediction it is hard to determine the best option."
   ]
  },
  {
   "cell_type": "code",
   "execution_count": 29,
   "id": "19549606-f0d1-4687-8a0c-f53984d253a2",
   "metadata": {},
   "outputs": [
    {
     "name": "stdout",
     "output_type": "stream",
     "text": [
      "Mean temperatue is: 88.40221"
     ]
    }
   ],
   "source": [
    "# Calculate the mean of all of the days\n",
    "mean_cutoff <- which(temps_data$DAY == '6-Sep')\n",
    "temp_mean <- mean(temps_data$AVERAGE[1:mean_cutoff])\n",
    "cat(\"Mean temperatue is:\", temp_mean)"
   ]
  },
  {
   "cell_type": "code",
   "execution_count": 30,
   "id": "de1d0a7d-3f29-4fee-9132-23d845e16112",
   "metadata": {},
   "outputs": [
    {
     "data": {
      "image/png": "[encoded data removed]",
      "text/plain": [
       "plot without title"
      ]
     },
     "metadata": {},
     "output_type": "display_data"
    }
   ],
   "source": [
    "# Plot the average temperature vs. day\n",
    "ggplot(data=temps_data, aes(x=DAY, y=AVERAGE, group = 1)) + \n",
    "    geom_line(color='blue') +\n",
    "    geom_point() +\n",
    "    ggtitle(\"Average Daily Temperature\") +\n",
    "    geom_hline(yintercept = temp_mean, linetype = \"dashed\", color = \"red\") +\n",
    "    annotate(\"text\", x = Inf, y = temp_mean, label = \"Mean Value\", vjust = 1.5, color = \"red\") +\n",
    "    scale_x_discrete(breaks = temps_data$DAY[seq(1, nrow(temps_data), 10)])"
   ]
  },
  {
   "cell_type": "code",
   "execution_count": 32,
   "id": "aa6f00ee-6b81-4f7c-905d-c38b16dd54b2",
   "metadata": {},
   "outputs": [],
   "source": [
    "# Set T and C values\n",
    "T <- 5 * sd(temps_data$AVERAGE[1:mean_cutoff])\n",
    "C <- .5 * sd(temps_data$AVERAGE[1:mean_cutoff])"
   ]
  },
  {
   "cell_type": "markdown",
   "id": "f5b33dea-070c-42d1-a2b2-342104e8f832",
   "metadata": {},
   "source": [
    "#### Step 4 - Compute the cumulative sum (St)\n",
    "Next I am going to compute the daily St and running total. Since I am detecting a decrease I am using the model where the daily value and C are subtracted from the mean."
   ]
  },
  {
   "cell_type": "code",
   "execution_count": 33,
   "id": "98c24ebc-be35-4ccd-bc0e-7456da611471",
   "metadata": {},
   "outputs": [
    {
     "data": {
      "text/html": [
       "<table>\n",
       "<thead><tr><th scope=col>DAY</th><th scope=col>X1996</th><th scope=col>X1997</th><th scope=col>X1998</th><th scope=col>X1999</th><th scope=col>X2000</th><th scope=col>X2001</th><th scope=col>X2002</th><th scope=col>X2003</th><th scope=col>X2004</th><th scope=col>...</th><th scope=col>X2008</th><th scope=col>X2009</th><th scope=col>X2010</th><th scope=col>X2011</th><th scope=col>X2012</th><th scope=col>X2013</th><th scope=col>X2014</th><th scope=col>X2015</th><th scope=col>AVERAGE</th><th scope=col>S_t_row</th></tr></thead>\n",
       "<tbody>\n",
       "\t<tr><td>1-Jul     </td><td>98        </td><td>86        </td><td>91        </td><td>84        </td><td>89        </td><td>84        </td><td>90        </td><td>73        </td><td>82        </td><td>...       </td><td>85        </td><td>95        </td><td>87        </td><td>92        </td><td>105       </td><td>82        </td><td>90        </td><td>85        </td><td>88.85     </td><td>-1.1290248</td></tr>\n",
       "\t<tr><td>2-Jul     </td><td>97        </td><td>90        </td><td>88        </td><td>82        </td><td>91        </td><td>87        </td><td>90        </td><td>81        </td><td>81        </td><td>...       </td><td>87        </td><td>90        </td><td>84        </td><td>94        </td><td> 93       </td><td>85        </td><td>93        </td><td>87        </td><td>88.35     </td><td>-0.6290248</td></tr>\n",
       "\t<tr><td>3-Jul     </td><td>97        </td><td>93        </td><td>91        </td><td>87        </td><td>93        </td><td>87        </td><td>87        </td><td>87        </td><td>86        </td><td>...       </td><td>91        </td><td>89        </td><td>83        </td><td>95        </td><td> 99       </td><td>76        </td><td>87        </td><td>79        </td><td>88.40     </td><td>-0.6790248</td></tr>\n",
       "\t<tr><td>4-Jul     </td><td>90        </td><td>91        </td><td>91        </td><td>88        </td><td>95        </td><td>84        </td><td>89        </td><td>86        </td><td>88        </td><td>...       </td><td>90        </td><td>91        </td><td>85        </td><td>92        </td><td> 98       </td><td>77        </td><td>84        </td><td>85        </td><td>88.35     </td><td>-0.6290248</td></tr>\n",
       "\t<tr><td>5-Jul     </td><td>89        </td><td>84        </td><td>91        </td><td>90        </td><td>96        </td><td>86        </td><td>93        </td><td>80        </td><td>90        </td><td>...       </td><td>88        </td><td>80        </td><td>88        </td><td>90        </td><td>100       </td><td>83        </td><td>86        </td><td>84        </td><td>88.25     </td><td>-0.5290248</td></tr>\n",
       "\t<tr><td>6-Jul     </td><td>93        </td><td>84        </td><td>89        </td><td>91        </td><td>96        </td><td>87        </td><td>93        </td><td>84        </td><td>90        </td><td>...       </td><td>82        </td><td>87        </td><td>89        </td><td>90        </td><td> 98       </td><td>83        </td><td>87        </td><td>84        </td><td>87.85     </td><td>-0.1290248</td></tr>\n",
       "</tbody>\n",
       "</table>\n"
      ],
      "text/latex": [
       "\\begin{tabular}{r|lllllllllllllllllllllll}\n",
       " DAY & X1996 & X1997 & X1998 & X1999 & X2000 & X2001 & X2002 & X2003 & X2004 & ... & X2008 & X2009 & X2010 & X2011 & X2012 & X2013 & X2014 & X2015 & AVERAGE & S\\_t\\_row\\\\\n",
       "\\hline\n",
       "\t 1-Jul      & 98         & 86         & 91         & 84         & 89         & 84         & 90         & 73         & 82         & ...        & 85         & 95         & 87         & 92         & 105        & 82         & 90         & 85         & 88.85      & -1.1290248\\\\\n",
       "\t 2-Jul      & 97         & 90         & 88         & 82         & 91         & 87         & 90         & 81         & 81         & ...        & 87         & 90         & 84         & 94         &  93        & 85         & 93         & 87         & 88.35      & -0.6290248\\\\\n",
       "\t 3-Jul      & 97         & 93         & 91         & 87         & 93         & 87         & 87         & 87         & 86         & ...        & 91         & 89         & 83         & 95         &  99        & 76         & 87         & 79         & 88.40      & -0.6790248\\\\\n",
       "\t 4-Jul      & 90         & 91         & 91         & 88         & 95         & 84         & 89         & 86         & 88         & ...        & 90         & 91         & 85         & 92         &  98        & 77         & 84         & 85         & 88.35      & -0.6290248\\\\\n",
       "\t 5-Jul      & 89         & 84         & 91         & 90         & 96         & 86         & 93         & 80         & 90         & ...        & 88         & 80         & 88         & 90         & 100        & 83         & 86         & 84         & 88.25      & -0.5290248\\\\\n",
       "\t 6-Jul      & 93         & 84         & 89         & 91         & 96         & 87         & 93         & 84         & 90         & ...        & 82         & 87         & 89         & 90         &  98        & 83         & 87         & 84         & 87.85      & -0.1290248\\\\\n",
       "\\end{tabular}\n"
      ],
      "text/markdown": [
       "\n",
       "| DAY | X1996 | X1997 | X1998 | X1999 | X2000 | X2001 | X2002 | X2003 | X2004 | ... | X2008 | X2009 | X2010 | X2011 | X2012 | X2013 | X2014 | X2015 | AVERAGE | S_t_row |\n",
       "|---|---|---|---|---|---|---|---|---|---|---|---|---|---|---|---|---|---|---|---|---|\n",
       "| 1-Jul      | 98         | 86         | 91         | 84         | 89         | 84         | 90         | 73         | 82         | ...        | 85         | 95         | 87         | 92         | 105        | 82         | 90         | 85         | 88.85      | -1.1290248 |\n",
       "| 2-Jul      | 97         | 90         | 88         | 82         | 91         | 87         | 90         | 81         | 81         | ...        | 87         | 90         | 84         | 94         |  93        | 85         | 93         | 87         | 88.35      | -0.6290248 |\n",
       "| 3-Jul      | 97         | 93         | 91         | 87         | 93         | 87         | 87         | 87         | 86         | ...        | 91         | 89         | 83         | 95         |  99        | 76         | 87         | 79         | 88.40      | -0.6790248 |\n",
       "| 4-Jul      | 90         | 91         | 91         | 88         | 95         | 84         | 89         | 86         | 88         | ...        | 90         | 91         | 85         | 92         |  98        | 77         | 84         | 85         | 88.35      | -0.6290248 |\n",
       "| 5-Jul      | 89         | 84         | 91         | 90         | 96         | 86         | 93         | 80         | 90         | ...        | 88         | 80         | 88         | 90         | 100        | 83         | 86         | 84         | 88.25      | -0.5290248 |\n",
       "| 6-Jul      | 93         | 84         | 89         | 91         | 96         | 87         | 93         | 84         | 90         | ...        | 82         | 87         | 89         | 90         |  98        | 83         | 87         | 84         | 87.85      | -0.1290248 |\n",
       "\n"
      ],
      "text/plain": [
       "  DAY   X1996 X1997 X1998 X1999 X2000 X2001 X2002 X2003 X2004 ... X2008 X2009\n",
       "1 1-Jul 98    86    91    84    89    84    90    73    82    ... 85    95   \n",
       "2 2-Jul 97    90    88    82    91    87    90    81    81    ... 87    90   \n",
       "3 3-Jul 97    93    91    87    93    87    87    87    86    ... 91    89   \n",
       "4 4-Jul 90    91    91    88    95    84    89    86    88    ... 90    91   \n",
       "5 5-Jul 89    84    91    90    96    86    93    80    90    ... 88    80   \n",
       "6 6-Jul 93    84    89    91    96    87    93    84    90    ... 82    87   \n",
       "  X2010 X2011 X2012 X2013 X2014 X2015 AVERAGE S_t_row   \n",
       "1 87    92    105   82    90    85    88.85   -1.1290248\n",
       "2 84    94     93   85    93    87    88.35   -0.6290248\n",
       "3 83    95     99   76    87    79    88.40   -0.6790248\n",
       "4 85    92     98   77    84    85    88.35   -0.6290248\n",
       "5 88    90    100   83    86    84    88.25   -0.5290248\n",
       "6 89    90     98   83    87    84    87.85   -0.1290248"
      ]
     },
     "metadata": {},
     "output_type": "display_data"
    }
   ],
   "source": [
    "# Calculate difference between average temperature for each day the mean and C value\n",
    "S_t_row <- temp_mean - date_average - C\n",
    "temps_data$S_t_row <- S_t_row\n",
    "head(temps_data)"
   ]
  },
  {
   "cell_type": "code",
   "execution_count": 34,
   "id": "a3ea3b15-5678-44d1-90d1-f0013057a9cc",
   "metadata": {},
   "outputs": [
    {
     "data": {
      "text/html": [
       "<table>\n",
       "<thead><tr><th scope=col>DAY</th><th scope=col>X1996</th><th scope=col>X1997</th><th scope=col>X1998</th><th scope=col>X1999</th><th scope=col>X2000</th><th scope=col>X2001</th><th scope=col>X2002</th><th scope=col>X2003</th><th scope=col>X2004</th><th scope=col>...</th><th scope=col>X2009</th><th scope=col>X2010</th><th scope=col>X2011</th><th scope=col>X2012</th><th scope=col>X2013</th><th scope=col>X2014</th><th scope=col>X2015</th><th scope=col>AVERAGE</th><th scope=col>S_t_row</th><th scope=col>S_t_running</th></tr></thead>\n",
       "<tbody>\n",
       "\t<tr><td>1-Jul     </td><td>98        </td><td>86        </td><td>91        </td><td>84        </td><td>89        </td><td>84        </td><td>90        </td><td>73        </td><td>82        </td><td>...       </td><td>95        </td><td>87        </td><td>92        </td><td>105       </td><td>82        </td><td>90        </td><td>85        </td><td>88.85     </td><td>-1.1290248</td><td>0         </td></tr>\n",
       "\t<tr><td>2-Jul     </td><td>97        </td><td>90        </td><td>88        </td><td>82        </td><td>91        </td><td>87        </td><td>90        </td><td>81        </td><td>81        </td><td>...       </td><td>90        </td><td>84        </td><td>94        </td><td> 93       </td><td>85        </td><td>93        </td><td>87        </td><td>88.35     </td><td>-0.6290248</td><td>0         </td></tr>\n",
       "\t<tr><td>3-Jul     </td><td>97        </td><td>93        </td><td>91        </td><td>87        </td><td>93        </td><td>87        </td><td>87        </td><td>87        </td><td>86        </td><td>...       </td><td>89        </td><td>83        </td><td>95        </td><td> 99       </td><td>76        </td><td>87        </td><td>79        </td><td>88.40     </td><td>-0.6790248</td><td>0         </td></tr>\n",
       "\t<tr><td>4-Jul     </td><td>90        </td><td>91        </td><td>91        </td><td>88        </td><td>95        </td><td>84        </td><td>89        </td><td>86        </td><td>88        </td><td>...       </td><td>91        </td><td>85        </td><td>92        </td><td> 98       </td><td>77        </td><td>84        </td><td>85        </td><td>88.35     </td><td>-0.6290248</td><td>0         </td></tr>\n",
       "\t<tr><td>5-Jul     </td><td>89        </td><td>84        </td><td>91        </td><td>90        </td><td>96        </td><td>86        </td><td>93        </td><td>80        </td><td>90        </td><td>...       </td><td>80        </td><td>88        </td><td>90        </td><td>100       </td><td>83        </td><td>86        </td><td>84        </td><td>88.25     </td><td>-0.5290248</td><td>0         </td></tr>\n",
       "\t<tr><td>6-Jul     </td><td>93        </td><td>84        </td><td>89        </td><td>91        </td><td>96        </td><td>87        </td><td>93        </td><td>84        </td><td>90        </td><td>...       </td><td>87        </td><td>89        </td><td>90        </td><td> 98       </td><td>83        </td><td>87        </td><td>84        </td><td>87.85     </td><td>-0.1290248</td><td>0         </td></tr>\n",
       "</tbody>\n",
       "</table>\n"
      ],
      "text/latex": [
       "\\begin{tabular}{r|llllllllllllllllllllllll}\n",
       " DAY & X1996 & X1997 & X1998 & X1999 & X2000 & X2001 & X2002 & X2003 & X2004 & ... & X2009 & X2010 & X2011 & X2012 & X2013 & X2014 & X2015 & AVERAGE & S\\_t\\_row & S\\_t\\_running\\\\\n",
       "\\hline\n",
       "\t 1-Jul      & 98         & 86         & 91         & 84         & 89         & 84         & 90         & 73         & 82         & ...        & 95         & 87         & 92         & 105        & 82         & 90         & 85         & 88.85      & -1.1290248 & 0         \\\\\n",
       "\t 2-Jul      & 97         & 90         & 88         & 82         & 91         & 87         & 90         & 81         & 81         & ...        & 90         & 84         & 94         &  93        & 85         & 93         & 87         & 88.35      & -0.6290248 & 0         \\\\\n",
       "\t 3-Jul      & 97         & 93         & 91         & 87         & 93         & 87         & 87         & 87         & 86         & ...        & 89         & 83         & 95         &  99        & 76         & 87         & 79         & 88.40      & -0.6790248 & 0         \\\\\n",
       "\t 4-Jul      & 90         & 91         & 91         & 88         & 95         & 84         & 89         & 86         & 88         & ...        & 91         & 85         & 92         &  98        & 77         & 84         & 85         & 88.35      & -0.6290248 & 0         \\\\\n",
       "\t 5-Jul      & 89         & 84         & 91         & 90         & 96         & 86         & 93         & 80         & 90         & ...        & 80         & 88         & 90         & 100        & 83         & 86         & 84         & 88.25      & -0.5290248 & 0         \\\\\n",
       "\t 6-Jul      & 93         & 84         & 89         & 91         & 96         & 87         & 93         & 84         & 90         & ...        & 87         & 89         & 90         &  98        & 83         & 87         & 84         & 87.85      & -0.1290248 & 0         \\\\\n",
       "\\end{tabular}\n"
      ],
      "text/markdown": [
       "\n",
       "| DAY | X1996 | X1997 | X1998 | X1999 | X2000 | X2001 | X2002 | X2003 | X2004 | ... | X2009 | X2010 | X2011 | X2012 | X2013 | X2014 | X2015 | AVERAGE | S_t_row | S_t_running |\n",
       "|---|---|---|---|---|---|---|---|---|---|---|---|---|---|---|---|---|---|---|---|---|\n",
       "| 1-Jul      | 98         | 86         | 91         | 84         | 89         | 84         | 90         | 73         | 82         | ...        | 95         | 87         | 92         | 105        | 82         | 90         | 85         | 88.85      | -1.1290248 | 0          |\n",
       "| 2-Jul      | 97         | 90         | 88         | 82         | 91         | 87         | 90         | 81         | 81         | ...        | 90         | 84         | 94         |  93        | 85         | 93         | 87         | 88.35      | -0.6290248 | 0          |\n",
       "| 3-Jul      | 97         | 93         | 91         | 87         | 93         | 87         | 87         | 87         | 86         | ...        | 89         | 83         | 95         |  99        | 76         | 87         | 79         | 88.40      | -0.6790248 | 0          |\n",
       "| 4-Jul      | 90         | 91         | 91         | 88         | 95         | 84         | 89         | 86         | 88         | ...        | 91         | 85         | 92         |  98        | 77         | 84         | 85         | 88.35      | -0.6290248 | 0          |\n",
       "| 5-Jul      | 89         | 84         | 91         | 90         | 96         | 86         | 93         | 80         | 90         | ...        | 80         | 88         | 90         | 100        | 83         | 86         | 84         | 88.25      | -0.5290248 | 0          |\n",
       "| 6-Jul      | 93         | 84         | 89         | 91         | 96         | 87         | 93         | 84         | 90         | ...        | 87         | 89         | 90         |  98        | 83         | 87         | 84         | 87.85      | -0.1290248 | 0          |\n",
       "\n"
      ],
      "text/plain": [
       "  DAY   X1996 X1997 X1998 X1999 X2000 X2001 X2002 X2003 X2004 ... X2009 X2010\n",
       "1 1-Jul 98    86    91    84    89    84    90    73    82    ... 95    87   \n",
       "2 2-Jul 97    90    88    82    91    87    90    81    81    ... 90    84   \n",
       "3 3-Jul 97    93    91    87    93    87    87    87    86    ... 89    83   \n",
       "4 4-Jul 90    91    91    88    95    84    89    86    88    ... 91    85   \n",
       "5 5-Jul 89    84    91    90    96    86    93    80    90    ... 80    88   \n",
       "6 6-Jul 93    84    89    91    96    87    93    84    90    ... 87    89   \n",
       "  X2011 X2012 X2013 X2014 X2015 AVERAGE S_t_row    S_t_running\n",
       "1 92    105   82    90    85    88.85   -1.1290248 0          \n",
       "2 94     93   85    93    87    88.35   -0.6290248 0          \n",
       "3 95     99   76    87    79    88.40   -0.6790248 0          \n",
       "4 92     98   77    84    85    88.35   -0.6290248 0          \n",
       "5 90    100   83    86    84    88.25   -0.5290248 0          \n",
       "6 90     98   83    87    84    87.85   -0.1290248 0          "
      ]
     },
     "metadata": {},
     "output_type": "display_data"
    }
   ],
   "source": [
    "# Initialize an empty vector filled with zeros\n",
    "S_t_running <- numeric(nrow(temps_data))\n",
    "\n",
    "# Loop through each row and get the running sum of S_t values\n",
    "for (i in 1:nrow(temps_data)) {\n",
    "    if (i == 1) {\n",
    "        previous_value <- 0\n",
    "    } else {\n",
    "        previous_value <- S_t_running[i-1]\n",
    "    }\n",
    "    S_t_running[i] <- pmax(0, previous_value + temps_data$S_t_row[i])\n",
    "}\n",
    "\n",
    "temps_data$S_t_running <- S_t_running\n",
    "head(temps_data)"
   ]
  },
  {
   "cell_type": "code",
   "execution_count": 35,
   "id": "8c13744d-bfb3-4347-a04c-db5d80ec8139",
   "metadata": {},
   "outputs": [
    {
     "data": {
      "image/png": "[encoded data removed]",
      "text/plain": [
       "plot without title"
      ]
     },
     "metadata": {},
     "output_type": "display_data"
    }
   ],
   "source": [
    "# Plot the results\n",
    "ggplot(data=temps_data, aes(x=DAY, y=S_t_running, group = 1)) + \n",
    "    geom_line(color='orange') +\n",
    "    geom_point() +\n",
    "    ggtitle(\"S_t Plot\") +\n",
    "    scale_x_discrete(breaks = temps_data$DAY[seq(1, length(temps_data$DAY), by = 10)]) +\n",
    "    geom_hline(yintercept = T, linetype = \"dashed\", color = \"red\") +\n",
    "    annotate(\"text\", x = '9-Oct', y = T, label = \"Threshold Value\", vjust = 1.5, color = \"red\")"
   ]
  },
  {
   "cell_type": "markdown",
   "id": "c178f476-cbca-4fb8-94d2-042e9f08a352",
   "metadata": {},
   "source": [
    "#### Step 5 - Analyze the Results\n",
    "Based on the information provided by the CUSUM method, unnoficial summer ends **September 1st**. Looking at the original temperature data it does show that around that time the temperatures begin to decline so this makes sense."
   ]
  },
  {
   "cell_type": "code",
   "execution_count": 37,
   "id": "362aa04a-f9c6-4d44-be40-1d82482fdeb4",
   "metadata": {},
   "outputs": [
    {
     "name": "stdout",
     "output_type": "stream",
     "text": [
      "Unofficial summer ends on 1-Sep with a temerature of 85.25 degrees Farenheit"
     ]
    }
   ],
   "source": [
    "# First value to cross threshold\n",
    "crossed_value_index <- min(which(temps_data$S_t_running >= T))\n",
    "cat(\"Unofficial summer ends on\", as.character(temps_data$DAY[crossed_value_index]), \"with a temerature of\", temps_data$AVERAGE[crossed_value_index], \"degrees Farenheit\")"
   ]
  },
  {
   "cell_type": "markdown",
   "id": "9fccbdd8-5f4c-4d6c-a011-9cbe05d24801",
   "metadata": {},
   "source": [
    "#### Question 6.2 - Part 2\n",
    "The second part of this question is to apply the CUSUM method to the yearly temperatures to see if their is a change in yearly average temperatures. To do this I am going to go through the following steps:\n",
    "1) Compute the average temperature for each year across all days\n",
    "2) Determine the mean temperature and the model parameters T and C\n",
    "3) Compute the cumulative sum St\n",
    "4) Interpret the results"
   ]
  },
  {
   "cell_type": "markdown",
   "id": "9a9bb1c0-d11d-410f-be6c-48ce912e066b",
   "metadata": {},
   "source": [
    "#### Step 1 - Computer the Average Temperature for each Year\n",
    "I am going to compute the average temperature for each year across all of the days provided, another approach would be to just compute the average for the months considered summer to see if their is a change there. I think both approaches would make sense but since the initial question asks if their is a yearly average change I'm using the whole dataset."
   ]
  },
  {
   "cell_type": "code",
   "execution_count": 38,
   "id": "9395d4e7-df81-4cdf-a705-1437dd448a5a",
   "metadata": {},
   "outputs": [
    {
     "data": {
      "text/html": [
       "<table>\n",
       "<thead><tr><th scope=col>Year</th><th scope=col>Average_Temp</th></tr></thead>\n",
       "<tbody>\n",
       "\t<tr><td>1996    </td><td>83.71545</td></tr>\n",
       "\t<tr><td>1997    </td><td>81.67480</td></tr>\n",
       "\t<tr><td>1998    </td><td>84.26016</td></tr>\n",
       "\t<tr><td>1999    </td><td>83.35772</td></tr>\n",
       "\t<tr><td>2000    </td><td>84.03252</td></tr>\n",
       "\t<tr><td>2001    </td><td>81.55285</td></tr>\n",
       "\t<tr><td>2002    </td><td>83.58537</td></tr>\n",
       "\t<tr><td>2003    </td><td>81.47967</td></tr>\n",
       "\t<tr><td>2004    </td><td>81.76423</td></tr>\n",
       "\t<tr><td>2005    </td><td>83.35772</td></tr>\n",
       "\t<tr><td>2006    </td><td>83.04878</td></tr>\n",
       "\t<tr><td>2007    </td><td>85.39837</td></tr>\n",
       "\t<tr><td>2008    </td><td>82.51220</td></tr>\n",
       "\t<tr><td>2009    </td><td>80.99187</td></tr>\n",
       "\t<tr><td>2010    </td><td>87.21138</td></tr>\n",
       "\t<tr><td>2011    </td><td>85.27642</td></tr>\n",
       "\t<tr><td>2012    </td><td>84.65041</td></tr>\n",
       "\t<tr><td>2013    </td><td>81.66667</td></tr>\n",
       "\t<tr><td>2014    </td><td>83.94309</td></tr>\n",
       "\t<tr><td>2015    </td><td>83.30081</td></tr>\n",
       "</tbody>\n",
       "</table>\n"
      ],
      "text/latex": [
       "\\begin{tabular}{r|ll}\n",
       " Year & Average\\_Temp\\\\\n",
       "\\hline\n",
       "\t 1996     & 83.71545\\\\\n",
       "\t 1997     & 81.67480\\\\\n",
       "\t 1998     & 84.26016\\\\\n",
       "\t 1999     & 83.35772\\\\\n",
       "\t 2000     & 84.03252\\\\\n",
       "\t 2001     & 81.55285\\\\\n",
       "\t 2002     & 83.58537\\\\\n",
       "\t 2003     & 81.47967\\\\\n",
       "\t 2004     & 81.76423\\\\\n",
       "\t 2005     & 83.35772\\\\\n",
       "\t 2006     & 83.04878\\\\\n",
       "\t 2007     & 85.39837\\\\\n",
       "\t 2008     & 82.51220\\\\\n",
       "\t 2009     & 80.99187\\\\\n",
       "\t 2010     & 87.21138\\\\\n",
       "\t 2011     & 85.27642\\\\\n",
       "\t 2012     & 84.65041\\\\\n",
       "\t 2013     & 81.66667\\\\\n",
       "\t 2014     & 83.94309\\\\\n",
       "\t 2015     & 83.30081\\\\\n",
       "\\end{tabular}\n"
      ],
      "text/markdown": [
       "\n",
       "| Year | Average_Temp |\n",
       "|---|---|\n",
       "| 1996     | 83.71545 |\n",
       "| 1997     | 81.67480 |\n",
       "| 1998     | 84.26016 |\n",
       "| 1999     | 83.35772 |\n",
       "| 2000     | 84.03252 |\n",
       "| 2001     | 81.55285 |\n",
       "| 2002     | 83.58537 |\n",
       "| 2003     | 81.47967 |\n",
       "| 2004     | 81.76423 |\n",
       "| 2005     | 83.35772 |\n",
       "| 2006     | 83.04878 |\n",
       "| 2007     | 85.39837 |\n",
       "| 2008     | 82.51220 |\n",
       "| 2009     | 80.99187 |\n",
       "| 2010     | 87.21138 |\n",
       "| 2011     | 85.27642 |\n",
       "| 2012     | 84.65041 |\n",
       "| 2013     | 81.66667 |\n",
       "| 2014     | 83.94309 |\n",
       "| 2015     | 83.30081 |\n",
       "\n"
      ],
      "text/plain": [
       "   Year Average_Temp\n",
       "1  1996 83.71545    \n",
       "2  1997 81.67480    \n",
       "3  1998 84.26016    \n",
       "4  1999 83.35772    \n",
       "5  2000 84.03252    \n",
       "6  2001 81.55285    \n",
       "7  2002 83.58537    \n",
       "8  2003 81.47967    \n",
       "9  2004 81.76423    \n",
       "10 2005 83.35772    \n",
       "11 2006 83.04878    \n",
       "12 2007 85.39837    \n",
       "13 2008 82.51220    \n",
       "14 2009 80.99187    \n",
       "15 2010 87.21138    \n",
       "16 2011 85.27642    \n",
       "17 2012 84.65041    \n",
       "18 2013 81.66667    \n",
       "19 2014 83.94309    \n",
       "20 2015 83.30081    "
      ]
     },
     "metadata": {},
     "output_type": "display_data"
    }
   ],
   "source": [
    "# Compute the average temperature for year\n",
    "year_average <- colMeans(temps_data[, 2:21])\n",
    "years <- sub(\"X\", \"\", names(year_average))\n",
    "yearly_average_table <- tibble(\n",
    "    Year = years,\n",
    "    Average_Temp = year_average\n",
    ")\n",
    "yearly_average_table"
   ]
  },
  {
   "cell_type": "code",
   "execution_count": 39,
   "id": "554d53b4-56d7-44cc-8aa5-d544f0baacef",
   "metadata": {},
   "outputs": [
    {
     "data": {
      "image/png": "[encoded data removed]",
      "text/plain": [
       "plot without title"
      ]
     },
     "metadata": {},
     "output_type": "display_data"
    }
   ],
   "source": [
    "# Plot the average temperature vs. year\n",
    "ggplot(data=yearly_average_table, aes(x=Year, y=Average_Temp, group = 1)) + \n",
    "    geom_line(color='blue') +\n",
    "    geom_point() +\n",
    "    ggtitle(\"Average Yearly Temperature\") +\n",
    "    geom_smooth(method = \"lm\", se = FALSE, color = \"red\")"
   ]
  },
  {
   "cell_type": "markdown",
   "id": "b9b8a1ac-a52a-4dc1-8f5c-c6844d050dbc",
   "metadata": {},
   "source": [
    "#### Step 2 - Determine the mean temperature and the model parameters T and C\n",
    "Next I am going to compute the mean \"if not change\", looking at the graph above temperatures seem to stay consistent through 2006 then start to vary more drastically. As a result I am going to use the mean from 1996 to 2006. For the T and C values I set them to a factor of the standard deviation and played around with different values until the results seemed reasonable."
   ]
  },
  {
   "cell_type": "code",
   "execution_count": 40,
   "id": "37f07c6d-fadc-42d1-ac53-9a27703aa5d8",
   "metadata": {},
   "outputs": [
    {
     "name": "stdout",
     "output_type": "stream",
     "text": [
      "Mean yearly temperatue is: 82.89357\n",
      "T value is: 4.257939\n",
      "C value is: 0.5322424"
     ]
    }
   ],
   "source": [
    "# Calculate the mean for the control period (1996 - 2006)\n",
    "yearly_mean <- mean(yearly_average_table$Average_Temp[1:11])\n",
    "cat(\"Mean yearly temperatue is:\", yearly_mean)\n",
    "\n",
    "# Set T and C values\n",
    "T_yearly <- 4 * sd(yearly_average_table$Average_Temp[1:11])\n",
    "C_yearly <- 0.5 * sd(yearly_average_table$Average_Temp[1:11])\n",
    "cat(\"\\n\")\n",
    "cat(\"T value is:\", T_yearly)\n",
    "cat(\"\\n\")\n",
    "cat(\"C value is:\", C_yearly)"
   ]
  },
  {
   "cell_type": "markdown",
   "id": "ba970032-8b71-4b7b-ad90-859d271b2fa8",
   "metadata": {},
   "source": [
    "#### Step 4 - Compute the cumulative sum (St)\n",
    "Next I am going to compute the yearly values and cumulative sum (St)"
   ]
  },
  {
   "cell_type": "code",
   "execution_count": 41,
   "id": "e5f88325-da57-4673-bd37-a840b79cb6d1",
   "metadata": {},
   "outputs": [
    {
     "data": {
      "text/html": [
       "<table>\n",
       "<thead><tr><th scope=col>Year</th><th scope=col>Average_Temp</th><th scope=col>S_t_row</th></tr></thead>\n",
       "<tbody>\n",
       "\t<tr><td>1996       </td><td>83.71545   </td><td> 0.28963492</td></tr>\n",
       "\t<tr><td>1997       </td><td>81.67480   </td><td>-1.75101548</td></tr>\n",
       "\t<tr><td>1998       </td><td>84.26016   </td><td> 0.83435037</td></tr>\n",
       "\t<tr><td>1999       </td><td>83.35772   </td><td>-0.06808865</td></tr>\n",
       "\t<tr><td>2000       </td><td>84.03252   </td><td> 0.60670809</td></tr>\n",
       "\t<tr><td>2001       </td><td>81.55285   </td><td>-1.87296670</td></tr>\n",
       "</tbody>\n",
       "</table>\n"
      ],
      "text/latex": [
       "\\begin{tabular}{r|lll}\n",
       " Year & Average\\_Temp & S\\_t\\_row\\\\\n",
       "\\hline\n",
       "\t 1996        & 83.71545    &  0.28963492\\\\\n",
       "\t 1997        & 81.67480    & -1.75101548\\\\\n",
       "\t 1998        & 84.26016    &  0.83435037\\\\\n",
       "\t 1999        & 83.35772    & -0.06808865\\\\\n",
       "\t 2000        & 84.03252    &  0.60670809\\\\\n",
       "\t 2001        & 81.55285    & -1.87296670\\\\\n",
       "\\end{tabular}\n"
      ],
      "text/markdown": [
       "\n",
       "| Year | Average_Temp | S_t_row |\n",
       "|---|---|---|\n",
       "| 1996        | 83.71545    |  0.28963492 |\n",
       "| 1997        | 81.67480    | -1.75101548 |\n",
       "| 1998        | 84.26016    |  0.83435037 |\n",
       "| 1999        | 83.35772    | -0.06808865 |\n",
       "| 2000        | 84.03252    |  0.60670809 |\n",
       "| 2001        | 81.55285    | -1.87296670 |\n",
       "\n"
      ],
      "text/plain": [
       "  Year Average_Temp S_t_row    \n",
       "1 1996 83.71545      0.28963492\n",
       "2 1997 81.67480     -1.75101548\n",
       "3 1998 84.26016      0.83435037\n",
       "4 1999 83.35772     -0.06808865\n",
       "5 2000 84.03252      0.60670809\n",
       "6 2001 81.55285     -1.87296670"
      ]
     },
     "metadata": {},
     "output_type": "display_data"
    }
   ],
   "source": [
    "# Calculate difference between average temperature for each year the mean and C value\n",
    "S_t_year <- yearly_average_table$Average_Temp - yearly_mean - C_yearly\n",
    "yearly_average_table$S_t_row <- S_t_year\n",
    "head(yearly_average_table)"
   ]
  },
  {
   "cell_type": "code",
   "execution_count": 42,
   "id": "efd8f518-43f1-49d4-b33b-a9889f1915bc",
   "metadata": {},
   "outputs": [
    {
     "data": {
      "text/html": [
       "<table>\n",
       "<thead><tr><th scope=col>Year</th><th scope=col>Average_Temp</th><th scope=col>S_t_row</th><th scope=col>S_t_running</th></tr></thead>\n",
       "<tbody>\n",
       "\t<tr><td>1996       </td><td>83.71545   </td><td> 0.28963492</td><td>0.2896349  </td></tr>\n",
       "\t<tr><td>1997       </td><td>81.67480   </td><td>-1.75101548</td><td>0.0000000  </td></tr>\n",
       "\t<tr><td>1998       </td><td>84.26016   </td><td> 0.83435037</td><td>0.8343504  </td></tr>\n",
       "\t<tr><td>1999       </td><td>83.35772   </td><td>-0.06808865</td><td>0.7662617  </td></tr>\n",
       "\t<tr><td>2000       </td><td>84.03252   </td><td> 0.60670809</td><td>1.3729698  </td></tr>\n",
       "\t<tr><td>2001       </td><td>81.55285   </td><td>-1.87296670</td><td>0.0000000  </td></tr>\n",
       "</tbody>\n",
       "</table>\n"
      ],
      "text/latex": [
       "\\begin{tabular}{r|llll}\n",
       " Year & Average\\_Temp & S\\_t\\_row & S\\_t\\_running\\\\\n",
       "\\hline\n",
       "\t 1996        & 83.71545    &  0.28963492 & 0.2896349  \\\\\n",
       "\t 1997        & 81.67480    & -1.75101548 & 0.0000000  \\\\\n",
       "\t 1998        & 84.26016    &  0.83435037 & 0.8343504  \\\\\n",
       "\t 1999        & 83.35772    & -0.06808865 & 0.7662617  \\\\\n",
       "\t 2000        & 84.03252    &  0.60670809 & 1.3729698  \\\\\n",
       "\t 2001        & 81.55285    & -1.87296670 & 0.0000000  \\\\\n",
       "\\end{tabular}\n"
      ],
      "text/markdown": [
       "\n",
       "| Year | Average_Temp | S_t_row | S_t_running |\n",
       "|---|---|---|---|\n",
       "| 1996        | 83.71545    |  0.28963492 | 0.2896349   |\n",
       "| 1997        | 81.67480    | -1.75101548 | 0.0000000   |\n",
       "| 1998        | 84.26016    |  0.83435037 | 0.8343504   |\n",
       "| 1999        | 83.35772    | -0.06808865 | 0.7662617   |\n",
       "| 2000        | 84.03252    |  0.60670809 | 1.3729698   |\n",
       "| 2001        | 81.55285    | -1.87296670 | 0.0000000   |\n",
       "\n"
      ],
      "text/plain": [
       "  Year Average_Temp S_t_row     S_t_running\n",
       "1 1996 83.71545      0.28963492 0.2896349  \n",
       "2 1997 81.67480     -1.75101548 0.0000000  \n",
       "3 1998 84.26016      0.83435037 0.8343504  \n",
       "4 1999 83.35772     -0.06808865 0.7662617  \n",
       "5 2000 84.03252      0.60670809 1.3729698  \n",
       "6 2001 81.55285     -1.87296670 0.0000000  "
      ]
     },
     "metadata": {},
     "output_type": "display_data"
    }
   ],
   "source": [
    "# Initialize an empty vector filled with zeros\n",
    "S_t_year_running <- numeric(nrow(yearly_average_table))\n",
    "\n",
    "# Loop through each row and get the running sum of S_t values\n",
    "for (i in 1:nrow(yearly_average_table)) {\n",
    "    if (i == 1) {\n",
    "        previous_value <- 0\n",
    "    } else {\n",
    "        previous_value <- S_t_year_running[i-1]\n",
    "    }\n",
    "    S_t_year_running[i] <- pmax(0, previous_value + yearly_average_table$S_t_row[i])\n",
    "}\n",
    "\n",
    "yearly_average_table$S_t_running <- S_t_year_running\n",
    "head(yearly_average_table)"
   ]
  },
  {
   "cell_type": "code",
   "execution_count": 43,
   "id": "7a0bfbff-793f-49dd-b9d5-c24327bf821d",
   "metadata": {},
   "outputs": [
    {
     "data": {
      "image/png": "[encoded data removed]",
      "text/plain": [
       "plot without title"
      ]
     },
     "metadata": {},
     "output_type": "display_data"
    }
   ],
   "source": [
    "ggplot(data=yearly_average_table, aes(x=Year, y=S_t_running, group = 1)) + \n",
    "    geom_line(color='purple') +\n",
    "    geom_point() +\n",
    "    ggtitle(\"S_t Plot for Yearly Temperatures\") +\n",
    "    geom_hline(yintercept = T_yearly, linetype = \"dashed\", color = \"red\") +\n",
    "    annotate(\"text\", x = '2001', y = T_yearly, label = \"Threshold Value\", vjust = 1.5, color = \"red\")"
   ]
  },
  {
   "cell_type": "markdown",
   "id": "d058ae98-ac4b-45d9-b2b8-ef25567682f9",
   "metadata": {},
   "source": [
    "#### Step 4 - Analyze the Results\n",
    "Based on the CUSUM model it can be seen that the yearly average temperature starts to increase around 2010/2011. This would indicate general warming of temperatures around that time. Based on the threshold value I set we can say that **temperatures begin to rise in 2011**."
   ]
  },
  {
   "cell_type": "code",
   "execution_count": 44,
   "id": "d3365cbc-0899-4513-8f20-cc900d04dbdd",
   "metadata": {},
   "outputs": [
    {
     "name": "stdout",
     "output_type": "stream",
     "text": [
      "Yearly temperatures begin to rise 2011 with an average temerature of 85.27642 degrees Farenheit"
     ]
    }
   ],
   "source": [
    "# First value to cross threshold\n",
    "crossed_yearly_index <- min(which(yearly_average_table$S_t_running >= T_yearly))\n",
    "cat(\"Yearly temperatures begin to rise\",yearly_average_table$Year[crossed_yearly_index], \"with an average temerature of\", yearly_average_table$Average_Temp[crossed_yearly_index], \"degrees Farenheit\")"
   ]
  }
 ],
 "metadata": {
  "kernelspec": {
   "display_name": "R",
   "language": "R",
   "name": "ir"
  },
  "language_info": {
   "codemirror_mode": "r",
   "file_extension": ".r",
   "mimetype": "text/x-r-source",
   "name": "R",
   "pygments_lexer": "r",
   "version": "3.6.1"
  }
 },
 "nbformat": 4,
 "nbformat_minor": 5
}
