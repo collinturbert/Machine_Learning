{
 "cells": [
  {
   "cell_type": "markdown",
   "id": "c825d394-f1ed-4bb5-8be0-25221b84f165",
   "metadata": {},
   "source": [
    "#### CUSUM Method\n",
    "> The purpose of this notebook is to explore the CUSUM algorithm and use it on a sample dataset to better understand it's implementation. I am going to use July through October daily-high-temperature data for Atlanta from 1996 through 2015 to identify when unofficial summer ends (i.e., when the weather starts cooling off) each year and see if it is changing. I am also going to look at whether Atlanta’s summer climate has gotten warmer in that time (and if so, when)."
   ]
  },
  {
   "cell_type": "code",
   "execution_count": 32,
   "id": "d64fb628-4adc-44b7-be94-810ad07f4f4c",
   "metadata": {
    "vscode": {
     "languageId": "r"
    }
   },
   "outputs": [],
   "source": [
    "# Load libraries needed for analysis\n",
    "library(pastecs)\n",
    "library(ggplot2)\n",
    "library(dplyr)"
   ]
  },
  {
   "cell_type": "markdown",
   "id": "aeeb3b7f-5a09-4ee9-9b20-37c2f78b8c4f",
   "metadata": {},
   "source": [
    "#### Part 1 - Unofficial Summer End\n",
    "The first part of this problem involves applying the CUSUM method to the daily temperatures to see if their is a definitive drop in temperatures that would indicate the end of summer. Their is a CUSUM package in R but I am going to do it by hand to get better practice and deeper understanding of the model. To do this I am going to go through the following steps:\n",
    "1) Review the data to get a better understanding of its characterstics\n",
    "2) Compute the average temperature for each day across all years\n",
    "3) Determine the mean temperature and the model parameters T and C\n",
    "4) Compute the cumulative sum St\n",
    "5) Interpret the results"
   ]
  },
  {
   "cell_type": "markdown",
   "id": "09e66e0b-b350-451b-b0ea-2bb0a5c3ea3c",
   "metadata": {},
   "source": [
    "#### Step 1 - Review the Data"
   ]
  },
  {
   "cell_type": "code",
   "execution_count": 23,
   "id": "432d320d-f550-4829-8fff-a84369ccd31d",
   "metadata": {
    "vscode": {
     "languageId": "r"
    }
   },
   "outputs": [],
   "source": [
    "# Load the data\n",
    "temps_data <- read.table(\"temps.txt\", header = TRUE)\n",
    "temps_data$DAY <- factor(temps_data$DAY, levels = temps_data$DAY)"
   ]
  },
  {
   "cell_type": "code",
   "execution_count": 24,
   "id": "b4a3192f-7a56-4972-bc5b-330da2562171",
   "metadata": {
    "vscode": {
     "languageId": "r"
    }
   },
   "outputs": [
    {
     "data": {
      "text/html": [
       "<table>\n",
       "<thead><tr><th scope=col>DAY</th><th scope=col>X1996</th><th scope=col>X1997</th><th scope=col>X1998</th><th scope=col>X1999</th><th scope=col>X2000</th><th scope=col>X2001</th><th scope=col>X2002</th><th scope=col>X2003</th><th scope=col>X2004</th><th scope=col>...</th><th scope=col>X2006</th><th scope=col>X2007</th><th scope=col>X2008</th><th scope=col>X2009</th><th scope=col>X2010</th><th scope=col>X2011</th><th scope=col>X2012</th><th scope=col>X2013</th><th scope=col>X2014</th><th scope=col>X2015</th></tr></thead>\n",
       "<tbody>\n",
       "\t<tr><td>1-Jul</td><td>98   </td><td>86   </td><td>91   </td><td>84   </td><td>89   </td><td>84   </td><td>90   </td><td>73   </td><td>82   </td><td>...  </td><td>93   </td><td>95   </td><td>85   </td><td>95   </td><td>87   </td><td>92   </td><td>105  </td><td>82   </td><td>90   </td><td>85   </td></tr>\n",
       "\t<tr><td>2-Jul</td><td>97   </td><td>90   </td><td>88   </td><td>82   </td><td>91   </td><td>87   </td><td>90   </td><td>81   </td><td>81   </td><td>...  </td><td>93   </td><td>85   </td><td>87   </td><td>90   </td><td>84   </td><td>94   </td><td> 93  </td><td>85   </td><td>93   </td><td>87   </td></tr>\n",
       "\t<tr><td>3-Jul</td><td>97   </td><td>93   </td><td>91   </td><td>87   </td><td>93   </td><td>87   </td><td>87   </td><td>87   </td><td>86   </td><td>...  </td><td>93   </td><td>82   </td><td>91   </td><td>89   </td><td>83   </td><td>95   </td><td> 99  </td><td>76   </td><td>87   </td><td>79   </td></tr>\n",
       "\t<tr><td>4-Jul</td><td>90   </td><td>91   </td><td>91   </td><td>88   </td><td>95   </td><td>84   </td><td>89   </td><td>86   </td><td>88   </td><td>...  </td><td>91   </td><td>86   </td><td>90   </td><td>91   </td><td>85   </td><td>92   </td><td> 98  </td><td>77   </td><td>84   </td><td>85   </td></tr>\n",
       "\t<tr><td>5-Jul</td><td>89   </td><td>84   </td><td>91   </td><td>90   </td><td>96   </td><td>86   </td><td>93   </td><td>80   </td><td>90   </td><td>...  </td><td>90   </td><td>88   </td><td>88   </td><td>80   </td><td>88   </td><td>90   </td><td>100  </td><td>83   </td><td>86   </td><td>84   </td></tr>\n",
       "\t<tr><td>6-Jul</td><td>93   </td><td>84   </td><td>89   </td><td>91   </td><td>96   </td><td>87   </td><td>93   </td><td>84   </td><td>90   </td><td>...  </td><td>81   </td><td>87   </td><td>82   </td><td>87   </td><td>89   </td><td>90   </td><td> 98  </td><td>83   </td><td>87   </td><td>84   </td></tr>\n",
       "</tbody>\n",
       "</table>\n"
      ],
      "text/latex": [
       "\\begin{tabular}{r|lllllllllllllllllllll}\n",
       " DAY & X1996 & X1997 & X1998 & X1999 & X2000 & X2001 & X2002 & X2003 & X2004 & ... & X2006 & X2007 & X2008 & X2009 & X2010 & X2011 & X2012 & X2013 & X2014 & X2015\\\\\n",
       "\\hline\n",
       "\t 1-Jul & 98    & 86    & 91    & 84    & 89    & 84    & 90    & 73    & 82    & ...   & 93    & 95    & 85    & 95    & 87    & 92    & 105   & 82    & 90    & 85   \\\\\n",
       "\t 2-Jul & 97    & 90    & 88    & 82    & 91    & 87    & 90    & 81    & 81    & ...   & 93    & 85    & 87    & 90    & 84    & 94    &  93   & 85    & 93    & 87   \\\\\n",
       "\t 3-Jul & 97    & 93    & 91    & 87    & 93    & 87    & 87    & 87    & 86    & ...   & 93    & 82    & 91    & 89    & 83    & 95    &  99   & 76    & 87    & 79   \\\\\n",
       "\t 4-Jul & 90    & 91    & 91    & 88    & 95    & 84    & 89    & 86    & 88    & ...   & 91    & 86    & 90    & 91    & 85    & 92    &  98   & 77    & 84    & 85   \\\\\n",
       "\t 5-Jul & 89    & 84    & 91    & 90    & 96    & 86    & 93    & 80    & 90    & ...   & 90    & 88    & 88    & 80    & 88    & 90    & 100   & 83    & 86    & 84   \\\\\n",
       "\t 6-Jul & 93    & 84    & 89    & 91    & 96    & 87    & 93    & 84    & 90    & ...   & 81    & 87    & 82    & 87    & 89    & 90    &  98   & 83    & 87    & 84   \\\\\n",
       "\\end{tabular}\n"
      ],
      "text/markdown": [
       "\n",
       "| DAY | X1996 | X1997 | X1998 | X1999 | X2000 | X2001 | X2002 | X2003 | X2004 | ... | X2006 | X2007 | X2008 | X2009 | X2010 | X2011 | X2012 | X2013 | X2014 | X2015 |\n",
       "|---|---|---|---|---|---|---|---|---|---|---|---|---|---|---|---|---|---|---|---|---|\n",
       "| 1-Jul | 98    | 86    | 91    | 84    | 89    | 84    | 90    | 73    | 82    | ...   | 93    | 95    | 85    | 95    | 87    | 92    | 105   | 82    | 90    | 85    |\n",
       "| 2-Jul | 97    | 90    | 88    | 82    | 91    | 87    | 90    | 81    | 81    | ...   | 93    | 85    | 87    | 90    | 84    | 94    |  93   | 85    | 93    | 87    |\n",
       "| 3-Jul | 97    | 93    | 91    | 87    | 93    | 87    | 87    | 87    | 86    | ...   | 93    | 82    | 91    | 89    | 83    | 95    |  99   | 76    | 87    | 79    |\n",
       "| 4-Jul | 90    | 91    | 91    | 88    | 95    | 84    | 89    | 86    | 88    | ...   | 91    | 86    | 90    | 91    | 85    | 92    |  98   | 77    | 84    | 85    |\n",
       "| 5-Jul | 89    | 84    | 91    | 90    | 96    | 86    | 93    | 80    | 90    | ...   | 90    | 88    | 88    | 80    | 88    | 90    | 100   | 83    | 86    | 84    |\n",
       "| 6-Jul | 93    | 84    | 89    | 91    | 96    | 87    | 93    | 84    | 90    | ...   | 81    | 87    | 82    | 87    | 89    | 90    |  98   | 83    | 87    | 84    |\n",
       "\n"
      ],
      "text/plain": [
       "  DAY   X1996 X1997 X1998 X1999 X2000 X2001 X2002 X2003 X2004 ... X2006 X2007\n",
       "1 1-Jul 98    86    91    84    89    84    90    73    82    ... 93    95   \n",
       "2 2-Jul 97    90    88    82    91    87    90    81    81    ... 93    85   \n",
       "3 3-Jul 97    93    91    87    93    87    87    87    86    ... 93    82   \n",
       "4 4-Jul 90    91    91    88    95    84    89    86    88    ... 91    86   \n",
       "5 5-Jul 89    84    91    90    96    86    93    80    90    ... 90    88   \n",
       "6 6-Jul 93    84    89    91    96    87    93    84    90    ... 81    87   \n",
       "  X2008 X2009 X2010 X2011 X2012 X2013 X2014 X2015\n",
       "1 85    95    87    92    105   82    90    85   \n",
       "2 87    90    84    94     93   85    93    87   \n",
       "3 91    89    83    95     99   76    87    79   \n",
       "4 90    91    85    92     98   77    84    85   \n",
       "5 88    80    88    90    100   83    86    84   \n",
       "6 82    87    89    90     98   83    87    84   "
      ]
     },
     "metadata": {},
     "output_type": "display_data"
    }
   ],
   "source": [
    "# Look at the data, only displaying the first 6 rows for this report\n",
    "head(temps_data)"
   ]
  },
  {
   "cell_type": "code",
   "execution_count": 25,
   "id": "c18c1d53-6594-494b-bb76-b7a40b8c1370",
   "metadata": {
    "vscode": {
     "languageId": "r"
    }
   },
   "outputs": [
    {
     "data": {
      "text/html": [
       "<table>\n",
       "<thead><tr><th scope=col>DAY</th><th scope=col>X1996</th><th scope=col>X1997</th><th scope=col>X1998</th><th scope=col>X1999</th><th scope=col>X2000</th><th scope=col>X2001</th><th scope=col>X2002</th><th scope=col>X2003</th><th scope=col>X2004</th><th scope=col>...</th><th scope=col>X2006</th><th scope=col>X2007</th><th scope=col>X2008</th><th scope=col>X2009</th><th scope=col>X2010</th><th scope=col>X2011</th><th scope=col>X2012</th><th scope=col>X2013</th><th scope=col>X2014</th><th scope=col>X2015</th></tr></thead>\n",
       "<tbody>\n",
       "\t<tr><td>factor </td><td>integer</td><td>integer</td><td>integer</td><td>integer</td><td>integer</td><td>integer</td><td>integer</td><td>integer</td><td>integer</td><td>...    </td><td>integer</td><td>integer</td><td>integer</td><td>integer</td><td>integer</td><td>integer</td><td>integer</td><td>integer</td><td>integer</td><td>integer</td></tr>\n",
       "</tbody>\n",
       "</table>\n"
      ],
      "text/latex": [
       "\\begin{tabular}{lllllllllllllllllllll}\n",
       " DAY & X1996 & X1997 & X1998 & X1999 & X2000 & X2001 & X2002 & X2003 & X2004 & ... & X2006 & X2007 & X2008 & X2009 & X2010 & X2011 & X2012 & X2013 & X2014 & X2015\\\\\n",
       "\\hline\n",
       "\t factor  & integer & integer & integer & integer & integer & integer & integer & integer & integer & ...     & integer & integer & integer & integer & integer & integer & integer & integer & integer & integer\\\\\n",
       "\\end{tabular}\n"
      ],
      "text/markdown": [
       "\n",
       "| DAY | X1996 | X1997 | X1998 | X1999 | X2000 | X2001 | X2002 | X2003 | X2004 | ... | X2006 | X2007 | X2008 | X2009 | X2010 | X2011 | X2012 | X2013 | X2014 | X2015 |\n",
       "|---|---|---|---|---|---|---|---|---|---|---|---|---|---|---|---|---|---|---|---|---|\n",
       "| factor  | integer | integer | integer | integer | integer | integer | integer | integer | integer | ...     | integer | integer | integer | integer | integer | integer | integer | integer | integer | integer |\n",
       "\n"
      ],
      "text/plain": [
       "     DAY    X1996   X1997   X1998   X1999   X2000   X2001   X2002   X2003  \n",
       "[1,] factor integer integer integer integer integer integer integer integer\n",
       "     X2004   ... X2006   X2007   X2008   X2009   X2010   X2011   X2012  \n",
       "[1,] integer ... integer integer integer integer integer integer integer\n",
       "     X2013   X2014   X2015  \n",
       "[1,] integer integer integer"
      ]
     },
     "metadata": {},
     "output_type": "display_data"
    }
   ],
   "source": [
    "# Look at the data types\n",
    "t(sapply(temps_data, class))"
   ]
  },
  {
   "cell_type": "code",
   "execution_count": 26,
   "id": "45567734-1c9c-4e3e-97bf-afc68f937f2c",
   "metadata": {
    "vscode": {
     "languageId": "r"
    }
   },
   "outputs": [
    {
     "name": "stdout",
     "output_type": "stream",
     "text": [
      "Rows   Columns"
     ]
    },
    {
     "data": {
      "text/html": [
       "<table>\n",
       "<tbody>\n",
       "\t<tr><td>123</td><td>21 </td></tr>\n",
       "</tbody>\n",
       "</table>\n"
      ],
      "text/latex": [
       "\\begin{tabular}{ll}\n",
       "\t 123 & 21 \\\\\n",
       "\\end{tabular}\n"
      ],
      "text/markdown": [
       "\n",
       "| 123 | 21  |\n",
       "\n"
      ],
      "text/plain": [
       "     [,1] [,2]\n",
       "[1,] 123  21  "
      ]
     },
     "metadata": {},
     "output_type": "display_data"
    }
   ],
   "source": [
    "# Double check size of the data\n",
    "cat('Rows',' ','Columns')\n",
    "t(dim(temps_data))"
   ]
  },
  {
   "cell_type": "code",
   "execution_count": 27,
   "id": "0211b2d5-7613-48c6-bde3-4973d7f30c95",
   "metadata": {
    "vscode": {
     "languageId": "r"
    }
   },
   "outputs": [
    {
     "data": {
      "text/html": [
       "<table>\n",
       "<thead><tr><th></th><th scope=col>DAY</th><th scope=col>X1996</th><th scope=col>X1997</th><th scope=col>X1998</th><th scope=col>X1999</th><th scope=col>X2000</th><th scope=col>X2001</th><th scope=col>X2002</th><th scope=col>X2003</th><th scope=col>X2004</th><th scope=col>...</th><th scope=col>X2006</th><th scope=col>X2007</th><th scope=col>X2008</th><th scope=col>X2009</th><th scope=col>X2010</th><th scope=col>X2011</th><th scope=col>X2012</th><th scope=col>X2013</th><th scope=col>X2014</th><th scope=col>X2015</th></tr></thead>\n",
       "<tbody>\n",
       "\t<tr><th scope=row>nbr.val</th><td>NA          </td><td>1.230000e+02</td><td>1.230000e+02</td><td>1.230000e+02</td><td>1.230000e+02</td><td>1.230000e+02</td><td>1.230000e+02</td><td>1.230000e+02</td><td>1.230000e+02</td><td>1.230000e+02</td><td>...         </td><td>1.230000e+02</td><td>1.230000e+02</td><td>1.230000e+02</td><td> 123.0000000</td><td>1.230000e+02</td><td>1.230000e+02</td><td>1.230000e+02</td><td>1.230000e+02</td><td>1.230000e+02</td><td>1.230000e+02</td></tr>\n",
       "\t<tr><th scope=row>nbr.null</th><td>NA          </td><td>0.000000e+00</td><td>0.000000e+00</td><td>0.000000e+00</td><td>0.000000e+00</td><td>0.000000e+00</td><td>0.000000e+00</td><td>0.000000e+00</td><td>0.000000e+00</td><td>0.000000e+00</td><td>...         </td><td>0.000000e+00</td><td>0.000000e+00</td><td>0.000000e+00</td><td>   0.0000000</td><td>0.000000e+00</td><td>0.000000e+00</td><td>0.000000e+00</td><td>0.000000e+00</td><td>0.000000e+00</td><td>0.000000e+00</td></tr>\n",
       "\t<tr><th scope=row>nbr.na</th><td>NA          </td><td>0.000000e+00</td><td>0.000000e+00</td><td>0.000000e+00</td><td>0.000000e+00</td><td>0.000000e+00</td><td>0.000000e+00</td><td>0.000000e+00</td><td>0.000000e+00</td><td>0.000000e+00</td><td>...         </td><td>0.000000e+00</td><td>0.000000e+00</td><td>0.000000e+00</td><td>   0.0000000</td><td>0.000000e+00</td><td>0.000000e+00</td><td>0.000000e+00</td><td>0.000000e+00</td><td>0.000000e+00</td><td>0.000000e+00</td></tr>\n",
       "\t<tr><th scope=row>min</th><td>NA          </td><td>6.000000e+01</td><td>5.500000e+01</td><td>6.300000e+01</td><td>5.700000e+01</td><td>5.500000e+01</td><td>5.100000e+01</td><td>5.700000e+01</td><td>5.700000e+01</td><td>6.200000e+01</td><td>...         </td><td>5.300000e+01</td><td>5.900000e+01</td><td>5.000000e+01</td><td>  51.0000000</td><td>6.700000e+01</td><td>5.900000e+01</td><td>5.600000e+01</td><td>5.600000e+01</td><td>6.300000e+01</td><td>5.600000e+01</td></tr>\n",
       "\t<tr><th scope=row>max</th><td>NA          </td><td>9.900000e+01</td><td>9.500000e+01</td><td>9.500000e+01</td><td>9.900000e+01</td><td>1.010000e+02</td><td>9.300000e+01</td><td>9.700000e+01</td><td>9.100000e+01</td><td>9.500000e+01</td><td>...         </td><td>9.800000e+01</td><td>1.040000e+02</td><td>9.500000e+01</td><td>  95.0000000</td><td>9.700000e+01</td><td>9.900000e+01</td><td>1.050000e+02</td><td>9.200000e+01</td><td>9.500000e+01</td><td>9.700000e+01</td></tr>\n",
       "\t<tr><th scope=row>range</th><td>NA          </td><td>3.900000e+01</td><td>4.000000e+01</td><td>3.200000e+01</td><td>4.200000e+01</td><td>4.600000e+01</td><td>4.200000e+01</td><td>4.000000e+01</td><td>3.400000e+01</td><td>3.300000e+01</td><td>...         </td><td>4.500000e+01</td><td>4.500000e+01</td><td>4.500000e+01</td><td>  44.0000000</td><td>3.000000e+01</td><td>4.000000e+01</td><td>4.900000e+01</td><td>3.600000e+01</td><td>3.200000e+01</td><td>4.100000e+01</td></tr>\n",
       "\t<tr><th scope=row>sum</th><td>NA          </td><td>1.029700e+04</td><td>1.004600e+04</td><td>1.036400e+04</td><td>1.025300e+04</td><td>1.033600e+04</td><td>1.003100e+04</td><td>1.028100e+04</td><td>1.002200e+04</td><td>1.005700e+04</td><td>...         </td><td>1.021500e+04</td><td>1.050400e+04</td><td>1.014900e+04</td><td>9962.0000000</td><td>1.072700e+04</td><td>1.048900e+04</td><td>1.041200e+04</td><td>1.004500e+04</td><td>1.032500e+04</td><td>1.024600e+04</td></tr>\n",
       "\t<tr><th scope=row>median</th><td>NA          </td><td>8.400000e+01</td><td>8.400000e+01</td><td>8.600000e+01</td><td>8.600000e+01</td><td>8.600000e+01</td><td>8.400000e+01</td><td>8.700000e+01</td><td>8.400000e+01</td><td>8.200000e+01</td><td>...         </td><td>8.500000e+01</td><td>8.600000e+01</td><td>8.500000e+01</td><td>  83.0000000</td><td>9.000000e+01</td><td>8.900000e+01</td><td>8.500000e+01</td><td>8.400000e+01</td><td>8.600000e+01</td><td>8.500000e+01</td></tr>\n",
       "\t<tr><th scope=row>mean</th><td>NA          </td><td>8.371545e+01</td><td>8.167480e+01</td><td>8.426016e+01</td><td>8.335772e+01</td><td>8.403252e+01</td><td>8.155285e+01</td><td>8.358537e+01</td><td>8.147967e+01</td><td>8.176423e+01</td><td>...         </td><td>8.304878e+01</td><td>8.539837e+01</td><td>8.251220e+01</td><td>  80.9918699</td><td>8.721138e+01</td><td>8.527642e+01</td><td>8.465041e+01</td><td>8.166667e+01</td><td>8.394309e+01</td><td>8.330081e+01</td></tr>\n",
       "\t<tr><th scope=row>SE.mean</th><td>NA          </td><td>7.707778e-01</td><td>8.402680e-01</td><td>5.779084e-01</td><td>8.767230e-01</td><td>8.582715e-01</td><td>7.415797e-01</td><td>8.499223e-01</td><td>6.327873e-01</td><td>6.007771e-01</td><td>...         </td><td>8.830639e-01</td><td>8.145141e-01</td><td>7.874436e-01</td><td>   0.8126922</td><td>6.713072e-01</td><td>8.954623e-01</td><td>8.342578e-01</td><td>6.966788e-01</td><td>5.943334e-01</td><td>7.852885e-01</td></tr>\n",
       "\t<tr><th scope=row>CI.mean</th><td>NA          </td><td>1.525832e+00</td><td>1.663395e+00</td><td>1.144027e+00</td><td>1.735561e+00</td><td>1.699034e+00</td><td>1.468031e+00</td><td>1.682506e+00</td><td>1.252666e+00</td><td>1.189298e+00</td><td>...         </td><td>1.748113e+00</td><td>1.612412e+00</td><td>1.558823e+00</td><td>   1.6088054</td><td>1.328920e+00</td><td>1.772657e+00</td><td>1.651497e+00</td><td>1.379145e+00</td><td>1.176542e+00</td><td>1.554557e+00</td></tr>\n",
       "\t<tr><th scope=row>var</th><td>NA          </td><td>7.307410e+01</td><td>8.684420e+01</td><td>4.107930e+01</td><td>9.454312e+01</td><td>9.060549e+01</td><td>6.764268e+01</td><td>8.885126e+01</td><td>4.925163e+01</td><td>4.439478e+01</td><td>...         </td><td>9.591563e+01</td><td>8.160229e+01</td><td>7.626829e+01</td><td>  81.2376383</td><td>5.543036e+01</td><td>9.862788e+01</td><td>8.560629e+01</td><td>5.969945e+01</td><td>4.344755e+01</td><td>7.585139e+01</td></tr>\n",
       "\t<tr><th scope=row>std.dev</th><td>NA          </td><td>8.548339e+00</td><td>9.319023e+00</td><td>6.409314e+00</td><td>9.723328e+00</td><td>9.518692e+00</td><td>8.224517e+00</td><td>9.426095e+00</td><td>7.017951e+00</td><td>6.662940e+00</td><td>...         </td><td>9.793653e+00</td><td>9.033399e+00</td><td>8.733172e+00</td><td>   9.0131925</td><td>7.445157e+00</td><td>9.931157e+00</td><td>9.252367e+00</td><td>7.726542e+00</td><td>6.591476e+00</td><td>8.709271e+00</td></tr>\n",
       "\t<tr><th scope=row>coef.var</th><td>NA          </td><td>1.021119e-01</td><td>1.140991e-01</td><td>7.606576e-02</td><td>1.166458e-01</td><td>1.132739e-01</td><td>1.008489e-01</td><td>1.127721e-01</td><td>8.613131e-02</td><td>8.148968e-02</td><td>...         </td><td>1.179265e-01</td><td>1.057795e-01</td><td>1.058410e-01</td><td>   0.1112852</td><td>8.536910e-02</td><td>1.164584e-01</td><td>1.093009e-01</td><td>9.461072e-02</td><td>7.852315e-02</td><td>1.045520e-01</td></tr>\n",
       "</tbody>\n",
       "</table>\n"
      ],
      "text/latex": [
       "\\begin{tabular}{r|lllllllllllllllllllll}\n",
       "  & DAY & X1996 & X1997 & X1998 & X1999 & X2000 & X2001 & X2002 & X2003 & X2004 & ... & X2006 & X2007 & X2008 & X2009 & X2010 & X2011 & X2012 & X2013 & X2014 & X2015\\\\\n",
       "\\hline\n",
       "\tnbr.val & NA           & 1.230000e+02 & 1.230000e+02 & 1.230000e+02 & 1.230000e+02 & 1.230000e+02 & 1.230000e+02 & 1.230000e+02 & 1.230000e+02 & 1.230000e+02 & ...          & 1.230000e+02 & 1.230000e+02 & 1.230000e+02 &  123.0000000 & 1.230000e+02 & 1.230000e+02 & 1.230000e+02 & 1.230000e+02 & 1.230000e+02 & 1.230000e+02\\\\\n",
       "\tnbr.null & NA           & 0.000000e+00 & 0.000000e+00 & 0.000000e+00 & 0.000000e+00 & 0.000000e+00 & 0.000000e+00 & 0.000000e+00 & 0.000000e+00 & 0.000000e+00 & ...          & 0.000000e+00 & 0.000000e+00 & 0.000000e+00 &    0.0000000 & 0.000000e+00 & 0.000000e+00 & 0.000000e+00 & 0.000000e+00 & 0.000000e+00 & 0.000000e+00\\\\\n",
       "\tnbr.na & NA           & 0.000000e+00 & 0.000000e+00 & 0.000000e+00 & 0.000000e+00 & 0.000000e+00 & 0.000000e+00 & 0.000000e+00 & 0.000000e+00 & 0.000000e+00 & ...          & 0.000000e+00 & 0.000000e+00 & 0.000000e+00 &    0.0000000 & 0.000000e+00 & 0.000000e+00 & 0.000000e+00 & 0.000000e+00 & 0.000000e+00 & 0.000000e+00\\\\\n",
       "\tmin & NA           & 6.000000e+01 & 5.500000e+01 & 6.300000e+01 & 5.700000e+01 & 5.500000e+01 & 5.100000e+01 & 5.700000e+01 & 5.700000e+01 & 6.200000e+01 & ...          & 5.300000e+01 & 5.900000e+01 & 5.000000e+01 &   51.0000000 & 6.700000e+01 & 5.900000e+01 & 5.600000e+01 & 5.600000e+01 & 6.300000e+01 & 5.600000e+01\\\\\n",
       "\tmax & NA           & 9.900000e+01 & 9.500000e+01 & 9.500000e+01 & 9.900000e+01 & 1.010000e+02 & 9.300000e+01 & 9.700000e+01 & 9.100000e+01 & 9.500000e+01 & ...          & 9.800000e+01 & 1.040000e+02 & 9.500000e+01 &   95.0000000 & 9.700000e+01 & 9.900000e+01 & 1.050000e+02 & 9.200000e+01 & 9.500000e+01 & 9.700000e+01\\\\\n",
       "\trange & NA           & 3.900000e+01 & 4.000000e+01 & 3.200000e+01 & 4.200000e+01 & 4.600000e+01 & 4.200000e+01 & 4.000000e+01 & 3.400000e+01 & 3.300000e+01 & ...          & 4.500000e+01 & 4.500000e+01 & 4.500000e+01 &   44.0000000 & 3.000000e+01 & 4.000000e+01 & 4.900000e+01 & 3.600000e+01 & 3.200000e+01 & 4.100000e+01\\\\\n",
       "\tsum & NA           & 1.029700e+04 & 1.004600e+04 & 1.036400e+04 & 1.025300e+04 & 1.033600e+04 & 1.003100e+04 & 1.028100e+04 & 1.002200e+04 & 1.005700e+04 & ...          & 1.021500e+04 & 1.050400e+04 & 1.014900e+04 & 9962.0000000 & 1.072700e+04 & 1.048900e+04 & 1.041200e+04 & 1.004500e+04 & 1.032500e+04 & 1.024600e+04\\\\\n",
       "\tmedian & NA           & 8.400000e+01 & 8.400000e+01 & 8.600000e+01 & 8.600000e+01 & 8.600000e+01 & 8.400000e+01 & 8.700000e+01 & 8.400000e+01 & 8.200000e+01 & ...          & 8.500000e+01 & 8.600000e+01 & 8.500000e+01 &   83.0000000 & 9.000000e+01 & 8.900000e+01 & 8.500000e+01 & 8.400000e+01 & 8.600000e+01 & 8.500000e+01\\\\\n",
       "\tmean & NA           & 8.371545e+01 & 8.167480e+01 & 8.426016e+01 & 8.335772e+01 & 8.403252e+01 & 8.155285e+01 & 8.358537e+01 & 8.147967e+01 & 8.176423e+01 & ...          & 8.304878e+01 & 8.539837e+01 & 8.251220e+01 &   80.9918699 & 8.721138e+01 & 8.527642e+01 & 8.465041e+01 & 8.166667e+01 & 8.394309e+01 & 8.330081e+01\\\\\n",
       "\tSE.mean & NA           & 7.707778e-01 & 8.402680e-01 & 5.779084e-01 & 8.767230e-01 & 8.582715e-01 & 7.415797e-01 & 8.499223e-01 & 6.327873e-01 & 6.007771e-01 & ...          & 8.830639e-01 & 8.145141e-01 & 7.874436e-01 &    0.8126922 & 6.713072e-01 & 8.954623e-01 & 8.342578e-01 & 6.966788e-01 & 5.943334e-01 & 7.852885e-01\\\\\n",
       "\tCI.mean & NA           & 1.525832e+00 & 1.663395e+00 & 1.144027e+00 & 1.735561e+00 & 1.699034e+00 & 1.468031e+00 & 1.682506e+00 & 1.252666e+00 & 1.189298e+00 & ...          & 1.748113e+00 & 1.612412e+00 & 1.558823e+00 &    1.6088054 & 1.328920e+00 & 1.772657e+00 & 1.651497e+00 & 1.379145e+00 & 1.176542e+00 & 1.554557e+00\\\\\n",
       "\tvar & NA           & 7.307410e+01 & 8.684420e+01 & 4.107930e+01 & 9.454312e+01 & 9.060549e+01 & 6.764268e+01 & 8.885126e+01 & 4.925163e+01 & 4.439478e+01 & ...          & 9.591563e+01 & 8.160229e+01 & 7.626829e+01 &   81.2376383 & 5.543036e+01 & 9.862788e+01 & 8.560629e+01 & 5.969945e+01 & 4.344755e+01 & 7.585139e+01\\\\\n",
       "\tstd.dev & NA           & 8.548339e+00 & 9.319023e+00 & 6.409314e+00 & 9.723328e+00 & 9.518692e+00 & 8.224517e+00 & 9.426095e+00 & 7.017951e+00 & 6.662940e+00 & ...          & 9.793653e+00 & 9.033399e+00 & 8.733172e+00 &    9.0131925 & 7.445157e+00 & 9.931157e+00 & 9.252367e+00 & 7.726542e+00 & 6.591476e+00 & 8.709271e+00\\\\\n",
       "\tcoef.var & NA           & 1.021119e-01 & 1.140991e-01 & 7.606576e-02 & 1.166458e-01 & 1.132739e-01 & 1.008489e-01 & 1.127721e-01 & 8.613131e-02 & 8.148968e-02 & ...          & 1.179265e-01 & 1.057795e-01 & 1.058410e-01 &    0.1112852 & 8.536910e-02 & 1.164584e-01 & 1.093009e-01 & 9.461072e-02 & 7.852315e-02 & 1.045520e-01\\\\\n",
       "\\end{tabular}\n"
      ],
      "text/markdown": [
       "\n",
       "| <!--/--> | DAY | X1996 | X1997 | X1998 | X1999 | X2000 | X2001 | X2002 | X2003 | X2004 | ... | X2006 | X2007 | X2008 | X2009 | X2010 | X2011 | X2012 | X2013 | X2014 | X2015 |\n",
       "|---|---|---|---|---|---|---|---|---|---|---|---|---|---|---|---|---|---|---|---|---|---|\n",
       "| nbr.val | NA           | 1.230000e+02 | 1.230000e+02 | 1.230000e+02 | 1.230000e+02 | 1.230000e+02 | 1.230000e+02 | 1.230000e+02 | 1.230000e+02 | 1.230000e+02 | ...          | 1.230000e+02 | 1.230000e+02 | 1.230000e+02 |  123.0000000 | 1.230000e+02 | 1.230000e+02 | 1.230000e+02 | 1.230000e+02 | 1.230000e+02 | 1.230000e+02 |\n",
       "| nbr.null | NA           | 0.000000e+00 | 0.000000e+00 | 0.000000e+00 | 0.000000e+00 | 0.000000e+00 | 0.000000e+00 | 0.000000e+00 | 0.000000e+00 | 0.000000e+00 | ...          | 0.000000e+00 | 0.000000e+00 | 0.000000e+00 |    0.0000000 | 0.000000e+00 | 0.000000e+00 | 0.000000e+00 | 0.000000e+00 | 0.000000e+00 | 0.000000e+00 |\n",
       "| nbr.na | NA           | 0.000000e+00 | 0.000000e+00 | 0.000000e+00 | 0.000000e+00 | 0.000000e+00 | 0.000000e+00 | 0.000000e+00 | 0.000000e+00 | 0.000000e+00 | ...          | 0.000000e+00 | 0.000000e+00 | 0.000000e+00 |    0.0000000 | 0.000000e+00 | 0.000000e+00 | 0.000000e+00 | 0.000000e+00 | 0.000000e+00 | 0.000000e+00 |\n",
       "| min | NA           | 6.000000e+01 | 5.500000e+01 | 6.300000e+01 | 5.700000e+01 | 5.500000e+01 | 5.100000e+01 | 5.700000e+01 | 5.700000e+01 | 6.200000e+01 | ...          | 5.300000e+01 | 5.900000e+01 | 5.000000e+01 |   51.0000000 | 6.700000e+01 | 5.900000e+01 | 5.600000e+01 | 5.600000e+01 | 6.300000e+01 | 5.600000e+01 |\n",
       "| max | NA           | 9.900000e+01 | 9.500000e+01 | 9.500000e+01 | 9.900000e+01 | 1.010000e+02 | 9.300000e+01 | 9.700000e+01 | 9.100000e+01 | 9.500000e+01 | ...          | 9.800000e+01 | 1.040000e+02 | 9.500000e+01 |   95.0000000 | 9.700000e+01 | 9.900000e+01 | 1.050000e+02 | 9.200000e+01 | 9.500000e+01 | 9.700000e+01 |\n",
       "| range | NA           | 3.900000e+01 | 4.000000e+01 | 3.200000e+01 | 4.200000e+01 | 4.600000e+01 | 4.200000e+01 | 4.000000e+01 | 3.400000e+01 | 3.300000e+01 | ...          | 4.500000e+01 | 4.500000e+01 | 4.500000e+01 |   44.0000000 | 3.000000e+01 | 4.000000e+01 | 4.900000e+01 | 3.600000e+01 | 3.200000e+01 | 4.100000e+01 |\n",
       "| sum | NA           | 1.029700e+04 | 1.004600e+04 | 1.036400e+04 | 1.025300e+04 | 1.033600e+04 | 1.003100e+04 | 1.028100e+04 | 1.002200e+04 | 1.005700e+04 | ...          | 1.021500e+04 | 1.050400e+04 | 1.014900e+04 | 9962.0000000 | 1.072700e+04 | 1.048900e+04 | 1.041200e+04 | 1.004500e+04 | 1.032500e+04 | 1.024600e+04 |\n",
       "| median | NA           | 8.400000e+01 | 8.400000e+01 | 8.600000e+01 | 8.600000e+01 | 8.600000e+01 | 8.400000e+01 | 8.700000e+01 | 8.400000e+01 | 8.200000e+01 | ...          | 8.500000e+01 | 8.600000e+01 | 8.500000e+01 |   83.0000000 | 9.000000e+01 | 8.900000e+01 | 8.500000e+01 | 8.400000e+01 | 8.600000e+01 | 8.500000e+01 |\n",
       "| mean | NA           | 8.371545e+01 | 8.167480e+01 | 8.426016e+01 | 8.335772e+01 | 8.403252e+01 | 8.155285e+01 | 8.358537e+01 | 8.147967e+01 | 8.176423e+01 | ...          | 8.304878e+01 | 8.539837e+01 | 8.251220e+01 |   80.9918699 | 8.721138e+01 | 8.527642e+01 | 8.465041e+01 | 8.166667e+01 | 8.394309e+01 | 8.330081e+01 |\n",
       "| SE.mean | NA           | 7.707778e-01 | 8.402680e-01 | 5.779084e-01 | 8.767230e-01 | 8.582715e-01 | 7.415797e-01 | 8.499223e-01 | 6.327873e-01 | 6.007771e-01 | ...          | 8.830639e-01 | 8.145141e-01 | 7.874436e-01 |    0.8126922 | 6.713072e-01 | 8.954623e-01 | 8.342578e-01 | 6.966788e-01 | 5.943334e-01 | 7.852885e-01 |\n",
       "| CI.mean | NA           | 1.525832e+00 | 1.663395e+00 | 1.144027e+00 | 1.735561e+00 | 1.699034e+00 | 1.468031e+00 | 1.682506e+00 | 1.252666e+00 | 1.189298e+00 | ...          | 1.748113e+00 | 1.612412e+00 | 1.558823e+00 |    1.6088054 | 1.328920e+00 | 1.772657e+00 | 1.651497e+00 | 1.379145e+00 | 1.176542e+00 | 1.554557e+00 |\n",
       "| var | NA           | 7.307410e+01 | 8.684420e+01 | 4.107930e+01 | 9.454312e+01 | 9.060549e+01 | 6.764268e+01 | 8.885126e+01 | 4.925163e+01 | 4.439478e+01 | ...          | 9.591563e+01 | 8.160229e+01 | 7.626829e+01 |   81.2376383 | 5.543036e+01 | 9.862788e+01 | 8.560629e+01 | 5.969945e+01 | 4.344755e+01 | 7.585139e+01 |\n",
       "| std.dev | NA           | 8.548339e+00 | 9.319023e+00 | 6.409314e+00 | 9.723328e+00 | 9.518692e+00 | 8.224517e+00 | 9.426095e+00 | 7.017951e+00 | 6.662940e+00 | ...          | 9.793653e+00 | 9.033399e+00 | 8.733172e+00 |    9.0131925 | 7.445157e+00 | 9.931157e+00 | 9.252367e+00 | 7.726542e+00 | 6.591476e+00 | 8.709271e+00 |\n",
       "| coef.var | NA           | 1.021119e-01 | 1.140991e-01 | 7.606576e-02 | 1.166458e-01 | 1.132739e-01 | 1.008489e-01 | 1.127721e-01 | 8.613131e-02 | 8.148968e-02 | ...          | 1.179265e-01 | 1.057795e-01 | 1.058410e-01 |    0.1112852 | 8.536910e-02 | 1.164584e-01 | 1.093009e-01 | 9.461072e-02 | 7.852315e-02 | 1.045520e-01 |\n",
       "\n"
      ],
      "text/plain": [
       "         DAY X1996        X1997        X1998        X1999        X2000       \n",
       "nbr.val  NA  1.230000e+02 1.230000e+02 1.230000e+02 1.230000e+02 1.230000e+02\n",
       "nbr.null NA  0.000000e+00 0.000000e+00 0.000000e+00 0.000000e+00 0.000000e+00\n",
       "nbr.na   NA  0.000000e+00 0.000000e+00 0.000000e+00 0.000000e+00 0.000000e+00\n",
       "min      NA  6.000000e+01 5.500000e+01 6.300000e+01 5.700000e+01 5.500000e+01\n",
       "max      NA  9.900000e+01 9.500000e+01 9.500000e+01 9.900000e+01 1.010000e+02\n",
       "range    NA  3.900000e+01 4.000000e+01 3.200000e+01 4.200000e+01 4.600000e+01\n",
       "sum      NA  1.029700e+04 1.004600e+04 1.036400e+04 1.025300e+04 1.033600e+04\n",
       "median   NA  8.400000e+01 8.400000e+01 8.600000e+01 8.600000e+01 8.600000e+01\n",
       "mean     NA  8.371545e+01 8.167480e+01 8.426016e+01 8.335772e+01 8.403252e+01\n",
       "SE.mean  NA  7.707778e-01 8.402680e-01 5.779084e-01 8.767230e-01 8.582715e-01\n",
       "CI.mean  NA  1.525832e+00 1.663395e+00 1.144027e+00 1.735561e+00 1.699034e+00\n",
       "var      NA  7.307410e+01 8.684420e+01 4.107930e+01 9.454312e+01 9.060549e+01\n",
       "std.dev  NA  8.548339e+00 9.319023e+00 6.409314e+00 9.723328e+00 9.518692e+00\n",
       "coef.var NA  1.021119e-01 1.140991e-01 7.606576e-02 1.166458e-01 1.132739e-01\n",
       "         X2001        X2002        X2003        X2004        ... X2006       \n",
       "nbr.val  1.230000e+02 1.230000e+02 1.230000e+02 1.230000e+02 ... 1.230000e+02\n",
       "nbr.null 0.000000e+00 0.000000e+00 0.000000e+00 0.000000e+00 ... 0.000000e+00\n",
       "nbr.na   0.000000e+00 0.000000e+00 0.000000e+00 0.000000e+00 ... 0.000000e+00\n",
       "min      5.100000e+01 5.700000e+01 5.700000e+01 6.200000e+01 ... 5.300000e+01\n",
       "max      9.300000e+01 9.700000e+01 9.100000e+01 9.500000e+01 ... 9.800000e+01\n",
       "range    4.200000e+01 4.000000e+01 3.400000e+01 3.300000e+01 ... 4.500000e+01\n",
       "sum      1.003100e+04 1.028100e+04 1.002200e+04 1.005700e+04 ... 1.021500e+04\n",
       "median   8.400000e+01 8.700000e+01 8.400000e+01 8.200000e+01 ... 8.500000e+01\n",
       "mean     8.155285e+01 8.358537e+01 8.147967e+01 8.176423e+01 ... 8.304878e+01\n",
       "SE.mean  7.415797e-01 8.499223e-01 6.327873e-01 6.007771e-01 ... 8.830639e-01\n",
       "CI.mean  1.468031e+00 1.682506e+00 1.252666e+00 1.189298e+00 ... 1.748113e+00\n",
       "var      6.764268e+01 8.885126e+01 4.925163e+01 4.439478e+01 ... 9.591563e+01\n",
       "std.dev  8.224517e+00 9.426095e+00 7.017951e+00 6.662940e+00 ... 9.793653e+00\n",
       "coef.var 1.008489e-01 1.127721e-01 8.613131e-02 8.148968e-02 ... 1.179265e-01\n",
       "         X2007        X2008        X2009        X2010        X2011       \n",
       "nbr.val  1.230000e+02 1.230000e+02  123.0000000 1.230000e+02 1.230000e+02\n",
       "nbr.null 0.000000e+00 0.000000e+00    0.0000000 0.000000e+00 0.000000e+00\n",
       "nbr.na   0.000000e+00 0.000000e+00    0.0000000 0.000000e+00 0.000000e+00\n",
       "min      5.900000e+01 5.000000e+01   51.0000000 6.700000e+01 5.900000e+01\n",
       "max      1.040000e+02 9.500000e+01   95.0000000 9.700000e+01 9.900000e+01\n",
       "range    4.500000e+01 4.500000e+01   44.0000000 3.000000e+01 4.000000e+01\n",
       "sum      1.050400e+04 1.014900e+04 9962.0000000 1.072700e+04 1.048900e+04\n",
       "median   8.600000e+01 8.500000e+01   83.0000000 9.000000e+01 8.900000e+01\n",
       "mean     8.539837e+01 8.251220e+01   80.9918699 8.721138e+01 8.527642e+01\n",
       "SE.mean  8.145141e-01 7.874436e-01    0.8126922 6.713072e-01 8.954623e-01\n",
       "CI.mean  1.612412e+00 1.558823e+00    1.6088054 1.328920e+00 1.772657e+00\n",
       "var      8.160229e+01 7.626829e+01   81.2376383 5.543036e+01 9.862788e+01\n",
       "std.dev  9.033399e+00 8.733172e+00    9.0131925 7.445157e+00 9.931157e+00\n",
       "coef.var 1.057795e-01 1.058410e-01    0.1112852 8.536910e-02 1.164584e-01\n",
       "         X2012        X2013        X2014        X2015       \n",
       "nbr.val  1.230000e+02 1.230000e+02 1.230000e+02 1.230000e+02\n",
       "nbr.null 0.000000e+00 0.000000e+00 0.000000e+00 0.000000e+00\n",
       "nbr.na   0.000000e+00 0.000000e+00 0.000000e+00 0.000000e+00\n",
       "min      5.600000e+01 5.600000e+01 6.300000e+01 5.600000e+01\n",
       "max      1.050000e+02 9.200000e+01 9.500000e+01 9.700000e+01\n",
       "range    4.900000e+01 3.600000e+01 3.200000e+01 4.100000e+01\n",
       "sum      1.041200e+04 1.004500e+04 1.032500e+04 1.024600e+04\n",
       "median   8.500000e+01 8.400000e+01 8.600000e+01 8.500000e+01\n",
       "mean     8.465041e+01 8.166667e+01 8.394309e+01 8.330081e+01\n",
       "SE.mean  8.342578e-01 6.966788e-01 5.943334e-01 7.852885e-01\n",
       "CI.mean  1.651497e+00 1.379145e+00 1.176542e+00 1.554557e+00\n",
       "var      8.560629e+01 5.969945e+01 4.344755e+01 7.585139e+01\n",
       "std.dev  9.252367e+00 7.726542e+00 6.591476e+00 8.709271e+00\n",
       "coef.var 1.093009e-01 9.461072e-02 7.852315e-02 1.045520e-01"
      ]
     },
     "metadata": {},
     "output_type": "display_data"
    }
   ],
   "source": [
    "# Get statistical information\n",
    "stat.desc(temps_data)"
   ]
  },
  {
   "cell_type": "markdown",
   "id": "421f783b-f2af-41eb-8bfc-c749421bf9e2",
   "metadata": {},
   "source": [
    "This lets me know that I have a table with 123 rows and 21 columns. The data is primarily integers with one factor value which is the DAY column. Temperature ranges for each year are ~30-40 degrees and the standard deviations are ~6.5-10. The data represents the daily high temperature for the given year."
   ]
  },
  {
   "cell_type": "markdown",
   "id": "f3b57c73-3979-45e8-ae2b-027c10ca511e",
   "metadata": {},
   "source": [
    "#### Step 2 - Compute the average temperature for each day\n",
    "Next I am going to compute the average temperature for each day across all the years in the column and then add that value to the original dataset"
   ]
  },
  {
   "cell_type": "code",
   "execution_count": 28,
   "id": "f015bcdf-a830-4868-bc32-48c0dcacbeda",
   "metadata": {
    "vscode": {
     "languageId": "r"
    }
   },
   "outputs": [
    {
     "data": {
      "text/html": [
       "<table>\n",
       "<thead><tr><th scope=col>DAY</th><th scope=col>X1996</th><th scope=col>X1997</th><th scope=col>X1998</th><th scope=col>X1999</th><th scope=col>X2000</th><th scope=col>X2001</th><th scope=col>X2002</th><th scope=col>X2003</th><th scope=col>X2004</th><th scope=col>...</th><th scope=col>X2007</th><th scope=col>X2008</th><th scope=col>X2009</th><th scope=col>X2010</th><th scope=col>X2011</th><th scope=col>X2012</th><th scope=col>X2013</th><th scope=col>X2014</th><th scope=col>X2015</th><th scope=col>AVERAGE</th></tr></thead>\n",
       "<tbody>\n",
       "\t<tr><td>1-Jul</td><td>98   </td><td>86   </td><td>91   </td><td>84   </td><td>89   </td><td>84   </td><td>90   </td><td>73   </td><td>82   </td><td>...  </td><td>95   </td><td>85   </td><td>95   </td><td>87   </td><td>92   </td><td>105  </td><td>82   </td><td>90   </td><td>85   </td><td>88.85</td></tr>\n",
       "\t<tr><td>2-Jul</td><td>97   </td><td>90   </td><td>88   </td><td>82   </td><td>91   </td><td>87   </td><td>90   </td><td>81   </td><td>81   </td><td>...  </td><td>85   </td><td>87   </td><td>90   </td><td>84   </td><td>94   </td><td> 93  </td><td>85   </td><td>93   </td><td>87   </td><td>88.35</td></tr>\n",
       "\t<tr><td>3-Jul</td><td>97   </td><td>93   </td><td>91   </td><td>87   </td><td>93   </td><td>87   </td><td>87   </td><td>87   </td><td>86   </td><td>...  </td><td>82   </td><td>91   </td><td>89   </td><td>83   </td><td>95   </td><td> 99  </td><td>76   </td><td>87   </td><td>79   </td><td>88.40</td></tr>\n",
       "\t<tr><td>4-Jul</td><td>90   </td><td>91   </td><td>91   </td><td>88   </td><td>95   </td><td>84   </td><td>89   </td><td>86   </td><td>88   </td><td>...  </td><td>86   </td><td>90   </td><td>91   </td><td>85   </td><td>92   </td><td> 98  </td><td>77   </td><td>84   </td><td>85   </td><td>88.35</td></tr>\n",
       "\t<tr><td>5-Jul</td><td>89   </td><td>84   </td><td>91   </td><td>90   </td><td>96   </td><td>86   </td><td>93   </td><td>80   </td><td>90   </td><td>...  </td><td>88   </td><td>88   </td><td>80   </td><td>88   </td><td>90   </td><td>100  </td><td>83   </td><td>86   </td><td>84   </td><td>88.25</td></tr>\n",
       "\t<tr><td>6-Jul</td><td>93   </td><td>84   </td><td>89   </td><td>91   </td><td>96   </td><td>87   </td><td>93   </td><td>84   </td><td>90   </td><td>...  </td><td>87   </td><td>82   </td><td>87   </td><td>89   </td><td>90   </td><td> 98  </td><td>83   </td><td>87   </td><td>84   </td><td>87.85</td></tr>\n",
       "</tbody>\n",
       "</table>\n"
      ],
      "text/latex": [
       "\\begin{tabular}{r|llllllllllllllllllllll}\n",
       " DAY & X1996 & X1997 & X1998 & X1999 & X2000 & X2001 & X2002 & X2003 & X2004 & ... & X2007 & X2008 & X2009 & X2010 & X2011 & X2012 & X2013 & X2014 & X2015 & AVERAGE\\\\\n",
       "\\hline\n",
       "\t 1-Jul & 98    & 86    & 91    & 84    & 89    & 84    & 90    & 73    & 82    & ...   & 95    & 85    & 95    & 87    & 92    & 105   & 82    & 90    & 85    & 88.85\\\\\n",
       "\t 2-Jul & 97    & 90    & 88    & 82    & 91    & 87    & 90    & 81    & 81    & ...   & 85    & 87    & 90    & 84    & 94    &  93   & 85    & 93    & 87    & 88.35\\\\\n",
       "\t 3-Jul & 97    & 93    & 91    & 87    & 93    & 87    & 87    & 87    & 86    & ...   & 82    & 91    & 89    & 83    & 95    &  99   & 76    & 87    & 79    & 88.40\\\\\n",
       "\t 4-Jul & 90    & 91    & 91    & 88    & 95    & 84    & 89    & 86    & 88    & ...   & 86    & 90    & 91    & 85    & 92    &  98   & 77    & 84    & 85    & 88.35\\\\\n",
       "\t 5-Jul & 89    & 84    & 91    & 90    & 96    & 86    & 93    & 80    & 90    & ...   & 88    & 88    & 80    & 88    & 90    & 100   & 83    & 86    & 84    & 88.25\\\\\n",
       "\t 6-Jul & 93    & 84    & 89    & 91    & 96    & 87    & 93    & 84    & 90    & ...   & 87    & 82    & 87    & 89    & 90    &  98   & 83    & 87    & 84    & 87.85\\\\\n",
       "\\end{tabular}\n"
      ],
      "text/markdown": [
       "\n",
       "| DAY | X1996 | X1997 | X1998 | X1999 | X2000 | X2001 | X2002 | X2003 | X2004 | ... | X2007 | X2008 | X2009 | X2010 | X2011 | X2012 | X2013 | X2014 | X2015 | AVERAGE |\n",
       "|---|---|---|---|---|---|---|---|---|---|---|---|---|---|---|---|---|---|---|---|---|\n",
       "| 1-Jul | 98    | 86    | 91    | 84    | 89    | 84    | 90    | 73    | 82    | ...   | 95    | 85    | 95    | 87    | 92    | 105   | 82    | 90    | 85    | 88.85 |\n",
       "| 2-Jul | 97    | 90    | 88    | 82    | 91    | 87    | 90    | 81    | 81    | ...   | 85    | 87    | 90    | 84    | 94    |  93   | 85    | 93    | 87    | 88.35 |\n",
       "| 3-Jul | 97    | 93    | 91    | 87    | 93    | 87    | 87    | 87    | 86    | ...   | 82    | 91    | 89    | 83    | 95    |  99   | 76    | 87    | 79    | 88.40 |\n",
       "| 4-Jul | 90    | 91    | 91    | 88    | 95    | 84    | 89    | 86    | 88    | ...   | 86    | 90    | 91    | 85    | 92    |  98   | 77    | 84    | 85    | 88.35 |\n",
       "| 5-Jul | 89    | 84    | 91    | 90    | 96    | 86    | 93    | 80    | 90    | ...   | 88    | 88    | 80    | 88    | 90    | 100   | 83    | 86    | 84    | 88.25 |\n",
       "| 6-Jul | 93    | 84    | 89    | 91    | 96    | 87    | 93    | 84    | 90    | ...   | 87    | 82    | 87    | 89    | 90    |  98   | 83    | 87    | 84    | 87.85 |\n",
       "\n"
      ],
      "text/plain": [
       "  DAY   X1996 X1997 X1998 X1999 X2000 X2001 X2002 X2003 X2004 ... X2007 X2008\n",
       "1 1-Jul 98    86    91    84    89    84    90    73    82    ... 95    85   \n",
       "2 2-Jul 97    90    88    82    91    87    90    81    81    ... 85    87   \n",
       "3 3-Jul 97    93    91    87    93    87    87    87    86    ... 82    91   \n",
       "4 4-Jul 90    91    91    88    95    84    89    86    88    ... 86    90   \n",
       "5 5-Jul 89    84    91    90    96    86    93    80    90    ... 88    88   \n",
       "6 6-Jul 93    84    89    91    96    87    93    84    90    ... 87    82   \n",
       "  X2009 X2010 X2011 X2012 X2013 X2014 X2015 AVERAGE\n",
       "1 95    87    92    105   82    90    85    88.85  \n",
       "2 90    84    94     93   85    93    87    88.35  \n",
       "3 89    83    95     99   76    87    79    88.40  \n",
       "4 91    85    92     98   77    84    85    88.35  \n",
       "5 80    88    90    100   83    86    84    88.25  \n",
       "6 87    89    90     98   83    87    84    87.85  "
      ]
     },
     "metadata": {},
     "output_type": "display_data"
    }
   ],
   "source": [
    "# Compute the average temperature for each day of the year\n",
    "date_average <- rowMeans(temps_data[,2:21])\n",
    "\n",
    "# Add the values to the orginal dataset\n",
    "temps_data$AVERAGE <- date_average\n",
    "\n",
    "# Look at the updated table\n",
    "head(temps_data)"
   ]
  },
  {
   "cell_type": "markdown",
   "id": "1ed0647f-57eb-40aa-96aa-25edececb5d6",
   "metadata": {},
   "source": [
    "#### Step 3 - Determine the mean temperature and the model parameters T and C\n",
    "To calculate the mean temperature it is supposed to the mean \"if no change\". This is difficult to determine for the temperature data since we see large changes throughout the summer months as things get hotter and then cool off again. Since we are insterested in summer I choose to use the mean as being the temperatures from July 1st to August 30th. These days have averages above 85 and are close to what is considered summer. The T and C values I set equal to a factor of the standard deviation for those months and played around with different values until I felt like the results were reasonable. Without a better idea of what the model woud be used for and the cost of a false prediction or missing a prediction it is hard to determine the best option."
   ]
  },
  {
   "cell_type": "code",
   "execution_count": 8,
   "id": "19549606-f0d1-4687-8a0c-f53984d253a2",
   "metadata": {
    "vscode": {
     "languageId": "r"
    }
   },
   "outputs": [
    {
     "name": "stdout",
     "output_type": "stream",
     "text": [
      "Mean temperatue is: 88.40221"
     ]
    }
   ],
   "source": [
    "# Calculate the mean of all of the days\n",
    "mean_cutoff <- which(temps_data$DAY == '6-Sep')\n",
    "temp_mean <- mean(temps_data$AVERAGE[1:mean_cutoff])\n",
    "cat(\"Mean temperatue is:\", temp_mean)"
   ]
  },
  {
   "cell_type": "code",
   "execution_count": 9,
   "id": "de1d0a7d-3f29-4fee-9132-23d845e16112",
   "metadata": {
    "vscode": {
     "languageId": "r"
    }
   },
   "outputs": [
    {
     "data": {
      "image/png": "[encoded data removed]",
      "text/plain": [
       "plot without title"
      ]
     },
     "metadata": {},
     "output_type": "display_data"
    }
   ],
   "source": [
    "# Plot the average temperature vs. day\n",
    "ggplot(data=temps_data, aes(x=DAY, y=AVERAGE, group = 1)) + \n",
    "    geom_line(color='blue') +\n",
    "    geom_point() +\n",
    "    ggtitle(\"Average Daily Temperature\") +\n",
    "    geom_hline(yintercept = temp_mean, linetype = \"dashed\", color = \"red\") +\n",
    "    annotate(\"text\", x = Inf, y = temp_mean, label = \"Mean Value\", vjust = 1.5, color = \"red\") +\n",
    "    scale_x_discrete(breaks = temps_data$DAY[seq(1, nrow(temps_data), 10)])"
   ]
  },
  {
   "cell_type": "code",
   "execution_count": 10,
   "id": "aa6f00ee-6b81-4f7c-905d-c38b16dd54b2",
   "metadata": {
    "vscode": {
     "languageId": "r"
    }
   },
   "outputs": [],
   "source": [
    "# Set T and C values\n",
    "T <- 5 * sd(temps_data$AVERAGE[1:mean_cutoff])\n",
    "C <- .5 * sd(temps_data$AVERAGE[1:mean_cutoff])"
   ]
  },
  {
   "cell_type": "markdown",
   "id": "f5b33dea-070c-42d1-a2b2-342104e8f832",
   "metadata": {},
   "source": [
    "#### Step 4 - Compute the cumulative sum (St)\n",
    "Next I am going to compute the daily St and running total. Since I am detecting a decrease I am using the model where the daily value and C are subtracted from the mean."
   ]
  },
  {
   "cell_type": "code",
   "execution_count": 11,
   "id": "98c24ebc-be35-4ccd-bc0e-7456da611471",
   "metadata": {
    "vscode": {
     "languageId": "r"
    }
   },
   "outputs": [
    {
     "data": {
      "text/html": [
       "<table>\n",
       "<thead><tr><th scope=col>DAY</th><th scope=col>X1996</th><th scope=col>X1997</th><th scope=col>X1998</th><th scope=col>X1999</th><th scope=col>X2000</th><th scope=col>X2001</th><th scope=col>X2002</th><th scope=col>X2003</th><th scope=col>X2004</th><th scope=col>...</th><th scope=col>X2008</th><th scope=col>X2009</th><th scope=col>X2010</th><th scope=col>X2011</th><th scope=col>X2012</th><th scope=col>X2013</th><th scope=col>X2014</th><th scope=col>X2015</th><th scope=col>AVERAGE</th><th scope=col>S_t_row</th></tr></thead>\n",
       "<tbody>\n",
       "\t<tr><td>1-Jul     </td><td>98        </td><td>86        </td><td>91        </td><td>84        </td><td>89        </td><td>84        </td><td>90        </td><td>73        </td><td>82        </td><td>...       </td><td>85        </td><td>95        </td><td>87        </td><td>92        </td><td>105       </td><td>82        </td><td>90        </td><td>85        </td><td>88.85     </td><td>-1.1290248</td></tr>\n",
       "\t<tr><td>2-Jul     </td><td>97        </td><td>90        </td><td>88        </td><td>82        </td><td>91        </td><td>87        </td><td>90        </td><td>81        </td><td>81        </td><td>...       </td><td>87        </td><td>90        </td><td>84        </td><td>94        </td><td> 93       </td><td>85        </td><td>93        </td><td>87        </td><td>88.35     </td><td>-0.6290248</td></tr>\n",
       "\t<tr><td>3-Jul     </td><td>97        </td><td>93        </td><td>91        </td><td>87        </td><td>93        </td><td>87        </td><td>87        </td><td>87        </td><td>86        </td><td>...       </td><td>91        </td><td>89        </td><td>83        </td><td>95        </td><td> 99       </td><td>76        </td><td>87        </td><td>79        </td><td>88.40     </td><td>-0.6790248</td></tr>\n",
       "\t<tr><td>4-Jul     </td><td>90        </td><td>91        </td><td>91        </td><td>88        </td><td>95        </td><td>84        </td><td>89        </td><td>86        </td><td>88        </td><td>...       </td><td>90        </td><td>91        </td><td>85        </td><td>92        </td><td> 98       </td><td>77        </td><td>84        </td><td>85        </td><td>88.35     </td><td>-0.6290248</td></tr>\n",
       "\t<tr><td>5-Jul     </td><td>89        </td><td>84        </td><td>91        </td><td>90        </td><td>96        </td><td>86        </td><td>93        </td><td>80        </td><td>90        </td><td>...       </td><td>88        </td><td>80        </td><td>88        </td><td>90        </td><td>100       </td><td>83        </td><td>86        </td><td>84        </td><td>88.25     </td><td>-0.5290248</td></tr>\n",
       "\t<tr><td>6-Jul     </td><td>93        </td><td>84        </td><td>89        </td><td>91        </td><td>96        </td><td>87        </td><td>93        </td><td>84        </td><td>90        </td><td>...       </td><td>82        </td><td>87        </td><td>89        </td><td>90        </td><td> 98       </td><td>83        </td><td>87        </td><td>84        </td><td>87.85     </td><td>-0.1290248</td></tr>\n",
       "</tbody>\n",
       "</table>\n"
      ],
      "text/latex": [
       "\\begin{tabular}{r|lllllllllllllllllllllll}\n",
       " DAY & X1996 & X1997 & X1998 & X1999 & X2000 & X2001 & X2002 & X2003 & X2004 & ... & X2008 & X2009 & X2010 & X2011 & X2012 & X2013 & X2014 & X2015 & AVERAGE & S\\_t\\_row\\\\\n",
       "\\hline\n",
       "\t 1-Jul      & 98         & 86         & 91         & 84         & 89         & 84         & 90         & 73         & 82         & ...        & 85         & 95         & 87         & 92         & 105        & 82         & 90         & 85         & 88.85      & -1.1290248\\\\\n",
       "\t 2-Jul      & 97         & 90         & 88         & 82         & 91         & 87         & 90         & 81         & 81         & ...        & 87         & 90         & 84         & 94         &  93        & 85         & 93         & 87         & 88.35      & -0.6290248\\\\\n",
       "\t 3-Jul      & 97         & 93         & 91         & 87         & 93         & 87         & 87         & 87         & 86         & ...        & 91         & 89         & 83         & 95         &  99        & 76         & 87         & 79         & 88.40      & -0.6790248\\\\\n",
       "\t 4-Jul      & 90         & 91         & 91         & 88         & 95         & 84         & 89         & 86         & 88         & ...        & 90         & 91         & 85         & 92         &  98        & 77         & 84         & 85         & 88.35      & -0.6290248\\\\\n",
       "\t 5-Jul      & 89         & 84         & 91         & 90         & 96         & 86         & 93         & 80         & 90         & ...        & 88         & 80         & 88         & 90         & 100        & 83         & 86         & 84         & 88.25      & -0.5290248\\\\\n",
       "\t 6-Jul      & 93         & 84         & 89         & 91         & 96         & 87         & 93         & 84         & 90         & ...        & 82         & 87         & 89         & 90         &  98        & 83         & 87         & 84         & 87.85      & -0.1290248\\\\\n",
       "\\end{tabular}\n"
      ],
      "text/markdown": [
       "\n",
       "| DAY | X1996 | X1997 | X1998 | X1999 | X2000 | X2001 | X2002 | X2003 | X2004 | ... | X2008 | X2009 | X2010 | X2011 | X2012 | X2013 | X2014 | X2015 | AVERAGE | S_t_row |\n",
       "|---|---|---|---|---|---|---|---|---|---|---|---|---|---|---|---|---|---|---|---|---|\n",
       "| 1-Jul      | 98         | 86         | 91         | 84         | 89         | 84         | 90         | 73         | 82         | ...        | 85         | 95         | 87         | 92         | 105        | 82         | 90         | 85         | 88.85      | -1.1290248 |\n",
       "| 2-Jul      | 97         | 90         | 88         | 82         | 91         | 87         | 90         | 81         | 81         | ...        | 87         | 90         | 84         | 94         |  93        | 85         | 93         | 87         | 88.35      | -0.6290248 |\n",
       "| 3-Jul      | 97         | 93         | 91         | 87         | 93         | 87         | 87         | 87         | 86         | ...        | 91         | 89         | 83         | 95         |  99        | 76         | 87         | 79         | 88.40      | -0.6790248 |\n",
       "| 4-Jul      | 90         | 91         | 91         | 88         | 95         | 84         | 89         | 86         | 88         | ...        | 90         | 91         | 85         | 92         |  98        | 77         | 84         | 85         | 88.35      | -0.6290248 |\n",
       "| 5-Jul      | 89         | 84         | 91         | 90         | 96         | 86         | 93         | 80         | 90         | ...        | 88         | 80         | 88         | 90         | 100        | 83         | 86         | 84         | 88.25      | -0.5290248 |\n",
       "| 6-Jul      | 93         | 84         | 89         | 91         | 96         | 87         | 93         | 84         | 90         | ...        | 82         | 87         | 89         | 90         |  98        | 83         | 87         | 84         | 87.85      | -0.1290248 |\n",
       "\n"
      ],
      "text/plain": [
       "  DAY   X1996 X1997 X1998 X1999 X2000 X2001 X2002 X2003 X2004 ... X2008 X2009\n",
       "1 1-Jul 98    86    91    84    89    84    90    73    82    ... 85    95   \n",
       "2 2-Jul 97    90    88    82    91    87    90    81    81    ... 87    90   \n",
       "3 3-Jul 97    93    91    87    93    87    87    87    86    ... 91    89   \n",
       "4 4-Jul 90    91    91    88    95    84    89    86    88    ... 90    91   \n",
       "5 5-Jul 89    84    91    90    96    86    93    80    90    ... 88    80   \n",
       "6 6-Jul 93    84    89    91    96    87    93    84    90    ... 82    87   \n",
       "  X2010 X2011 X2012 X2013 X2014 X2015 AVERAGE S_t_row   \n",
       "1 87    92    105   82    90    85    88.85   -1.1290248\n",
       "2 84    94     93   85    93    87    88.35   -0.6290248\n",
       "3 83    95     99   76    87    79    88.40   -0.6790248\n",
       "4 85    92     98   77    84    85    88.35   -0.6290248\n",
       "5 88    90    100   83    86    84    88.25   -0.5290248\n",
       "6 89    90     98   83    87    84    87.85   -0.1290248"
      ]
     },
     "metadata": {},
     "output_type": "display_data"
    }
   ],
   "source": [
    "# Calculate difference between average temperature for each day the mean and C value\n",
    "S_t_row <- temp_mean - date_average - C\n",
    "temps_data$S_t_row <- S_t_row\n",
    "head(temps_data)"
   ]
  },
  {
   "cell_type": "code",
   "execution_count": 12,
   "id": "a3ea3b15-5678-44d1-90d1-f0013057a9cc",
   "metadata": {
    "vscode": {
     "languageId": "r"
    }
   },
   "outputs": [
    {
     "data": {
      "text/html": [
       "<table>\n",
       "<thead><tr><th scope=col>DAY</th><th scope=col>X1996</th><th scope=col>X1997</th><th scope=col>X1998</th><th scope=col>X1999</th><th scope=col>X2000</th><th scope=col>X2001</th><th scope=col>X2002</th><th scope=col>X2003</th><th scope=col>X2004</th><th scope=col>...</th><th scope=col>X2009</th><th scope=col>X2010</th><th scope=col>X2011</th><th scope=col>X2012</th><th scope=col>X2013</th><th scope=col>X2014</th><th scope=col>X2015</th><th scope=col>AVERAGE</th><th scope=col>S_t_row</th><th scope=col>S_t_running</th></tr></thead>\n",
       "<tbody>\n",
       "\t<tr><td>1-Jul     </td><td>98        </td><td>86        </td><td>91        </td><td>84        </td><td>89        </td><td>84        </td><td>90        </td><td>73        </td><td>82        </td><td>...       </td><td>95        </td><td>87        </td><td>92        </td><td>105       </td><td>82        </td><td>90        </td><td>85        </td><td>88.85     </td><td>-1.1290248</td><td>0         </td></tr>\n",
       "\t<tr><td>2-Jul     </td><td>97        </td><td>90        </td><td>88        </td><td>82        </td><td>91        </td><td>87        </td><td>90        </td><td>81        </td><td>81        </td><td>...       </td><td>90        </td><td>84        </td><td>94        </td><td> 93       </td><td>85        </td><td>93        </td><td>87        </td><td>88.35     </td><td>-0.6290248</td><td>0         </td></tr>\n",
       "\t<tr><td>3-Jul     </td><td>97        </td><td>93        </td><td>91        </td><td>87        </td><td>93        </td><td>87        </td><td>87        </td><td>87        </td><td>86        </td><td>...       </td><td>89        </td><td>83        </td><td>95        </td><td> 99       </td><td>76        </td><td>87        </td><td>79        </td><td>88.40     </td><td>-0.6790248</td><td>0         </td></tr>\n",
       "\t<tr><td>4-Jul     </td><td>90        </td><td>91        </td><td>91        </td><td>88        </td><td>95        </td><td>84        </td><td>89        </td><td>86        </td><td>88        </td><td>...       </td><td>91        </td><td>85        </td><td>92        </td><td> 98       </td><td>77        </td><td>84        </td><td>85        </td><td>88.35     </td><td>-0.6290248</td><td>0         </td></tr>\n",
       "\t<tr><td>5-Jul     </td><td>89        </td><td>84        </td><td>91        </td><td>90        </td><td>96        </td><td>86        </td><td>93        </td><td>80        </td><td>90        </td><td>...       </td><td>80        </td><td>88        </td><td>90        </td><td>100       </td><td>83        </td><td>86        </td><td>84        </td><td>88.25     </td><td>-0.5290248</td><td>0         </td></tr>\n",
       "\t<tr><td>6-Jul     </td><td>93        </td><td>84        </td><td>89        </td><td>91        </td><td>96        </td><td>87        </td><td>93        </td><td>84        </td><td>90        </td><td>...       </td><td>87        </td><td>89        </td><td>90        </td><td> 98       </td><td>83        </td><td>87        </td><td>84        </td><td>87.85     </td><td>-0.1290248</td><td>0         </td></tr>\n",
       "</tbody>\n",
       "</table>\n"
      ],
      "text/latex": [
       "\\begin{tabular}{r|llllllllllllllllllllllll}\n",
       " DAY & X1996 & X1997 & X1998 & X1999 & X2000 & X2001 & X2002 & X2003 & X2004 & ... & X2009 & X2010 & X2011 & X2012 & X2013 & X2014 & X2015 & AVERAGE & S\\_t\\_row & S\\_t\\_running\\\\\n",
       "\\hline\n",
       "\t 1-Jul      & 98         & 86         & 91         & 84         & 89         & 84         & 90         & 73         & 82         & ...        & 95         & 87         & 92         & 105        & 82         & 90         & 85         & 88.85      & -1.1290248 & 0         \\\\\n",
       "\t 2-Jul      & 97         & 90         & 88         & 82         & 91         & 87         & 90         & 81         & 81         & ...        & 90         & 84         & 94         &  93        & 85         & 93         & 87         & 88.35      & -0.6290248 & 0         \\\\\n",
       "\t 3-Jul      & 97         & 93         & 91         & 87         & 93         & 87         & 87         & 87         & 86         & ...        & 89         & 83         & 95         &  99        & 76         & 87         & 79         & 88.40      & -0.6790248 & 0         \\\\\n",
       "\t 4-Jul      & 90         & 91         & 91         & 88         & 95         & 84         & 89         & 86         & 88         & ...        & 91         & 85         & 92         &  98        & 77         & 84         & 85         & 88.35      & -0.6290248 & 0         \\\\\n",
       "\t 5-Jul      & 89         & 84         & 91         & 90         & 96         & 86         & 93         & 80         & 90         & ...        & 80         & 88         & 90         & 100        & 83         & 86         & 84         & 88.25      & -0.5290248 & 0         \\\\\n",
       "\t 6-Jul      & 93         & 84         & 89         & 91         & 96         & 87         & 93         & 84         & 90         & ...        & 87         & 89         & 90         &  98        & 83         & 87         & 84         & 87.85      & -0.1290248 & 0         \\\\\n",
       "\\end{tabular}\n"
      ],
      "text/markdown": [
       "\n",
       "| DAY | X1996 | X1997 | X1998 | X1999 | X2000 | X2001 | X2002 | X2003 | X2004 | ... | X2009 | X2010 | X2011 | X2012 | X2013 | X2014 | X2015 | AVERAGE | S_t_row | S_t_running |\n",
       "|---|---|---|---|---|---|---|---|---|---|---|---|---|---|---|---|---|---|---|---|---|\n",
       "| 1-Jul      | 98         | 86         | 91         | 84         | 89         | 84         | 90         | 73         | 82         | ...        | 95         | 87         | 92         | 105        | 82         | 90         | 85         | 88.85      | -1.1290248 | 0          |\n",
       "| 2-Jul      | 97         | 90         | 88         | 82         | 91         | 87         | 90         | 81         | 81         | ...        | 90         | 84         | 94         |  93        | 85         | 93         | 87         | 88.35      | -0.6290248 | 0          |\n",
       "| 3-Jul      | 97         | 93         | 91         | 87         | 93         | 87         | 87         | 87         | 86         | ...        | 89         | 83         | 95         |  99        | 76         | 87         | 79         | 88.40      | -0.6790248 | 0          |\n",
       "| 4-Jul      | 90         | 91         | 91         | 88         | 95         | 84         | 89         | 86         | 88         | ...        | 91         | 85         | 92         |  98        | 77         | 84         | 85         | 88.35      | -0.6290248 | 0          |\n",
       "| 5-Jul      | 89         | 84         | 91         | 90         | 96         | 86         | 93         | 80         | 90         | ...        | 80         | 88         | 90         | 100        | 83         | 86         | 84         | 88.25      | -0.5290248 | 0          |\n",
       "| 6-Jul      | 93         | 84         | 89         | 91         | 96         | 87         | 93         | 84         | 90         | ...        | 87         | 89         | 90         |  98        | 83         | 87         | 84         | 87.85      | -0.1290248 | 0          |\n",
       "\n"
      ],
      "text/plain": [
       "  DAY   X1996 X1997 X1998 X1999 X2000 X2001 X2002 X2003 X2004 ... X2009 X2010\n",
       "1 1-Jul 98    86    91    84    89    84    90    73    82    ... 95    87   \n",
       "2 2-Jul 97    90    88    82    91    87    90    81    81    ... 90    84   \n",
       "3 3-Jul 97    93    91    87    93    87    87    87    86    ... 89    83   \n",
       "4 4-Jul 90    91    91    88    95    84    89    86    88    ... 91    85   \n",
       "5 5-Jul 89    84    91    90    96    86    93    80    90    ... 80    88   \n",
       "6 6-Jul 93    84    89    91    96    87    93    84    90    ... 87    89   \n",
       "  X2011 X2012 X2013 X2014 X2015 AVERAGE S_t_row    S_t_running\n",
       "1 92    105   82    90    85    88.85   -1.1290248 0          \n",
       "2 94     93   85    93    87    88.35   -0.6290248 0          \n",
       "3 95     99   76    87    79    88.40   -0.6790248 0          \n",
       "4 92     98   77    84    85    88.35   -0.6290248 0          \n",
       "5 90    100   83    86    84    88.25   -0.5290248 0          \n",
       "6 90     98   83    87    84    87.85   -0.1290248 0          "
      ]
     },
     "metadata": {},
     "output_type": "display_data"
    }
   ],
   "source": [
    "# Initialize an empty vector filled with zeros\n",
    "S_t_running <- numeric(nrow(temps_data))\n",
    "\n",
    "# Loop through each row and get the running sum of S_t values\n",
    "for (i in 1:nrow(temps_data)) {\n",
    "    if (i == 1) {\n",
    "        previous_value <- 0\n",
    "    } else {\n",
    "        previous_value <- S_t_running[i-1]\n",
    "    }\n",
    "    S_t_running[i] <- pmax(0, previous_value + temps_data$S_t_row[i])\n",
    "}\n",
    "\n",
    "temps_data$S_t_running <- S_t_running\n",
    "head(temps_data)"
   ]
  },
  {
   "cell_type": "code",
   "execution_count": 13,
   "id": "8c13744d-bfb3-4347-a04c-db5d80ec8139",
   "metadata": {
    "vscode": {
     "languageId": "r"
    }
   },
   "outputs": [
    {
     "data": {
      "image/png": "[encoded data removed]",
      "text/plain": [
       "plot without title"
      ]
     },
     "metadata": {},
     "output_type": "display_data"
    }
   ],
   "source": [
    "# Plot the results\n",
    "ggplot(data=temps_data, aes(x=DAY, y=S_t_running, group = 1)) + \n",
    "    geom_line(color='orange') +\n",
    "    geom_point() +\n",
    "    ggtitle(\"S_t Plot\") +\n",
    "    scale_x_discrete(breaks = temps_data$DAY[seq(1, length(temps_data$DAY), by = 10)]) +\n",
    "    geom_hline(yintercept = T, linetype = \"dashed\", color = \"red\") +\n",
    "    annotate(\"text\", x = '9-Oct', y = T, label = \"Threshold Value\", vjust = 1.5, color = \"red\")"
   ]
  },
  {
   "cell_type": "markdown",
   "id": "c178f476-cbca-4fb8-94d2-042e9f08a352",
   "metadata": {},
   "source": [
    "#### Step 5 - Analyze the Results\n",
    "Based on the information provided by the CUSUM method, unnoficial summer ends **September 1st**. Looking at the original temperature data it does show that around that time the temperatures begin to decline so this makes sense."
   ]
  },
  {
   "cell_type": "code",
   "execution_count": 14,
   "id": "362aa04a-f9c6-4d44-be40-1d82482fdeb4",
   "metadata": {
    "vscode": {
     "languageId": "r"
    }
   },
   "outputs": [
    {
     "name": "stdout",
     "output_type": "stream",
     "text": [
      "Unofficial summer ends on 1-Sep with a temerature of 85.25 degrees Farenheit"
     ]
    }
   ],
   "source": [
    "# First value to cross threshold\n",
    "crossed_value_index <- min(which(temps_data$S_t_running >= T))\n",
    "cat(\"Unofficial summer ends on\", as.character(temps_data$DAY[crossed_value_index]), \"with a temerature of\", temps_data$AVERAGE[crossed_value_index], \"degrees Farenheit\")"
   ]
  },
  {
   "cell_type": "markdown",
   "id": "9fccbdd8-5f4c-4d6c-a011-9cbe05d24801",
   "metadata": {},
   "source": [
    "#### Part 2 - Change in Avgerage Temperature\n",
    "The second part of this analysis is to apply the CUSUM method to the yearly temperatures to see if their is a change in yearly average temperatures. To do this I am going to go through the following steps:\n",
    "1) Compute the average temperature for each year across all days\n",
    "2) Determine the mean temperature and the model parameters T and C\n",
    "3) Compute the cumulative sum St\n",
    "4) Interpret the results"
   ]
  },
  {
   "cell_type": "markdown",
   "id": "9a9bb1c0-d11d-410f-be6c-48ce912e066b",
   "metadata": {},
   "source": [
    "#### Step 1 - Computer the Average Temperature for each Year\n",
    "I am going to compute the average temperature for each year across all of the days provided, another approach would be to just compute the average for the months considered summer to see if their is a change there. I think both approaches would make sense but since the initial question asks if their is a yearly average change I'm using the whole dataset."
   ]
  },
  {
   "cell_type": "code",
   "execution_count": 29,
   "id": "9395d4e7-df81-4cdf-a705-1437dd448a5a",
   "metadata": {
    "vscode": {
     "languageId": "r"
    }
   },
   "outputs": [
    {
     "data": {
      "text/html": [
       "<table>\n",
       "<thead><tr><th scope=col>Year</th><th scope=col>Average_Temp</th></tr></thead>\n",
       "<tbody>\n",
       "\t<tr><td>1996    </td><td>83.71545</td></tr>\n",
       "\t<tr><td>1997    </td><td>81.67480</td></tr>\n",
       "\t<tr><td>1998    </td><td>84.26016</td></tr>\n",
       "\t<tr><td>1999    </td><td>83.35772</td></tr>\n",
       "\t<tr><td>2000    </td><td>84.03252</td></tr>\n",
       "\t<tr><td>2001    </td><td>81.55285</td></tr>\n",
       "\t<tr><td>2002    </td><td>83.58537</td></tr>\n",
       "\t<tr><td>2003    </td><td>81.47967</td></tr>\n",
       "\t<tr><td>2004    </td><td>81.76423</td></tr>\n",
       "\t<tr><td>2005    </td><td>83.35772</td></tr>\n",
       "\t<tr><td>2006    </td><td>83.04878</td></tr>\n",
       "\t<tr><td>2007    </td><td>85.39837</td></tr>\n",
       "\t<tr><td>2008    </td><td>82.51220</td></tr>\n",
       "\t<tr><td>2009    </td><td>80.99187</td></tr>\n",
       "\t<tr><td>2010    </td><td>87.21138</td></tr>\n",
       "\t<tr><td>2011    </td><td>85.27642</td></tr>\n",
       "\t<tr><td>2012    </td><td>84.65041</td></tr>\n",
       "\t<tr><td>2013    </td><td>81.66667</td></tr>\n",
       "\t<tr><td>2014    </td><td>83.94309</td></tr>\n",
       "\t<tr><td>2015    </td><td>83.30081</td></tr>\n",
       "</tbody>\n",
       "</table>\n"
      ],
      "text/latex": [
       "\\begin{tabular}{r|ll}\n",
       " Year & Average\\_Temp\\\\\n",
       "\\hline\n",
       "\t 1996     & 83.71545\\\\\n",
       "\t 1997     & 81.67480\\\\\n",
       "\t 1998     & 84.26016\\\\\n",
       "\t 1999     & 83.35772\\\\\n",
       "\t 2000     & 84.03252\\\\\n",
       "\t 2001     & 81.55285\\\\\n",
       "\t 2002     & 83.58537\\\\\n",
       "\t 2003     & 81.47967\\\\\n",
       "\t 2004     & 81.76423\\\\\n",
       "\t 2005     & 83.35772\\\\\n",
       "\t 2006     & 83.04878\\\\\n",
       "\t 2007     & 85.39837\\\\\n",
       "\t 2008     & 82.51220\\\\\n",
       "\t 2009     & 80.99187\\\\\n",
       "\t 2010     & 87.21138\\\\\n",
       "\t 2011     & 85.27642\\\\\n",
       "\t 2012     & 84.65041\\\\\n",
       "\t 2013     & 81.66667\\\\\n",
       "\t 2014     & 83.94309\\\\\n",
       "\t 2015     & 83.30081\\\\\n",
       "\\end{tabular}\n"
      ],
      "text/markdown": [
       "\n",
       "| Year | Average_Temp |\n",
       "|---|---|\n",
       "| 1996     | 83.71545 |\n",
       "| 1997     | 81.67480 |\n",
       "| 1998     | 84.26016 |\n",
       "| 1999     | 83.35772 |\n",
       "| 2000     | 84.03252 |\n",
       "| 2001     | 81.55285 |\n",
       "| 2002     | 83.58537 |\n",
       "| 2003     | 81.47967 |\n",
       "| 2004     | 81.76423 |\n",
       "| 2005     | 83.35772 |\n",
       "| 2006     | 83.04878 |\n",
       "| 2007     | 85.39837 |\n",
       "| 2008     | 82.51220 |\n",
       "| 2009     | 80.99187 |\n",
       "| 2010     | 87.21138 |\n",
       "| 2011     | 85.27642 |\n",
       "| 2012     | 84.65041 |\n",
       "| 2013     | 81.66667 |\n",
       "| 2014     | 83.94309 |\n",
       "| 2015     | 83.30081 |\n",
       "\n"
      ],
      "text/plain": [
       "   Year Average_Temp\n",
       "1  1996 83.71545    \n",
       "2  1997 81.67480    \n",
       "3  1998 84.26016    \n",
       "4  1999 83.35772    \n",
       "5  2000 84.03252    \n",
       "6  2001 81.55285    \n",
       "7  2002 83.58537    \n",
       "8  2003 81.47967    \n",
       "9  2004 81.76423    \n",
       "10 2005 83.35772    \n",
       "11 2006 83.04878    \n",
       "12 2007 85.39837    \n",
       "13 2008 82.51220    \n",
       "14 2009 80.99187    \n",
       "15 2010 87.21138    \n",
       "16 2011 85.27642    \n",
       "17 2012 84.65041    \n",
       "18 2013 81.66667    \n",
       "19 2014 83.94309    \n",
       "20 2015 83.30081    "
      ]
     },
     "metadata": {},
     "output_type": "display_data"
    }
   ],
   "source": [
    "# Compute the average temperature for year\n",
    "year_average <- colMeans(temps_data[, 2:21])\n",
    "years <- sub(\"X\", \"\", names(year_average))\n",
    "yearly_average_table <- tibble(\n",
    "    Year = years,\n",
    "    Average_Temp = year_average\n",
    ")\n",
    "yearly_average_table"
   ]
  },
  {
   "cell_type": "code",
   "execution_count": 30,
   "id": "554d53b4-56d7-44cc-8aa5-d544f0baacef",
   "metadata": {
    "vscode": {
     "languageId": "r"
    }
   },
   "outputs": [
    {
     "name": "stderr",
     "output_type": "stream",
     "text": [
      "`geom_smooth()` using formula 'y ~ x'\n"
     ]
    },
    {
     "data": {
      "image/png": "[encoded data removed]",
      "text/plain": [
       "plot without title"
      ]
     },
     "metadata": {},
     "output_type": "display_data"
    }
   ],
   "source": [
    "# Plot the average temperature vs. year\n",
    "ggplot(data=yearly_average_table, aes(x=Year, y=Average_Temp, group = 1)) + \n",
    "    geom_line(color='blue') +\n",
    "    geom_point() +\n",
    "    ggtitle(\"Average Yearly Temperature\") +\n",
    "    geom_smooth(method = \"lm\", se = FALSE, color = \"red\")"
   ]
  },
  {
   "cell_type": "markdown",
   "id": "b9b8a1ac-a52a-4dc1-8f5c-c6844d050dbc",
   "metadata": {},
   "source": [
    "#### Step 2 - Determine the mean temperature and the model parameters T and C\n",
    "Next I am going to compute the mean \"if not change\", looking at the graph above temperatures seem to stay consistent through 2006 then start to vary more drastically. As a result I am going to use the mean from 1996 to 2006. For the T and C values I set them to a factor of the standard deviation and played around with different values until the results seemed reasonable."
   ]
  },
  {
   "cell_type": "code",
   "execution_count": 31,
   "id": "37f07c6d-fadc-42d1-ac53-9a27703aa5d8",
   "metadata": {
    "vscode": {
     "languageId": "r"
    }
   },
   "outputs": [
    {
     "name": "stdout",
     "output_type": "stream",
     "text": [
      "Mean yearly temperatue is: 82.89357\n",
      "T value is: 4.257939\n",
      "C value is: 0.5322424"
     ]
    }
   ],
   "source": [
    "# Calculate the mean for the control period (1996 - 2006)\n",
    "yearly_mean <- mean(yearly_average_table$Average_Temp[1:11])\n",
    "cat(\"Mean yearly temperatue is:\", yearly_mean)\n",
    "\n",
    "# Set T and C values\n",
    "T_yearly <- 4 * sd(yearly_average_table$Average_Temp[1:11])\n",
    "C_yearly <- 0.5 * sd(yearly_average_table$Average_Temp[1:11])\n",
    "cat(\"\\n\")\n",
    "cat(\"T value is:\", T_yearly)\n",
    "cat(\"\\n\")\n",
    "cat(\"C value is:\", C_yearly)"
   ]
  },
  {
   "cell_type": "markdown",
   "id": "ba970032-8b71-4b7b-ad90-859d271b2fa8",
   "metadata": {},
   "source": [
    "#### Step 4 - Compute the cumulative sum (St)\n",
    "Next I am going to compute the yearly values and cumulative sum (St)"
   ]
  },
  {
   "cell_type": "code",
   "execution_count": 18,
   "id": "e5f88325-da57-4673-bd37-a840b79cb6d1",
   "metadata": {
    "vscode": {
     "languageId": "r"
    }
   },
   "outputs": [
    {
     "data": {
      "text/html": [
       "<table>\n",
       "<thead><tr><th scope=col>Year</th><th scope=col>Average_Temp</th><th scope=col>S_t_row</th></tr></thead>\n",
       "<tbody>\n",
       "\t<tr><td>1996       </td><td>83.71545   </td><td> 0.28963492</td></tr>\n",
       "\t<tr><td>1997       </td><td>81.67480   </td><td>-1.75101548</td></tr>\n",
       "\t<tr><td>1998       </td><td>84.26016   </td><td> 0.83435037</td></tr>\n",
       "\t<tr><td>1999       </td><td>83.35772   </td><td>-0.06808865</td></tr>\n",
       "\t<tr><td>2000       </td><td>84.03252   </td><td> 0.60670809</td></tr>\n",
       "\t<tr><td>2001       </td><td>81.55285   </td><td>-1.87296670</td></tr>\n",
       "</tbody>\n",
       "</table>\n"
      ],
      "text/latex": [
       "\\begin{tabular}{r|lll}\n",
       " Year & Average\\_Temp & S\\_t\\_row\\\\\n",
       "\\hline\n",
       "\t 1996        & 83.71545    &  0.28963492\\\\\n",
       "\t 1997        & 81.67480    & -1.75101548\\\\\n",
       "\t 1998        & 84.26016    &  0.83435037\\\\\n",
       "\t 1999        & 83.35772    & -0.06808865\\\\\n",
       "\t 2000        & 84.03252    &  0.60670809\\\\\n",
       "\t 2001        & 81.55285    & -1.87296670\\\\\n",
       "\\end{tabular}\n"
      ],
      "text/markdown": [
       "\n",
       "| Year | Average_Temp | S_t_row |\n",
       "|---|---|---|\n",
       "| 1996        | 83.71545    |  0.28963492 |\n",
       "| 1997        | 81.67480    | -1.75101548 |\n",
       "| 1998        | 84.26016    |  0.83435037 |\n",
       "| 1999        | 83.35772    | -0.06808865 |\n",
       "| 2000        | 84.03252    |  0.60670809 |\n",
       "| 2001        | 81.55285    | -1.87296670 |\n",
       "\n"
      ],
      "text/plain": [
       "  Year Average_Temp S_t_row    \n",
       "1 1996 83.71545      0.28963492\n",
       "2 1997 81.67480     -1.75101548\n",
       "3 1998 84.26016      0.83435037\n",
       "4 1999 83.35772     -0.06808865\n",
       "5 2000 84.03252      0.60670809\n",
       "6 2001 81.55285     -1.87296670"
      ]
     },
     "metadata": {},
     "output_type": "display_data"
    }
   ],
   "source": [
    "# Calculate difference between average temperature for each year the mean and C value\n",
    "S_t_year <- yearly_average_table$Average_Temp - yearly_mean - C_yearly\n",
    "yearly_average_table$S_t_row <- S_t_year\n",
    "head(yearly_average_table)"
   ]
  },
  {
   "cell_type": "code",
   "execution_count": 19,
   "id": "efd8f518-43f1-49d4-b33b-a9889f1915bc",
   "metadata": {
    "vscode": {
     "languageId": "r"
    }
   },
   "outputs": [
    {
     "data": {
      "text/html": [
       "<table>\n",
       "<thead><tr><th scope=col>Year</th><th scope=col>Average_Temp</th><th scope=col>S_t_row</th><th scope=col>S_t_running</th></tr></thead>\n",
       "<tbody>\n",
       "\t<tr><td>1996       </td><td>83.71545   </td><td> 0.28963492</td><td>0.2896349  </td></tr>\n",
       "\t<tr><td>1997       </td><td>81.67480   </td><td>-1.75101548</td><td>0.0000000  </td></tr>\n",
       "\t<tr><td>1998       </td><td>84.26016   </td><td> 0.83435037</td><td>0.8343504  </td></tr>\n",
       "\t<tr><td>1999       </td><td>83.35772   </td><td>-0.06808865</td><td>0.7662617  </td></tr>\n",
       "\t<tr><td>2000       </td><td>84.03252   </td><td> 0.60670809</td><td>1.3729698  </td></tr>\n",
       "\t<tr><td>2001       </td><td>81.55285   </td><td>-1.87296670</td><td>0.0000000  </td></tr>\n",
       "</tbody>\n",
       "</table>\n"
      ],
      "text/latex": [
       "\\begin{tabular}{r|llll}\n",
       " Year & Average\\_Temp & S\\_t\\_row & S\\_t\\_running\\\\\n",
       "\\hline\n",
       "\t 1996        & 83.71545    &  0.28963492 & 0.2896349  \\\\\n",
       "\t 1997        & 81.67480    & -1.75101548 & 0.0000000  \\\\\n",
       "\t 1998        & 84.26016    &  0.83435037 & 0.8343504  \\\\\n",
       "\t 1999        & 83.35772    & -0.06808865 & 0.7662617  \\\\\n",
       "\t 2000        & 84.03252    &  0.60670809 & 1.3729698  \\\\\n",
       "\t 2001        & 81.55285    & -1.87296670 & 0.0000000  \\\\\n",
       "\\end{tabular}\n"
      ],
      "text/markdown": [
       "\n",
       "| Year | Average_Temp | S_t_row | S_t_running |\n",
       "|---|---|---|---|\n",
       "| 1996        | 83.71545    |  0.28963492 | 0.2896349   |\n",
       "| 1997        | 81.67480    | -1.75101548 | 0.0000000   |\n",
       "| 1998        | 84.26016    |  0.83435037 | 0.8343504   |\n",
       "| 1999        | 83.35772    | -0.06808865 | 0.7662617   |\n",
       "| 2000        | 84.03252    |  0.60670809 | 1.3729698   |\n",
       "| 2001        | 81.55285    | -1.87296670 | 0.0000000   |\n",
       "\n"
      ],
      "text/plain": [
       "  Year Average_Temp S_t_row     S_t_running\n",
       "1 1996 83.71545      0.28963492 0.2896349  \n",
       "2 1997 81.67480     -1.75101548 0.0000000  \n",
       "3 1998 84.26016      0.83435037 0.8343504  \n",
       "4 1999 83.35772     -0.06808865 0.7662617  \n",
       "5 2000 84.03252      0.60670809 1.3729698  \n",
       "6 2001 81.55285     -1.87296670 0.0000000  "
      ]
     },
     "metadata": {},
     "output_type": "display_data"
    }
   ],
   "source": [
    "# Initialize an empty vector filled with zeros\n",
    "S_t_year_running <- numeric(nrow(yearly_average_table))\n",
    "\n",
    "# Loop through each row and get the running sum of S_t values\n",
    "for (i in 1:nrow(yearly_average_table)) {\n",
    "    if (i == 1) {\n",
    "        previous_value <- 0\n",
    "    } else {\n",
    "        previous_value <- S_t_year_running[i-1]\n",
    "    }\n",
    "    S_t_year_running[i] <- pmax(0, previous_value + yearly_average_table$S_t_row[i])\n",
    "}\n",
    "\n",
    "yearly_average_table$S_t_running <- S_t_year_running\n",
    "head(yearly_average_table)"
   ]
  },
  {
   "cell_type": "code",
   "execution_count": 20,
   "id": "7a0bfbff-793f-49dd-b9d5-c24327bf821d",
   "metadata": {
    "vscode": {
     "languageId": "r"
    }
   },
   "outputs": [
    {
     "data": {
      "image/png": "[encoded data removed]",
      "text/plain": [
       "plot without title"
      ]
     },
     "metadata": {},
     "output_type": "display_data"
    }
   ],
   "source": [
    "ggplot(data=yearly_average_table, aes(x=Year, y=S_t_running, group = 1)) + \n",
    "    geom_line(color='purple') +\n",
    "    geom_point() +\n",
    "    ggtitle(\"S_t Plot for Yearly Temperatures\") +\n",
    "    geom_hline(yintercept = T_yearly, linetype = \"dashed\", color = \"red\") +\n",
    "    annotate(\"text\", x = '2001', y = T_yearly, label = \"Threshold Value\", vjust = 1.5, color = \"red\")"
   ]
  },
  {
   "cell_type": "markdown",
   "id": "d058ae98-ac4b-45d9-b2b8-ef25567682f9",
   "metadata": {},
   "source": [
    "#### Step 4 - Analyze the Results\n",
    "Based on the CUSUM model it can be seen that the yearly average temperature starts to increase around 2010/2011. This would indicate general warming of temperatures around that time. Based on the threshold value I set we can say that temperatures begin to rise in 2011. **However, by simply changing the threshold value I can pretty much get the model to tell me whatever I want it to, I can show no change or an earlier change. It is very easy to assume that we should be seeing a change due to global warming and ensure our model shows that. This is a great example of why it is important to keep biases from entering into the model development.**"
   ]
  },
  {
   "cell_type": "code",
   "execution_count": 21,
   "id": "d3365cbc-0899-4513-8f20-cc900d04dbdd",
   "metadata": {
    "vscode": {
     "languageId": "r"
    }
   },
   "outputs": [
    {
     "name": "stdout",
     "output_type": "stream",
     "text": [
      "Yearly temperatures begin to rise 2011 with an average temerature of 85.27642 degrees Farenheit"
     ]
    }
   ],
   "source": [
    "# First value to cross threshold\n",
    "crossed_yearly_index <- min(which(yearly_average_table$S_t_running >= T_yearly))\n",
    "cat(\"Yearly temperatures begin to rise\",yearly_average_table$Year[crossed_yearly_index], \"with an average temerature of\", yearly_average_table$Average_Temp[crossed_yearly_index], \"degrees Farenheit\")"
   ]
  }
 ],
 "metadata": {
  "kernelspec": {
   "display_name": "R",
   "language": "R",
   "name": "ir"
  },
  "language_info": {
   "codemirror_mode": "r",
   "file_extension": ".r",
   "mimetype": "text/x-r-source",
   "name": "R",
   "pygments_lexer": "r",
   "version": "3.6.1"
  }
 },
 "nbformat": 4,
 "nbformat_minor": 5
}
