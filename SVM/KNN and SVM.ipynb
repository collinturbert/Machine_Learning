{
 "cells": [
  {
   "cell_type": "markdown",
   "id": "7754c152-bc52-44a5-b89d-f17711202ab7",
   "metadata": {},
   "source": [
    "## Question 2.1\n",
    "> Desribe a situation or problem from your job, everyday life, current events, etc., for which a classification model would be appropriate. List some (up to 5) predictors that you might use."
   ]
  },
  {
   "cell_type": "markdown",
   "id": "7471a5ca-739c-422d-ba70-ee99a8402f50",
   "metadata": {},
   "source": [
    "In K-12 education educators are responsible for helping to identify students that potentially have a learning disability. Some potential predictors could be:\n",
    "1. Verbal language ability (could use various language tests already given depending on age)\n",
    "2. Math ability (using standardized tests)\n",
    "3. Reading/Writing ability (using standardized tests)\n",
    "4. Academic performance (grades disaggregated by subject and viewed over time)\n",
    "5. Attendance\n",
    "6. Parents highest level of education\n",
    "7. Known medical issues\n",
    "8. Academic background (access to education in the past)"
   ]
  },
  {
   "cell_type": "markdown",
   "id": "f69cf67f-23d1-4765-94ad-66781940fb6a",
   "metadata": {},
   "source": [
    "## Question 2.2\n",
    "> The files credit_card_data.txt (without headers) and credit_card_data-headers.txt (with headers) contain a dataset with 654 data points, 6 continuous and 4 binary predictor variables.  It has anonymized credit card applications with a binary response variable (last column) indicating if the application was positive or negative. The dataset is the “Credit Approval Data Set” from the UCI Machine Learning Repository (https://archive.ics.uci.edu/ml/datasets/Credit+Approval) without the categorical variables and without data points that have missing values.)\n"
   ]
  },
  {
   "cell_type": "markdown",
   "id": "86f38658-f5f5-47e0-91e6-cb89e69c8cc9",
   "metadata": {},
   "source": [
    "#### Install Libraries\n",
    "This question needs the kernlab and kknn libraries"
   ]
  },
  {
   "cell_type": "code",
   "execution_count": 21,
   "id": "9128f7f0-5ef1-4be5-8348-b402658d96b9",
   "metadata": {},
   "outputs": [],
   "source": [
    "library(kernlab)\n",
    "library(kknn)\n",
    "library(vtable)\n",
    "library(htmltools)\n",
    "suppressWarnings(library(ggplot2))"
   ]
  },
  {
   "cell_type": "markdown",
   "id": "b9801f54-bf18-4748-9701-bc211b5403d4",
   "metadata": {},
   "source": [
    "#### Load Data\n",
    "The data set was provided in the homework .zip folder and I am choosing to use the data that includes headers so they are available to reference"
   ]
  },
  {
   "cell_type": "code",
   "execution_count": 2,
   "id": "d2a4504c-b1f3-4b0a-9308-8a10a0b741f4",
   "metadata": {},
   "outputs": [],
   "source": [
    "data <- read.table(\"credit_card_data-headers.txt\", header = TRUE)"
   ]
  },
  {
   "cell_type": "markdown",
   "id": "e8e8b88e-09ea-4172-bf53-3c54c31ebb25",
   "metadata": {},
   "source": [
    "#### Examine Data\n",
    "Now that the data is loaded I want to examine it to get a better idea of what it looks like. I'm interested in actually seeing the data but also infomration about the data such as data type and ranges of values."
   ]
  },
  {
   "cell_type": "code",
   "execution_count": 3,
   "id": "9e642977-31a5-4244-955b-25b0b7b8c265",
   "metadata": {},
   "outputs": [
    {
     "data": {
      "text/html": [
       "<table>\n",
       "<thead><tr><th scope=col>A1</th><th scope=col>A2</th><th scope=col>A3</th><th scope=col>A8</th><th scope=col>A9</th><th scope=col>A10</th><th scope=col>A11</th><th scope=col>A12</th><th scope=col>A14</th><th scope=col>A15</th><th scope=col>R1</th></tr></thead>\n",
       "<tbody>\n",
       "\t<tr><td>integer</td><td>numeric</td><td>numeric</td><td>numeric</td><td>integer</td><td>integer</td><td>integer</td><td>integer</td><td>integer</td><td>integer</td><td>integer</td></tr>\n",
       "</tbody>\n",
       "</table>\n"
      ],
      "text/latex": [
       "\\begin{tabular}{lllllllllll}\n",
       " A1 & A2 & A3 & A8 & A9 & A10 & A11 & A12 & A14 & A15 & R1\\\\\n",
       "\\hline\n",
       "\t integer & numeric & numeric & numeric & integer & integer & integer & integer & integer & integer & integer\\\\\n",
       "\\end{tabular}\n"
      ],
      "text/markdown": [
       "\n",
       "| A1 | A2 | A3 | A8 | A9 | A10 | A11 | A12 | A14 | A15 | R1 |\n",
       "|---|---|---|---|---|---|---|---|---|---|---|\n",
       "| integer | numeric | numeric | numeric | integer | integer | integer | integer | integer | integer | integer |\n",
       "\n"
      ],
      "text/plain": [
       "     A1      A2      A3      A8      A9      A10     A11     A12     A14    \n",
       "[1,] integer numeric numeric numeric integer integer integer integer integer\n",
       "     A15     R1     \n",
       "[1,] integer integer"
      ]
     },
     "metadata": {},
     "output_type": "display_data"
    }
   ],
   "source": [
    "# Output the data class for each column transposed\n",
    "t(sapply(data, class))"
   ]
  },
  {
   "cell_type": "code",
   "execution_count": 4,
   "id": "999d6c35-1ec5-4e1f-a91e-ef1da9e923ef",
   "metadata": {},
   "outputs": [
    {
     "data": {
      "text/html": [
       "<table>\n",
       "<thead><tr><th scope=col>A1</th><th scope=col>A2</th><th scope=col>A3</th><th scope=col>A8</th><th scope=col>A9</th><th scope=col>A10</th><th scope=col>A11</th><th scope=col>A12</th><th scope=col>A14</th><th scope=col>A15</th><th scope=col>R1</th></tr></thead>\n",
       "<tbody>\n",
       "\t<tr><td>1    </td><td>30.83</td><td>0.000</td><td>1.25 </td><td>1    </td><td>0    </td><td>1    </td><td>1    </td><td>202  </td><td>  0  </td><td>1    </td></tr>\n",
       "\t<tr><td>0    </td><td>58.67</td><td>4.460</td><td>3.04 </td><td>1    </td><td>0    </td><td>6    </td><td>1    </td><td> 43  </td><td>560  </td><td>1    </td></tr>\n",
       "\t<tr><td>0    </td><td>24.50</td><td>0.500</td><td>1.50 </td><td>1    </td><td>1    </td><td>0    </td><td>1    </td><td>280  </td><td>824  </td><td>1    </td></tr>\n",
       "\t<tr><td>1    </td><td>27.83</td><td>1.540</td><td>3.75 </td><td>1    </td><td>0    </td><td>5    </td><td>0    </td><td>100  </td><td>  3  </td><td>1    </td></tr>\n",
       "\t<tr><td>1    </td><td>20.17</td><td>5.625</td><td>1.71 </td><td>1    </td><td>1    </td><td>0    </td><td>1    </td><td>120  </td><td>  0  </td><td>1    </td></tr>\n",
       "\t<tr><td>1    </td><td>32.08</td><td>4.000</td><td>2.50 </td><td>1    </td><td>1    </td><td>0    </td><td>0    </td><td>360  </td><td>  0  </td><td>1    </td></tr>\n",
       "</tbody>\n",
       "</table>\n"
      ],
      "text/latex": [
       "\\begin{tabular}{r|lllllllllll}\n",
       " A1 & A2 & A3 & A8 & A9 & A10 & A11 & A12 & A14 & A15 & R1\\\\\n",
       "\\hline\n",
       "\t 1     & 30.83 & 0.000 & 1.25  & 1     & 0     & 1     & 1     & 202   &   0   & 1    \\\\\n",
       "\t 0     & 58.67 & 4.460 & 3.04  & 1     & 0     & 6     & 1     &  43   & 560   & 1    \\\\\n",
       "\t 0     & 24.50 & 0.500 & 1.50  & 1     & 1     & 0     & 1     & 280   & 824   & 1    \\\\\n",
       "\t 1     & 27.83 & 1.540 & 3.75  & 1     & 0     & 5     & 0     & 100   &   3   & 1    \\\\\n",
       "\t 1     & 20.17 & 5.625 & 1.71  & 1     & 1     & 0     & 1     & 120   &   0   & 1    \\\\\n",
       "\t 1     & 32.08 & 4.000 & 2.50  & 1     & 1     & 0     & 0     & 360   &   0   & 1    \\\\\n",
       "\\end{tabular}\n"
      ],
      "text/markdown": [
       "\n",
       "| A1 | A2 | A3 | A8 | A9 | A10 | A11 | A12 | A14 | A15 | R1 |\n",
       "|---|---|---|---|---|---|---|---|---|---|---|\n",
       "| 1     | 30.83 | 0.000 | 1.25  | 1     | 0     | 1     | 1     | 202   |   0   | 1     |\n",
       "| 0     | 58.67 | 4.460 | 3.04  | 1     | 0     | 6     | 1     |  43   | 560   | 1     |\n",
       "| 0     | 24.50 | 0.500 | 1.50  | 1     | 1     | 0     | 1     | 280   | 824   | 1     |\n",
       "| 1     | 27.83 | 1.540 | 3.75  | 1     | 0     | 5     | 0     | 100   |   3   | 1     |\n",
       "| 1     | 20.17 | 5.625 | 1.71  | 1     | 1     | 0     | 1     | 120   |   0   | 1     |\n",
       "| 1     | 32.08 | 4.000 | 2.50  | 1     | 1     | 0     | 0     | 360   |   0   | 1     |\n",
       "\n"
      ],
      "text/plain": [
       "  A1 A2    A3    A8   A9 A10 A11 A12 A14 A15 R1\n",
       "1 1  30.83 0.000 1.25 1  0   1   1   202   0 1 \n",
       "2 0  58.67 4.460 3.04 1  0   6   1    43 560 1 \n",
       "3 0  24.50 0.500 1.50 1  1   0   1   280 824 1 \n",
       "4 1  27.83 1.540 3.75 1  0   5   0   100   3 1 \n",
       "5 1  20.17 5.625 1.71 1  1   0   1   120   0 1 \n",
       "6 1  32.08 4.000 2.50 1  1   0   0   360   0 1 "
      ]
     },
     "metadata": {},
     "output_type": "display_data"
    },
    {
     "data": {
      "text/html": [
       "<table>\n",
       "<thead><tr><th></th><th scope=col>A1</th><th scope=col>A2</th><th scope=col>A3</th><th scope=col>A8</th><th scope=col>A9</th><th scope=col>A10</th><th scope=col>A11</th><th scope=col>A12</th><th scope=col>A14</th><th scope=col>A15</th><th scope=col>R1</th></tr></thead>\n",
       "<tbody>\n",
       "\t<tr><th scope=row>649</th><td>1     </td><td>40.58 </td><td> 3.290</td><td>3.50  </td><td>0     </td><td>1     </td><td>0     </td><td>0     </td><td>400   </td><td>  0   </td><td>0     </td></tr>\n",
       "\t<tr><th scope=row>650</th><td>1     </td><td>21.08 </td><td>10.085</td><td>1.25  </td><td>0     </td><td>1     </td><td>0     </td><td>1     </td><td>260   </td><td>  0   </td><td>0     </td></tr>\n",
       "\t<tr><th scope=row>651</th><td>0     </td><td>22.67 </td><td> 0.750</td><td>2.00  </td><td>0     </td><td>0     </td><td>2     </td><td>0     </td><td>200   </td><td>394   </td><td>0     </td></tr>\n",
       "\t<tr><th scope=row>652</th><td>0     </td><td>25.25 </td><td>13.500</td><td>2.00  </td><td>0     </td><td>0     </td><td>1     </td><td>0     </td><td>200   </td><td>  1   </td><td>0     </td></tr>\n",
       "\t<tr><th scope=row>653</th><td>1     </td><td>17.92 </td><td> 0.205</td><td>0.04  </td><td>0     </td><td>1     </td><td>0     </td><td>1     </td><td>280   </td><td>750   </td><td>0     </td></tr>\n",
       "\t<tr><th scope=row>654</th><td>1     </td><td>35.00 </td><td> 3.375</td><td>8.29  </td><td>0     </td><td>1     </td><td>0     </td><td>0     </td><td>  0   </td><td>  0   </td><td>0     </td></tr>\n",
       "</tbody>\n",
       "</table>\n"
      ],
      "text/latex": [
       "\\begin{tabular}{r|lllllllllll}\n",
       "  & A1 & A2 & A3 & A8 & A9 & A10 & A11 & A12 & A14 & A15 & R1\\\\\n",
       "\\hline\n",
       "\t649 & 1      & 40.58  &  3.290 & 3.50   & 0      & 1      & 0      & 0      & 400    &   0    & 0     \\\\\n",
       "\t650 & 1      & 21.08  & 10.085 & 1.25   & 0      & 1      & 0      & 1      & 260    &   0    & 0     \\\\\n",
       "\t651 & 0      & 22.67  &  0.750 & 2.00   & 0      & 0      & 2      & 0      & 200    & 394    & 0     \\\\\n",
       "\t652 & 0      & 25.25  & 13.500 & 2.00   & 0      & 0      & 1      & 0      & 200    &   1    & 0     \\\\\n",
       "\t653 & 1      & 17.92  &  0.205 & 0.04   & 0      & 1      & 0      & 1      & 280    & 750    & 0     \\\\\n",
       "\t654 & 1      & 35.00  &  3.375 & 8.29   & 0      & 1      & 0      & 0      &   0    &   0    & 0     \\\\\n",
       "\\end{tabular}\n"
      ],
      "text/markdown": [
       "\n",
       "| <!--/--> | A1 | A2 | A3 | A8 | A9 | A10 | A11 | A12 | A14 | A15 | R1 |\n",
       "|---|---|---|---|---|---|---|---|---|---|---|---|\n",
       "| 649 | 1      | 40.58  |  3.290 | 3.50   | 0      | 1      | 0      | 0      | 400    |   0    | 0      |\n",
       "| 650 | 1      | 21.08  | 10.085 | 1.25   | 0      | 1      | 0      | 1      | 260    |   0    | 0      |\n",
       "| 651 | 0      | 22.67  |  0.750 | 2.00   | 0      | 0      | 2      | 0      | 200    | 394    | 0      |\n",
       "| 652 | 0      | 25.25  | 13.500 | 2.00   | 0      | 0      | 1      | 0      | 200    |   1    | 0      |\n",
       "| 653 | 1      | 17.92  |  0.205 | 0.04   | 0      | 1      | 0      | 1      | 280    | 750    | 0      |\n",
       "| 654 | 1      | 35.00  |  3.375 | 8.29   | 0      | 1      | 0      | 0      |   0    |   0    | 0      |\n",
       "\n"
      ],
      "text/plain": [
       "    A1 A2    A3     A8   A9 A10 A11 A12 A14 A15 R1\n",
       "649 1  40.58  3.290 3.50 0  1   0   0   400   0 0 \n",
       "650 1  21.08 10.085 1.25 0  1   0   1   260   0 0 \n",
       "651 0  22.67  0.750 2.00 0  0   2   0   200 394 0 \n",
       "652 0  25.25 13.500 2.00 0  0   1   0   200   1 0 \n",
       "653 1  17.92  0.205 0.04 0  1   0   1   280 750 0 \n",
       "654 1  35.00  3.375 8.29 0  1   0   0     0   0 0 "
      ]
     },
     "metadata": {},
     "output_type": "display_data"
    }
   ],
   "source": [
    "# Look at the first and last few rows of the data\n",
    "head(data)\n",
    "tail(data)"
   ]
  },
  {
   "cell_type": "code",
   "execution_count": 5,
   "id": "68d6ce3a-f0e2-4ab5-88d0-e7785daf92c4",
   "metadata": {},
   "outputs": [
    {
     "data": {
      "text/html": [
       "<table>\n",
       "<tbody>\n",
       "\t<tr><th scope=row>A1</th><td> 0.00    </td><td>     1.00</td></tr>\n",
       "\t<tr><th scope=row>A2</th><td>13.75    </td><td>    80.25</td></tr>\n",
       "\t<tr><th scope=row>A3</th><td> 0.00    </td><td>    28.00</td></tr>\n",
       "\t<tr><th scope=row>A8</th><td> 0.00    </td><td>    28.50</td></tr>\n",
       "\t<tr><th scope=row>A9</th><td> 0.00    </td><td>     1.00</td></tr>\n",
       "\t<tr><th scope=row>A10</th><td> 0.00    </td><td>     1.00</td></tr>\n",
       "\t<tr><th scope=row>A11</th><td> 0.00    </td><td>    67.00</td></tr>\n",
       "\t<tr><th scope=row>A12</th><td> 0.00    </td><td>     1.00</td></tr>\n",
       "\t<tr><th scope=row>A14</th><td> 0.00    </td><td>  2000.00</td></tr>\n",
       "\t<tr><th scope=row>A15</th><td> 0.00    </td><td>100000.00</td></tr>\n",
       "\t<tr><th scope=row>R1</th><td> 0.00    </td><td>     1.00</td></tr>\n",
       "</tbody>\n",
       "</table>\n"
      ],
      "text/latex": [
       "\\begin{tabular}{r|ll}\n",
       "\tA1 &  0.00     &      1.00\\\\\n",
       "\tA2 & 13.75     &     80.25\\\\\n",
       "\tA3 &  0.00     &     28.00\\\\\n",
       "\tA8 &  0.00     &     28.50\\\\\n",
       "\tA9 &  0.00     &      1.00\\\\\n",
       "\tA10 &  0.00     &      1.00\\\\\n",
       "\tA11 &  0.00     &     67.00\\\\\n",
       "\tA12 &  0.00     &      1.00\\\\\n",
       "\tA14 &  0.00     &   2000.00\\\\\n",
       "\tA15 &  0.00     & 100000.00\\\\\n",
       "\tR1 &  0.00     &      1.00\\\\\n",
       "\\end{tabular}\n"
      ],
      "text/markdown": [
       "\n",
       "| A1 |  0.00     |      1.00 |\n",
       "| A2 | 13.75     |     80.25 |\n",
       "| A3 |  0.00     |     28.00 |\n",
       "| A8 |  0.00     |     28.50 |\n",
       "| A9 |  0.00     |      1.00 |\n",
       "| A10 |  0.00     |      1.00 |\n",
       "| A11 |  0.00     |     67.00 |\n",
       "| A12 |  0.00     |      1.00 |\n",
       "| A14 |  0.00     |   2000.00 |\n",
       "| A15 |  0.00     | 100000.00 |\n",
       "| R1 |  0.00     |      1.00 |\n",
       "\n"
      ],
      "text/plain": [
       "    [,1]  [,2]     \n",
       "A1   0.00      1.00\n",
       "A2  13.75     80.25\n",
       "A3   0.00     28.00\n",
       "A8   0.00     28.50\n",
       "A9   0.00      1.00\n",
       "A10  0.00      1.00\n",
       "A11  0.00     67.00\n",
       "A12  0.00      1.00\n",
       "A14  0.00   2000.00\n",
       "A15  0.00 100000.00\n",
       "R1   0.00      1.00"
      ]
     },
     "metadata": {},
     "output_type": "display_data"
    }
   ],
   "source": [
    "# Output the range of all the values for each column as a table\n",
    "t(sapply(data, range))"
   ]
  },
  {
   "cell_type": "code",
   "execution_count": 6,
   "id": "5cf07293-9633-4310-8f5d-d967598cda54",
   "metadata": {},
   "outputs": [
    {
     "data": {
      "text/html": [
       "<ol class=list-inline>\n",
       "\t<li>1</li>\n",
       "\t<li>0</li>\n",
       "</ol>\n"
      ],
      "text/latex": [
       "\\begin{enumerate*}\n",
       "\\item 1\n",
       "\\item 0\n",
       "\\end{enumerate*}\n"
      ],
      "text/markdown": [
       "1. 1\n",
       "2. 0\n",
       "\n",
       "\n"
      ],
      "text/plain": [
       "[1] 1 0"
      ]
     },
     "metadata": {},
     "output_type": "display_data"
    }
   ],
   "source": [
    "# Check that the R1 column only contains 1 and 2 and output a summary table (doesn't show in notebook)\n",
    "unique(data$R1)\n",
    "sumtable(data)"
   ]
  },
  {
   "cell_type": "code",
   "execution_count": 7,
   "id": "00d2f466-0ff1-4f43-9300-21b2be512f6d",
   "metadata": {},
   "outputs": [
    {
     "name": "stdout",
     "output_type": "stream",
     "text": [
      "Rows   Columns"
     ]
    },
    {
     "data": {
      "text/html": [
       "<table>\n",
       "<tbody>\n",
       "\t<tr><td>654</td><td>11 </td></tr>\n",
       "</tbody>\n",
       "</table>\n"
      ],
      "text/latex": [
       "\\begin{tabular}{ll}\n",
       "\t 654 & 11 \\\\\n",
       "\\end{tabular}\n"
      ],
      "text/markdown": [
       "\n",
       "| 654 | 11  |\n",
       "\n"
      ],
      "text/plain": [
       "     [,1] [,2]\n",
       "[1,] 654  11  "
      ]
     },
     "metadata": {},
     "output_type": "display_data"
    }
   ],
   "source": [
    "# Double check size of the data\n",
    "cat('Rows',' ','Columns')\n",
    "t(dim(data))"
   ]
  },
  {
   "cell_type": "markdown",
   "id": "96b3b819-e97b-4af8-b667-b0b1851583c5",
   "metadata": {},
   "source": [
    "This lets me know that I have a table with 654 rows and 11 columns (10 attributes and one result). The data is a combination of integer and float (numeric) values with A1, A9, A10, A12, and R1 being categorical (1 or 0). Looking at the UC Irvine website linked above, they list information about the dataset and I can see that our dataset has been cleaned. Missing values have been removed, categorical variables with more than 2 categories have been dropped, and categories have been turned into numerical values (1 or 0). It's also important to note the wide range in values that some of our attributes possess, meaning scaling will be important. I also know that this dataset is being using to determine credit approval for credit card applications."
   ]
  },
  {
   "cell_type": "markdown",
   "id": "f61692ab-64dc-450a-8aae-7870551eccd0",
   "metadata": {},
   "source": [
    "### SVM Classification\n",
    "Next I am going to fit the data with a SVM model and test to see how well it predicts credit approval. I want to look a range of C (NOT lambda but has similar effect in our model) values and determine which value will be a best fit for the model. It's important to note that the higher the lambda the more weight we put on creating a larger margin and the less weight we put on minimizing errors but that C is the inverse of that. I'm also interested in trying different kernals to see how they change the results which is described as optional question #2 so will include that as well."
   ]
  },
  {
   "cell_type": "code",
   "execution_count": 8,
   "id": "54116fd9-68af-46c4-99be-f6fb81b055da",
   "metadata": {},
   "outputs": [],
   "source": [
    "C_values <- c(.000000001, .00000001, .0000001, .000001, .00001, .0001, .001, .01, .1, 1, 10, 100, 1000, 10000, 100000, 1000000, 10000000, 100000000)\n",
    "kernal_values <- c(\"vanilladot\", \"rbfdot\", \"polydot\", \"tanhdot\", \"laplacedot\", \"besseldot\", \"anovadot\", \"splinedot\")"
   ]
  },
  {
   "cell_type": "markdown",
   "id": "de0196fd-8421-4ae6-9eba-b472c34ad663",
   "metadata": {},
   "source": [
    "I want to save the results of the various C values and kernals to a dataframe that I can call after testing all the models."
   ]
  },
  {
   "cell_type": "code",
   "execution_count": 9,
   "id": "1fcd8395-628d-411d-b04e-41381b99f17e",
   "metadata": {},
   "outputs": [],
   "source": [
    "results_df <- data.frame('C_Value' = numeric(), 'Kernal_Name' = character(), 'Accuracy' = numeric(), stringsAsFactors = FALSE)"
   ]
  },
  {
   "cell_type": "markdown",
   "id": "0fb304f8-5c03-4156-84dc-12a1092a41a3",
   "metadata": {},
   "source": [
    "Next I will loop through the various C values and kernals training our model on the data with those inputs. Then I will test the accuracy of the model in predicting credit approval for further analysis."
   ]
  },
  {
   "cell_type": "code",
   "execution_count": 10,
   "id": "fbf93ec2-1f36-422f-ba09-d0c9c6e42c06",
   "metadata": {
    "scrolled": true
   },
   "outputs": [
    {
     "name": "stdout",
     "output_type": "stream",
     "text": [
      " Setting default kernel parameters  \n",
      " Setting default kernel parameters  \n",
      " Setting default kernel parameters  \n",
      " Setting default kernel parameters  \n",
      " Setting default kernel parameters  \n",
      " Setting default kernel parameters  \n",
      " Setting default kernel parameters  \n",
      " Setting default kernel parameters  \n",
      " Setting default kernel parameters  \n",
      " Setting default kernel parameters  \n",
      " Setting default kernel parameters  \n",
      " Setting default kernel parameters  \n",
      " Setting default kernel parameters  \n",
      " Setting default kernel parameters  \n",
      " Setting default kernel parameters  \n",
      " Setting default kernel parameters  \n",
      " Setting default kernel parameters  \n",
      " Setting default kernel parameters  \n",
      " Setting default kernel parameters  \n",
      " Setting default kernel parameters  \n",
      " Setting default kernel parameters  \n",
      " Setting default kernel parameters  \n",
      " Setting default kernel parameters  \n",
      " Setting default kernel parameters  \n",
      " Setting default kernel parameters  \n",
      " Setting default kernel parameters  \n",
      " Setting default kernel parameters  \n",
      " Setting default kernel parameters  \n",
      " Setting default kernel parameters  \n",
      " Setting default kernel parameters  \n",
      " Setting default kernel parameters  \n",
      " Setting default kernel parameters  \n",
      " Setting default kernel parameters  \n",
      " Setting default kernel parameters  \n",
      " Setting default kernel parameters  \n",
      " Setting default kernel parameters  \n",
      " Setting default kernel parameters  \n",
      " Setting default kernel parameters  \n",
      " Setting default kernel parameters  \n",
      " Setting default kernel parameters  \n",
      " Setting default kernel parameters  \n",
      " Setting default kernel parameters  \n",
      " Setting default kernel parameters  \n",
      " Setting default kernel parameters  \n",
      " Setting default kernel parameters  \n",
      " Setting default kernel parameters  \n",
      " Setting default kernel parameters  \n",
      " Setting default kernel parameters  \n",
      " Setting default kernel parameters  \n",
      " Setting default kernel parameters  \n",
      " Setting default kernel parameters  \n",
      " Setting default kernel parameters  \n",
      " Setting default kernel parameters  \n",
      " Setting default kernel parameters  \n",
      " Setting default kernel parameters  \n",
      " Setting default kernel parameters  \n",
      " Setting default kernel parameters  \n",
      " Setting default kernel parameters  \n",
      " Setting default kernel parameters  \n",
      " Setting default kernel parameters  \n",
      " Setting default kernel parameters  \n",
      " Setting default kernel parameters  \n",
      " Setting default kernel parameters  \n",
      " Setting default kernel parameters  \n",
      " Setting default kernel parameters  \n",
      " Setting default kernel parameters  \n",
      " Setting default kernel parameters  \n",
      " Setting default kernel parameters  \n",
      " Setting default kernel parameters  \n",
      " Setting default kernel parameters  \n",
      " Setting default kernel parameters  \n",
      " Setting default kernel parameters  \n",
      " Setting default kernel parameters  \n",
      " Setting default kernel parameters  \n",
      " Setting default kernel parameters  \n",
      " Setting default kernel parameters  \n",
      " Setting default kernel parameters  \n",
      " Setting default kernel parameters  \n",
      " Setting default kernel parameters  \n",
      " Setting default kernel parameters  \n",
      " Setting default kernel parameters  \n",
      " Setting default kernel parameters  \n",
      " Setting default kernel parameters  \n",
      " Setting default kernel parameters  \n",
      " Setting default kernel parameters  \n",
      " Setting default kernel parameters  \n",
      " Setting default kernel parameters  \n",
      " Setting default kernel parameters  \n",
      " Setting default kernel parameters  \n",
      " Setting default kernel parameters  \n",
      " Setting default kernel parameters  \n",
      " Setting default kernel parameters  \n",
      " Setting default kernel parameters  \n",
      " Setting default kernel parameters  \n",
      " Setting default kernel parameters  \n",
      " Setting default kernel parameters  \n",
      " Setting default kernel parameters  \n",
      " Setting default kernel parameters  \n",
      " Setting default kernel parameters  \n",
      " Setting default kernel parameters  \n",
      " Setting default kernel parameters  \n",
      " Setting default kernel parameters  \n",
      " Setting default kernel parameters  \n",
      " Setting default kernel parameters  \n",
      " Setting default kernel parameters  \n",
      " Setting default kernel parameters  \n",
      " Setting default kernel parameters  \n",
      " Setting default kernel parameters  \n"
     ]
    }
   ],
   "source": [
    "for (kern_val in kernal_values) {\n",
    "    for (C_val in C_values) {\n",
    "    \tvsm_model <- ksvm(as.matrix(data[,1:10]),as.factor(data[,11]),type=\"C-svc\",kernel=kern_val,C=C_val,scaled=TRUE)\n",
    "    \tpred <- predict(vsm_model,data[,1:10])\n",
    "    \taccuracy <- round((sum(pred == data[,11]) / nrow(data))*100,4)\n",
    "        results_df <- rbind(results_df, data.frame(C_Value = C_val, Kernal_Name = kern_val, Accuracy = accuracy))\n",
    "    }\n",
    "}"
   ]
  },
  {
   "cell_type": "markdown",
   "id": "5771f8ef-20a9-42dd-85f6-5b951d349b36",
   "metadata": {},
   "source": [
    "The entire results data frame is printed below so I can get an idea of how our various C values and kernals did at predicting credit card approval for our given dataset. I did not include the entire output to keep the homework submission from becoming to lengthy. I will use this infromation to answer questsion 2.2 - Part 1 and 2.2 - Part 2 below."
   ]
  },
  {
   "cell_type": "code",
   "execution_count": 11,
   "id": "5b25575b-a134-457f-94ec-61a16df018ea",
   "metadata": {
    "scrolled": true
   },
   "outputs": [
    {
     "data": {
      "text/html": [
       "<table>\n",
       "<thead><tr><th scope=col>C_Value</th><th scope=col>Kernal_Name</th><th scope=col>Accuracy</th></tr></thead>\n",
       "<tbody>\n",
       "\t<tr><td>1e-09     </td><td>vanilladot</td><td>54.7401   </td></tr>\n",
       "\t<tr><td>1e-08     </td><td>vanilladot</td><td>54.7401   </td></tr>\n",
       "\t<tr><td>1e-07     </td><td>vanilladot</td><td>54.7401   </td></tr>\n",
       "\t<tr><td>1e-06     </td><td>vanilladot</td><td>54.7401   </td></tr>\n",
       "\t<tr><td>1e-05     </td><td>vanilladot</td><td>54.7401   </td></tr>\n",
       "\t<tr><td>1e-04     </td><td>vanilladot</td><td>54.7401   </td></tr>\n",
       "\t<tr><td>1e-03     </td><td>vanilladot</td><td>83.7920   </td></tr>\n",
       "\t<tr><td>1e-02     </td><td>vanilladot</td><td>86.3914   </td></tr>\n",
       "\t<tr><td>1e-01     </td><td>vanilladot</td><td>86.3914   </td></tr>\n",
       "\t<tr><td>1e+00     </td><td>vanilladot</td><td>86.3914   </td></tr>\n",
       "\t<tr><td>1e+01     </td><td>vanilladot</td><td>86.3914   </td></tr>\n",
       "\t<tr><td>1e+02     </td><td>vanilladot</td><td>86.3914   </td></tr>\n",
       "\t<tr><td>1e+03     </td><td>vanilladot</td><td>86.2385   </td></tr>\n",
       "\t<tr><td>1e+04     </td><td>vanilladot</td><td>86.2385   </td></tr>\n",
       "\t<tr><td>1e+05     </td><td>vanilladot</td><td>86.3914   </td></tr>\n",
       "\t<tr><td>1e+06     </td><td>vanilladot</td><td>62.5382   </td></tr>\n",
       "\t<tr><td>1e+07     </td><td>vanilladot</td><td>54.5872   </td></tr>\n",
       "\t<tr><td>1e+08     </td><td>vanilladot</td><td>66.3609   </td></tr>\n",
       "\t<tr><td>1e-09     </td><td>rbfdot    </td><td>54.7401   </td></tr>\n",
       "\t<tr><td>1e-08     </td><td>rbfdot    </td><td>54.7401   </td></tr>\n",
       "\t<tr><td>1e-07     </td><td>rbfdot    </td><td>54.7401   </td></tr>\n",
       "\t<tr><td>1e-06     </td><td>rbfdot    </td><td>54.7401   </td></tr>\n",
       "\t<tr><td>1e-05     </td><td>rbfdot    </td><td>54.7401   </td></tr>\n",
       "\t<tr><td>1e-04     </td><td>rbfdot    </td><td>54.7401   </td></tr>\n",
       "\t<tr><td>1e-03     </td><td>rbfdot    </td><td>54.7401   </td></tr>\n",
       "\t<tr><td>1e-02     </td><td>rbfdot    </td><td>56.1162   </td></tr>\n",
       "\t<tr><td>1e-01     </td><td>rbfdot    </td><td>85.9327   </td></tr>\n",
       "\t<tr><td>1e+00     </td><td>rbfdot    </td><td>87.1560   </td></tr>\n",
       "\t<tr><td>1e+01     </td><td>rbfdot    </td><td>91.4373   </td></tr>\n",
       "\t<tr><td>1e+02     </td><td>rbfdot    </td><td>95.7187   </td></tr>\n",
       "\t<tr><td>...</td><td>...</td><td>...</td></tr>\n",
       "\t<tr><td>1e-03    </td><td>anovadot </td><td>58.8685  </td></tr>\n",
       "\t<tr><td>1e-02    </td><td>anovadot </td><td>86.2385  </td></tr>\n",
       "\t<tr><td>1e-01    </td><td>anovadot </td><td>86.2385  </td></tr>\n",
       "\t<tr><td>1e+00    </td><td>anovadot </td><td>86.3914  </td></tr>\n",
       "\t<tr><td>1e+01    </td><td>anovadot </td><td>87.3089  </td></tr>\n",
       "\t<tr><td>1e+02    </td><td>anovadot </td><td>90.6728  </td></tr>\n",
       "\t<tr><td>1e+03    </td><td>anovadot </td><td>90.6728  </td></tr>\n",
       "\t<tr><td>1e+04    </td><td>anovadot </td><td>90.8257  </td></tr>\n",
       "\t<tr><td>1e+05    </td><td>anovadot </td><td>88.5321  </td></tr>\n",
       "\t<tr><td>1e+06    </td><td>anovadot </td><td>81.9572  </td></tr>\n",
       "\t<tr><td>1e+07    </td><td>anovadot </td><td>68.9602  </td></tr>\n",
       "\t<tr><td>1e+08    </td><td>anovadot </td><td>77.3700  </td></tr>\n",
       "\t<tr><td>1e-09    </td><td>splinedot</td><td>54.7401  </td></tr>\n",
       "\t<tr><td>1e-08    </td><td>splinedot</td><td>54.8930  </td></tr>\n",
       "\t<tr><td>1e-07    </td><td>splinedot</td><td>54.8930  </td></tr>\n",
       "\t<tr><td>1e-06    </td><td>splinedot</td><td>55.8104  </td></tr>\n",
       "\t<tr><td>1e-05    </td><td>splinedot</td><td>57.7982  </td></tr>\n",
       "\t<tr><td>1e-04    </td><td>splinedot</td><td>62.3853  </td></tr>\n",
       "\t<tr><td>1e-03    </td><td>splinedot</td><td>78.2875  </td></tr>\n",
       "\t<tr><td>1e-02    </td><td>splinedot</td><td>81.0398  </td></tr>\n",
       "\t<tr><td>1e-01    </td><td>splinedot</td><td>94.4954  </td></tr>\n",
       "\t<tr><td>1e+00    </td><td>splinedot</td><td>96.6361  </td></tr>\n",
       "\t<tr><td>1e+01    </td><td>splinedot</td><td>97.8593  </td></tr>\n",
       "\t<tr><td>1e+02    </td><td>splinedot</td><td>97.8593  </td></tr>\n",
       "\t<tr><td>1e+03    </td><td>splinedot</td><td>97.8593  </td></tr>\n",
       "\t<tr><td>1e+04    </td><td>splinedot</td><td>97.8593  </td></tr>\n",
       "\t<tr><td>1e+05    </td><td>splinedot</td><td>97.8593  </td></tr>\n",
       "\t<tr><td>1e+06    </td><td>splinedot</td><td>94.3425  </td></tr>\n",
       "\t<tr><td>1e+07    </td><td>splinedot</td><td>87.7676  </td></tr>\n",
       "\t<tr><td>1e+08    </td><td>splinedot</td><td>86.5443  </td></tr>\n",
       "</tbody>\n",
       "</table>\n"
      ],
      "text/latex": [
       "\\begin{tabular}{r|lll}\n",
       " C\\_Value & Kernal\\_Name & Accuracy\\\\\n",
       "\\hline\n",
       "\t 1e-09      & vanilladot & 54.7401   \\\\\n",
       "\t 1e-08      & vanilladot & 54.7401   \\\\\n",
       "\t 1e-07      & vanilladot & 54.7401   \\\\\n",
       "\t 1e-06      & vanilladot & 54.7401   \\\\\n",
       "\t 1e-05      & vanilladot & 54.7401   \\\\\n",
       "\t 1e-04      & vanilladot & 54.7401   \\\\\n",
       "\t 1e-03      & vanilladot & 83.7920   \\\\\n",
       "\t 1e-02      & vanilladot & 86.3914   \\\\\n",
       "\t 1e-01      & vanilladot & 86.3914   \\\\\n",
       "\t 1e+00      & vanilladot & 86.3914   \\\\\n",
       "\t 1e+01      & vanilladot & 86.3914   \\\\\n",
       "\t 1e+02      & vanilladot & 86.3914   \\\\\n",
       "\t 1e+03      & vanilladot & 86.2385   \\\\\n",
       "\t 1e+04      & vanilladot & 86.2385   \\\\\n",
       "\t 1e+05      & vanilladot & 86.3914   \\\\\n",
       "\t 1e+06      & vanilladot & 62.5382   \\\\\n",
       "\t 1e+07      & vanilladot & 54.5872   \\\\\n",
       "\t 1e+08      & vanilladot & 66.3609   \\\\\n",
       "\t 1e-09      & rbfdot     & 54.7401   \\\\\n",
       "\t 1e-08      & rbfdot     & 54.7401   \\\\\n",
       "\t 1e-07      & rbfdot     & 54.7401   \\\\\n",
       "\t 1e-06      & rbfdot     & 54.7401   \\\\\n",
       "\t 1e-05      & rbfdot     & 54.7401   \\\\\n",
       "\t 1e-04      & rbfdot     & 54.7401   \\\\\n",
       "\t 1e-03      & rbfdot     & 54.7401   \\\\\n",
       "\t 1e-02      & rbfdot     & 56.1162   \\\\\n",
       "\t 1e-01      & rbfdot     & 85.9327   \\\\\n",
       "\t 1e+00      & rbfdot     & 87.1560   \\\\\n",
       "\t 1e+01      & rbfdot     & 91.4373   \\\\\n",
       "\t 1e+02      & rbfdot     & 95.7187   \\\\\n",
       "\t ... & ... & ...\\\\\n",
       "\t 1e-03     & anovadot  & 58.8685  \\\\\n",
       "\t 1e-02     & anovadot  & 86.2385  \\\\\n",
       "\t 1e-01     & anovadot  & 86.2385  \\\\\n",
       "\t 1e+00     & anovadot  & 86.3914  \\\\\n",
       "\t 1e+01     & anovadot  & 87.3089  \\\\\n",
       "\t 1e+02     & anovadot  & 90.6728  \\\\\n",
       "\t 1e+03     & anovadot  & 90.6728  \\\\\n",
       "\t 1e+04     & anovadot  & 90.8257  \\\\\n",
       "\t 1e+05     & anovadot  & 88.5321  \\\\\n",
       "\t 1e+06     & anovadot  & 81.9572  \\\\\n",
       "\t 1e+07     & anovadot  & 68.9602  \\\\\n",
       "\t 1e+08     & anovadot  & 77.3700  \\\\\n",
       "\t 1e-09     & splinedot & 54.7401  \\\\\n",
       "\t 1e-08     & splinedot & 54.8930  \\\\\n",
       "\t 1e-07     & splinedot & 54.8930  \\\\\n",
       "\t 1e-06     & splinedot & 55.8104  \\\\\n",
       "\t 1e-05     & splinedot & 57.7982  \\\\\n",
       "\t 1e-04     & splinedot & 62.3853  \\\\\n",
       "\t 1e-03     & splinedot & 78.2875  \\\\\n",
       "\t 1e-02     & splinedot & 81.0398  \\\\\n",
       "\t 1e-01     & splinedot & 94.4954  \\\\\n",
       "\t 1e+00     & splinedot & 96.6361  \\\\\n",
       "\t 1e+01     & splinedot & 97.8593  \\\\\n",
       "\t 1e+02     & splinedot & 97.8593  \\\\\n",
       "\t 1e+03     & splinedot & 97.8593  \\\\\n",
       "\t 1e+04     & splinedot & 97.8593  \\\\\n",
       "\t 1e+05     & splinedot & 97.8593  \\\\\n",
       "\t 1e+06     & splinedot & 94.3425  \\\\\n",
       "\t 1e+07     & splinedot & 87.7676  \\\\\n",
       "\t 1e+08     & splinedot & 86.5443  \\\\\n",
       "\\end{tabular}\n"
      ],
      "text/markdown": [
       "\n",
       "| C_Value | Kernal_Name | Accuracy |\n",
       "|---|---|---|\n",
       "| 1e-09      | vanilladot | 54.7401    |\n",
       "| 1e-08      | vanilladot | 54.7401    |\n",
       "| 1e-07      | vanilladot | 54.7401    |\n",
       "| 1e-06      | vanilladot | 54.7401    |\n",
       "| 1e-05      | vanilladot | 54.7401    |\n",
       "| 1e-04      | vanilladot | 54.7401    |\n",
       "| 1e-03      | vanilladot | 83.7920    |\n",
       "| 1e-02      | vanilladot | 86.3914    |\n",
       "| 1e-01      | vanilladot | 86.3914    |\n",
       "| 1e+00      | vanilladot | 86.3914    |\n",
       "| 1e+01      | vanilladot | 86.3914    |\n",
       "| 1e+02      | vanilladot | 86.3914    |\n",
       "| 1e+03      | vanilladot | 86.2385    |\n",
       "| 1e+04      | vanilladot | 86.2385    |\n",
       "| 1e+05      | vanilladot | 86.3914    |\n",
       "| 1e+06      | vanilladot | 62.5382    |\n",
       "| 1e+07      | vanilladot | 54.5872    |\n",
       "| 1e+08      | vanilladot | 66.3609    |\n",
       "| 1e-09      | rbfdot     | 54.7401    |\n",
       "| 1e-08      | rbfdot     | 54.7401    |\n",
       "| 1e-07      | rbfdot     | 54.7401    |\n",
       "| 1e-06      | rbfdot     | 54.7401    |\n",
       "| 1e-05      | rbfdot     | 54.7401    |\n",
       "| 1e-04      | rbfdot     | 54.7401    |\n",
       "| 1e-03      | rbfdot     | 54.7401    |\n",
       "| 1e-02      | rbfdot     | 56.1162    |\n",
       "| 1e-01      | rbfdot     | 85.9327    |\n",
       "| 1e+00      | rbfdot     | 87.1560    |\n",
       "| 1e+01      | rbfdot     | 91.4373    |\n",
       "| 1e+02      | rbfdot     | 95.7187    |\n",
       "| ... | ... | ... |\n",
       "| 1e-03     | anovadot  | 58.8685   |\n",
       "| 1e-02     | anovadot  | 86.2385   |\n",
       "| 1e-01     | anovadot  | 86.2385   |\n",
       "| 1e+00     | anovadot  | 86.3914   |\n",
       "| 1e+01     | anovadot  | 87.3089   |\n",
       "| 1e+02     | anovadot  | 90.6728   |\n",
       "| 1e+03     | anovadot  | 90.6728   |\n",
       "| 1e+04     | anovadot  | 90.8257   |\n",
       "| 1e+05     | anovadot  | 88.5321   |\n",
       "| 1e+06     | anovadot  | 81.9572   |\n",
       "| 1e+07     | anovadot  | 68.9602   |\n",
       "| 1e+08     | anovadot  | 77.3700   |\n",
       "| 1e-09     | splinedot | 54.7401   |\n",
       "| 1e-08     | splinedot | 54.8930   |\n",
       "| 1e-07     | splinedot | 54.8930   |\n",
       "| 1e-06     | splinedot | 55.8104   |\n",
       "| 1e-05     | splinedot | 57.7982   |\n",
       "| 1e-04     | splinedot | 62.3853   |\n",
       "| 1e-03     | splinedot | 78.2875   |\n",
       "| 1e-02     | splinedot | 81.0398   |\n",
       "| 1e-01     | splinedot | 94.4954   |\n",
       "| 1e+00     | splinedot | 96.6361   |\n",
       "| 1e+01     | splinedot | 97.8593   |\n",
       "| 1e+02     | splinedot | 97.8593   |\n",
       "| 1e+03     | splinedot | 97.8593   |\n",
       "| 1e+04     | splinedot | 97.8593   |\n",
       "| 1e+05     | splinedot | 97.8593   |\n",
       "| 1e+06     | splinedot | 94.3425   |\n",
       "| 1e+07     | splinedot | 87.7676   |\n",
       "| 1e+08     | splinedot | 86.5443   |\n",
       "\n"
      ],
      "text/plain": [
       "    C_Value Kernal_Name Accuracy\n",
       "1   1e-09   vanilladot  54.7401 \n",
       "2   1e-08   vanilladot  54.7401 \n",
       "3   1e-07   vanilladot  54.7401 \n",
       "4   1e-06   vanilladot  54.7401 \n",
       "5   1e-05   vanilladot  54.7401 \n",
       "6   1e-04   vanilladot  54.7401 \n",
       "7   1e-03   vanilladot  83.7920 \n",
       "8   1e-02   vanilladot  86.3914 \n",
       "9   1e-01   vanilladot  86.3914 \n",
       "10  1e+00   vanilladot  86.3914 \n",
       "11  1e+01   vanilladot  86.3914 \n",
       "12  1e+02   vanilladot  86.3914 \n",
       "13  1e+03   vanilladot  86.2385 \n",
       "14  1e+04   vanilladot  86.2385 \n",
       "15  1e+05   vanilladot  86.3914 \n",
       "16  1e+06   vanilladot  62.5382 \n",
       "17  1e+07   vanilladot  54.5872 \n",
       "18  1e+08   vanilladot  66.3609 \n",
       "19  1e-09   rbfdot      54.7401 \n",
       "20  1e-08   rbfdot      54.7401 \n",
       "21  1e-07   rbfdot      54.7401 \n",
       "22  1e-06   rbfdot      54.7401 \n",
       "23  1e-05   rbfdot      54.7401 \n",
       "24  1e-04   rbfdot      54.7401 \n",
       "25  1e-03   rbfdot      54.7401 \n",
       "26  1e-02   rbfdot      56.1162 \n",
       "27  1e-01   rbfdot      85.9327 \n",
       "28  1e+00   rbfdot      87.1560 \n",
       "29  1e+01   rbfdot      91.4373 \n",
       "30  1e+02   rbfdot      95.7187 \n",
       "... ...     ...         ...     \n",
       "115 1e-03   anovadot    58.8685 \n",
       "116 1e-02   anovadot    86.2385 \n",
       "117 1e-01   anovadot    86.2385 \n",
       "118 1e+00   anovadot    86.3914 \n",
       "119 1e+01   anovadot    87.3089 \n",
       "120 1e+02   anovadot    90.6728 \n",
       "121 1e+03   anovadot    90.6728 \n",
       "122 1e+04   anovadot    90.8257 \n",
       "123 1e+05   anovadot    88.5321 \n",
       "124 1e+06   anovadot    81.9572 \n",
       "125 1e+07   anovadot    68.9602 \n",
       "126 1e+08   anovadot    77.3700 \n",
       "127 1e-09   splinedot   54.7401 \n",
       "128 1e-08   splinedot   54.8930 \n",
       "129 1e-07   splinedot   54.8930 \n",
       "130 1e-06   splinedot   55.8104 \n",
       "131 1e-05   splinedot   57.7982 \n",
       "132 1e-04   splinedot   62.3853 \n",
       "133 1e-03   splinedot   78.2875 \n",
       "134 1e-02   splinedot   81.0398 \n",
       "135 1e-01   splinedot   94.4954 \n",
       "136 1e+00   splinedot   96.6361 \n",
       "137 1e+01   splinedot   97.8593 \n",
       "138 1e+02   splinedot   97.8593 \n",
       "139 1e+03   splinedot   97.8593 \n",
       "140 1e+04   splinedot   97.8593 \n",
       "141 1e+05   splinedot   97.8593 \n",
       "142 1e+06   splinedot   94.3425 \n",
       "143 1e+07   splinedot   87.7676 \n",
       "144 1e+08   splinedot   86.5443 "
      ]
     },
     "metadata": {},
     "output_type": "display_data"
    }
   ],
   "source": [
    "results_df"
   ]
  },
  {
   "cell_type": "markdown",
   "id": "f6ae345d-4e41-4c91-aa25-50fa104f9482",
   "metadata": {},
   "source": [
    "### KNN Classification\n",
    "Next I am going to fit our data with a KNN model and test to see how well it predicts credit approval. I have to determine a good value of k which defines how many neighbors will be compared to determine the classification of the point. The equation I am going to train it on is:\n",
    "\n",
    "\\\\[R1 ~= f(A1, A2, A3, A8, A9, A10, A12, A14, A15)\\\\]\n",
    "\n",
    "I am going to use Leave-One-Out Cross-Validation (LOOCV). This is done by leaving out a single data point dataset and then training the model with the remaining data points. The removed data point is then used as a test case to evaluate the model's performance. For each of the k values we want to test we will loop through each row of data, using that row to test our model and using all of the rest of the data to use as neighbors. I am going to use loops to accomplish this but I found that using the train.kknn() function is another option as it also uses the LOOCV method. For the purpose of this homework to get practice using loops in R I am not using the train.kknn() option."
   ]
  },
  {
   "cell_type": "code",
   "execution_count": 12,
   "id": "a4e0e225-bf77-496f-b7aa-dbee82b59771",
   "metadata": {},
   "outputs": [],
   "source": [
    "k_len = 60\n",
    "knn_results_df <- data.frame('k_value' = numeric(), 'Accuracy' = numeric(), stringsAsFactors = FALSE)\n",
    "\n",
    "for (k_val in 1:k_len) {\n",
    "    knn_prediction <- array(0, nrow(data))\n",
    "    for (i in 1:nrow(data)) {\n",
    "        train_data <- data[-i,]\n",
    "    \ttest_data <- data[i,]\n",
    "    \tknn_model = kknn(as.factor(R1)~., train_data, test_data, k=k_val, scale = TRUE)\n",
    "        knn_prediction[i] <- predict(knn_model)\n",
    "    }\n",
    "    # Subtracting 1 from knn_prediction b/c it gives 1 and 2 instead of 0 and 1 as result\n",
    "    knn_accuracy <- 100 * sum(data[,11] == knn_prediction-1)/nrow(data)\n",
    "    knn_results_df <- rbind(knn_results_df, data.frame('k_value' = k_val, 'Accuracy' = knn_accuracy))\n",
    "}"
   ]
  },
  {
   "cell_type": "markdown",
   "id": "0d09e054-be7e-41a1-a65c-ae02555500ff",
   "metadata": {},
   "source": [
    "Now that I have the results of our various knn models with k values of 1-60 in our knn_results_df, I will use that to determine the answer to question 2.2 - Part 3 below."
   ]
  },
  {
   "cell_type": "markdown",
   "id": "8ac9a54a-4cc9-4388-bc37-d6bdb18f62e0",
   "metadata": {},
   "source": [
    "### Answer to Question 2 - Part 1\n",
    "Part 1 asked to find a good classifier for the data using the SVM function ksvm and the kernal VannillaDot. As can be seen from the results_df shown above and the graph below, our model achieved 86.39% accuracy in predicting credit card approval for the data set with multiple C values (.01, 1, 10, 100, 100000). I will choose **0.01 as our C value for the answer to this question.** The reason for this selection, equation for the choosen classifier, and the results of it's predictions can be found below."
   ]
  },
  {
   "cell_type": "code",
   "execution_count": 13,
   "id": "e3168d2e-2d8a-4dcf-a06c-e9b667c4f676",
   "metadata": {},
   "outputs": [
    {
     "data": {
      "image/png": "[encoded data removed]",
      "text/plain": [
       "plot without title"
      ]
     },
     "metadata": {},
     "output_type": "display_data"
    }
   ],
   "source": [
    "# Plot the values from the results_df for just the vanilladot kernal)\n",
    "desired_kernels <- c(\"vanilladot\")\n",
    "\n",
    "options(repr.plot.width = 8, repr.plot.height = 3)\n",
    "\n",
    "ggplot(data = subset(results_df, Kernal_Name %in% desired_kernels), aes(x = factor(C_Value), y = Accuracy, color = Kernal_Name, group = Kernal_Name)) +\n",
    "  geom_point() + \n",
    "  geom_line() +\n",
    "  labs(x = \"C-Value\", y = \"Accuracy\", title = \"SVM Model Prediction Accuracy - VanillaDot\") +\n",
    "  theme_minimal()"
   ]
  },
  {
   "cell_type": "markdown",
   "id": "d456a885-ff4d-47da-ad81-45633900d039",
   "metadata": {},
   "source": [
    "I chose **0.01 as my C-value** for the classifier, which matched an **accuracy of 86.3914%** with serveral other C-values. I choose to use the smaller C value because it puts a larger emphasis on increasing the margin. Depending on the cost value of a mistake for approving a credit card this may or may not be appropriate, but based on how easy it is to be approved for a credit card my assumption is that issuers side more liberally on approval. Rerunning the model I get the predicted values vs. the actual values and the coefficients for our models equation."
   ]
  },
  {
   "cell_type": "code",
   "execution_count": 14,
   "id": "da975d9e-bbd5-46a9-b630-27c03c1e03f7",
   "metadata": {},
   "outputs": [
    {
     "name": "stdout",
     "output_type": "stream",
     "text": [
      " Setting default kernel parameters  \n",
      "Example of output from model, full results inspected but not shown to keep response to managable length:"
     ]
    },
    {
     "data": {
      "text/html": [
       "<table>\n",
       "<thead><tr><th scope=col>Predicted_Values</th><th scope=col>Actual_Values</th></tr></thead>\n",
       "<tbody>\n",
       "\t<tr><td>1</td><td>1</td></tr>\n",
       "\t<tr><td>1</td><td>1</td></tr>\n",
       "\t<tr><td>1</td><td>1</td></tr>\n",
       "\t<tr><td>1</td><td>1</td></tr>\n",
       "\t<tr><td>1</td><td>1</td></tr>\n",
       "\t<tr><td>1</td><td>1</td></tr>\n",
       "</tbody>\n",
       "</table>\n"
      ],
      "text/latex": [
       "\\begin{tabular}{r|ll}\n",
       " Predicted\\_Values & Actual\\_Values\\\\\n",
       "\\hline\n",
       "\t 1 & 1\\\\\n",
       "\t 1 & 1\\\\\n",
       "\t 1 & 1\\\\\n",
       "\t 1 & 1\\\\\n",
       "\t 1 & 1\\\\\n",
       "\t 1 & 1\\\\\n",
       "\\end{tabular}\n"
      ],
      "text/markdown": [
       "\n",
       "| Predicted_Values | Actual_Values |\n",
       "|---|---|\n",
       "| 1 | 1 |\n",
       "| 1 | 1 |\n",
       "| 1 | 1 |\n",
       "| 1 | 1 |\n",
       "| 1 | 1 |\n",
       "| 1 | 1 |\n",
       "\n"
      ],
      "text/plain": [
       "  Predicted_Values Actual_Values\n",
       "1 1                1            \n",
       "2 1                1            \n",
       "3 1                1            \n",
       "4 1                1            \n",
       "5 1                1            \n",
       "6 1                1            "
      ]
     },
     "metadata": {},
     "output_type": "display_data"
    }
   ],
   "source": [
    "# Rerun the model and save the results and coefficients of the model\n",
    "vsm_model <- ksvm(as.matrix(data[,1:10]),as.factor(data[,11]),type=\"C-svc\",kernel=\"vanilladot\",C=0.01,scaled=TRUE)\n",
    "a <- colSums(vsm_model@xmatrix[[1]] * vsm_model@coef[[1]])\n",
    "a0 <- -vsm_model@b\n",
    "pred <- predict(vsm_model,data[,1:10])\n",
    "accuracy <- round((sum(pred == data[,11]) / nrow(data))*100,4)\n",
    "\n",
    "# Compare predicted values to actual values to get a sense of how our model looks\n",
    "prediction_df <- data.frame('Predicted_Values' = pred, 'Actual_Values' = data[,11], stringsAsFactors = FALSE)\n",
    "cat('Example of output from model, full results inspected but not shown to keep response to managable length:')\n",
    "head(prediction_df)"
   ]
  },
  {
   "cell_type": "markdown",
   "id": "0d3231af-d6e7-49af-8891-1fa9d1ed597a",
   "metadata": {},
   "source": [
    "The equation for the model can be seen below, the coefficients were rounded to show the entire equation. The coeficients full values can be found below in the output of the next cell.\n",
    "\n",
    "\\\\[(-0.0002X_{i1} - 0.0015X_{i2} + 0.0014X_{i3} + 0.0073X_{i8} + 0.9916X_{i9} - 0.0045X_{i10} + 0.0071X_{i11} - 0.0005X_{i12} - 0.0017X_{i14} +  0.1055X_{i15} + 0.0820) Y_{i} \\ge 1\\\\]"
   ]
  },
  {
   "cell_type": "code",
   "execution_count": 15,
   "id": "f43d048f-0c25-4c3c-b69a-c48da88bae8e",
   "metadata": {},
   "outputs": [
    {
     "name": "stdout",
     "output_type": "stream",
     "text": [
      "With a C-Value of 0.01 our model correctly predicted  86.3914 % of the outcomes for the datatset. The coefficients for the model are shown below: \n",
      "a = -0.0001500738 -0.001481829 0.001408313 0.007286389 0.991647 -0.004466124 0.00714829 -0.0005468386 -0.001693058 0.1054824 \n",
      "a0 = 0.08198854 \n"
     ]
    }
   ],
   "source": [
    "cat(\"With a C-Value of 0.01 our model correctly predicted \", accuracy, \"% of the outcomes for the datatset. The coefficients for the model are shown below:\", \"\\n\")\n",
    "cat(\"a =\", a, \"\\n\")\n",
    "cat(\"a0 =\", a0, \"\\n\")"
   ]
  },
  {
   "cell_type": "markdown",
   "id": "0c590078-c0ba-4567-acc3-ae1830a3e6b2",
   "metadata": {},
   "source": [
    "### Answer to Question 2.2 - Part 2\n",
    "For Part 2 I looked at the 6 different kernals listed in the R documentation on the ksvm function (https://www.rdocumentation.org/packages/kernlab/versions/0.9-32/topics/ksvm). Looking at the results of the various kernal types in the dataframe shown above and the graph below, two models reach 100% accuracy (rbfdot, laplacedot). **The laplacedot kernal saw a 100% prediction over a wider range of C values** (100 - 100000000) than the rbfdot which got all of it's prediction correct only at the largest two C values. This gives laplacedot the slight edge but both proved to correctly predict 100% of the credit card approvals at the right C value."
   ]
  },
  {
   "cell_type": "code",
   "execution_count": 16,
   "id": "3c413417-153d-4c40-8f67-58a498c761d9",
   "metadata": {},
   "outputs": [
    {
     "data": {
      "image/png": "[encoded data removed]",
      "text/plain": [
       "plot without title"
      ]
     },
     "metadata": {},
     "output_type": "display_data"
    }
   ],
   "source": [
    "options(repr.plot.width = 8, repr.plot.height = 3)\n",
    "ggplot(data = results_df, aes(x = factor(C_Value), y = Accuracy, color = Kernal_Name, group = Kernal_Name)) +\n",
    "  geom_point() + \n",
    "  geom_line() +\n",
    "  labs(x = \"C-Value\", y = \"Accuracy\", title = \"Model Prediction Accuracy - Various Kernals\") +\n",
    "  theme_minimal()"
   ]
  },
  {
   "cell_type": "markdown",
   "id": "a8095750-d79b-4c03-86ad-8460fc1388d8",
   "metadata": {},
   "source": [
    "### Answer to Question 2.2 - Part 3\n",
    "For part 3 I am using the k-nearest-neighbors classification function kknn contained in the R kknn package to come up with a good value of k, and then showing how well it classifies data points in the full data set. I ran the model for a range of 1:40 k-values and found that the most accurate model used a **k-value of 12** which **correctly predicted 85.21%** of the results. A graph of the k-values vs. their accuracy can be seen below as well as the maximum accuracy value and corresponding k-value from our knn_results_df dataframe."
   ]
  },
  {
   "cell_type": "code",
   "execution_count": 17,
   "id": "dfcc80bf-550d-4504-a4c2-b5e4921f754d",
   "metadata": {},
   "outputs": [
    {
     "name": "stdout",
     "output_type": "stream",
     "text": [
      "Maximum Accuracy value: 85.3211 \n",
      "Corresponding k-value: 12 \n"
     ]
    },
    {
     "data": {
      "image/png": "[encoded data removed]",
      "text/plain": [
       "plot without title"
      ]
     },
     "metadata": {},
     "output_type": "display_data"
    }
   ],
   "source": [
    "# Create a graph of k-values vs. accuracy\n",
    "options(repr.plot.width = 8, repr.plot.height = 3)\n",
    "ggplot(data = knn_results_df, aes(x = k_value, y = Accuracy)) +\n",
    "  geom_point(color = \"red\") + \n",
    "  geom_line(color = \"red\") +\n",
    "  labs(x = \"K-Value\", y = \"Accuracy\", title = \"Model Prediction Accuracy\") +\n",
    "  theme_minimal()\n",
    "\n",
    "# Find the row index with the maximum Accuracy and the corresponding K-Value\n",
    "max_index <- which.max(knn_results_df$Accuracy)\n",
    "max_k_value <- knn_results_df$k_value[max_index]\n",
    "max_accuracy <- knn_results_df$Accuracy[max_index]\n",
    "\n",
    "# Print the results\n",
    "cat(\"Maximum Accuracy value:\", max_accuracy, \"\\n\")\n",
    "cat(\"Corresponding k-value:\", max_k_value, \"\\n\")"
   ]
  }
 ],
 "metadata": {
  "kernelspec": {
   "display_name": "R",
   "language": "R",
   "name": "ir"
  },
  "language_info": {
   "codemirror_mode": "r",
   "file_extension": ".r",
   "mimetype": "text/x-r-source",
   "name": "R",
   "pygments_lexer": "r",
   "version": "3.6.1"
  }
 },
 "nbformat": 4,
 "nbformat_minor": 5
}
