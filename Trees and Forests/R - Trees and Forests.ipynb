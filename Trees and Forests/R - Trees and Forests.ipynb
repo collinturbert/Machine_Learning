{
 "cells": [
  {
   "cell_type": "markdown",
   "id": "1ea03633-8798-4fff-a635-608eee4c75d6",
   "metadata": {},
   "source": [
    "### Regression Tree and Random Forest Models\n",
    "> The purpose of this notebook is to explore using regression trees and random forests for predictive analytics. I plan on using the crime data set uscrime.txt and fitting a \n",
    "(a) a regression tree model, and (b) a random forest model for comparison"
   ]
  },
  {
   "cell_type": "markdown",
   "id": "39e079f4-c435-4db8-8b2c-71b04970eaf6",
   "metadata": {},
   "source": [
    "### Regression Tree Model\n",
    "\n",
    "To create the regression tree model I'll use the rpart package. For the random forest I'll use the randomForest package. I found this article helpful in understanding how to create the decision tree and random forest: https://quantdev.ssri.psu.edu/tutorials/introduction-classification-regression-trees.\n",
    "\n",
    "1) Explore the data to gain a better understanding of the dataset\n",
    "2) Normalize the data\n",
    "3) Look at correlation values\n",
    "4) Apply the PCA\n",
    "5) Determine optimal number of principal components\n",
    "6) Create new linear regression model in terms of the original variables\n",
    "7) Compare the new models"
   ]
  },
  {
   "cell_type": "markdown",
   "id": "07f13193-040e-4b8f-8131-d1838598a2d5",
   "metadata": {},
   "source": [
    "#### Step 1 - Explore the Data\n",
    "For this step I am going to visually inspect the data, get summary statistics to get a sense of the properties of the values in the data, and read about the data to understand what each value represents.  I'll start by loading the libraries I need for this analysis and loading the data."
   ]
  },
  {
   "cell_type": "code",
   "execution_count": 37,
   "id": "d64fb628-4adc-44b7-be94-810ad07f4f4c",
   "metadata": {
    "vscode": {
     "languageId": "r"
    }
   },
   "outputs": [],
   "source": [
    "# Set seed so output is reproducible\n",
    "set.seed(123)\n",
    "\n",
    "# Load libraries needed for analysis\n",
    "library(ggplot2) # for plots\n",
    "library(dplyr) # includes pipeline operator\n",
    "library(rpart) # tree model\n",
    "library(rpart.plot) # visualizing the tree model\n",
    "library(rattle) # another way to visualize the tree model\n",
    "library(randomForest) # random forest model\n",
    "library(caret) # for performing cross-validation\n",
    "library(cowplot) # for creating grid of plots\n",
    "library(pROC) # creating ROC curves"
   ]
  },
  {
   "cell_type": "code",
   "execution_count": 2,
   "id": "d1cd2777-fb40-4268-82da-4b96b55d0c5e",
   "metadata": {
    "vscode": {
     "languageId": "r"
    }
   },
   "outputs": [],
   "source": [
    "# Load the data\n",
    "crime_data <- read.table(\"uscrime.txt\", header = TRUE)"
   ]
  },
  {
   "cell_type": "code",
   "execution_count": 3,
   "id": "17613880-f47b-4b90-abc5-18d7bf7e3fef",
   "metadata": {
    "vscode": {
     "languageId": "r"
    }
   },
   "outputs": [
    {
     "data": {
      "text/html": [
       "<table>\n",
       "<thead><tr><th scope=col>M</th><th scope=col>So</th><th scope=col>Ed</th><th scope=col>Po1</th><th scope=col>Po2</th><th scope=col>LF</th><th scope=col>M.F</th><th scope=col>Pop</th><th scope=col>NW</th><th scope=col>U1</th></tr></thead>\n",
       "<tbody>\n",
       "\t<tr><td>15.1 </td><td>1    </td><td> 9.1 </td><td> 5.8 </td><td> 5.6 </td><td>0.510</td><td> 95.0</td><td> 33  </td><td>30.1 </td><td>0.108</td></tr>\n",
       "\t<tr><td>14.3 </td><td>0    </td><td>11.3 </td><td>10.3 </td><td> 9.5 </td><td>0.583</td><td>101.2</td><td> 13  </td><td>10.2 </td><td>0.096</td></tr>\n",
       "\t<tr><td>14.2 </td><td>1    </td><td> 8.9 </td><td> 4.5 </td><td> 4.4 </td><td>0.533</td><td> 96.9</td><td> 18  </td><td>21.9 </td><td>0.094</td></tr>\n",
       "\t<tr><td>13.6 </td><td>0    </td><td>12.1 </td><td>14.9 </td><td>14.1 </td><td>0.577</td><td> 99.4</td><td>157  </td><td> 8.0 </td><td>0.102</td></tr>\n",
       "\t<tr><td>14.1 </td><td>0    </td><td>12.1 </td><td>10.9 </td><td>10.1 </td><td>0.591</td><td> 98.5</td><td> 18  </td><td> 3.0 </td><td>0.091</td></tr>\n",
       "\t<tr><td>12.1 </td><td>0    </td><td>11.0 </td><td>11.8 </td><td>11.5 </td><td>0.547</td><td> 96.4</td><td> 25  </td><td> 4.4 </td><td>0.084</td></tr>\n",
       "</tbody>\n",
       "</table>\n"
      ],
      "text/latex": [
       "\\begin{tabular}{r|llllllllll}\n",
       " M & So & Ed & Po1 & Po2 & LF & M.F & Pop & NW & U1\\\\\n",
       "\\hline\n",
       "\t 15.1  & 1     &  9.1  &  5.8  &  5.6  & 0.510 &  95.0 &  33   & 30.1  & 0.108\\\\\n",
       "\t 14.3  & 0     & 11.3  & 10.3  &  9.5  & 0.583 & 101.2 &  13   & 10.2  & 0.096\\\\\n",
       "\t 14.2  & 1     &  8.9  &  4.5  &  4.4  & 0.533 &  96.9 &  18   & 21.9  & 0.094\\\\\n",
       "\t 13.6  & 0     & 12.1  & 14.9  & 14.1  & 0.577 &  99.4 & 157   &  8.0  & 0.102\\\\\n",
       "\t 14.1  & 0     & 12.1  & 10.9  & 10.1  & 0.591 &  98.5 &  18   &  3.0  & 0.091\\\\\n",
       "\t 12.1  & 0     & 11.0  & 11.8  & 11.5  & 0.547 &  96.4 &  25   &  4.4  & 0.084\\\\\n",
       "\\end{tabular}\n"
      ],
      "text/markdown": [
       "\n",
       "| M | So | Ed | Po1 | Po2 | LF | M.F | Pop | NW | U1 |\n",
       "|---|---|---|---|---|---|---|---|---|---|\n",
       "| 15.1  | 1     |  9.1  |  5.8  |  5.6  | 0.510 |  95.0 |  33   | 30.1  | 0.108 |\n",
       "| 14.3  | 0     | 11.3  | 10.3  |  9.5  | 0.583 | 101.2 |  13   | 10.2  | 0.096 |\n",
       "| 14.2  | 1     |  8.9  |  4.5  |  4.4  | 0.533 |  96.9 |  18   | 21.9  | 0.094 |\n",
       "| 13.6  | 0     | 12.1  | 14.9  | 14.1  | 0.577 |  99.4 | 157   |  8.0  | 0.102 |\n",
       "| 14.1  | 0     | 12.1  | 10.9  | 10.1  | 0.591 |  98.5 |  18   |  3.0  | 0.091 |\n",
       "| 12.1  | 0     | 11.0  | 11.8  | 11.5  | 0.547 |  96.4 |  25   |  4.4  | 0.084 |\n",
       "\n"
      ],
      "text/plain": [
       "  M    So Ed   Po1  Po2  LF    M.F   Pop NW   U1   \n",
       "1 15.1 1   9.1  5.8  5.6 0.510  95.0  33 30.1 0.108\n",
       "2 14.3 0  11.3 10.3  9.5 0.583 101.2  13 10.2 0.096\n",
       "3 14.2 1   8.9  4.5  4.4 0.533  96.9  18 21.9 0.094\n",
       "4 13.6 0  12.1 14.9 14.1 0.577  99.4 157  8.0 0.102\n",
       "5 14.1 0  12.1 10.9 10.1 0.591  98.5  18  3.0 0.091\n",
       "6 12.1 0  11.0 11.8 11.5 0.547  96.4  25  4.4 0.084"
      ]
     },
     "metadata": {},
     "output_type": "display_data"
    },
    {
     "data": {
      "text/html": [
       "<table>\n",
       "<thead><tr><th scope=col>U2</th><th scope=col>Wealth</th><th scope=col>Ineq</th><th scope=col>Prob</th><th scope=col>Time</th><th scope=col>Crime</th></tr></thead>\n",
       "<tbody>\n",
       "\t<tr><td>4.1     </td><td>3940    </td><td>26.1    </td><td>0.084602</td><td>26.2011 </td><td> 791    </td></tr>\n",
       "\t<tr><td>3.6     </td><td>5570    </td><td>19.4    </td><td>0.029599</td><td>25.2999 </td><td>1635    </td></tr>\n",
       "\t<tr><td>3.3     </td><td>3180    </td><td>25.0    </td><td>0.083401</td><td>24.3006 </td><td> 578    </td></tr>\n",
       "\t<tr><td>3.9     </td><td>6730    </td><td>16.7    </td><td>0.015801</td><td>29.9012 </td><td>1969    </td></tr>\n",
       "\t<tr><td>2.0     </td><td>5780    </td><td>17.4    </td><td>0.041399</td><td>21.2998 </td><td>1234    </td></tr>\n",
       "\t<tr><td>2.9     </td><td>6890    </td><td>12.6    </td><td>0.034201</td><td>20.9995 </td><td> 682    </td></tr>\n",
       "</tbody>\n",
       "</table>\n"
      ],
      "text/latex": [
       "\\begin{tabular}{r|llllll}\n",
       " U2 & Wealth & Ineq & Prob & Time & Crime\\\\\n",
       "\\hline\n",
       "\t 4.1      & 3940     & 26.1     & 0.084602 & 26.2011  &  791    \\\\\n",
       "\t 3.6      & 5570     & 19.4     & 0.029599 & 25.2999  & 1635    \\\\\n",
       "\t 3.3      & 3180     & 25.0     & 0.083401 & 24.3006  &  578    \\\\\n",
       "\t 3.9      & 6730     & 16.7     & 0.015801 & 29.9012  & 1969    \\\\\n",
       "\t 2.0      & 5780     & 17.4     & 0.041399 & 21.2998  & 1234    \\\\\n",
       "\t 2.9      & 6890     & 12.6     & 0.034201 & 20.9995  &  682    \\\\\n",
       "\\end{tabular}\n"
      ],
      "text/markdown": [
       "\n",
       "| U2 | Wealth | Ineq | Prob | Time | Crime |\n",
       "|---|---|---|---|---|---|\n",
       "| 4.1      | 3940     | 26.1     | 0.084602 | 26.2011  |  791     |\n",
       "| 3.6      | 5570     | 19.4     | 0.029599 | 25.2999  | 1635     |\n",
       "| 3.3      | 3180     | 25.0     | 0.083401 | 24.3006  |  578     |\n",
       "| 3.9      | 6730     | 16.7     | 0.015801 | 29.9012  | 1969     |\n",
       "| 2.0      | 5780     | 17.4     | 0.041399 | 21.2998  | 1234     |\n",
       "| 2.9      | 6890     | 12.6     | 0.034201 | 20.9995  |  682     |\n",
       "\n"
      ],
      "text/plain": [
       "  U2  Wealth Ineq Prob     Time    Crime\n",
       "1 4.1 3940   26.1 0.084602 26.2011  791 \n",
       "2 3.6 5570   19.4 0.029599 25.2999 1635 \n",
       "3 3.3 3180   25.0 0.083401 24.3006  578 \n",
       "4 3.9 6730   16.7 0.015801 29.9012 1969 \n",
       "5 2.0 5780   17.4 0.041399 21.2998 1234 \n",
       "6 2.9 6890   12.6 0.034201 20.9995  682 "
      ]
     },
     "metadata": {},
     "output_type": "display_data"
    }
   ],
   "source": [
    "# Visually inspect the data, for this report I only printed the first few rows but inspected all of them\n",
    "head(crime_data[,1:10])\n",
    "head(crime_data[,11:16])"
   ]
  },
  {
   "cell_type": "markdown",
   "id": "605c3e9f-f77f-459c-875b-4c5ea9be0da7",
   "metadata": {},
   "source": [
    "I don't like the labels for some of the columns in the data as it is hard to understand what they represent just by their name. A description of the attributes taken from the website can be seen below. Next, I am going to rename my columns to match the descriptions a little better. I am also going to make a couple of tweaks to the data, I am going to turn the LF, M.F, U1, and Prob variables into percentages to match the M, NW, U2 and Ineq variables. It seems odd that the U2 variable would be as a percentage and the U1 variable is set as a ratio since they represent the same thing for different age groups. I also just want the consistency of having everything listed as a percentage. I will of course have to apply the same transformation to the values from the data point we are trying to predict or to the coefficients of the final model.\n",
    "\n",
    "    M:      percentage of males aged 14-24 in total state population\n",
    "    So:     indicator variable for Southern states (0 = No, 1 = Yes)\n",
    "    Ed:     mean years of schooling of the population aged 25 years or over\n",
    "    Po1:    per capita expenditure on police protection in 1960\n",
    "    Po2:    per capita expenditure on police protection in 1959\n",
    "    LF:     labor force participation rate of civilian urban males in the age-group 14-24\n",
    "    M.F:    number of males per 100 females\n",
    "    Pop:    state population size in hundred thousands\n",
    "    NW:     percentage of nonwhites in the population\n",
    "    U1:     unemployment rate of urban males 14-24\n",
    "    U2:     unemployment rate of urban males 35-39\n",
    "    Wealth: median value of transferable assets or family income\n",
    "    Ineq:   percentage of families earning below half the median income\n",
    "    Prob:   probability of imprisonment: ratio of number of commitments to number of offenses\n",
    "    Time:   average time in months served by offenders in state prisons before their first release\n",
    "    Crime:  number of offenses per 100,000 population in 1960"
   ]
  },
  {
   "cell_type": "code",
   "execution_count": 4,
   "id": "80fa8f04-9c08-488a-a11b-f87dbcff77d0",
   "metadata": {
    "vscode": {
     "languageId": "r"
    }
   },
   "outputs": [
    {
     "data": {
      "text/plain": [
       " percent_young_male southern_state     average_ed    per_cap_exp_1960\n",
       " Min.   :11.90      Min.   :0.0000   Min.   : 8.70   Min.   : 4.50   \n",
       " 1st Qu.:13.00      1st Qu.:0.0000   1st Qu.: 9.75   1st Qu.: 6.25   \n",
       " Median :13.60      Median :0.0000   Median :10.80   Median : 7.80   \n",
       " Mean   :13.86      Mean   :0.3404   Mean   :10.56   Mean   : 8.50   \n",
       " 3rd Qu.:14.60      3rd Qu.:1.0000   3rd Qu.:11.45   3rd Qu.:10.45   \n",
       " Max.   :17.70      Max.   :1.0000   Max.   :12.20   Max.   :16.60   \n",
       " per_cap_exp_1959 laborforce_part  percent_male     population    \n",
       " Min.   : 4.100   Min.   :48.00   Min.   :48.29   Min.   :  3.00  \n",
       " 1st Qu.: 5.850   1st Qu.:53.05   1st Qu.:49.10   1st Qu.: 10.00  \n",
       " Median : 7.300   Median :56.00   Median :49.42   Median : 25.00  \n",
       " Mean   : 8.023   Mean   :56.12   Mean   :49.56   Mean   : 36.62  \n",
       " 3rd Qu.: 9.700   3rd Qu.:59.30   3rd Qu.:49.80   3rd Qu.: 41.50  \n",
       " Max.   :15.700   Max.   :64.10   Max.   :51.71   Max.   :168.00  \n",
       "    nonwhite      unemp_youth      unemp_adult    median_assets \n",
       " Min.   : 0.20   Min.   : 7.000   Min.   :2.000   Min.   :2880  \n",
       " 1st Qu.: 2.40   1st Qu.: 8.050   1st Qu.:2.750   1st Qu.:4595  \n",
       " Median : 7.60   Median : 9.200   Median :3.400   Median :5370  \n",
       " Mean   :10.11   Mean   : 9.547   Mean   :3.398   Mean   :5254  \n",
       " 3rd Qu.:13.25   3rd Qu.:10.400   3rd Qu.:3.850   3rd Qu.:5915  \n",
       " Max.   :42.30   Max.   :14.200   Max.   :5.800   Max.   :6890  \n",
       "   low_income    prob_imprisonment  time_served    crimes_per_million\n",
       " Min.   :12.60   Min.   : 0.690    Min.   :12.20   Min.   : 342.0    \n",
       " 1st Qu.:16.55   1st Qu.: 3.270    1st Qu.:21.60   1st Qu.: 658.5    \n",
       " Median :17.60   Median : 4.210    Median :25.80   Median : 831.0    \n",
       " Mean   :19.40   Mean   : 4.709    Mean   :26.60   Mean   : 905.1    \n",
       " 3rd Qu.:22.75   3rd Qu.: 5.445    3rd Qu.:30.45   3rd Qu.:1057.5    \n",
       " Max.   :27.60   Max.   :11.980    Max.   :44.00   Max.   :1993.0    "
      ]
     },
     "metadata": {},
     "output_type": "display_data"
    }
   ],
   "source": [
    "# Assign more meaningful variable names and update several values in the dataset (not necessary but it makes it easier for me to interpret)\n",
    "# %>% is a pipe operator that allows several operations (rename and mutate) to occur\n",
    "crime_data <- crime_data %>%\n",
    "  rename(percent_young_male = M,\n",
    "         southern_state = So,\n",
    "         average_ed = Ed,\n",
    "         per_cap_exp_1960 = Po1,\n",
    "         per_cap_exp_1959 = Po2,\n",
    "         laborforce_part = LF,\n",
    "         percent_male = M.F,\n",
    "         population = Pop,\n",
    "         nonwhite = NW,\n",
    "         unemp_youth = U1,\n",
    "         unemp_adult = U2,\n",
    "         median_assets = Wealth,\n",
    "         low_income = Ineq,\n",
    "         prob_imprisonment = Prob,\n",
    "         time_served = Time,\n",
    "         crimes_per_million = Crime) %>%\n",
    "  mutate(laborforce_part = laborforce_part * 100,\n",
    "         percent_male = (percent_male / (percent_male + 100)) * 100,\n",
    "         unemp_youth = unemp_youth * 100,\n",
    "         prob_imprisonment = prob_imprisonment * 100)\n",
    "\n",
    "# print summary of the transformed data\n",
    "summary(crime_data)"
   ]
  },
  {
   "cell_type": "markdown",
   "id": "c26943aa-bc3c-4f0c-9f46-92d89e3eac6f",
   "metadata": {},
   "source": [
    "#### Step 2 - Grow a Tree\n",
    "Now that the data is loaded I will grow the tree! I am using the rpart() package and since I am interested in a regression tree I will set the method to \"anova\". I also played with some of the control paramaters including setting the minimum number of observations in a node before a split is attempted (minsplit), how much each split must decrease the overall lack of fit (cp), and the maximum depth of any node of the final tree (maxdepth - root node is counted as depth 0). It was interesting to see how these parameters affected the final model. Since I want practice pruning the tree I chose parameters that created more terminal nodes than the base model did.\n",
    "\n",
    "Since the dataset is so small I didn't split it into training/testing data but will use cross-validation to analyze the model performance. This won't allow for an accurate errro estimation for the model but should give some insight into it's performance. More information about the rpart() function can be found here: https://www.rdocumentation.org/packages/rpart/versions/4.1.23/topics/rpart"
   ]
  },
  {
   "cell_type": "code",
   "execution_count": 5,
   "id": "0891834d-4687-4800-877d-e89c7f791161",
   "metadata": {
    "vscode": {
     "languageId": "r"
    }
   },
   "outputs": [
    {
     "name": "stdout",
     "output_type": "stream",
     "text": [
      "The minimum number of points in each branch needs to be 3 to meet the 5% rule of thumb. \n",
      "\n",
      "Model without control parameters: \n"
     ]
    },
    {
     "data": {
      "text/plain": [
       "n= 47 \n",
       "\n",
       "node), split, n, deviance, yval\n",
       "      * denotes terminal node\n",
       "\n",
       "1) root 47 6880928.0  905.0851  \n",
       "  2) per_cap_exp_1960< 7.65 23  779243.5  669.6087  \n",
       "    4) population< 22.5 12  243811.0  550.5000 *\n",
       "    5) population>=22.5 11  179470.7  799.5455 *\n",
       "  3) per_cap_exp_1960>=7.65 24 3604162.0 1130.7500  \n",
       "    6) nonwhite< 7.65 10  557574.9  886.9000 *\n",
       "    7) nonwhite>=7.65 14 2027225.0 1304.9290 *"
      ]
     },
     "metadata": {},
     "output_type": "display_data"
    },
    {
     "name": "stdout",
     "output_type": "stream",
     "text": [
      "\n",
      "\n",
      " Model with control parameters: \n"
     ]
    },
    {
     "data": {
      "text/plain": [
       "n= 47 \n",
       "\n",
       "node), split, n, deviance, yval\n",
       "      * denotes terminal node\n",
       "\n",
       " 1) root 47 6880928.00  905.0851  \n",
       "   2) per_cap_exp_1960< 7.65 23  779243.50  669.6087  \n",
       "     4) population< 22.5 12  243811.00  550.5000  \n",
       "       8) average_ed< 11.65 9   58820.89  484.1111 *\n",
       "       9) average_ed>=11.65 3   26320.67  749.6667 *\n",
       "     5) population>=22.5 11  179470.70  799.5455 *\n",
       "   3) per_cap_exp_1960>=7.65 24 3604162.00 1130.7500  \n",
       "     6) nonwhite< 7.65 10  557574.90  886.9000  \n",
       "      12) percent_young_male< 13.05 6  109289.50  727.5000 *\n",
       "      13) percent_young_male>=13.05 4   67160.00 1126.0000 *\n",
       "     7) nonwhite>=7.65 14 2027225.00 1304.9290  \n",
       "      14) median_assets< 6470 11  707252.70 1148.4550  \n",
       "        28) prob_imprisonment>=4.10995 4   28226.00  898.0000 *\n",
       "        29) prob_imprisonment< 4.10995 7  284739.70 1291.5710 *\n",
       "      15) median_assets>=6470 3   63120.67 1878.6670 *"
      ]
     },
     "metadata": {},
     "output_type": "display_data"
    }
   ],
   "source": [
    "# minimum number of points for the 5% rule of thumb\n",
    "min_points <- ceiling(0.05 * nrow(crime_data))\n",
    "cat(\"The minimum number of points in each branch needs to be\", min_points, \"to meet the 5% rule of thumb.\", \"\\n\\n\")\n",
    "\n",
    "# Grow tree without control parameters for comparison\n",
    "crime_tree_default <- rpart(crimes_per_million ~ ., method = \"anova\", data = crime_data)\n",
    "cat(\"Model without control parameters:\", \"\\n\")\n",
    "crime_tree_default\n",
    "\n",
    "# Grow the final tree using the control parameters (only ended up using the minsplit character which has a default of 20, the default for cp is 0.01)\n",
    "crime_tree <- rpart(crimes_per_million ~ ., method = \"anova\", data = crime_data, control = rpart.control(minsplit = 9))\n",
    "cat(\"\\n\\n\",\"Model with control parameters:\", \"\\n\")\n",
    "crime_tree"
   ]
  },
  {
   "cell_type": "markdown",
   "id": "382dbea8-cad7-4323-ac8d-a111f953d2c2",
   "metadata": {},
   "source": [
    "Inspecting the models above, the biggest difference is that the branch for per_cap_exp_1960 >= 7.65 splits the nonwhite branches additional times, and the branch for per_cap_exp_1960 < 7.65 splits the population < 22.5 an additional time. The default value for minsplit is 20 so by reducing it to 9 it allowed the model to create several more branches. The minbucket paramater is set to a default of (minstplit/3) which means it is equal to 3. This ensures that each terminal node had at least 5% of the data in it. I suspect I will still end up pruning most of the additional branches since they have a very small number of datapoints (3, 7, 4, 4, 6, 11, 3, and 9) which likely means the model is overfitting the data, but I am going to use the model that was created with control parameters to get more experience pruning."
   ]
  },
  {
   "cell_type": "markdown",
   "id": "61ed5d78-df53-49fe-9825-944148d04cc3",
   "metadata": {},
   "source": [
    "#### Step 3 - Inspect the Tree\n",
    "Next I am going to inspect the tree using a variety of plots and outputs."
   ]
  },
  {
   "cell_type": "code",
   "execution_count": 6,
   "id": "bbae6213-4c79-416d-9f79-cbaf034fa4c8",
   "metadata": {
    "vscode": {
     "languageId": "r"
    }
   },
   "outputs": [
    {
     "name": "stdout",
     "output_type": "stream",
     "text": [
      "Call:\n",
      "rpart(formula = crimes_per_million ~ ., data = crime_data, method = \"anova\", \n",
      "    control = rpart.control(minsplit = 9))\n",
      "  n= 47 \n",
      "\n",
      "          CP nsplit rel error   xerror      xstd\n",
      "1 0.36296293      0 1.0000000 1.062718 0.2641620\n",
      "2 0.16540024      1 0.6370371 1.131172 0.2744131\n",
      "3 0.05730143      3 0.3062366 1.292726 0.3268601\n",
      "4 0.05538867      4 0.2489352 1.152379 0.3190650\n",
      "5 0.05173165      5 0.1935465 1.178961 0.3179641\n",
      "6 0.02305931      6 0.1418148 1.172783 0.3249076\n",
      "7 0.01000000      7 0.1187555 1.146689 0.3351339\n",
      "\n",
      "Variable importance\n",
      "  per_cap_exp_1959      median_assets   per_cap_exp_1960  prob_imprisonment \n",
      "                15                 14                 14                 12 \n",
      "        low_income percent_young_male         average_ed           nonwhite \n",
      "                 8                  8                  8                  7 \n",
      "   laborforce_part        time_served         population     southern_state \n",
      "                 4                  4                  3                  1 \n",
      "       unemp_adult \n",
      "                 1 \n",
      "\n",
      "Node number 1: 47 observations,    complexity param=0.3629629\n",
      "  mean=905.0851, MSE=146402.7 \n",
      "  left son=2 (23 obs) right son=3 (24 obs)\n",
      "  Primary splits:\n",
      "      per_cap_exp_1960  < 7.65     to the left,  improve=0.3629629, (0 missing)\n",
      "      per_cap_exp_1959  < 7.2      to the left,  improve=0.3629629, (0 missing)\n",
      "      prob_imprisonment < 4.18485  to the right, improve=0.3217700, (0 missing)\n",
      "      median_assets     < 6470     to the left,  improve=0.2889992, (0 missing)\n",
      "      nonwhite          < 7.65     to the left,  improve=0.2356621, (0 missing)\n",
      "  Surrogate splits:\n",
      "      per_cap_exp_1959   < 7.2      to the left,  agree=1.000, adj=1.000, (0 split)\n",
      "      median_assets      < 5330     to the left,  agree=0.830, adj=0.652, (0 split)\n",
      "      prob_imprisonment  < 4.3598   to the right, agree=0.809, adj=0.609, (0 split)\n",
      "      percent_young_male < 13.25    to the right, agree=0.745, adj=0.478, (0 split)\n",
      "      low_income         < 17.15    to the right, agree=0.745, adj=0.478, (0 split)\n",
      "\n",
      "Node number 2: 23 observations,    complexity param=0.05173165\n",
      "  mean=669.6087, MSE=33880.15 \n",
      "  left son=4 (12 obs) right son=5 (11 obs)\n",
      "  Primary splits:\n",
      "      population         < 22.5     to the left,  improve=0.4568043, (0 missing)\n",
      "      percent_young_male < 14.5     to the left,  improve=0.3931567, (0 missing)\n",
      "      per_cap_exp_1960   < 5.65     to the left,  improve=0.3279971, (0 missing)\n",
      "      nonwhite           < 5.4      to the left,  improve=0.3184074, (0 missing)\n",
      "      unemp_youth        < 9.3      to the right, improve=0.2119062, (0 missing)\n",
      "  Surrogate splits:\n",
      "      nonwhite           < 5.4      to the left,  agree=0.826, adj=0.636, (0 split)\n",
      "      percent_young_male < 14.5     to the left,  agree=0.783, adj=0.545, (0 split)\n",
      "      time_served        < 22.30055 to the left,  agree=0.783, adj=0.545, (0 split)\n",
      "      southern_state     < 0.5      to the left,  agree=0.739, adj=0.455, (0 split)\n",
      "      average_ed         < 10.85    to the right, agree=0.739, adj=0.455, (0 split)\n",
      "\n",
      "Node number 3: 24 observations,    complexity param=0.1654002\n",
      "  mean=1130.75, MSE=150173.4 \n",
      "  left son=6 (10 obs) right son=7 (14 obs)\n",
      "  Primary splits:\n",
      "      nonwhite           < 7.65     to the left,  improve=0.2828293, (0 missing)\n",
      "      per_cap_exp_1960   < 13.85    to the left,  improve=0.2749163, (0 missing)\n",
      "      per_cap_exp_1959   < 13.45    to the left,  improve=0.2749163, (0 missing)\n",
      "      percent_young_male < 13.05    to the left,  improve=0.2714159, (0 missing)\n",
      "      median_assets      < 6470     to the left,  improve=0.2681920, (0 missing)\n",
      "  Surrogate splits:\n",
      "      average_ed      < 11.45    to the right, agree=0.750, adj=0.4, (0 split)\n",
      "      low_income      < 16.25    to the left,  agree=0.750, adj=0.4, (0 split)\n",
      "      time_served     < 21.9001  to the left,  agree=0.750, adj=0.4, (0 split)\n",
      "      population      < 30       to the left,  agree=0.708, adj=0.3, (0 split)\n",
      "      laborforce_part < 58.85    to the right, agree=0.667, adj=0.2, (0 split)\n",
      "\n",
      "Node number 4: 12 observations,    complexity param=0.02305931\n",
      "  mean=550.5, MSE=20317.58 \n",
      "  left son=8 (9 obs) right son=9 (3 obs)\n",
      "  Primary splits:\n",
      "      average_ed      < 11.65    to the left,  improve=0.6507887, (0 missing)\n",
      "      laborforce_part < 56.75    to the left,  improve=0.4820740, (0 missing)\n",
      "      population      < 6.5      to the left,  improve=0.2836993, (0 missing)\n",
      "      percent_male    < 49.1999  to the left,  improve=0.2765093, (0 missing)\n",
      "      median_assets   < 5075     to the left,  improve=0.2327433, (0 missing)\n",
      "  Surrogate splits:\n",
      "      per_cap_exp_1960 < 7        to the left,  agree=0.917, adj=0.667, (0 split)\n",
      "      median_assets    < 5075     to the left,  agree=0.917, adj=0.667, (0 split)\n",
      "      per_cap_exp_1959 < 5.9      to the left,  agree=0.833, adj=0.333, (0 split)\n",
      "      laborforce_part  < 56.75    to the left,  agree=0.833, adj=0.333, (0 split)\n",
      "      percent_male     < 49.62215 to the left,  agree=0.833, adj=0.333, (0 split)\n",
      "\n",
      "Node number 5: 11 observations\n",
      "  mean=799.5455, MSE=16315.52 \n",
      "\n",
      "Node number 6: 10 observations,    complexity param=0.05538867\n",
      "  mean=886.9, MSE=55757.49 \n",
      "  left son=12 (6 obs) right son=13 (4 obs)\n",
      "  Primary splits:\n",
      "      percent_young_male < 13.05    to the left,  improve=0.6835412, (0 missing)\n",
      "      population         < 34.5     to the right, improve=0.4800125, (0 missing)\n",
      "      unemp_youth        < 8.55     to the left,  improve=0.4435949, (0 missing)\n",
      "      median_assets      < 5830     to the right, improve=0.2508664, (0 missing)\n",
      "      time_served        < 21.14965 to the left,  improve=0.2183925, (0 missing)\n",
      "  Surrogate splits:\n",
      "      median_assets    < 5655     to the right, agree=0.8, adj=0.50, (0 split)\n",
      "      low_income       < 17.25    to the left,  agree=0.8, adj=0.50, (0 split)\n",
      "      average_ed       < 11.95    to the left,  agree=0.7, adj=0.25, (0 split)\n",
      "      per_cap_exp_1960 < 9.6      to the right, agree=0.7, adj=0.25, (0 split)\n",
      "      laborforce_part  < 56.05    to the left,  agree=0.7, adj=0.25, (0 split)\n",
      "\n",
      "Node number 7: 14 observations,    complexity param=0.1654002\n",
      "  mean=1304.929, MSE=144801.8 \n",
      "  left son=14 (11 obs) right son=15 (3 obs)\n",
      "  Primary splits:\n",
      "      median_assets     < 6470     to the left,  improve=0.6199862, (0 missing)\n",
      "      average_ed        < 11.25    to the left,  improve=0.5922087, (0 missing)\n",
      "      prob_imprisonment < 4.1899   to the right, improve=0.4574277, (0 missing)\n",
      "      percent_male      < 49.73586 to the left,  improve=0.4382818, (0 missing)\n",
      "      per_cap_exp_1959  < 11.55    to the left,  improve=0.3676603, (0 missing)\n",
      "  Surrogate splits:\n",
      "      average_ed        < 11.7     to the left,  agree=0.929, adj=0.667, (0 split)\n",
      "      per_cap_exp_1959  < 11.55    to the left,  agree=0.929, adj=0.667, (0 split)\n",
      "      prob_imprisonment < 1.98005  to the right, agree=0.929, adj=0.667, (0 split)\n",
      "      per_cap_exp_1960  < 11.8     to the left,  agree=0.857, adj=0.333, (0 split)\n",
      "      laborforce_part   < 57.4     to the left,  agree=0.857, adj=0.333, (0 split)\n",
      "\n",
      "Node number 8: 9 observations\n",
      "  mean=484.1111, MSE=6535.654 \n",
      "\n",
      "Node number 9: 3 observations\n",
      "  mean=749.6667, MSE=8773.556 \n",
      "\n",
      "Node number 12: 6 observations\n",
      "  mean=727.5, MSE=18214.92 \n",
      "\n",
      "Node number 13: 4 observations\n",
      "  mean=1126, MSE=16790 \n",
      "\n",
      "Node number 14: 11 observations,    complexity param=0.05730143\n",
      "  mean=1148.455, MSE=64295.7 \n",
      "  left son=28 (4 obs) right son=29 (7 obs)\n",
      "  Primary splits:\n",
      "      prob_imprisonment < 4.10995  to the right, improve=0.5574910, (0 missing)\n",
      "      low_income        < 18.1     to the left,  improve=0.3556670, (0 missing)\n",
      "      median_assets     < 5870     to the right, improve=0.3556670, (0 missing)\n",
      "      laborforce_part   < 53.95    to the left,  improve=0.2822393, (0 missing)\n",
      "      unemp_adult       < 3.7      to the right, improve=0.2767233, (0 missing)\n",
      "  Surrogate splits:\n",
      "      laborforce_part < 52       to the left,  agree=0.818, adj=0.50, (0 split)\n",
      "      nonwhite        < 13.25    to the right, agree=0.818, adj=0.50, (0 split)\n",
      "      unemp_adult     < 3.7      to the right, agree=0.818, adj=0.50, (0 split)\n",
      "      time_served     < 22.64905 to the left,  agree=0.818, adj=0.50, (0 split)\n",
      "      southern_state  < 0.5      to the right, agree=0.727, adj=0.25, (0 split)\n",
      "\n",
      "Node number 15: 3 observations\n",
      "  mean=1878.667, MSE=21040.22 \n",
      "\n",
      "Node number 28: 4 observations\n",
      "  mean=898, MSE=7056.5 \n",
      "\n",
      "Node number 29: 7 observations\n",
      "  mean=1291.571, MSE=40677.1 \n",
      "\n"
     ]
    }
   ],
   "source": [
    "# Get a detailed summary of the model\n",
    "summary(crime_tree)"
   ]
  },
  {
   "cell_type": "markdown",
   "id": "56922e92-a624-4522-b518-82305eaabe8d",
   "metadata": {},
   "source": [
    "One of the interesting observations looking at the variable importance is that the model splits on per_cap_exp_1960 and doesn't include per_cap_exp_1959 despite it being listed as being more important. It also doesn't use prob_imprisonment, low_income, percent_young_male, or average_ed despite those variables having higher importance than some of the variables listed. I believe this is largely due to colinearity between those variables and the variables that were selected. Multicollinearity doesn't impact the prediction performance of the model. This is fairly intuitive but I found a good explanation of the why here: https://medium.com/@manepriyanka48/multicollinearity-in-tree-based-models-b971292db140. \"If two features are corelated, any one of the feature will be selected for splitting based on score. So if one out of two is selected, the 2nd one will not be selected for next level of tree building as the variance or impurity is already explained by the 1st feature.\"\n",
    "\n",
    "Next, I am going to plot the tree. I found multiple ways to do this including using the built in rpart.plot() function. I'm going to use two of the \"fancier\" options from the rpart.plot and rattle libraries to see which produces a nicer plot."
   ]
  },
  {
   "cell_type": "code",
   "execution_count": 7,
   "id": "d62be316-9bc4-47fe-8ee6-11a26b28ab59",
   "metadata": {
    "vscode": {
     "languageId": "r"
    }
   },
   "outputs": [
    {
     "data": {
      "image/png": "[encoded data removed]",
      "text/plain": [
       "plot without title"
      ]
     },
     "metadata": {},
     "output_type": "display_data"
    }
   ],
   "source": [
    "# Set the plot size\n",
    "options(repr.plot.width=7, repr.plot.height=5)\n",
    "\n",
    "# Plot the tree\n",
    "prp(crime_tree, type = 5, branch = 1, box.palette=c(\"green\", \"cyan\", \"red\"), split.cex = .75)"
   ]
  },
  {
   "cell_type": "code",
   "execution_count": 8,
   "id": "7c85e006-6cdc-420c-99e5-cb82b92d4413",
   "metadata": {
    "vscode": {
     "languageId": "r"
    }
   },
   "outputs": [
    {
     "data": {
      "image/png": "[encoded data removed]",
      "text/plain": [
       "Plot with title \"\""
      ]
     },
     "metadata": {},
     "output_type": "display_data"
    }
   ],
   "source": [
    "# Set the plot size\n",
    "options(repr.plot.width=8, repr.plot.height=6)\n",
    "\n",
    "# Create the plot\n",
    "fancyRpartPlot(crime_tree)"
   ]
  },
  {
   "cell_type": "markdown",
   "id": "aa851ad3-a8cd-4dad-91d8-6b5a142593d0",
   "metadata": {},
   "source": [
    "I'll hold off on any qualitative takeaways from the plots until the end of the document but they both worked well. prp() has a ton of different options to create the plot exactly as you want it but both get the job done.\n",
    "\n",
    "Lastly, I am going to look at the cptable element of the crime_tree generated by rpart. The cptable provides a brief summary of the overall fit of the model. The table is printed from the smallest tree (no splits) to the largest tree. The “CP” column lists the values of the complexity parameter, the number of splits is listed under \"nsplit\", and the column \"xerror\" contains cross-validated classification error rates; the standard deviation of the cross-validation error rates are in the \"xstd\" column."
   ]
  },
  {
   "cell_type": "code",
   "execution_count": 9,
   "id": "fb75cd6f-5461-4e0a-aca9-df7f323760d4",
   "metadata": {
    "vscode": {
     "languageId": "r"
    }
   },
   "outputs": [
    {
     "data": {
      "text/html": [
       "<table>\n",
       "<thead><tr><th scope=col>CP</th><th scope=col>nsplit</th><th scope=col>rel error</th><th scope=col>xerror</th><th scope=col>xstd</th></tr></thead>\n",
       "<tbody>\n",
       "\t<tr><td>0.36296293</td><td>0         </td><td>1.0000000 </td><td>1.062718  </td><td>0.2641620 </td></tr>\n",
       "\t<tr><td>0.16540024</td><td>1         </td><td>0.6370371 </td><td>1.131172  </td><td>0.2744131 </td></tr>\n",
       "\t<tr><td>0.05730143</td><td>3         </td><td>0.3062366 </td><td>1.292726  </td><td>0.3268601 </td></tr>\n",
       "\t<tr><td>0.05538867</td><td>4         </td><td>0.2489352 </td><td>1.152379  </td><td>0.3190650 </td></tr>\n",
       "\t<tr><td>0.05173165</td><td>5         </td><td>0.1935465 </td><td>1.178961  </td><td>0.3179641 </td></tr>\n",
       "\t<tr><td>0.02305931</td><td>6         </td><td>0.1418148 </td><td>1.172783  </td><td>0.3249076 </td></tr>\n",
       "\t<tr><td>0.01000000</td><td>7         </td><td>0.1187555 </td><td>1.146689  </td><td>0.3351339 </td></tr>\n",
       "</tbody>\n",
       "</table>\n"
      ],
      "text/latex": [
       "\\begin{tabular}{r|lllll}\n",
       " CP & nsplit & rel error & xerror & xstd\\\\\n",
       "\\hline\n",
       "\t 0.36296293 & 0          & 1.0000000  & 1.062718   & 0.2641620 \\\\\n",
       "\t 0.16540024 & 1          & 0.6370371  & 1.131172   & 0.2744131 \\\\\n",
       "\t 0.05730143 & 3          & 0.3062366  & 1.292726   & 0.3268601 \\\\\n",
       "\t 0.05538867 & 4          & 0.2489352  & 1.152379   & 0.3190650 \\\\\n",
       "\t 0.05173165 & 5          & 0.1935465  & 1.178961   & 0.3179641 \\\\\n",
       "\t 0.02305931 & 6          & 0.1418148  & 1.172783   & 0.3249076 \\\\\n",
       "\t 0.01000000 & 7          & 0.1187555  & 1.146689   & 0.3351339 \\\\\n",
       "\\end{tabular}\n"
      ],
      "text/markdown": [
       "\n",
       "| CP | nsplit | rel error | xerror | xstd |\n",
       "|---|---|---|---|---|\n",
       "| 0.36296293 | 0          | 1.0000000  | 1.062718   | 0.2641620  |\n",
       "| 0.16540024 | 1          | 0.6370371  | 1.131172   | 0.2744131  |\n",
       "| 0.05730143 | 3          | 0.3062366  | 1.292726   | 0.3268601  |\n",
       "| 0.05538867 | 4          | 0.2489352  | 1.152379   | 0.3190650  |\n",
       "| 0.05173165 | 5          | 0.1935465  | 1.178961   | 0.3179641  |\n",
       "| 0.02305931 | 6          | 0.1418148  | 1.172783   | 0.3249076  |\n",
       "| 0.01000000 | 7          | 0.1187555  | 1.146689   | 0.3351339  |\n",
       "\n"
      ],
      "text/plain": [
       "  CP         nsplit rel error xerror   xstd     \n",
       "1 0.36296293 0      1.0000000 1.062718 0.2641620\n",
       "2 0.16540024 1      0.6370371 1.131172 0.2744131\n",
       "3 0.05730143 3      0.3062366 1.292726 0.3268601\n",
       "4 0.05538867 4      0.2489352 1.152379 0.3190650\n",
       "5 0.05173165 5      0.1935465 1.178961 0.3179641\n",
       "6 0.02305931 6      0.1418148 1.172783 0.3249076\n",
       "7 0.01000000 7      0.1187555 1.146689 0.3351339"
      ]
     },
     "metadata": {},
     "output_type": "display_data"
    }
   ],
   "source": [
    "crime_tree$cptable"
   ]
  },
  {
   "cell_type": "markdown",
   "id": "b3c6e2f4-cbf9-4f8d-a871-96e90b1ac934",
   "metadata": {},
   "source": [
    "Normally, we select a tree size that minimizes the cross-validated error (xerror). That would actually mean pruning all of the branches and just being left with the root node... This is a pretty good indicator that the CART model isn't a good fit for this analysis."
   ]
  },
  {
   "cell_type": "markdown",
   "id": "d9ea4a0f-e350-4daf-8667-c3f65fa9a617",
   "metadata": {},
   "source": [
    "#### Step 4 - Prune the Tree\n",
    "Next I am going to prune the tree, since we used the entire set of data to train the model I can't calculate the estimation error to see if each branch increases error. Instead, I am going to prune the tree based on setting the cp threshold. To perform pruning, you normally choose a cp value that balances model complexity (number of splits) with predictive accuracy (xerror). The optimal cp value is typically chosen as the one associated with the smallest tree within one standard error of the minimum xerror, however this isn't possible since that value corresponds with the root node."
   ]
  },
  {
   "cell_type": "code",
   "execution_count": 10,
   "id": "ef9a7b23-081b-480c-89b0-d45f030355e1",
   "metadata": {
    "vscode": {
     "languageId": "r"
    }
   },
   "outputs": [
    {
     "data": {
      "image/png": "[encoded data removed]",
      "text/plain": [
       "Plot with title \"\""
      ]
     },
     "metadata": {},
     "output_type": "display_data"
    }
   ],
   "source": [
    "pruned_crime_tree <- prune(crime_tree, cp = 0.0525)\n",
    "fancyRpartPlot(pruned_crime_tree)"
   ]
  },
  {
   "cell_type": "markdown",
   "id": "1ddc643b-72d1-4810-ae77-659185b2d236",
   "metadata": {},
   "source": [
    "#### Step 5 - Interpret the Results\n",
    "Now that I have the final model I am going to spend some time analyzing it's overall performance. I want to look at how accurately it predicted the crime rates both graphically and using the R^2 value with and without cross-validation. I'll start by plotting the predicted values vs. the actual values."
   ]
  },
  {
   "cell_type": "code",
   "execution_count": 11,
   "id": "62a50c00-f199-411b-bb09-69aee59bab0a",
   "metadata": {
    "vscode": {
     "languageId": "r"
    }
   },
   "outputs": [
    {
     "data": {
      "image/png": "[encoded data removed]",
      "text/plain": [
       "plot without title"
      ]
     },
     "metadata": {},
     "output_type": "display_data"
    }
   ],
   "source": [
    "# Get predicted values from the model\n",
    "pred <- predict(pruned_crime_tree)\n",
    "\n",
    "# Plot the predicted values vs the actual values for crimes per million\n",
    "plot_data <- data.frame(Actual = crime_data$crimes_per_million, Predicted = pred)\n",
    "options(repr.plot.width=4, repr.plot.height=4)\n",
    "\n",
    "# Create a scatter plot\n",
    "ggplot(plot_data, aes(x = Actual, y = Predicted)) +\n",
    "    geom_point(color = \"blue\") +\n",
    "    geom_abline(intercept = 0, slope = 1, color = \"red\", linetype = \"dashed\") +  # Add a line of equality\n",
    "    labs(x = \"Actual Values\", y = \"Predicted Values\", title = \"Actual vs. Predicted Values\") +\n",
    "    xlim(0, 2000) +\n",
    "    ylim(0, 2000)"
   ]
  },
  {
   "cell_type": "markdown",
   "id": "d9a160d7-6b80-4cee-aaeb-365f5fe5f473",
   "metadata": {},
   "source": [
    "This graph shows how the different final values are distributed among the actual values. You can distinctly see the 6 different possible predicted values and the distribution of actual values they cover. Next I'll calculate the R-Squared value using the training data."
   ]
  },
  {
   "cell_type": "code",
   "execution_count": 12,
   "id": "14acecb5-acad-4f7c-825f-b1a778f03fcc",
   "metadata": {
    "vscode": {
     "languageId": "r"
    }
   },
   "outputs": [
    {
     "name": "stdout",
     "output_type": "stream",
     "text": [
      "R-Squared value for the training data: 0.806 \n",
      "RMSE value for the training data: 168.3322"
     ]
    }
   ],
   "source": [
    "# Calculate the R-Squared and RMSE value\n",
    "SSR <- sum((pred - crime_data$crimes_per_million)^2)\n",
    "SST <- sum((crime_data$crimes_per_million - mean(crime_data$crimes_per_million))^2)\n",
    "R2 <- 1 - SSR/SST\n",
    "\n",
    "RMSE <- sqrt((SSR)/nrow(crime_data))\n",
    "cat('R-Squared value for the training data:', round(R2,3), '\\n')\n",
    "cat('RMSE value for the training data:', RMSE)"
   ]
  },
  {
   "cell_type": "markdown",
   "id": "f7937470-61a7-4424-906f-9a9069a4676c",
   "metadata": {},
   "source": [
    "This shows a reasonable fit for the training dataset, I suspect it is overfitting so next I'll use cross validation to calculate the R-Squared value again."
   ]
  },
  {
   "cell_type": "code",
   "execution_count": 13,
   "id": "81888f91-b8ba-4d13-99db-ed37dc90cfa8",
   "metadata": {
    "vscode": {
     "languageId": "r"
    }
   },
   "outputs": [
    {
     "name": "stderr",
     "output_type": "stream",
     "text": [
      "Warning message in nominalTrainWorkflow(x = x, y = y, wts = weights, info = trainInfo, :\n",
      "\"There were missing values in resampled performance measures.\""
     ]
    },
    {
     "data": {
      "text/html": [
       "<table>\n",
       "<thead><tr><th scope=col>cp</th><th scope=col>RMSE</th><th scope=col>Rsquared</th><th scope=col>MAE</th><th scope=col>RMSESD</th><th scope=col>RsquaredSD</th><th scope=col>MAESD</th></tr></thead>\n",
       "<tbody>\n",
       "\t<tr><td>0.00000000</td><td>331.2935  </td><td>0.30233684</td><td>270.2860  </td><td>115.31931 </td><td>0.27902045</td><td>95.01692  </td></tr>\n",
       "\t<tr><td>0.04032921</td><td>331.0697  </td><td>0.30189365</td><td>273.3767  </td><td>115.02224 </td><td>0.27943322</td><td>99.56268  </td></tr>\n",
       "\t<tr><td>0.08065843</td><td>339.4182  </td><td>0.27995110</td><td>278.1480  </td><td>110.66839 </td><td>0.30112875</td><td>97.48590  </td></tr>\n",
       "\t<tr><td>0.12098764</td><td>347.2662  </td><td>0.21832683</td><td>282.2159  </td><td> 95.60076 </td><td>0.22825680</td><td>90.24611  </td></tr>\n",
       "\t<tr><td>0.16131686</td><td>344.5430  </td><td>0.22314361</td><td>273.8537  </td><td> 93.75588 </td><td>0.22508572</td><td>85.42627  </td></tr>\n",
       "\t<tr><td>0.20164607</td><td>344.5430  </td><td>0.22314361</td><td>273.8537  </td><td> 93.75588 </td><td>0.22508572</td><td>85.42627  </td></tr>\n",
       "\t<tr><td>0.24197529</td><td>344.5430  </td><td>0.22314361</td><td>273.8537  </td><td> 93.75588 </td><td>0.22508572</td><td>85.42627  </td></tr>\n",
       "\t<tr><td>0.28230450</td><td>344.5430  </td><td>0.22314361</td><td>273.8537  </td><td> 93.75588 </td><td>0.22508572</td><td>85.42627  </td></tr>\n",
       "\t<tr><td>0.32263372</td><td>366.6472  </td><td>0.13957395</td><td>290.9037  </td><td>111.38682 </td><td>0.14488680</td><td>92.09223  </td></tr>\n",
       "\t<tr><td>0.36296293</td><td>377.8427  </td><td>0.07093795</td><td>304.8309  </td><td> 92.17892 </td><td>0.05677036</td><td>69.12573  </td></tr>\n",
       "</tbody>\n",
       "</table>\n"
      ],
      "text/latex": [
       "\\begin{tabular}{r|lllllll}\n",
       " cp & RMSE & Rsquared & MAE & RMSESD & RsquaredSD & MAESD\\\\\n",
       "\\hline\n",
       "\t 0.00000000 & 331.2935   & 0.30233684 & 270.2860   & 115.31931  & 0.27902045 & 95.01692  \\\\\n",
       "\t 0.04032921 & 331.0697   & 0.30189365 & 273.3767   & 115.02224  & 0.27943322 & 99.56268  \\\\\n",
       "\t 0.08065843 & 339.4182   & 0.27995110 & 278.1480   & 110.66839  & 0.30112875 & 97.48590  \\\\\n",
       "\t 0.12098764 & 347.2662   & 0.21832683 & 282.2159   &  95.60076  & 0.22825680 & 90.24611  \\\\\n",
       "\t 0.16131686 & 344.5430   & 0.22314361 & 273.8537   &  93.75588  & 0.22508572 & 85.42627  \\\\\n",
       "\t 0.20164607 & 344.5430   & 0.22314361 & 273.8537   &  93.75588  & 0.22508572 & 85.42627  \\\\\n",
       "\t 0.24197529 & 344.5430   & 0.22314361 & 273.8537   &  93.75588  & 0.22508572 & 85.42627  \\\\\n",
       "\t 0.28230450 & 344.5430   & 0.22314361 & 273.8537   &  93.75588  & 0.22508572 & 85.42627  \\\\\n",
       "\t 0.32263372 & 366.6472   & 0.13957395 & 290.9037   & 111.38682  & 0.14488680 & 92.09223  \\\\\n",
       "\t 0.36296293 & 377.8427   & 0.07093795 & 304.8309   &  92.17892  & 0.05677036 & 69.12573  \\\\\n",
       "\\end{tabular}\n"
      ],
      "text/markdown": [
       "\n",
       "| cp | RMSE | Rsquared | MAE | RMSESD | RsquaredSD | MAESD |\n",
       "|---|---|---|---|---|---|---|\n",
       "| 0.00000000 | 331.2935   | 0.30233684 | 270.2860   | 115.31931  | 0.27902045 | 95.01692   |\n",
       "| 0.04032921 | 331.0697   | 0.30189365 | 273.3767   | 115.02224  | 0.27943322 | 99.56268   |\n",
       "| 0.08065843 | 339.4182   | 0.27995110 | 278.1480   | 110.66839  | 0.30112875 | 97.48590   |\n",
       "| 0.12098764 | 347.2662   | 0.21832683 | 282.2159   |  95.60076  | 0.22825680 | 90.24611   |\n",
       "| 0.16131686 | 344.5430   | 0.22314361 | 273.8537   |  93.75588  | 0.22508572 | 85.42627   |\n",
       "| 0.20164607 | 344.5430   | 0.22314361 | 273.8537   |  93.75588  | 0.22508572 | 85.42627   |\n",
       "| 0.24197529 | 344.5430   | 0.22314361 | 273.8537   |  93.75588  | 0.22508572 | 85.42627   |\n",
       "| 0.28230450 | 344.5430   | 0.22314361 | 273.8537   |  93.75588  | 0.22508572 | 85.42627   |\n",
       "| 0.32263372 | 366.6472   | 0.13957395 | 290.9037   | 111.38682  | 0.14488680 | 92.09223   |\n",
       "| 0.36296293 | 377.8427   | 0.07093795 | 304.8309   |  92.17892  | 0.05677036 | 69.12573   |\n",
       "\n"
      ],
      "text/plain": [
       "   cp         RMSE     Rsquared   MAE      RMSESD    RsquaredSD MAESD   \n",
       "1  0.00000000 331.2935 0.30233684 270.2860 115.31931 0.27902045 95.01692\n",
       "2  0.04032921 331.0697 0.30189365 273.3767 115.02224 0.27943322 99.56268\n",
       "3  0.08065843 339.4182 0.27995110 278.1480 110.66839 0.30112875 97.48590\n",
       "4  0.12098764 347.2662 0.21832683 282.2159  95.60076 0.22825680 90.24611\n",
       "5  0.16131686 344.5430 0.22314361 273.8537  93.75588 0.22508572 85.42627\n",
       "6  0.20164607 344.5430 0.22314361 273.8537  93.75588 0.22508572 85.42627\n",
       "7  0.24197529 344.5430 0.22314361 273.8537  93.75588 0.22508572 85.42627\n",
       "8  0.28230450 344.5430 0.22314361 273.8537  93.75588 0.22508572 85.42627\n",
       "9  0.32263372 366.6472 0.13957395 290.9037 111.38682 0.14488680 92.09223\n",
       "10 0.36296293 377.8427 0.07093795 304.8309  92.17892 0.05677036 69.12573"
      ]
     },
     "metadata": {},
     "output_type": "display_data"
    }
   ],
   "source": [
    "# 5-fold cross-validation\n",
    "# Set the parameters for the model\n",
    "ctrl <- trainControl(method = \"cv\", number = 5)\n",
    "rpart_params <- list(split = \"anova\", minsplit = 9)\n",
    "\n",
    "# Perform cross-validation\n",
    "cv_model <- train(crimes_per_million ~ ., data = crime_data, method = \"rpart\", trControl = ctrl, tuneLength = 10, parms = rpart_params)\n",
    "\n",
    "# Get R^2 and RMSE values\n",
    "cv_model$results"
   ]
  },
  {
   "cell_type": "markdown",
   "id": "ef54a43e-e37c-47cc-b613-14641652d7df",
   "metadata": {},
   "source": [
    "The first thing I noticed is the warning message that is provided. It indicates that there were missing values in the resampled performance measures during the cross-validation process. This warning typically occurs when one or more folds of the cross-validation procedure result in missing performance metrics. One possible reason would be if it created degenerate folds which happens when the data is small and one or more of the folds potentially has empty classes. With how small the dataset is this is definitely possible.\n",
    "\n",
    "My final model pruned to cp values at or above 0.0525 which lies between the second and third row in the table. Looking at the R-Squared value it is ~ 0.30 which is much lower than the R-Squared value calculated on the training data. Comparing the RMSE values it also shows much higher values in the cross-validated model vs. the model that only used training data. **This suggest significant overfitting.**"
   ]
  },
  {
   "cell_type": "markdown",
   "id": "c70d8614-0979-4e9d-a241-402e4beca4e7",
   "metadata": {},
   "source": [
    "### Random Forest Model\n",
    "\n",
    "Next I am going to create a Random Forest model using the randomForest package and then evaluate it's performance. I plan to follow the steps below:\n",
    "1) Create Model\n",
    "2) Analyze Model Performance\n",
    "3) Compare model to CART model from part A\n",
    "\n",
    "#### Step 1 - Create Model\n",
    "There are a lot of parameters that can be set for the random forest model which can be found here: https://www.rdocumentation.org/packages/randomForest/versions/4.7-1.1/topics/randomForest. I played around with several different parameters, specifically the mtry, nodesize, and maxnodes. The mtry parameter is the number of variables randomly sampled as candidates at each split which defaults to p/3 for regression. This would be 5 for our sample since we have 15 dependent variables. The nodesize determines the minimum size of terminal nodes which defaults to 5 for regression. The maxnodes paramater determines the maximum number of terminal nodes the trees in the forest can have."
   ]
  },
  {
   "cell_type": "code",
   "execution_count": 14,
   "id": "ddfcc0c9-fa9f-42e7-9ecc-e7a0d8f304fe",
   "metadata": {
    "vscode": {
     "languageId": "r"
    }
   },
   "outputs": [
    {
     "data": {
      "text/plain": [
       "\n",
       "Call:\n",
       " randomForest(formula = crimes_per_million ~ ., data = crime_data,      mtry = 3, nodesize = 3, maxnodes = 25, importance = TRUE) \n",
       "               Type of random forest: regression\n",
       "                     Number of trees: 500\n",
       "No. of variables tried at each split: 3\n",
       "\n",
       "          Mean of squared residuals: 83197.59\n",
       "                    % Var explained: 43.17"
      ]
     },
     "metadata": {},
     "output_type": "display_data"
    }
   ],
   "source": [
    "crime_rforest <- randomForest(crimes_per_million ~ ., data = crime_data, mtry = 3, nodesize = 3, maxnodes = 25, importance = TRUE)\n",
    "crime_rforest"
   ]
  },
  {
   "cell_type": "markdown",
   "id": "c6e60bf5-a3a7-4772-a659-1360a82930e8",
   "metadata": {},
   "source": [
    "#### Step 2 - Analyze the Model\n",
    "Looking at the result above the model is able to describe ~ 43% of the variance in the dependent variable which is the same thing as saying the R-Squared value is 0.4527. It also has a RMSE of ~288 (square root of Mean of squared residuals). Next I am going to plot the predicted values from the model vs. the actual values to visualize the models performance."
   ]
  },
  {
   "cell_type": "code",
   "execution_count": 15,
   "id": "82178e1f-0ac9-4c3f-bb80-63da1c164a77",
   "metadata": {
    "vscode": {
     "languageId": "r"
    }
   },
   "outputs": [
    {
     "data": {
      "image/png": "[encoded data removed]",
      "text/plain": [
       "plot without title"
      ]
     },
     "metadata": {},
     "output_type": "display_data"
    }
   ],
   "source": [
    "# Get predicted values from the model\n",
    "rf_pred <- predict(crime_rforest)\n",
    "\n",
    "# Create a dataframe of predicted and actual values to plot\n",
    "rf_plot_data <- data.frame(Actual = crime_data$crimes_per_million, Predicted = rf_pred)\n",
    "\n",
    "# Plot the predicted values vs the actual values for crimes per million\n",
    "ggplot(rf_plot_data, aes(x = Actual, y = Predicted)) +\n",
    "    geom_point(color = \"blue\") +\n",
    "    geom_abline(intercept = 0, slope = 1, color = \"red\", linetype = \"dashed\") +  # Add a line of equality\n",
    "    labs(x = \"Actual Values\", y = \"Predicted Values\", title = \"Actual vs. Predicted Values\") +\n",
    "    xlim(0, 2000) +\n",
    "    ylim(0, 2000)"
   ]
  },
  {
   "cell_type": "markdown",
   "id": "dd64786e-531f-427d-8b2b-509f3f41ae30",
   "metadata": {},
   "source": [
    "Next I am going to calculate the R-Squared and RMSE value manually, this is simply a check on the value output from the model above."
   ]
  },
  {
   "cell_type": "code",
   "execution_count": 16,
   "id": "2185cb26-efe9-4af3-b410-0abb555507be",
   "metadata": {
    "vscode": {
     "languageId": "r"
    }
   },
   "outputs": [
    {
     "name": "stdout",
     "output_type": "stream",
     "text": [
      "R-Squared value for the Random Forest model built with training data: 0.432 \n",
      "RMSE value for the Random Forest model built with training data: 288.4399"
     ]
    }
   ],
   "source": [
    "# Calculate the R-Squared value\n",
    "rf_SSR <- sum((rf_pred - crime_data$crimes_per_million)^2)\n",
    "rf_R2 <- 1 - rf_SSR/SST\n",
    "\n",
    "# Calculate the RMSE\n",
    "rf_RMSE <- sqrt((rf_SSR)/nrow(crime_data))\n",
    "\n",
    "cat('R-Squared value for the Random Forest model built with training data:', round(rf_R2,3), '\\n')\n",
    "cat('RMSE value for the Random Forest model built with training data:', rf_RMSE)"
   ]
  },
  {
   "cell_type": "markdown",
   "id": "c815401e-6c0e-443b-9ba7-974d576b657c",
   "metadata": {},
   "source": [
    "These values match the output from the model above, it's nice when things check out like that :)\n",
    "\n",
    "Next I will calculate the R-Squared and RMSE using cross-validation."
   ]
  },
  {
   "cell_type": "code",
   "execution_count": 17,
   "id": "42846fd6-eb18-4c82-a01e-46da585b1947",
   "metadata": {
    "vscode": {
     "languageId": "r"
    }
   },
   "outputs": [
    {
     "name": "stdout",
     "output_type": "stream",
     "text": [
      "Random Forest \n",
      "\n",
      "47 samples\n",
      "15 predictors\n",
      "\n",
      "No pre-processing\n",
      "Resampling: Cross-Validated (5 fold) \n",
      "Summary of sample sizes: 37, 37, 38, 38, 38 \n",
      "Resampling results across tuning parameters:\n",
      "\n",
      "  mtry  RMSE      Rsquared   MAE     \n",
      "   2    281.9872  0.4993885  213.7193\n",
      "   3    277.6091  0.4811486  208.7167\n",
      "   4    285.6385  0.4386798  213.7613\n",
      "   6    283.2740  0.4389022  209.4042\n",
      "   7    283.9091  0.4347107  209.4308\n",
      "   9    288.3659  0.4166768  211.2063\n",
      "  10    289.1673  0.4234507  213.7562\n",
      "  12    293.6504  0.4043417  215.6539\n",
      "  13    295.1157  0.4048620  215.7577\n",
      "  15    293.7088  0.4144728  214.6193\n",
      "\n",
      "RMSE was used to select the optimal model using the smallest value.\n",
      "The final value used for the model was mtry = 3.\n"
     ]
    }
   ],
   "source": [
    "# 5-fold cross-validation\n",
    "# Set the parameters for the model\n",
    "rf_ctrl <- trainControl(method = \"cv\", number = 5)\n",
    "rf_params <- list(nodesize = 3, maxnodes = 25)\n",
    "\n",
    "# Perform cross-validation\n",
    "rf_cv_model <- train(crimes_per_million ~ ., data = crime_data, method = \"rf\", tuneLength = 10, trControl = ctrl, parms = rf_params)\n",
    "\n",
    "# Print the model to view the results\n",
    "print(rf_cv_model)"
   ]
  },
  {
   "cell_type": "markdown",
   "id": "08bfbf8f-d867-4e72-b2db-5154d58f6674",
   "metadata": {},
   "source": [
    "These results are very suprising, when looking at the R-Squared values for mtry = 3 in the cross validated model it is actually larger than the model trained on the full training dataset. The RMSE is slightly lower as well. Looking into this I did find that it isn't totally uncommon. During cross-validation, the model is trained multiple times on different subsets of the data, which can help prevent overfitting by penalizing overly complex models. As a result, the cross-validated model may generalize better to unseen data, leading to higher performance metrics. The metrics above show that **the Random Forest did perform better than the CART model and has less of an issue with overfitting.**"
   ]
  }
 ],
 "metadata": {
  "kernelspec": {
   "display_name": "R",
   "language": "R",
   "name": "ir"
  },
  "language_info": {
   "codemirror_mode": "r",
   "file_extension": ".r",
   "mimetype": "text/x-r-source",
   "name": "R",
   "pygments_lexer": "r",
   "version": "3.6.1"
  }
 },
 "nbformat": 4,
 "nbformat_minor": 5
}
