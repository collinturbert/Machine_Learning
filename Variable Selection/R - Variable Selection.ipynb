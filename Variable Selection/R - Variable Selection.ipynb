{
 "cells": [
  {
   "cell_type": "markdown",
   "id": "5f235b27-80ce-43b2-bbec-9c8961bf86db",
   "metadata": {},
   "source": [
    "#### Variable Selection Techniques\n",
    "> The purpose of this notebook is to explore various variable selection techniques and how they impact building a regression model. I plan on implementing the following techniques and then comparing their results:\n",
    "> 1. Stepwise regression\n",
    "> 2. Lasso\n",
    "> 3. Elastic net"
   ]
  },
  {
   "cell_type": "markdown",
   "id": "5636d792-10f7-4b3e-9e7a-2c33dcd6999b",
   "metadata": {},
   "source": [
    "I am using the US crime dataset used in several of my other analysis so I won't spend time exploring the dataset again. To implement the various variable selection/regularization techniques I plan to use the following steps:\n",
    "1. Load required data and packages\n",
    "2. Build a base linear regression model\n",
    "3. Create new models using all three variable selection/regularization methods\n",
    "4. Compare all the models"
   ]
  },
  {
   "cell_type": "markdown",
   "id": "e0e1c45c-40e1-4b38-889c-6ea790a2097f",
   "metadata": {},
   "source": [
    "#### Step 1 - Load Data and Packages\n",
    "First I will load the crime data set and R packages needed for the analysis"
   ]
  },
  {
   "cell_type": "code",
   "execution_count": 2,
   "id": "e6c35753-2641-47ab-b100-ab57b1487285",
   "metadata": {
    "vscode": {
     "languageId": "r"
    }
   },
   "outputs": [],
   "source": [
    "# Clear environment\n",
    "rm(list = ls())\n",
    "\n",
    "# Set seed so output is reproducible\n",
    "set.seed(123)\n",
    "\n",
    "# Load libraries needed for analysis\n",
    "library(ggplot2) # for plots\n",
    "library(glmnet) # for Lasso and Elastic Net\n",
    "library(MASS)\n",
    "library(caret)"
   ]
  },
  {
   "cell_type": "code",
   "execution_count": 3,
   "id": "2180f4e8-4a25-48f1-80da-bdbe9002f266",
   "metadata": {
    "vscode": {
     "languageId": "r"
    }
   },
   "outputs": [
    {
     "data": {
      "text/html": [
       "<table>\n",
       "<thead><tr><th scope=col>M</th><th scope=col>So</th><th scope=col>Ed</th><th scope=col>Po1</th><th scope=col>Po2</th><th scope=col>LF</th><th scope=col>M.F</th><th scope=col>Pop</th><th scope=col>NW</th><th scope=col>U1</th><th scope=col>U2</th><th scope=col>Wealth</th><th scope=col>Ineq</th><th scope=col>Prob</th><th scope=col>Time</th><th scope=col>Crime</th></tr></thead>\n",
       "<tbody>\n",
       "\t<tr><td>15.1    </td><td>1       </td><td> 9.1    </td><td> 5.8    </td><td> 5.6    </td><td>0.510   </td><td> 95.0   </td><td> 33     </td><td>30.1    </td><td>0.108   </td><td>4.1     </td><td>3940    </td><td>26.1    </td><td>0.084602</td><td>26.2011 </td><td> 791    </td></tr>\n",
       "\t<tr><td>14.3    </td><td>0       </td><td>11.3    </td><td>10.3    </td><td> 9.5    </td><td>0.583   </td><td>101.2   </td><td> 13     </td><td>10.2    </td><td>0.096   </td><td>3.6     </td><td>5570    </td><td>19.4    </td><td>0.029599</td><td>25.2999 </td><td>1635    </td></tr>\n",
       "\t<tr><td>14.2    </td><td>1       </td><td> 8.9    </td><td> 4.5    </td><td> 4.4    </td><td>0.533   </td><td> 96.9   </td><td> 18     </td><td>21.9    </td><td>0.094   </td><td>3.3     </td><td>3180    </td><td>25.0    </td><td>0.083401</td><td>24.3006 </td><td> 578    </td></tr>\n",
       "\t<tr><td>13.6    </td><td>0       </td><td>12.1    </td><td>14.9    </td><td>14.1    </td><td>0.577   </td><td> 99.4   </td><td>157     </td><td> 8.0    </td><td>0.102   </td><td>3.9     </td><td>6730    </td><td>16.7    </td><td>0.015801</td><td>29.9012 </td><td>1969    </td></tr>\n",
       "\t<tr><td>14.1    </td><td>0       </td><td>12.1    </td><td>10.9    </td><td>10.1    </td><td>0.591   </td><td> 98.5   </td><td> 18     </td><td> 3.0    </td><td>0.091   </td><td>2.0     </td><td>5780    </td><td>17.4    </td><td>0.041399</td><td>21.2998 </td><td>1234    </td></tr>\n",
       "\t<tr><td>12.1    </td><td>0       </td><td>11.0    </td><td>11.8    </td><td>11.5    </td><td>0.547   </td><td> 96.4   </td><td> 25     </td><td> 4.4    </td><td>0.084   </td><td>2.9     </td><td>6890    </td><td>12.6    </td><td>0.034201</td><td>20.9995 </td><td> 682    </td></tr>\n",
       "</tbody>\n",
       "</table>\n"
      ],
      "text/latex": [
       "\\begin{tabular}{r|llllllllllllllll}\n",
       " M & So & Ed & Po1 & Po2 & LF & M.F & Pop & NW & U1 & U2 & Wealth & Ineq & Prob & Time & Crime\\\\\n",
       "\\hline\n",
       "\t 15.1     & 1        &  9.1     &  5.8     &  5.6     & 0.510    &  95.0    &  33      & 30.1     & 0.108    & 4.1      & 3940     & 26.1     & 0.084602 & 26.2011  &  791    \\\\\n",
       "\t 14.3     & 0        & 11.3     & 10.3     &  9.5     & 0.583    & 101.2    &  13      & 10.2     & 0.096    & 3.6      & 5570     & 19.4     & 0.029599 & 25.2999  & 1635    \\\\\n",
       "\t 14.2     & 1        &  8.9     &  4.5     &  4.4     & 0.533    &  96.9    &  18      & 21.9     & 0.094    & 3.3      & 3180     & 25.0     & 0.083401 & 24.3006  &  578    \\\\\n",
       "\t 13.6     & 0        & 12.1     & 14.9     & 14.1     & 0.577    &  99.4    & 157      &  8.0     & 0.102    & 3.9      & 6730     & 16.7     & 0.015801 & 29.9012  & 1969    \\\\\n",
       "\t 14.1     & 0        & 12.1     & 10.9     & 10.1     & 0.591    &  98.5    &  18      &  3.0     & 0.091    & 2.0      & 5780     & 17.4     & 0.041399 & 21.2998  & 1234    \\\\\n",
       "\t 12.1     & 0        & 11.0     & 11.8     & 11.5     & 0.547    &  96.4    &  25      &  4.4     & 0.084    & 2.9      & 6890     & 12.6     & 0.034201 & 20.9995  &  682    \\\\\n",
       "\\end{tabular}\n"
      ],
      "text/markdown": [
       "\n",
       "| M | So | Ed | Po1 | Po2 | LF | M.F | Pop | NW | U1 | U2 | Wealth | Ineq | Prob | Time | Crime |\n",
       "|---|---|---|---|---|---|---|---|---|---|---|---|---|---|---|---|\n",
       "| 15.1     | 1        |  9.1     |  5.8     |  5.6     | 0.510    |  95.0    |  33      | 30.1     | 0.108    | 4.1      | 3940     | 26.1     | 0.084602 | 26.2011  |  791     |\n",
       "| 14.3     | 0        | 11.3     | 10.3     |  9.5     | 0.583    | 101.2    |  13      | 10.2     | 0.096    | 3.6      | 5570     | 19.4     | 0.029599 | 25.2999  | 1635     |\n",
       "| 14.2     | 1        |  8.9     |  4.5     |  4.4     | 0.533    |  96.9    |  18      | 21.9     | 0.094    | 3.3      | 3180     | 25.0     | 0.083401 | 24.3006  |  578     |\n",
       "| 13.6     | 0        | 12.1     | 14.9     | 14.1     | 0.577    |  99.4    | 157      |  8.0     | 0.102    | 3.9      | 6730     | 16.7     | 0.015801 | 29.9012  | 1969     |\n",
       "| 14.1     | 0        | 12.1     | 10.9     | 10.1     | 0.591    |  98.5    |  18      |  3.0     | 0.091    | 2.0      | 5780     | 17.4     | 0.041399 | 21.2998  | 1234     |\n",
       "| 12.1     | 0        | 11.0     | 11.8     | 11.5     | 0.547    |  96.4    |  25      |  4.4     | 0.084    | 2.9      | 6890     | 12.6     | 0.034201 | 20.9995  |  682     |\n",
       "\n"
      ],
      "text/plain": [
       "  M    So Ed   Po1  Po2  LF    M.F   Pop NW   U1    U2  Wealth Ineq Prob    \n",
       "1 15.1 1   9.1  5.8  5.6 0.510  95.0  33 30.1 0.108 4.1 3940   26.1 0.084602\n",
       "2 14.3 0  11.3 10.3  9.5 0.583 101.2  13 10.2 0.096 3.6 5570   19.4 0.029599\n",
       "3 14.2 1   8.9  4.5  4.4 0.533  96.9  18 21.9 0.094 3.3 3180   25.0 0.083401\n",
       "4 13.6 0  12.1 14.9 14.1 0.577  99.4 157  8.0 0.102 3.9 6730   16.7 0.015801\n",
       "5 14.1 0  12.1 10.9 10.1 0.591  98.5  18  3.0 0.091 2.0 5780   17.4 0.041399\n",
       "6 12.1 0  11.0 11.8 11.5 0.547  96.4  25  4.4 0.084 2.9 6890   12.6 0.034201\n",
       "  Time    Crime\n",
       "1 26.2011  791 \n",
       "2 25.2999 1635 \n",
       "3 24.3006  578 \n",
       "4 29.9012 1969 \n",
       "5 21.2998 1234 \n",
       "6 20.9995  682 "
      ]
     },
     "metadata": {},
     "output_type": "display_data"
    }
   ],
   "source": [
    "# Load the data\n",
    "crime_data <- read.table(\"uscrime.txt\", header = TRUE)\n",
    "\n",
    "# Visually inspect the dataset to make sure everything loaded correctly\n",
    "head(crime_data)"
   ]
  },
  {
   "cell_type": "markdown",
   "id": "236adfe5-a63e-4b9e-b6f7-7d1bef020e43",
   "metadata": {},
   "source": [
    "It is important to use scaled data when performing Lasso and Elastic Net but found that the glmnet() function already standardizes the data so their is no need to do it manually: https://statisticaloddsandends.wordpress.com/2018/11/15/a-deep-dive-into-glmnet-standardize/"
   ]
  },
  {
   "cell_type": "markdown",
   "id": "28de8c53-13cd-42bd-abaa-85eb0dfbbec8",
   "metadata": {},
   "source": [
    "#### Step 2 - Create Base Model\n",
    "I want to create a linear regression model without reducing the variables or using a regularization method for comparison. I'll create the model using the lm() function in the stats package. By putting _{? lm()} into the cell it prints out the documentation for the function which I've started using as a quick way to get info on a new function."
   ]
  },
  {
   "cell_type": "code",
   "execution_count": 4,
   "id": "dd7d6419-4826-4fa3-b732-cf688f5768df",
   "metadata": {
    "vscode": {
     "languageId": "r"
    }
   },
   "outputs": [],
   "source": [
    "# Create Linear Regression Model and print out the results\n",
    "options(scipen = 4) # get's rid of scientific notation\n",
    "crime_base_model <- lm(Crime ~ ., data = crime_data)\n",
    "coefficients_base <- coef(crime_base_model)"
   ]
  },
  {
   "cell_type": "markdown",
   "id": "3e71d78d-3396-4c5b-a05f-3bb4e39b2f5c",
   "metadata": {},
   "source": [
    "I am going to hold off on evaluating the model until the end, next I'll use the three approaches to build new models for comparison."
   ]
  },
  {
   "cell_type": "markdown",
   "id": "0076f052-a42c-45fc-9d8f-4fe9402ee409",
   "metadata": {},
   "source": [
    "#### Step 3 - Build New Models Using Variable Reduction/Regularization Methods\n",
    "Next I will create new models using stepwise regression, Lasso, and Elastic Net techniques.\n",
    "\n",
    "\n",
    "##### Model 1 - Stepwise Regression\n",
    "Stepwise regression is a powerful technique used to build predictive models by iteratively adding or removing variables based on statistical criteria. There are several options for stepwise regression, I plan on performing stepwise regression using the step() function from the stats package. Documentation on the function can be found here: https://www.rdocumentation.org/packages/stats/versions/3.6.2/topics/step. You can set the direction of the selection process using the direction paramater. The uses the AIC value to remove factors but setting k = log(n) makes the function use BIC instead. This this is an exploratory exercise I plan on creating models using forward, backward, and both and a model that uses the BIC to determine factor removal. I put the trace parameter to 0 so the steps each model was taking won't be printed making for a very long homework but I did inspect each of them and will evaluate each of the models at the end."
   ]
  },
  {
   "cell_type": "code",
   "execution_count": 5,
   "id": "1bc3a407-2279-494b-92f6-d09173a0a084",
   "metadata": {
    "vscode": {
     "languageId": "r"
    }
   },
   "outputs": [],
   "source": [
    "# Create models using AIC value\n",
    "sr_both_model <- step(crime_base_model, direction = \"both\", trace = 0)\n",
    "sr_back_model <- step(crime_base_model, direction = \"backward\", trace = 0)\n",
    "sr_forward_model <- step(crime_base_model, direction = \"forward\", trace = 0)\n",
    "\n",
    "# Create models using BIC\n",
    "sr_bic_model <- step(crime_base_model, direction = \"both\", k = log(nrow(crime_data)), trace = 0)"
   ]
  },
  {
   "cell_type": "code",
   "execution_count": 6,
   "id": "93d2b6e0-ee40-405d-ae7a-fd6752e7ed3d",
   "metadata": {
    "vscode": {
     "languageId": "r"
    }
   },
   "outputs": [
    {
     "data": {
      "text/html": [
       "<table>\n",
       "<thead><tr><th scope=col>Predictor</th><th scope=col>Both</th><th scope=col>Backward</th><th scope=col>Forward</th><th scope=col>BIC</th><th scope=col>Base</th></tr></thead>\n",
       "<tbody>\n",
       "\t<tr><td>(Intercept)   </td><td>-6426.10102   </td><td>-6426.10102   </td><td>-5984.28760450</td><td>-5040.50498   </td><td>-5984.28760450</td></tr>\n",
       "\t<tr><td>M             </td><td>   93.32155   </td><td>   93.32155   </td><td>   87.83017324</td><td>  105.01957   </td><td>   87.83017324</td></tr>\n",
       "\t<tr><td>So            </td><td>         NA   </td><td>         NA   </td><td>   -3.80345030</td><td>         NA   </td><td>   -3.80345030</td></tr>\n",
       "\t<tr><td>Ed            </td><td>  180.12011   </td><td>  180.12011   </td><td>  188.32431475</td><td>  196.47120   </td><td>  188.32431475</td></tr>\n",
       "\t<tr><td>Po1           </td><td>  102.65316   </td><td>  102.65316   </td><td>  192.80433828</td><td>  115.02419   </td><td>  192.80433828</td></tr>\n",
       "\t<tr><td>Po2           </td><td>         NA   </td><td>         NA   </td><td> -109.42192538</td><td>         NA   </td><td> -109.42192538</td></tr>\n",
       "\t<tr><td>LF            </td><td>         NA   </td><td>         NA   </td><td> -663.82614508</td><td>         NA   </td><td> -663.82614508</td></tr>\n",
       "\t<tr><td>M.F           </td><td>   22.33975   </td><td>   22.33975   </td><td>   17.40685553</td><td>         NA   </td><td>   17.40685553</td></tr>\n",
       "\t<tr><td>Pop           </td><td>         NA   </td><td>         NA   </td><td>   -0.73300815</td><td>         NA   </td><td>   -0.73300815</td></tr>\n",
       "\t<tr><td>NW            </td><td>         NA   </td><td>         NA   </td><td>    4.20446100</td><td>         NA   </td><td>    4.20446100</td></tr>\n",
       "\t<tr><td>U1            </td><td>-6086.63315   </td><td>-6086.63315   </td><td>-5827.10272440</td><td>         NA   </td><td>-5827.10272440</td></tr>\n",
       "\t<tr><td>U2            </td><td>  187.34512   </td><td>  187.34512   </td><td>  167.79967222</td><td>   89.36604   </td><td>  167.79967222</td></tr>\n",
       "\t<tr><td>Wealth        </td><td>         NA   </td><td>         NA   </td><td>    0.09616624</td><td>         NA   </td><td>    0.09616624</td></tr>\n",
       "\t<tr><td>Ineq          </td><td>   61.33494   </td><td>   61.33494   </td><td>   70.67209945</td><td>   67.65322   </td><td>   70.67209945</td></tr>\n",
       "\t<tr><td>Prob          </td><td>-3796.03183   </td><td>-3796.03183   </td><td>-4855.26581548</td><td>-3801.83628   </td><td>-4855.26581548</td></tr>\n",
       "\t<tr><td>Time          </td><td>         NA   </td><td>         NA   </td><td>   -3.47901784</td><td>         NA   </td><td>   -3.47901784</td></tr>\n",
       "</tbody>\n",
       "</table>\n"
      ],
      "text/latex": [
       "\\begin{tabular}{r|llllll}\n",
       " Predictor & Both & Backward & Forward & BIC & Base\\\\\n",
       "\\hline\n",
       "\t (Intercept)    & -6426.10102    & -6426.10102    & -5984.28760450 & -5040.50498    & -5984.28760450\\\\\n",
       "\t M              &    93.32155    &    93.32155    &    87.83017324 &   105.01957    &    87.83017324\\\\\n",
       "\t So             &          NA    &          NA    &    -3.80345030 &          NA    &    -3.80345030\\\\\n",
       "\t Ed             &   180.12011    &   180.12011    &   188.32431475 &   196.47120    &   188.32431475\\\\\n",
       "\t Po1            &   102.65316    &   102.65316    &   192.80433828 &   115.02419    &   192.80433828\\\\\n",
       "\t Po2            &          NA    &          NA    &  -109.42192538 &          NA    &  -109.42192538\\\\\n",
       "\t LF             &          NA    &          NA    &  -663.82614508 &          NA    &  -663.82614508\\\\\n",
       "\t M.F            &    22.33975    &    22.33975    &    17.40685553 &          NA    &    17.40685553\\\\\n",
       "\t Pop            &          NA    &          NA    &    -0.73300815 &          NA    &    -0.73300815\\\\\n",
       "\t NW             &          NA    &          NA    &     4.20446100 &          NA    &     4.20446100\\\\\n",
       "\t U1             & -6086.63315    & -6086.63315    & -5827.10272440 &          NA    & -5827.10272440\\\\\n",
       "\t U2             &   187.34512    &   187.34512    &   167.79967222 &    89.36604    &   167.79967222\\\\\n",
       "\t Wealth         &          NA    &          NA    &     0.09616624 &          NA    &     0.09616624\\\\\n",
       "\t Ineq           &    61.33494    &    61.33494    &    70.67209945 &    67.65322    &    70.67209945\\\\\n",
       "\t Prob           & -3796.03183    & -3796.03183    & -4855.26581548 & -3801.83628    & -4855.26581548\\\\\n",
       "\t Time           &          NA    &          NA    &    -3.47901784 &          NA    &    -3.47901784\\\\\n",
       "\\end{tabular}\n"
      ],
      "text/markdown": [
       "\n",
       "| Predictor | Both | Backward | Forward | BIC | Base |\n",
       "|---|---|---|---|---|---|\n",
       "| (Intercept)    | -6426.10102    | -6426.10102    | -5984.28760450 | -5040.50498    | -5984.28760450 |\n",
       "| M              |    93.32155    |    93.32155    |    87.83017324 |   105.01957    |    87.83017324 |\n",
       "| So             |          NA    |          NA    |    -3.80345030 |          NA    |    -3.80345030 |\n",
       "| Ed             |   180.12011    |   180.12011    |   188.32431475 |   196.47120    |   188.32431475 |\n",
       "| Po1            |   102.65316    |   102.65316    |   192.80433828 |   115.02419    |   192.80433828 |\n",
       "| Po2            |          NA    |          NA    |  -109.42192538 |          NA    |  -109.42192538 |\n",
       "| LF             |          NA    |          NA    |  -663.82614508 |          NA    |  -663.82614508 |\n",
       "| M.F            |    22.33975    |    22.33975    |    17.40685553 |          NA    |    17.40685553 |\n",
       "| Pop            |          NA    |          NA    |    -0.73300815 |          NA    |    -0.73300815 |\n",
       "| NW             |          NA    |          NA    |     4.20446100 |          NA    |     4.20446100 |\n",
       "| U1             | -6086.63315    | -6086.63315    | -5827.10272440 |          NA    | -5827.10272440 |\n",
       "| U2             |   187.34512    |   187.34512    |   167.79967222 |    89.36604    |   167.79967222 |\n",
       "| Wealth         |          NA    |          NA    |     0.09616624 |          NA    |     0.09616624 |\n",
       "| Ineq           |    61.33494    |    61.33494    |    70.67209945 |    67.65322    |    70.67209945 |\n",
       "| Prob           | -3796.03183    | -3796.03183    | -4855.26581548 | -3801.83628    | -4855.26581548 |\n",
       "| Time           |          NA    |          NA    |    -3.47901784 |          NA    |    -3.47901784 |\n",
       "\n"
      ],
      "text/plain": [
       "   Predictor   Both        Backward    Forward        BIC        \n",
       "1  (Intercept) -6426.10102 -6426.10102 -5984.28760450 -5040.50498\n",
       "2  M              93.32155    93.32155    87.83017324   105.01957\n",
       "3  So                   NA          NA    -3.80345030          NA\n",
       "4  Ed            180.12011   180.12011   188.32431475   196.47120\n",
       "5  Po1           102.65316   102.65316   192.80433828   115.02419\n",
       "6  Po2                  NA          NA  -109.42192538          NA\n",
       "7  LF                   NA          NA  -663.82614508          NA\n",
       "8  M.F            22.33975    22.33975    17.40685553          NA\n",
       "9  Pop                  NA          NA    -0.73300815          NA\n",
       "10 NW                   NA          NA     4.20446100          NA\n",
       "11 U1          -6086.63315 -6086.63315 -5827.10272440          NA\n",
       "12 U2            187.34512   187.34512   167.79967222    89.36604\n",
       "13 Wealth               NA          NA     0.09616624          NA\n",
       "14 Ineq           61.33494    61.33494    70.67209945    67.65322\n",
       "15 Prob        -3796.03183 -3796.03183 -4855.26581548 -3801.83628\n",
       "16 Time                 NA          NA    -3.47901784          NA\n",
       "   Base          \n",
       "1  -5984.28760450\n",
       "2     87.83017324\n",
       "3     -3.80345030\n",
       "4    188.32431475\n",
       "5    192.80433828\n",
       "6   -109.42192538\n",
       "7   -663.82614508\n",
       "8     17.40685553\n",
       "9     -0.73300815\n",
       "10     4.20446100\n",
       "11 -5827.10272440\n",
       "12   167.79967222\n",
       "13     0.09616624\n",
       "14    70.67209945\n",
       "15 -4855.26581548\n",
       "16    -3.47901784"
      ]
     },
     "metadata": {},
     "output_type": "display_data"
    }
   ],
   "source": [
    "# Extract coefficients from each model\n",
    "coefficients_both <- coef(sr_both_model)\n",
    "coefficients_back <- coef(sr_back_model)\n",
    "coefficients_forward <- coef(sr_forward_model)\n",
    "coefficients_bic <- coef(sr_bic_model)\n",
    "\n",
    "# Create a data frame to store coefficients\n",
    "coefficients_df <- data.frame(\n",
    "  Predictor = c(\"(Intercept)\", colnames(crime_data)[1:15]),\n",
    "  Both = NA,\n",
    "  Backward = NA,\n",
    "  Forward = NA,\n",
    "  BIC = NA\n",
    ")\n",
    "\n",
    "# Fill in coefficients for each model\n",
    "coefficients_df$Base[coefficients_df$Predictor %in% names(coefficients_base)] <- coefficients_base\n",
    "coefficients_df$Both[coefficients_df$Predictor %in% names(coefficients_both)] <- coefficients_both\n",
    "coefficients_df$Backward[coefficients_df$Predictor %in% names(coefficients_back)] <- coefficients_back\n",
    "coefficients_df$Forward[coefficients_df$Predictor %in% names(coefficients_forward)] <- coefficients_forward\n",
    "coefficients_df$BIC[coefficients_df$Predictor %in% names(coefficients_bic)] <- coefficients_bic\n",
    "\n",
    "# Print the coefficients data frame\n",
    "coefficients_df"
   ]
  },
  {
   "cell_type": "markdown",
   "id": "64eefea6-8568-4fa1-b18a-afc315380df4",
   "metadata": {},
   "source": [
    "Strangly enough, the backward selection and both direction selection arrived at the same model and teh forward selection just recreated the base model."
   ]
  },
  {
   "cell_type": "markdown",
   "id": "80d03bfd-0e3b-45b0-b001-a7dd7adaaa11",
   "metadata": {},
   "source": [
    "##### Model 2 - Lasso\n",
    "Lasso (Least Absolute Shrinkage and Selection Operator) regression is a type of linear regression that incorporates regularization to improve the model's predictive accuracy and interpretability. It achieves this by penalizing the absolute size of the regression coefficients, encouraging some of them to be exactly zero. This property of forcing some coefficients to zero effectively performs variable selection and simplifies the model. I found the picture provided in the lecture helped in understanding the T parameter and how Lasso regression works:\n",
    "<div style=\"display: flex; flex-direction: row;\">\n",
    "    <img src=\"Lasso_Regression.png\" alt=\"Variable Reduction\" style=\"width: 50%;\">\n",
    "    <img src=\"Lasso_Regression2.png\" alt=\"Variable Regularization\" style=\"width: 50%;\">\n",
    "</div>"
   ]
  },
  {
   "cell_type": "markdown",
   "id": "9e8711ad-5b02-421f-a8ca-5c986a5a511b",
   "metadata": {},
   "source": [
    "Note that the image on the left is when Lasso performs variable selection which happens often vs the image on the right were it is performaning regularization. Lasso regression is based on the T value and reduces the coeffecients of the model until the equation below is met:\n",
    "\\\n",
    "$$ \\sum_{i=1}^{n} |a_j| \\leq t_{lasso} \n",
    "$$"
   ]
  },
  {
   "cell_type": "markdown",
   "id": "4c842bf6-92ad-4ee0-ab34-4918465a4a70",
   "metadata": {},
   "source": [
    "To perform lasso regression, we’ll use functions from the glmnet package. This package requires the response variable to be a vector and the set of predictor variables to be of the class data.matrix. I am going to use the glmnet() function to fit the lasso regression model with an alpha = 1. Alpha = 0 is equivalent to ridge regression and alpha values beteween 0 and 1 are equivalent to using an elastic net. To determine what value to use for lambda (T value), I am going to perform k-fold cross-validation and identify the T value that produces the lowest test mean squared error (MSE). The default for the cv.glmnet() function is k = 10 folds which I am going to change to the number of datapoints essentially running LOOCV. This provides consistent results and keeps me from having to average error curves. The documentation on cv.glmnet() states \"Note also that the results of cv.glmnet are random, since the folds are selected at random. Users can reduce this randomness by running cv.glmnet many times, and averaging the error curves.\" This is the case despite using the set.seed(123) above. I found this article helpful in creating the Lasso model: https://www.statology.org/lasso-regression-in-r/. Now on to creating the model!"
   ]
  },
  {
   "cell_type": "code",
   "execution_count": 17,
   "id": "feb25d6d-c68d-434f-a4bd-230d996586b4",
   "metadata": {
    "vscode": {
     "languageId": "r"
    }
   },
   "outputs": [
    {
     "name": "stdout",
     "output_type": "stream",
     "text": [
      "The best lambda value is: 13.40244"
     ]
    }
   ],
   "source": [
    "# define the response variable\n",
    "y <- crime_data$Crime\n",
    "\n",
    "# define the matrix of predictor variables\n",
    "x <- data.matrix(crime_data[, -16])\n",
    "\n",
    "lasso_model <- cv.glmnet(x, y, alpha = 1, nfolds = nrow(crime_data), type.measure = \"mse\", family = \"gaussian\", grouped = FALSE)\n",
    "lasso_lambda <- lasso_model$lambda.min\n",
    "cat('The best lambda value is:', lasso_lambda)"
   ]
  },
  {
   "cell_type": "markdown",
   "id": "db7c0a78-d2d4-4af7-b7e1-b31fa2439cca",
   "metadata": {},
   "source": [
    "Now that the model is built I will add the coefficients to the coefficient table for the model that corresponds the best lambda value"
   ]
  },
  {
   "cell_type": "code",
   "execution_count": 19,
   "id": "3f1cc61a-7772-45db-bfa3-7c8d57584e1d",
   "metadata": {
    "vscode": {
     "languageId": "r"
    }
   },
   "outputs": [
    {
     "data": {
      "text/html": [
       "<table>\n",
       "<thead><tr><th scope=col>Predictor</th><th scope=col>Both</th><th scope=col>Backward</th><th scope=col>Forward</th><th scope=col>BIC</th><th scope=col>Base</th><th scope=col>Lasso</th><th scope=col>Elastic_Net</th></tr></thead>\n",
       "<tbody>\n",
       "\t<tr><td>(Intercept)   </td><td>-6426.10102   </td><td>-6426.10102   </td><td>-5984.28760450</td><td>-5040.50498   </td><td>-5984.28760450</td><td>-4315.174518  </td><td>-5616.39996696</td></tr>\n",
       "\t<tr><td>M             </td><td>   93.32155   </td><td>   93.32155   </td><td>   87.83017324</td><td>  105.01957   </td><td>   87.83017324</td><td>   64.106051  </td><td>   76.75696101</td></tr>\n",
       "\t<tr><td>So            </td><td>         NA   </td><td>         NA   </td><td>   -3.80345030</td><td>         NA   </td><td>   -3.80345030</td><td>   49.606315  </td><td>   42.34154807</td></tr>\n",
       "\t<tr><td>Ed            </td><td>  180.12011   </td><td>  180.12011   </td><td>  188.32431475</td><td>  196.47120   </td><td>  188.32431475</td><td>   95.353431  </td><td>  140.58405032</td></tr>\n",
       "\t<tr><td>Po1           </td><td>  102.65316   </td><td>  102.65316   </td><td>  192.80433828</td><td>  115.02419   </td><td>  192.80433828</td><td>  104.941252  </td><td>   96.91562486</td></tr>\n",
       "\t<tr><td>Po2           </td><td>         NA   </td><td>         NA   </td><td> -109.42192538</td><td>         NA   </td><td> -109.42192538</td><td>          NA  </td><td>            NA</td></tr>\n",
       "\t<tr><td>LF            </td><td>         NA   </td><td>         NA   </td><td> -663.82614508</td><td>         NA   </td><td> -663.82614508</td><td>   90.100979  </td><td>            NA</td></tr>\n",
       "\t<tr><td>M.F           </td><td>   22.33975   </td><td>   22.33975   </td><td>   17.40685553</td><td>         NA   </td><td>   17.40685553</td><td>   16.037973  </td><td>   19.99801832</td></tr>\n",
       "\t<tr><td>Pop           </td><td>         NA   </td><td>         NA   </td><td>   -0.73300815</td><td>         NA   </td><td>   -0.73300815</td><td>          NA  </td><td>   -0.19470688</td></tr>\n",
       "\t<tr><td>NW            </td><td>         NA   </td><td>         NA   </td><td>    4.20446100</td><td>         NA   </td><td>    4.20446100</td><td>    0.239049  </td><td>    1.61233419</td></tr>\n",
       "\t<tr><td>U1            </td><td>-6086.63315   </td><td>-6086.63315   </td><td>-5827.10272440</td><td>         NA   </td><td>-5827.10272440</td><td> -230.894946  </td><td>-3414.25908421</td></tr>\n",
       "\t<tr><td>U2            </td><td>  187.34512   </td><td>  187.34512   </td><td>  167.79967222</td><td>   89.36604   </td><td>  167.79967222</td><td>   42.789862  </td><td>  119.56039918</td></tr>\n",
       "\t<tr><td>Wealth        </td><td>         NA   </td><td>         NA   </td><td>    0.09616624</td><td>         NA   </td><td>    0.09616624</td><td>          NA  </td><td>    0.03949707</td></tr>\n",
       "\t<tr><td>Ineq          </td><td>   61.33494   </td><td>   61.33494   </td><td>   70.67209945</td><td>   67.65322   </td><td>   70.67209945</td><td>   42.588734  </td><td>   54.36471809</td></tr>\n",
       "\t<tr><td>Prob          </td><td>-3796.03183   </td><td>-3796.03183   </td><td>-4855.26581548</td><td>-3801.83628   </td><td>-4855.26581548</td><td>-3469.699253  </td><td>-3885.66443509</td></tr>\n",
       "\t<tr><td>Time          </td><td>         NA   </td><td>         NA   </td><td>   -3.47901784</td><td>         NA   </td><td>   -3.47901784</td><td>          NA  </td><td>            NA</td></tr>\n",
       "</tbody>\n",
       "</table>\n"
      ],
      "text/latex": [
       "\\begin{tabular}{r|llllllll}\n",
       " Predictor & Both & Backward & Forward & BIC & Base & Lasso & Elastic\\_Net\\\\\n",
       "\\hline\n",
       "\t (Intercept)    & -6426.10102    & -6426.10102    & -5984.28760450 & -5040.50498    & -5984.28760450 & -4315.174518   & -5616.39996696\\\\\n",
       "\t M              &    93.32155    &    93.32155    &    87.83017324 &   105.01957    &    87.83017324 &    64.106051   &    76.75696101\\\\\n",
       "\t So             &          NA    &          NA    &    -3.80345030 &          NA    &    -3.80345030 &    49.606315   &    42.34154807\\\\\n",
       "\t Ed             &   180.12011    &   180.12011    &   188.32431475 &   196.47120    &   188.32431475 &    95.353431   &   140.58405032\\\\\n",
       "\t Po1            &   102.65316    &   102.65316    &   192.80433828 &   115.02419    &   192.80433828 &   104.941252   &    96.91562486\\\\\n",
       "\t Po2            &          NA    &          NA    &  -109.42192538 &          NA    &  -109.42192538 &           NA   &             NA\\\\\n",
       "\t LF             &          NA    &          NA    &  -663.82614508 &          NA    &  -663.82614508 &    90.100979   &             NA\\\\\n",
       "\t M.F            &    22.33975    &    22.33975    &    17.40685553 &          NA    &    17.40685553 &    16.037973   &    19.99801832\\\\\n",
       "\t Pop            &          NA    &          NA    &    -0.73300815 &          NA    &    -0.73300815 &           NA   &    -0.19470688\\\\\n",
       "\t NW             &          NA    &          NA    &     4.20446100 &          NA    &     4.20446100 &     0.239049   &     1.61233419\\\\\n",
       "\t U1             & -6086.63315    & -6086.63315    & -5827.10272440 &          NA    & -5827.10272440 &  -230.894946   & -3414.25908421\\\\\n",
       "\t U2             &   187.34512    &   187.34512    &   167.79967222 &    89.36604    &   167.79967222 &    42.789862   &   119.56039918\\\\\n",
       "\t Wealth         &          NA    &          NA    &     0.09616624 &          NA    &     0.09616624 &           NA   &     0.03949707\\\\\n",
       "\t Ineq           &    61.33494    &    61.33494    &    70.67209945 &    67.65322    &    70.67209945 &    42.588734   &    54.36471809\\\\\n",
       "\t Prob           & -3796.03183    & -3796.03183    & -4855.26581548 & -3801.83628    & -4855.26581548 & -3469.699253   & -3885.66443509\\\\\n",
       "\t Time           &          NA    &          NA    &    -3.47901784 &          NA    &    -3.47901784 &           NA   &             NA\\\\\n",
       "\\end{tabular}\n"
      ],
      "text/markdown": [
       "\n",
       "| Predictor | Both | Backward | Forward | BIC | Base | Lasso | Elastic_Net |\n",
       "|---|---|---|---|---|---|---|---|\n",
       "| (Intercept)    | -6426.10102    | -6426.10102    | -5984.28760450 | -5040.50498    | -5984.28760450 | -4315.174518   | -5616.39996696 |\n",
       "| M              |    93.32155    |    93.32155    |    87.83017324 |   105.01957    |    87.83017324 |    64.106051   |    76.75696101 |\n",
       "| So             |          NA    |          NA    |    -3.80345030 |          NA    |    -3.80345030 |    49.606315   |    42.34154807 |\n",
       "| Ed             |   180.12011    |   180.12011    |   188.32431475 |   196.47120    |   188.32431475 |    95.353431   |   140.58405032 |\n",
       "| Po1            |   102.65316    |   102.65316    |   192.80433828 |   115.02419    |   192.80433828 |   104.941252   |    96.91562486 |\n",
       "| Po2            |          NA    |          NA    |  -109.42192538 |          NA    |  -109.42192538 |           NA   |             NA |\n",
       "| LF             |          NA    |          NA    |  -663.82614508 |          NA    |  -663.82614508 |    90.100979   |             NA |\n",
       "| M.F            |    22.33975    |    22.33975    |    17.40685553 |          NA    |    17.40685553 |    16.037973   |    19.99801832 |\n",
       "| Pop            |          NA    |          NA    |    -0.73300815 |          NA    |    -0.73300815 |           NA   |    -0.19470688 |\n",
       "| NW             |          NA    |          NA    |     4.20446100 |          NA    |     4.20446100 |     0.239049   |     1.61233419 |\n",
       "| U1             | -6086.63315    | -6086.63315    | -5827.10272440 |          NA    | -5827.10272440 |  -230.894946   | -3414.25908421 |\n",
       "| U2             |   187.34512    |   187.34512    |   167.79967222 |    89.36604    |   167.79967222 |    42.789862   |   119.56039918 |\n",
       "| Wealth         |          NA    |          NA    |     0.09616624 |          NA    |     0.09616624 |           NA   |     0.03949707 |\n",
       "| Ineq           |    61.33494    |    61.33494    |    70.67209945 |    67.65322    |    70.67209945 |    42.588734   |    54.36471809 |\n",
       "| Prob           | -3796.03183    | -3796.03183    | -4855.26581548 | -3801.83628    | -4855.26581548 | -3469.699253   | -3885.66443509 |\n",
       "| Time           |          NA    |          NA    |    -3.47901784 |          NA    |    -3.47901784 |           NA   |             NA |\n",
       "\n"
      ],
      "text/plain": [
       "   Predictor   Both        Backward    Forward        BIC        \n",
       "1  (Intercept) -6426.10102 -6426.10102 -5984.28760450 -5040.50498\n",
       "2  M              93.32155    93.32155    87.83017324   105.01957\n",
       "3  So                   NA          NA    -3.80345030          NA\n",
       "4  Ed            180.12011   180.12011   188.32431475   196.47120\n",
       "5  Po1           102.65316   102.65316   192.80433828   115.02419\n",
       "6  Po2                  NA          NA  -109.42192538          NA\n",
       "7  LF                   NA          NA  -663.82614508          NA\n",
       "8  M.F            22.33975    22.33975    17.40685553          NA\n",
       "9  Pop                  NA          NA    -0.73300815          NA\n",
       "10 NW                   NA          NA     4.20446100          NA\n",
       "11 U1          -6086.63315 -6086.63315 -5827.10272440          NA\n",
       "12 U2            187.34512   187.34512   167.79967222    89.36604\n",
       "13 Wealth               NA          NA     0.09616624          NA\n",
       "14 Ineq           61.33494    61.33494    70.67209945    67.65322\n",
       "15 Prob        -3796.03183 -3796.03183 -4855.26581548 -3801.83628\n",
       "16 Time                 NA          NA    -3.47901784          NA\n",
       "   Base           Lasso        Elastic_Net   \n",
       "1  -5984.28760450 -4315.174518 -5616.39996696\n",
       "2     87.83017324    64.106051    76.75696101\n",
       "3     -3.80345030    49.606315    42.34154807\n",
       "4    188.32431475    95.353431   140.58405032\n",
       "5    192.80433828   104.941252    96.91562486\n",
       "6   -109.42192538           NA             NA\n",
       "7   -663.82614508    90.100979             NA\n",
       "8     17.40685553    16.037973    19.99801832\n",
       "9     -0.73300815           NA    -0.19470688\n",
       "10     4.20446100     0.239049     1.61233419\n",
       "11 -5827.10272440  -230.894946 -3414.25908421\n",
       "12   167.79967222    42.789862   119.56039918\n",
       "13     0.09616624           NA     0.03949707\n",
       "14    70.67209945    42.588734    54.36471809\n",
       "15 -4855.26581548 -3469.699253 -3885.66443509\n",
       "16    -3.47901784           NA             NA"
      ]
     },
     "metadata": {},
     "output_type": "display_data"
    }
   ],
   "source": [
    "# Next I'll add the coefficients from the Lasso model to the dataframe\n",
    "lasso_coef <- coef(lasso_model, s = lasso_lambda)\n",
    "coefficients_df$Lasso <- lasso_coef[, 1]\n",
    "coefficients_df <- replace(coefficients_df, coefficients_df == 0, NA)\n",
    "coefficients_df"
   ]
  },
  {
   "cell_type": "markdown",
   "id": "d086c071-74e2-4d84-a9e5-6d8c1d70bdef",
   "metadata": {},
   "source": [
    "##### Model 3 - Elastic Net\n",
    "Elastic Net is a regularization technique that combines the penalties of both Lasso (L1 regularization) and Ridge (L2 regularization) regression. It is used to overcome some of the limitations of Lasso and Ridge regression when dealing with high-dimensional data and multicollinearity. Part of creating the Elastic Net model is determining what the alpha parameter so I am going to loop through various alpha paramater values and compare r-squared values for each model."
   ]
  },
  {
   "cell_type": "code",
   "execution_count": 20,
   "id": "bdfd9851-2098-4ef2-8b08-76e7aadc7195",
   "metadata": {
    "vscode": {
     "languageId": "r"
    }
   },
   "outputs": [
    {
     "data": {
      "image/png": "[encoded data removed]",
      "text/plain": [
       "plot without title"
      ]
     },
     "metadata": {},
     "output_type": "display_data"
    }
   ],
   "source": [
    "# Create an empty data frame to store results\n",
    "elastic_r2 <- data.frame(Alpha = numeric(0), R_Squared = numeric(0))\n",
    "\n",
    "for (i in 0:20) {\n",
    "  alpha <- i / 20  # Calculate alpha value\n",
    "  \n",
    "  # Fit model using leave-one-out cross validation\n",
    "  model <- cv.glmnet(x, y, type.measure = \"mse\", alpha = alpha, family = \"gaussian\", nfold = nrow(x), grouped = FALSE)\n",
    "  \n",
    "  # Get R-Squared for best lambda\n",
    "  r_squared <- model$glmnet.fit$dev.ratio[(model$glmnet.fit$lambda == model$lambda.min)]\n",
    "  \n",
    "  # Add row to the data frame\n",
    "  elastic_r2 <- rbind(elastic_r2, data.frame(Alpha = alpha, R_Squared = r_squared))\n",
    "}\n",
    "\n",
    "\n",
    "# Plot the results\n",
    "options(repr.plot.width=4, repr.plot.height=3)\n",
    "\n",
    "# Create a scatter plot\n",
    "ggplot(elastic_r2, aes(x = Alpha, y = R_Squared)) +\n",
    "    geom_point(color = \"blue\") +\n",
    "    geom_line(color = \"red\") +\n",
    "    labs(x = \"Alpha Value\", y = \"R-Squared\", title = \"Alpha vs. R-Squared\") +\n",
    "    theme_minimal()"
   ]
  },
  {
   "cell_type": "code",
   "execution_count": 21,
   "id": "7a9aeb2c-08e4-4a67-93a1-e711ffd6cb4f",
   "metadata": {
    "vscode": {
     "languageId": "r"
    }
   },
   "outputs": [
    {
     "data": {
      "text/html": [
       "<table>\n",
       "<thead><tr><th></th><th scope=col>Alpha</th><th scope=col>R_Squared</th></tr></thead>\n",
       "<tbody>\n",
       "\t<tr><th scope=row>13</th><td>0.6      </td><td>0.7870555</td></tr>\n",
       "</tbody>\n",
       "</table>\n"
      ],
      "text/latex": [
       "\\begin{tabular}{r|ll}\n",
       "  & Alpha & R\\_Squared\\\\\n",
       "\\hline\n",
       "\t13 & 0.6       & 0.7870555\\\\\n",
       "\\end{tabular}\n"
      ],
      "text/markdown": [
       "\n",
       "| <!--/--> | Alpha | R_Squared |\n",
       "|---|---|---|\n",
       "| 13 | 0.6       | 0.7870555 |\n",
       "\n"
      ],
      "text/plain": [
       "   Alpha R_Squared\n",
       "13 0.6   0.7870555"
      ]
     },
     "metadata": {},
     "output_type": "display_data"
    }
   ],
   "source": [
    "# Print the alpha value that resulted in the best R_Squared value\n",
    "max_index <- which.max(elastic_r2[,2])\n",
    "en_alpha <- elastic_r2[max_index, 1]\n",
    "elastic_r2[max_index,]"
   ]
  },
  {
   "cell_type": "markdown",
   "id": "fea7a2b6-66ca-40d7-b71a-5216355164c6",
   "metadata": {},
   "source": [
    "An alpha value of 0.6 provides the best R-Squared value so I am going to recreate the model using that value below and save the coefficients from the model to the coefficients table."
   ]
  },
  {
   "cell_type": "code",
   "execution_count": 22,
   "id": "3b9853ed-c6e5-4eda-9b45-b7db2815ee65",
   "metadata": {
    "vscode": {
     "languageId": "r"
    }
   },
   "outputs": [
    {
     "name": "stdout",
     "output_type": "stream",
     "text": [
      "The best lambda value is: 8.027647"
     ]
    }
   ],
   "source": [
    "# Create new Elastic Net model using the best Alpha value found above\n",
    "elastic_net_model = cv.glmnet(x, y, type.measure = \"mse\", alpha = en_alpha, family = \"gaussian\", nfold = nrow(x), grouped = FALSE)\n",
    "\n",
    "# Print out the best lambda value\n",
    "en_lambda <- elastic_net_model$lambda.min\n",
    "cat('The best lambda value is:', en_lambda)"
   ]
  },
  {
   "cell_type": "code",
   "execution_count": 23,
   "id": "aeda7c71-66f8-4ea0-8c68-c39ae0bcc29a",
   "metadata": {
    "vscode": {
     "languageId": "r"
    }
   },
   "outputs": [
    {
     "data": {
      "text/html": [
       "<table>\n",
       "<thead><tr><th scope=col>Predictor</th><th scope=col>Both</th><th scope=col>Backward</th><th scope=col>Forward</th><th scope=col>BIC</th><th scope=col>Base</th><th scope=col>Lasso</th><th scope=col>Elastic_Net</th></tr></thead>\n",
       "<tbody>\n",
       "\t<tr><td>(Intercept)   </td><td>-6426.10102   </td><td>-6426.10102   </td><td>-5984.28760450</td><td>-5040.50498   </td><td>-5984.28760450</td><td>-4315.174518  </td><td>-5616.39996696</td></tr>\n",
       "\t<tr><td>M             </td><td>   93.32155   </td><td>   93.32155   </td><td>   87.83017324</td><td>  105.01957   </td><td>   87.83017324</td><td>   64.106051  </td><td>   76.75696101</td></tr>\n",
       "\t<tr><td>So            </td><td>         NA   </td><td>         NA   </td><td>   -3.80345030</td><td>         NA   </td><td>   -3.80345030</td><td>   49.606315  </td><td>   42.34154807</td></tr>\n",
       "\t<tr><td>Ed            </td><td>  180.12011   </td><td>  180.12011   </td><td>  188.32431475</td><td>  196.47120   </td><td>  188.32431475</td><td>   95.353431  </td><td>  140.58405032</td></tr>\n",
       "\t<tr><td>Po1           </td><td>  102.65316   </td><td>  102.65316   </td><td>  192.80433828</td><td>  115.02419   </td><td>  192.80433828</td><td>  104.941252  </td><td>   96.91562486</td></tr>\n",
       "\t<tr><td>Po2           </td><td>         NA   </td><td>         NA   </td><td> -109.42192538</td><td>         NA   </td><td> -109.42192538</td><td>          NA  </td><td>            NA</td></tr>\n",
       "\t<tr><td>LF            </td><td>         NA   </td><td>         NA   </td><td> -663.82614508</td><td>         NA   </td><td> -663.82614508</td><td>   90.100979  </td><td>            NA</td></tr>\n",
       "\t<tr><td>M.F           </td><td>   22.33975   </td><td>   22.33975   </td><td>   17.40685553</td><td>         NA   </td><td>   17.40685553</td><td>   16.037973  </td><td>   19.99801832</td></tr>\n",
       "\t<tr><td>Pop           </td><td>         NA   </td><td>         NA   </td><td>   -0.73300815</td><td>         NA   </td><td>   -0.73300815</td><td>          NA  </td><td>   -0.19470688</td></tr>\n",
       "\t<tr><td>NW            </td><td>         NA   </td><td>         NA   </td><td>    4.20446100</td><td>         NA   </td><td>    4.20446100</td><td>    0.239049  </td><td>    1.61233419</td></tr>\n",
       "\t<tr><td>U1            </td><td>-6086.63315   </td><td>-6086.63315   </td><td>-5827.10272440</td><td>         NA   </td><td>-5827.10272440</td><td> -230.894946  </td><td>-3414.25908421</td></tr>\n",
       "\t<tr><td>U2            </td><td>  187.34512   </td><td>  187.34512   </td><td>  167.79967222</td><td>   89.36604   </td><td>  167.79967222</td><td>   42.789862  </td><td>  119.56039918</td></tr>\n",
       "\t<tr><td>Wealth        </td><td>         NA   </td><td>         NA   </td><td>    0.09616624</td><td>         NA   </td><td>    0.09616624</td><td>          NA  </td><td>    0.03949707</td></tr>\n",
       "\t<tr><td>Ineq          </td><td>   61.33494   </td><td>   61.33494   </td><td>   70.67209945</td><td>   67.65322   </td><td>   70.67209945</td><td>   42.588734  </td><td>   54.36471809</td></tr>\n",
       "\t<tr><td>Prob          </td><td>-3796.03183   </td><td>-3796.03183   </td><td>-4855.26581548</td><td>-3801.83628   </td><td>-4855.26581548</td><td>-3469.699253  </td><td>-3885.66443509</td></tr>\n",
       "\t<tr><td>Time          </td><td>         NA   </td><td>         NA   </td><td>   -3.47901784</td><td>         NA   </td><td>   -3.47901784</td><td>          NA  </td><td>            NA</td></tr>\n",
       "</tbody>\n",
       "</table>\n"
      ],
      "text/latex": [
       "\\begin{tabular}{r|llllllll}\n",
       " Predictor & Both & Backward & Forward & BIC & Base & Lasso & Elastic\\_Net\\\\\n",
       "\\hline\n",
       "\t (Intercept)    & -6426.10102    & -6426.10102    & -5984.28760450 & -5040.50498    & -5984.28760450 & -4315.174518   & -5616.39996696\\\\\n",
       "\t M              &    93.32155    &    93.32155    &    87.83017324 &   105.01957    &    87.83017324 &    64.106051   &    76.75696101\\\\\n",
       "\t So             &          NA    &          NA    &    -3.80345030 &          NA    &    -3.80345030 &    49.606315   &    42.34154807\\\\\n",
       "\t Ed             &   180.12011    &   180.12011    &   188.32431475 &   196.47120    &   188.32431475 &    95.353431   &   140.58405032\\\\\n",
       "\t Po1            &   102.65316    &   102.65316    &   192.80433828 &   115.02419    &   192.80433828 &   104.941252   &    96.91562486\\\\\n",
       "\t Po2            &          NA    &          NA    &  -109.42192538 &          NA    &  -109.42192538 &           NA   &             NA\\\\\n",
       "\t LF             &          NA    &          NA    &  -663.82614508 &          NA    &  -663.82614508 &    90.100979   &             NA\\\\\n",
       "\t M.F            &    22.33975    &    22.33975    &    17.40685553 &          NA    &    17.40685553 &    16.037973   &    19.99801832\\\\\n",
       "\t Pop            &          NA    &          NA    &    -0.73300815 &          NA    &    -0.73300815 &           NA   &    -0.19470688\\\\\n",
       "\t NW             &          NA    &          NA    &     4.20446100 &          NA    &     4.20446100 &     0.239049   &     1.61233419\\\\\n",
       "\t U1             & -6086.63315    & -6086.63315    & -5827.10272440 &          NA    & -5827.10272440 &  -230.894946   & -3414.25908421\\\\\n",
       "\t U2             &   187.34512    &   187.34512    &   167.79967222 &    89.36604    &   167.79967222 &    42.789862   &   119.56039918\\\\\n",
       "\t Wealth         &          NA    &          NA    &     0.09616624 &          NA    &     0.09616624 &           NA   &     0.03949707\\\\\n",
       "\t Ineq           &    61.33494    &    61.33494    &    70.67209945 &    67.65322    &    70.67209945 &    42.588734   &    54.36471809\\\\\n",
       "\t Prob           & -3796.03183    & -3796.03183    & -4855.26581548 & -3801.83628    & -4855.26581548 & -3469.699253   & -3885.66443509\\\\\n",
       "\t Time           &          NA    &          NA    &    -3.47901784 &          NA    &    -3.47901784 &           NA   &             NA\\\\\n",
       "\\end{tabular}\n"
      ],
      "text/markdown": [
       "\n",
       "| Predictor | Both | Backward | Forward | BIC | Base | Lasso | Elastic_Net |\n",
       "|---|---|---|---|---|---|---|---|\n",
       "| (Intercept)    | -6426.10102    | -6426.10102    | -5984.28760450 | -5040.50498    | -5984.28760450 | -4315.174518   | -5616.39996696 |\n",
       "| M              |    93.32155    |    93.32155    |    87.83017324 |   105.01957    |    87.83017324 |    64.106051   |    76.75696101 |\n",
       "| So             |          NA    |          NA    |    -3.80345030 |          NA    |    -3.80345030 |    49.606315   |    42.34154807 |\n",
       "| Ed             |   180.12011    |   180.12011    |   188.32431475 |   196.47120    |   188.32431475 |    95.353431   |   140.58405032 |\n",
       "| Po1            |   102.65316    |   102.65316    |   192.80433828 |   115.02419    |   192.80433828 |   104.941252   |    96.91562486 |\n",
       "| Po2            |          NA    |          NA    |  -109.42192538 |          NA    |  -109.42192538 |           NA   |             NA |\n",
       "| LF             |          NA    |          NA    |  -663.82614508 |          NA    |  -663.82614508 |    90.100979   |             NA |\n",
       "| M.F            |    22.33975    |    22.33975    |    17.40685553 |          NA    |    17.40685553 |    16.037973   |    19.99801832 |\n",
       "| Pop            |          NA    |          NA    |    -0.73300815 |          NA    |    -0.73300815 |           NA   |    -0.19470688 |\n",
       "| NW             |          NA    |          NA    |     4.20446100 |          NA    |     4.20446100 |     0.239049   |     1.61233419 |\n",
       "| U1             | -6086.63315    | -6086.63315    | -5827.10272440 |          NA    | -5827.10272440 |  -230.894946   | -3414.25908421 |\n",
       "| U2             |   187.34512    |   187.34512    |   167.79967222 |    89.36604    |   167.79967222 |    42.789862   |   119.56039918 |\n",
       "| Wealth         |          NA    |          NA    |     0.09616624 |          NA    |     0.09616624 |           NA   |     0.03949707 |\n",
       "| Ineq           |    61.33494    |    61.33494    |    70.67209945 |    67.65322    |    70.67209945 |    42.588734   |    54.36471809 |\n",
       "| Prob           | -3796.03183    | -3796.03183    | -4855.26581548 | -3801.83628    | -4855.26581548 | -3469.699253   | -3885.66443509 |\n",
       "| Time           |          NA    |          NA    |    -3.47901784 |          NA    |    -3.47901784 |           NA   |             NA |\n",
       "\n"
      ],
      "text/plain": [
       "   Predictor   Both        Backward    Forward        BIC        \n",
       "1  (Intercept) -6426.10102 -6426.10102 -5984.28760450 -5040.50498\n",
       "2  M              93.32155    93.32155    87.83017324   105.01957\n",
       "3  So                   NA          NA    -3.80345030          NA\n",
       "4  Ed            180.12011   180.12011   188.32431475   196.47120\n",
       "5  Po1           102.65316   102.65316   192.80433828   115.02419\n",
       "6  Po2                  NA          NA  -109.42192538          NA\n",
       "7  LF                   NA          NA  -663.82614508          NA\n",
       "8  M.F            22.33975    22.33975    17.40685553          NA\n",
       "9  Pop                  NA          NA    -0.73300815          NA\n",
       "10 NW                   NA          NA     4.20446100          NA\n",
       "11 U1          -6086.63315 -6086.63315 -5827.10272440          NA\n",
       "12 U2            187.34512   187.34512   167.79967222    89.36604\n",
       "13 Wealth               NA          NA     0.09616624          NA\n",
       "14 Ineq           61.33494    61.33494    70.67209945    67.65322\n",
       "15 Prob        -3796.03183 -3796.03183 -4855.26581548 -3801.83628\n",
       "16 Time                 NA          NA    -3.47901784          NA\n",
       "   Base           Lasso        Elastic_Net   \n",
       "1  -5984.28760450 -4315.174518 -5616.39996696\n",
       "2     87.83017324    64.106051    76.75696101\n",
       "3     -3.80345030    49.606315    42.34154807\n",
       "4    188.32431475    95.353431   140.58405032\n",
       "5    192.80433828   104.941252    96.91562486\n",
       "6   -109.42192538           NA             NA\n",
       "7   -663.82614508    90.100979             NA\n",
       "8     17.40685553    16.037973    19.99801832\n",
       "9     -0.73300815           NA    -0.19470688\n",
       "10     4.20446100     0.239049     1.61233419\n",
       "11 -5827.10272440  -230.894946 -3414.25908421\n",
       "12   167.79967222    42.789862   119.56039918\n",
       "13     0.09616624           NA     0.03949707\n",
       "14    70.67209945    42.588734    54.36471809\n",
       "15 -4855.26581548 -3469.699253 -3885.66443509\n",
       "16    -3.47901784           NA             NA"
      ]
     },
     "metadata": {},
     "output_type": "display_data"
    }
   ],
   "source": [
    "# Look at the coefficients for the new model\n",
    "en_coef <- coef(elastic_net_model, s = en_lambda)\n",
    "coefficients_df$Elastic_Net <- en_coef[, 1]\n",
    "coefficients_df <- replace(coefficients_df, coefficients_df == 0, NA)\n",
    "coefficients_df"
   ]
  },
  {
   "cell_type": "markdown",
   "id": "0f599e7e-cfa5-4711-b01d-c335aaf9a4ec",
   "metadata": {},
   "source": [
    "#### Step 4 - Analyze the models\n",
    "Next I want to look how each of the models compare. To do this I am going to calculate the R-Squared value for each model as is and then again using cross-validation. Since the cross validation model created using cv.glmnet() doesn't give me the R^2 value that I want to use to compare the models, I will compute it manually. The formula for the R^2 value is:\n",
    "\n",
    "$$ R^2 = 1 - (RSS)/(TSS) $$\n",
    "\n",
    "where RSS is the sum of squares of residuals and TSS is the total sum of squares. I'll calculate the R^2 values for the new models in the loop below."
   ]
  },
  {
   "cell_type": "code",
   "execution_count": 24,
   "id": "af984b85-eefd-49b9-8f0d-050dd6514017",
   "metadata": {
    "vscode": {
     "languageId": "r"
    }
   },
   "outputs": [
    {
     "data": {
      "text/html": [
       "<table>\n",
       "<thead><tr><th scope=col>Base</th><th scope=col>Both</th><th scope=col>Backward</th><th scope=col>Forward</th><th scope=col>BIC</th><th scope=col>Lasso</th><th scope=col>Elastic_Net</th></tr></thead>\n",
       "<tbody>\n",
       "\t<tr><td>0.8030868</td><td>0.7888268</td><td>0.7888268</td><td>0.8030868</td><td>0.7658663</td><td>0.7515127</td><td>0.7870555</td></tr>\n",
       "</tbody>\n",
       "</table>\n"
      ],
      "text/latex": [
       "\\begin{tabular}{r|lllllll}\n",
       " Base & Both & Backward & Forward & BIC & Lasso & Elastic\\_Net\\\\\n",
       "\\hline\n",
       "\t 0.8030868 & 0.7888268 & 0.7888268 & 0.8030868 & 0.7658663 & 0.7515127 & 0.7870555\\\\\n",
       "\\end{tabular}\n"
      ],
      "text/markdown": [
       "\n",
       "| Base | Both | Backward | Forward | BIC | Lasso | Elastic_Net |\n",
       "|---|---|---|---|---|---|---|\n",
       "| 0.8030868 | 0.7888268 | 0.7888268 | 0.8030868 | 0.7658663 | 0.7515127 | 0.7870555 |\n",
       "\n"
      ],
      "text/plain": [
       "  Base      Both      Backward  Forward   BIC       Lasso     Elastic_Net\n",
       "1 0.8030868 0.7888268 0.7888268 0.8030868 0.7658663 0.7515127 0.7870555  "
      ]
     },
     "metadata": {},
     "output_type": "display_data"
    }
   ],
   "source": [
    "# Get the Total Sum of Squares\n",
    "TSS <- sum((crime_data$Crime - mean(crime_data$Crime))^2)\n",
    "\n",
    "# Get base model R-Squared\n",
    "base_r2 <- summary(crime_base_model)$r.squared\n",
    "\n",
    "# Get the stepwise regression models R-Squared values\n",
    "both_r2 <- summary(sr_both_model)$r.squared\n",
    "back_r2 <- summary(sr_back_model)$r.squared\n",
    "forward_r2 <- summary(sr_forward_model)$r.squared\n",
    "BIC_r2 <- summary(sr_bic_model)$r.squared\n",
    "\n",
    "# Get Lasso R-Square\n",
    "lasso_predict <- predict(lasso_model, newx = as.matrix(crime_data[, -16]), s = lasso_lambda)\n",
    "lasso_RSS <- sum((lasso_predict - crime_data$Crime)^2)\n",
    "lasso_r2 <- 1 - lasso_RSS / TSS\n",
    "\n",
    "# Get Elastic Net R-Square\n",
    "en_predict <- predict(elastic_net_model, newx = as.matrix(crime_data[, -16]), s = en_lambda)\n",
    "en_RSS <- sum((en_predict - crime_data$Crime)^2)\n",
    "en_r2 <- 1 - en_RSS / TSS\n",
    "\n",
    "# Create a data frame to store R-Squared values\n",
    "r_squared_df <- data.frame(\n",
    "  Base = base_r2,\n",
    "  Both = both_r2,\n",
    "  Backward = back_r2,\n",
    "  Forward = forward_r2,\n",
    "  BIC = BIC_r2,\n",
    "  Lasso = lasso_r2,\n",
    "  Elastic_Net = en_r2\n",
    ")\n",
    "\n",
    "r_squared_df"
   ]
  },
  {
   "cell_type": "markdown",
   "id": "1ea6cadf-d063-4dc2-8a32-a767afc6cdbf",
   "metadata": {},
   "source": [
    "Looking at the r-squared values they are all pretty similar. The base model and the forward-selection model have the highest value but also use all of the independent variables. Next I'll calculate the adjusted r-squared to incorporate the number of variables each model uses."
   ]
  },
  {
   "cell_type": "code",
   "execution_count": 25,
   "id": "a197e70f-07eb-4cb5-888b-54a89a6dad12",
   "metadata": {
    "vscode": {
     "languageId": "r"
    }
   },
   "outputs": [
    {
     "data": {
      "text/html": [
       "<table>\n",
       "<thead><tr><th></th><th scope=col>Base</th><th scope=col>Both</th><th scope=col>Backward</th><th scope=col>Forward</th><th scope=col>BIC</th><th scope=col>Lasso</th><th scope=col>Elastic_Net</th></tr></thead>\n",
       "<tbody>\n",
       "\t<tr><th scope=row>R-Sqr</th><td>0.8030868</td><td>0.7888268</td><td>0.7888268</td><td>0.8030868</td><td>0.7658663</td><td>0.7515127</td><td>0.7870555</td></tr>\n",
       "\t<tr><th scope=row>Adj R-Sqr</th><td>0.7078062</td><td>0.7443692</td><td>0.7443692</td><td>0.7078062</td><td>0.7307463</td><td>0.6734166</td><td>0.7118987</td></tr>\n",
       "</tbody>\n",
       "</table>\n"
      ],
      "text/latex": [
       "\\begin{tabular}{r|lllllll}\n",
       "  & Base & Both & Backward & Forward & BIC & Lasso & Elastic\\_Net\\\\\n",
       "\\hline\n",
       "\tR-Sqr & 0.8030868 & 0.7888268 & 0.7888268 & 0.8030868 & 0.7658663 & 0.7515127 & 0.7870555\\\\\n",
       "\tAdj R-Sqr & 0.7078062 & 0.7443692 & 0.7443692 & 0.7078062 & 0.7307463 & 0.6734166 & 0.7118987\\\\\n",
       "\\end{tabular}\n"
      ],
      "text/markdown": [
       "\n",
       "| <!--/--> | Base | Both | Backward | Forward | BIC | Lasso | Elastic_Net |\n",
       "|---|---|---|---|---|---|---|---|\n",
       "| R-Sqr | 0.8030868 | 0.7888268 | 0.7888268 | 0.8030868 | 0.7658663 | 0.7515127 | 0.7870555 |\n",
       "| Adj R-Sqr | 0.7078062 | 0.7443692 | 0.7443692 | 0.7078062 | 0.7307463 | 0.6734166 | 0.7118987 |\n",
       "\n"
      ],
      "text/plain": [
       "          Base      Both      Backward  Forward   BIC       Lasso    \n",
       "R-Sqr     0.8030868 0.7888268 0.7888268 0.8030868 0.7658663 0.7515127\n",
       "Adj R-Sqr 0.7078062 0.7443692 0.7443692 0.7078062 0.7307463 0.6734166\n",
       "          Elastic_Net\n",
       "R-Sqr     0.7870555  \n",
       "Adj R-Sqr 0.7118987  "
      ]
     },
     "metadata": {},
     "output_type": "display_data"
    }
   ],
   "source": [
    "# Get base model Adjusted R-Squared\n",
    "base_adj_r2 <- summary(crime_base_model)$adj.r.squared\n",
    "\n",
    "# Get the stepwise regression models Adjusted R-Squared values\n",
    "both_adj_r2 <- summary(sr_both_model)$adj.r.squared\n",
    "back_adj_r2 <- summary(sr_back_model)$adj.r.squared\n",
    "forward_adj_r2 <- summary(sr_forward_model)$adj.r.squared\n",
    "BIC_adj_r2 <- summary(sr_bic_model)$adj.r.squared\n",
    "\n",
    "# Get Lasso Adjusted R-Square\n",
    "lasso_adjustment <- nrow(crime_data) - sum(!is.na(coefficients_df$Lasso))\n",
    "lasso_adj_r2 <- 1 - ((lasso_RSS/lasso_adjustment) / (TSS/(nrow(crime_data) - 1)))\n",
    "\n",
    "# Get Elastic Net Adjusted R-Square\n",
    "en_adjustment <- nrow(crime_data) - sum(!is.na(coefficients_df$Elastic_Net))\n",
    "en_adj_r2 <- 1 - ((en_RSS/en_adjustment) / (TSS/(nrow(crime_data) - 1)))\n",
    "\n",
    "# Add values to the r_squred_df\n",
    "adj_row <- c(base_adj_r2, both_adj_r2, back_adj_r2, forward_adj_r2, BIC_adj_r2, lasso_adj_r2, en_adj_r2)\n",
    "r_squared_df <- rbind(r_squared_df, adj_row)\n",
    "\n",
    "# Add row names\n",
    "rownames(r_squared_df)[1] <- 'R-Sqr'\n",
    "rownames(r_squared_df)[2] <- 'Adj R-Sqr'\n",
    "\n",
    "# Print updated dataframe\n",
    "r_squared_df"
   ]
  },
  {
   "cell_type": "markdown",
   "id": "ae51139e-017b-4197-a7e7-be7b3fa7664c",
   "metadata": {},
   "source": [
    "As expected that brought the base model and forward selection models R-Squared value down the most, with the both/backward selection models now having the best values. Next I want to see how the models perform using cross validation. I'll use LOOCV on each of the models that weren't built with cv.glmnet() and pull the cross validated r-squared values directly from the Lasso and Elastic_Net model"
   ]
  },
  {
   "cell_type": "code",
   "execution_count": 26,
   "id": "cd268898-4082-4c96-9aa7-b34530ce26a4",
   "metadata": {
    "vscode": {
     "languageId": "r"
    }
   },
   "outputs": [],
   "source": [
    "# Get R-Squared values using LOOCV\n",
    "models <- list(crime_base_model, sr_both_model, sr_back_model, sr_forward_model, sr_bic_model)\n",
    "coefficients <- list(coefficients_base, coefficients_both, coefficients_back, coefficients_forward, coefficients_bic)\n",
    "cv_r_squared <- numeric(length(models))\n",
    "cv_adj_r_squared <- numeric(length(models))\n",
    "\n",
    "# Loop through each of the models and calculate R-Squared using LOOCV\n",
    "for (i in 1:length(models)) {\n",
    "    \n",
    "    # Get the coefficients excluding the intercept\n",
    "    coefficient_vector <- coefficients[[i]]\n",
    "    coefficients_no_intercept <- coefficient_vector[!names(coefficient_vector) %in% \"(Intercept)\"]\n",
    "    \n",
    "    # Construct the model formula\n",
    "    coefficients_str <- paste(names(coefficients_no_intercept), sep = \"\", collapse = \" + \")\n",
    "    formula_str <- paste(\"Crime ~\", coefficients_str)\n",
    "    model_formula <- as.formula(formula_str)\n",
    "\n",
    "    # Set the initial RSS\n",
    "    RSS <- 0\n",
    "\n",
    "    # Complete LOOCV updating the RSS value\n",
    "    for (j in 1:nrow(crime_data)) {\n",
    "        model <- lm(model_formula, data = crime_data[-j,])\n",
    "        predictions <- predict(model, newdata = crime_data[j,])\n",
    "        RSS <- RSS + ((predictions - crime_data[j, 16])^2)\n",
    "    }\n",
    "\n",
    "    # Get the new cross-validated R-Squared and Adjusted R-Squared value\n",
    "    new_r <- 1 - RSS/TSS\n",
    "    cv_r_squared[i] <- new_r\n",
    "\n",
    "    model_adjustment <- nrow(crime_data) - length(coefficient_vector)\n",
    "    adj_r2 <- 1 - ((RSS/model_adjustment) / (TSS/(nrow(crime_data) - 1)))\n",
    "    cv_adj_r_squared[i] <- adj_r2\n",
    "}"
   ]
  },
  {
   "cell_type": "markdown",
   "id": "6a7b38d2-6d82-4657-bd50-28a3667f0f07",
   "metadata": {},
   "source": [
    "Next I'll add the LOOCV R-squared values from the Lasson and Elastic Net models and add all of the values to the r_squared_df"
   ]
  },
  {
   "cell_type": "code",
   "execution_count": 27,
   "id": "f56e5123-d8ef-437a-88f9-3372e5e95571",
   "metadata": {
    "vscode": {
     "languageId": "r"
    }
   },
   "outputs": [
    {
     "data": {
      "text/html": [
       "<table>\n",
       "<thead><tr><th></th><th scope=col>Base</th><th scope=col>Both</th><th scope=col>Backward</th><th scope=col>Forward</th><th scope=col>BIC</th><th scope=col>Lasso</th><th scope=col>Elastic_Net</th></tr></thead>\n",
       "<tbody>\n",
       "\t<tr><th scope=row>R-Sqr</th><td>0.8030868</td><td>0.7888268</td><td>0.7888268</td><td>0.8030868</td><td>0.7658663</td><td>0.7515127</td><td>0.7870555</td></tr>\n",
       "\t<tr><th scope=row>Adj R-Sqr</th><td>0.7078062</td><td>0.7443692</td><td>0.7443692</td><td>0.7078062</td><td>0.7307463</td><td>0.6734166</td><td>0.7118987</td></tr>\n",
       "\t<tr><th scope=row>LOOCV R-Sqr</th><td>0.4856070</td><td>0.6676210</td><td>0.6676210</td><td>0.4856070</td><td>0.6661638</td><td>0.5454841</td><td>0.5600290</td></tr>\n",
       "\t<tr><th scope=row>Adj LOOCV R-Sqr</th><td>0.2367071</td><td>0.5976464</td><td>0.5976464</td><td>0.2367071</td><td>0.6160884</td><td>0.3664323</td><td>0.4047451</td></tr>\n",
       "</tbody>\n",
       "</table>\n"
      ],
      "text/latex": [
       "\\begin{tabular}{r|lllllll}\n",
       "  & Base & Both & Backward & Forward & BIC & Lasso & Elastic\\_Net\\\\\n",
       "\\hline\n",
       "\tR-Sqr & 0.8030868 & 0.7888268 & 0.7888268 & 0.8030868 & 0.7658663 & 0.7515127 & 0.7870555\\\\\n",
       "\tAdj R-Sqr & 0.7078062 & 0.7443692 & 0.7443692 & 0.7078062 & 0.7307463 & 0.6734166 & 0.7118987\\\\\n",
       "\tLOOCV R-Sqr & 0.4856070 & 0.6676210 & 0.6676210 & 0.4856070 & 0.6661638 & 0.5454841 & 0.5600290\\\\\n",
       "\tAdj LOOCV R-Sqr & 0.2367071 & 0.5976464 & 0.5976464 & 0.2367071 & 0.6160884 & 0.3664323 & 0.4047451\\\\\n",
       "\\end{tabular}\n"
      ],
      "text/markdown": [
       "\n",
       "| <!--/--> | Base | Both | Backward | Forward | BIC | Lasso | Elastic_Net |\n",
       "|---|---|---|---|---|---|---|---|\n",
       "| R-Sqr | 0.8030868 | 0.7888268 | 0.7888268 | 0.8030868 | 0.7658663 | 0.7515127 | 0.7870555 |\n",
       "| Adj R-Sqr | 0.7078062 | 0.7443692 | 0.7443692 | 0.7078062 | 0.7307463 | 0.6734166 | 0.7118987 |\n",
       "| LOOCV R-Sqr | 0.4856070 | 0.6676210 | 0.6676210 | 0.4856070 | 0.6661638 | 0.5454841 | 0.5600290 |\n",
       "| Adj LOOCV R-Sqr | 0.2367071 | 0.5976464 | 0.5976464 | 0.2367071 | 0.6160884 | 0.3664323 | 0.4047451 |\n",
       "\n"
      ],
      "text/plain": [
       "                Base      Both      Backward  Forward   BIC       Lasso    \n",
       "R-Sqr           0.8030868 0.7888268 0.7888268 0.8030868 0.7658663 0.7515127\n",
       "Adj R-Sqr       0.7078062 0.7443692 0.7443692 0.7078062 0.7307463 0.6734166\n",
       "LOOCV R-Sqr     0.4856070 0.6676210 0.6676210 0.4856070 0.6661638 0.5454841\n",
       "Adj LOOCV R-Sqr 0.2367071 0.5976464 0.5976464 0.2367071 0.6160884 0.3664323\n",
       "                Elastic_Net\n",
       "R-Sqr           0.7870555  \n",
       "Adj R-Sqr       0.7118987  \n",
       "LOOCV R-Sqr     0.5600290  \n",
       "Adj LOOCV R-Sqr 0.4047451  "
      ]
     },
     "metadata": {},
     "output_type": "display_data"
    }
   ],
   "source": [
    "en_cv_r_squared <- 1 - elastic_net_model$cvm[which.min(elastic_net_model$cvm)] / var(y)\n",
    "en_adj_cv_r_squared <- 1- ((elastic_net_model$cvm[which.min(elastic_net_model$cvm)] / (en_adjustment - 1)) / (var(y) / (nrow(crime_data) - 1)))\n",
    "lasso_cv_r_squared <- 1 - lasso_model$cvm[which.min(lasso_model$cvm)] / var(y)\n",
    "lasso_adj_cv_r_squared <- 1- ((lasso_model$cvm[which.min(lasso_model$cvm)] / (lasso_adjustment - 1)) / (var(y) / (nrow(crime_data) - 1)))\n",
    "\n",
    "cv_r_squared <- c(cv_r_squared, en_cv_r_squared, lasso_cv_r_squared)\n",
    "cv_adj_r_squared <- c(cv_adj_r_squared, en_adj_cv_r_squared, lasso_adj_cv_r_squared)\n",
    "\n",
    "# Add values to the r_squred_df\n",
    "r_squared_df <- rbind(r_squared_df, cv_r_squared, cv_adj_r_squared)\n",
    "\n",
    "# Add row names\n",
    "rownames(r_squared_df)[3] <- 'LOOCV R-Sqr'\n",
    "rownames(r_squared_df)[4] <- 'Adj LOOCV R-Sqr'\n",
    "\n",
    "# Print updated dataframe\n",
    "r_squared_df"
   ]
  },
  {
   "cell_type": "markdown",
   "id": "044ce22a-9f65-4ec6-8d04-4e4aa953d80a",
   "metadata": {},
   "source": [
    "Looking at the models it is clear that the base/forward models that used all of the variables were severly overfit. The BIC model is performing slightly better than the both/forward selection models when looking at the adjusted R-Squared values. I'm going to print out the coefficients table again for comparison."
   ]
  },
  {
   "cell_type": "code",
   "execution_count": 29,
   "id": "5eda92f5-6bce-4000-8ce2-21e04b58d878",
   "metadata": {
    "vscode": {
     "languageId": "r"
    }
   },
   "outputs": [
    {
     "data": {
      "text/html": [
       "<table>\n",
       "<thead><tr><th scope=col>Predictor</th><th scope=col>Both</th><th scope=col>Backward</th><th scope=col>Forward</th><th scope=col>BIC</th><th scope=col>Base</th><th scope=col>Lasso</th><th scope=col>Elastic_Net</th></tr></thead>\n",
       "<tbody>\n",
       "\t<tr><td>(Intercept)   </td><td>-6426.10102   </td><td>-6426.10102   </td><td>-5984.28760450</td><td>-5040.50498   </td><td>-5984.28760450</td><td>-4315.174518  </td><td>-5616.39996696</td></tr>\n",
       "\t<tr><td>M             </td><td>   93.32155   </td><td>   93.32155   </td><td>   87.83017324</td><td>  105.01957   </td><td>   87.83017324</td><td>   64.106051  </td><td>   76.75696101</td></tr>\n",
       "\t<tr><td>So            </td><td>         NA   </td><td>         NA   </td><td>   -3.80345030</td><td>         NA   </td><td>   -3.80345030</td><td>   49.606315  </td><td>   42.34154807</td></tr>\n",
       "\t<tr><td>Ed            </td><td>  180.12011   </td><td>  180.12011   </td><td>  188.32431475</td><td>  196.47120   </td><td>  188.32431475</td><td>   95.353431  </td><td>  140.58405032</td></tr>\n",
       "\t<tr><td>Po1           </td><td>  102.65316   </td><td>  102.65316   </td><td>  192.80433828</td><td>  115.02419   </td><td>  192.80433828</td><td>  104.941252  </td><td>   96.91562486</td></tr>\n",
       "\t<tr><td>Po2           </td><td>         NA   </td><td>         NA   </td><td> -109.42192538</td><td>         NA   </td><td> -109.42192538</td><td>          NA  </td><td>            NA</td></tr>\n",
       "\t<tr><td>LF            </td><td>         NA   </td><td>         NA   </td><td> -663.82614508</td><td>         NA   </td><td> -663.82614508</td><td>   90.100979  </td><td>            NA</td></tr>\n",
       "\t<tr><td>M.F           </td><td>   22.33975   </td><td>   22.33975   </td><td>   17.40685553</td><td>         NA   </td><td>   17.40685553</td><td>   16.037973  </td><td>   19.99801832</td></tr>\n",
       "\t<tr><td>Pop           </td><td>         NA   </td><td>         NA   </td><td>   -0.73300815</td><td>         NA   </td><td>   -0.73300815</td><td>          NA  </td><td>   -0.19470688</td></tr>\n",
       "\t<tr><td>NW            </td><td>         NA   </td><td>         NA   </td><td>    4.20446100</td><td>         NA   </td><td>    4.20446100</td><td>    0.239049  </td><td>    1.61233419</td></tr>\n",
       "\t<tr><td>U1            </td><td>-6086.63315   </td><td>-6086.63315   </td><td>-5827.10272440</td><td>         NA   </td><td>-5827.10272440</td><td> -230.894946  </td><td>-3414.25908421</td></tr>\n",
       "\t<tr><td>U2            </td><td>  187.34512   </td><td>  187.34512   </td><td>  167.79967222</td><td>   89.36604   </td><td>  167.79967222</td><td>   42.789862  </td><td>  119.56039918</td></tr>\n",
       "\t<tr><td>Wealth        </td><td>         NA   </td><td>         NA   </td><td>    0.09616624</td><td>         NA   </td><td>    0.09616624</td><td>          NA  </td><td>    0.03949707</td></tr>\n",
       "\t<tr><td>Ineq          </td><td>   61.33494   </td><td>   61.33494   </td><td>   70.67209945</td><td>   67.65322   </td><td>   70.67209945</td><td>   42.588734  </td><td>   54.36471809</td></tr>\n",
       "\t<tr><td>Prob          </td><td>-3796.03183   </td><td>-3796.03183   </td><td>-4855.26581548</td><td>-3801.83628   </td><td>-4855.26581548</td><td>-3469.699253  </td><td>-3885.66443509</td></tr>\n",
       "\t<tr><td>Time          </td><td>         NA   </td><td>         NA   </td><td>   -3.47901784</td><td>         NA   </td><td>   -3.47901784</td><td>          NA  </td><td>            NA</td></tr>\n",
       "</tbody>\n",
       "</table>\n"
      ],
      "text/latex": [
       "\\begin{tabular}{r|llllllll}\n",
       " Predictor & Both & Backward & Forward & BIC & Base & Lasso & Elastic\\_Net\\\\\n",
       "\\hline\n",
       "\t (Intercept)    & -6426.10102    & -6426.10102    & -5984.28760450 & -5040.50498    & -5984.28760450 & -4315.174518   & -5616.39996696\\\\\n",
       "\t M              &    93.32155    &    93.32155    &    87.83017324 &   105.01957    &    87.83017324 &    64.106051   &    76.75696101\\\\\n",
       "\t So             &          NA    &          NA    &    -3.80345030 &          NA    &    -3.80345030 &    49.606315   &    42.34154807\\\\\n",
       "\t Ed             &   180.12011    &   180.12011    &   188.32431475 &   196.47120    &   188.32431475 &    95.353431   &   140.58405032\\\\\n",
       "\t Po1            &   102.65316    &   102.65316    &   192.80433828 &   115.02419    &   192.80433828 &   104.941252   &    96.91562486\\\\\n",
       "\t Po2            &          NA    &          NA    &  -109.42192538 &          NA    &  -109.42192538 &           NA   &             NA\\\\\n",
       "\t LF             &          NA    &          NA    &  -663.82614508 &          NA    &  -663.82614508 &    90.100979   &             NA\\\\\n",
       "\t M.F            &    22.33975    &    22.33975    &    17.40685553 &          NA    &    17.40685553 &    16.037973   &    19.99801832\\\\\n",
       "\t Pop            &          NA    &          NA    &    -0.73300815 &          NA    &    -0.73300815 &           NA   &    -0.19470688\\\\\n",
       "\t NW             &          NA    &          NA    &     4.20446100 &          NA    &     4.20446100 &     0.239049   &     1.61233419\\\\\n",
       "\t U1             & -6086.63315    & -6086.63315    & -5827.10272440 &          NA    & -5827.10272440 &  -230.894946   & -3414.25908421\\\\\n",
       "\t U2             &   187.34512    &   187.34512    &   167.79967222 &    89.36604    &   167.79967222 &    42.789862   &   119.56039918\\\\\n",
       "\t Wealth         &          NA    &          NA    &     0.09616624 &          NA    &     0.09616624 &           NA   &     0.03949707\\\\\n",
       "\t Ineq           &    61.33494    &    61.33494    &    70.67209945 &    67.65322    &    70.67209945 &    42.588734   &    54.36471809\\\\\n",
       "\t Prob           & -3796.03183    & -3796.03183    & -4855.26581548 & -3801.83628    & -4855.26581548 & -3469.699253   & -3885.66443509\\\\\n",
       "\t Time           &          NA    &          NA    &    -3.47901784 &          NA    &    -3.47901784 &           NA   &             NA\\\\\n",
       "\\end{tabular}\n"
      ],
      "text/markdown": [
       "\n",
       "| Predictor | Both | Backward | Forward | BIC | Base | Lasso | Elastic_Net |\n",
       "|---|---|---|---|---|---|---|---|\n",
       "| (Intercept)    | -6426.10102    | -6426.10102    | -5984.28760450 | -5040.50498    | -5984.28760450 | -4315.174518   | -5616.39996696 |\n",
       "| M              |    93.32155    |    93.32155    |    87.83017324 |   105.01957    |    87.83017324 |    64.106051   |    76.75696101 |\n",
       "| So             |          NA    |          NA    |    -3.80345030 |          NA    |    -3.80345030 |    49.606315   |    42.34154807 |\n",
       "| Ed             |   180.12011    |   180.12011    |   188.32431475 |   196.47120    |   188.32431475 |    95.353431   |   140.58405032 |\n",
       "| Po1            |   102.65316    |   102.65316    |   192.80433828 |   115.02419    |   192.80433828 |   104.941252   |    96.91562486 |\n",
       "| Po2            |          NA    |          NA    |  -109.42192538 |          NA    |  -109.42192538 |           NA   |             NA |\n",
       "| LF             |          NA    |          NA    |  -663.82614508 |          NA    |  -663.82614508 |    90.100979   |             NA |\n",
       "| M.F            |    22.33975    |    22.33975    |    17.40685553 |          NA    |    17.40685553 |    16.037973   |    19.99801832 |\n",
       "| Pop            |          NA    |          NA    |    -0.73300815 |          NA    |    -0.73300815 |           NA   |    -0.19470688 |\n",
       "| NW             |          NA    |          NA    |     4.20446100 |          NA    |     4.20446100 |     0.239049   |     1.61233419 |\n",
       "| U1             | -6086.63315    | -6086.63315    | -5827.10272440 |          NA    | -5827.10272440 |  -230.894946   | -3414.25908421 |\n",
       "| U2             |   187.34512    |   187.34512    |   167.79967222 |    89.36604    |   167.79967222 |    42.789862   |   119.56039918 |\n",
       "| Wealth         |          NA    |          NA    |     0.09616624 |          NA    |     0.09616624 |           NA   |     0.03949707 |\n",
       "| Ineq           |    61.33494    |    61.33494    |    70.67209945 |    67.65322    |    70.67209945 |    42.588734   |    54.36471809 |\n",
       "| Prob           | -3796.03183    | -3796.03183    | -4855.26581548 | -3801.83628    | -4855.26581548 | -3469.699253   | -3885.66443509 |\n",
       "| Time           |          NA    |          NA    |    -3.47901784 |          NA    |    -3.47901784 |           NA   |             NA |\n",
       "\n"
      ],
      "text/plain": [
       "   Predictor   Both        Backward    Forward        BIC        \n",
       "1  (Intercept) -6426.10102 -6426.10102 -5984.28760450 -5040.50498\n",
       "2  M              93.32155    93.32155    87.83017324   105.01957\n",
       "3  So                   NA          NA    -3.80345030          NA\n",
       "4  Ed            180.12011   180.12011   188.32431475   196.47120\n",
       "5  Po1           102.65316   102.65316   192.80433828   115.02419\n",
       "6  Po2                  NA          NA  -109.42192538          NA\n",
       "7  LF                   NA          NA  -663.82614508          NA\n",
       "8  M.F            22.33975    22.33975    17.40685553          NA\n",
       "9  Pop                  NA          NA    -0.73300815          NA\n",
       "10 NW                   NA          NA     4.20446100          NA\n",
       "11 U1          -6086.63315 -6086.63315 -5827.10272440          NA\n",
       "12 U2            187.34512   187.34512   167.79967222    89.36604\n",
       "13 Wealth               NA          NA     0.09616624          NA\n",
       "14 Ineq           61.33494    61.33494    70.67209945    67.65322\n",
       "15 Prob        -3796.03183 -3796.03183 -4855.26581548 -3801.83628\n",
       "16 Time                 NA          NA    -3.47901784          NA\n",
       "   Base           Lasso        Elastic_Net   \n",
       "1  -5984.28760450 -4315.174518 -5616.39996696\n",
       "2     87.83017324    64.106051    76.75696101\n",
       "3     -3.80345030    49.606315    42.34154807\n",
       "4    188.32431475    95.353431   140.58405032\n",
       "5    192.80433828   104.941252    96.91562486\n",
       "6   -109.42192538           NA             NA\n",
       "7   -663.82614508    90.100979             NA\n",
       "8     17.40685553    16.037973    19.99801832\n",
       "9     -0.73300815           NA    -0.19470688\n",
       "10     4.20446100     0.239049     1.61233419\n",
       "11 -5827.10272440  -230.894946 -3414.25908421\n",
       "12   167.79967222    42.789862   119.56039918\n",
       "13     0.09616624           NA     0.03949707\n",
       "14    70.67209945    42.588734    54.36471809\n",
       "15 -4855.26581548 -3469.699253 -3885.66443509\n",
       "16    -3.47901784           NA             NA"
      ]
     },
     "metadata": {},
     "output_type": "display_data"
    }
   ],
   "source": [
    "# Print out the coefficients dataframe\n",
    "coefficients_df"
   ]
  },
  {
   "cell_type": "markdown",
   "id": "4e0482e6-a1cc-4ade-8a70-b44f21ecc061",
   "metadata": {},
   "source": [
    "Looking at the adjusted r-squared values calculated using LOOCV, the model created using stepwise regression, using both direction selection, and using BIC as the selection criteria (sr_bic_model) performed the best. It showed less overfitting than all of the other models, especially compared to the base model, and was the simplest model that was created. It uses 6 dependent variables total and while it had the lowest R-Squared value on the training data it was close to the other models. A summary of the model can be seen below."
   ]
  },
  {
   "cell_type": "code",
   "execution_count": 30,
   "id": "97c1e7cb-8de0-4dc5-a510-64a8132484da",
   "metadata": {
    "vscode": {
     "languageId": "r"
    }
   },
   "outputs": [
    {
     "data": {
      "text/plain": [
       "\n",
       "Call:\n",
       "lm(formula = Crime ~ M + Ed + Po1 + U2 + Ineq + Prob, data = crime_data)\n",
       "\n",
       "Residuals:\n",
       "    Min      1Q  Median      3Q     Max \n",
       "-470.68  -78.41  -19.68  133.12  556.23 \n",
       "\n",
       "Coefficients:\n",
       "            Estimate Std. Error t value Pr(>|t|)    \n",
       "(Intercept) -5040.50     899.84  -5.602 1.72e-06 ***\n",
       "M             105.02      33.30   3.154  0.00305 ** \n",
       "Ed            196.47      44.75   4.390 8.07e-05 ***\n",
       "Po1           115.02      13.75   8.363 2.56e-10 ***\n",
       "U2             89.37      40.91   2.185  0.03483 *  \n",
       "Ineq           67.65      13.94   4.855 1.88e-05 ***\n",
       "Prob        -3801.84    1528.10  -2.488  0.01711 *  \n",
       "---\n",
       "Signif. codes:  0 '***' 0.001 '**' 0.01 '*' 0.05 '.' 0.1 ' ' 1\n",
       "\n",
       "Residual standard error: 200.7 on 40 degrees of freedom\n",
       "Multiple R-squared:  0.7659,\tAdjusted R-squared:  0.7307 \n",
       "F-statistic: 21.81 on 6 and 40 DF,  p-value: 3.418e-11\n"
      ]
     },
     "metadata": {},
     "output_type": "display_data"
    }
   ],
   "source": [
    "summary(sr_bic_model)"
   ]
  },
  {
   "cell_type": "markdown",
   "id": "f1586af3-7c87-4aed-9c48-740972ed4d75",
   "metadata": {},
   "source": [
    "The model shows that the Ed, Po1, and Ineq variable shave the largest statistical significance when predicting crime rates in states. This was true for each of the models and including the MF and U1 variables (Both/Backward) only provided a slightly better R-Squared value so probably aren't worth including in the model depending on the objective of it's use."
   ]
  },
  {
   "cell_type": "code",
   "execution_count": null,
   "id": "75704d77-8d80-4e85-bd6d-d793f0e2ac75",
   "metadata": {
    "vscode": {
     "languageId": "r"
    }
   },
   "outputs": [],
   "source": []
  }
 ],
 "metadata": {
  "kernelspec": {
   "display_name": "R",
   "language": "R",
   "name": "ir"
  },
  "language_info": {
   "codemirror_mode": "r",
   "file_extension": ".r",
   "mimetype": "text/x-r-source",
   "name": "R",
   "pygments_lexer": "r",
   "version": "3.6.1"
  }
 },
 "nbformat": 4,
 "nbformat_minor": 5
}
