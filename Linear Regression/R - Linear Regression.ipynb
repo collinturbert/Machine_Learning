{
 "cells": [
  {
   "cell_type": "markdown",
   "id": "11774fd0-dd82-4a96-b08e-95119507836d",
   "metadata": {},
   "source": [
    "#### Linear Regression Models\n",
    "> The purpose of this notebook is to explore the linear regression algorithm and it's implementation. I plan on using crime data from http://www.statsci.org/data/general/uscrime.txt (file uscrime.txt, description at http://www.statsci.org/data/general/uscrime.html ), and using linear regression to predict the observed crime rate in a city with made up data:\n",
    ">1) M = 14.0\n",
    "2) So = 0\n",
    "3) Ed = 10.0\n",
    "4) Po1 = 12.0\n",
    "5) Po2 = 15.5\n",
    "6) LF = 0.640\n",
    "10) M.F = 94.0 Pop = 150\n",
    "11) NW = 1.1\n",
    "12) U1 = 0.120\n",
    "13) U2 = 3.6\n",
    "14) Wealth = 3200\n",
    "15) Ineq = 20.1\n",
    "16) Prob = 0.04\n",
    "17) Time = 39.0\n",
    "\n",
    ">Note that because there are only 47 data points and 15 predictors, their is likely to be some overfitting. I am going to explore variable selection and PCA in another notebook to help reduce this issue but for now I am choosing to ignore it."
   ]
  },
  {
   "cell_type": "markdown",
   "id": "fac76b48-f2e5-4835-af8a-0692d5a15ae3",
   "metadata": {},
   "source": [
    "To create a predictive regression model of the uscrime.txt data I'll use the lm() function that is a part of the stats package which is one of R's base packages. The syntax for the lm() model can be found here: https://www.rdocumentation.org/packages/stats/versions/3.6.2/topics/lm. \n",
    "\n",
    "I found the CMU lecture on this topic useful for this analysis and adopted several of the techniques they used, the lecture can be found here: https://www.andrew.cmu.edu/user/achoulde/94842/lectures/lecture09/lecture09-94842.html.\n",
    "\n",
    "In order to use the lm() function to create a linear regression model I am going to follow the steps below:\n",
    "\n",
    "1) Explore the data to gain a better understanding of the dataset\n",
    "2) Check the assumptions of linear regression\n",
    "3) Fit a linear regression model to the data and assess it's quality\n",
    "4) Use the linear regression model to predict the crime rate for the given data point\n",
    "5) Provide a summary of the final linear regression model"
   ]
  },
  {
   "cell_type": "markdown",
   "id": "07f13193-040e-4b8f-8131-d1838598a2d5",
   "metadata": {},
   "source": [
    "#### Step 1 - Explore the Data\n",
    "For this step I am going to visually inspect the data, get summary statistics to get a sense of the properties of the values in the data, and read about the data to understand what each value represents.  I'll start by loading the libraries I need for this analysis and loading the data."
   ]
  },
  {
   "cell_type": "code",
   "execution_count": 1,
   "id": "d64fb628-4adc-44b7-be94-810ad07f4f4c",
   "metadata": {
    "vscode": {
     "languageId": "r"
    }
   },
   "outputs": [
    {
     "name": "stderr",
     "output_type": "stream",
     "text": [
      "Warning message:\n",
      "\"package 'ggplot2' was built under R version 3.6.3\"Loading required package: lattice\n",
      "Registered S3 method overwritten by 'rvest':\n",
      "  method            from\n",
      "  read_xml.response xml2\n",
      "-- Attaching packages --------------------------------------- tidyverse 1.2.1 --\n",
      "v tibble  3.1.2     v purrr   0.3.2\n",
      "v tidyr   0.8.3     v dplyr   1.0.6\n",
      "v readr   1.3.1     v stringr 1.4.0\n",
      "v tibble  3.1.2     v forcats 0.4.0\n",
      "Warning message:\n",
      "\"package 'tibble' was built under R version 3.6.3\"Warning message:\n",
      "\"package 'dplyr' was built under R version 3.6.3\"-- Conflicts ------------------------------------------ tidyverse_conflicts() --\n",
      "x dplyr::filter() masks stats::filter()\n",
      "x dplyr::lag()    masks stats::lag()\n",
      "Warning message:\n",
      "\"package 'GGally' was built under R version 3.6.3\"Registered S3 method overwritten by 'GGally':\n",
      "  method from   \n",
      "  +.gg   ggplot2\n",
      "Warning message:\n",
      "\"package 'cowplot' was built under R version 3.6.3\"Warning message:\n",
      "\"package 'energy' was built under R version 3.6.3\"Loading required package: carData\n",
      "\n",
      "Attaching package: 'car'\n",
      "\n",
      "The following object is masked from 'package:dplyr':\n",
      "\n",
      "    recode\n",
      "\n",
      "The following object is masked from 'package:purrr':\n",
      "\n",
      "    some\n",
      "\n",
      "The following object is masked from 'package:DAAG':\n",
      "\n",
      "    vif\n",
      "\n"
     ]
    }
   ],
   "source": [
    "# Set seed so output is reproducible\n",
    "set.seed(123)\n",
    "\n",
    "# Load libraries needed for analysis\n",
    "library(ggplot2)\n",
    "library(DAAG)\n",
    "library(tidyverse)\n",
    "library(GGally)\n",
    "library(knitr)\n",
    "library(cowplot)\n",
    "library(energy)\n",
    "library(car)"
   ]
  },
  {
   "cell_type": "code",
   "execution_count": 2,
   "id": "d1cd2777-fb40-4268-82da-4b96b55d0c5e",
   "metadata": {
    "vscode": {
     "languageId": "r"
    }
   },
   "outputs": [],
   "source": [
    "# Load the data\n",
    "crime_data <- read.table(\"uscrime.txt\", header = TRUE)"
   ]
  },
  {
   "cell_type": "code",
   "execution_count": 3,
   "id": "17613880-f47b-4b90-abc5-18d7bf7e3fef",
   "metadata": {
    "vscode": {
     "languageId": "r"
    }
   },
   "outputs": [
    {
     "data": {
      "text/html": [
       "<table>\n",
       "<thead><tr><th scope=col>M</th><th scope=col>So</th><th scope=col>Ed</th><th scope=col>Po1</th><th scope=col>Po2</th><th scope=col>LF</th><th scope=col>M.F</th><th scope=col>Pop</th><th scope=col>NW</th><th scope=col>U1</th><th scope=col>U2</th><th scope=col>Wealth</th><th scope=col>Ineq</th><th scope=col>Prob</th><th scope=col>Time</th><th scope=col>Crime</th></tr></thead>\n",
       "<tbody>\n",
       "\t<tr><td>15.1    </td><td>1       </td><td> 9.1    </td><td> 5.8    </td><td> 5.6    </td><td>0.510   </td><td> 95.0   </td><td> 33     </td><td>30.1    </td><td>0.108   </td><td>4.1     </td><td>3940    </td><td>26.1    </td><td>0.084602</td><td>26.2011 </td><td> 791    </td></tr>\n",
       "\t<tr><td>14.3    </td><td>0       </td><td>11.3    </td><td>10.3    </td><td> 9.5    </td><td>0.583   </td><td>101.2   </td><td> 13     </td><td>10.2    </td><td>0.096   </td><td>3.6     </td><td>5570    </td><td>19.4    </td><td>0.029599</td><td>25.2999 </td><td>1635    </td></tr>\n",
       "\t<tr><td>14.2    </td><td>1       </td><td> 8.9    </td><td> 4.5    </td><td> 4.4    </td><td>0.533   </td><td> 96.9   </td><td> 18     </td><td>21.9    </td><td>0.094   </td><td>3.3     </td><td>3180    </td><td>25.0    </td><td>0.083401</td><td>24.3006 </td><td> 578    </td></tr>\n",
       "\t<tr><td>13.6    </td><td>0       </td><td>12.1    </td><td>14.9    </td><td>14.1    </td><td>0.577   </td><td> 99.4   </td><td>157     </td><td> 8.0    </td><td>0.102   </td><td>3.9     </td><td>6730    </td><td>16.7    </td><td>0.015801</td><td>29.9012 </td><td>1969    </td></tr>\n",
       "\t<tr><td>14.1    </td><td>0       </td><td>12.1    </td><td>10.9    </td><td>10.1    </td><td>0.591   </td><td> 98.5   </td><td> 18     </td><td> 3.0    </td><td>0.091   </td><td>2.0     </td><td>5780    </td><td>17.4    </td><td>0.041399</td><td>21.2998 </td><td>1234    </td></tr>\n",
       "\t<tr><td>12.1    </td><td>0       </td><td>11.0    </td><td>11.8    </td><td>11.5    </td><td>0.547   </td><td> 96.4   </td><td> 25     </td><td> 4.4    </td><td>0.084   </td><td>2.9     </td><td>6890    </td><td>12.6    </td><td>0.034201</td><td>20.9995 </td><td> 682    </td></tr>\n",
       "</tbody>\n",
       "</table>\n"
      ],
      "text/latex": [
       "\\begin{tabular}{r|llllllllllllllll}\n",
       " M & So & Ed & Po1 & Po2 & LF & M.F & Pop & NW & U1 & U2 & Wealth & Ineq & Prob & Time & Crime\\\\\n",
       "\\hline\n",
       "\t 15.1     & 1        &  9.1     &  5.8     &  5.6     & 0.510    &  95.0    &  33      & 30.1     & 0.108    & 4.1      & 3940     & 26.1     & 0.084602 & 26.2011  &  791    \\\\\n",
       "\t 14.3     & 0        & 11.3     & 10.3     &  9.5     & 0.583    & 101.2    &  13      & 10.2     & 0.096    & 3.6      & 5570     & 19.4     & 0.029599 & 25.2999  & 1635    \\\\\n",
       "\t 14.2     & 1        &  8.9     &  4.5     &  4.4     & 0.533    &  96.9    &  18      & 21.9     & 0.094    & 3.3      & 3180     & 25.0     & 0.083401 & 24.3006  &  578    \\\\\n",
       "\t 13.6     & 0        & 12.1     & 14.9     & 14.1     & 0.577    &  99.4    & 157      &  8.0     & 0.102    & 3.9      & 6730     & 16.7     & 0.015801 & 29.9012  & 1969    \\\\\n",
       "\t 14.1     & 0        & 12.1     & 10.9     & 10.1     & 0.591    &  98.5    &  18      &  3.0     & 0.091    & 2.0      & 5780     & 17.4     & 0.041399 & 21.2998  & 1234    \\\\\n",
       "\t 12.1     & 0        & 11.0     & 11.8     & 11.5     & 0.547    &  96.4    &  25      &  4.4     & 0.084    & 2.9      & 6890     & 12.6     & 0.034201 & 20.9995  &  682    \\\\\n",
       "\\end{tabular}\n"
      ],
      "text/markdown": [
       "\n",
       "| M | So | Ed | Po1 | Po2 | LF | M.F | Pop | NW | U1 | U2 | Wealth | Ineq | Prob | Time | Crime |\n",
       "|---|---|---|---|---|---|---|---|---|---|---|---|---|---|---|---|\n",
       "| 15.1     | 1        |  9.1     |  5.8     |  5.6     | 0.510    |  95.0    |  33      | 30.1     | 0.108    | 4.1      | 3940     | 26.1     | 0.084602 | 26.2011  |  791     |\n",
       "| 14.3     | 0        | 11.3     | 10.3     |  9.5     | 0.583    | 101.2    |  13      | 10.2     | 0.096    | 3.6      | 5570     | 19.4     | 0.029599 | 25.2999  | 1635     |\n",
       "| 14.2     | 1        |  8.9     |  4.5     |  4.4     | 0.533    |  96.9    |  18      | 21.9     | 0.094    | 3.3      | 3180     | 25.0     | 0.083401 | 24.3006  |  578     |\n",
       "| 13.6     | 0        | 12.1     | 14.9     | 14.1     | 0.577    |  99.4    | 157      |  8.0     | 0.102    | 3.9      | 6730     | 16.7     | 0.015801 | 29.9012  | 1969     |\n",
       "| 14.1     | 0        | 12.1     | 10.9     | 10.1     | 0.591    |  98.5    |  18      |  3.0     | 0.091    | 2.0      | 5780     | 17.4     | 0.041399 | 21.2998  | 1234     |\n",
       "| 12.1     | 0        | 11.0     | 11.8     | 11.5     | 0.547    |  96.4    |  25      |  4.4     | 0.084    | 2.9      | 6890     | 12.6     | 0.034201 | 20.9995  |  682     |\n",
       "\n"
      ],
      "text/plain": [
       "  M    So Ed   Po1  Po2  LF    M.F   Pop NW   U1    U2  Wealth Ineq Prob    \n",
       "1 15.1 1   9.1  5.8  5.6 0.510  95.0  33 30.1 0.108 4.1 3940   26.1 0.084602\n",
       "2 14.3 0  11.3 10.3  9.5 0.583 101.2  13 10.2 0.096 3.6 5570   19.4 0.029599\n",
       "3 14.2 1   8.9  4.5  4.4 0.533  96.9  18 21.9 0.094 3.3 3180   25.0 0.083401\n",
       "4 13.6 0  12.1 14.9 14.1 0.577  99.4 157  8.0 0.102 3.9 6730   16.7 0.015801\n",
       "5 14.1 0  12.1 10.9 10.1 0.591  98.5  18  3.0 0.091 2.0 5780   17.4 0.041399\n",
       "6 12.1 0  11.0 11.8 11.5 0.547  96.4  25  4.4 0.084 2.9 6890   12.6 0.034201\n",
       "  Time    Crime\n",
       "1 26.2011  791 \n",
       "2 25.2999 1635 \n",
       "3 24.3006  578 \n",
       "4 29.9012 1969 \n",
       "5 21.2998 1234 \n",
       "6 20.9995  682 "
      ]
     },
     "metadata": {},
     "output_type": "display_data"
    }
   ],
   "source": [
    "# Visually inspect the data, for this report I only printed the first few rows but inspected all of them\n",
    "head(crime_data)"
   ]
  },
  {
   "cell_type": "code",
   "execution_count": 4,
   "id": "e3e39845-dbcb-4c62-9309-a60b2c6c7a59",
   "metadata": {
    "vscode": {
     "languageId": "r"
    }
   },
   "outputs": [
    {
     "data": {
      "text/plain": [
       "       M               So               Ed             Po1       \n",
       " Min.   :11.90   Min.   :0.0000   Min.   : 8.70   Min.   : 4.50  \n",
       " 1st Qu.:13.00   1st Qu.:0.0000   1st Qu.: 9.75   1st Qu.: 6.25  \n",
       " Median :13.60   Median :0.0000   Median :10.80   Median : 7.80  \n",
       " Mean   :13.86   Mean   :0.3404   Mean   :10.56   Mean   : 8.50  \n",
       " 3rd Qu.:14.60   3rd Qu.:1.0000   3rd Qu.:11.45   3rd Qu.:10.45  \n",
       " Max.   :17.70   Max.   :1.0000   Max.   :12.20   Max.   :16.60  \n",
       "      Po2               LF              M.F              Pop        \n",
       " Min.   : 4.100   Min.   :0.4800   Min.   : 93.40   Min.   :  3.00  \n",
       " 1st Qu.: 5.850   1st Qu.:0.5305   1st Qu.: 96.45   1st Qu.: 10.00  \n",
       " Median : 7.300   Median :0.5600   Median : 97.70   Median : 25.00  \n",
       " Mean   : 8.023   Mean   :0.5612   Mean   : 98.30   Mean   : 36.62  \n",
       " 3rd Qu.: 9.700   3rd Qu.:0.5930   3rd Qu.: 99.20   3rd Qu.: 41.50  \n",
       " Max.   :15.700   Max.   :0.6410   Max.   :107.10   Max.   :168.00  \n",
       "       NW              U1                U2            Wealth    \n",
       " Min.   : 0.20   Min.   :0.07000   Min.   :2.000   Min.   :2880  \n",
       " 1st Qu.: 2.40   1st Qu.:0.08050   1st Qu.:2.750   1st Qu.:4595  \n",
       " Median : 7.60   Median :0.09200   Median :3.400   Median :5370  \n",
       " Mean   :10.11   Mean   :0.09547   Mean   :3.398   Mean   :5254  \n",
       " 3rd Qu.:13.25   3rd Qu.:0.10400   3rd Qu.:3.850   3rd Qu.:5915  \n",
       " Max.   :42.30   Max.   :0.14200   Max.   :5.800   Max.   :6890  \n",
       "      Ineq            Prob              Time           Crime       \n",
       " Min.   :12.60   Min.   :0.00690   Min.   :12.20   Min.   : 342.0  \n",
       " 1st Qu.:16.55   1st Qu.:0.03270   1st Qu.:21.60   1st Qu.: 658.5  \n",
       " Median :17.60   Median :0.04210   Median :25.80   Median : 831.0  \n",
       " Mean   :19.40   Mean   :0.04709   Mean   :26.60   Mean   : 905.1  \n",
       " 3rd Qu.:22.75   3rd Qu.:0.05445   3rd Qu.:30.45   3rd Qu.:1057.5  \n",
       " Max.   :27.60   Max.   :0.11980   Max.   :44.00   Max.   :1993.0  "
      ]
     },
     "metadata": {},
     "output_type": "display_data"
    }
   ],
   "source": [
    "# Look at a summary of the data\n",
    "summary(crime_data)"
   ]
  },
  {
   "cell_type": "markdown",
   "id": "605c3e9f-f77f-459c-875b-4c5ea9be0da7",
   "metadata": {},
   "source": [
    "Looking at the information provided at http://www.statsci.org/data/general/uscrime.html has some interesting observations. In addition to providing a description of what the data is, the Analysis section provides some useful insight on the data and states that \"crime is slightly better modelled on a log scale\". It also has an example analysis fitting a linear regression model to the data.\n",
    "\n",
    "But before all that, I don't like the labels for some of the columns in the data as it is hard to understand what they represent just by their name. A description of the attributes taken from the website can be seen below. Next, I am going to rename my columns to match the descriptions a little better. I am also going to make a couple of tweaks to the data, I am going to turn the LF, M.F, U1, and Prob variables into percentages to match the M, NW, U2 and Ineq variables. It seems odd that the U2 variable would be as a percentage and the U1 variable is set as a ratio since they represent the same thing for different age groups. I also just want the consistency of having everything listed as a percentage. I will of course have to apply the same transformation to the values from the data point we are trying to predict.\n",
    "\n",
    "    M:      percentage of males aged 14-24 in total state population\n",
    "    So:     indicator variable for Southern states (0 = No, 1 = Yes)\n",
    "    Ed:     mean years of schooling of the population aged 25 years or over\n",
    "    Po1:    per capita expenditure on police protection in 1960\n",
    "    Po2:    per capita expenditure on police protection in 1959\n",
    "    LF:     labor force participation rate of civilian urban males in the age-group 14-24\n",
    "    M.F:    number of males per 100 females\n",
    "    Pop:    state population size in hundred thousands\n",
    "    NW:     percentage of nonwhites in the population\n",
    "    U1:     unemployment rate of urban males 14-24\n",
    "    U2:     unemployment rate of urban males 35-39\n",
    "    Wealth: median value of transferable assets or family income\n",
    "    Ineq:   percentage of families earning below half the median income\n",
    "    Prob:   probability of imprisonment: ratio of number of commitments to number of offenses\n",
    "    Time:   average time in months served by offenders in state prisons before their first release\n",
    "    Crime:  number of offenses per 100,000 population in 1960"
   ]
  },
  {
   "cell_type": "code",
   "execution_count": 5,
   "id": "80fa8f04-9c08-488a-a11b-f87dbcff77d0",
   "metadata": {
    "vscode": {
     "languageId": "r"
    }
   },
   "outputs": [
    {
     "data": {
      "text/plain": [
       " percent_young_male southern_state     average_ed    per_cap_exp_1960\n",
       " Min.   :11.90      Min.   :0.0000   Min.   : 8.70   Min.   : 4.50   \n",
       " 1st Qu.:13.00      1st Qu.:0.0000   1st Qu.: 9.75   1st Qu.: 6.25   \n",
       " Median :13.60      Median :0.0000   Median :10.80   Median : 7.80   \n",
       " Mean   :13.86      Mean   :0.3404   Mean   :10.56   Mean   : 8.50   \n",
       " 3rd Qu.:14.60      3rd Qu.:1.0000   3rd Qu.:11.45   3rd Qu.:10.45   \n",
       " Max.   :17.70      Max.   :1.0000   Max.   :12.20   Max.   :16.60   \n",
       " per_cap_exp_1959 laborforce_part  percent_male     population    \n",
       " Min.   : 4.100   Min.   :48.00   Min.   :48.29   Min.   :  3.00  \n",
       " 1st Qu.: 5.850   1st Qu.:53.05   1st Qu.:49.10   1st Qu.: 10.00  \n",
       " Median : 7.300   Median :56.00   Median :49.42   Median : 25.00  \n",
       " Mean   : 8.023   Mean   :56.12   Mean   :49.56   Mean   : 36.62  \n",
       " 3rd Qu.: 9.700   3rd Qu.:59.30   3rd Qu.:49.80   3rd Qu.: 41.50  \n",
       " Max.   :15.700   Max.   :64.10   Max.   :51.71   Max.   :168.00  \n",
       "    nonwhite      unemp_youth      unemp_adult    median_assets \n",
       " Min.   : 0.20   Min.   : 7.000   Min.   :2.000   Min.   :2880  \n",
       " 1st Qu.: 2.40   1st Qu.: 8.050   1st Qu.:2.750   1st Qu.:4595  \n",
       " Median : 7.60   Median : 9.200   Median :3.400   Median :5370  \n",
       " Mean   :10.11   Mean   : 9.547   Mean   :3.398   Mean   :5254  \n",
       " 3rd Qu.:13.25   3rd Qu.:10.400   3rd Qu.:3.850   3rd Qu.:5915  \n",
       " Max.   :42.30   Max.   :14.200   Max.   :5.800   Max.   :6890  \n",
       "   low_income    prob_imprisonment  time_served    crimes_per_million\n",
       " Min.   :12.60   Min.   : 0.690    Min.   :12.20   Min.   : 342.0    \n",
       " 1st Qu.:16.55   1st Qu.: 3.270    1st Qu.:21.60   1st Qu.: 658.5    \n",
       " Median :17.60   Median : 4.210    Median :25.80   Median : 831.0    \n",
       " Mean   :19.40   Mean   : 4.709    Mean   :26.60   Mean   : 905.1    \n",
       " 3rd Qu.:22.75   3rd Qu.: 5.445    3rd Qu.:30.45   3rd Qu.:1057.5    \n",
       " Max.   :27.60   Max.   :11.980    Max.   :44.00   Max.   :1993.0    "
      ]
     },
     "metadata": {},
     "output_type": "display_data"
    }
   ],
   "source": [
    "# Assign more meaningful variable names and update several values in the dataset (not necessary but it makes it easier for me to interpret)\n",
    "# %>% is a pipe operator that allows several operations (rename and mutate) to occur\n",
    "crime_data <- crime_data %>%\n",
    "  rename(percent_young_male = M,\n",
    "         southern_state = So,\n",
    "         average_ed = Ed,\n",
    "         per_cap_exp_1960 = Po1,\n",
    "         per_cap_exp_1959 = Po2,\n",
    "         laborforce_part = LF,\n",
    "         percent_male = M.F,\n",
    "         population = Pop,\n",
    "         nonwhite = NW,\n",
    "         unemp_youth = U1,\n",
    "         unemp_adult = U2,\n",
    "         median_assets = Wealth,\n",
    "         low_income = Ineq,\n",
    "         prob_imprisonment = Prob,\n",
    "         time_served = Time,\n",
    "         crimes_per_million = Crime) %>%\n",
    "  mutate(laborforce_part = laborforce_part * 100,\n",
    "         percent_male = (percent_male / (percent_male + 100)) * 100,\n",
    "         unemp_youth = unemp_youth * 100,\n",
    "         prob_imprisonment = prob_imprisonment * 100)\n",
    "\n",
    "# print summary of the transformed data\n",
    "summary(crime_data)"
   ]
  },
  {
   "cell_type": "code",
   "execution_count": 6,
   "id": "abc9976b-94cc-4c22-b54f-1f6a499583d7",
   "metadata": {
    "vscode": {
     "languageId": "r"
    }
   },
   "outputs": [
    {
     "data": {
      "text/html": [
       "<dl class=dl-horizontal>\n",
       "\t<dt>percent_young_male</dt>\n",
       "\t\t<dd>'numeric'</dd>\n",
       "\t<dt>southern_state</dt>\n",
       "\t\t<dd>'integer'</dd>\n",
       "\t<dt>average_ed</dt>\n",
       "\t\t<dd>'numeric'</dd>\n",
       "\t<dt>per_cap_exp_1960</dt>\n",
       "\t\t<dd>'numeric'</dd>\n",
       "\t<dt>per_cap_exp_1959</dt>\n",
       "\t\t<dd>'numeric'</dd>\n",
       "\t<dt>laborforce_part</dt>\n",
       "\t\t<dd>'numeric'</dd>\n",
       "\t<dt>percent_male</dt>\n",
       "\t\t<dd>'numeric'</dd>\n",
       "\t<dt>population</dt>\n",
       "\t\t<dd>'integer'</dd>\n",
       "\t<dt>nonwhite</dt>\n",
       "\t\t<dd>'numeric'</dd>\n",
       "\t<dt>unemp_youth</dt>\n",
       "\t\t<dd>'numeric'</dd>\n",
       "\t<dt>unemp_adult</dt>\n",
       "\t\t<dd>'numeric'</dd>\n",
       "\t<dt>median_assets</dt>\n",
       "\t\t<dd>'integer'</dd>\n",
       "\t<dt>low_income</dt>\n",
       "\t\t<dd>'numeric'</dd>\n",
       "\t<dt>prob_imprisonment</dt>\n",
       "\t\t<dd>'numeric'</dd>\n",
       "\t<dt>time_served</dt>\n",
       "\t\t<dd>'numeric'</dd>\n",
       "\t<dt>crimes_per_million</dt>\n",
       "\t\t<dd>'integer'</dd>\n",
       "</dl>\n"
      ],
      "text/latex": [
       "\\begin{description*}\n",
       "\\item[percent\\textbackslash{}\\_young\\textbackslash{}\\_male] 'numeric'\n",
       "\\item[southern\\textbackslash{}\\_state] 'integer'\n",
       "\\item[average\\textbackslash{}\\_ed] 'numeric'\n",
       "\\item[per\\textbackslash{}\\_cap\\textbackslash{}\\_exp\\textbackslash{}\\_1960] 'numeric'\n",
       "\\item[per\\textbackslash{}\\_cap\\textbackslash{}\\_exp\\textbackslash{}\\_1959] 'numeric'\n",
       "\\item[laborforce\\textbackslash{}\\_part] 'numeric'\n",
       "\\item[percent\\textbackslash{}\\_male] 'numeric'\n",
       "\\item[population] 'integer'\n",
       "\\item[nonwhite] 'numeric'\n",
       "\\item[unemp\\textbackslash{}\\_youth] 'numeric'\n",
       "\\item[unemp\\textbackslash{}\\_adult] 'numeric'\n",
       "\\item[median\\textbackslash{}\\_assets] 'integer'\n",
       "\\item[low\\textbackslash{}\\_income] 'numeric'\n",
       "\\item[prob\\textbackslash{}\\_imprisonment] 'numeric'\n",
       "\\item[time\\textbackslash{}\\_served] 'numeric'\n",
       "\\item[crimes\\textbackslash{}\\_per\\textbackslash{}\\_million] 'integer'\n",
       "\\end{description*}\n"
      ],
      "text/markdown": [
       "percent_young_male\n",
       ":   'numeric'southern_state\n",
       ":   'integer'average_ed\n",
       ":   'numeric'per_cap_exp_1960\n",
       ":   'numeric'per_cap_exp_1959\n",
       ":   'numeric'laborforce_part\n",
       ":   'numeric'percent_male\n",
       ":   'numeric'population\n",
       ":   'integer'nonwhite\n",
       ":   'numeric'unemp_youth\n",
       ":   'numeric'unemp_adult\n",
       ":   'numeric'median_assets\n",
       ":   'integer'low_income\n",
       ":   'numeric'prob_imprisonment\n",
       ":   'numeric'time_served\n",
       ":   'numeric'crimes_per_million\n",
       ":   'integer'\n",
       "\n"
      ],
      "text/plain": [
       "percent_young_male     southern_state         average_ed   per_cap_exp_1960 \n",
       "         \"numeric\"          \"integer\"          \"numeric\"          \"numeric\" \n",
       "  per_cap_exp_1959    laborforce_part       percent_male         population \n",
       "         \"numeric\"          \"numeric\"          \"numeric\"          \"integer\" \n",
       "          nonwhite        unemp_youth        unemp_adult      median_assets \n",
       "         \"numeric\"          \"numeric\"          \"numeric\"          \"integer\" \n",
       "        low_income  prob_imprisonment        time_served crimes_per_million \n",
       "         \"numeric\"          \"numeric\"          \"numeric\"          \"integer\" "
      ]
     },
     "metadata": {},
     "output_type": "display_data"
    }
   ],
   "source": [
    "# Output the data class for each column\n",
    "sapply(crime_data, class)"
   ]
  },
  {
   "cell_type": "code",
   "execution_count": 7,
   "id": "34898aa2-2cf2-4d84-928f-7dd6dae995c9",
   "metadata": {
    "vscode": {
     "languageId": "r"
    }
   },
   "outputs": [
    {
     "name": "stdout",
     "output_type": "stream",
     "text": [
      "Rows Columns"
     ]
    },
    {
     "data": {
      "text/html": [
       "<table>\n",
       "<tbody>\n",
       "\t<tr><td>47</td><td>16</td></tr>\n",
       "</tbody>\n",
       "</table>\n"
      ],
      "text/latex": [
       "\\begin{tabular}{ll}\n",
       "\t 47 & 16\\\\\n",
       "\\end{tabular}\n"
      ],
      "text/markdown": [
       "\n",
       "| 47 | 16 |\n",
       "\n"
      ],
      "text/plain": [
       "     [,1] [,2]\n",
       "[1,] 47   16  "
      ]
     },
     "metadata": {},
     "output_type": "display_data"
    }
   ],
   "source": [
    "# Double check size of the data\n",
    "cat('Rows','Columns')\n",
    "t(dim(crime_data))"
   ]
  },
  {
   "attachments": {},
   "cell_type": "markdown",
   "id": "b12c2536-3c59-4c83-b444-ade982f1c239",
   "metadata": {},
   "source": [
    "This lets me know that I have a table with 47 rows and 16 columns. The data is a combination of integer and float (numeric) values. Just thinking about the data and what it represents I expect collinearity between per_cap_exp_1960 and per_cap_exp_1959, and between unemp_youth and unemp_adult. One of the things I'll do is see if this is true and if any other collinearity exists since it can create issues with regression models."
   ]
  },
  {
   "cell_type": "markdown",
   "id": "c26943aa-bc3c-4f0c-9f46-92d89e3eac6f",
   "metadata": {},
   "source": [
    "#### Step 2 - Check that the Data meets the Assumptions of Simple Linear Regression\n",
    "Linear regression should only be used on data that meets the folloing assumptions, which I found at https://www.statisticssolutions.com/free-resources/directory-of-statistical-analyses/assumptions-of-linear-regression/:\n",
    "\n",
    "1) Linear relationship - The relationship between the independent and dependent variables should be linear\n",
    "2) Multivariate normality - The dataset should be multivariate normal\n",
    "3) Limited multicollinearity - Multicollinearity occurs when the independent variables are too highly correlated with each other\n",
    "4) Limited auto-correlation - Autocorrelation occurs when the residuals are not independent from each other.  In other words when the value of y(x+1) is not independent from the value of y(x)\n",
    "5) Homoscendasticity - Heteroscedasticity is present when the size of the error term (or the variance) differs across values of an independent variable.\n",
    "\n",
    "I'm going to check for each of these assumptions below."
   ]
  },
  {
   "cell_type": "markdown",
   "id": "aa4e8595-b869-4bb5-920a-890b9082502d",
   "metadata": {},
   "source": [
    "##### Assumption 1 - Linear relationship\n",
    "To look at the relationship between the various inpdependent variables and the crimes_per_million variable I am going to create scatter plots and visually inspect them."
   ]
  },
  {
   "cell_type": "code",
   "execution_count": 8,
   "id": "0891834d-4687-4800-877d-e89c7f791161",
   "metadata": {
    "vscode": {
     "languageId": "r"
    }
   },
   "outputs": [
    {
     "data": {
      "image/png": "[encoded data removed]",
      "text/plain": [
       "plot without title"
      ]
     },
     "metadata": {},
     "output_type": "display_data"
    }
   ],
   "source": [
    "# Define a vector of colors for each variable\n",
    "variable_colors <- c(\"percent_young_male\" = \"red\",\n",
    "                     \"average_ed\" = \"blue\",\n",
    "                     \"per_cap_exp_1960\" = \"green\",\n",
    "                     \"per_cap_exp_1959\" = \"orange\",\n",
    "                     \"laborforce_part\" = \"purple\",\n",
    "                     \"percent_male\" = \"cyan\",\n",
    "                     \"population\" = \"magenta\",\n",
    "                     \"nonwhite\" = \"black\",\n",
    "                     \"unemp_youth\" = \"brown\",\n",
    "                     \"unemp_adult\" = \"pink\",\n",
    "                     \"median_assets\" = \"gray\",\n",
    "                     \"low_income\" = \"darkgreen\",\n",
    "                     \"prob_imprisonment\" = \"darkblue\",\n",
    "                     \"time_served\" = \"darkred\")\n",
    "\n",
    "# Set the figure dimensions for display in the notebook\n",
    "options(repr.plot.width = 10, repr.plot.height = 21)\n",
    "\n",
    "# Create plots for each variable\n",
    "plots <- list()\n",
    "\n",
    "# Add plots to the list\n",
    "for (var_name in names(variable_colors)) {\n",
    "  plot <- ggplot(crime_data, aes_string(x = var_name, y = \"crimes_per_million\", color = as.factor(var_name))) +\n",
    "    geom_point(size = 2) +\n",
    "    labs(x = var_name, y = \"Crimes per Million\") +\n",
    "    theme_minimal() +\n",
    "    scale_color_manual(values = variable_colors[var_name]) +  # Set color scale for this plot\n",
    "    theme(panel.border = element_rect(color = \"black\", fill = NA),\n",
    "          legend.position = \"none\")\n",
    "  \n",
    "  plots[[var_name]] <- plot\n",
    "}\n",
    "\n",
    "# Create a grid of plots\n",
    "cowplot::plot_grid(plotlist = plots, ncol = 2)"
   ]
  },
  {
   "cell_type": "markdown",
   "id": "36ebac1d-cc70-4db0-8d18-00b3e5fcb7e1",
   "metadata": {},
   "source": [
    "Some of the plots have clear linear relationship (per_cap_exp_1960 for example) while others are less obvious. They don't show any obvious non-linear relatinpships (polynomial, logistic etc.) so I am going to calculate the correlation coefficient for each independent variable below to get a better sense of the relationship. I am calculating the Pearson correlation coefficient which is a measure of the strength and direction of the linear relatinoship between the two variables and will output a heatmap that shows those values as well as a print out of the actual values."
   ]
  },
  {
   "cell_type": "code",
   "execution_count": 9,
   "id": "131c44be-49f3-455d-9033-9f7cf2a347ab",
   "metadata": {
    "vscode": {
     "languageId": "r"
    }
   },
   "outputs": [
    {
     "data": {
      "image/png": "[encoded data removed]",
      "text/plain": [
       "plot without title"
      ]
     },
     "metadata": {},
     "output_type": "display_data"
    }
   ],
   "source": [
    "# Calculate the corelatinp coefficients between all variables\n",
    "correlations <- cor(crime_data)\n",
    "\n",
    "# Plot heatmap\n",
    "options(repr.plot.width=5, repr.plot.height=5)\n",
    "heatmap(correlations, symm = TRUE, margins = c(10,10), Rowv = NA, Colv = NA)"
   ]
  },
  {
   "cell_type": "markdown",
   "id": "4b810d4f-deb6-4ea6-ba79-fb6fbc287a72",
   "metadata": {},
   "source": [
    "Looking at the heatmap a couple things jump out, the first is the high correlation coefficient which implies colinearity between unemp_adult and unemp_yout, and between per_cap_exp_1959 and per_cap_exp_1960. It also shows strong correlation between per_cap_exp_1960, median_assets and crimes_per_million. Next I'll print out the actual correlation values."
   ]
  },
  {
   "cell_type": "code",
   "execution_count": 10,
   "id": "2fe23632-c02b-4184-83a1-99cbd2ae8b79",
   "metadata": {
    "vscode": {
     "languageId": "r"
    }
   },
   "outputs": [
    {
     "name": "stdout",
     "output_type": "stream",
     "text": [
      "[1] \"percent_young_male : -0.0894724007536989\"\n",
      "[1] \"southern_state : -0.0906369589518858\"\n",
      "[1] \"average_ed : 0.322834869529708\"\n",
      "[1] \"per_cap_exp_1960 : 0.68760445570693\"\n",
      "[1] \"per_cap_exp_1959 : 0.666714142200937\"\n",
      "[1] \"laborforce_part : 0.188866347502635\"\n",
      "[1] \"percent_male : 0.21157263163909\"\n",
      "[1] \"population : 0.337474061306272\"\n",
      "[1] \"nonwhite : 0.0325988360341708\"\n",
      "[1] \"unemp_youth : -0.0504779180638913\"\n",
      "[1] \"unemp_adult : 0.177320647706051\"\n",
      "[1] \"median_assets : 0.441319948973445\"\n",
      "[1] \"low_income : -0.179023730641599\"\n",
      "[1] \"prob_imprisonment : -0.427422188066402\"\n",
      "[1] \"time_served : 0.149866061742601\"\n",
      "[1] \"crimes_per_million : 1\"\n"
     ]
    }
   ],
   "source": [
    "# Extract the correlations with 'crimes_per_million' column and convert it to a vector\n",
    "cor_with_crimes <- correlations['crimes_per_million', ]\n",
    "cor_with_crimes <- as.vector(cor_with_crimes[!is.na(cor_with_crimes)])\n",
    "\n",
    "# Print column names and their corresponding correlations\n",
    "column_names <- colnames(correlations)\n",
    "for (i in seq_along(cor_with_crimes)) {\n",
    "  print(paste(column_names[i], \":\", cor_with_crimes[i]))\n",
    "}"
   ]
  },
  {
   "cell_type": "markdown",
   "id": "5d67f6f8-5602-4a7c-bfaf-b1bf78a131b6",
   "metadata": {},
   "source": [
    "This shows that the per_cap_exp_1960 and per_cap_exp_1959 have very strong correlations with crimes_per_million (~ .67). The other independent variables that have strong correlations are median_assets (~ 0.44), prob_imprisonment (~ -0.44), population (0.34), and average_ed (0.32). Some variable with very weak correlations include percent_young_male, southern_state, and unemp_youth. It is likely that only using the variable that exhibit strong correlations with crimes_per_million would create a better model.\n",
    "\n",
    "Interestingly enough, the positive relationships with the per capita expenditure and crimes per million indicates that the more money that is spent the higher the crime rate, this makes sense as we expect communities with higher crime rates to spend more money combatting it. It is a perfect example of \"correlation does not imply causation\", as spending more money on policing wouldn't cause an increase in crime rates. Median assets and average education are also interesting, the positive relationship indicates that as they increase so does the crime rate. This could incdicate large wealth disparities in those communities or more crimes of opportunity. It would be interesting to see the data that is used to create those stats to understand those relationships more. But for now, we are on to checking the normality of the data!"
   ]
  },
  {
   "cell_type": "markdown",
   "id": "da79c96c-3019-438d-ac81-9a8420ac7ad2",
   "metadata": {},
   "source": [
    "##### Assumption 2 - Multivariate Normality\n",
    "Next I am going to check for multivariate normality which is described here: https://online.stat.psu.edu/stat505/book/export/html/636. This is checking if every linear combination of variables has a univariate normal distribution. There are several ways to do this but I am going to use the Energy test based on the documentation found here: https://www.statology.org/multivariate-normality-test-r/."
   ]
  },
  {
   "cell_type": "code",
   "execution_count": 11,
   "id": "84d038aa-3dda-46b3-a0ee-7e84d6352bcc",
   "metadata": {
    "vscode": {
     "languageId": "r"
    }
   },
   "outputs": [
    {
     "data": {
      "text/plain": [
       "\n",
       "\tEnergy test of multivariate normality: estimated parameters\n",
       "\n",
       "data:  x, sample size 47, dimension 15, replicates 10000\n",
       "E-statistic = 2.1876, p-value < 2.2e-16\n"
      ]
     },
     "metadata": {},
     "output_type": "display_data"
    }
   ],
   "source": [
    "# Check for multivariate normality, leaving out the southern_state variable since it is really a factor and is not continous\n",
    "mvnorm.etest(crime_data[, !(names(crime_data) %in% c(\"southern_state\"))], R=10000)"
   ]
  },
  {
   "cell_type": "markdown",
   "id": "56cbf372-2408-4907-bcc9-e81786a2940a",
   "metadata": {},
   "source": [
    "The low p-value indicates that we should reject the null hypothesis (The variables follow a multivariate normal distribution) and shows that we do have evidence that indicates our variables do not follow a a multivariate distribution. I am going to check the univariate normality of each of the variables below to see if it provides any insight. While variables following a univariate normal distribution doesn't mean that as a whole they will be multivariate, it could provide insight into where the issue is coming from. I am going to include a historgram, QQ plot, box plot, and run the Shapiro-Wilk test. This is overkill but I'm interested in how to set up a more robust system to check for assumptions when their is more than one option."
   ]
  },
  {
   "cell_type": "code",
   "execution_count": 12,
   "id": "72718432-6f16-41f6-bf88-a47257b874c4",
   "metadata": {
    "vscode": {
     "languageId": "r"
    }
   },
   "outputs": [
    {
     "name": "stdout",
     "output_type": "stream",
     "text": [
      "Shapiro-Wilk Test for percent_young_male : \n",
      "  Test Statistic: 0.9479701 \n",
      "  p-value: 0.03607538 \n",
      "\n"
     ]
    },
    {
     "data": {
      "image/png": "[encoded data removed]",
      "text/plain": [
       "Plot with title \"Boxplot of percent_young_male\""
      ]
     },
     "metadata": {},
     "output_type": "display_data"
    },
    {
     "name": "stdout",
     "output_type": "stream",
     "text": [
      "Shapiro-Wilk Test for average_ed : \n",
      "  Test Statistic: 0.9194494 \n",
      "  p-value: 0.003196959 \n",
      "\n"
     ]
    },
    {
     "data": {
      "image/png": "[encoded data removed]",
      "text/plain": [
       "Plot with title \"Boxplot of average_ed\""
      ]
     },
     "metadata": {},
     "output_type": "display_data"
    },
    {
     "name": "stdout",
     "output_type": "stream",
     "text": [
      "Shapiro-Wilk Test for per_cap_exp_1960 : \n",
      "  Test Statistic: 0.9230723 \n",
      "  p-value: 0.004280818 \n",
      "\n"
     ]
    },
    {
     "data": {
      "image/png": "[encoded data removed]",
      "text/plain": [
       "Plot with title \"Boxplot of per_cap_exp_1960\""
      ]
     },
     "metadata": {},
     "output_type": "display_data"
    },
    {
     "name": "stdout",
     "output_type": "stream",
     "text": [
      "Shapiro-Wilk Test for per_cap_exp_1959 : \n",
      "  Test Statistic: 0.928306 \n",
      "  p-value: 0.006580799 \n",
      "\n"
     ]
    },
    {
     "data": {
      "image/png": "[encoded data removed]",
      "text/plain": [
       "Plot with title \"Boxplot of per_cap_exp_1959\""
      ]
     },
     "metadata": {},
     "output_type": "display_data"
    },
    {
     "name": "stdout",
     "output_type": "stream",
     "text": [
      "Shapiro-Wilk Test for laborforce_part : \n",
      "  Test Statistic: 0.9651545 \n",
      "  p-value: 0.1719905 \n",
      "\n"
     ]
    },
    {
     "data": {
      "image/png": "[encoded data removed]",
      "text/plain": [
       "Plot with title \"Boxplot of laborforce_part\""
      ]
     },
     "metadata": {},
     "output_type": "display_data"
    },
    {
     "name": "stdout",
     "output_type": "stream",
     "text": [
      "Shapiro-Wilk Test for percent_male : \n",
      "  Test Statistic: 0.9301336 \n",
      "  p-value: 0.007664791 \n",
      "\n"
     ]
    },
    {
     "data": {
      "image/png": "[encoded data removed]",
      "text/plain": [
       "Plot with title \"Boxplot of percent_male\""
      ]
     },
     "metadata": {},
     "output_type": "display_data"
    },
    {
     "name": "stdout",
     "output_type": "stream",
     "text": [
      "Shapiro-Wilk Test for population : \n",
      "  Test Statistic: 0.7622085 \n",
      "  p-value: 2.490781e-07 \n",
      "\n"
     ]
    },
    {
     "data": {
      "image/png": "[encoded data removed]",
      "text/plain": [
       "Plot with title \"Boxplot of population\""
      ]
     },
     "metadata": {},
     "output_type": "display_data"
    },
    {
     "name": "stdout",
     "output_type": "stream",
     "text": [
      "Shapiro-Wilk Test for nonwhite : \n",
      "  Test Statistic: 0.820361 \n",
      "  p-value: 4.68722e-06 \n",
      "\n"
     ]
    },
    {
     "data": {
      "image/png": "[encoded data removed]",
      "text/plain": [
       "Plot with title \"Boxplot of nonwhite\""
      ]
     },
     "metadata": {},
     "output_type": "display_data"
    },
    {
     "name": "stdout",
     "output_type": "stream",
     "text": [
      "Shapiro-Wilk Test for unemp_youth : \n",
      "  Test Statistic: 0.9315271 \n",
      "  p-value: 0.008616725 \n",
      "\n"
     ]
    },
    {
     "data": {
      "image/png": "[encoded data removed]",
      "text/plain": [
       "Plot with title \"Boxplot of unemp_youth\""
      ]
     },
     "metadata": {},
     "output_type": "display_data"
    },
    {
     "name": "stdout",
     "output_type": "stream",
     "text": [
      "Shapiro-Wilk Test for unemp_adult : \n",
      "  Test Statistic: 0.9675499 \n",
      "  p-value: 0.2133081 \n",
      "\n"
     ]
    },
    {
     "data": {
      "image/png": "[encoded data removed]",
      "text/plain": [
       "Plot with title \"Boxplot of unemp_adult\""
      ]
     },
     "metadata": {},
     "output_type": "display_data"
    },
    {
     "name": "stdout",
     "output_type": "stream",
     "text": [
      "Shapiro-Wilk Test for median_assets : \n",
      "  Test Statistic: 0.9728094 \n",
      "  p-value: 0.3375134 \n",
      "\n"
     ]
    },
    {
     "data": {
      "image/png": "[encoded data removed]",
      "text/plain": [
       "Plot with title \"Boxplot of median_assets\""
      ]
     },
     "metadata": {},
     "output_type": "display_data"
    },
    {
     "name": "stdout",
     "output_type": "stream",
     "text": [
      "Shapiro-Wilk Test for low_income : \n",
      "  Test Statistic: 0.936528 \n",
      "  p-value: 0.01319091 \n",
      "\n"
     ]
    },
    {
     "data": {
      "image/png": "[encoded data removed]",
      "text/plain": [
       "Plot with title \"Boxplot of low_income\""
      ]
     },
     "metadata": {},
     "output_type": "display_data"
    },
    {
     "name": "stdout",
     "output_type": "stream",
     "text": [
      "Shapiro-Wilk Test for prob_imprisonment : \n",
      "  Test Statistic: 0.9400547 \n",
      "  p-value: 0.01790518 \n",
      "\n"
     ]
    },
    {
     "data": {
      "image/png": "[encoded data removed]",
      "text/plain": [
       "Plot with title \"Boxplot of prob_imprisonment\""
      ]
     },
     "metadata": {},
     "output_type": "display_data"
    },
    {
     "name": "stdout",
     "output_type": "stream",
     "text": [
      "Shapiro-Wilk Test for time_served : \n",
      "  Test Statistic: 0.9805057 \n",
      "  p-value: 0.6132446 \n",
      "\n"
     ]
    },
    {
     "data": {
      "image/png": "[encoded data removed]",
      "text/plain": [
       "Plot with title \"Boxplot of time_served\""
      ]
     },
     "metadata": {},
     "output_type": "display_data"
    },
    {
     "name": "stdout",
     "output_type": "stream",
     "text": [
      "Shapiro-Wilk Test for crimes_per_million : \n",
      "  Test Statistic: 0.9127259 \n",
      "  p-value: 0.001882496 \n",
      "\n"
     ]
    },
    {
     "data": {
      "image/png": "[encoded data removed]",
      "text/plain": [
       "Plot with title \"Boxplot of crimes_per_million\""
      ]
     },
     "metadata": {},
     "output_type": "display_data"
    }
   ],
   "source": [
    "# Set plot area size for each plot\n",
    "options(repr.plot.width=8, repr.plot.height=3)\n",
    "\n",
    "for (col in names(crime_data)) {\n",
    "  # Skip plotting the 'crimes_per_million' column\n",
    "  if (col == \"southern_state\") next\n",
    "  \n",
    "  # Create a new plot window for each variable\n",
    "  par(mfrow = c(1, 3))  # Set up a 1x2 layout for the plots\n",
    "  \n",
    "  # Plot histogram\n",
    "  hist(crime_data[[col]], \n",
    "       main = paste(\"Histogram of\", col), \n",
    "       cex.main = 1,\n",
    "       xlab = \"\",\n",
    "       ylab = \"\",\n",
    "       cex.axis = 0.75  \n",
    "  ) \n",
    "  \n",
    "  # Plot QQ plot\n",
    "  qqnorm(crime_data[[col]], \n",
    "         main = paste(\"QQ Plot of\", col), \n",
    "         cex.main = 1, \n",
    "         xlab = \"\",     \n",
    "         ylab = \"\",    \n",
    "         cex.axis = 0.75 \n",
    "  ) \n",
    "  qqline(crime_data[[col]])\n",
    "    \n",
    "  # Plot boxplot\n",
    "  boxplot(crime_data[[col]], \n",
    "          main = paste(\"Boxplot of\", col), \n",
    "          cex.main = 1,\n",
    "          xlab = \"\",\n",
    "          ylab = \"\",\n",
    "          cex.axis = 0.75\n",
    "  )\n",
    "  \n",
    "  # Perform Shapiro-Wilk test\n",
    "  shapiro_test <- shapiro.test(crime_data[[col]])\n",
    "  cat(\"Shapiro-Wilk Test for\", col, \":\", \"\\n\")\n",
    "  cat(\"  Test Statistic:\", shapiro_test$statistic, \"\\n\")\n",
    "  cat(\"  p-value:\", shapiro_test$p.value, \"\\n\\n\")\n",
    "  \n",
    "  # Reset the plot layout\n",
    "  par(mfrow = c(1, 1))\n",
    "}"
   ]
  },
  {
   "cell_type": "markdown",
   "id": "a23d3007-603b-42c4-b983-56ce3539af41",
   "metadata": {},
   "source": [
    "When interpreting the results from this I am looking for the following:\n",
    "1) Shapiro-Wilk\n",
    "    * Test Statistic - This measures the discrepancy between the observed data and the expected values under the assumption of normality. Values close to 1 indicate normal distribution\n",
    "    * p-value - This quantifies the strength of evidence that the null hypothesis (the data in normaly distributed) is wrong. Small p-values (typically <0.05) indicate that the data is not normally distributed.\n",
    "2) Histogram - Looking for symmetry about the center value and a general bell shape\n",
    "3) QQ Plot - Look that the values are close to the QQ line\n",
    "4) Box-and-Whisker - Look for symmetry, whisker lengths are roughly the same size as each section of the box, and the median is in the center of the box\n",
    "\n",
    "When inspecting the results it does show that several of the values do not follow a normal distribution. It could be beneficial for the model to do a transformation to fix this, or consider dropping those variables from the model. However, I am going to move forward with the analysis without doing this for now and will use this information later on as I \"tune\" the model."
   ]
  },
  {
   "cell_type": "markdown",
   "id": "930f2983-5b22-41c9-9183-0512c83678ef",
   "metadata": {},
   "source": [
    "##### Assumption 3 - Multicollinearity\n",
    "Next I am going to check if the independent variables are highly correlated with each other. To look at this I am going to check the:\n",
    "1) Correlation Matrix (same as above)\n",
    "2) Tolerance - Measures the influence of one independent variable on all other independent variables, T values less than 0.1 indicate their could be multicollinearity.\n",
    "3) Variance Inflation Factor (VIF) - Defined as 1 over the tolerance, a value greater than 5 indicates multicollinearity may be present."
   ]
  },
  {
   "cell_type": "code",
   "execution_count": 13,
   "id": "9309253b-0a9b-4979-924b-94a3b61b1acd",
   "metadata": {
    "vscode": {
     "languageId": "r"
    }
   },
   "outputs": [
    {
     "data": {
      "image/png": "[encoded data removed]",
      "text/plain": [
       "plot without title"
      ]
     },
     "metadata": {},
     "output_type": "display_data"
    }
   ],
   "source": [
    "# Plot heatmap\n",
    "options(repr.plot.width=5, repr.plot.height=5)\n",
    "heatmap(correlations, symm = TRUE, margins = c(10,10), Rowv = NA, Colv = NA)"
   ]
  },
  {
   "cell_type": "markdown",
   "id": "84573ab9-b628-4cc4-a06a-372c32d00905",
   "metadata": {},
   "source": [
    "The heatmap clearly shows a strong correlation between per_cap_exp_1959 and per_cap_exp_1960, southern_state and nonwhite/low_income, and median assets with average_ed, per_cap_exp_1959, and per_cap_exp_1960. Considering eliminating some of these variables or applying a principal componenent analysis to reduce dimensionality could help solve this. But I want to see the actual values first so I will display them below."
   ]
  },
  {
   "cell_type": "code",
   "execution_count": 14,
   "id": "300d0665-145a-4bd0-bf60-d0f9b627aa0e",
   "metadata": {
    "vscode": {
     "languageId": "r"
    }
   },
   "outputs": [
    {
     "name": "stdout",
     "output_type": "stream",
     "text": [
      "The variables nonwhite and southern_state have a correlation of: 0.7671026 \n",
      "The variables per_cap_exp_1959 and per_cap_exp_1960 have a correlation of: 0.9935865 \n",
      "The variables median_assets and per_cap_exp_1960 have a correlation of: 0.7872253 \n",
      "The variables median_assets and per_cap_exp_1959 have a correlation of: 0.7942621 \n"
     ]
    }
   ],
   "source": [
    "# Get indices of correlations greater than cutoff (going with 0.75 but tried several values)\n",
    "high_correlation_indices <- which(correlations > 0.75 & correlations < 1, arr.ind = TRUE)\n",
    "\n",
    "# Extract row and column indices\n",
    "row_indices <- high_correlation_indices[, 1]\n",
    "col_indices <- high_correlation_indices[, 2]\n",
    "\n",
    "# Extract variable names using indices\n",
    "variable1 <- rownames(correlations)[row_indices]\n",
    "variable2 <- colnames(correlations)[col_indices]\n",
    "\n",
    "# Output variable names and their corresponding correlations\n",
    "# Checking to make sure pair hasn't already been printed\n",
    "processed_list <- list()\n",
    "for (i in 1:length(variable1)) {\n",
    "    if (!any(sapply(processed_list, function(pair) all(pair == c(variable1[i], variable2[i]))))) {\n",
    "        cat(\"The variables\", variable1[i], \"and\", variable2[i], \"have a correlation of:\", correlations[row_indices[i], col_indices[i]], \"\\n\")\n",
    "        processed_list <- c(processed_list, list(c(variable2[i], variable1[i])))\n",
    "    }\n",
    "}"
   ]
  },
  {
   "cell_type": "markdown",
   "id": "5f782aea-cef8-4c9d-9dbf-e7436fa699d2",
   "metadata": {},
   "source": [
    "Looking at the correlation matrix and the values that are above my cutoff point, it shows that their is strong correlation between southern_state and nonwhite, per_cap_exp_1959 and per_cap_exp_1960, and median_assets and the per_cap_exp values. Next I'll calculate the Tolerance and VIF values. To do this I have to actually create the linear regression model and then use the vif() function from the car package. Since Tolerance is just the inverse of VIF I'm only going to ouput the VIF values."
   ]
  },
  {
   "cell_type": "code",
   "execution_count": 15,
   "id": "3438663f-2032-49c5-bd2d-a5b2dafcadcb",
   "metadata": {
    "vscode": {
     "languageId": "r"
    }
   },
   "outputs": [
    {
     "name": "stdout",
     "output_type": "stream",
     "text": [
      "percent_young_male     southern_state         average_ed   per_cap_exp_1960 \n",
      "          2.901436           5.346488           5.084003         104.665134 \n",
      "  per_cap_exp_1959    laborforce_part       percent_male         population \n",
      "        113.595206           3.704564           3.795044           2.525761 \n",
      "          nonwhite        unemp_youth        unemp_adult      median_assets \n",
      "          4.676684           6.054271           5.092605          10.556950 \n",
      "        low_income  prob_imprisonment        time_served \n",
      "          8.665569           2.809092           2.714868 \n"
     ]
    }
   ],
   "source": [
    "# Fit your model (replace lm() with the appropriate function for your model)\n",
    "crime_lm_model <- lm(crimes_per_million ~ ., data = crime_data)\n",
    "\n",
    "# Calculate VIF\n",
    "vif_values <- vif(crime_lm_model)\n",
    "\n",
    "# Calculate tolerance (the inverse of VIF)\n",
    "tolerance_values <- 1 / vif_values\n",
    "\n",
    "# Display VIF and tolerance values\n",
    "print(vif_values)"
   ]
  },
  {
   "cell_type": "markdown",
   "id": "02f45133-9398-4d0e-aa1a-29e8e2d5a15b",
   "metadata": {},
   "source": [
    "The VIF values also indicate strong coliniearity for the indepent variables per_cap_exp_1959, per_cap_exp_1960, and median_assets but not for southern_state and nonwhite. For now I am going to move forward without removing any of these variables but will likely need to address the issue before our linear regression model can provide anything meaningful."
   ]
  },
  {
   "cell_type": "markdown",
   "id": "08937b9b-27d3-4e12-9ddf-c54b8fdcdcb3",
   "metadata": {},
   "source": [
    "##### Assumption 4 - Limited Auto-Correlation\n",
    "Autocorrelation occurs when the residuals are not independent from each other. In other words when the value of y(x+1) is not independent from the value of y(x). This atypical for data that is not time-series data so shouldn't be occuring in our model. Whith that said, for the sake of checking all the assumptions I will plot out the Residuals vs. Lagged Residuals graph and inspect the distribution for any patterns."
   ]
  },
  {
   "cell_type": "code",
   "execution_count": 16,
   "id": "c1769220-0a23-4e37-a951-56a5390921b6",
   "metadata": {
    "vscode": {
     "languageId": "r"
    }
   },
   "outputs": [
    {
     "data": {
      "image/png": "[encoded data removed]",
      "text/plain": [
       "Plot with title \"Residuals vs. Lagged Residuals\""
      ]
     },
     "metadata": {},
     "output_type": "display_data"
    }
   ],
   "source": [
    "options(repr.plot.width=4, repr.plot.height=4)\n",
    "\n",
    "# Get residual values\n",
    "residuals <- residuals(crime_lm_model)\n",
    "\n",
    "# Plot residuals vs. lagged residuals\n",
    "lagged_residuals <- c(NA, residuals[-length(residuals)])\n",
    "plot(residuals, lagged_residuals, xlab = \"Residuals\", ylab = \"Lagged Residuals\", main = \"Residuals vs. Lagged Residuals\", cex.axis = 0.75, cex.lab = 0.75, cex.main = 0.8)\n"
   ]
  },
  {
   "cell_type": "markdown",
   "id": "65d9ea66-8f1c-4b5a-9e17-647a6badfad9",
   "metadata": {},
   "source": [
    "As expected, the model doesn't show any clear patterns or funneling that would indicate we have high Auto-Correlation."
   ]
  },
  {
   "cell_type": "markdown",
   "id": "e4c89fff-1d40-494f-8718-c8f59d0a186f",
   "metadata": {},
   "source": [
    "##### Assumption 5 - Homoscendasticity\n",
    "Homoscedasticity, also known as homogeneity of variance, is a key assumption in linear regression. It refers to the situation where the variance of the residuals (errors) is constant across all levels of the independent variables. In other words, it means that the spread of the residuals should remain constant as the values of the predictors change. I am going to check this by plotting the Residuals vs. Fitted Values Plot. I will evaluate whether the variance of the residuals is constant across different levels of the independent variables. If the spread of residuals changes systematically with the fitted values, it indicates heteroscedasticity, violating the assumption of homoscedasticity."
   ]
  },
  {
   "cell_type": "code",
   "execution_count": 17,
   "id": "46e53ea1-3584-49c7-b554-5bde97d3be84",
   "metadata": {
    "vscode": {
     "languageId": "r"
    }
   },
   "outputs": [
    {
     "data": {
      "image/png": "[encoded data removed]",
      "text/plain": [
       "Plot with title \"\""
      ]
     },
     "metadata": {},
     "output_type": "display_data"
    }
   ],
   "source": [
    "plot(crime_lm_model, which = 1, cex.axis = 0.75, cex.lab = 0.75, cex.main = 0.75, sub = \"\")"
   ]
  },
  {
   "cell_type": "markdown",
   "id": "10145fda-707a-4464-a6bf-e810e4751484",
   "metadata": {},
   "source": [
    "Inspecting the graph their is no disearnable pattern or funneling so their is no indication of heteroscedasticity."
   ]
  },
  {
   "cell_type": "markdown",
   "id": "8fafc1e5-1aae-41d9-ac2f-18631664a64c",
   "metadata": {},
   "source": [
    "#### Step 3 - Fit a Linear Regression Model to the Data and Assess the Model\n",
    "Next I am going to fit the linear model to the entire dataset and asses it's quality. I already know from the analysis above that I am going to need to drop some of the variables due to colinearity and potentially transform the variable so I have multivariate normality, but I want to see what the model looks like with unchanged variables first."
   ]
  },
  {
   "cell_type": "code",
   "execution_count": 18,
   "id": "3c3bfaec-4bfa-4527-84ac-2108169a2abd",
   "metadata": {
    "vscode": {
     "languageId": "r"
    }
   },
   "outputs": [
    {
     "data": {
      "text/plain": [
       "\n",
       "Call:\n",
       "lm(formula = crimes_per_million ~ ., data = crime_data)\n",
       "\n",
       "Coefficients:\n",
       "       (Intercept)  percent_young_male      southern_state          average_ed  \n",
       "       -7810.18657            87.21496            -4.85551           187.76328  \n",
       "  per_cap_exp_1960    per_cap_exp_1959     laborforce_part        percent_male  \n",
       "         192.38265          -108.88578            -6.85354            72.19010  \n",
       "        population            nonwhite         unemp_youth         unemp_adult  \n",
       "          -0.72301             4.25348           -58.94416           168.43027  \n",
       "     median_assets          low_income   prob_imprisonment         time_served  \n",
       "           0.09478            70.40100           -48.54090            -3.43062  \n"
      ]
     },
     "metadata": {},
     "output_type": "display_data"
    }
   ],
   "source": [
    "# Create Linear Regression Model and print out the results\n",
    "options(scipen = 4) # get's rid of scientific notation\n",
    "crime_lm_model <- lm(crimes_per_million ~ ., data = crime_data)\n",
    "crime_lm_model"
   ]
  },
  {
   "cell_type": "code",
   "execution_count": 19,
   "id": "32f1e650-a6c2-45c3-9f47-5a4a9fdf8d19",
   "metadata": {
    "vscode": {
     "languageId": "r"
    }
   },
   "outputs": [
    {
     "data": {
      "text/plain": [
       "\n",
       "Call:\n",
       "lm(formula = crimes_per_million ~ ., data = crime_data)\n",
       "\n",
       "Residuals:\n",
       "    Min      1Q  Median      3Q     Max \n",
       "-392.18  -99.17   -8.24  113.08  511.01 \n",
       "\n",
       "Coefficients:\n",
       "                      Estimate  Std. Error t value Pr(>|t|)   \n",
       "(Intercept)        -7810.18657  3295.97317  -2.370  0.02421 * \n",
       "percent_young_male    87.21496    41.73991   2.089  0.04496 * \n",
       "southern_state        -4.85551   148.66879  -0.033  0.97416   \n",
       "average_ed           187.76328    62.07087   3.025  0.00496 **\n",
       "per_cap_exp_1960     192.38265   106.01461   1.815  0.07926 . \n",
       "per_cap_exp_1959    -108.88578   117.38723  -0.928  0.36079   \n",
       "laborforce_part       -6.85354    14.66759  -0.467  0.64358   \n",
       "percent_male          72.19010    81.20549   0.889  0.38086   \n",
       "population            -0.72301     1.28558  -0.562  0.57789   \n",
       "nonwhite               4.25348     6.47668   0.657  0.51620   \n",
       "unemp_youth          -58.94416    42.03035  -1.402  0.17073   \n",
       "unemp_adult          168.43027    82.28974   2.047  0.04924 * \n",
       "median_assets          0.09478     0.10370   0.914  0.36778   \n",
       "low_income            70.40100    22.72307   3.098  0.00412 **\n",
       "prob_imprisonment    -48.54090    22.70120  -2.138  0.04049 * \n",
       "time_served           -3.43062     7.16006  -0.479  0.63521   \n",
       "---\n",
       "Signif. codes:  0 '***' 0.001 '**' 0.01 '*' 0.05 '.' 0.1 ' ' 1\n",
       "\n",
       "Residual standard error: 208.9 on 31 degrees of freedom\n",
       "Multiple R-squared:  0.8035,\tAdjusted R-squared:  0.7083 \n",
       "F-statistic: 8.448 on 15 and 31 DF,  p-value: 0.0000003448\n"
      ]
     },
     "metadata": {},
     "output_type": "display_data"
    }
   ],
   "source": [
    "# Print out the summary statistics for the model\n",
    "summary(crime_lm_model)"
   ]
  },
  {
   "cell_type": "markdown",
   "id": "f299db85-2d13-4455-882f-879dbe1d8cac",
   "metadata": {},
   "source": [
    "The model has a very low p-value which indicates a good fit to our data, however that is likely due to overfitting. The R-squared values seem reasonable as well. Looking at the independent variable Pr values the model shows that average_ed, low_income, percent_young_male, unemp_adult, and prob_imprisonment are all stastically significant predictors of crime rate. Since the model above is only using the training data I am going to perform a cross-validation of the model to get a better idea of it's actual quality."
   ]
  },
  {
   "cell_type": "code",
   "execution_count": 20,
   "id": "c0d812eb-7f62-41fa-8aa6-8dea496368c8",
   "metadata": {
    "vscode": {
     "languageId": "r"
    }
   },
   "outputs": [
    {
     "name": "stdout",
     "output_type": "stream",
     "text": [
      "Analysis of Variance Table\n",
      "\n",
      "Response: crimes_per_million\n",
      "                   Df  Sum Sq Mean Sq F value  Pr(>F)    \n",
      "percent_young_male  1   55084   55084    1.26  0.2698    \n",
      "southern_state      1   15370   15370    0.35  0.5571    \n",
      "average_ed          1  905668  905668   20.76 7.6e-05 ***\n",
      "per_cap_exp_1960    1 3076033 3076033   70.51 1.7e-09 ***\n",
      "per_cap_exp_1959    1  153024  153024    3.51  0.0705 .  \n",
      "laborforce_part     1   61134   61134    1.40  0.2455    \n",
      "percent_male        1  114570  114570    2.63  0.1152    \n",
      "population          1   42995   42995    0.99  0.3285    \n",
      "nonwhite            1   14685   14685    0.34  0.5660    \n",
      "unemp_youth         1    6421    6421    0.15  0.7039    \n",
      "unemp_adult         1  271395  271395    6.22  0.0182 *  \n",
      "median_assets       1   35715   35715    0.82  0.3726    \n",
      "low_income          1  542990  542990   12.45  0.0013 ** \n",
      "prob_imprisonment   1  223393  223393    5.12  0.0308 *  \n",
      "time_served         1   10015   10015    0.23  0.6352    \n",
      "Residuals          31 1352435   43627                    \n",
      "---\n",
      "Signif. codes:  0 '***' 0.001 '**' 0.01 '*' 0.05 '.' 0.1 ' ' 1\n",
      "\n",
      "\n",
      "fold 1 \n",
      "Observations in test set: 9 \n",
      "                       1   3  17  18   19   22      36    38     40\n",
      "Predicted          752.5 324 393 844 1142  658 1138.42 564.3 1131.6\n",
      "cvpred             719.6 227 336 499 1386  620 1263.59 507.7 1056.3\n",
      "crimes_per_million 791.0 578 539 929  750  439 1272.00 566.0 1151.0\n",
      "CV residual         71.4 351 203 430 -636 -181    8.41  58.3   94.7\n",
      "\n",
      "Sum of squares = 803235    Mean square = 89248    n = 9 \n",
      "\n",
      "fold 2 \n",
      "Observations in test set: 10 \n",
      "                      4    6    12   25     28    32    34    41   44   46\n",
      "Predicted          1793  793 722.1  606 1258.3 807.0 972.8 823.3 1122  829\n",
      "cvpred             1546 1025 752.8  732 1170.8 835.3 936.4 786.1  921 1138\n",
      "crimes_per_million 1969  682 849.0  523 1216.0 754.0 923.0 880.0 1030  508\n",
      "CV residual         423 -343  96.2 -209   45.2 -81.3 -13.4  93.9  109 -630\n",
      "\n",
      "Sum of squares = 776066    Mean square = 77607    n = 10 \n",
      "\n",
      "fold 3 \n",
      "Observations in test set: 10 \n",
      "                      5    8   9   11   15   23   37     39   43   47\n",
      "Predicted          1165 1363 687 1163  905  956  970 837.92 1137  992\n",
      "cvpred             1088 1355 712  961 1043  686 1166 835.84 1251 1139\n",
      "crimes_per_million 1234 1555 856 1674  798 1216  831 826.00  823  849\n",
      "CV residual         146  200 144  713 -245  530 -335  -9.84 -428 -290\n",
      "\n",
      "Sum of squares = 1311334    Mean square = 131133    n = 10 \n",
      "\n",
      "fold 4 \n",
      "Observations in test set: 9 \n",
      "                       7   13   14     20  24  27    30   35   45\n",
      "Predicted          934.6  732  780 1228.8 869 280 704.2  737  615\n",
      "cvpred             898.9  928  799 1289.3 863 229 621.5  807  845\n",
      "crimes_per_million 963.0  511  664 1225.0 968 342 696.0  653  455\n",
      "CV residual         64.1 -417 -135  -64.3 105 113  74.5 -154 -390\n",
      "\n",
      "Sum of squares = 405559    Mean square = 45062    n = 9 \n",
      "\n",
      "fold 5 \n",
      "Observations in test set: 9 \n",
      "                      2    10     16   21     26   29   31   33  42\n",
      "Predicted          1475 736.3 1005.0  775 1976.7 1287  390  840 325\n",
      "cvpred             1381 742.9 1031.4  868 1970.5 1618  528  830 112\n",
      "crimes_per_million 1635 705.0  946.0  742 1993.0 1043  373 1072 542\n",
      "CV residual         254 -37.9  -85.4 -126   22.5 -575 -155  242 430\n",
      "\n",
      "Sum of squares = 687300    Mean square = 76367    n = 9 \n",
      "\n",
      "Overall (Sum over all 9 folds) \n",
      "   ms \n",
      "84755 \n"
     ]
    }
   ],
   "source": [
    "# Create cross validated model\n",
    "cross_val <- cv.lm(crime_data, crime_lm_model, m = 5, plotit=FALSE)"
   ]
  },
  {
   "cell_type": "markdown",
   "id": "76660a03-6b00-4ff4-9ee0-b0b64d311b01",
   "metadata": {},
   "source": [
    "This model doesn't give me the R^2 value which I want to use to compare to the previous model that didn't use cross validation. The formula for the R^2 value is:\n",
    "\n",
    "$$ R^2 = 1 - (RSS)/(TSS) $$\n",
    "\n",
    "where RSS is the sum of squares of residuals and TSS is the total sum of squares. I'll calculate both for our new model below."
   ]
  },
  {
   "cell_type": "code",
   "execution_count": 21,
   "id": "0475e253-d898-4f7f-883c-e4bdc10455f5",
   "metadata": {
    "vscode": {
     "languageId": "r"
    }
   },
   "outputs": [
    {
     "name": "stdout",
     "output_type": "stream",
     "text": [
      "[1] 0.421\n"
     ]
    }
   ],
   "source": [
    "# Obtain the R^2 value\n",
    "TSS <- sum((crime_data$crimes_per_million - mean(crime_data$crimes_per_million))^2)\n",
    "RSS <- attr(cross_val, \"ms\") * nrow(crime_data)\n",
    "R_squared <- 1 - RSS/TSS\n",
    "print(R_squared)"
   ]
  },
  {
   "cell_type": "markdown",
   "id": "8b7ad62d-dab4-4172-bdb5-15c83a0ef5c5",
   "metadata": {},
   "source": [
    "The R squared value of the cross validated model (0.421) is significantly lower than that of the model trained on the entire dataset (0.803). This indicates that our model is significantly overfitting to the training data. My guess is that is due to the  collinearity issue described above and the relatively small dataset. Next I am going to create a model with only the independent variables that have a p-value less than 0.1 from the original model. So I am going to use percent_young_male, average_ed, per_cap_exp_1960, unemp_adult, low_income, and prob_imprisonment. I will again train this model using the entire dataset and then perform cross validation to compare the results."
   ]
  },
  {
   "cell_type": "code",
   "execution_count": 22,
   "id": "b19cae4d-60bb-44f3-bdfc-96b94556c6f3",
   "metadata": {
    "vscode": {
     "languageId": "r"
    }
   },
   "outputs": [
    {
     "data": {
      "text/plain": [
       "\n",
       "Call:\n",
       "lm(formula = crimes_per_million ~ percent_young_male + average_ed + \n",
       "    per_cap_exp_1960 + unemp_adult + low_income + prob_imprisonment, \n",
       "    data = crime_data)\n",
       "\n",
       "Coefficients:\n",
       "       (Intercept)  percent_young_male          average_ed    per_cap_exp_1960  \n",
       "           -5040.5               105.0               196.5               115.0  \n",
       "       unemp_adult          low_income   prob_imprisonment  \n",
       "              89.4                67.7               -38.0  \n"
      ]
     },
     "metadata": {},
     "output_type": "display_data"
    }
   ],
   "source": [
    "crime_lm_reduced <- lm(crimes_per_million ~ percent_young_male + average_ed + per_cap_exp_1960 + unemp_adult + low_income + prob_imprisonment, data = crime_data)\n",
    "crime_lm_reduced"
   ]
  },
  {
   "cell_type": "code",
   "execution_count": 23,
   "id": "f083b880-94f6-4d82-a161-7f33d753f7c0",
   "metadata": {
    "vscode": {
     "languageId": "r"
    }
   },
   "outputs": [
    {
     "data": {
      "text/plain": [
       "\n",
       "Call:\n",
       "lm(formula = crimes_per_million ~ percent_young_male + average_ed + \n",
       "    per_cap_exp_1960 + unemp_adult + low_income + prob_imprisonment, \n",
       "    data = crime_data)\n",
       "\n",
       "Residuals:\n",
       "   Min     1Q Median     3Q    Max \n",
       "-470.7  -78.4  -19.7  133.1  556.2 \n",
       "\n",
       "Coefficients:\n",
       "                   Estimate Std. Error t value Pr(>|t|)    \n",
       "(Intercept)         -5040.5      899.8   -5.60  1.7e-06 ***\n",
       "percent_young_male    105.0       33.3    3.15   0.0031 ** \n",
       "average_ed            196.5       44.8    4.39  8.1e-05 ***\n",
       "per_cap_exp_1960      115.0       13.8    8.36  2.6e-10 ***\n",
       "unemp_adult            89.4       40.9    2.18   0.0348 *  \n",
       "low_income             67.7       13.9    4.85  1.9e-05 ***\n",
       "prob_imprisonment     -38.0       15.3   -2.49   0.0171 *  \n",
       "---\n",
       "Signif. codes:  0 '***' 0.001 '**' 0.01 '*' 0.05 '.' 0.1 ' ' 1\n",
       "\n",
       "Residual standard error: 201 on 40 degrees of freedom\n",
       "Multiple R-squared:  0.766,\tAdjusted R-squared:  0.731 \n",
       "F-statistic: 21.8 on 6 and 40 DF,  p-value: 3.42e-11\n"
      ]
     },
     "metadata": {},
     "output_type": "display_data"
    }
   ],
   "source": [
    "summary(crime_lm_reduced)"
   ]
  },
  {
   "cell_type": "markdown",
   "id": "20bec7e5-0ada-4ae4-8c45-0971352c27bc",
   "metadata": {},
   "source": [
    "This  model still has a very small p-value indicating it fits our data well. It also shows that all of the independent variables we selected are still above the 0.05 significance level. Now I am going to create the model using cross-validation and calculate the R^2 value for comparison."
   ]
  },
  {
   "cell_type": "code",
   "execution_count": 24,
   "id": "03b6620c-614f-4ef5-806d-5887e9c3ce02",
   "metadata": {
    "vscode": {
     "languageId": "r"
    }
   },
   "outputs": [
    {
     "name": "stdout",
     "output_type": "stream",
     "text": [
      "Analysis of Variance Table\n",
      "\n",
      "Response: crimes_per_million\n",
      "                   Df  Sum Sq Mean Sq F value  Pr(>F)    \n",
      "percent_young_male  1   55084   55084    1.37 0.24914    \n",
      "average_ed          1  725967  725967   18.02 0.00013 ***\n",
      "per_cap_exp_1960    1 3173852 3173852   78.80 5.3e-11 ***\n",
      "unemp_adult         1  217386  217386    5.40 0.02534 *  \n",
      "low_income          1  848273  848273   21.06 4.3e-05 ***\n",
      "prob_imprisonment   1  249308  249308    6.19 0.01711 *  \n",
      "Residuals          40 1611057   40276                    \n",
      "---\n",
      "Signif. codes:  0 '***' 0.001 '**' 0.01 '*' 0.05 '.' 0.1 ' ' 1\n",
      "\n",
      "\n",
      "fold 1 \n",
      "Observations in test set: 9 \n",
      "                        1   3    17  18   19   22   36    38     40\n",
      "Predicted          810.83 386 527.4 800 1221  728 1102 544.4 1140.8\n",
      "cvpred             785.36 345 492.2 701 1240  702 1127 544.7 1168.2\n",
      "crimes_per_million 791.00 578 539.0 929  750  439 1272 566.0 1151.0\n",
      "CV residual          5.64 233  46.8 228 -490 -263  145  21.3  -17.2\n",
      "\n",
      "Sum of squares = 439507    Mean square = 48834    n = 9 \n",
      "\n",
      "fold 2 \n",
      "Observations in test set: 10 \n",
      "                        4     6  12    25     28  32     34  41   44   46\n",
      "Predicted          1897.2 730.3 673 579.1 1259.0 774  997.5 796 1178  748\n",
      "cvpred             1882.7 781.8 684 621.4 1238.3 788 1013.9 778 1159  808\n",
      "crimes_per_million 1969.0 682.0 849 523.0 1216.0 754  923.0 880 1030  508\n",
      "CV residual          86.3 -99.8 165 -98.4  -22.3 -34  -90.9 102 -129 -300\n",
      "\n",
      "Sum of squares = 181038    Mean square = 18104    n = 10 \n",
      "\n",
      "fold 3 \n",
      "Observations in test set: 10 \n",
      "                        5    8   9   11    15   23   37  39   43   47\n",
      "Predicted          1269.8 1354 719 1118 828.3  938  992 787 1017  976\n",
      "cvpred             1266.8 1243 724  946 826.3  754 1077 717 1080 1038\n",
      "crimes_per_million 1234.0 1555 856 1674 798.0 1216  831 826  823  849\n",
      "CV residual         -32.8  312 132  728 -28.3  462 -246 109 -257 -189\n",
      "\n",
      "Sum of squares = 1033612    Mean square = 103361    n = 10 \n",
      "\n",
      "fold 4 \n",
      "Observations in test set: 9 \n",
      "                     7   13    14     20    24    27    30   35   45\n",
      "Predicted          733  739 713.6 1203.0 919.4 312.2 668.0  808  622\n",
      "cvpred             760  770 730.1 1247.9 953.7 297.2 638.9  851  691\n",
      "crimes_per_million 963  511 664.0 1225.0 968.0 342.0 696.0  653  455\n",
      "CV residual        203 -259 -66.1  -22.9  14.3  44.8  57.1 -198 -236\n",
      "\n",
      "Sum of squares = 213398    Mean square = 23711    n = 9 \n",
      "\n",
      "fold 5 \n",
      "Observations in test set: 9 \n",
      "                      2    10   16    21   26   29    31   33  42\n",
      "Predicted          1388 787.3 1004 783.3 1789 1495 440.4  874 369\n",
      "cvpred             1356 723.7 1047 819.7 1795 1664 456.6  858 261\n",
      "crimes_per_million 1635 705.0  946 742.0 1993 1043 373.0 1072 542\n",
      "CV residual         279 -18.7 -101 -77.7  198 -621 -83.6  214 281\n",
      "\n",
      "Sum of squares = 650990    Mean square = 72332    n = 9 \n",
      "\n",
      "Overall (Sum over all 9 folds) \n",
      "   ms \n",
      "53586 \n"
     ]
    }
   ],
   "source": [
    "reduced_cross_val <- cv.lm(crime_data, crime_lm_reduced, m = 5, plotit=FALSE)"
   ]
  },
  {
   "cell_type": "code",
   "execution_count": 25,
   "id": "befcb212-a064-4bcf-8287-e92091e6e483",
   "metadata": {
    "vscode": {
     "languageId": "r"
    }
   },
   "outputs": [
    {
     "name": "stdout",
     "output_type": "stream",
     "text": [
      "[1] 0.366\n"
     ]
    }
   ],
   "source": [
    "# Obtain the R^2 value\n",
    "# Already have the TSS value from above\n",
    "RSS_reduced <- attr(reduced_cross_val, \"ms\") * nrow(crime_data)\n",
    "R_squared <- RSS_reduced/TSS\n",
    "print(R_squared)"
   ]
  },
  {
   "cell_type": "markdown",
   "id": "8b6fd357-3759-49aa-ae01-4a7b9d913c9b",
   "metadata": {},
   "source": [
    "This again shows some significant overfitting happening between our model trained on the entire dataset and the model trained using cross validation. It will be interesting to see how these various models predict the output for the given datapoint. The last thing I want to see is if using the variables that are univariate normally distributed and have high correlation coefficients with crimes_per_million create a better model. Again, there are better ways to select the variables but I'm interested to see how this approach works out. I am going to train my model using the independent variables: average_ed, per_cap_exp_1960, population, median_assets, and prob_imprisonment. These all have high correlation coefficients (> 0.3) but several have low p-values when checking for their normality using the Shapiro-Wilks test so I am going to apply a logarithmic transformation to them as well. I'm also going to perform a log transformation on the crimes_per_million values since they also aren't normally distributed and it is mentioned in the documentation about the dataset. This is really just exploratory to see how it changes the results."
   ]
  },
  {
   "cell_type": "code",
   "execution_count": 26,
   "id": "c642585d-4c4e-4825-9072-98168bc55317",
   "metadata": {
    "vscode": {
     "languageId": "r"
    }
   },
   "outputs": [
    {
     "data": {
      "text/plain": [
       "   average_ed   per_cap_exp_1960   population   median_assets \n",
       " Min.   :2.16   Min.   :1.50     Min.   :1.10   Min.   :7.97  \n",
       " 1st Qu.:2.28   1st Qu.:1.83     1st Qu.:2.30   1st Qu.:8.43  \n",
       " Median :2.38   Median :2.05     Median :3.22   Median :8.59  \n",
       " Mean   :2.35   Mean   :2.08     Mean   :3.13   Mean   :8.55  \n",
       " 3rd Qu.:2.44   3rd Qu.:2.35     3rd Qu.:3.73   3rd Qu.:8.69  \n",
       " Max.   :2.50   Max.   :2.81     Max.   :5.12   Max.   :8.84  \n",
       " prob_imprisonment crimes_per_million\n",
       " Min.   :-0.371    Min.   :5.83      \n",
       " 1st Qu.: 1.184    1st Qu.:6.49      \n",
       " Median : 1.437    Median :6.72      \n",
       " Mean   : 1.427    Mean   :6.72      \n",
       " 3rd Qu.: 1.695    3rd Qu.:6.96      \n",
       " Max.   : 2.483    Max.   :7.60      "
      ]
     },
     "metadata": {},
     "output_type": "display_data"
    }
   ],
   "source": [
    "columns_to_grab <- c(\"average_ed\", \"per_cap_exp_1960\", \"population\", \"median_assets\", \"prob_imprisonment\", \"crimes_per_million\")\n",
    "\n",
    "log_crime_data <- crime_data %>%\n",
    "  select(all_of(columns_to_grab)) %>%\n",
    "  mutate_all(log)\n",
    "\n",
    "# View a summary of the new dataframe\n",
    "summary(log_crime_data)"
   ]
  },
  {
   "cell_type": "code",
   "execution_count": 27,
   "id": "0f3693b1-e61f-4c61-b8d0-b8e2fa5ca52a",
   "metadata": {
    "vscode": {
     "languageId": "r"
    }
   },
   "outputs": [
    {
     "data": {
      "text/plain": [
       "\n",
       "Call:\n",
       "lm(formula = crimes_per_million ~ average_ed + per_cap_exp_1960 + \n",
       "    population + median_assets + prob_imprisonment, data = log_crime_data)\n",
       "\n",
       "Coefficients:\n",
       "      (Intercept)         average_ed   per_cap_exp_1960         population  \n",
       "         13.12333            0.54656            1.17780           -0.00835  \n",
       "    median_assets  prob_imprisonment  \n",
       "         -1.16047           -0.13489  \n"
      ]
     },
     "metadata": {},
     "output_type": "display_data"
    }
   ],
   "source": [
    "log_lm <- lm(crimes_per_million ~ average_ed + per_cap_exp_1960 + population + median_assets + prob_imprisonment, data = log_crime_data)\n",
    "log_lm"
   ]
  },
  {
   "cell_type": "code",
   "execution_count": 28,
   "id": "1c33b71e-b204-44c0-82d4-28f2247875b0",
   "metadata": {
    "vscode": {
     "languageId": "r"
    }
   },
   "outputs": [
    {
     "data": {
      "text/plain": [
       "\n",
       "Call:\n",
       "lm(formula = crimes_per_million ~ average_ed + per_cap_exp_1960 + \n",
       "    population + median_assets + prob_imprisonment, data = log_crime_data)\n",
       "\n",
       "Residuals:\n",
       "    Min      1Q  Median      3Q     Max \n",
       "-0.6572 -0.0638  0.0744  0.1931  0.4404 \n",
       "\n",
       "Coefficients:\n",
       "                  Estimate Std. Error t value Pr(>|t|)    \n",
       "(Intercept)       13.12333    3.38022    3.88  0.00037 ***\n",
       "average_ed         0.54656    0.69032    0.79  0.43306    \n",
       "per_cap_exp_1960   1.17780    0.25181    4.68 0.000031 ***\n",
       "population        -0.00835    0.05226   -0.16  0.87391    \n",
       "median_assets     -1.16047    0.51181   -2.27  0.02870 *  \n",
       "prob_imprisonment -0.13489    0.10599   -1.27  0.21029    \n",
       "---\n",
       "Signif. codes:  0 '***' 0.001 '**' 0.01 '*' 0.05 '.' 0.1 ' ' 1\n",
       "\n",
       "Residual standard error: 0.3 on 41 degrees of freedom\n",
       "Multiple R-squared:  0.525,\tAdjusted R-squared:  0.468 \n",
       "F-statistic: 9.08 on 5 and 41 DF,  p-value: 0.00000714\n"
      ]
     },
     "metadata": {},
     "output_type": "display_data"
    }
   ],
   "source": [
    "summary(log_lm)"
   ]
  },
  {
   "cell_type": "markdown",
   "id": "3a521ab1-8c34-452d-b37c-a0b2d21917d2",
   "metadata": {},
   "source": [
    "The model seems to be worse, it has a higher p_value and a lower R-squared value. I am going to move forward with the crime_lm_reduced model."
   ]
  },
  {
   "cell_type": "markdown",
   "id": "42bd1e1a-492c-4c85-a0cb-63b5f728c5e2",
   "metadata": {},
   "source": [
    "#### Step 4 - Use the Model to Predict the Crime Rate for the Given Data Point\n",
    "Finally, I am going to use my reduced model crime_lm_reduced to predict the crime rate for the given data point."
   ]
  },
  {
   "cell_type": "code",
   "execution_count": 29,
   "id": "41f7b77f-39b0-49fb-9214-8f0245a2eda6",
   "metadata": {
    "vscode": {
     "languageId": "r"
    }
   },
   "outputs": [
    {
     "name": "stdout",
     "output_type": "stream",
     "text": [
      "The original model using all of the indpendent variables predicts: 154 \n",
      "The reduced model only using the statistically significant indpendent variables predicts: 1304"
     ]
    }
   ],
   "source": [
    "# Load the given data point\n",
    "predict_point <-data.frame(percent_young_male = 14.0, southern_state = 0, average_ed = 10.0, per_cap_exp_1960 = 12.0, per_cap_exp_1959 = 15.5, laborforce_part = 64.0, percent_male = 48.453608247, population = 150, nonwhite = 1.1, unemp_youth = 12.0, unemp_adult = 3.6, median_assets = 3200, low_income = 20.1, prob_imprisonment = 4.0, time_served = 39.0)\n",
    "prediction_original <- predict(crime_lm_model, predict_point)\n",
    "prediction_reduced <- predict(crime_lm_reduced, predict_point)\n",
    "cat(\"The original model using all of the indpendent variables predicts:\", prediction_original, \"\\n\")\n",
    "cat(\"The reduced model only using the statistically significant indpendent variables predicts:\", prediction_reduced)"
   ]
  },
  {
   "cell_type": "markdown",
   "id": "ad268104-de46-4626-b6f7-bd8481cfa54b",
   "metadata": {},
   "source": [
    "I'm really suprised with how drastically off the prediction was using the original model that included all of the independent variables. The range of values seen for the crimes_per_million is 342 - 1993 which the predicted value is well outside of. The reduced model seems to give a much more reasonable prediction."
   ]
  },
  {
   "cell_type": "markdown",
   "id": "6f35bdf5-e8a6-4b65-824e-115b46779317",
   "metadata": {},
   "source": [
    "#### Step 5 - Provide a Summary of the Final Model\n",
    "After looking at a few models I decided that the linear regression model using the limited indpendent variables (percent_young_male, average_ed, per_cap_exp_1960, unemp_adult, low_income, and prob_imprisonment) provided a better overall model. It has a R-Squared value of 0.766 and a p-value of 3.42e-11. It predicted that the value crimes_per_million for the given data point would be 1,304. The equation it produced can be seen below:\n",
    "\n",
    "<small>$$ crime\\_per\\_million = -5040.5 + 105(\\% young\\_male) + 196.5(avg\\_ed) + 115(per\\_cap\\_exp\\_1960) + 89.4(unemp\\_adult) + 67.6(low\\_income) - 38(prob\\_imprisonment) $$<small>"
   ]
  },
  {
   "cell_type": "markdown",
   "id": "11da412f-127f-41bb-b319-940554447046",
   "metadata": {},
   "source": [
    "The average education coefficient being positive is intersting, it indicates that as education goes up so does the crime rate. The other thing I found interesting is that probability of imprisonment has a positive coefficient, meaning this *could be a way to reduce crime. Next I'll plot the results of the lm model."
   ]
  },
  {
   "cell_type": "code",
   "execution_count": 42,
   "id": "922c02d4-ba30-4e81-b85c-ee226cd2e829",
   "metadata": {
    "vscode": {
     "languageId": "r"
    }
   },
   "outputs": [
    {
     "data": {
      "image/png": "[encoded data removed]",
      "text/plain": [
       "Plot with title \"\""
      ]
     },
     "metadata": {},
     "output_type": "display_data"
    }
   ],
   "source": [
    "# Set up the layout for a 2x2 grid\n",
    "par(mfrow = c(2, 2))\n",
    "\n",
    "# Set plot size\n",
    "options(repr.plot.width=8, repr.plot.height=8)\n",
    "\n",
    "# Plot 1\n",
    "plot(crime_lm_reduced, sub = \"\")"
   ]
  },
  {
   "cell_type": "markdown",
   "id": "e089854f-e986-4d40-a3c4-d3737a11e1ef",
   "metadata": {},
   "source": [
    "These four plots can help in assessing whether the linear model is appropriate for our crimes dataset. Looking at each plot:\n",
    "1) Residuals vs. Fitted - Checks for Homoscendasticity. When there is little or no homoscendasticity we expect the residuals to have constant variance and that the residuals and fitted values will be uncorrelated. Since their is no clear trend or funneling in the plot this is a good indication that our model meets the homoscendasticity requirement.\n",
    "2) Normal QQ Plot - You can use a linear model for prediction even if the underlysing multivariate normality assumptions don't hold. However, in order for the p-values to be believable the residuals from the regression must look approximately normally distributed. The residuals on the plot appear non-normal, both the lower tail and upper tail are heavier than expected. This indicates that some sort of transformation might be appropriate.\n",
    "3) Scale-location plot - Similar to the residuals vs. fitted plot their should be no descernable trends. Looking at the graph I don't see any obvious trends or funneling.\n",
    "4) Residuals vs. Leverage - Leverage is a measure of how much an observation influenced the model fit. It’s a one-number summary of how different the model fit would be if the given observation was excluded, compared to the model fit where the observation is included. Points with high residual (poorly described by the model) and high leverage (high influence on model fit) are outliers. They’re skewing the model fit away from the rest of the data, and don’t really seem to fit with the rest of the data. Some of the points appear to get close to Cook's distance (29 and 11) which indicates they could be outliers.t of the data."
   ]
  }
 ],
 "metadata": {
  "kernelspec": {
   "display_name": "R",
   "language": "R",
   "name": "ir"
  },
  "language_info": {
   "codemirror_mode": "r",
   "file_extension": ".r",
   "mimetype": "text/x-r-source",
   "name": "R",
   "pygments_lexer": "r",
   "version": "3.6.1"
  }
 },
 "nbformat": 4,
 "nbformat_minor": 5
}
