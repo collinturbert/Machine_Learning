{
 "cells": [
  {
   "cell_type": "markdown",
   "id": "3fd8e433-dd78-4907-bc39-a9ab1f637281",
   "metadata": {},
   "source": [
    "### Question 7.1\n",
    ">Describe a situation or problem from your job, everyday life, current events, etc., for which exponential smoothing would be appropriate. What data would you need? Would you expect the value of α (the first smoothing parameter) to be closer to 0 or 1, and why?"
   ]
  },
  {
   "cell_type": "markdown",
   "id": "39e079f4-c435-4db8-8b2c-71b04970eaf6",
   "metadata": {},
   "source": [
    "One obvious application of exponential smoothing from my most recent job is using it to better predict budgets. I was responsible for managing the budget of three seperate secondary schools and would have to provide a 5 year projected budget every year. Using an exponential smoothing model on the overall budget as well as the different setions of the budget would provide a more accurate estimation of future costs andcapture trends and seasonality which would be insightful. Things like cost of supplies or building costs have trends (overall increasing year over year...) and seasonality components (energy costs during the winter/summer for example). We kept monthly budget data that could be used to train the model for forecasting purposes so the frequency of the seasonality would be 12. Each month was broken down by the various categories and I would imagine both an overall budget model that used the lumped data from all the categories, as well as a model that used the data from each individual category to provide insight into those line items.  I think an α value closer to 1 would be used as expenses are tightly controlled and monitored so their isn't much randomness in the data, and both revenues and expenses are fairly consistent month over month once trend and seasonality are considered."
   ]
  },
  {
   "cell_type": "markdown",
   "id": "0ce95641-ea01-486f-8e76-3326632fd223",
   "metadata": {},
   "source": [
    "### Question 7.2\n",
    ">Using the 20 years of daily high temperature data for Atlanta (July through October) from Question 6.2 (file temps.txt), build and use an exponential smoothing model to help make a judgment of whether the unofficial end of summer has gotten later over the 20 years. (Part of the point of this assignment is for you to think about how you might use exponential smoothing to answer this question. Feel free to combine it with other models if you’d like to. There’s certainly more than one reasonable approach.) \n",
    "Note: in R, you can use either HoltWinters (simpler to use) or the smooth package’s es function (harder to use, but more general). If you use es, the Holt-Winters model uses model=”AAM” in the function call (the first and second constants are used “A”dditively, and the third (seasonality) is used “M”ultiplicatively; the documentation doesn’t make that clear)\n",
    "\n",
    "To look if the end of unofficial summer has gotten later for Atlanta I am going to use the HoltWinters model. I started by trying to get a better understanding of how the model worked and found this resource really helpful: https://orangematter.solarwinds.com/2019/12/15/holt-winters-forecasting-simplified/. \n",
    "\n",
    "1) Review the Data\n",
    "2) Apply a 1st, 2nd, and 3rd order Holt Winters model to the data\n",
    "3) Analyze the models to see if trend and seasonality play a role\n",
    "4) Use the CUSUM method on seasonality to determine the unofficial end of summer is changing"
   ]
  },
  {
   "cell_type": "code",
   "execution_count": 26,
   "id": "d64fb628-4adc-44b7-be94-810ad07f4f4c",
   "metadata": {},
   "outputs": [],
   "source": [
    "# Load libraries needed for analysis\n",
    "library(outliers)\n",
    "library(pastecs)\n",
    "library(ggplot2)\n",
    "library(tidyverse)\n",
    "library(forecast)\n",
    "library(tseries)\n",
    "library(lubridate)\n",
    "library(tidyr)"
   ]
  },
  {
   "cell_type": "markdown",
   "id": "09e66e0b-b350-451b-b0ea-2bb0a5c3ea3c",
   "metadata": {},
   "source": [
    "#### Step 1 - Review the Data\n",
    "The first thing I want to do is take a look at the data, while it has already been explored in the previous homework I am going to include it here to make this a standalone document."
   ]
  },
  {
   "cell_type": "code",
   "execution_count": 2,
   "id": "432d320d-f550-4829-8fff-a84369ccd31d",
   "metadata": {},
   "outputs": [],
   "source": [
    "# Load the data\n",
    "temps_data <- read.table(\"temps.txt\", header = TRUE)"
   ]
  },
  {
   "cell_type": "code",
   "execution_count": 3,
   "id": "b4a3192f-7a56-4972-bc5b-330da2562171",
   "metadata": {},
   "outputs": [
    {
     "data": {
      "text/html": [
       "<table>\n",
       "<thead><tr><th scope=col>DAY</th><th scope=col>X1996</th><th scope=col>X1997</th><th scope=col>X1998</th><th scope=col>X1999</th><th scope=col>X2000</th><th scope=col>X2001</th><th scope=col>X2002</th><th scope=col>X2003</th><th scope=col>X2004</th><th scope=col>...</th><th scope=col>X2006</th><th scope=col>X2007</th><th scope=col>X2008</th><th scope=col>X2009</th><th scope=col>X2010</th><th scope=col>X2011</th><th scope=col>X2012</th><th scope=col>X2013</th><th scope=col>X2014</th><th scope=col>X2015</th></tr></thead>\n",
       "<tbody>\n",
       "\t<tr><td>1-Jul</td><td>98   </td><td>86   </td><td>91   </td><td>84   </td><td>89   </td><td>84   </td><td>90   </td><td>73   </td><td>82   </td><td>...  </td><td>93   </td><td>95   </td><td>85   </td><td>95   </td><td>87   </td><td>92   </td><td>105  </td><td>82   </td><td>90   </td><td>85   </td></tr>\n",
       "\t<tr><td>2-Jul</td><td>97   </td><td>90   </td><td>88   </td><td>82   </td><td>91   </td><td>87   </td><td>90   </td><td>81   </td><td>81   </td><td>...  </td><td>93   </td><td>85   </td><td>87   </td><td>90   </td><td>84   </td><td>94   </td><td> 93  </td><td>85   </td><td>93   </td><td>87   </td></tr>\n",
       "\t<tr><td>3-Jul</td><td>97   </td><td>93   </td><td>91   </td><td>87   </td><td>93   </td><td>87   </td><td>87   </td><td>87   </td><td>86   </td><td>...  </td><td>93   </td><td>82   </td><td>91   </td><td>89   </td><td>83   </td><td>95   </td><td> 99  </td><td>76   </td><td>87   </td><td>79   </td></tr>\n",
       "\t<tr><td>4-Jul</td><td>90   </td><td>91   </td><td>91   </td><td>88   </td><td>95   </td><td>84   </td><td>89   </td><td>86   </td><td>88   </td><td>...  </td><td>91   </td><td>86   </td><td>90   </td><td>91   </td><td>85   </td><td>92   </td><td> 98  </td><td>77   </td><td>84   </td><td>85   </td></tr>\n",
       "\t<tr><td>5-Jul</td><td>89   </td><td>84   </td><td>91   </td><td>90   </td><td>96   </td><td>86   </td><td>93   </td><td>80   </td><td>90   </td><td>...  </td><td>90   </td><td>88   </td><td>88   </td><td>80   </td><td>88   </td><td>90   </td><td>100  </td><td>83   </td><td>86   </td><td>84   </td></tr>\n",
       "\t<tr><td>6-Jul</td><td>93   </td><td>84   </td><td>89   </td><td>91   </td><td>96   </td><td>87   </td><td>93   </td><td>84   </td><td>90   </td><td>...  </td><td>81   </td><td>87   </td><td>82   </td><td>87   </td><td>89   </td><td>90   </td><td> 98  </td><td>83   </td><td>87   </td><td>84   </td></tr>\n",
       "</tbody>\n",
       "</table>\n"
      ],
      "text/latex": [
       "\\begin{tabular}{r|lllllllllllllllllllll}\n",
       " DAY & X1996 & X1997 & X1998 & X1999 & X2000 & X2001 & X2002 & X2003 & X2004 & ... & X2006 & X2007 & X2008 & X2009 & X2010 & X2011 & X2012 & X2013 & X2014 & X2015\\\\\n",
       "\\hline\n",
       "\t 1-Jul & 98    & 86    & 91    & 84    & 89    & 84    & 90    & 73    & 82    & ...   & 93    & 95    & 85    & 95    & 87    & 92    & 105   & 82    & 90    & 85   \\\\\n",
       "\t 2-Jul & 97    & 90    & 88    & 82    & 91    & 87    & 90    & 81    & 81    & ...   & 93    & 85    & 87    & 90    & 84    & 94    &  93   & 85    & 93    & 87   \\\\\n",
       "\t 3-Jul & 97    & 93    & 91    & 87    & 93    & 87    & 87    & 87    & 86    & ...   & 93    & 82    & 91    & 89    & 83    & 95    &  99   & 76    & 87    & 79   \\\\\n",
       "\t 4-Jul & 90    & 91    & 91    & 88    & 95    & 84    & 89    & 86    & 88    & ...   & 91    & 86    & 90    & 91    & 85    & 92    &  98   & 77    & 84    & 85   \\\\\n",
       "\t 5-Jul & 89    & 84    & 91    & 90    & 96    & 86    & 93    & 80    & 90    & ...   & 90    & 88    & 88    & 80    & 88    & 90    & 100   & 83    & 86    & 84   \\\\\n",
       "\t 6-Jul & 93    & 84    & 89    & 91    & 96    & 87    & 93    & 84    & 90    & ...   & 81    & 87    & 82    & 87    & 89    & 90    &  98   & 83    & 87    & 84   \\\\\n",
       "\\end{tabular}\n"
      ],
      "text/markdown": [
       "\n",
       "| DAY | X1996 | X1997 | X1998 | X1999 | X2000 | X2001 | X2002 | X2003 | X2004 | ... | X2006 | X2007 | X2008 | X2009 | X2010 | X2011 | X2012 | X2013 | X2014 | X2015 |\n",
       "|---|---|---|---|---|---|---|---|---|---|---|---|---|---|---|---|---|---|---|---|---|\n",
       "| 1-Jul | 98    | 86    | 91    | 84    | 89    | 84    | 90    | 73    | 82    | ...   | 93    | 95    | 85    | 95    | 87    | 92    | 105   | 82    | 90    | 85    |\n",
       "| 2-Jul | 97    | 90    | 88    | 82    | 91    | 87    | 90    | 81    | 81    | ...   | 93    | 85    | 87    | 90    | 84    | 94    |  93   | 85    | 93    | 87    |\n",
       "| 3-Jul | 97    | 93    | 91    | 87    | 93    | 87    | 87    | 87    | 86    | ...   | 93    | 82    | 91    | 89    | 83    | 95    |  99   | 76    | 87    | 79    |\n",
       "| 4-Jul | 90    | 91    | 91    | 88    | 95    | 84    | 89    | 86    | 88    | ...   | 91    | 86    | 90    | 91    | 85    | 92    |  98   | 77    | 84    | 85    |\n",
       "| 5-Jul | 89    | 84    | 91    | 90    | 96    | 86    | 93    | 80    | 90    | ...   | 90    | 88    | 88    | 80    | 88    | 90    | 100   | 83    | 86    | 84    |\n",
       "| 6-Jul | 93    | 84    | 89    | 91    | 96    | 87    | 93    | 84    | 90    | ...   | 81    | 87    | 82    | 87    | 89    | 90    |  98   | 83    | 87    | 84    |\n",
       "\n"
      ],
      "text/plain": [
       "  DAY   X1996 X1997 X1998 X1999 X2000 X2001 X2002 X2003 X2004 ... X2006 X2007\n",
       "1 1-Jul 98    86    91    84    89    84    90    73    82    ... 93    95   \n",
       "2 2-Jul 97    90    88    82    91    87    90    81    81    ... 93    85   \n",
       "3 3-Jul 97    93    91    87    93    87    87    87    86    ... 93    82   \n",
       "4 4-Jul 90    91    91    88    95    84    89    86    88    ... 91    86   \n",
       "5 5-Jul 89    84    91    90    96    86    93    80    90    ... 90    88   \n",
       "6 6-Jul 93    84    89    91    96    87    93    84    90    ... 81    87   \n",
       "  X2008 X2009 X2010 X2011 X2012 X2013 X2014 X2015\n",
       "1 85    95    87    92    105   82    90    85   \n",
       "2 87    90    84    94     93   85    93    87   \n",
       "3 91    89    83    95     99   76    87    79   \n",
       "4 90    91    85    92     98   77    84    85   \n",
       "5 88    80    88    90    100   83    86    84   \n",
       "6 82    87    89    90     98   83    87    84   "
      ]
     },
     "metadata": {},
     "output_type": "display_data"
    }
   ],
   "source": [
    "# Look at the data, only displaying the first 6 rows for this report\n",
    "head(temps_data)"
   ]
  },
  {
   "cell_type": "code",
   "execution_count": 4,
   "id": "c18c1d53-6594-494b-bb76-b7a40b8c1370",
   "metadata": {},
   "outputs": [
    {
     "data": {
      "text/html": [
       "<table>\n",
       "<thead><tr><th scope=col>DAY</th><th scope=col>X1996</th><th scope=col>X1997</th><th scope=col>X1998</th><th scope=col>X1999</th><th scope=col>X2000</th><th scope=col>X2001</th><th scope=col>X2002</th><th scope=col>X2003</th><th scope=col>X2004</th><th scope=col>...</th><th scope=col>X2006</th><th scope=col>X2007</th><th scope=col>X2008</th><th scope=col>X2009</th><th scope=col>X2010</th><th scope=col>X2011</th><th scope=col>X2012</th><th scope=col>X2013</th><th scope=col>X2014</th><th scope=col>X2015</th></tr></thead>\n",
       "<tbody>\n",
       "\t<tr><td>factor </td><td>integer</td><td>integer</td><td>integer</td><td>integer</td><td>integer</td><td>integer</td><td>integer</td><td>integer</td><td>integer</td><td>...    </td><td>integer</td><td>integer</td><td>integer</td><td>integer</td><td>integer</td><td>integer</td><td>integer</td><td>integer</td><td>integer</td><td>integer</td></tr>\n",
       "</tbody>\n",
       "</table>\n"
      ],
      "text/latex": [
       "\\begin{tabular}{lllllllllllllllllllll}\n",
       " DAY & X1996 & X1997 & X1998 & X1999 & X2000 & X2001 & X2002 & X2003 & X2004 & ... & X2006 & X2007 & X2008 & X2009 & X2010 & X2011 & X2012 & X2013 & X2014 & X2015\\\\\n",
       "\\hline\n",
       "\t factor  & integer & integer & integer & integer & integer & integer & integer & integer & integer & ...     & integer & integer & integer & integer & integer & integer & integer & integer & integer & integer\\\\\n",
       "\\end{tabular}\n"
      ],
      "text/markdown": [
       "\n",
       "| DAY | X1996 | X1997 | X1998 | X1999 | X2000 | X2001 | X2002 | X2003 | X2004 | ... | X2006 | X2007 | X2008 | X2009 | X2010 | X2011 | X2012 | X2013 | X2014 | X2015 |\n",
       "|---|---|---|---|---|---|---|---|---|---|---|---|---|---|---|---|---|---|---|---|---|\n",
       "| factor  | integer | integer | integer | integer | integer | integer | integer | integer | integer | ...     | integer | integer | integer | integer | integer | integer | integer | integer | integer | integer |\n",
       "\n"
      ],
      "text/plain": [
       "     DAY    X1996   X1997   X1998   X1999   X2000   X2001   X2002   X2003  \n",
       "[1,] factor integer integer integer integer integer integer integer integer\n",
       "     X2004   ... X2006   X2007   X2008   X2009   X2010   X2011   X2012  \n",
       "[1,] integer ... integer integer integer integer integer integer integer\n",
       "     X2013   X2014   X2015  \n",
       "[1,] integer integer integer"
      ]
     },
     "metadata": {},
     "output_type": "display_data"
    }
   ],
   "source": [
    "# Look at the data types\n",
    "t(sapply(temps_data, class))"
   ]
  },
  {
   "cell_type": "code",
   "execution_count": 5,
   "id": "45567734-1c9c-4e3e-97bf-afc68f937f2c",
   "metadata": {},
   "outputs": [
    {
     "name": "stdout",
     "output_type": "stream",
     "text": [
      "Rows   Columns"
     ]
    },
    {
     "data": {
      "text/html": [
       "<table>\n",
       "<tbody>\n",
       "\t<tr><td>123</td><td>21 </td></tr>\n",
       "</tbody>\n",
       "</table>\n"
      ],
      "text/latex": [
       "\\begin{tabular}{ll}\n",
       "\t 123 & 21 \\\\\n",
       "\\end{tabular}\n"
      ],
      "text/markdown": [
       "\n",
       "| 123 | 21  |\n",
       "\n"
      ],
      "text/plain": [
       "     [,1] [,2]\n",
       "[1,] 123  21  "
      ]
     },
     "metadata": {},
     "output_type": "display_data"
    }
   ],
   "source": [
    "# Double check size of the data\n",
    "cat('Rows',' ','Columns')\n",
    "t(dim(temps_data))"
   ]
  },
  {
   "cell_type": "code",
   "execution_count": 6,
   "id": "e850fcfa-6994-42ea-8536-d3ec4d399da8",
   "metadata": {},
   "outputs": [
    {
     "data": {
      "text/html": [
       "<dl class=dl-horizontal>\n",
       "\t<dt>DAY</dt>\n",
       "\t\t<dd>FALSE</dd>\n",
       "\t<dt>X1996</dt>\n",
       "\t\t<dd>FALSE</dd>\n",
       "\t<dt>X1997</dt>\n",
       "\t\t<dd>FALSE</dd>\n",
       "\t<dt>X1998</dt>\n",
       "\t\t<dd>FALSE</dd>\n",
       "\t<dt>X1999</dt>\n",
       "\t\t<dd>FALSE</dd>\n",
       "\t<dt>X2000</dt>\n",
       "\t\t<dd>FALSE</dd>\n",
       "\t<dt>X2001</dt>\n",
       "\t\t<dd>FALSE</dd>\n",
       "\t<dt>X2002</dt>\n",
       "\t\t<dd>FALSE</dd>\n",
       "\t<dt>X2003</dt>\n",
       "\t\t<dd>FALSE</dd>\n",
       "\t<dt>X2004</dt>\n",
       "\t\t<dd>FALSE</dd>\n",
       "\t<dt>X2005</dt>\n",
       "\t\t<dd>FALSE</dd>\n",
       "\t<dt>X2006</dt>\n",
       "\t\t<dd>FALSE</dd>\n",
       "\t<dt>X2007</dt>\n",
       "\t\t<dd>FALSE</dd>\n",
       "\t<dt>X2008</dt>\n",
       "\t\t<dd>FALSE</dd>\n",
       "\t<dt>X2009</dt>\n",
       "\t\t<dd>FALSE</dd>\n",
       "\t<dt>X2010</dt>\n",
       "\t\t<dd>FALSE</dd>\n",
       "\t<dt>X2011</dt>\n",
       "\t\t<dd>FALSE</dd>\n",
       "\t<dt>X2012</dt>\n",
       "\t\t<dd>FALSE</dd>\n",
       "\t<dt>X2013</dt>\n",
       "\t\t<dd>FALSE</dd>\n",
       "\t<dt>X2014</dt>\n",
       "\t\t<dd>FALSE</dd>\n",
       "\t<dt>X2015</dt>\n",
       "\t\t<dd>FALSE</dd>\n",
       "</dl>\n"
      ],
      "text/latex": [
       "\\begin{description*}\n",
       "\\item[DAY] FALSE\n",
       "\\item[X1996] FALSE\n",
       "\\item[X1997] FALSE\n",
       "\\item[X1998] FALSE\n",
       "\\item[X1999] FALSE\n",
       "\\item[X2000] FALSE\n",
       "\\item[X2001] FALSE\n",
       "\\item[X2002] FALSE\n",
       "\\item[X2003] FALSE\n",
       "\\item[X2004] FALSE\n",
       "\\item[X2005] FALSE\n",
       "\\item[X2006] FALSE\n",
       "\\item[X2007] FALSE\n",
       "\\item[X2008] FALSE\n",
       "\\item[X2009] FALSE\n",
       "\\item[X2010] FALSE\n",
       "\\item[X2011] FALSE\n",
       "\\item[X2012] FALSE\n",
       "\\item[X2013] FALSE\n",
       "\\item[X2014] FALSE\n",
       "\\item[X2015] FALSE\n",
       "\\end{description*}\n"
      ],
      "text/markdown": [
       "DAY\n",
       ":   FALSEX1996\n",
       ":   FALSEX1997\n",
       ":   FALSEX1998\n",
       ":   FALSEX1999\n",
       ":   FALSEX2000\n",
       ":   FALSEX2001\n",
       ":   FALSEX2002\n",
       ":   FALSEX2003\n",
       ":   FALSEX2004\n",
       ":   FALSEX2005\n",
       ":   FALSEX2006\n",
       ":   FALSEX2007\n",
       ":   FALSEX2008\n",
       ":   FALSEX2009\n",
       ":   FALSEX2010\n",
       ":   FALSEX2011\n",
       ":   FALSEX2012\n",
       ":   FALSEX2013\n",
       ":   FALSEX2014\n",
       ":   FALSEX2015\n",
       ":   FALSE\n",
       "\n"
      ],
      "text/plain": [
       "  DAY X1996 X1997 X1998 X1999 X2000 X2001 X2002 X2003 X2004 X2005 X2006 X2007 \n",
       "FALSE FALSE FALSE FALSE FALSE FALSE FALSE FALSE FALSE FALSE FALSE FALSE FALSE \n",
       "X2008 X2009 X2010 X2011 X2012 X2013 X2014 X2015 \n",
       "FALSE FALSE FALSE FALSE FALSE FALSE FALSE FALSE "
      ]
     },
     "metadata": {},
     "output_type": "display_data"
    }
   ],
   "source": [
    "# Check for missing values\n",
    "sapply(temps_data, anyNA)"
   ]
  },
  {
   "cell_type": "code",
   "execution_count": 7,
   "id": "0211b2d5-7613-48c6-bde3-4973d7f30c95",
   "metadata": {},
   "outputs": [
    {
     "data": {
      "text/html": [
       "<table>\n",
       "<thead><tr><th></th><th scope=col>DAY</th><th scope=col>X1996</th><th scope=col>X1997</th><th scope=col>X1998</th><th scope=col>X1999</th><th scope=col>X2000</th><th scope=col>X2001</th><th scope=col>X2002</th><th scope=col>X2003</th><th scope=col>X2004</th><th scope=col>...</th><th scope=col>X2006</th><th scope=col>X2007</th><th scope=col>X2008</th><th scope=col>X2009</th><th scope=col>X2010</th><th scope=col>X2011</th><th scope=col>X2012</th><th scope=col>X2013</th><th scope=col>X2014</th><th scope=col>X2015</th></tr></thead>\n",
       "<tbody>\n",
       "\t<tr><th scope=row>nbr.val</th><td>NA          </td><td>1.230000e+02</td><td>1.230000e+02</td><td>1.230000e+02</td><td>1.230000e+02</td><td>1.230000e+02</td><td>1.230000e+02</td><td>1.230000e+02</td><td>1.230000e+02</td><td>1.230000e+02</td><td>...         </td><td>1.230000e+02</td><td>1.230000e+02</td><td>1.230000e+02</td><td> 123.0000000</td><td>1.230000e+02</td><td>1.230000e+02</td><td>1.230000e+02</td><td>1.230000e+02</td><td>1.230000e+02</td><td>1.230000e+02</td></tr>\n",
       "\t<tr><th scope=row>nbr.null</th><td>NA          </td><td>0.000000e+00</td><td>0.000000e+00</td><td>0.000000e+00</td><td>0.000000e+00</td><td>0.000000e+00</td><td>0.000000e+00</td><td>0.000000e+00</td><td>0.000000e+00</td><td>0.000000e+00</td><td>...         </td><td>0.000000e+00</td><td>0.000000e+00</td><td>0.000000e+00</td><td>   0.0000000</td><td>0.000000e+00</td><td>0.000000e+00</td><td>0.000000e+00</td><td>0.000000e+00</td><td>0.000000e+00</td><td>0.000000e+00</td></tr>\n",
       "\t<tr><th scope=row>nbr.na</th><td>NA          </td><td>0.000000e+00</td><td>0.000000e+00</td><td>0.000000e+00</td><td>0.000000e+00</td><td>0.000000e+00</td><td>0.000000e+00</td><td>0.000000e+00</td><td>0.000000e+00</td><td>0.000000e+00</td><td>...         </td><td>0.000000e+00</td><td>0.000000e+00</td><td>0.000000e+00</td><td>   0.0000000</td><td>0.000000e+00</td><td>0.000000e+00</td><td>0.000000e+00</td><td>0.000000e+00</td><td>0.000000e+00</td><td>0.000000e+00</td></tr>\n",
       "\t<tr><th scope=row>min</th><td>NA          </td><td>6.000000e+01</td><td>5.500000e+01</td><td>6.300000e+01</td><td>5.700000e+01</td><td>5.500000e+01</td><td>5.100000e+01</td><td>5.700000e+01</td><td>5.700000e+01</td><td>6.200000e+01</td><td>...         </td><td>5.300000e+01</td><td>5.900000e+01</td><td>5.000000e+01</td><td>  51.0000000</td><td>6.700000e+01</td><td>5.900000e+01</td><td>5.600000e+01</td><td>5.600000e+01</td><td>6.300000e+01</td><td>5.600000e+01</td></tr>\n",
       "\t<tr><th scope=row>max</th><td>NA          </td><td>9.900000e+01</td><td>9.500000e+01</td><td>9.500000e+01</td><td>9.900000e+01</td><td>1.010000e+02</td><td>9.300000e+01</td><td>9.700000e+01</td><td>9.100000e+01</td><td>9.500000e+01</td><td>...         </td><td>9.800000e+01</td><td>1.040000e+02</td><td>9.500000e+01</td><td>  95.0000000</td><td>9.700000e+01</td><td>9.900000e+01</td><td>1.050000e+02</td><td>9.200000e+01</td><td>9.500000e+01</td><td>9.700000e+01</td></tr>\n",
       "\t<tr><th scope=row>range</th><td>NA          </td><td>3.900000e+01</td><td>4.000000e+01</td><td>3.200000e+01</td><td>4.200000e+01</td><td>4.600000e+01</td><td>4.200000e+01</td><td>4.000000e+01</td><td>3.400000e+01</td><td>3.300000e+01</td><td>...         </td><td>4.500000e+01</td><td>4.500000e+01</td><td>4.500000e+01</td><td>  44.0000000</td><td>3.000000e+01</td><td>4.000000e+01</td><td>4.900000e+01</td><td>3.600000e+01</td><td>3.200000e+01</td><td>4.100000e+01</td></tr>\n",
       "\t<tr><th scope=row>sum</th><td>NA          </td><td>1.029700e+04</td><td>1.004600e+04</td><td>1.036400e+04</td><td>1.025300e+04</td><td>1.033600e+04</td><td>1.003100e+04</td><td>1.028100e+04</td><td>1.002200e+04</td><td>1.005700e+04</td><td>...         </td><td>1.021500e+04</td><td>1.050400e+04</td><td>1.014900e+04</td><td>9962.0000000</td><td>1.072700e+04</td><td>1.048900e+04</td><td>1.041200e+04</td><td>1.004500e+04</td><td>1.032500e+04</td><td>1.024600e+04</td></tr>\n",
       "\t<tr><th scope=row>median</th><td>NA          </td><td>8.400000e+01</td><td>8.400000e+01</td><td>8.600000e+01</td><td>8.600000e+01</td><td>8.600000e+01</td><td>8.400000e+01</td><td>8.700000e+01</td><td>8.400000e+01</td><td>8.200000e+01</td><td>...         </td><td>8.500000e+01</td><td>8.600000e+01</td><td>8.500000e+01</td><td>  83.0000000</td><td>9.000000e+01</td><td>8.900000e+01</td><td>8.500000e+01</td><td>8.400000e+01</td><td>8.600000e+01</td><td>8.500000e+01</td></tr>\n",
       "\t<tr><th scope=row>mean</th><td>NA          </td><td>8.371545e+01</td><td>8.167480e+01</td><td>8.426016e+01</td><td>8.335772e+01</td><td>8.403252e+01</td><td>8.155285e+01</td><td>8.358537e+01</td><td>8.147967e+01</td><td>8.176423e+01</td><td>...         </td><td>8.304878e+01</td><td>8.539837e+01</td><td>8.251220e+01</td><td>  80.9918699</td><td>8.721138e+01</td><td>8.527642e+01</td><td>8.465041e+01</td><td>8.166667e+01</td><td>8.394309e+01</td><td>8.330081e+01</td></tr>\n",
       "\t<tr><th scope=row>SE.mean</th><td>NA          </td><td>7.707778e-01</td><td>8.402680e-01</td><td>5.779084e-01</td><td>8.767230e-01</td><td>8.582715e-01</td><td>7.415797e-01</td><td>8.499223e-01</td><td>6.327873e-01</td><td>6.007771e-01</td><td>...         </td><td>8.830639e-01</td><td>8.145141e-01</td><td>7.874436e-01</td><td>   0.8126922</td><td>6.713072e-01</td><td>8.954623e-01</td><td>8.342578e-01</td><td>6.966788e-01</td><td>5.943334e-01</td><td>7.852885e-01</td></tr>\n",
       "\t<tr><th scope=row>CI.mean</th><td>NA          </td><td>1.525832e+00</td><td>1.663395e+00</td><td>1.144027e+00</td><td>1.735561e+00</td><td>1.699034e+00</td><td>1.468031e+00</td><td>1.682506e+00</td><td>1.252666e+00</td><td>1.189298e+00</td><td>...         </td><td>1.748113e+00</td><td>1.612412e+00</td><td>1.558823e+00</td><td>   1.6088054</td><td>1.328920e+00</td><td>1.772657e+00</td><td>1.651497e+00</td><td>1.379145e+00</td><td>1.176542e+00</td><td>1.554557e+00</td></tr>\n",
       "\t<tr><th scope=row>var</th><td>NA          </td><td>7.307410e+01</td><td>8.684420e+01</td><td>4.107930e+01</td><td>9.454312e+01</td><td>9.060549e+01</td><td>6.764268e+01</td><td>8.885126e+01</td><td>4.925163e+01</td><td>4.439478e+01</td><td>...         </td><td>9.591563e+01</td><td>8.160229e+01</td><td>7.626829e+01</td><td>  81.2376383</td><td>5.543036e+01</td><td>9.862788e+01</td><td>8.560629e+01</td><td>5.969945e+01</td><td>4.344755e+01</td><td>7.585139e+01</td></tr>\n",
       "\t<tr><th scope=row>std.dev</th><td>NA          </td><td>8.548339e+00</td><td>9.319023e+00</td><td>6.409314e+00</td><td>9.723328e+00</td><td>9.518692e+00</td><td>8.224517e+00</td><td>9.426095e+00</td><td>7.017951e+00</td><td>6.662940e+00</td><td>...         </td><td>9.793653e+00</td><td>9.033399e+00</td><td>8.733172e+00</td><td>   9.0131925</td><td>7.445157e+00</td><td>9.931157e+00</td><td>9.252367e+00</td><td>7.726542e+00</td><td>6.591476e+00</td><td>8.709271e+00</td></tr>\n",
       "\t<tr><th scope=row>coef.var</th><td>NA          </td><td>1.021119e-01</td><td>1.140991e-01</td><td>7.606576e-02</td><td>1.166458e-01</td><td>1.132739e-01</td><td>1.008489e-01</td><td>1.127721e-01</td><td>8.613131e-02</td><td>8.148968e-02</td><td>...         </td><td>1.179265e-01</td><td>1.057795e-01</td><td>1.058410e-01</td><td>   0.1112852</td><td>8.536910e-02</td><td>1.164584e-01</td><td>1.093009e-01</td><td>9.461072e-02</td><td>7.852315e-02</td><td>1.045520e-01</td></tr>\n",
       "</tbody>\n",
       "</table>\n"
      ],
      "text/latex": [
       "\\begin{tabular}{r|lllllllllllllllllllll}\n",
       "  & DAY & X1996 & X1997 & X1998 & X1999 & X2000 & X2001 & X2002 & X2003 & X2004 & ... & X2006 & X2007 & X2008 & X2009 & X2010 & X2011 & X2012 & X2013 & X2014 & X2015\\\\\n",
       "\\hline\n",
       "\tnbr.val & NA           & 1.230000e+02 & 1.230000e+02 & 1.230000e+02 & 1.230000e+02 & 1.230000e+02 & 1.230000e+02 & 1.230000e+02 & 1.230000e+02 & 1.230000e+02 & ...          & 1.230000e+02 & 1.230000e+02 & 1.230000e+02 &  123.0000000 & 1.230000e+02 & 1.230000e+02 & 1.230000e+02 & 1.230000e+02 & 1.230000e+02 & 1.230000e+02\\\\\n",
       "\tnbr.null & NA           & 0.000000e+00 & 0.000000e+00 & 0.000000e+00 & 0.000000e+00 & 0.000000e+00 & 0.000000e+00 & 0.000000e+00 & 0.000000e+00 & 0.000000e+00 & ...          & 0.000000e+00 & 0.000000e+00 & 0.000000e+00 &    0.0000000 & 0.000000e+00 & 0.000000e+00 & 0.000000e+00 & 0.000000e+00 & 0.000000e+00 & 0.000000e+00\\\\\n",
       "\tnbr.na & NA           & 0.000000e+00 & 0.000000e+00 & 0.000000e+00 & 0.000000e+00 & 0.000000e+00 & 0.000000e+00 & 0.000000e+00 & 0.000000e+00 & 0.000000e+00 & ...          & 0.000000e+00 & 0.000000e+00 & 0.000000e+00 &    0.0000000 & 0.000000e+00 & 0.000000e+00 & 0.000000e+00 & 0.000000e+00 & 0.000000e+00 & 0.000000e+00\\\\\n",
       "\tmin & NA           & 6.000000e+01 & 5.500000e+01 & 6.300000e+01 & 5.700000e+01 & 5.500000e+01 & 5.100000e+01 & 5.700000e+01 & 5.700000e+01 & 6.200000e+01 & ...          & 5.300000e+01 & 5.900000e+01 & 5.000000e+01 &   51.0000000 & 6.700000e+01 & 5.900000e+01 & 5.600000e+01 & 5.600000e+01 & 6.300000e+01 & 5.600000e+01\\\\\n",
       "\tmax & NA           & 9.900000e+01 & 9.500000e+01 & 9.500000e+01 & 9.900000e+01 & 1.010000e+02 & 9.300000e+01 & 9.700000e+01 & 9.100000e+01 & 9.500000e+01 & ...          & 9.800000e+01 & 1.040000e+02 & 9.500000e+01 &   95.0000000 & 9.700000e+01 & 9.900000e+01 & 1.050000e+02 & 9.200000e+01 & 9.500000e+01 & 9.700000e+01\\\\\n",
       "\trange & NA           & 3.900000e+01 & 4.000000e+01 & 3.200000e+01 & 4.200000e+01 & 4.600000e+01 & 4.200000e+01 & 4.000000e+01 & 3.400000e+01 & 3.300000e+01 & ...          & 4.500000e+01 & 4.500000e+01 & 4.500000e+01 &   44.0000000 & 3.000000e+01 & 4.000000e+01 & 4.900000e+01 & 3.600000e+01 & 3.200000e+01 & 4.100000e+01\\\\\n",
       "\tsum & NA           & 1.029700e+04 & 1.004600e+04 & 1.036400e+04 & 1.025300e+04 & 1.033600e+04 & 1.003100e+04 & 1.028100e+04 & 1.002200e+04 & 1.005700e+04 & ...          & 1.021500e+04 & 1.050400e+04 & 1.014900e+04 & 9962.0000000 & 1.072700e+04 & 1.048900e+04 & 1.041200e+04 & 1.004500e+04 & 1.032500e+04 & 1.024600e+04\\\\\n",
       "\tmedian & NA           & 8.400000e+01 & 8.400000e+01 & 8.600000e+01 & 8.600000e+01 & 8.600000e+01 & 8.400000e+01 & 8.700000e+01 & 8.400000e+01 & 8.200000e+01 & ...          & 8.500000e+01 & 8.600000e+01 & 8.500000e+01 &   83.0000000 & 9.000000e+01 & 8.900000e+01 & 8.500000e+01 & 8.400000e+01 & 8.600000e+01 & 8.500000e+01\\\\\n",
       "\tmean & NA           & 8.371545e+01 & 8.167480e+01 & 8.426016e+01 & 8.335772e+01 & 8.403252e+01 & 8.155285e+01 & 8.358537e+01 & 8.147967e+01 & 8.176423e+01 & ...          & 8.304878e+01 & 8.539837e+01 & 8.251220e+01 &   80.9918699 & 8.721138e+01 & 8.527642e+01 & 8.465041e+01 & 8.166667e+01 & 8.394309e+01 & 8.330081e+01\\\\\n",
       "\tSE.mean & NA           & 7.707778e-01 & 8.402680e-01 & 5.779084e-01 & 8.767230e-01 & 8.582715e-01 & 7.415797e-01 & 8.499223e-01 & 6.327873e-01 & 6.007771e-01 & ...          & 8.830639e-01 & 8.145141e-01 & 7.874436e-01 &    0.8126922 & 6.713072e-01 & 8.954623e-01 & 8.342578e-01 & 6.966788e-01 & 5.943334e-01 & 7.852885e-01\\\\\n",
       "\tCI.mean & NA           & 1.525832e+00 & 1.663395e+00 & 1.144027e+00 & 1.735561e+00 & 1.699034e+00 & 1.468031e+00 & 1.682506e+00 & 1.252666e+00 & 1.189298e+00 & ...          & 1.748113e+00 & 1.612412e+00 & 1.558823e+00 &    1.6088054 & 1.328920e+00 & 1.772657e+00 & 1.651497e+00 & 1.379145e+00 & 1.176542e+00 & 1.554557e+00\\\\\n",
       "\tvar & NA           & 7.307410e+01 & 8.684420e+01 & 4.107930e+01 & 9.454312e+01 & 9.060549e+01 & 6.764268e+01 & 8.885126e+01 & 4.925163e+01 & 4.439478e+01 & ...          & 9.591563e+01 & 8.160229e+01 & 7.626829e+01 &   81.2376383 & 5.543036e+01 & 9.862788e+01 & 8.560629e+01 & 5.969945e+01 & 4.344755e+01 & 7.585139e+01\\\\\n",
       "\tstd.dev & NA           & 8.548339e+00 & 9.319023e+00 & 6.409314e+00 & 9.723328e+00 & 9.518692e+00 & 8.224517e+00 & 9.426095e+00 & 7.017951e+00 & 6.662940e+00 & ...          & 9.793653e+00 & 9.033399e+00 & 8.733172e+00 &    9.0131925 & 7.445157e+00 & 9.931157e+00 & 9.252367e+00 & 7.726542e+00 & 6.591476e+00 & 8.709271e+00\\\\\n",
       "\tcoef.var & NA           & 1.021119e-01 & 1.140991e-01 & 7.606576e-02 & 1.166458e-01 & 1.132739e-01 & 1.008489e-01 & 1.127721e-01 & 8.613131e-02 & 8.148968e-02 & ...          & 1.179265e-01 & 1.057795e-01 & 1.058410e-01 &    0.1112852 & 8.536910e-02 & 1.164584e-01 & 1.093009e-01 & 9.461072e-02 & 7.852315e-02 & 1.045520e-01\\\\\n",
       "\\end{tabular}\n"
      ],
      "text/markdown": [
       "\n",
       "| <!--/--> | DAY | X1996 | X1997 | X1998 | X1999 | X2000 | X2001 | X2002 | X2003 | X2004 | ... | X2006 | X2007 | X2008 | X2009 | X2010 | X2011 | X2012 | X2013 | X2014 | X2015 |\n",
       "|---|---|---|---|---|---|---|---|---|---|---|---|---|---|---|---|---|---|---|---|---|---|\n",
       "| nbr.val | NA           | 1.230000e+02 | 1.230000e+02 | 1.230000e+02 | 1.230000e+02 | 1.230000e+02 | 1.230000e+02 | 1.230000e+02 | 1.230000e+02 | 1.230000e+02 | ...          | 1.230000e+02 | 1.230000e+02 | 1.230000e+02 |  123.0000000 | 1.230000e+02 | 1.230000e+02 | 1.230000e+02 | 1.230000e+02 | 1.230000e+02 | 1.230000e+02 |\n",
       "| nbr.null | NA           | 0.000000e+00 | 0.000000e+00 | 0.000000e+00 | 0.000000e+00 | 0.000000e+00 | 0.000000e+00 | 0.000000e+00 | 0.000000e+00 | 0.000000e+00 | ...          | 0.000000e+00 | 0.000000e+00 | 0.000000e+00 |    0.0000000 | 0.000000e+00 | 0.000000e+00 | 0.000000e+00 | 0.000000e+00 | 0.000000e+00 | 0.000000e+00 |\n",
       "| nbr.na | NA           | 0.000000e+00 | 0.000000e+00 | 0.000000e+00 | 0.000000e+00 | 0.000000e+00 | 0.000000e+00 | 0.000000e+00 | 0.000000e+00 | 0.000000e+00 | ...          | 0.000000e+00 | 0.000000e+00 | 0.000000e+00 |    0.0000000 | 0.000000e+00 | 0.000000e+00 | 0.000000e+00 | 0.000000e+00 | 0.000000e+00 | 0.000000e+00 |\n",
       "| min | NA           | 6.000000e+01 | 5.500000e+01 | 6.300000e+01 | 5.700000e+01 | 5.500000e+01 | 5.100000e+01 | 5.700000e+01 | 5.700000e+01 | 6.200000e+01 | ...          | 5.300000e+01 | 5.900000e+01 | 5.000000e+01 |   51.0000000 | 6.700000e+01 | 5.900000e+01 | 5.600000e+01 | 5.600000e+01 | 6.300000e+01 | 5.600000e+01 |\n",
       "| max | NA           | 9.900000e+01 | 9.500000e+01 | 9.500000e+01 | 9.900000e+01 | 1.010000e+02 | 9.300000e+01 | 9.700000e+01 | 9.100000e+01 | 9.500000e+01 | ...          | 9.800000e+01 | 1.040000e+02 | 9.500000e+01 |   95.0000000 | 9.700000e+01 | 9.900000e+01 | 1.050000e+02 | 9.200000e+01 | 9.500000e+01 | 9.700000e+01 |\n",
       "| range | NA           | 3.900000e+01 | 4.000000e+01 | 3.200000e+01 | 4.200000e+01 | 4.600000e+01 | 4.200000e+01 | 4.000000e+01 | 3.400000e+01 | 3.300000e+01 | ...          | 4.500000e+01 | 4.500000e+01 | 4.500000e+01 |   44.0000000 | 3.000000e+01 | 4.000000e+01 | 4.900000e+01 | 3.600000e+01 | 3.200000e+01 | 4.100000e+01 |\n",
       "| sum | NA           | 1.029700e+04 | 1.004600e+04 | 1.036400e+04 | 1.025300e+04 | 1.033600e+04 | 1.003100e+04 | 1.028100e+04 | 1.002200e+04 | 1.005700e+04 | ...          | 1.021500e+04 | 1.050400e+04 | 1.014900e+04 | 9962.0000000 | 1.072700e+04 | 1.048900e+04 | 1.041200e+04 | 1.004500e+04 | 1.032500e+04 | 1.024600e+04 |\n",
       "| median | NA           | 8.400000e+01 | 8.400000e+01 | 8.600000e+01 | 8.600000e+01 | 8.600000e+01 | 8.400000e+01 | 8.700000e+01 | 8.400000e+01 | 8.200000e+01 | ...          | 8.500000e+01 | 8.600000e+01 | 8.500000e+01 |   83.0000000 | 9.000000e+01 | 8.900000e+01 | 8.500000e+01 | 8.400000e+01 | 8.600000e+01 | 8.500000e+01 |\n",
       "| mean | NA           | 8.371545e+01 | 8.167480e+01 | 8.426016e+01 | 8.335772e+01 | 8.403252e+01 | 8.155285e+01 | 8.358537e+01 | 8.147967e+01 | 8.176423e+01 | ...          | 8.304878e+01 | 8.539837e+01 | 8.251220e+01 |   80.9918699 | 8.721138e+01 | 8.527642e+01 | 8.465041e+01 | 8.166667e+01 | 8.394309e+01 | 8.330081e+01 |\n",
       "| SE.mean | NA           | 7.707778e-01 | 8.402680e-01 | 5.779084e-01 | 8.767230e-01 | 8.582715e-01 | 7.415797e-01 | 8.499223e-01 | 6.327873e-01 | 6.007771e-01 | ...          | 8.830639e-01 | 8.145141e-01 | 7.874436e-01 |    0.8126922 | 6.713072e-01 | 8.954623e-01 | 8.342578e-01 | 6.966788e-01 | 5.943334e-01 | 7.852885e-01 |\n",
       "| CI.mean | NA           | 1.525832e+00 | 1.663395e+00 | 1.144027e+00 | 1.735561e+00 | 1.699034e+00 | 1.468031e+00 | 1.682506e+00 | 1.252666e+00 | 1.189298e+00 | ...          | 1.748113e+00 | 1.612412e+00 | 1.558823e+00 |    1.6088054 | 1.328920e+00 | 1.772657e+00 | 1.651497e+00 | 1.379145e+00 | 1.176542e+00 | 1.554557e+00 |\n",
       "| var | NA           | 7.307410e+01 | 8.684420e+01 | 4.107930e+01 | 9.454312e+01 | 9.060549e+01 | 6.764268e+01 | 8.885126e+01 | 4.925163e+01 | 4.439478e+01 | ...          | 9.591563e+01 | 8.160229e+01 | 7.626829e+01 |   81.2376383 | 5.543036e+01 | 9.862788e+01 | 8.560629e+01 | 5.969945e+01 | 4.344755e+01 | 7.585139e+01 |\n",
       "| std.dev | NA           | 8.548339e+00 | 9.319023e+00 | 6.409314e+00 | 9.723328e+00 | 9.518692e+00 | 8.224517e+00 | 9.426095e+00 | 7.017951e+00 | 6.662940e+00 | ...          | 9.793653e+00 | 9.033399e+00 | 8.733172e+00 |    9.0131925 | 7.445157e+00 | 9.931157e+00 | 9.252367e+00 | 7.726542e+00 | 6.591476e+00 | 8.709271e+00 |\n",
       "| coef.var | NA           | 1.021119e-01 | 1.140991e-01 | 7.606576e-02 | 1.166458e-01 | 1.132739e-01 | 1.008489e-01 | 1.127721e-01 | 8.613131e-02 | 8.148968e-02 | ...          | 1.179265e-01 | 1.057795e-01 | 1.058410e-01 |    0.1112852 | 8.536910e-02 | 1.164584e-01 | 1.093009e-01 | 9.461072e-02 | 7.852315e-02 | 1.045520e-01 |\n",
       "\n"
      ],
      "text/plain": [
       "         DAY X1996        X1997        X1998        X1999        X2000       \n",
       "nbr.val  NA  1.230000e+02 1.230000e+02 1.230000e+02 1.230000e+02 1.230000e+02\n",
       "nbr.null NA  0.000000e+00 0.000000e+00 0.000000e+00 0.000000e+00 0.000000e+00\n",
       "nbr.na   NA  0.000000e+00 0.000000e+00 0.000000e+00 0.000000e+00 0.000000e+00\n",
       "min      NA  6.000000e+01 5.500000e+01 6.300000e+01 5.700000e+01 5.500000e+01\n",
       "max      NA  9.900000e+01 9.500000e+01 9.500000e+01 9.900000e+01 1.010000e+02\n",
       "range    NA  3.900000e+01 4.000000e+01 3.200000e+01 4.200000e+01 4.600000e+01\n",
       "sum      NA  1.029700e+04 1.004600e+04 1.036400e+04 1.025300e+04 1.033600e+04\n",
       "median   NA  8.400000e+01 8.400000e+01 8.600000e+01 8.600000e+01 8.600000e+01\n",
       "mean     NA  8.371545e+01 8.167480e+01 8.426016e+01 8.335772e+01 8.403252e+01\n",
       "SE.mean  NA  7.707778e-01 8.402680e-01 5.779084e-01 8.767230e-01 8.582715e-01\n",
       "CI.mean  NA  1.525832e+00 1.663395e+00 1.144027e+00 1.735561e+00 1.699034e+00\n",
       "var      NA  7.307410e+01 8.684420e+01 4.107930e+01 9.454312e+01 9.060549e+01\n",
       "std.dev  NA  8.548339e+00 9.319023e+00 6.409314e+00 9.723328e+00 9.518692e+00\n",
       "coef.var NA  1.021119e-01 1.140991e-01 7.606576e-02 1.166458e-01 1.132739e-01\n",
       "         X2001        X2002        X2003        X2004        ... X2006       \n",
       "nbr.val  1.230000e+02 1.230000e+02 1.230000e+02 1.230000e+02 ... 1.230000e+02\n",
       "nbr.null 0.000000e+00 0.000000e+00 0.000000e+00 0.000000e+00 ... 0.000000e+00\n",
       "nbr.na   0.000000e+00 0.000000e+00 0.000000e+00 0.000000e+00 ... 0.000000e+00\n",
       "min      5.100000e+01 5.700000e+01 5.700000e+01 6.200000e+01 ... 5.300000e+01\n",
       "max      9.300000e+01 9.700000e+01 9.100000e+01 9.500000e+01 ... 9.800000e+01\n",
       "range    4.200000e+01 4.000000e+01 3.400000e+01 3.300000e+01 ... 4.500000e+01\n",
       "sum      1.003100e+04 1.028100e+04 1.002200e+04 1.005700e+04 ... 1.021500e+04\n",
       "median   8.400000e+01 8.700000e+01 8.400000e+01 8.200000e+01 ... 8.500000e+01\n",
       "mean     8.155285e+01 8.358537e+01 8.147967e+01 8.176423e+01 ... 8.304878e+01\n",
       "SE.mean  7.415797e-01 8.499223e-01 6.327873e-01 6.007771e-01 ... 8.830639e-01\n",
       "CI.mean  1.468031e+00 1.682506e+00 1.252666e+00 1.189298e+00 ... 1.748113e+00\n",
       "var      6.764268e+01 8.885126e+01 4.925163e+01 4.439478e+01 ... 9.591563e+01\n",
       "std.dev  8.224517e+00 9.426095e+00 7.017951e+00 6.662940e+00 ... 9.793653e+00\n",
       "coef.var 1.008489e-01 1.127721e-01 8.613131e-02 8.148968e-02 ... 1.179265e-01\n",
       "         X2007        X2008        X2009        X2010        X2011       \n",
       "nbr.val  1.230000e+02 1.230000e+02  123.0000000 1.230000e+02 1.230000e+02\n",
       "nbr.null 0.000000e+00 0.000000e+00    0.0000000 0.000000e+00 0.000000e+00\n",
       "nbr.na   0.000000e+00 0.000000e+00    0.0000000 0.000000e+00 0.000000e+00\n",
       "min      5.900000e+01 5.000000e+01   51.0000000 6.700000e+01 5.900000e+01\n",
       "max      1.040000e+02 9.500000e+01   95.0000000 9.700000e+01 9.900000e+01\n",
       "range    4.500000e+01 4.500000e+01   44.0000000 3.000000e+01 4.000000e+01\n",
       "sum      1.050400e+04 1.014900e+04 9962.0000000 1.072700e+04 1.048900e+04\n",
       "median   8.600000e+01 8.500000e+01   83.0000000 9.000000e+01 8.900000e+01\n",
       "mean     8.539837e+01 8.251220e+01   80.9918699 8.721138e+01 8.527642e+01\n",
       "SE.mean  8.145141e-01 7.874436e-01    0.8126922 6.713072e-01 8.954623e-01\n",
       "CI.mean  1.612412e+00 1.558823e+00    1.6088054 1.328920e+00 1.772657e+00\n",
       "var      8.160229e+01 7.626829e+01   81.2376383 5.543036e+01 9.862788e+01\n",
       "std.dev  9.033399e+00 8.733172e+00    9.0131925 7.445157e+00 9.931157e+00\n",
       "coef.var 1.057795e-01 1.058410e-01    0.1112852 8.536910e-02 1.164584e-01\n",
       "         X2012        X2013        X2014        X2015       \n",
       "nbr.val  1.230000e+02 1.230000e+02 1.230000e+02 1.230000e+02\n",
       "nbr.null 0.000000e+00 0.000000e+00 0.000000e+00 0.000000e+00\n",
       "nbr.na   0.000000e+00 0.000000e+00 0.000000e+00 0.000000e+00\n",
       "min      5.600000e+01 5.600000e+01 6.300000e+01 5.600000e+01\n",
       "max      1.050000e+02 9.200000e+01 9.500000e+01 9.700000e+01\n",
       "range    4.900000e+01 3.600000e+01 3.200000e+01 4.100000e+01\n",
       "sum      1.041200e+04 1.004500e+04 1.032500e+04 1.024600e+04\n",
       "median   8.500000e+01 8.400000e+01 8.600000e+01 8.500000e+01\n",
       "mean     8.465041e+01 8.166667e+01 8.394309e+01 8.330081e+01\n",
       "SE.mean  8.342578e-01 6.966788e-01 5.943334e-01 7.852885e-01\n",
       "CI.mean  1.651497e+00 1.379145e+00 1.176542e+00 1.554557e+00\n",
       "var      8.560629e+01 5.969945e+01 4.344755e+01 7.585139e+01\n",
       "std.dev  9.252367e+00 7.726542e+00 6.591476e+00 8.709271e+00\n",
       "coef.var 1.093009e-01 9.461072e-02 7.852315e-02 1.045520e-01"
      ]
     },
     "metadata": {},
     "output_type": "display_data"
    }
   ],
   "source": [
    "# Get statistical information about each column\n",
    "stat.desc(temps_data)"
   ]
  },
  {
   "cell_type": "markdown",
   "id": "421f783b-f2af-41eb-8bfc-c749421bf9e2",
   "metadata": {},
   "source": [
    "This lets me know that I have a table with 123 rows and 21 columns. The data is primarily integers with one factor value which is the DAY column. Temperature ranges for each year are ~30-40 degrees and the standard deviations are ~6.5-10. The data represents the daily high temperature in Atlanta for the given year from July through October. The last thing I'm going to do is create a time series object from the data and look at the data over the entire time period."
   ]
  },
  {
   "cell_type": "code",
   "execution_count": 8,
   "id": "d5d83bc5-b038-4795-88d6-9e61afcc0307",
   "metadata": {},
   "outputs": [
    {
     "data": {
      "text/html": [
       "<table>\n",
       "<thead><tr><th scope=col>Date</th><th scope=col>Temperature</th></tr></thead>\n",
       "<tbody>\n",
       "\t<tr><td>Jul  1, 1996</td><td>98          </td></tr>\n",
       "\t<tr><td>Jul  2, 1996</td><td>97          </td></tr>\n",
       "\t<tr><td>Jul  3, 1996</td><td>97          </td></tr>\n",
       "\t<tr><td>Jul  4, 1996</td><td>90          </td></tr>\n",
       "\t<tr><td>Jul  5, 1996</td><td>89          </td></tr>\n",
       "\t<tr><td>Jul  6, 1996</td><td>93          </td></tr>\n",
       "</tbody>\n",
       "</table>\n"
      ],
      "text/latex": [
       "\\begin{tabular}{r|ll}\n",
       " Date & Temperature\\\\\n",
       "\\hline\n",
       "\t Jul  1, 1996 & 98          \\\\\n",
       "\t Jul  2, 1996 & 97          \\\\\n",
       "\t Jul  3, 1996 & 97          \\\\\n",
       "\t Jul  4, 1996 & 90          \\\\\n",
       "\t Jul  5, 1996 & 89          \\\\\n",
       "\t Jul  6, 1996 & 93          \\\\\n",
       "\\end{tabular}\n"
      ],
      "text/markdown": [
       "\n",
       "| Date | Temperature |\n",
       "|---|---|\n",
       "| Jul  1, 1996 | 98           |\n",
       "| Jul  2, 1996 | 97           |\n",
       "| Jul  3, 1996 | 97           |\n",
       "| Jul  4, 1996 | 90           |\n",
       "| Jul  5, 1996 | 89           |\n",
       "| Jul  6, 1996 | 93           |\n",
       "\n"
      ],
      "text/plain": [
       "  Date         Temperature\n",
       "1 Jul  1, 1996 98         \n",
       "2 Jul  2, 1996 97         \n",
       "3 Jul  3, 1996 97         \n",
       "4 Jul  4, 1996 90         \n",
       "5 Jul  5, 1996 89         \n",
       "6 Jul  6, 1996 93         "
      ]
     },
     "metadata": {},
     "output_type": "display_data"
    }
   ],
   "source": [
    "# Create table of dates and temperatures for later reference\n",
    "temps_unpacked <- temps_data %>%\n",
    "  gather(key = \"Year\", value = \"Temperature\", -DAY) %>%\n",
    "  mutate(Date = dmy(paste(DAY, Year, sep = \"-\")),\n",
    "         Date = format(Date, \"%b %e, %Y\")) %>%\n",
    "  select(Date, Temperature)\n",
    "\n",
    "# Display the head of the new data\n",
    "head(temps_unpacked)"
   ]
  },
  {
   "cell_type": "code",
   "execution_count": 9,
   "id": "8aa8faef-c8f1-4dd5-9245-ec5096e36cd8",
   "metadata": {},
   "outputs": [
    {
     "data": {
      "image/png": "[encoded data removed]",
      "text/plain": [
       "plot without title"
      ]
     },
     "metadata": {},
     "output_type": "display_data"
    }
   ],
   "source": [
    "# Create a time series object\n",
    "temps_ts <- ts(as.vector(unlist(temps_data[, 2:21])), start = 1996, frequency = 123)\n",
    "\n",
    "# Plot the time series\n",
    "plot.ts(temps_ts)"
   ]
  },
  {
   "cell_type": "code",
   "execution_count": 10,
   "id": "ac9c3ecd-1a77-4c84-aa45-bdcf8fde22bd",
   "metadata": {},
   "outputs": [
    {
     "data": {
      "image/png": "[encoded data removed]",
      "text/plain": [
       "plot without title"
      ]
     },
     "metadata": {},
     "output_type": "display_data"
    }
   ],
   "source": [
    "# Finally I want to look at the components of the time series data\n",
    "components_temps_ts <- decompose(temps_ts)\n",
    "plot(components_temps_ts)"
   ]
  },
  {
   "cell_type": "markdown",
   "id": "02b12f2d-6674-46dc-bb47-3be77452b4c8",
   "metadata": {},
   "source": [
    "When looking at the various components of the time series data it's important to look at the scale of the vertical axis for each component. While it shows a clear seasonality pattern that follows the general seasons of our data the random factor is actually more influential. It will be interesting to see how the exponential model compares."
   ]
  },
  {
   "cell_type": "markdown",
   "id": "dafaf042-e565-4d0f-ba5f-ee262fcb3a0e",
   "metadata": {},
   "source": [
    "#### Step 2 - Apply a 1st, 2nd, and 3rd order Holt Winters model to the data\n",
    "Now that I've looked at the data and prepared it for the Holt Winters model I am goign to create four models: single, double, and triple exponential smoothing with additive and multiplicative seasonality."
   ]
  },
  {
   "cell_type": "code",
   "execution_count": 11,
   "id": "6dba2306-d1f7-4e86-9a1d-ddf6f8f0f341",
   "metadata": {},
   "outputs": [],
   "source": [
    "# Create four models: single, double, triple with additive seasonality, and triple w/ multiplicative seasonality exponential smoothing\n",
    "temps_hw_1 <- HoltWinters(temps_ts, alpha=NULL, beta=FALSE, gamma=FALSE)\n",
    "temps_hw_2 <- HoltWinters(temps_ts, alpha=NULL, beta=NULL, gamma=FALSE)\n",
    "temps_hw_3_add <- HoltWinters(temps_ts, alpha=NULL, beta=NULL, gamma=NULL) \n",
    "temps_hw_3_mult <- HoltWinters(temps_ts, alpha=NULL, beta=NULL, gamma=NULL, seasonal = \"mult\") "
   ]
  },
  {
   "cell_type": "code",
   "execution_count": 12,
   "id": "c02b4d2c-7337-4217-a286-a7b5e38ebb09",
   "metadata": {},
   "outputs": [
    {
     "data": {
      "text/plain": [
       "Holt-Winters exponential smoothing without trend and without seasonal component.\n",
       "\n",
       "Call:\n",
       "HoltWinters(x = temps_ts, alpha = NULL, beta = FALSE, gamma = FALSE)\n",
       "\n",
       "Smoothing parameters:\n",
       " alpha: 0.8388021\n",
       " beta : FALSE\n",
       " gamma: FALSE\n",
       "\n",
       "Coefficients:\n",
       "      [,1]\n",
       "a 63.30952"
      ]
     },
     "metadata": {},
     "output_type": "display_data"
    }
   ],
   "source": [
    "# Look at the output for the single exponential model\n",
    "temps_hw_1"
   ]
  },
  {
   "cell_type": "code",
   "execution_count": 13,
   "id": "8c2f0191-b6fe-4f31-a60b-fee41b630d52",
   "metadata": {},
   "outputs": [
    {
     "data": {
      "text/plain": [
       "Holt-Winters exponential smoothing with trend and without seasonal component.\n",
       "\n",
       "Call:\n",
       "HoltWinters(x = temps_ts, alpha = NULL, beta = NULL, gamma = FALSE)\n",
       "\n",
       "Smoothing parameters:\n",
       " alpha: 0.8445729\n",
       " beta : 0.003720884\n",
       " gamma: FALSE\n",
       "\n",
       "Coefficients:\n",
       "        [,1]\n",
       "a 63.2530022\n",
       "b -0.0729933"
      ]
     },
     "metadata": {},
     "output_type": "display_data"
    }
   ],
   "source": [
    "# Look at output for double exponential model\n",
    "temps_hw_2"
   ]
  },
  {
   "cell_type": "code",
   "execution_count": 14,
   "id": "d5a672ab-93b6-40ea-adc0-9821cafd9856",
   "metadata": {},
   "outputs": [
    {
     "data": {
      "text/plain": [
       "Holt-Winters exponential smoothing with trend and additive seasonal component.\n",
       "\n",
       "Call:\n",
       "HoltWinters(x = temps_ts, alpha = NULL, beta = NULL, gamma = NULL)\n",
       "\n",
       "Smoothing parameters:\n",
       " alpha: 0.6610618\n",
       " beta : 0\n",
       " gamma: 0.6248076\n",
       "\n",
       "Coefficients:\n",
       "              [,1]\n",
       "a     71.477236414\n",
       "b     -0.004362918\n",
       "s1    18.590169842\n",
       "s2    17.803098732\n",
       "s3    12.204442890\n",
       "s4    13.233948865\n",
       "s5    12.957258705\n",
       "s6    11.525341233\n",
       "s7    10.854441534\n",
       "s8    10.199632666\n",
       "s9     8.694767348\n",
       "s10    5.983076192\n",
       "s11    3.123493477\n",
       "s12    4.698228193\n",
       "s13    2.730023168\n",
       "s14    2.995935818\n",
       "s15    1.714600919\n",
       "s16    2.486701224\n",
       "s17    6.382595268\n",
       "s18    5.081837636\n",
       "s19    7.571432660\n",
       "s20    6.165047647\n",
       "s21    9.560458487\n",
       "s22    9.700133847\n",
       "s23    8.808383245\n",
       "s24    8.505505527\n",
       "s25    7.406809208\n",
       "s26    6.839204571\n",
       "s27    6.368261304\n",
       "s28    6.382080380\n",
       "s29    4.552058253\n",
       "s30    6.877476437\n",
       "s31    4.823330209\n",
       "s32    4.931885957\n",
       "s33    7.109879628\n",
       "s34    6.178469084\n",
       "s35    4.886891317\n",
       "s36    3.890547248\n",
       "s37    2.148316257\n",
       "s38    2.524866001\n",
       "s39    3.008098232\n",
       "s40    3.041663870\n",
       "s41    2.251741386\n",
       "s42    0.101091985\n",
       "s43   -0.123337548\n",
       "s44   -1.445675315\n",
       "s45   -1.802768181\n",
       "s46   -2.192036338\n",
       "s47   -0.180954242\n",
       "s48    1.538987281\n",
       "s49    5.075394760\n",
       "s50    6.740978049\n",
       "s51    7.737089782\n",
       "s52    8.579515859\n",
       "s53    8.408834158\n",
       "s54    4.704976718\n",
       "s55    1.827215229\n",
       "s56   -1.275747384\n",
       "s57    1.389899699\n",
       "s58    1.376842871\n",
       "s59    0.509553410\n",
       "s60    1.886439429\n",
       "s61   -0.806454923\n",
       "s62    5.221873550\n",
       "s63    5.383073482\n",
       "s64    4.265584552\n",
       "s65    3.841481452\n",
       "s66   -0.231239928\n",
       "s67    0.542761270\n",
       "s68    0.780131779\n",
       "s69    1.096690727\n",
       "s70    0.690525998\n",
       "s71    2.301303414\n",
       "s72    2.965913580\n",
       "s73    4.393732595\n",
       "s74    2.744547070\n",
       "s75    1.035278911\n",
       "s76    1.170709479\n",
       "s77    2.796838283\n",
       "s78    2.000312540\n",
       "s79    0.007337449\n",
       "s80   -1.203916069\n",
       "s81    0.352397232\n",
       "s82    0.675108103\n",
       "s83   -3.169643942\n",
       "s84   -1.913321175\n",
       "s85   -1.647780450\n",
       "s86   -5.281261301\n",
       "s87   -5.126493027\n",
       "s88   -2.637666754\n",
       "s89   -2.342133004\n",
       "s90   -3.281910970\n",
       "s91   -4.242033198\n",
       "s92   -2.596010530\n",
       "s93   -7.821281290\n",
       "s94   -8.814741200\n",
       "s95   -8.996689798\n",
       "s96   -7.835655534\n",
       "s97   -5.749139155\n",
       "s98   -5.196182693\n",
       "s99   -8.623793296\n",
       "s100 -11.809355220\n",
       "s101 -13.129428554\n",
       "s102 -16.095143067\n",
       "s103 -15.125436350\n",
       "s104 -13.963606549\n",
       "s105 -12.953304848\n",
       "s106 -16.097179844\n",
       "s107 -15.489223470\n",
       "s108 -13.680122300\n",
       "s109 -11.921434142\n",
       "s110 -12.035411347\n",
       "s111 -12.837047727\n",
       "s112  -9.095808127\n",
       "s113  -5.433029341\n",
       "s114  -6.800835107\n",
       "s115  -8.413639598\n",
       "s116 -10.912409484\n",
       "s117 -13.553826535\n",
       "s118 -10.652543677\n",
       "s119 -12.627298331\n",
       "s120  -9.906981556\n",
       "s121 -12.668519900\n",
       "s122  -9.805502547\n",
       "s123  -7.775306633"
      ]
     },
     "metadata": {},
     "output_type": "display_data"
    }
   ],
   "source": [
    "# Look at output for triple exponential mode using the additive method\n",
    "temps_hw_3_add"
   ]
  },
  {
   "cell_type": "code",
   "execution_count": 15,
   "id": "2dfe362a-2eee-4eeb-add3-dec0dbf292d5",
   "metadata": {},
   "outputs": [
    {
     "data": {
      "text/plain": [
       "Holt-Winters exponential smoothing with trend and multiplicative seasonal component.\n",
       "\n",
       "Call:\n",
       "HoltWinters(x = temps_ts, alpha = NULL, beta = NULL, gamma = NULL,     seasonal = \"mult\")\n",
       "\n",
       "Smoothing parameters:\n",
       " alpha: 0.615003\n",
       " beta : 0\n",
       " gamma: 0.5495256\n",
       "\n",
       "Coefficients:\n",
       "             [,1]\n",
       "a    73.679517064\n",
       "b    -0.004362918\n",
       "s1    1.239022317\n",
       "s2    1.234344062\n",
       "s3    1.159509551\n",
       "s4    1.175247483\n",
       "s5    1.171344196\n",
       "s6    1.151038408\n",
       "s7    1.139383104\n",
       "s8    1.130484528\n",
       "s9    1.110487514\n",
       "s10   1.076242879\n",
       "s11   1.041044609\n",
       "s12   1.058139281\n",
       "s13   1.032496529\n",
       "s14   1.036257448\n",
       "s15   1.019348815\n",
       "s16   1.026754142\n",
       "s17   1.071170378\n",
       "s18   1.054819556\n",
       "s19   1.084397734\n",
       "s20   1.064605879\n",
       "s21   1.109827336\n",
       "s22   1.112670130\n",
       "s23   1.103970506\n",
       "s24   1.102771209\n",
       "s25   1.091264692\n",
       "s26   1.084518342\n",
       "s27   1.077914660\n",
       "s28   1.077696145\n",
       "s29   1.053788854\n",
       "s30   1.079454300\n",
       "s31   1.053481186\n",
       "s32   1.054023885\n",
       "s33   1.078221405\n",
       "s34   1.070145761\n",
       "s35   1.054891375\n",
       "s36   1.044587771\n",
       "s37   1.023285461\n",
       "s38   1.025836722\n",
       "s39   1.031075732\n",
       "s40   1.031419152\n",
       "s41   1.021827552\n",
       "s42   0.998177248\n",
       "s43   0.996049257\n",
       "s44   0.981570825\n",
       "s45   0.976510542\n",
       "s46   0.967977608\n",
       "s47   0.985788411\n",
       "s48   1.004748195\n",
       "s49   1.050965934\n",
       "s50   1.072515008\n",
       "s51   1.086532279\n",
       "s52   1.098357400\n",
       "s53   1.097158461\n",
       "s54   1.054827180\n",
       "s55   1.022866587\n",
       "s56   0.987259326\n",
       "s57   1.016923524\n",
       "s58   1.016604903\n",
       "s59   1.004320951\n",
       "s60   1.019102781\n",
       "s61   0.983848662\n",
       "s62   1.055888360\n",
       "s63   1.056122844\n",
       "s64   1.043478958\n",
       "s65   1.039475693\n",
       "s66   0.991019224\n",
       "s67   1.001437488\n",
       "s68   1.002221759\n",
       "s69   1.003949213\n",
       "s70   0.999566344\n",
       "s71   1.018636837\n",
       "s72   1.026490773\n",
       "s73   1.042507768\n",
       "s74   1.022500795\n",
       "s75   1.002503740\n",
       "s76   1.004560984\n",
       "s77   1.025536556\n",
       "s78   1.015357769\n",
       "s79   0.992176558\n",
       "s80   0.979377825\n",
       "s81   0.998058079\n",
       "s82   1.002553395\n",
       "s83   0.955429116\n",
       "s84   0.970970220\n",
       "s85   0.975543504\n",
       "s86   0.931515830\n",
       "s87   0.926764603\n",
       "s88   0.958565273\n",
       "s89   0.963250387\n",
       "s90   0.951644060\n",
       "s91   0.937362688\n",
       "s92   0.954257999\n",
       "s93   0.892485444\n",
       "s94   0.879537700\n",
       "s95   0.879946892\n",
       "s96   0.890633648\n",
       "s97   0.917134959\n",
       "s98   0.925991769\n",
       "s99   0.884247686\n",
       "s100  0.846648167\n",
       "s101  0.833696369\n",
       "s102  0.800001437\n",
       "s103  0.807934782\n",
       "s104  0.819343668\n",
       "s105  0.828571029\n",
       "s106  0.795608740\n",
       "s107  0.796609993\n",
       "s108  0.815503509\n",
       "s109  0.830111282\n",
       "s110  0.829086181\n",
       "s111  0.818367239\n",
       "s112  0.863958784\n",
       "s113  0.912057203\n",
       "s114  0.898308248\n",
       "s115  0.878723779\n",
       "s116  0.848971946\n",
       "s117  0.813891909\n",
       "s118  0.846821392\n",
       "s119  0.819121827\n",
       "s120  0.851036184\n",
       "s121  0.820416491\n",
       "s122  0.851581233\n",
       "s123  0.874038407"
      ]
     },
     "metadata": {},
     "output_type": "display_data"
    }
   ],
   "source": [
    "# Look at output for triple exponential mode using the multiplicative method\n",
    "temps_hw_3_mult"
   ]
  },
  {
   "cell_type": "code",
   "execution_count": 16,
   "id": "d9fc39f3-7da8-42f0-a7ce-3a7020c425c6",
   "metadata": {},
   "outputs": [
    {
     "data": {
      "text/html": [
       "2459"
      ],
      "text/latex": [
       "2459"
      ],
      "text/markdown": [
       "2459"
      ],
      "text/plain": [
       "[1] 2459"
      ]
     },
     "metadata": {},
     "output_type": "display_data"
    }
   ],
   "source": [
    "nrow(fitted(temps_hw_1))"
   ]
  },
  {
   "cell_type": "code",
   "execution_count": 17,
   "id": "7e01cf97-37ff-4451-9c69-c491be45127a",
   "metadata": {},
   "outputs": [
    {
     "data": {
      "image/png": "[encoded data removed]",
      "text/plain": [
       "plot without title"
      ]
     },
     "metadata": {},
     "output_type": "display_data"
    }
   ],
   "source": [
    "# Since the graphs are hard to interpret at the larger scale I'm going to zoom in on just one month (Oct. 2015) and plot all four models\n",
    "# Extract fitted values for the specified range\n",
    "fitted_values_1 <- fitted(temps_hw_1)[2428:2459]\n",
    "fitted_values_2 <- fitted(temps_hw_2)[2428:2459]\n",
    "fitted_values_3 <- fitted(temps_hw_3_add)[2428:2459]\n",
    "fitted_values_4 <- fitted(temps_hw_3_mult)[2428:2459]\n",
    "\n",
    "# Create a new dataframe\n",
    "temps_ts_plot <- data.frame(\n",
    "  index = 1:length(fitted_values_1),\n",
    "  original = as.numeric(temps_ts[2428:2459]),\n",
    "  hw_1 = as.numeric(fitted_values_1),\n",
    "  hw_2 = as.numeric(fitted_values_2),\n",
    "  hw_3 = as.numeric(fitted_values_3),\n",
    "  hw_4 = as.numeric(fitted_values_4)\n",
    ")\n",
    "\n",
    "ggplot(temps_ts_plot, aes(x = index)) +\n",
    "  geom_line(aes(y = original, color = \"Original\"), linetype = \"solid\", size = 1) +\n",
    "  geom_line(aes(y = hw_1, color = \"Holt-Winters 1\"), linetype = \"dashed\", size = 1) +\n",
    "  geom_line(aes(y = hw_2, color = \"Holt-Winters 2\"), linetype = \"dashed\", size = 1) +\n",
    "  geom_line(aes(y = hw_3, color = \"Holt-Winters 3A\"), linetype = \"dashed\", size = 1) +\n",
    "  geom_line(aes(y = hw_4, color = \"Holt-Winters 3M\"), linetype = \"dashed\", size = 1) +\n",
    "  labs(x = \"Index\", y = \"Values\", title = \"Original vs. Holt-Winters Fitted Values for October 2015\") +\n",
    "  theme_minimal() +\n",
    "  theme(legend.position = \"top\") +\n",
    "  scale_color_manual(values = c(\"Original\" = \"blue\", \"Holt-Winters 1\" = \"red\", \"Holt-Winters 2\" = \"green\", \"Holt-Winters 3A\" = \"purple\", \"Holt-Winters 3M\" = \"orange\")) +\n",
    "  scale_linetype_manual(values = c(\"Original\" = \"solid\", \"Holt-Winters 1\" = \"dashed\", \"Holt-Winters 2\" = \"dashed\", \"Holt-Winters 3A\" = \"dashed\", \"Holt-Winters 3M\" = \"dashed\")) +\n",
    "  scale_size_manual(values = rep(1, 5))"
   ]
  },
  {
   "cell_type": "markdown",
   "id": "6cd0d6be-b70e-4afb-85df-1ee09d88e594",
   "metadata": {},
   "source": [
    "#### Step 3 - Analyze the models to see if trend and seasonality play a role\n",
    "Now that the models have been created I am going to look at which model has produced the best results, as well as the trend and seasonality values to see if their is an overall trend in the temperatures data."
   ]
  },
  {
   "cell_type": "code",
   "execution_count": 18,
   "id": "c0203417-a53b-4c9b-89f9-b266f000d668",
   "metadata": {},
   "outputs": [
    {
     "name": "stdout",
     "output_type": "stream",
     "text": [
      "The SSE for single exponential smoothing model: 56198.1\n",
      "The SSE for double exponential smoothing model: 56572.54\n",
      "The SSE for triple exponential smoothing model using additive seasonality: 66244.25\n",
      "The SSE for triple exponential smoothing model using multiplitive seasonality: 68904.57"
     ]
    }
   ],
   "source": [
    "# Get the final sum of squared errors achieved in optimizing each model\n",
    "cat(\"The SSE for single exponential smoothing model:\", temps_hw_1$SSE)\n",
    "cat(\"\\n\")\n",
    "cat(\"The SSE for double exponential smoothing model:\", temps_hw_2$SSE)\n",
    "cat(\"\\n\")\n",
    "cat(\"The SSE for triple exponential smoothing model using additive seasonality:\", temps_hw_3_add$SSE)\n",
    "cat(\"\\n\")\n",
    "cat(\"The SSE for triple exponential smoothing model using multiplitive seasonality:\", temps_hw_3_mult$SSE)"
   ]
  },
  {
   "cell_type": "markdown",
   "id": "f7e24ae9-b364-4ded-9208-651b5d8209bd",
   "metadata": {},
   "source": [
    "Interestingly enough **the single exponential smoothing model seems to match the original dataset the best and has the smallest Sum of Squared Errors value**. When comparing both triple exponenential smoothing models, using additive seasonality seems to produce slightly better results in terms of the Sum of Squared Errors value."
   ]
  },
  {
   "cell_type": "code",
   "execution_count": 19,
   "id": "3902b4f1-096c-428d-9932-aac22453ee9e",
   "metadata": {},
   "outputs": [
    {
     "name": "stdout",
     "output_type": "stream",
     "text": [
      "The beta value for the double exponential smoothing model is: 0.003720884 and the final b value is: -0.0729933\n",
      "The beta value for the triple exponential smoothing model using multiplicative seasonality is: 0 and the final b value is: -0.004362918\n",
      "The beta value for the triple exponential smoothing model using additive seasonality is: 0 and the final b value is: -0.004362918\n"
     ]
    }
   ],
   "source": [
    "# Output the model beta coefficients and final b value for hw_2, hw_3_add, and hw_3_mult\n",
    "cat(\"The beta value for the double exponential smoothing model is:\",temps_hw_2$beta, \"and the final b value is:\",temps_hw_2$coefficients['b'])\n",
    "cat(\"\\n\")\n",
    "cat(\"The beta value for the triple exponential smoothing model using multiplicative seasonality is:\",temps_hw_3_mult$beta, \"and the final b value is:\",temps_hw_3_mult$coefficients['b'])\n",
    "cat(\"\\n\")\n",
    "cat(\"The beta value for the triple exponential smoothing model using additive seasonality is:\",temps_hw_3_add$beta, \"and the final b value is:\",temps_hw_3_mult$coefficients['b'])\n",
    "cat(\"\\n\")"
   ]
  },
  {
   "cell_type": "markdown",
   "id": "91d2d6f6-ff3b-46d5-9c7d-969a2b396235",
   "metadata": {},
   "source": [
    "The trend values shown above (final trend estimate b and the beta value) are very small indicating that **their is not a strong trend showing a change in temperature over time.**"
   ]
  },
  {
   "cell_type": "markdown",
   "id": "5d2cd5c9-c139-486b-b87a-58fdb2f180d0",
   "metadata": {},
   "source": [
    "#### Step 4 - Apply the CUSUM model to the seasonality values\n",
    "The last thing I am going to do is to apply the CUSUM model to the seasonality values from the triple exponential smoothing model. I want to see if the seasonality value is changing year over year which could indicate a change in when summer is ending. I am going to use the additive seasonality model as it had the lower Sum of Squared Errors value indicating that it fit the data slightly better. To get a better sense of the different components of the additive seasonality model I am going to start by ploting them."
   ]
  },
  {
   "cell_type": "code",
   "execution_count": 20,
   "id": "03bc875b-b44f-404f-b125-c0ea0ff8cfa5",
   "metadata": {},
   "outputs": [
    {
     "data": {
      "image/png": "[encoded data removed]",
      "text/plain": [
       "plot without title"
      ]
     },
     "metadata": {},
     "output_type": "display_data"
    }
   ],
   "source": [
    "# Plot the additive seasonality triple exponential smoothing model\n",
    "plot(temps_hw_3_add$fitted)"
   ]
  },
  {
   "cell_type": "markdown",
   "id": "a8b77cd4-bcfe-4122-8a62-e7eb183921a5",
   "metadata": {},
   "source": [
    "Looking at the graph above the first thing I notice is that the trend value is very, very small (~ -0.0045) which is what I expected based on the output of the previous models. Next, looking at the seasonality factor it does seem to change slightly over time, with the minimum values (~ -20) occuring in the first few years and the maximum values (~20) occuring in the last few years. It will be interesting to see if the CUSUM model shows this as being significant. Next I'll pull the seasonality values from the Holt-Winters model and prepare it for the CUSUM model. I am going to create a dataframe with the day for each row and a column for each year with the corresponding seasonality values in it."
   ]
  },
  {
   "cell_type": "code",
   "execution_count": 21,
   "id": "11cdeb1e-abfb-440f-8c0f-56f1e013b196",
   "metadata": {},
   "outputs": [
    {
     "data": {
      "text/html": [
       "<table>\n",
       "<thead><tr><th scope=col>Day</th><th scope=col>X1997</th><th scope=col>X1998</th><th scope=col>X1999</th><th scope=col>X2000</th><th scope=col>X2001</th><th scope=col>X2002</th><th scope=col>X2003</th><th scope=col>X2004</th><th scope=col>X2005</th><th scope=col>X2006</th><th scope=col>X2007</th><th scope=col>X2008</th><th scope=col>X2009</th><th scope=col>X2010</th><th scope=col>X2011</th><th scope=col>X2012</th><th scope=col>X2013</th><th scope=col>X2014</th><th scope=col>X2015</th></tr></thead>\n",
       "<tbody>\n",
       "\t<tr><td>1-Jul    </td><td> 4.303159</td><td> 4.054077</td><td> 9.349191</td><td> 8.130519</td><td> 9.261932</td><td> 8.532675</td><td>10.833750</td><td>10.596553</td><td> 9.559008</td><td> 9.526730</td><td>12.454249</td><td>15.18901 </td><td>15.052357</td><td>17.963213</td><td>17.946705</td><td>17.796582</td><td>22.385105</td><td>21.31072 </td><td>19.45438 </td></tr>\n",
       "\t<tr><td>2-Jul    </td><td> 8.238119</td><td> 8.168393</td><td> 8.457426</td><td> 7.810603</td><td> 8.686298</td><td> 9.197265</td><td> 9.837370</td><td>11.663073</td><td>10.874704</td><td>10.162519</td><td>11.021049</td><td>10.13469 </td><td>11.583196</td><td>12.246533</td><td>12.817176</td><td>14.277046</td><td>14.037278</td><td>16.07719 </td><td>17.19256 </td></tr>\n",
       "\t<tr><td>3-Jul    </td><td>11.091777</td><td>11.100059</td><td>11.213419</td><td>11.470326</td><td>11.416575</td><td>11.012491</td><td>10.210645</td><td>12.021948</td><td>12.738520</td><td>11.468041</td><td>11.483482</td><td>10.45074 </td><td>11.722773</td><td>11.707197</td><td>11.803979</td><td>12.726046</td><td>14.244787</td><td>12.98723 </td><td>12.74993 </td></tr>\n",
       "\t<tr><td>4-Jul    </td><td> 9.042997</td><td> 9.057058</td><td> 9.529053</td><td>10.185524</td><td>10.863856</td><td>10.209557</td><td>10.532285</td><td>10.867244</td><td>11.779117</td><td>11.552601</td><td>11.117308</td><td>11.69283 </td><td>11.650082</td><td>12.084663</td><td>12.461996</td><td>12.000781</td><td>12.458283</td><td>12.62307 </td><td>11.98537 </td></tr>\n",
       "\t<tr><td>5-Jul    </td><td> 2.067387</td><td> 2.067912</td><td> 3.708913</td><td> 5.588420</td><td> 7.004562</td><td> 8.024549</td><td> 9.444664</td><td> 8.518818</td><td> 9.749682</td><td>10.738920</td><td>10.552850</td><td>11.29192 </td><td>10.939712</td><td> 8.908885</td><td>10.345553</td><td>10.214813</td><td>11.172561</td><td>12.77225 </td><td>12.94898 </td></tr>\n",
       "\t<tr><td>6-Jul    </td><td> 2.116168</td><td> 2.106939</td><td> 2.232254</td><td> 3.394700</td><td> 4.340175</td><td> 5.462823</td><td> 6.487578</td><td> 7.648008</td><td> 8.250531</td><td> 7.421824</td><td> 6.156207</td><td> 7.12694 </td><td> 6.619883</td><td> 8.329696</td><td> 9.151988</td><td> 9.361362</td><td> 9.444097</td><td>10.35325 </td><td>11.13812 </td></tr>\n",
       "</tbody>\n",
       "</table>\n"
      ],
      "text/latex": [
       "\\begin{tabular}{r|llllllllllllllllllll}\n",
       " Day & X1997 & X1998 & X1999 & X2000 & X2001 & X2002 & X2003 & X2004 & X2005 & X2006 & X2007 & X2008 & X2009 & X2010 & X2011 & X2012 & X2013 & X2014 & X2015\\\\\n",
       "\\hline\n",
       "\t 1-Jul     &  4.303159 &  4.054077 &  9.349191 &  8.130519 &  9.261932 &  8.532675 & 10.833750 & 10.596553 &  9.559008 &  9.526730 & 12.454249 & 15.18901  & 15.052357 & 17.963213 & 17.946705 & 17.796582 & 22.385105 & 21.31072  & 19.45438 \\\\\n",
       "\t 2-Jul     &  8.238119 &  8.168393 &  8.457426 &  7.810603 &  8.686298 &  9.197265 &  9.837370 & 11.663073 & 10.874704 & 10.162519 & 11.021049 & 10.13469  & 11.583196 & 12.246533 & 12.817176 & 14.277046 & 14.037278 & 16.07719  & 17.19256 \\\\\n",
       "\t 3-Jul     & 11.091777 & 11.100059 & 11.213419 & 11.470326 & 11.416575 & 11.012491 & 10.210645 & 12.021948 & 12.738520 & 11.468041 & 11.483482 & 10.45074  & 11.722773 & 11.707197 & 11.803979 & 12.726046 & 14.244787 & 12.98723  & 12.74993 \\\\\n",
       "\t 4-Jul     &  9.042997 &  9.057058 &  9.529053 & 10.185524 & 10.863856 & 10.209557 & 10.532285 & 10.867244 & 11.779117 & 11.552601 & 11.117308 & 11.69283  & 11.650082 & 12.084663 & 12.461996 & 12.000781 & 12.458283 & 12.62307  & 11.98537 \\\\\n",
       "\t 5-Jul     &  2.067387 &  2.067912 &  3.708913 &  5.588420 &  7.004562 &  8.024549 &  9.444664 &  8.518818 &  9.749682 & 10.738920 & 10.552850 & 11.29192  & 10.939712 &  8.908885 & 10.345553 & 10.214813 & 11.172561 & 12.77225  & 12.94898 \\\\\n",
       "\t 6-Jul     &  2.116168 &  2.106939 &  2.232254 &  3.394700 &  4.340175 &  5.462823 &  6.487578 &  7.648008 &  8.250531 &  7.421824 &  6.156207 &  7.12694  &  6.619883 &  8.329696 &  9.151988 &  9.361362 &  9.444097 & 10.35325  & 11.13812 \\\\\n",
       "\\end{tabular}\n"
      ],
      "text/markdown": [
       "\n",
       "| Day | X1997 | X1998 | X1999 | X2000 | X2001 | X2002 | X2003 | X2004 | X2005 | X2006 | X2007 | X2008 | X2009 | X2010 | X2011 | X2012 | X2013 | X2014 | X2015 |\n",
       "|---|---|---|---|---|---|---|---|---|---|---|---|---|---|---|---|---|---|---|---|\n",
       "| 1-Jul     |  4.303159 |  4.054077 |  9.349191 |  8.130519 |  9.261932 |  8.532675 | 10.833750 | 10.596553 |  9.559008 |  9.526730 | 12.454249 | 15.18901  | 15.052357 | 17.963213 | 17.946705 | 17.796582 | 22.385105 | 21.31072  | 19.45438  |\n",
       "| 2-Jul     |  8.238119 |  8.168393 |  8.457426 |  7.810603 |  8.686298 |  9.197265 |  9.837370 | 11.663073 | 10.874704 | 10.162519 | 11.021049 | 10.13469  | 11.583196 | 12.246533 | 12.817176 | 14.277046 | 14.037278 | 16.07719  | 17.19256  |\n",
       "| 3-Jul     | 11.091777 | 11.100059 | 11.213419 | 11.470326 | 11.416575 | 11.012491 | 10.210645 | 12.021948 | 12.738520 | 11.468041 | 11.483482 | 10.45074  | 11.722773 | 11.707197 | 11.803979 | 12.726046 | 14.244787 | 12.98723  | 12.74993  |\n",
       "| 4-Jul     |  9.042997 |  9.057058 |  9.529053 | 10.185524 | 10.863856 | 10.209557 | 10.532285 | 10.867244 | 11.779117 | 11.552601 | 11.117308 | 11.69283  | 11.650082 | 12.084663 | 12.461996 | 12.000781 | 12.458283 | 12.62307  | 11.98537  |\n",
       "| 5-Jul     |  2.067387 |  2.067912 |  3.708913 |  5.588420 |  7.004562 |  8.024549 |  9.444664 |  8.518818 |  9.749682 | 10.738920 | 10.552850 | 11.29192  | 10.939712 |  8.908885 | 10.345553 | 10.214813 | 11.172561 | 12.77225  | 12.94898  |\n",
       "| 6-Jul     |  2.116168 |  2.106939 |  2.232254 |  3.394700 |  4.340175 |  5.462823 |  6.487578 |  7.648008 |  8.250531 |  7.421824 |  6.156207 |  7.12694  |  6.619883 |  8.329696 |  9.151988 |  9.361362 |  9.444097 | 10.35325  | 11.13812  |\n",
       "\n"
      ],
      "text/plain": [
       "  Day   X1997     X1998     X1999     X2000     X2001     X2002     X2003    \n",
       "1 1-Jul  4.303159  4.054077  9.349191  8.130519  9.261932  8.532675 10.833750\n",
       "2 2-Jul  8.238119  8.168393  8.457426  7.810603  8.686298  9.197265  9.837370\n",
       "3 3-Jul 11.091777 11.100059 11.213419 11.470326 11.416575 11.012491 10.210645\n",
       "4 4-Jul  9.042997  9.057058  9.529053 10.185524 10.863856 10.209557 10.532285\n",
       "5 5-Jul  2.067387  2.067912  3.708913  5.588420  7.004562  8.024549  9.444664\n",
       "6 6-Jul  2.116168  2.106939  2.232254  3.394700  4.340175  5.462823  6.487578\n",
       "  X2004     X2005     X2006     X2007     X2008    X2009     X2010    \n",
       "1 10.596553  9.559008  9.526730 12.454249 15.18901 15.052357 17.963213\n",
       "2 11.663073 10.874704 10.162519 11.021049 10.13469 11.583196 12.246533\n",
       "3 12.021948 12.738520 11.468041 11.483482 10.45074 11.722773 11.707197\n",
       "4 10.867244 11.779117 11.552601 11.117308 11.69283 11.650082 12.084663\n",
       "5  8.518818  9.749682 10.738920 10.552850 11.29192 10.939712  8.908885\n",
       "6  7.648008  8.250531  7.421824  6.156207  7.12694  6.619883  8.329696\n",
       "  X2011     X2012     X2013     X2014    X2015   \n",
       "1 17.946705 17.796582 22.385105 21.31072 19.45438\n",
       "2 12.817176 14.277046 14.037278 16.07719 17.19256\n",
       "3 11.803979 12.726046 14.244787 12.98723 12.74993\n",
       "4 12.461996 12.000781 12.458283 12.62307 11.98537\n",
       "5 10.345553 10.214813 11.172561 12.77225 12.94898\n",
       "6  9.151988  9.361362  9.444097 10.35325 11.13812"
      ]
     },
     "metadata": {},
     "output_type": "display_data"
    }
   ],
   "source": [
    "# Create dataframe similar to previous homework but with Seasonality values instead of temperatures\n",
    "seasonality_df <- data.frame(Day = temps_data$DAY, matrix(temps_hw_3_add$fitted[,4], ncol = 19))\n",
    "\n",
    "# Add Column names\n",
    "new_column_names <- c(\"Day\", \"X1997\", \"X1998\", \"X1999\", \"X2000\", \"X2001\", \"X2002\", \"X2003\", \"X2004\", \"X2005\", \"X2006\", \"X2007\", \"X2008\", \"X2009\", \"X2010\", \"X2011\", \"X2012\", \"X2013\", \"X2014\", \"X2015\")\n",
    "colnames(seasonality_df) <- new_column_names\n",
    "\n",
    "# Check new dataframe\n",
    "head(seasonality_df)"
   ]
  },
  {
   "cell_type": "markdown",
   "id": "5971e6ae-8db6-45c4-ba2e-4fcfef76ca15",
   "metadata": {},
   "source": [
    "For the T and C values I am going to set them as factors of the standard deviation for the first month of data"
   ]
  },
  {
   "cell_type": "code",
   "execution_count": 22,
   "id": "4c31b4c6-e64d-4eb1-a7eb-3ff0845f0af1",
   "metadata": {},
   "outputs": [
    {
     "name": "stdout",
     "output_type": "stream",
     "text": [
      "The C value is: 3.569673"
     ]
    }
   ],
   "source": [
    "column_stdev <- apply(seasonality_df[,2:ncol(seasonality_df)], 2, sd)\n",
    "average_sd <- mean(column_stdev)\n",
    "\n",
    "C <- 0.5 * average_sd\n",
    "T <- 50\n",
    "cat(\"The C value is:\",C)"
   ]
  },
  {
   "cell_type": "markdown",
   "id": "e45ee1b9-1940-4ef0-a655-12193b615bbb",
   "metadata": {},
   "source": [
    "Next I am going to create a new dataframe to store the CUSUM values and then loop through each column (year) and save the calculated CUSUM values to the dataframe. I am going to use the mean of the first month for the mu value for each year similar to HW 6.2 and since I am looking for when the seasonality value starts to decrease I am using the CUSUM equation that subtracts the seasonality and C value from the mean."
   ]
  },
  {
   "cell_type": "code",
   "execution_count": 23,
   "id": "4eb53677-6d2e-4e01-a73f-b941e8a140e8",
   "metadata": {},
   "outputs": [
    {
     "data": {
      "text/html": [
       "<table>\n",
       "<thead><tr><th scope=col>Day</th><th scope=col>X1997</th><th scope=col>X1998</th><th scope=col>X1999</th><th scope=col>X2000</th><th scope=col>X2001</th><th scope=col>X2002</th><th scope=col>X2003</th><th scope=col>X2004</th><th scope=col>X2005</th><th scope=col>X2006</th><th scope=col>X2007</th><th scope=col>X2008</th><th scope=col>X2009</th><th scope=col>X2010</th><th scope=col>X2011</th><th scope=col>X2012</th><th scope=col>X2013</th><th scope=col>X2014</th><th scope=col>X2015</th></tr></thead>\n",
       "<tbody>\n",
       "\t<tr><td>1-Jul</td><td>0    </td><td>0    </td><td>0    </td><td>0    </td><td>0    </td><td>0    </td><td>0    </td><td>0    </td><td>0    </td><td>0    </td><td>0    </td><td>0    </td><td>0    </td><td>0    </td><td>0    </td><td>0    </td><td>0    </td><td>0    </td><td>0    </td></tr>\n",
       "\t<tr><td>2-Jul</td><td>0    </td><td>0    </td><td>0    </td><td>0    </td><td>0    </td><td>0    </td><td>0    </td><td>0    </td><td>0    </td><td>0    </td><td>0    </td><td>0    </td><td>0    </td><td>0    </td><td>0    </td><td>0    </td><td>0    </td><td>0    </td><td>0    </td></tr>\n",
       "\t<tr><td>3-Jul</td><td>0    </td><td>0    </td><td>0    </td><td>0    </td><td>0    </td><td>0    </td><td>0    </td><td>0    </td><td>0    </td><td>0    </td><td>0    </td><td>0    </td><td>0    </td><td>0    </td><td>0    </td><td>0    </td><td>0    </td><td>0    </td><td>0    </td></tr>\n",
       "\t<tr><td>4-Jul</td><td>0    </td><td>0    </td><td>0    </td><td>0    </td><td>0    </td><td>0    </td><td>0    </td><td>0    </td><td>0    </td><td>0    </td><td>0    </td><td>0    </td><td>0    </td><td>0    </td><td>0    </td><td>0    </td><td>0    </td><td>0    </td><td>0    </td></tr>\n",
       "\t<tr><td>5-Jul</td><td>0    </td><td>0    </td><td>0    </td><td>0    </td><td>0    </td><td>0    </td><td>0    </td><td>0    </td><td>0    </td><td>0    </td><td>0    </td><td>0    </td><td>0    </td><td>0    </td><td>0    </td><td>0    </td><td>0    </td><td>0    </td><td>0    </td></tr>\n",
       "\t<tr><td>6-Jul</td><td>0    </td><td>0    </td><td>0    </td><td>0    </td><td>0    </td><td>0    </td><td>0    </td><td>0    </td><td>0    </td><td>0    </td><td>0    </td><td>0    </td><td>0    </td><td>0    </td><td>0    </td><td>0    </td><td>0    </td><td>0    </td><td>0    </td></tr>\n",
       "</tbody>\n",
       "</table>\n"
      ],
      "text/latex": [
       "\\begin{tabular}{r|llllllllllllllllllll}\n",
       " Day & X1997 & X1998 & X1999 & X2000 & X2001 & X2002 & X2003 & X2004 & X2005 & X2006 & X2007 & X2008 & X2009 & X2010 & X2011 & X2012 & X2013 & X2014 & X2015\\\\\n",
       "\\hline\n",
       "\t 1-Jul & 0     & 0     & 0     & 0     & 0     & 0     & 0     & 0     & 0     & 0     & 0     & 0     & 0     & 0     & 0     & 0     & 0     & 0     & 0    \\\\\n",
       "\t 2-Jul & 0     & 0     & 0     & 0     & 0     & 0     & 0     & 0     & 0     & 0     & 0     & 0     & 0     & 0     & 0     & 0     & 0     & 0     & 0    \\\\\n",
       "\t 3-Jul & 0     & 0     & 0     & 0     & 0     & 0     & 0     & 0     & 0     & 0     & 0     & 0     & 0     & 0     & 0     & 0     & 0     & 0     & 0    \\\\\n",
       "\t 4-Jul & 0     & 0     & 0     & 0     & 0     & 0     & 0     & 0     & 0     & 0     & 0     & 0     & 0     & 0     & 0     & 0     & 0     & 0     & 0    \\\\\n",
       "\t 5-Jul & 0     & 0     & 0     & 0     & 0     & 0     & 0     & 0     & 0     & 0     & 0     & 0     & 0     & 0     & 0     & 0     & 0     & 0     & 0    \\\\\n",
       "\t 6-Jul & 0     & 0     & 0     & 0     & 0     & 0     & 0     & 0     & 0     & 0     & 0     & 0     & 0     & 0     & 0     & 0     & 0     & 0     & 0    \\\\\n",
       "\\end{tabular}\n"
      ],
      "text/markdown": [
       "\n",
       "| Day | X1997 | X1998 | X1999 | X2000 | X2001 | X2002 | X2003 | X2004 | X2005 | X2006 | X2007 | X2008 | X2009 | X2010 | X2011 | X2012 | X2013 | X2014 | X2015 |\n",
       "|---|---|---|---|---|---|---|---|---|---|---|---|---|---|---|---|---|---|---|---|\n",
       "| 1-Jul | 0     | 0     | 0     | 0     | 0     | 0     | 0     | 0     | 0     | 0     | 0     | 0     | 0     | 0     | 0     | 0     | 0     | 0     | 0     |\n",
       "| 2-Jul | 0     | 0     | 0     | 0     | 0     | 0     | 0     | 0     | 0     | 0     | 0     | 0     | 0     | 0     | 0     | 0     | 0     | 0     | 0     |\n",
       "| 3-Jul | 0     | 0     | 0     | 0     | 0     | 0     | 0     | 0     | 0     | 0     | 0     | 0     | 0     | 0     | 0     | 0     | 0     | 0     | 0     |\n",
       "| 4-Jul | 0     | 0     | 0     | 0     | 0     | 0     | 0     | 0     | 0     | 0     | 0     | 0     | 0     | 0     | 0     | 0     | 0     | 0     | 0     |\n",
       "| 5-Jul | 0     | 0     | 0     | 0     | 0     | 0     | 0     | 0     | 0     | 0     | 0     | 0     | 0     | 0     | 0     | 0     | 0     | 0     | 0     |\n",
       "| 6-Jul | 0     | 0     | 0     | 0     | 0     | 0     | 0     | 0     | 0     | 0     | 0     | 0     | 0     | 0     | 0     | 0     | 0     | 0     | 0     |\n",
       "\n"
      ],
      "text/plain": [
       "  Day   X1997 X1998 X1999 X2000 X2001 X2002 X2003 X2004 X2005 X2006 X2007 X2008\n",
       "1 1-Jul 0     0     0     0     0     0     0     0     0     0     0     0    \n",
       "2 2-Jul 0     0     0     0     0     0     0     0     0     0     0     0    \n",
       "3 3-Jul 0     0     0     0     0     0     0     0     0     0     0     0    \n",
       "4 4-Jul 0     0     0     0     0     0     0     0     0     0     0     0    \n",
       "5 5-Jul 0     0     0     0     0     0     0     0     0     0     0     0    \n",
       "6 6-Jul 0     0     0     0     0     0     0     0     0     0     0     0    \n",
       "  X2009 X2010 X2011 X2012 X2013 X2014 X2015\n",
       "1 0     0     0     0     0     0     0    \n",
       "2 0     0     0     0     0     0     0    \n",
       "3 0     0     0     0     0     0     0    \n",
       "4 0     0     0     0     0     0     0    \n",
       "5 0     0     0     0     0     0     0    \n",
       "6 0     0     0     0     0     0     0    "
      ]
     },
     "metadata": {},
     "output_type": "display_data"
    }
   ],
   "source": [
    "# Create cusum_df, will start with values from seasonality so it has the right dimensions but will replace all the values as I go\n",
    "cusum_df <- seasonality_df\n",
    "\n",
    "# Loop through each column in the dataframe except for the first column that contains the date\n",
    "for (j in 2:ncol(cusum_df)) {\n",
    "    year_mean <- mean(seasonality_df[1:31, j]) # Using July for the mean Seasonality value\n",
    "    for (i in 1:nrow(cusum_df)) {\n",
    "        if (i == 1) {                          # Make sure that the previous value is 0 for the first iteration\n",
    "            previous_value <- 0\n",
    "        } else {\n",
    "            previous_value <- cusum_df[i-1, j]\n",
    "        }\n",
    "        cusum_df[i, j] <- pmax(0, previous_value + (year_mean - C - seasonality_df[i, j])) # Calculate the CUSUM value and save it to the df\n",
    "        }\n",
    "    }\n",
    "\n",
    "# I want to take a look at the dataframe, note that the first values are during summer and have a positive seasonality so are all showing 0\n",
    "head(cusum_df)"
   ]
  },
  {
   "cell_type": "markdown",
   "id": "5fb43154-98df-42eb-81be-959622152451",
   "metadata": {},
   "source": [
    "Next I am going to plot the CUSUM value for each year to see the general trend and compare it to the set threshold value T"
   ]
  },
  {
   "cell_type": "code",
   "execution_count": 24,
   "id": "87939cd0-1fca-4110-a666-39b68fdfc3ae",
   "metadata": {},
   "outputs": [
    {
     "data": {
      "image/png": "[encoded data removed]",
      "text/plain": [
       "plot without title"
      ]
     },
     "metadata": {},
     "output_type": "display_data"
    }
   ],
   "source": [
    "# Reshape the data into long format for plotting\n",
    "cusum_df_long <- gather(cusum_df, key = \"Year\", value = \"Temperature\", -Day)\n",
    "\n",
    "# Convert Day column to Date type\n",
    "cusum_df_long$Day <- as.Date(cusum_df_long$Day, format = \"%d-%b\")\n",
    "\n",
    "# Plot the data\n",
    "ggplot(data = cusum_df_long, aes(x = Day, y = Temperature, color = Year)) +\n",
    "  geom_line() +\n",
    "  geom_point() +\n",
    "  ggtitle(\"CUSUM Plot for Seasonality Values from Holt-Winter Model\") +\n",
    "  geom_hline(yintercept = T, linetype = \"dashed\", color = \"red\") +\n",
    "  scale_color_discrete(name = \"Year\") +\n",
    "  annotate(\"text\", x = as.Date(\"2024-07-30\"),  y = T+25, label = \"Threshold Value\", vjust = 1.5, color = \"red\")"
   ]
  },
  {
   "cell_type": "markdown",
   "id": "69ebea86-1927-4c6b-9e92-8f3a8b39b341",
   "metadata": {},
   "source": [
    "Lastly, I am going to create a new dataframe that has the index of the row where each year crosses the threshold value and plot those values. The index corresponds to the number of days from July 1st where the threshold value is crossed."
   ]
  },
  {
   "cell_type": "code",
   "execution_count": 25,
   "id": "79c2b2a0-87e4-455c-8dde-63022ec84ec5",
   "metadata": {},
   "outputs": [
    {
     "data": {
      "image/png": "[encoded data removed]",
      "text/plain": [
       "plot without title"
      ]
     },
     "metadata": {},
     "output_type": "display_data"
    }
   ],
   "source": [
    "# Create dataframe to store index values\n",
    "output_df <- data.frame(Year = 1997:2015, days_past = 0)\n",
    "\n",
    "# Loop through each year and find the index of when the threshold value is crossed\n",
    "for (j in 1:19) {\n",
    "    crossed_value_index <- min(which(cusum_df[,j+1] >= T))\n",
    "    output_df$days_past[j] = crossed_value_index\n",
    "    }\n",
    "\n",
    "# Plot the # of days from July 1st to when the index value is crossed for each year\n",
    "ggplot(data = output_df, aes(x = Year, y= days_past)) +\n",
    "  geom_line() +\n",
    "  geom_point() +\n",
    "  ylab(\"Days Since July 1st\") +\n",
    "  ggtitle(\"Days since July 1st for Seasonality Value to Cross Threshold\")"
   ]
  },
  {
   "cell_type": "markdown",
   "id": "fcbf315d-0865-4c5e-bfff-abb3120c3775",
   "metadata": {},
   "source": [
    "What the graph above shows is that the seasonality value does seem to decrease sooner (less days since July 1st) as time goes on which would indicate that summer is ending later. However, this can easily be flipped by changing the C value I use. If I use a C value of 0.75 * sd then the days from July 1st hardly change year over year, if I use a C value of 1 * sd it shows the seasonality value actually changing later as time goes on. Without more context about the problem, and more data to analyze, **I can't draw a conlusion regarding the end of summer shifting over time.**"
   ]
  }
 ],
 "metadata": {
  "kernelspec": {
   "display_name": "R",
   "language": "R",
   "name": "ir"
  },
  "language_info": {
   "codemirror_mode": "r",
   "file_extension": ".r",
   "mimetype": "text/x-r-source",
   "name": "R",
   "pygments_lexer": "r",
   "version": "3.6.1"
  }
 },
 "nbformat": 4,
 "nbformat_minor": 5
}
